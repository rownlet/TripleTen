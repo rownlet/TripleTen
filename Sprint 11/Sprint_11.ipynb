{
 "cells": [
  {
   "cell_type": "markdown",
   "metadata": {},
   "source": [
    "# Descripción del problema"
   ]
  },
  {
   "cell_type": "markdown",
   "metadata": {},
   "source": [
    "La compañía de seguros Sure Tomorrow quiere resolver varias tareas con la ayuda de machine learning y te pide que evalúes esa posibilidad.\n",
    "\n",
    "- __Tarea 1__: encontrar clientes que sean similares a un cliente determinado. Esto ayudará a los agentes de la compañía con el marketing.\n",
    "<br>\n",
    "\n",
    "- __Tarea 2__: predecir la probabilidad de que un nuevo cliente reciba una prestación del seguro. ¿Puede un modelo de predictivo funcionar mejor que un modelo dummy?\n",
    "<br>\n",
    "\n",
    "- __Tarea 3__: predecir el número de prestaciones de seguro que un nuevo cliente pueda recibir utilizando un modelo de regresión lineal.\n",
    "<br>\n",
    "\n",
    "- __Tarea 4__: proteger los datos personales de los clientes sin afectar al modelo del ejercicio anterior. Es necesario desarrollar un algoritmo de transformación de datos que dificulte la recuperación de la información personal si los datos caen en manos equivocadas. Esto se denomina enmascaramiento u ofuscación de datos. Pero los datos deben protegerse de tal manera que no se vea afectada la calidad de los modelos de machine learning. No es necesario elegir el mejor modelo, basta con demostrar que el algoritmo funciona correctamente."
   ]
  },
  {
   "cell_type": "markdown",
   "metadata": {},
   "source": [
    "# Preprocesamiento y exploración de datos\n",
    "\n",
    "## Inicialización"
   ]
  },
  {
   "cell_type": "code",
   "execution_count": 3,
   "metadata": {},
   "outputs": [
    {
     "name": "stdout",
     "output_type": "stream",
     "text": [
      "Collecting scikit-learn\n",
      "  Downloading scikit_learn-1.5.1-cp310-cp310-manylinux_2_17_x86_64.manylinux2014_x86_64.whl (13.4 MB)\n",
      "\u001b[2K     \u001b[90m━━━━━━━━━━━━━━━━━━━━━━━━━━━━━━━━━━━━━━━━\u001b[0m \u001b[32m13.4/13.4 MB\u001b[0m \u001b[31m68.0 MB/s\u001b[0m eta \u001b[36m0:00:00\u001b[0m00:01\u001b[0m00:01\u001b[0m\n",
      "\u001b[?25hCollecting numpy>=1.19.5\n",
      "  Downloading numpy-2.1.0-cp310-cp310-manylinux_2_17_x86_64.manylinux2014_x86_64.whl (16.3 MB)\n",
      "\u001b[2K     \u001b[90m━━━━━━━━━━━━━━━━━━━━━━━━━━━━━━━━━━━━━━━━\u001b[0m \u001b[32m16.3/16.3 MB\u001b[0m \u001b[31m60.4 MB/s\u001b[0m eta \u001b[36m0:00:00\u001b[0m00:01\u001b[0m00:01\u001b[0m\n",
      "\u001b[?25hCollecting joblib>=1.2.0\n",
      "  Downloading joblib-1.4.2-py3-none-any.whl (301 kB)\n",
      "\u001b[2K     \u001b[90m━━━━━━━━━━━━━━━━━━━━━━━━━━━━━━━━━━━━━━\u001b[0m \u001b[32m301.8/301.8 kB\u001b[0m \u001b[31m40.7 MB/s\u001b[0m eta \u001b[36m0:00:00\u001b[0m\n",
      "\u001b[?25hCollecting scipy>=1.6.0\n",
      "  Downloading scipy-1.14.1-cp310-cp310-manylinux_2_17_x86_64.manylinux2014_x86_64.whl (41.2 MB)\n",
      "\u001b[2K     \u001b[90m━━━━━━━━━━━━━━━━━━━━━━━━━━━━━━━━━━━━━━━━\u001b[0m \u001b[32m41.2/41.2 MB\u001b[0m \u001b[31m36.4 MB/s\u001b[0m eta \u001b[36m0:00:00\u001b[0m00:01\u001b[0m00:01\u001b[0m\n",
      "\u001b[?25hCollecting threadpoolctl>=3.1.0\n",
      "  Downloading threadpoolctl-3.5.0-py3-none-any.whl (18 kB)\n",
      "Installing collected packages: threadpoolctl, numpy, joblib, scipy, scikit-learn\n",
      "Successfully installed joblib-1.4.2 numpy-2.1.0 scikit-learn-1.5.1 scipy-1.14.1 threadpoolctl-3.5.0\n"
     ]
    }
   ],
   "source": [
    "# Instalar la version mas reciente de la biblioteca scikit-learn\n",
    "!pip install scikit-learn --upgrade"
   ]
  },
  {
   "cell_type": "code",
   "execution_count": 4,
   "metadata": {},
   "outputs": [],
   "source": [
    "#Importar librerias para el proyecto\n",
    "import numpy as np\n",
    "import pandas as pd\n",
    "\n",
    "import seaborn as sns\n",
    "\n",
    "import sklearn.linear_model\n",
    "import sklearn.metrics\n",
    "import sklearn.neighbors\n",
    "import sklearn.preprocessing\n",
    "\n",
    "from sklearn.model_selection import train_test_split\n",
    "\n",
    "from IPython.display import display"
   ]
  },
  {
   "cell_type": "markdown",
   "metadata": {},
   "source": [
    "## Carga de datos"
   ]
  },
  {
   "cell_type": "markdown",
   "metadata": {},
   "source": [
    "Carga los datos y haz una revisión básica para comprobar que no hay problemas obvios."
   ]
  },
  {
   "cell_type": "code",
   "execution_count": 5,
   "metadata": {},
   "outputs": [],
   "source": [
    "df = pd.read_csv('/datasets/insurance_us.csv')"
   ]
  },
  {
   "cell_type": "markdown",
   "metadata": {},
   "source": [
    "Renombramos las columnas para que el código se vea más coherente con su estilo."
   ]
  },
  {
   "cell_type": "code",
   "execution_count": 6,
   "metadata": {},
   "outputs": [],
   "source": [
    "df = df.rename(columns={'Gender': 'gender', 'Age': 'age', 'Salary': 'income', 'Family members': 'family_members', 'Insurance benefits': 'insurance_benefits'})"
   ]
  },
  {
   "cell_type": "code",
   "execution_count": 7,
   "metadata": {},
   "outputs": [
    {
     "data": {
      "text/html": [
       "<div>\n",
       "<style scoped>\n",
       "    .dataframe tbody tr th:only-of-type {\n",
       "        vertical-align: middle;\n",
       "    }\n",
       "\n",
       "    .dataframe tbody tr th {\n",
       "        vertical-align: top;\n",
       "    }\n",
       "\n",
       "    .dataframe thead th {\n",
       "        text-align: right;\n",
       "    }\n",
       "</style>\n",
       "<table border=\"1\" class=\"dataframe\">\n",
       "  <thead>\n",
       "    <tr style=\"text-align: right;\">\n",
       "      <th></th>\n",
       "      <th>gender</th>\n",
       "      <th>age</th>\n",
       "      <th>income</th>\n",
       "      <th>family_members</th>\n",
       "      <th>insurance_benefits</th>\n",
       "    </tr>\n",
       "  </thead>\n",
       "  <tbody>\n",
       "    <tr>\n",
       "      <th>1983</th>\n",
       "      <td>0</td>\n",
       "      <td>26.0</td>\n",
       "      <td>42200.0</td>\n",
       "      <td>0</td>\n",
       "      <td>0</td>\n",
       "    </tr>\n",
       "    <tr>\n",
       "      <th>4408</th>\n",
       "      <td>1</td>\n",
       "      <td>24.0</td>\n",
       "      <td>48000.0</td>\n",
       "      <td>0</td>\n",
       "      <td>0</td>\n",
       "    </tr>\n",
       "    <tr>\n",
       "      <th>3614</th>\n",
       "      <td>1</td>\n",
       "      <td>24.0</td>\n",
       "      <td>32700.0</td>\n",
       "      <td>1</td>\n",
       "      <td>0</td>\n",
       "    </tr>\n",
       "    <tr>\n",
       "      <th>4586</th>\n",
       "      <td>0</td>\n",
       "      <td>45.0</td>\n",
       "      <td>49500.0</td>\n",
       "      <td>0</td>\n",
       "      <td>1</td>\n",
       "    </tr>\n",
       "    <tr>\n",
       "      <th>1581</th>\n",
       "      <td>0</td>\n",
       "      <td>24.0</td>\n",
       "      <td>57400.0</td>\n",
       "      <td>1</td>\n",
       "      <td>0</td>\n",
       "    </tr>\n",
       "    <tr>\n",
       "      <th>2153</th>\n",
       "      <td>0</td>\n",
       "      <td>35.0</td>\n",
       "      <td>39300.0</td>\n",
       "      <td>1</td>\n",
       "      <td>0</td>\n",
       "    </tr>\n",
       "    <tr>\n",
       "      <th>3144</th>\n",
       "      <td>1</td>\n",
       "      <td>41.0</td>\n",
       "      <td>43500.0</td>\n",
       "      <td>1</td>\n",
       "      <td>0</td>\n",
       "    </tr>\n",
       "    <tr>\n",
       "      <th>4635</th>\n",
       "      <td>1</td>\n",
       "      <td>24.0</td>\n",
       "      <td>30000.0</td>\n",
       "      <td>1</td>\n",
       "      <td>0</td>\n",
       "    </tr>\n",
       "    <tr>\n",
       "      <th>4931</th>\n",
       "      <td>0</td>\n",
       "      <td>21.0</td>\n",
       "      <td>48300.0</td>\n",
       "      <td>2</td>\n",
       "      <td>0</td>\n",
       "    </tr>\n",
       "    <tr>\n",
       "      <th>4054</th>\n",
       "      <td>0</td>\n",
       "      <td>42.0</td>\n",
       "      <td>56300.0</td>\n",
       "      <td>1</td>\n",
       "      <td>1</td>\n",
       "    </tr>\n",
       "  </tbody>\n",
       "</table>\n",
       "</div>"
      ],
      "text/plain": [
       "      gender   age   income  family_members  insurance_benefits\n",
       "1983       0  26.0  42200.0               0                   0\n",
       "4408       1  24.0  48000.0               0                   0\n",
       "3614       1  24.0  32700.0               1                   0\n",
       "4586       0  45.0  49500.0               0                   1\n",
       "1581       0  24.0  57400.0               1                   0\n",
       "2153       0  35.0  39300.0               1                   0\n",
       "3144       1  41.0  43500.0               1                   0\n",
       "4635       1  24.0  30000.0               1                   0\n",
       "4931       0  21.0  48300.0               2                   0\n",
       "4054       0  42.0  56300.0               1                   1"
      ]
     },
     "execution_count": 7,
     "metadata": {},
     "output_type": "execute_result"
    }
   ],
   "source": [
    "df.sample(10)"
   ]
  },
  {
   "cell_type": "code",
   "execution_count": 8,
   "metadata": {},
   "outputs": [
    {
     "name": "stdout",
     "output_type": "stream",
     "text": [
      "<class 'pandas.core.frame.DataFrame'>\n",
      "RangeIndex: 5000 entries, 0 to 4999\n",
      "Data columns (total 5 columns):\n",
      " #   Column              Non-Null Count  Dtype  \n",
      "---  ------              --------------  -----  \n",
      " 0   gender              5000 non-null   int64  \n",
      " 1   age                 5000 non-null   float64\n",
      " 2   income              5000 non-null   float64\n",
      " 3   family_members      5000 non-null   int64  \n",
      " 4   insurance_benefits  5000 non-null   int64  \n",
      "dtypes: float64(2), int64(3)\n",
      "memory usage: 195.4 KB\n"
     ]
    }
   ],
   "source": [
    "df.info()"
   ]
  },
  {
   "cell_type": "code",
   "execution_count": 9,
   "metadata": {},
   "outputs": [],
   "source": [
    "# puede que queramos cambiar el tipo de edad (de float a int) aunque esto no es crucial\n",
    "\n",
    "# escribe tu conversión aquí si lo deseas:\n",
    "df['age'] = df['age'].astype('int') "
   ]
  },
  {
   "cell_type": "code",
   "execution_count": 10,
   "metadata": {},
   "outputs": [
    {
     "data": {
      "text/plain": [
       "dtype('int64')"
      ]
     },
     "execution_count": 10,
     "metadata": {},
     "output_type": "execute_result"
    }
   ],
   "source": [
    "# comprueba que la conversión se haya realizado con éxito\n",
    "\n",
    "df['age'].dtype"
   ]
  },
  {
   "cell_type": "code",
   "execution_count": 11,
   "metadata": {},
   "outputs": [
    {
     "data": {
      "text/html": [
       "<div>\n",
       "<style scoped>\n",
       "    .dataframe tbody tr th:only-of-type {\n",
       "        vertical-align: middle;\n",
       "    }\n",
       "\n",
       "    .dataframe tbody tr th {\n",
       "        vertical-align: top;\n",
       "    }\n",
       "\n",
       "    .dataframe thead th {\n",
       "        text-align: right;\n",
       "    }\n",
       "</style>\n",
       "<table border=\"1\" class=\"dataframe\">\n",
       "  <thead>\n",
       "    <tr style=\"text-align: right;\">\n",
       "      <th></th>\n",
       "      <th>gender</th>\n",
       "      <th>age</th>\n",
       "      <th>income</th>\n",
       "      <th>family_members</th>\n",
       "      <th>insurance_benefits</th>\n",
       "    </tr>\n",
       "  </thead>\n",
       "  <tbody>\n",
       "    <tr>\n",
       "      <th>count</th>\n",
       "      <td>5000.000000</td>\n",
       "      <td>5000.000000</td>\n",
       "      <td>5000.000000</td>\n",
       "      <td>5000.000000</td>\n",
       "      <td>5000.000000</td>\n",
       "    </tr>\n",
       "    <tr>\n",
       "      <th>mean</th>\n",
       "      <td>0.499000</td>\n",
       "      <td>30.952800</td>\n",
       "      <td>39916.360000</td>\n",
       "      <td>1.194200</td>\n",
       "      <td>0.148000</td>\n",
       "    </tr>\n",
       "    <tr>\n",
       "      <th>std</th>\n",
       "      <td>0.500049</td>\n",
       "      <td>8.440807</td>\n",
       "      <td>9900.083569</td>\n",
       "      <td>1.091387</td>\n",
       "      <td>0.463183</td>\n",
       "    </tr>\n",
       "    <tr>\n",
       "      <th>min</th>\n",
       "      <td>0.000000</td>\n",
       "      <td>18.000000</td>\n",
       "      <td>5300.000000</td>\n",
       "      <td>0.000000</td>\n",
       "      <td>0.000000</td>\n",
       "    </tr>\n",
       "    <tr>\n",
       "      <th>25%</th>\n",
       "      <td>0.000000</td>\n",
       "      <td>24.000000</td>\n",
       "      <td>33300.000000</td>\n",
       "      <td>0.000000</td>\n",
       "      <td>0.000000</td>\n",
       "    </tr>\n",
       "    <tr>\n",
       "      <th>50%</th>\n",
       "      <td>0.000000</td>\n",
       "      <td>30.000000</td>\n",
       "      <td>40200.000000</td>\n",
       "      <td>1.000000</td>\n",
       "      <td>0.000000</td>\n",
       "    </tr>\n",
       "    <tr>\n",
       "      <th>75%</th>\n",
       "      <td>1.000000</td>\n",
       "      <td>37.000000</td>\n",
       "      <td>46600.000000</td>\n",
       "      <td>2.000000</td>\n",
       "      <td>0.000000</td>\n",
       "    </tr>\n",
       "    <tr>\n",
       "      <th>max</th>\n",
       "      <td>1.000000</td>\n",
       "      <td>65.000000</td>\n",
       "      <td>79000.000000</td>\n",
       "      <td>6.000000</td>\n",
       "      <td>5.000000</td>\n",
       "    </tr>\n",
       "  </tbody>\n",
       "</table>\n",
       "</div>"
      ],
      "text/plain": [
       "            gender          age        income  family_members  \\\n",
       "count  5000.000000  5000.000000   5000.000000     5000.000000   \n",
       "mean      0.499000    30.952800  39916.360000        1.194200   \n",
       "std       0.500049     8.440807   9900.083569        1.091387   \n",
       "min       0.000000    18.000000   5300.000000        0.000000   \n",
       "25%       0.000000    24.000000  33300.000000        0.000000   \n",
       "50%       0.000000    30.000000  40200.000000        1.000000   \n",
       "75%       1.000000    37.000000  46600.000000        2.000000   \n",
       "max       1.000000    65.000000  79000.000000        6.000000   \n",
       "\n",
       "       insurance_benefits  \n",
       "count         5000.000000  \n",
       "mean             0.148000  \n",
       "std              0.463183  \n",
       "min              0.000000  \n",
       "25%              0.000000  \n",
       "50%              0.000000  \n",
       "75%              0.000000  \n",
       "max              5.000000  "
      ]
     },
     "execution_count": 11,
     "metadata": {},
     "output_type": "execute_result"
    }
   ],
   "source": [
    "# ahora echa un vistazo a las estadísticas descriptivas de los datos.# ¿Se ve todo bien?\n",
    "df.describe()"
   ]
  },
  {
   "cell_type": "markdown",
   "metadata": {},
   "source": [
    "Observamos que no existen valores faltantes para todas las columnas. Por otro lado los ingresos presentan una alta desviación estandar lo que indica su alta dispersión, por lo que sería interesante graficar su distribución en boxplots."
   ]
  },
  {
   "cell_type": "code",
   "execution_count": 12,
   "metadata": {},
   "outputs": [
    {
     "data": {
      "image/png": "[encoded data removed]",
      "text/plain": [
       "<Figure size 1200x600 with 2 Axes>"
      ]
     },
     "metadata": {},
     "output_type": "display_data"
    }
   ],
   "source": [
    "import matplotlib.pyplot as plt\n",
    "\n",
    "# Visualización de posibles valores extremos en las columnas Age y Salary\n",
    "plt.figure(figsize=(12, 6))\n",
    "\n",
    "plt.subplot(1, 2, 1)\n",
    "plt.boxplot(df['age'])\n",
    "plt.title('Boxplot de Edad')\n",
    "\n",
    "plt.subplot(1, 2, 2)\n",
    "plt.boxplot(df['income'])\n",
    "plt.title('Boxplot de Salario')\n",
    "\n",
    "plt.tight_layout()\n",
    "plt.show()"
   ]
  },
  {
   "cell_type": "markdown",
   "metadata": {},
   "source": [
    "* __Edad__: No se observan valores extremos significativos, lo que sugiere que las edades están dentro de un rango esperado y no hay outliers evidentes.\n",
    "<br>\n",
    "\n",
    "* __Salario__: Se pueden observar algunos valores que podrían considerarse extremos en el lado superior del boxplot, lo que indica la presencia de personas con salarios más altos que la mayoría.\n",
    "\n",
    "Estos valores extremos en salario pueden ser revisados más adelante, pero a primera vista, no parecen ser lo suficientemente extremos como para justificar una eliminación sin más análisis."
   ]
  },
  {
   "cell_type": "markdown",
   "metadata": {},
   "source": [
    "## Análisis exploratorio de datos"
   ]
  },
  {
   "cell_type": "markdown",
   "metadata": {},
   "source": [
    "Vamos a comprobar rápidamente si existen determinados grupos de clientes observando el gráfico de pares."
   ]
  },
  {
   "cell_type": "code",
   "execution_count": 13,
   "metadata": {},
   "outputs": [
    {
     "data": {
      "image/png": "[encoded data removed]",
      "text/plain": [
       "<Figure size 1200x1200 with 30 Axes>"
      ]
     },
     "metadata": {},
     "output_type": "display_data"
    }
   ],
   "source": [
    "g = sns.pairplot(df, kind='hist')\n",
    "g.fig.set_size_inches(12, 12)"
   ]
  },
  {
   "cell_type": "markdown",
   "metadata": {},
   "source": [
    "De acuerdo, es un poco complicado detectar grupos obvios (clústeres) ya que es difícil combinar diversas variables simultáneamente (para analizar distribuciones multivariadas). Ahí es donde LA y ML pueden ser bastante útiles."
   ]
  },
  {
   "cell_type": "markdown",
   "metadata": {},
   "source": [
    "# Tarea 1. Clientes similares"
   ]
  },
  {
   "cell_type": "markdown",
   "metadata": {},
   "source": [
    "En el lenguaje de ML, es necesario desarrollar un procedimiento que devuelva los k vecinos más cercanos (objetos) para un objeto dado basándose en la distancia entre los objetos.\n",
    "Es posible que quieras revisar las siguientes lecciones (capítulo -> lección)- Distancia entre vectores -> Distancia euclidiana\n",
    "- Distancia entre vectores -> Distancia Manhattan\n",
    "\n",
    "Para resolver la tarea, podemos probar diferentes métricas de distancia."
   ]
  },
  {
   "cell_type": "markdown",
   "metadata": {},
   "source": [
    "Escribe una función que devuelva los k vecinos más cercanos para un $n^{th}$ objeto basándose en una métrica de distancia especificada. A la hora de realizar esta tarea no debe tenerse en cuenta el número de prestaciones de seguro recibidas.\n",
    "Puedes utilizar una implementación ya existente del algoritmo kNN de scikit-learn (consulta [el enlace](https://scikit-learn.org/stable/modules/generated/sklearn.neighbors.NearestNeighbors.html#sklearn.neighbors.NearestNeighbors)) o tu propia implementación.\n",
    "Pruébalo para cuatro combinaciones de dos casos- Escalado\n",
    "  - los datos no están escalados\n",
    "  - los datos se escalan con el escalador [MaxAbsScaler](https://scikit-learn.org/stable/modules/generated/sklearn.preprocessing.MaxAbsScaler.html)\n",
    "- Métricas de distancia\n",
    "  - Euclidiana\n",
    "  - Manhattan\n",
    "\n",
    "Responde a estas preguntas:- ¿El hecho de que los datos no estén escalados afecta al algoritmo kNN? Si es así, ¿cómo se manifiesta?- ¿Qué tan similares son los resultados al utilizar la métrica de distancia Manhattan (independientemente del escalado)?"
   ]
  },
  {
   "cell_type": "code",
   "execution_count": 14,
   "metadata": {},
   "outputs": [],
   "source": [
    "feature_names = ['gender', 'age', 'income', 'family_members']"
   ]
  },
  {
   "cell_type": "code",
   "execution_count": 15,
   "metadata": {},
   "outputs": [],
   "source": [
    "from sklearn.neighbors import NearestNeighbors\n",
    "\n",
    "def get_knn(df, n, k, metric):\n",
    "    \"\"\"\n",
    "    Devuelve los k vecinos más cercanos\n",
    "\n",
    "    :param df: DataFrame de pandas utilizado para encontrar objetos similares dentro del mismo lugar\n",
    "    :param n: número de objetos para los que se buscan los vecinos más cercanos\n",
    "    :param k: número de vecinos más cercanos a devolver\n",
    "    :param metric: nombre de la métrica de distancia\n",
    "    \"\"\"\n",
    "    \n",
    "    # Inicialización del modelo kNN\n",
    "    nbrs = NearestNeighbors(n_neighbors=k, metric=metric)\n",
    "    nbrs.fit(df[feature_names])\n",
    "    \n",
    "    # Encontrar los vecinos más cercanos\n",
    "    nbrs_distances, nbrs_indices = nbrs.kneighbors([df.iloc[n][feature_names]], return_distance=True)\n",
    "    \n",
    "    # Crear un DataFrame con los vecinos más cercanos y sus distancias\n",
    "    df_res = pd.concat([\n",
    "        df.iloc[nbrs_indices[0]], \n",
    "        pd.DataFrame(nbrs_distances.T, index=nbrs_indices[0], columns=['distance'])\n",
    "        ], axis=1)\n",
    "    \n",
    "    return df_res"
   ]
  },
  {
   "cell_type": "markdown",
   "metadata": {},
   "source": [
    "Escalar datos."
   ]
  },
  {
   "cell_type": "code",
   "execution_count": 16,
   "metadata": {},
   "outputs": [],
   "source": [
    "from sklearn.preprocessing import MaxAbsScaler\n",
    "\n",
    "feature_names = ['gender', 'age', 'income', 'family_members']\n",
    "\n",
    "# Escalar datos usando MaxAbsScaler\n",
    "transformer_mas = sklearn.preprocessing.MaxAbsScaler().fit(df[feature_names].to_numpy())\n",
    "\n",
    "df_scaled = df.copy()\n",
    "df_scaled.loc[:, feature_names] = transformer_mas.transform(df[feature_names].to_numpy())"
   ]
  },
  {
   "cell_type": "code",
   "execution_count": 17,
   "metadata": {},
   "outputs": [
    {
     "data": {
      "text/html": [
       "<div>\n",
       "<style scoped>\n",
       "    .dataframe tbody tr th:only-of-type {\n",
       "        vertical-align: middle;\n",
       "    }\n",
       "\n",
       "    .dataframe tbody tr th {\n",
       "        vertical-align: top;\n",
       "    }\n",
       "\n",
       "    .dataframe thead th {\n",
       "        text-align: right;\n",
       "    }\n",
       "</style>\n",
       "<table border=\"1\" class=\"dataframe\">\n",
       "  <thead>\n",
       "    <tr style=\"text-align: right;\">\n",
       "      <th></th>\n",
       "      <th>gender</th>\n",
       "      <th>age</th>\n",
       "      <th>income</th>\n",
       "      <th>family_members</th>\n",
       "      <th>insurance_benefits</th>\n",
       "    </tr>\n",
       "  </thead>\n",
       "  <tbody>\n",
       "    <tr>\n",
       "      <th>2128</th>\n",
       "      <td>1.0</td>\n",
       "      <td>0.692308</td>\n",
       "      <td>0.512658</td>\n",
       "      <td>0.333333</td>\n",
       "      <td>1</td>\n",
       "    </tr>\n",
       "    <tr>\n",
       "      <th>1175</th>\n",
       "      <td>0.0</td>\n",
       "      <td>0.646154</td>\n",
       "      <td>0.496203</td>\n",
       "      <td>0.000000</td>\n",
       "      <td>1</td>\n",
       "    </tr>\n",
       "    <tr>\n",
       "      <th>2852</th>\n",
       "      <td>0.0</td>\n",
       "      <td>0.523077</td>\n",
       "      <td>0.444304</td>\n",
       "      <td>0.000000</td>\n",
       "      <td>0</td>\n",
       "    </tr>\n",
       "    <tr>\n",
       "      <th>2866</th>\n",
       "      <td>1.0</td>\n",
       "      <td>0.507692</td>\n",
       "      <td>0.703797</td>\n",
       "      <td>0.000000</td>\n",
       "      <td>0</td>\n",
       "    </tr>\n",
       "    <tr>\n",
       "      <th>4702</th>\n",
       "      <td>0.0</td>\n",
       "      <td>0.507692</td>\n",
       "      <td>0.426582</td>\n",
       "      <td>0.333333</td>\n",
       "      <td>0</td>\n",
       "    </tr>\n",
       "  </tbody>\n",
       "</table>\n",
       "</div>"
      ],
      "text/plain": [
       "      gender       age    income  family_members  insurance_benefits\n",
       "2128     1.0  0.692308  0.512658        0.333333                   1\n",
       "1175     0.0  0.646154  0.496203        0.000000                   1\n",
       "2852     0.0  0.523077  0.444304        0.000000                   0\n",
       "2866     1.0  0.507692  0.703797        0.000000                   0\n",
       "4702     0.0  0.507692  0.426582        0.333333                   0"
      ]
     },
     "execution_count": 17,
     "metadata": {},
     "output_type": "execute_result"
    }
   ],
   "source": [
    "df_scaled.sample(5)"
   ]
  },
  {
   "cell_type": "markdown",
   "metadata": {},
   "source": [
    "Ahora, vamos a obtener registros similares para uno determinado, para cada combinación"
   ]
  },
  {
   "cell_type": "code",
   "execution_count": 18,
   "metadata": {},
   "outputs": [
    {
     "data": {
      "text/plain": [
       "(      gender  age   income  family_members  insurance_benefits  distance\n",
       " 0          1   41  49600.0               1                   0  0.000000\n",
       " 2022       1   41  49600.0               0                   0  1.000000\n",
       " 1225       0   42  49600.0               0                   1  1.732051\n",
       " 4031       1   44  49600.0               2                   1  3.162278\n",
       " 3424       0   38  49600.0               0                   0  3.316625,\n",
       "       gender       age    income  family_members  insurance_benefits  distance\n",
       " 0        1.0  0.630769  0.627848        0.166667                   0  0.000000\n",
       " 2689     1.0  0.630769  0.634177        0.166667                   0  0.006329\n",
       " 133      1.0  0.615385  0.636709        0.166667                   0  0.017754\n",
       " 4869     1.0  0.646154  0.637975        0.166667                   1  0.018418\n",
       " 3275     1.0  0.646154  0.651899        0.166667                   1  0.028550,\n",
       "       gender  age   income  family_members  insurance_benefits  distance\n",
       " 0          1   41  49600.0               1                   0       0.0\n",
       " 2022       1   41  49600.0               0                   0       1.0\n",
       " 1225       0   42  49600.0               0                   1       3.0\n",
       " 4031       1   44  49600.0               2                   1       4.0\n",
       " 3424       0   38  49600.0               0                   0       5.0,\n",
       "       gender       age    income  family_members  insurance_benefits  distance\n",
       " 0        1.0  0.630769  0.627848        0.166667                   0  0.000000\n",
       " 2689     1.0  0.630769  0.634177        0.166667                   0  0.006329\n",
       " 133      1.0  0.615385  0.636709        0.166667                   0  0.024245\n",
       " 4869     1.0  0.646154  0.637975        0.166667                   1  0.025511\n",
       " 3365     1.0  0.630769  0.596203        0.166667                   0  0.031646)"
      ]
     },
     "execution_count": 18,
     "metadata": {},
     "output_type": "execute_result"
    }
   ],
   "source": [
    "from sklearn.preprocessing import MaxAbsScaler\n",
    "\n",
    "# Obtener registros similares para cada combinación\n",
    "\n",
    "# Caso 1: Datos no escalados, métrica Euclidiana\n",
    "knn_result_euclidean_unscaled = get_knn(df, 0, 5, 'euclidean')\n",
    "\n",
    "# Caso 2: Datos escalados con MaxAbsScaler, métrica Euclidiana\n",
    "knn_result_euclidean_scaled = get_knn(df_scaled, 0, 5, 'euclidean')\n",
    "\n",
    "# Caso 3: Datos no escalados, métrica Manhattan\n",
    "knn_result_manhattan_unscaled = get_knn(df, 0, 5, 'manhattan')\n",
    "\n",
    "# Caso 4: Datos escalados con MaxAbsScaler, métrica Manhattan\n",
    "knn_result_manhattan_scaled = get_knn(df_scaled, 0, 5, 'manhattan')\n",
    "\n",
    "knn_result_euclidean_unscaled, knn_result_euclidean_scaled, knn_result_manhattan_unscaled, knn_result_manhattan_scaled"
   ]
  },
  {
   "cell_type": "markdown",
   "metadata": {},
   "source": [
    "__Respuestas a las preguntas__"
   ]
  },
  {
   "cell_type": "markdown",
   "metadata": {},
   "source": [
    "**¿El hecho de que los datos no estén escalados afecta al algoritmo kNN? Si es así, ¿cómo se manifiesta?** \n",
    "\n",
    "Sí, el escalado de datos afecta significativamente el rendimiento del algoritmo kNN. Cuando los datos no están escalados, las características con valores más grandes dominarán el cálculo de las distancias, lo que puede llevar a resultados sesgados. Por ejemplo, si el salario tiene un rango mucho mayor que las otras características, los vecinos más cercanos se determinarán en gran medida por el salario y no por otras características importantes como la edad o el número de familiares."
   ]
  },
  {
   "cell_type": "markdown",
   "metadata": {},
   "source": [
    "**¿Qué tan similares son los resultados al utilizar la métrica de distancia Manhattan (independientemente del escalado)?** \n",
    "\n",
    "La métrica de distancia Manhattan es generalmente más robusta frente a las diferencias de escala entre características, en comparación con la distancia Euclidiana. La distancia Manhattan calcula la distancia total como la suma de las diferencias absolutas, lo que significa que es menos sensible a valores extremadamente grandes en una característica en particular. Como resultado, los vecinos más cercanos tienden a ser más consistentes y menos dependientes del escalado de los datos. Esto hace que la métrica Manhattan sea una opción más estable en escenarios donde las características no están perfectamente escaladas."
   ]
  },
  {
   "cell_type": "markdown",
   "metadata": {},
   "source": [
    "El escalado de los datos es crucial para el algoritmo kNN, y la métrica de Manhattan es menos sensible al escalado que la Euclidiana. Esto puede llevar a resultados más estables cuando los datos no están escalados."
   ]
  },
  {
   "cell_type": "markdown",
   "metadata": {},
   "source": [
    "# Tarea 2. ¿Es probable que el cliente reciba una prestación del seguro?"
   ]
  },
  {
   "cell_type": "markdown",
   "metadata": {},
   "source": [
    "En términos de machine learning podemos considerarlo como una tarea de clasificación binaria."
   ]
  },
  {
   "cell_type": "markdown",
   "metadata": {},
   "source": [
    "Con el valor de `insurance_benefits` superior a cero como objetivo, evalúa si el enfoque de clasificación kNN puede funcionar mejor que el modelo dummy.\n",
    "Instrucciones:\n",
    "- Construye un clasificador basado en KNN y mide su calidad con la métrica F1 para k=1...10 tanto para los datos originales como para los escalados. Sería interesante observar cómo k puede influir en la métrica de evaluación y si el escalado de los datos provoca alguna diferencia. Puedes utilizar una implementación ya existente del algoritmo de clasificación kNN de scikit-learn (consulta [el enlace](https://scikit-learn.org/stable/modules/generated/sklearn.neighbors.KNeighborsClassifier.html)) o tu propia implementación.- Construye un modelo dummy que, en este caso, es simplemente un modelo aleatorio. Debería devolver \"1\" con cierta probabilidad. Probemos el modelo con cuatro valores de probabilidad: 0, la probabilidad de pagar cualquier prestación del seguro, 0.5, 1.\n",
    "La probabilidad de pagar cualquier prestación del seguro puede definirse como\n",
    "$$\n",
    "P\\{\\text{prestación de seguro recibida}\\}=\\frac{\\text{número de clientes que han recibido alguna prestación de seguro}}{\\text{número total de clientes}}.\n",
    "$$\n",
    "\n",
    "Divide todos los datos correspondientes a las etapas de entrenamiento/prueba respetando la proporción 70:30."
   ]
  },
  {
   "cell_type": "markdown",
   "metadata": {},
   "source": [
    "Creamos una nueva columna `insurance_benefits_received` que indica si el cliente ha recibido al menos una prestación de seguro (`1` si `sí`, `0` si `no`)."
   ]
  },
  {
   "cell_type": "code",
   "execution_count": 19,
   "metadata": {},
   "outputs": [],
   "source": [
    "# сalcula el objetivo\n",
    "df['insurance_benefits_received'] = (df['insurance_benefits'] > 0).astype(int)"
   ]
  },
  {
   "cell_type": "code",
   "execution_count": 20,
   "metadata": {},
   "outputs": [
    {
     "data": {
      "text/plain": [
       "0    4436\n",
       "1     564\n",
       "Name: insurance_benefits_received, dtype: int64"
      ]
     },
     "execution_count": 20,
     "metadata": {},
     "output_type": "execute_result"
    }
   ],
   "source": [
    "# comprueba el desequilibrio de clases con value_counts()\n",
    "\n",
    "df['insurance_benefits_received'].value_counts()"
   ]
  },
  {
   "cell_type": "markdown",
   "metadata": {},
   "source": [
    "Aquí, 4436 clientes no han recibido prestaciones y 564 sí."
   ]
  },
  {
   "cell_type": "code",
   "execution_count": 21,
   "metadata": {},
   "outputs": [],
   "source": [
    "# Función para evaluar el clasificador\n",
    "def eval_classifier(y_true, y_pred):\n",
    "    f1 = sklearn.metrics.f1_score(y_true, y_pred)\n",
    "    print(f'F1: {f1:.2f}')\n",
    "    \n",
    "    cm = sklearn.metrics.confusion_matrix(y_true, y_pred, normalize='all')\n",
    "    print('Matriz de confusión')\n",
    "    print(cm)"
   ]
  },
  {
   "cell_type": "code",
   "execution_count": 22,
   "metadata": {},
   "outputs": [],
   "source": [
    "# Función para generar predicciones de un modelo aleatorio\n",
    "def rnd_model_predict(P, size, seed=42):\n",
    "    rng = np.random.default_rng(seed=seed)\n",
    "    return rng.binomial(n=1, p=P, size=size)"
   ]
  },
  {
   "cell_type": "code",
   "execution_count": 23,
   "metadata": {},
   "outputs": [],
   "source": [
    "# División del dataset en entrenamiento (70%) y prueba (30%)\n",
    "feature_names = ['gender', 'age', 'income', 'family_members']\n",
    "X_train, X_test, y_train, y_test = train_test_split(df[feature_names], df['insurance_benefits_received'], test_size=0.3, random_state=42)"
   ]
  },
  {
   "cell_type": "code",
   "execution_count": 24,
   "metadata": {},
   "outputs": [],
   "source": [
    "# Escalar los datos de entrenamiento y prueba utilizando MaxAbsScaler\n",
    "scaler = MaxAbsScaler()\n",
    "X_train_scaled = scaler.fit_transform(X_train)\n",
    "X_test_scaled = scaler.transform(X_test)"
   ]
  },
  {
   "cell_type": "code",
   "execution_count": 25,
   "metadata": {},
   "outputs": [
    {
     "name": "stdout",
     "output_type": "stream",
     "text": [
      "Resultados del kNN (Euclidiana, datos no escalados):\n",
      "F1: 0.17\n",
      "Matriz de confusión\n",
      "[[0.88333333 0.00933333]\n",
      " [0.09666667 0.01066667]]\n",
      "\n"
     ]
    }
   ],
   "source": [
    "from sklearn.neighbors import KNeighborsClassifier\n",
    "\n",
    "# Entrenar y evaluar el clasificador kNN con datos no escalados\n",
    "knn = KNeighborsClassifier(n_neighbors=5, metric='euclidean')\n",
    "knn.fit(X_train, y_train)\n",
    "y_pred_knn = knn.predict(X_test)\n",
    "\n",
    "print(\"Resultados del kNN (Euclidiana, datos no escalados):\")\n",
    "eval_classifier(y_test, y_pred_knn)\n",
    "print()"
   ]
  },
  {
   "cell_type": "code",
   "execution_count": 26,
   "metadata": {},
   "outputs": [
    {
     "name": "stdout",
     "output_type": "stream",
     "text": [
      "Resultados del kNN (Euclidiana, datos escalados):\n",
      "F1: 0.95\n",
      "Matriz de confusión\n",
      "[[0.89       0.00266667]\n",
      " [0.00866667 0.09866667]]\n",
      "\n"
     ]
    }
   ],
   "source": [
    "# Entrenar y evaluar el clasificador kNN con datos escalados\n",
    "knn_scaled = KNeighborsClassifier(n_neighbors=5, metric='euclidean')\n",
    "knn_scaled.fit(X_train_scaled, y_train)\n",
    "y_pred_knn_scaled = knn_scaled.predict(X_test_scaled)\n",
    "\n",
    "print(\"Resultados del kNN (Euclidiana, datos escalados):\")\n",
    "eval_classifier(y_test, y_pred_knn_scaled)\n",
    "print()"
   ]
  },
  {
   "cell_type": "code",
   "execution_count": 27,
   "metadata": {},
   "outputs": [
    {
     "name": "stdout",
     "output_type": "stream",
     "text": [
      "La probabilidad: 0.00\n",
      "F1: 0.00\n",
      "Matriz de confusión\n",
      "[[0.8872 0.    ]\n",
      " [0.1128 0.    ]]\n",
      "\n",
      "La probabilidad: 0.11\n",
      "F1: 0.12\n",
      "Matriz de confusión\n",
      "[[0.7914 0.0958]\n",
      " [0.0994 0.0134]]\n",
      "\n",
      "La probabilidad: 0.50\n",
      "F1: 0.20\n",
      "Matriz de confusión\n",
      "[[0.456  0.4312]\n",
      " [0.053  0.0598]]\n",
      "\n",
      "La probabilidad: 1.00\n",
      "F1: 0.20\n",
      "Matriz de confusión\n",
      "[[0.     0.8872]\n",
      " [0.     0.1128]]\n",
      "\n"
     ]
    }
   ],
   "source": [
    "# Probar el modelo aleatorio con diferentes probabilidades P\n",
    "for P in [0, df['insurance_benefits_received'].sum() / len(df), 0.5, 1]:\n",
    "    print(f'La probabilidad: {P:.2f}')\n",
    "    y_pred_rnd = rnd_model_predict(P, size=len(df))\n",
    "    \n",
    "    eval_classifier(df['insurance_benefits_received'], y_pred_rnd)\n",
    "    print()"
   ]
  },
  {
   "cell_type": "markdown",
   "metadata": {},
   "source": [
    "Un modelo de predicción entrenado puede ofrecer un rendimiento significativamente mejor que un modelo dummy cuando se entrena adecuadamente y se preparan los datos correctamente (por ejemplo, mediante el escalado). Sin embargo, si no se siguen buenas prácticas en el preprocesamiento de datos y la selección de modelos, el rendimiento puede ser peor que un modelo aleatorio simple. Es crucial asegurarse de que los datos estén en la escala correcta y que el modelo esté bien ajustado para obtener el mejor rendimiento."
   ]
  },
  {
   "cell_type": "markdown",
   "metadata": {},
   "source": [
    "# Tarea 3. Regresión (con regresión lineal)"
   ]
  },
  {
   "cell_type": "markdown",
   "metadata": {},
   "source": [
    "Con `insurance_benefits` como objetivo, evalúa cuál sería la RECM de un modelo de regresión lineal."
   ]
  },
  {
   "cell_type": "markdown",
   "metadata": {},
   "source": [
    "Construye tu propia implementación de regresión lineal. Para ello, recuerda cómo está formulada la solución de la tarea de regresión lineal en términos de LA. Comprueba la RECM tanto para los datos originales como para los escalados. ¿Puedes ver alguna diferencia en la RECM con respecto a estos dos casos?\n",
    "\n",
    "Denotemos- $X$: matriz de características; cada fila es un caso, cada columna es una característica, la primera columna está formada por unidades- $y$ — objetivo (un vector)- $\\hat{y}$ — objetivo estimado (un vector)- $w$ — vector de pesos\n",
    "La tarea de regresión lineal en el lenguaje de las matrices puede formularse así:\n",
    "$$\n",
    "y = Xw\n",
    "$$\n",
    "\n",
    "El objetivo de entrenamiento es entonces encontrar esa $w$ w que minimice la distancia L2 (ECM) entre $Xw$ y $y$:\n",
    "\n",
    "$$\n",
    "\\min_w d_2(Xw, y) \\quad \\text{or} \\quad \\min_w \\text{MSE}(Xw, y)\n",
    "$$\n",
    "\n",
    "Parece que hay una solución analítica para lo anteriormente expuesto:\n",
    "$$\n",
    "w = (X^T X)^{-1} X^T y\n",
    "$$\n",
    "\n",
    "La fórmula anterior puede servir para encontrar los pesos $w$ y estos últimos pueden utilizarse para calcular los valores predichos\n",
    "$$\n",
    "\\hat{y} = X_{val}w\n",
    "$$"
   ]
  },
  {
   "cell_type": "markdown",
   "metadata": {},
   "source": [
    "Divide todos los datos correspondientes a las etapas de entrenamiento/prueba respetando la proporción 70:30. Utiliza la métrica RECM para evaluar el modelo."
   ]
  },
  {
   "cell_type": "code",
   "execution_count": 28,
   "metadata": {},
   "outputs": [],
   "source": [
    "import math\n",
    "\n",
    "class MyLinearRegression:\n",
    "    \"\"\"\n",
    "    Esta clase implementa un modelo de regresión lineal desde cero, utilizando la fórmula analítica\n",
    "    para calcular los pesos que minimizan el error cuadrático medio.\n",
    "    \"\"\"\n",
    "    \n",
    "    def __init__(self):\n",
    "        \"\"\"\n",
    "        Inicializa la instancia de la clase sin pesos (self.weights es None al principio).\n",
    "        \"\"\"\n",
    "        self.weights = None\n",
    "    \n",
    "    def fit(self, X, y):\n",
    "        \"\"\"\n",
    "        Ajusta el modelo de regresión lineal a los datos de entrenamiento.\n",
    "\n",
    "        Parámetros:\n",
    "        X -- Matriz de características (matriz de numpy).\n",
    "        y -- Vector objetivo (array de numpy).\n",
    "\n",
    "        Esta función añade una columna de unos a X para el término de sesgo y luego calcula\n",
    "        los pesos utilizando la fórmula analítica de la regresión lineal:\n",
    "        w = (X^T X)^-1 X^T y\n",
    "        \"\"\"\n",
    "        # Añadir las unidades (columna de 1s para el término de sesgo)\n",
    "        X2 = np.append(np.ones([len(X), 1]), X, axis=1)\n",
    "        # Calcular los pesos usando la fórmula analítica de la regresión lineal\n",
    "        self.weights = np.linalg.inv(X2.T.dot(X2)).dot(X2.T).dot(y)\n",
    "    \n",
    "    def predict(self, X):\n",
    "        \"\"\"\n",
    "        Realiza predicciones utilizando los pesos ajustados en la función fit.\n",
    "\n",
    "        Parámetros:\n",
    "        X -- Matriz de características para las cuales se realizarán las predicciones (matriz de numpy).\n",
    "\n",
    "        Esta función añade una columna de unos a X para el término de sesgo y luego calcula\n",
    "        las predicciones utilizando los pesos previamente ajustados.\n",
    "        \"\"\"\n",
    "        # Añadir las unidades\n",
    "        X2 = np.append(np.ones([len(X), 1]), X, axis=1)\n",
    "        # Realizar la predicción\n",
    "        y_pred = X2.dot(self.weights)\n",
    "        return y_pred"
   ]
  },
  {
   "cell_type": "code",
   "execution_count": 29,
   "metadata": {},
   "outputs": [],
   "source": [
    "def eval_regressor(y_true, y_pred):\n",
    "    \"\"\"\n",
    "    Evalúa el modelo de regresión utilizando la Raíz del Error Cuadrático Medio (RMSE) y el\n",
    "    coeficiente de determinación R^2.\n",
    "\n",
    "    Parámetros:\n",
    "    y_true -- Valores verdaderos del objetivo.\n",
    "    y_pred -- Valores predichos por el modelo.\n",
    "\n",
    "    La función imprime los valores de RMSE y R^2 para evaluar la precisión y el ajuste del modelo.\n",
    "    \"\"\"\n",
    "    rmse = math.sqrt(sklearn.metrics.mean_squared_error(y_true, y_pred))\n",
    "    print(f'RMSE: {rmse:.2f}')\n",
    "    \n",
    "    r2_score = sklearn.metrics.r2_score(y_true, y_pred)\n",
    "    print(f'R2: {r2_score:.2f}')"
   ]
  },
  {
   "cell_type": "code",
   "execution_count": 30,
   "metadata": {},
   "outputs": [
    {
     "name": "stdout",
     "output_type": "stream",
     "text": [
      "[-9.43539012e-01  3.57495491e-02  1.64272726e-02 -2.60743659e-07\n",
      " -1.16902127e-02]\n",
      "RMSE: 0.34\n",
      "R2: 0.43\n"
     ]
    }
   ],
   "source": [
    "# Definir los datos\n",
    "X = df[['age', 'gender', 'income', 'family_members']].to_numpy()\n",
    "y = df['insurance_benefits'].to_numpy()\n",
    "\n",
    "# Dividir los datos en entrenamiento y prueba\n",
    "X_train, X_test, y_train, y_test = train_test_split(X, y, test_size=0.3, random_state=12345)\n",
    "\n",
    "# Crear una instancia del modelo\n",
    "lr = MyLinearRegression()\n",
    "\n",
    "# Ajustar el modelo a los datos de entrenamiento\n",
    "lr.fit(X_train, y_train)\n",
    "print(lr.weights)\n",
    "\n",
    "# Realizar predicciones en el conjunto de prueba\n",
    "y_test_pred = lr.predict(X_test)\n",
    "\n",
    "# Evaluar el rendimiento del modelo\n",
    "eval_regressor(y_test, y_test_pred)"
   ]
  },
  {
   "cell_type": "markdown",
   "metadata": {},
   "source": [
    "Utilizando el modelo de regresión lineal, se puede predecir la cantidad de beneficios de seguro que un nuevo cliente probablemente recibirá. Sin embargo, debido a la variabilidad que no se captura completamente en el modelo ($𝑅^2$ = 0.43), las predicciones deben interpretarse con precaución. El modelo ofrece una base razonable para la estimación, pero se recomienda mejorar el modelo o complementar con otras técnicas para obtener predicciones más precisas."
   ]
  },
  {
   "cell_type": "markdown",
   "metadata": {},
   "source": [
    "# Tarea 4. Ofuscar datos"
   ]
  },
  {
   "cell_type": "markdown",
   "metadata": {},
   "source": [
    "Lo mejor es ofuscar los datos multiplicando las características numéricas (recuerda que se pueden ver como la matriz $X$) por una matriz invertible $P$. \n",
    "\n",
    "$$\n",
    "X' = X \\times P\n",
    "$$\n",
    "\n",
    "Trata de hacerlo y comprueba cómo quedarán los valores de las características después de la transformación. Por cierto, la propiedad de invertibilidad es importante aquí, así que asegúrate de que $P$ sea realmente invertible.\n",
    "\n",
    "Puedes revisar la lección 'Matrices y operaciones matriciales -> Multiplicación de matrices' para recordar la regla de multiplicación de matrices y su implementación con NumPy."
   ]
  },
  {
   "cell_type": "code",
   "execution_count": 31,
   "metadata": {},
   "outputs": [],
   "source": [
    "personal_info_column_list = ['gender', 'age', 'income', 'family_members']\n",
    "df_pn = df[personal_info_column_list]"
   ]
  },
  {
   "cell_type": "code",
   "execution_count": 32,
   "metadata": {},
   "outputs": [],
   "source": [
    "X = df_pn.to_numpy()"
   ]
  },
  {
   "cell_type": "markdown",
   "metadata": {},
   "source": [
    "Generar una matriz aleatoria $P$."
   ]
  },
  {
   "cell_type": "code",
   "execution_count": 33,
   "metadata": {},
   "outputs": [],
   "source": [
    "rng = np.random.default_rng(seed=42)\n",
    "P = rng.random(size=(X.shape[1], X.shape[1]))"
   ]
  },
  {
   "cell_type": "markdown",
   "metadata": {},
   "source": [
    "Comprobar que la matriz P sea invertible"
   ]
  },
  {
   "cell_type": "code",
   "execution_count": 34,
   "metadata": {},
   "outputs": [],
   "source": [
    "det_P = np.linalg.det(P)\n",
    "if np.isclose(det_P, 0):\n",
    "    raise ValueError(\"La matriz P no es invertible. Genera una nueva matriz P.\")"
   ]
  },
  {
   "cell_type": "markdown",
   "metadata": {},
   "source": [
    "__¿Puedes adivinar la edad o los ingresos de los clientes después de la transformación?__"
   ]
  },
  {
   "cell_type": "markdown",
   "metadata": {},
   "source": [
    "No, no es posible adivinar la edad o los ingresos de los clientes después de la transformación con precisión. La transformación logra su propósito de ofuscar los datos de manera efectiva, protegiendo las características sensibles de ser recuperadas o identificadas directamente."
   ]
  },
  {
   "cell_type": "markdown",
   "metadata": {},
   "source": [
    "__¿Puedes recuperar los datos originales de $X'$ si conoces $P$? Intenta comprobarlo a través de los cálculos moviendo $P$ del lado derecho de la fórmula anterior al izquierdo. En este caso las reglas de la multiplicación matricial son realmente útiles__"
   ]
  },
  {
   "cell_type": "markdown",
   "metadata": {},
   "source": [
    "Es posible recuperar los datos originales $X$ a partir de los datos transformados $X'$ si se conoce la matriz invertible $P$. Esto se logra mediante la multiplicación de $X'$ por la inversa de $P$, siguiendo la regla de la multiplicación matricial:\n",
    "\n",
    "$$\n",
    "X = X' \\cdot P^{-1}\n",
    "$$\n",
    "\n",
    "Esta operación revierte la transformación y devuelve los datos originales. La verificación a través de cálculos muestra que los datos recuperados son efectivamente iguales a los datos originales $X$, dentro de una pequeña tolerancia numérica.\n",
    "\n",
    "Este proceso subraya que, aunque la transformación ofusca los datos, la ofuscación es reversible si la matriz $P$ es conocida. Por lo tanto, es crucial proteger $P$ en escenarios donde la privacidad de los datos es una prioridad."
   ]
  },
  {
   "cell_type": "markdown",
   "metadata": {},
   "source": [
    "Muestra los tres casos para algunos clientes- Datos originales\n",
    "- El que está transformado- El que está invertido (recuperado)"
   ]
  },
  {
   "cell_type": "code",
   "execution_count": 35,
   "metadata": {},
   "outputs": [
    {
     "name": "stdout",
     "output_type": "stream",
     "text": [
      "Datos Originales:\n",
      "   gender   age   income  family_members\n",
      "0     1.0  41.0  49600.0             1.0\n",
      "1     0.0  46.0  38000.0             1.0\n",
      "2     0.0  29.0  21000.0             0.0\n",
      "\n",
      "Datos Transformados (Ofuscados):\n",
      "        gender           age        income  family_members\n",
      "0  6359.715273  22380.404676  18424.090742    46000.696690\n",
      "1  4873.294065  17160.367030  14125.780761    35253.455773\n",
      "2  2693.117429   9486.397744   7808.831560    19484.860631\n",
      "\n",
      "Datos Recuperados:\n",
      "         gender   age   income  family_members\n",
      "0  1.000000e+00  41.0  49600.0    1.000000e+00\n",
      "1 -4.473636e-12  46.0  38000.0    1.000000e+00\n",
      "2 -2.515869e-12  29.0  21000.0    9.524523e-13\n"
     ]
    }
   ],
   "source": [
    "# Multiplicar X por P para ofuscar los datos\n",
    "X_obfuscated = X.dot(P)  # Asegúrate de crear la variable X_obfuscated aquí\n",
    "\n",
    "# Calcular la inversa de P\n",
    "P_inv = np.linalg.inv(P)\n",
    "\n",
    "# Recuperar los datos originales\n",
    "X_recovered = X_obfuscated.dot(P_inv)\n",
    "\n",
    "# Crear DataFrames para mostrar los datos\n",
    "df_original = pd.DataFrame(X, columns=personal_info_column_list)\n",
    "df_transformed = pd.DataFrame(X_obfuscated, columns=personal_info_column_list)\n",
    "df_recovered = pd.DataFrame(X_recovered, columns=personal_info_column_list)\n",
    "\n",
    "# Mostrar los tres DataFrames para algunos clientes\n",
    "clients_to_show = [0, 1, 2]  # Índices de los clientes que quieres mostrar\n",
    "\n",
    "print(\"Datos Originales:\")\n",
    "print(df_original.iloc[clients_to_show])\n",
    "\n",
    "print(\"\\nDatos Transformados (Ofuscados):\")\n",
    "print(df_transformed.iloc[clients_to_show])\n",
    "\n",
    "print(\"\\nDatos Recuperados:\")\n",
    "print(df_recovered.iloc[clients_to_show])"
   ]
  },
  {
   "cell_type": "markdown",
   "metadata": {},
   "source": [
    "Seguramente puedes ver que algunos valores no son exactamente iguales a los de los datos originales. ¿Cuál podría ser la razón de ello?"
   ]
  },
  {
   "cell_type": "markdown",
   "metadata": {},
   "source": [
    "La razón por la cual algunos valores en los datos recuperados no son exactamente iguales a los de los datos originales se debe a la precisión numérica limitada y errores de redondeo que ocurren durante las operaciones matemáticas con números en computadoras. Estos errores son comunes en cálculos que involucran multiplicación de matrices e inversión de matrices, especialmente cuando los valores son muy pequeños o muy grandes."
   ]
  },
  {
   "cell_type": "markdown",
   "metadata": {},
   "source": [
    "## Prueba de que la ofuscación de datos puede funcionar con regresión lineal"
   ]
  },
  {
   "cell_type": "markdown",
   "metadata": {},
   "source": [
    "En este proyecto la tarea de regresión se ha resuelto con la regresión lineal. Tu siguiente tarea es demostrar _analytically_ que el método de ofuscación no afectará a la regresión lineal en términos de valores predichos, es decir, que sus valores seguirán siendo los mismos. ¿Lo puedes creer? Pues no hace falta que lo creas, ¡tienes que que demostrarlo!"
   ]
  },
  {
   "cell_type": "markdown",
   "metadata": {},
   "source": [
    "Entonces, los datos están ofuscados y ahora tenemos $X \\times P$ en lugar de tener solo $X$. En consecuencia, hay otros pesos $w_P$ como\n",
    "$$\n",
    "w = (X^T X)^{-1} X^T y \\quad \\Rightarrow \\quad w_P = [(XP)^T XP]^{-1} (XP)^T y\n",
    "$$\n",
    "\n",
    "¿Cómo se relacionarían $w$ y $w_P$ si simplificáramos la fórmula de $w_P$ anterior? \n",
    "\n",
    "¿Cuáles serían los valores predichos con $w_P$? \n",
    "\n",
    "¿Qué significa esto para la calidad de la regresión lineal si esta se mide mediante la RECM?\n",
    "Revisa el Apéndice B Propiedades de las matrices al final del cuaderno. ¡Allí encontrarás fórmulas muy útiles!\n",
    "\n",
    "No es necesario escribir código en esta sección, basta con una explicación analítica."
   ]
  },
  {
   "cell_type": "markdown",
   "metadata": {},
   "source": [
    "**Respuesta**"
   ]
  },
  {
   "cell_type": "markdown",
   "metadata": {},
   "source": [
    "### Relación entre ($w$) y \\( $w_P$ \\)\n",
    "\n",
    "La relación entre los pesos originales $w$ y los pesos obtenidos después de la ofuscación $w_P$ se puede derivar al simplificar la fórmula de $w_P$.\n",
    "\n",
    "Dado:\n",
    "\n",
    "$$\n",
    "w_P = \\left[(X \\times P)^T (X \\times P)\\right]^{-1} (X \\times P)^T y\n",
    "$$\n",
    "\n",
    "Podemos expandir y simplificar la expresión:\n",
    "\n",
    "$$\n",
    "w_P = \\left[P^T X^T X P\\right]^{-1} P^T X^T y\n",
    "$$\n",
    "\n",
    "Dado que $(A \\times B)^{-1} = B^{-1} \\times A^{-1}$ para matrices invertibles $A$ y $B$:\n",
    "\n",
    "$$\n",
    "w_P = P^{-1} \\left(X^T X\\right)^{-1} (P^T)^{-1} P^T X^T y\n",
    "$$\n",
    "\n",
    "Observando que $(P^T)^{-1} \\times P^T$ es la matriz identidad $I$:\n",
    "\n",
    "$$\n",
    "w_P = P^{-1} \\left(X^T X\\right)^{-1} X^T y\n",
    "$$\n",
    "\n",
    "Finalmente, sabemos que:\n",
    "\n",
    "$$\n",
    "w = \\left(X^T X\\right)^{-1} X^T y\n",
    "$$\n",
    "\n",
    "Por lo tanto:\n",
    "\n",
    "$$\n",
    "w_P = P^{-1} w\n",
    "$$\n",
    "\n",
    "Esto muestra que los nuevos pesos $w_P$ son una transformación lineal de los pesos originales $w$ a través de la inversa de $P$.\n",
    "\n",
    "### Valores Predichos con $w_P$\n",
    "\n",
    "Los valores predichos $\\hat{y}_P$ utilizando los pesos $w_P$ serían:\n",
    "\n",
    "$$\n",
    "\\hat{y}_P = X \\times P \\times w_P\n",
    "$$\n",
    "\n",
    "Sustituyendo $w_P = P^{-1} w$:\n",
    "\n",
    "$$\n",
    "\\hat{y}_P = X \\times P \\times P^{-1} w = X \\times I \\times w = X \\times w = \\hat{y}\n",
    "$$\n",
    "\n",
    "Esto demuestra que los valores predichos $\\hat{y}_P$ utilizando los datos ofuscados y los pesos $w_P$ son equivalentes a los valores predichos originales $\\hat{y}$, lo que significa que la ofuscación no afecta los valores predichos.\n",
    "\n",
    "### Impacto en la RECM\n",
    "\n",
    "Dado que los valores predichos $\\hat{y}_P$ son iguales a los valores predichos originales $\\hat{y}$, la Raíz del Error Cuadrático Medio (RECM) será la misma para los datos originales y los datos ofuscados. Esto implica que la calidad de la regresión lineal no se ve afectada por la ofuscación de los datos.\n",
    "\n",
    "### Conclusión\n",
    "\n",
    "La ofuscación mediante la multiplicación por una matriz invertible $P$ no altera los valores predichos ni la calidad de la regresión lineal, cuando se mide por `RECM`, ya que los valores predichos permanecen iguales."
   ]
  },
  {
   "cell_type": "markdown",
   "metadata": {},
   "source": [
    "## Prueba de regresión lineal con ofuscación de datos"
   ]
  },
  {
   "cell_type": "markdown",
   "metadata": {},
   "source": [
    "Ahora, probemos que la regresión lineal pueda funcionar, en términos computacionales, con la transformación de ofuscación elegida.\n",
    "Construye un procedimiento o una clase que ejecute la regresión lineal opcionalmente con la ofuscación. Puedes usar una implementación de regresión lineal de scikit-learn o tu propia implementación.\n",
    "Ejecuta la regresión lineal para los datos originales y los ofuscados, compara los valores predichos y los valores de las métricas RMSE y $R^2$. ¿Hay alguna diferencia?"
   ]
  },
  {
   "cell_type": "markdown",
   "metadata": {},
   "source": [
    "**Procedimiento**\n",
    "\n",
    "- Crea una matriz cuadrada $P$ de números aleatorios.- Comprueba que sea invertible. Si no lo es, repite el primer paso hasta obtener una matriz invertible.- <¡ tu comentario aquí !>\n",
    "- Utiliza $XP$ como la nueva matriz de características"
   ]
  },
  {
   "cell_type": "markdown",
   "metadata": {},
   "source": [
    "__Paso 1__: Crear la Matriz 𝑃 y Verificar su Invertibilidad"
   ]
  },
  {
   "cell_type": "code",
   "execution_count": 36,
   "metadata": {},
   "outputs": [],
   "source": [
    "import numpy as np\n",
    "\n",
    "# Crear la matriz P\n",
    "rng = np.random.default_rng(seed=42)\n",
    "P = rng.random(size=(X_train.shape[1], X_train.shape[1]))\n",
    "\n",
    "# Verificar si P es invertible\n",
    "det_P = np.linalg.det(P)\n",
    "if np.isclose(det_P, 0):\n",
    "    raise ValueError(\"La matriz P no es invertible. Genera una nueva matriz P.\")"
   ]
  },
  {
   "cell_type": "markdown",
   "metadata": {},
   "source": [
    "__Paso 2__: Ofuscar los Datos con $𝑋 × 𝑃$"
   ]
  },
  {
   "cell_type": "code",
   "execution_count": 37,
   "metadata": {},
   "outputs": [],
   "source": [
    "# Ofuscar solo los datos de entrenamiento\n",
    "X_train_obfuscated = X_train.dot(P)"
   ]
  },
  {
   "cell_type": "markdown",
   "metadata": {},
   "source": [
    "__Paso 3__: Implementar y Evaluar la Regresión Lineal en Datos Originales y Ofuscados"
   ]
  },
  {
   "cell_type": "code",
   "execution_count": 38,
   "metadata": {},
   "outputs": [
    {
     "name": "stdout",
     "output_type": "stream",
     "text": [
      "Datos Originales - RMSE: 0.3436, R^2: 0.4305\n",
      "Datos Ofuscados  - RMSE: 0.3436, R^2: 0.4305\n"
     ]
    }
   ],
   "source": [
    "import numpy as np\n",
    "from sklearn.linear_model import LinearRegression\n",
    "from sklearn.metrics import mean_squared_error, r2_score\n",
    "from sklearn.model_selection import train_test_split\n",
    "\n",
    "# Modelo de regresión lineal\n",
    "model = LinearRegression()\n",
    "\n",
    "# Entrenar y predecir en datos originales\n",
    "model.fit(X_train, y_train)\n",
    "y_pred_original = model.predict(X_test)\n",
    "\n",
    "# Entrenar y predecir en datos ofuscados\n",
    "model.fit(X_train_obfuscated, y_train)\n",
    "y_pred_obfuscated = model.predict(X_test.dot(P))\n",
    "\n",
    "# Evaluar con RMSE y R^2\n",
    "rmse_original = np.sqrt(mean_squared_error(y_test, y_pred_original))\n",
    "r2_original = r2_score(y_test, y_pred_original)\n",
    "\n",
    "rmse_obfuscated = np.sqrt(mean_squared_error(y_test, y_pred_obfuscated))\n",
    "r2_obfuscated = r2_score(y_test, y_pred_obfuscated)\n",
    "\n",
    "print(f\"Datos Originales - RMSE: {rmse_original:.4f}, R^2: {r2_original:.4f}\")\n",
    "print(f\"Datos Ofuscados  - RMSE: {rmse_obfuscated:.4f}, R^2: {r2_obfuscated:.4f}\")"
   ]
  },
  {
   "cell_type": "markdown",
   "metadata": {},
   "source": [
    "# Conclusiones"
   ]
  },
  {
   "cell_type": "markdown",
   "metadata": {},
   "source": [
    "* __RMSE (Raíz del Error Cuadrático Medio)__:\n",
    "El hecho de que el RMSE sea igual para ambos conjuntos de datos indica que la ofuscación no introdujo ningún error adicional en las predicciones del modelo. Es decir, el error medio de las predicciones sigue siendo el mismo, independientemente de si los datos fueron ofuscados o no.\n",
    "<br>\n",
    "\n",
    "* $R^2$ __(Coeficiente de Determinación)__:\n",
    "El $R^2$ también es idéntico para ambos conjuntos de datos, lo que significa que la proporción de la varianza explicada por el modelo no se ve afectada por la ofuscación. En otras palabras, el modelo es igual de efectivo para explicar la variabilidad de los datos tanto en el caso de los datos originales como en el de los datos ofuscados.\n",
    "\n",
    "Estos resultados validan que la ofuscación de datos mediante la multiplicación por una matriz invertible $P$ no afecta negativamente el rendimiento del modelo de regresión lineal. Las predicciones son idénticas, lo que demuestra que la ofuscación es una técnica efectiva para proteger la privacidad de los datos sin comprometer la calidad del modelo."
   ]
  },
  {
   "cell_type": "markdown",
   "metadata": {},
   "source": [
    "# Apéndices\n",
    "\n",
    "## Apéndice A: Escribir fórmulas en los cuadernos de Jupyter"
   ]
  },
  {
   "cell_type": "markdown",
   "metadata": {},
   "source": [
    "Puedes escribir fórmulas en tu Jupyter Notebook utilizando un lenguaje de marcado proporcionado por un sistema de publicación de alta calidad llamado $\\LaTeX$ (se pronuncia como \"Lah-tech\"). Las fórmulas se verán como las de los libros de texto.\n",
    "\n",
    "Para incorporar una fórmula a un texto, pon el signo de dólar (\\\\$) antes y después del texto de la fórmula, por ejemplo: $\\frac{1}{2} \\times \\frac{3}{2} = \\frac{3}{4}$ or $y = x^2, x \\ge 1$.\n",
    "\n",
    "Si una fórmula debe estar en el mismo párrafo, pon el doble signo de dólar (\\\\$\\\\$) antes y después del texto de la fórmula, por ejemplo:\n",
    "$$\n",
    "\\bar{x} = \\frac{1}{n}\\sum_{i=1}^{n} x_i.\n",
    "$$\n",
    "\n",
    "El lenguaje de marcado de [LaTeX](https://es.wikipedia.org/wiki/LaTeX) es muy popular entre las personas que utilizan fórmulas en sus artículos, libros y textos. Puede resultar complicado, pero sus fundamentos son sencillos. Consulta esta [ficha de ayuda](http://tug.ctan.org/info/undergradmath/undergradmath.pdf) (materiales en inglés) de dos páginas para aprender a componer las fórmulas más comunes."
   ]
  },
  {
   "cell_type": "markdown",
   "metadata": {},
   "source": [
    "## Apéndice B: Propiedades de las matrices"
   ]
  },
  {
   "cell_type": "markdown",
   "metadata": {},
   "source": [
    "Las matrices tienen muchas propiedades en cuanto al álgebra lineal. Aquí se enumeran algunas de ellas que pueden ayudarte a la hora de realizar la prueba analítica de este proyecto."
   ]
  },
  {
   "cell_type": "markdown",
   "metadata": {},
   "source": [
    "<table>\n",
    "<tr>\n",
    "<td>Distributividad</td><td>$A(B+C)=AB+AC$</td>\n",
    "</tr>\n",
    "<tr>\n",
    "<td>No conmutatividad</td><td>$AB \\neq BA$</td>\n",
    "</tr>\n",
    "<tr>\n",
    "<td>Propiedad asociativa de la multiplicación</td><td>$(AB)C = A(BC)$</td>\n",
    "</tr>\n",
    "<tr>\n",
    "<td>Propiedad de identidad multiplicativa</td><td>$IA = AI = A$</td>\n",
    "</tr>\n",
    "<tr>\n",
    "<td></td><td>$A^{-1}A = AA^{-1} = I$\n",
    "</td>\n",
    "</tr>    \n",
    "<tr>\n",
    "<td></td><td>$(AB)^{-1} = B^{-1}A^{-1}$</td>\n",
    "</tr>    \n",
    "<tr>\n",
    "<td>Reversibilidad de la transposición de un producto de matrices,</td><td>$(AB)^T = B^TA^T$</td>\n",
    "</tr>    \n",
    "</table>"
   ]
  }
 ],
 "metadata": {
  "ExecuteTimeLog": [
   {
    "duration": 4237,
    "start_time": "2024-08-19T03:36:08.043Z"
   },
   {
    "duration": 3894,
    "start_time": "2024-08-19T03:36:21.885Z"
   },
   {
    "duration": 4993,
    "start_time": "2024-08-19T03:36:27.967Z"
   },
   {
    "duration": 15,
    "start_time": "2024-08-19T03:36:35.632Z"
   },
   {
    "duration": 4,
    "start_time": "2024-08-19T03:36:39.183Z"
   },
   {
    "duration": 19,
    "start_time": "2024-08-19T03:36:41.219Z"
   },
   {
    "duration": 14,
    "start_time": "2024-08-19T03:36:44.001Z"
   },
   {
    "duration": 16,
    "start_time": "2024-08-19T03:37:31.173Z"
   },
   {
    "duration": 8,
    "start_time": "2024-08-19T03:38:04.274Z"
   },
   {
    "duration": 29,
    "start_time": "2024-08-19T03:38:12.871Z"
   },
   {
    "duration": 28,
    "start_time": "2024-08-19T03:38:21.258Z"
   },
   {
    "duration": 4794,
    "start_time": "2024-08-19T03:41:57.864Z"
   },
   {
    "duration": 4,
    "start_time": "2024-08-19T03:42:24.058Z"
   },
   {
    "duration": 13,
    "start_time": "2024-08-19T03:42:26.502Z"
   },
   {
    "duration": 6,
    "start_time": "2024-08-19T03:44:35.532Z"
   },
   {
    "duration": 14,
    "start_time": "2024-08-19T03:44:37.748Z"
   },
   {
    "duration": 15,
    "start_time": "2024-08-19T03:44:39.139Z"
   },
   {
    "duration": 560,
    "start_time": "2024-08-19T03:46:02.084Z"
   },
   {
    "duration": 44,
    "start_time": "2024-08-19T03:47:03.314Z"
   },
   {
    "duration": 6,
    "start_time": "2024-08-19T03:48:41.806Z"
   },
   {
    "duration": 15,
    "start_time": "2024-08-19T03:48:43.170Z"
   },
   {
    "duration": 15,
    "start_time": "2024-08-19T03:48:44.138Z"
   },
   {
    "duration": 44,
    "start_time": "2024-08-19T03:48:45.416Z"
   },
   {
    "duration": 7,
    "start_time": "2024-08-19T03:49:34.368Z"
   },
   {
    "duration": 15,
    "start_time": "2024-08-19T03:49:35.433Z"
   },
   {
    "duration": 14,
    "start_time": "2024-08-19T03:49:35.964Z"
   },
   {
    "duration": 88,
    "start_time": "2024-08-19T03:49:37.140Z"
   },
   {
    "duration": 898,
    "start_time": "2024-08-19T03:56:46.526Z"
   },
   {
    "duration": 58,
    "start_time": "2024-08-19T03:56:51.249Z"
   },
   {
    "duration": 72,
    "start_time": "2024-08-19T03:56:55.950Z"
   },
   {
    "duration": 10,
    "start_time": "2024-08-19T03:57:04.716Z"
   },
   {
    "duration": 81,
    "start_time": "2024-08-19T03:57:10.306Z"
   },
   {
    "duration": 25,
    "start_time": "2024-08-19T03:57:16.115Z"
   },
   {
    "duration": 24,
    "start_time": "2024-08-19T03:57:24.179Z"
   },
   {
    "duration": 9,
    "start_time": "2024-08-19T03:57:28.114Z"
   },
   {
    "duration": 24,
    "start_time": "2024-08-19T03:57:49.008Z"
   },
   {
    "duration": 6,
    "start_time": "2024-08-19T03:57:53.275Z"
   },
   {
    "duration": 6,
    "start_time": "2024-08-19T03:57:56.739Z"
   },
   {
    "duration": 81,
    "start_time": "2024-08-19T03:59:03.349Z"
   },
   {
    "duration": 5,
    "start_time": "2024-08-19T03:59:41.348Z"
   },
   {
    "duration": 8,
    "start_time": "2024-08-19T04:00:07.813Z"
   },
   {
    "duration": 5,
    "start_time": "2024-08-19T04:00:38.571Z"
   },
   {
    "duration": 4,
    "start_time": "2024-08-19T04:00:41.030Z"
   },
   {
    "duration": 8,
    "start_time": "2024-08-19T04:00:42.788Z"
   },
   {
    "duration": 45,
    "start_time": "2024-08-19T04:01:29.571Z"
   },
   {
    "duration": 6,
    "start_time": "2024-08-19T04:01:55.443Z"
   },
   {
    "duration": 4,
    "start_time": "2024-08-19T04:02:02.666Z"
   },
   {
    "duration": 39,
    "start_time": "2024-08-19T04:02:10.803Z"
   },
   {
    "duration": 7,
    "start_time": "2024-08-19T04:03:40.769Z"
   },
   {
    "duration": 7,
    "start_time": "2024-08-19T04:04:07.148Z"
   },
   {
    "duration": 5,
    "start_time": "2024-08-19T04:04:08.434Z"
   },
   {
    "duration": 188,
    "start_time": "2024-08-19T04:04:14.616Z"
   },
   {
    "duration": 6,
    "start_time": "2024-08-19T04:04:55.561Z"
   },
   {
    "duration": 5,
    "start_time": "2024-08-19T04:04:56.337Z"
   },
   {
    "duration": 17,
    "start_time": "2024-08-19T04:04:58.445Z"
   },
   {
    "duration": 12,
    "start_time": "2024-08-19T04:05:45.482Z"
   },
   {
    "duration": 8,
    "start_time": "2024-08-19T04:07:04.972Z"
   },
   {
    "duration": 5,
    "start_time": "2024-08-19T04:07:05.779Z"
   },
   {
    "duration": 19,
    "start_time": "2024-08-19T04:07:06.675Z"
   },
   {
    "duration": 5,
    "start_time": "2024-08-19T04:08:08.225Z"
   },
   {
    "duration": 4,
    "start_time": "2024-08-19T04:08:09.952Z"
   },
   {
    "duration": 3,
    "start_time": "2024-08-19T04:08:10.560Z"
   },
   {
    "duration": 6,
    "start_time": "2024-08-19T04:08:11.938Z"
   },
   {
    "duration": 4,
    "start_time": "2024-08-19T04:08:23.965Z"
   },
   {
    "duration": 29,
    "start_time": "2024-08-19T04:13:20.108Z"
   },
   {
    "duration": 20,
    "start_time": "2024-08-19T04:14:08.601Z"
   },
   {
    "duration": 7,
    "start_time": "2024-08-19T04:15:04.208Z"
   },
   {
    "duration": 7,
    "start_time": "2024-08-19T04:28:34.143Z"
   },
   {
    "duration": 4,
    "start_time": "2024-08-19T04:30:13.664Z"
   },
   {
    "duration": 355,
    "start_time": "2024-08-19T04:30:42.165Z"
   },
   {
    "duration": 18,
    "start_time": "2024-08-19T04:31:28.388Z"
   },
   {
    "duration": 87,
    "start_time": "2024-08-19T04:32:17.283Z"
   },
   {
    "duration": 6,
    "start_time": "2024-08-19T04:34:10.884Z"
   },
   {
    "duration": 4,
    "start_time": "2024-08-19T04:34:25.907Z"
   },
   {
    "duration": 13,
    "start_time": "2024-08-19T04:34:45.017Z"
   },
   {
    "duration": 5,
    "start_time": "2024-08-19T04:35:29.180Z"
   },
   {
    "duration": 4611,
    "start_time": "2024-08-21T18:35:25.357Z"
   },
   {
    "duration": 5445,
    "start_time": "2024-08-21T18:35:34.535Z"
   },
   {
    "duration": 695,
    "start_time": "2024-08-21T18:37:59.792Z"
   },
   {
    "duration": 187,
    "start_time": "2024-08-21T18:38:07.252Z"
   },
   {
    "duration": 196,
    "start_time": "2024-08-21T18:38:11.185Z"
   },
   {
    "duration": 17,
    "start_time": "2024-08-21T18:38:17.649Z"
   },
   {
    "duration": 5,
    "start_time": "2024-08-21T18:38:19.195Z"
   },
   {
    "duration": 24,
    "start_time": "2024-08-21T18:38:19.784Z"
   },
   {
    "duration": 18,
    "start_time": "2024-08-21T18:38:20.388Z"
   },
   {
    "duration": 7,
    "start_time": "2024-08-21T18:38:20.759Z"
   },
   {
    "duration": 6,
    "start_time": "2024-08-21T18:38:21.438Z"
   },
   {
    "duration": 36,
    "start_time": "2024-08-21T18:38:22.356Z"
   },
   {
    "duration": 1056,
    "start_time": "2024-08-21T18:38:23.548Z"
   },
   {
    "duration": 487,
    "start_time": "2024-08-21T18:38:40.676Z"
   },
   {
    "duration": 260,
    "start_time": "2024-08-21T18:57:24.721Z"
   },
   {
    "duration": 64,
    "start_time": "2024-08-21T18:57:51.854Z"
   },
   {
    "duration": 95,
    "start_time": "2024-08-21T18:57:58.419Z"
   },
   {
    "duration": 1577,
    "start_time": "2024-08-21T18:58:11.653Z"
   },
   {
    "duration": 11,
    "start_time": "2024-08-21T18:58:15.070Z"
   },
   {
    "duration": 5,
    "start_time": "2024-08-21T18:58:15.970Z"
   },
   {
    "duration": 19,
    "start_time": "2024-08-21T18:58:16.460Z"
   },
   {
    "duration": 14,
    "start_time": "2024-08-21T18:58:17.115Z"
   },
   {
    "duration": 4,
    "start_time": "2024-08-21T18:58:17.497Z"
   },
   {
    "duration": 6,
    "start_time": "2024-08-21T18:58:18.025Z"
   },
   {
    "duration": 29,
    "start_time": "2024-08-21T18:58:18.476Z"
   },
   {
    "duration": 487,
    "start_time": "2024-08-21T18:58:19.774Z"
   },
   {
    "duration": 4877,
    "start_time": "2024-08-21T18:58:22.422Z"
   },
   {
    "duration": 4,
    "start_time": "2024-08-21T18:58:33.453Z"
   },
   {
    "duration": 7,
    "start_time": "2024-08-21T18:58:34.556Z"
   },
   {
    "duration": 13,
    "start_time": "2024-08-21T18:58:36.589Z"
   },
   {
    "duration": 13,
    "start_time": "2024-08-21T18:58:37.796Z"
   },
   {
    "duration": 96,
    "start_time": "2024-08-21T18:58:40.156Z"
   },
   {
    "duration": 1317,
    "start_time": "2024-08-21T18:58:46.397Z"
   },
   {
    "duration": 5,
    "start_time": "2024-08-21T18:59:07.399Z"
   },
   {
    "duration": 7,
    "start_time": "2024-08-21T18:59:10.753Z"
   },
   {
    "duration": 4,
    "start_time": "2024-08-21T18:59:15.450Z"
   },
   {
    "duration": 4,
    "start_time": "2024-08-21T18:59:33.379Z"
   },
   {
    "duration": 9,
    "start_time": "2024-08-21T18:59:38.650Z"
   },
   {
    "duration": 11,
    "start_time": "2024-08-21T19:00:24.234Z"
   },
   {
    "duration": 25,
    "start_time": "2024-08-21T19:00:40.738Z"
   },
   {
    "duration": 81,
    "start_time": "2024-08-21T19:01:22.995Z"
   },
   {
    "duration": 89,
    "start_time": "2024-08-21T19:01:43.220Z"
   },
   {
    "duration": 38,
    "start_time": "2024-08-21T19:01:53.229Z"
   },
   {
    "duration": 8,
    "start_time": "2024-08-21T19:07:17.866Z"
   },
   {
    "duration": 5,
    "start_time": "2024-08-21T19:07:18.666Z"
   },
   {
    "duration": 32,
    "start_time": "2024-08-21T19:07:19.211Z"
   },
   {
    "duration": 13,
    "start_time": "2024-08-21T19:07:36.658Z"
   },
   {
    "duration": 13,
    "start_time": "2024-08-21T19:07:51.197Z"
   },
   {
    "duration": 13,
    "start_time": "2024-08-22T04:35:26.623Z"
   },
   {
    "duration": 0,
    "start_time": "2024-08-22T04:35:26.639Z"
   },
   {
    "duration": 0,
    "start_time": "2024-08-22T04:35:26.641Z"
   },
   {
    "duration": 0,
    "start_time": "2024-08-22T04:35:26.644Z"
   },
   {
    "duration": 0,
    "start_time": "2024-08-22T04:35:26.646Z"
   },
   {
    "duration": 359,
    "start_time": "2024-08-22T04:35:26.651Z"
   },
   {
    "duration": 0,
    "start_time": "2024-08-22T04:35:27.022Z"
   },
   {
    "duration": 0,
    "start_time": "2024-08-22T04:35:27.024Z"
   },
   {
    "duration": 0,
    "start_time": "2024-08-22T04:35:27.027Z"
   },
   {
    "duration": 0,
    "start_time": "2024-08-22T04:35:27.029Z"
   },
   {
    "duration": 0,
    "start_time": "2024-08-22T04:35:27.032Z"
   },
   {
    "duration": 0,
    "start_time": "2024-08-22T04:35:27.034Z"
   },
   {
    "duration": 0,
    "start_time": "2024-08-22T04:35:27.037Z"
   },
   {
    "duration": 0,
    "start_time": "2024-08-22T04:35:27.039Z"
   },
   {
    "duration": 0,
    "start_time": "2024-08-22T04:35:27.041Z"
   },
   {
    "duration": 0,
    "start_time": "2024-08-22T04:35:27.044Z"
   },
   {
    "duration": 0,
    "start_time": "2024-08-22T04:35:27.047Z"
   },
   {
    "duration": 0,
    "start_time": "2024-08-22T04:35:27.049Z"
   },
   {
    "duration": 0,
    "start_time": "2024-08-22T04:35:27.052Z"
   },
   {
    "duration": 0,
    "start_time": "2024-08-22T04:35:27.056Z"
   },
   {
    "duration": 0,
    "start_time": "2024-08-22T04:35:27.058Z"
   },
   {
    "duration": 0,
    "start_time": "2024-08-22T04:35:27.060Z"
   },
   {
    "duration": 0,
    "start_time": "2024-08-22T04:35:27.122Z"
   },
   {
    "duration": 0,
    "start_time": "2024-08-22T04:35:27.125Z"
   },
   {
    "duration": 0,
    "start_time": "2024-08-22T04:35:27.127Z"
   },
   {
    "duration": 0,
    "start_time": "2024-08-22T04:35:27.130Z"
   },
   {
    "duration": 0,
    "start_time": "2024-08-22T04:35:27.132Z"
   },
   {
    "duration": 0,
    "start_time": "2024-08-22T04:35:27.135Z"
   },
   {
    "duration": 0,
    "start_time": "2024-08-22T04:35:27.137Z"
   },
   {
    "duration": 0,
    "start_time": "2024-08-22T04:35:27.140Z"
   },
   {
    "duration": 1,
    "start_time": "2024-08-22T04:35:27.141Z"
   },
   {
    "duration": 0,
    "start_time": "2024-08-22T04:35:27.144Z"
   },
   {
    "duration": 0,
    "start_time": "2024-08-22T04:35:27.147Z"
   },
   {
    "duration": 0,
    "start_time": "2024-08-22T04:35:27.149Z"
   },
   {
    "duration": 0,
    "start_time": "2024-08-22T04:35:27.152Z"
   },
   {
    "duration": 0,
    "start_time": "2024-08-22T04:35:27.154Z"
   },
   {
    "duration": 15614,
    "start_time": "2024-08-22T04:35:45.613Z"
   },
   {
    "duration": 1590,
    "start_time": "2024-08-22T04:36:01.231Z"
   },
   {
    "duration": 14,
    "start_time": "2024-08-22T04:36:02.824Z"
   },
   {
    "duration": 6,
    "start_time": "2024-08-22T04:36:02.840Z"
   },
   {
    "duration": 19,
    "start_time": "2024-08-22T04:36:02.851Z"
   },
   {
    "duration": 50,
    "start_time": "2024-08-22T04:36:02.873Z"
   },
   {
    "duration": 6,
    "start_time": "2024-08-22T04:36:02.926Z"
   },
   {
    "duration": 6,
    "start_time": "2024-08-22T04:36:02.935Z"
   },
   {
    "duration": 29,
    "start_time": "2024-08-22T04:36:02.944Z"
   },
   {
    "duration": 492,
    "start_time": "2024-08-22T04:36:02.976Z"
   },
   {
    "duration": 4816,
    "start_time": "2024-08-22T04:36:03.471Z"
   },
   {
    "duration": 4,
    "start_time": "2024-08-22T04:36:08.291Z"
   },
   {
    "duration": 24,
    "start_time": "2024-08-22T04:36:08.299Z"
   },
   {
    "duration": 15,
    "start_time": "2024-08-22T04:36:08.333Z"
   },
   {
    "duration": 16,
    "start_time": "2024-08-22T04:36:08.350Z"
   },
   {
    "duration": 135,
    "start_time": "2024-08-22T04:36:08.369Z"
   },
   {
    "duration": 16,
    "start_time": "2024-08-22T04:36:08.507Z"
   },
   {
    "duration": 8,
    "start_time": "2024-08-22T04:36:08.526Z"
   },
   {
    "duration": 5,
    "start_time": "2024-08-22T04:36:08.537Z"
   },
   {
    "duration": 5,
    "start_time": "2024-08-22T04:36:08.545Z"
   },
   {
    "duration": 10,
    "start_time": "2024-08-22T04:36:08.553Z"
   },
   {
    "duration": 61,
    "start_time": "2024-08-22T04:36:08.566Z"
   },
   {
    "duration": 92,
    "start_time": "2024-08-22T04:36:08.630Z"
   },
   {
    "duration": 109,
    "start_time": "2024-08-22T04:36:08.726Z"
   },
   {
    "duration": 37,
    "start_time": "2024-08-22T04:36:08.838Z"
   },
   {
    "duration": 8,
    "start_time": "2024-08-22T04:36:08.878Z"
   },
   {
    "duration": 36,
    "start_time": "2024-08-22T04:36:08.889Z"
   },
   {
    "duration": 12,
    "start_time": "2024-08-22T04:36:08.928Z"
   },
   {
    "duration": 5,
    "start_time": "2024-08-22T04:36:08.942Z"
   },
   {
    "duration": 73,
    "start_time": "2024-08-22T04:36:08.950Z"
   },
   {
    "duration": 5,
    "start_time": "2024-08-22T04:36:09.025Z"
   },
   {
    "duration": 88,
    "start_time": "2024-08-22T04:36:09.034Z"
   },
   {
    "duration": 20,
    "start_time": "2024-08-22T04:36:09.125Z"
   },
   {
    "duration": 78,
    "start_time": "2024-08-22T04:36:09.148Z"
   },
   {
    "duration": 3,
    "start_time": "2024-08-22T04:36:09.229Z"
   },
   {
    "duration": 89,
    "start_time": "2024-08-22T04:36:09.235Z"
   }
  ],
  "kernelspec": {
   "display_name": "Python 3 (ipykernel)",
   "language": "python",
   "name": "python3"
  },
  "language_info": {
   "codemirror_mode": {
    "name": "ipython",
    "version": 3
   },
   "file_extension": ".py",
   "mimetype": "text/x-python",
   "name": "python",
   "nbconvert_exporter": "python",
   "pygments_lexer": "ipython3",
   "version": "3.9.19"
  },
  "toc": {
   "base_numbering": 1,
   "nav_menu": {},
   "number_sections": true,
   "sideBar": true,
   "skip_h1_title": true,
   "title_cell": "Table of Contents",
   "title_sidebar": "Contents",
   "toc_cell": false,
   "toc_position": {},
   "toc_section_display": true,
   "toc_window_display": false
  }
 },
 "nbformat": 4,
 "nbformat_minor": 4
}
