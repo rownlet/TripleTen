{
 "cells": [
  {
   "cell_type": "markdown",
   "metadata": {
    "id": "R5WY2agvtCsc"
   },
   "source": [
    "# Churn Rate Telecom"
   ]
  },
  {
   "cell_type": "markdown",
   "metadata": {
    "id": "GYKdQrZjtCsd"
   },
   "source": [
    "Al operador de telecomunicaciones Interconnect le gustaría poder pronosticar su tasa de cancelación de clientes. Si se descubre que un usuario o usuaria planea irse, se le ofrecerán códigos promocionales y opciones de planes especiales. El equipo de marketing de Interconnect ha recopilado algunos de los datos personales de sus clientes, incluyendo información sobre sus planes y contratos."
   ]
  },
  {
   "cell_type": "markdown",
   "metadata": {
    "id": "4QEjz716tCse"
   },
   "source": [
    "__Servicios de Interconnect__\n",
    "\n",
    "Interconnect proporciona principalmente dos tipos de servicios de comunicación:\n",
    "\n",
    "1. `Teléfono fijo`. El teléfono se puede conectar a varias líneas de manera simultánea.\n",
    "<br>\n",
    "\n",
    "2. `Internet`. La red se puede configurar a través de una línea telefónica (DSL, *línea de abonado digital*) o a través de un cable de fibra óptica.\n",
    "\n",
    "Algunos otros servicios que ofrece la empresa incluyen:\n",
    "\n",
    "- Seguridad en Internet: software antivirus (*Protección De Dispositivo*) y un bloqueador de sitios web maliciosos (*Seguridad En Línea*).\n",
    "- Línea de soporte técnico (*SoporteTécnico*).\n",
    "- Almacenamiento de archivos en la nube y backup de datos (*Backup Online*).\n",
    "- Streaming de TV (*Streaming TV*) y directorio de películas (*Streaming Películas*)\n",
    "\n",
    "La clientela puede elegir entre un pago mensual o firmar un contrato de 1 o 2 años. Puede utilizar varios métodos de pago y recibir una factura electrónica después de una transacción.\n",
    "\n",
    "Para predecir la tasa de cancelación, se crean `modelos de clasificación` los cuales se comparan para elegir el mejor.\n",
    "\n",
    "Como métrica principal para evaluar el modelo se usa el valor `AUC-ROC`, es decir el área bajo la curva característica operativa del receptor. Usada para medir el acierto en la predicción de eventos binarios.\n",
    "\n",
    "Como métrica adicional se usa el valor de `exactitud`.\n",
    "\n",
    "---"
   ]
  },
  {
   "cell_type": "markdown",
   "metadata": {
    "id": "000NgapStCse"
   },
   "source": [
    "## Tabla de Contenido\n",
    "\n",
    "1. **Plan de Trabajo**\n",
    "2. **Inicialización del Proyecto**\n",
    "3. **Preprocesamiento de Datos**\n",
    "4. **Análisis Exploratorio de Datos (EDA)**\n",
    "5. **Análisis de Correlación entre Variables**\n",
    "6. **Preparación y Evaluación de Modelos**\n",
    "   - Preparación de los Conjuntos de Datos\n",
    "   - Función de Evaluación de Modelos\n",
    "   - Modelos de Clasificación:\n",
    "      - Logistic Regression\n",
    "      - Decision Tree\n",
    "      - Random Forest\n",
    "      - LGBM Classifier\n",
    "7. **Conclusiones**\n",
    "\n",
    "---\n",
    "\n",
    "## Plan de Trabajo\n",
    "\n",
    "1. **Vista previa y preprocesamiento de datos**:\n",
    "\n",
    "   - Cargar y examinar los datos.\n",
    "   \n",
    "   - Realizar una limpieza inicial y preprocesamiento (duplicados, nulos, outliers).\n",
    "   \n",
    "   <br>\n",
    "2. **Análisis Exploratorio de Datos (EDA)**:\n",
    "\n",
    "   - Explorar la distribución de variables clave, especialmente las que podrían influir en la cancelación.\n",
    "   \n",
    "   - Incluir una sección de correlación para analizar las relaciones entre las variables.\n",
    "   \n",
    "   <br>\n",
    "3. **Adaptación de características para entrenamiento**:\n",
    "\n",
    "   - Transformar variables categóricas a formato numérico, según lo requiera cada modelo de clasificación.\n",
    "   \n",
    "   <br>\n",
    "   \n",
    "4. **Entrenamiento de modelos predictivos**:\n",
    "\n",
    "   - Separar los datos en conjuntos de entrenamiento y prueba, asegurando una representación adecuada de contratos cancelados en el conjunto de entrenamiento.\n",
    "   \n",
    "   - Entrenar múltiples modelos de clasificación, como regresión logística, árboles de decisión, bosque aleatorio, y LGBM Classifier.\n",
    "   \n",
    "   - Ajustar hiperparámetros para optimizar el rendimiento.\n",
    "   <br>\n",
    "   \n",
    "5. **Evaluación y comparación de modelos**:\n",
    "\n",
    "   - Evaluar cada modelo, utilizando el valor **AUC-ROC** como métrica principal y la **exactitud** como métrica secundaria.\n",
    "   \n",
    "   - Comparar los resultados y seleccionar el mejor modelo según los valores de estas métricas.\n",
    "   <br>\n",
    "   \n",
    "---"
   ]
  },
  {
   "cell_type": "markdown",
   "metadata": {
    "id": "-uuQpBE6tCse"
   },
   "source": [
    "## Descripción de los Datos"
   ]
  },
  {
   "cell_type": "markdown",
   "metadata": {
    "id": "ft0LTgyFtCsf"
   },
   "source": [
    "Los datos consisten en archivos obtenidos de diferentes fuentes:\n",
    "\n",
    "- `contract.csv` — información del contrato;\n",
    "\n",
    "- `personal.csv` — datos personales del cliente;\n",
    "\n",
    "- `internet.csv` — información sobre los servicios de Internet;\n",
    "\n",
    "- `phone.csv` — información sobre los servicios telefónicos.\n",
    "\n",
    "En cada archivo, la columna `customerID` contiene un código único asignado a cada cliente. La información del contrato es válida a partir del 1 de febrero de 2020."
   ]
  },
  {
   "cell_type": "code",
   "execution_count": 1,
   "metadata": {
    "id": "A3_p-a2OtMrJ"
   },
   "outputs": [],
   "source": [
    "%%capture\n",
    "%pip install catboost"
   ]
  },
  {
   "cell_type": "markdown",
   "metadata": {
    "id": "fCZItRBcxdoG"
   },
   "source": [
    "<div class=\"alert alert-block alert-info\">\n",
    "<b>Comentario del revisor (1ra Iteracion)</b> <a class=“tocSkip”></a>\n",
    "\n",
    "Un truco aquí para cuando incluyas celdas que instalan nuevas librerías es que al inicio de la celda incluyas `%%capture` así todos los logs de la instalación no se visualizan\n",
    "</div>"
   ]
  },
  {
   "cell_type": "code",
   "execution_count": 2,
   "metadata": {
    "colab": {
     "base_uri": "https://localhost:8080/"
    },
    "id": "rX_L4hKstCsf",
    "outputId": "3d3ce244-323a-4362-8339-ea2176a185e7"
   },
   "outputs": [],
   "source": [
    "# Importar librerias\n",
    "import numpy as np\n",
    "import pandas as pd\n",
    "import matplotlib.pyplot as plt\n",
    "import seaborn as sns\n",
    "import time\n",
    "from sklearn.preprocessing import StandardScaler, LabelEncoder\n",
    "from sklearn.model_selection import train_test_split, GridSearchCV\n",
    "from sklearn.linear_model import LogisticRegression\n",
    "from sklearn.tree import DecisionTreeClassifier\n",
    "from sklearn.ensemble import RandomForestClassifier, GradientBoostingClassifier\n",
    "from sklearn.metrics import roc_auc_score, roc_curve, accuracy_score, f1_score\n",
    "\n",
    "from lightgbm import LGBMClassifier\n",
    "from catboost import CatBoostClassifier\n",
    "\n",
    "import warnings\n",
    "warnings.filterwarnings('ignore')"
   ]
  },
  {
   "cell_type": "code",
   "execution_count": 3,
   "metadata": {
    "id": "1lAhSTBatCsf",
    "scrolled": true
   },
   "outputs": [],
   "source": [
    "# Cargar Datos y convertir a DataFrame\n",
    "contract = pd.read_csv('/datasets/contract.csv')\n",
    "personal = pd.read_csv('/datasets/personal.csv')\n",
    "internet = pd.read_csv('/datasets/final_provider/internet.csv')\n",
    "phone = pd.read_csv('/datasets/phone.csv')"
   ]
  },
  {
   "cell_type": "code",
   "execution_count": 4,
   "metadata": {
    "colab": {
     "base_uri": "https://localhost:8080/"
    },
    "id": "A6jtWOBgtCsg",
    "outputId": "31762c1f-803b-4ca7-9465-bfcf13933631"
   },
   "outputs": [
    {
     "name": "stdout",
     "output_type": "stream",
     "text": [
      "(7043, 8)\n",
      "(5517, 8)\n",
      "(7043, 5)\n",
      "(6361, 2)\n"
     ]
    }
   ],
   "source": [
    "# Examinar estructura de dfs\n",
    "for df in [contract, internet, personal, phone]:\n",
    "  print(df.shape)"
   ]
  },
  {
   "cell_type": "markdown",
   "metadata": {
    "id": "2JXW_bTNtCsg"
   },
   "source": [
    "Se oberva que `contract` y `personal` tienen la misma cantidad de datos.\n",
    "\n",
    "La diferencia en la cantidad de información, se debe probablemente a que no todos los usuarios cuentan con plan telefónico o  de internet y viceversa."
   ]
  },
  {
   "cell_type": "code",
   "execution_count": 5,
   "metadata": {
    "colab": {
     "base_uri": "https://localhost:8080/",
     "height": 206
    },
    "id": "GFQE0SvmtCsg",
    "outputId": "0f33ac92-3268-433a-9455-21d7756d8c2f",
    "scrolled": true
   },
   "outputs": [
    {
     "data": {
      "text/html": [
       "<div>\n",
       "<style scoped>\n",
       "    .dataframe tbody tr th:only-of-type {\n",
       "        vertical-align: middle;\n",
       "    }\n",
       "\n",
       "    .dataframe tbody tr th {\n",
       "        vertical-align: top;\n",
       "    }\n",
       "\n",
       "    .dataframe thead th {\n",
       "        text-align: right;\n",
       "    }\n",
       "</style>\n",
       "<table border=\"1\" class=\"dataframe\">\n",
       "  <thead>\n",
       "    <tr style=\"text-align: right;\">\n",
       "      <th></th>\n",
       "      <th>customerID</th>\n",
       "      <th>BeginDate</th>\n",
       "      <th>EndDate</th>\n",
       "      <th>Type</th>\n",
       "      <th>PaperlessBilling</th>\n",
       "      <th>PaymentMethod</th>\n",
       "      <th>MonthlyCharges</th>\n",
       "      <th>TotalCharges</th>\n",
       "    </tr>\n",
       "  </thead>\n",
       "  <tbody>\n",
       "    <tr>\n",
       "      <th>0</th>\n",
       "      <td>7590-VHVEG</td>\n",
       "      <td>2020-01-01</td>\n",
       "      <td>No</td>\n",
       "      <td>Month-to-month</td>\n",
       "      <td>Yes</td>\n",
       "      <td>Electronic check</td>\n",
       "      <td>29.85</td>\n",
       "      <td>29.85</td>\n",
       "    </tr>\n",
       "    <tr>\n",
       "      <th>1</th>\n",
       "      <td>5575-GNVDE</td>\n",
       "      <td>2017-04-01</td>\n",
       "      <td>No</td>\n",
       "      <td>One year</td>\n",
       "      <td>No</td>\n",
       "      <td>Mailed check</td>\n",
       "      <td>56.95</td>\n",
       "      <td>1889.5</td>\n",
       "    </tr>\n",
       "    <tr>\n",
       "      <th>2</th>\n",
       "      <td>3668-QPYBK</td>\n",
       "      <td>2019-10-01</td>\n",
       "      <td>2019-12-01 00:00:00</td>\n",
       "      <td>Month-to-month</td>\n",
       "      <td>Yes</td>\n",
       "      <td>Mailed check</td>\n",
       "      <td>53.85</td>\n",
       "      <td>108.15</td>\n",
       "    </tr>\n",
       "    <tr>\n",
       "      <th>3</th>\n",
       "      <td>7795-CFOCW</td>\n",
       "      <td>2016-05-01</td>\n",
       "      <td>No</td>\n",
       "      <td>One year</td>\n",
       "      <td>No</td>\n",
       "      <td>Bank transfer (automatic)</td>\n",
       "      <td>42.30</td>\n",
       "      <td>1840.75</td>\n",
       "    </tr>\n",
       "    <tr>\n",
       "      <th>4</th>\n",
       "      <td>9237-HQITU</td>\n",
       "      <td>2019-09-01</td>\n",
       "      <td>2019-11-01 00:00:00</td>\n",
       "      <td>Month-to-month</td>\n",
       "      <td>Yes</td>\n",
       "      <td>Electronic check</td>\n",
       "      <td>70.70</td>\n",
       "      <td>151.65</td>\n",
       "    </tr>\n",
       "  </tbody>\n",
       "</table>\n",
       "</div>"
      ],
      "text/plain": [
       "   customerID   BeginDate              EndDate            Type  \\\n",
       "0  7590-VHVEG  2020-01-01                   No  Month-to-month   \n",
       "1  5575-GNVDE  2017-04-01                   No        One year   \n",
       "2  3668-QPYBK  2019-10-01  2019-12-01 00:00:00  Month-to-month   \n",
       "3  7795-CFOCW  2016-05-01                   No        One year   \n",
       "4  9237-HQITU  2019-09-01  2019-11-01 00:00:00  Month-to-month   \n",
       "\n",
       "  PaperlessBilling              PaymentMethod  MonthlyCharges TotalCharges  \n",
       "0              Yes           Electronic check           29.85        29.85  \n",
       "1               No               Mailed check           56.95       1889.5  \n",
       "2              Yes               Mailed check           53.85       108.15  \n",
       "3               No  Bank transfer (automatic)           42.30      1840.75  \n",
       "4              Yes           Electronic check           70.70       151.65  "
      ]
     },
     "execution_count": 5,
     "metadata": {},
     "output_type": "execute_result"
    }
   ],
   "source": [
    "contract.head()"
   ]
  },
  {
   "cell_type": "code",
   "execution_count": 6,
   "metadata": {
    "id": "wVAPc15jwyGD"
   },
   "outputs": [],
   "source": [
    "# Renombrar columnas\n",
    "snake_contract = ['customer_id', 'begin_date','end_date', 'type', 'paperless_billing', 'payment_method', 'monthly_charges', 'total_charges']\n",
    "\n",
    "contract.columns = snake_contract"
   ]
  },
  {
   "cell_type": "markdown",
   "metadata": {
    "id": "gYB4EVKCwyGD"
   },
   "source": [
    "<div class=\"alert alert-block alert-warning\">\n",
    "<b>Comentario del revisor (1ra Iteracion)</b> <a class=“tocSkip”></a>\n",
    "\n",
    "Cuando tengas columnas en este estilo, puedes optar por cambiarlas a snake case para que sea más acorde a como se trabaja en Python. Es decir, en lugar de EndDate, pasarlo a `end_date`\n",
    "</div>"
   ]
  },
  {
   "cell_type": "markdown",
   "metadata": {
    "id": "csnh2GC_wyGD"
   },
   "source": [
    "<div class=\"alert alert-block alert-info\">\n",
    "<b>Respuesta del estudiante</b> <a class=“tocSkip”></a>\n",
    "Se ha solucionado el problema con el origen de las bases de datos.\n",
    "</div>"
   ]
  },
  {
   "cell_type": "code",
   "execution_count": 7,
   "metadata": {
    "colab": {
     "base_uri": "https://localhost:8080/"
    },
    "id": "HETZpbmYtCsg",
    "outputId": "57b0bfbf-598b-4fa3-dd34-19b86acef5c1"
   },
   "outputs": [
    {
     "name": "stdout",
     "output_type": "stream",
     "text": [
      "<class 'pandas.core.frame.DataFrame'>\n",
      "RangeIndex: 7043 entries, 0 to 7042\n",
      "Data columns (total 8 columns):\n",
      " #   Column             Non-Null Count  Dtype  \n",
      "---  ------             --------------  -----  \n",
      " 0   customer_id        7043 non-null   object \n",
      " 1   begin_date         7043 non-null   object \n",
      " 2   end_date           7043 non-null   object \n",
      " 3   type               7043 non-null   object \n",
      " 4   paperless_billing  7043 non-null   object \n",
      " 5   payment_method     7043 non-null   object \n",
      " 6   monthly_charges    7043 non-null   float64\n",
      " 7   total_charges      7043 non-null   object \n",
      "dtypes: float64(1), object(7)\n",
      "memory usage: 440.3+ KB\n"
     ]
    }
   ],
   "source": [
    "contract.info()"
   ]
  },
  {
   "cell_type": "code",
   "execution_count": 8,
   "metadata": {
    "colab": {
     "base_uri": "https://localhost:8080/",
     "height": 206
    },
    "id": "l6TUd_9LtCsg",
    "outputId": "5ee2e13d-5a3f-4d42-d9ab-5d2b8235197f"
   },
   "outputs": [
    {
     "data": {
      "text/html": [
       "<div>\n",
       "<style scoped>\n",
       "    .dataframe tbody tr th:only-of-type {\n",
       "        vertical-align: middle;\n",
       "    }\n",
       "\n",
       "    .dataframe tbody tr th {\n",
       "        vertical-align: top;\n",
       "    }\n",
       "\n",
       "    .dataframe thead th {\n",
       "        text-align: right;\n",
       "    }\n",
       "</style>\n",
       "<table border=\"1\" class=\"dataframe\">\n",
       "  <thead>\n",
       "    <tr style=\"text-align: right;\">\n",
       "      <th></th>\n",
       "      <th>customerID</th>\n",
       "      <th>gender</th>\n",
       "      <th>SeniorCitizen</th>\n",
       "      <th>Partner</th>\n",
       "      <th>Dependents</th>\n",
       "    </tr>\n",
       "  </thead>\n",
       "  <tbody>\n",
       "    <tr>\n",
       "      <th>0</th>\n",
       "      <td>7590-VHVEG</td>\n",
       "      <td>Female</td>\n",
       "      <td>0</td>\n",
       "      <td>Yes</td>\n",
       "      <td>No</td>\n",
       "    </tr>\n",
       "    <tr>\n",
       "      <th>1</th>\n",
       "      <td>5575-GNVDE</td>\n",
       "      <td>Male</td>\n",
       "      <td>0</td>\n",
       "      <td>No</td>\n",
       "      <td>No</td>\n",
       "    </tr>\n",
       "    <tr>\n",
       "      <th>2</th>\n",
       "      <td>3668-QPYBK</td>\n",
       "      <td>Male</td>\n",
       "      <td>0</td>\n",
       "      <td>No</td>\n",
       "      <td>No</td>\n",
       "    </tr>\n",
       "    <tr>\n",
       "      <th>3</th>\n",
       "      <td>7795-CFOCW</td>\n",
       "      <td>Male</td>\n",
       "      <td>0</td>\n",
       "      <td>No</td>\n",
       "      <td>No</td>\n",
       "    </tr>\n",
       "    <tr>\n",
       "      <th>4</th>\n",
       "      <td>9237-HQITU</td>\n",
       "      <td>Female</td>\n",
       "      <td>0</td>\n",
       "      <td>No</td>\n",
       "      <td>No</td>\n",
       "    </tr>\n",
       "  </tbody>\n",
       "</table>\n",
       "</div>"
      ],
      "text/plain": [
       "   customerID  gender  SeniorCitizen Partner Dependents\n",
       "0  7590-VHVEG  Female              0     Yes         No\n",
       "1  5575-GNVDE    Male              0      No         No\n",
       "2  3668-QPYBK    Male              0      No         No\n",
       "3  7795-CFOCW    Male              0      No         No\n",
       "4  9237-HQITU  Female              0      No         No"
      ]
     },
     "execution_count": 8,
     "metadata": {},
     "output_type": "execute_result"
    }
   ],
   "source": [
    "personal.head()"
   ]
  },
  {
   "cell_type": "code",
   "execution_count": 9,
   "metadata": {
    "id": "vPuFMPmCwyGE"
   },
   "outputs": [],
   "source": [
    "# Renombrar columnas\n",
    "snake_personal = ['customer_id', 'gender', 'senior_citizen', 'partner', 'dependents']\n",
    "\n",
    "personal.columns = snake_personal"
   ]
  },
  {
   "cell_type": "code",
   "execution_count": 10,
   "metadata": {
    "colab": {
     "base_uri": "https://localhost:8080/"
    },
    "id": "nCafsTkjtCsh",
    "outputId": "26d8d464-db2e-482b-ffe0-161c91add496"
   },
   "outputs": [
    {
     "name": "stdout",
     "output_type": "stream",
     "text": [
      "<class 'pandas.core.frame.DataFrame'>\n",
      "RangeIndex: 7043 entries, 0 to 7042\n",
      "Data columns (total 5 columns):\n",
      " #   Column          Non-Null Count  Dtype \n",
      "---  ------          --------------  ----- \n",
      " 0   customer_id     7043 non-null   object\n",
      " 1   gender          7043 non-null   object\n",
      " 2   senior_citizen  7043 non-null   int64 \n",
      " 3   partner         7043 non-null   object\n",
      " 4   dependents      7043 non-null   object\n",
      "dtypes: int64(1), object(4)\n",
      "memory usage: 275.2+ KB\n"
     ]
    }
   ],
   "source": [
    "personal.info()"
   ]
  },
  {
   "cell_type": "code",
   "execution_count": 11,
   "metadata": {
    "colab": {
     "base_uri": "https://localhost:8080/",
     "height": 206
    },
    "id": "HdM6794ttCsh",
    "outputId": "d3ef31bd-a0d0-4600-ef09-4dbd47707395"
   },
   "outputs": [
    {
     "data": {
      "text/html": [
       "<div>\n",
       "<style scoped>\n",
       "    .dataframe tbody tr th:only-of-type {\n",
       "        vertical-align: middle;\n",
       "    }\n",
       "\n",
       "    .dataframe tbody tr th {\n",
       "        vertical-align: top;\n",
       "    }\n",
       "\n",
       "    .dataframe thead th {\n",
       "        text-align: right;\n",
       "    }\n",
       "</style>\n",
       "<table border=\"1\" class=\"dataframe\">\n",
       "  <thead>\n",
       "    <tr style=\"text-align: right;\">\n",
       "      <th></th>\n",
       "      <th>customerID</th>\n",
       "      <th>InternetService</th>\n",
       "      <th>OnlineSecurity</th>\n",
       "      <th>OnlineBackup</th>\n",
       "      <th>DeviceProtection</th>\n",
       "      <th>TechSupport</th>\n",
       "      <th>StreamingTV</th>\n",
       "      <th>StreamingMovies</th>\n",
       "    </tr>\n",
       "  </thead>\n",
       "  <tbody>\n",
       "    <tr>\n",
       "      <th>0</th>\n",
       "      <td>7590-VHVEG</td>\n",
       "      <td>DSL</td>\n",
       "      <td>No</td>\n",
       "      <td>Yes</td>\n",
       "      <td>No</td>\n",
       "      <td>No</td>\n",
       "      <td>No</td>\n",
       "      <td>No</td>\n",
       "    </tr>\n",
       "    <tr>\n",
       "      <th>1</th>\n",
       "      <td>5575-GNVDE</td>\n",
       "      <td>DSL</td>\n",
       "      <td>Yes</td>\n",
       "      <td>No</td>\n",
       "      <td>Yes</td>\n",
       "      <td>No</td>\n",
       "      <td>No</td>\n",
       "      <td>No</td>\n",
       "    </tr>\n",
       "    <tr>\n",
       "      <th>2</th>\n",
       "      <td>3668-QPYBK</td>\n",
       "      <td>DSL</td>\n",
       "      <td>Yes</td>\n",
       "      <td>Yes</td>\n",
       "      <td>No</td>\n",
       "      <td>No</td>\n",
       "      <td>No</td>\n",
       "      <td>No</td>\n",
       "    </tr>\n",
       "    <tr>\n",
       "      <th>3</th>\n",
       "      <td>7795-CFOCW</td>\n",
       "      <td>DSL</td>\n",
       "      <td>Yes</td>\n",
       "      <td>No</td>\n",
       "      <td>Yes</td>\n",
       "      <td>Yes</td>\n",
       "      <td>No</td>\n",
       "      <td>No</td>\n",
       "    </tr>\n",
       "    <tr>\n",
       "      <th>4</th>\n",
       "      <td>9237-HQITU</td>\n",
       "      <td>Fiber optic</td>\n",
       "      <td>No</td>\n",
       "      <td>No</td>\n",
       "      <td>No</td>\n",
       "      <td>No</td>\n",
       "      <td>No</td>\n",
       "      <td>No</td>\n",
       "    </tr>\n",
       "  </tbody>\n",
       "</table>\n",
       "</div>"
      ],
      "text/plain": [
       "   customerID InternetService OnlineSecurity OnlineBackup DeviceProtection  \\\n",
       "0  7590-VHVEG             DSL             No          Yes               No   \n",
       "1  5575-GNVDE             DSL            Yes           No              Yes   \n",
       "2  3668-QPYBK             DSL            Yes          Yes               No   \n",
       "3  7795-CFOCW             DSL            Yes           No              Yes   \n",
       "4  9237-HQITU     Fiber optic             No           No               No   \n",
       "\n",
       "  TechSupport StreamingTV StreamingMovies  \n",
       "0          No          No              No  \n",
       "1          No          No              No  \n",
       "2          No          No              No  \n",
       "3         Yes          No              No  \n",
       "4          No          No              No  "
      ]
     },
     "execution_count": 11,
     "metadata": {},
     "output_type": "execute_result"
    }
   ],
   "source": [
    "internet.head()"
   ]
  },
  {
   "cell_type": "code",
   "execution_count": 12,
   "metadata": {
    "id": "FbDCx4Y1yADM"
   },
   "outputs": [],
   "source": [
    "# Renombrar columnas\n",
    "snake_internet = ['customer_id', 'internet_service', 'online_security', 'online_backup', 'device_protection',\n",
    "                  'tech_support', 'streaming_tv', 'streaming_movies']\n",
    "\n",
    "internet.columns = snake_internet"
   ]
  },
  {
   "cell_type": "code",
   "execution_count": 13,
   "metadata": {
    "colab": {
     "base_uri": "https://localhost:8080/"
    },
    "id": "2rNRYMeEtCsh",
    "outputId": "08626398-82ee-4d0f-da3f-1e44c48d2a60"
   },
   "outputs": [
    {
     "name": "stdout",
     "output_type": "stream",
     "text": [
      "<class 'pandas.core.frame.DataFrame'>\n",
      "RangeIndex: 5517 entries, 0 to 5516\n",
      "Data columns (total 8 columns):\n",
      " #   Column             Non-Null Count  Dtype \n",
      "---  ------             --------------  ----- \n",
      " 0   customer_id        5517 non-null   object\n",
      " 1   internet_service   5517 non-null   object\n",
      " 2   online_security    5517 non-null   object\n",
      " 3   online_backup      5517 non-null   object\n",
      " 4   device_protection  5517 non-null   object\n",
      " 5   tech_support       5517 non-null   object\n",
      " 6   streaming_tv       5517 non-null   object\n",
      " 7   streaming_movies   5517 non-null   object\n",
      "dtypes: object(8)\n",
      "memory usage: 344.9+ KB\n"
     ]
    }
   ],
   "source": [
    "internet.info()"
   ]
  },
  {
   "cell_type": "code",
   "execution_count": 14,
   "metadata": {
    "colab": {
     "base_uri": "https://localhost:8080/",
     "height": 206
    },
    "id": "-gBD4-1RtCsh",
    "outputId": "1c982905-e3d3-4775-8812-f7a68023b016"
   },
   "outputs": [
    {
     "data": {
      "text/html": [
       "<div>\n",
       "<style scoped>\n",
       "    .dataframe tbody tr th:only-of-type {\n",
       "        vertical-align: middle;\n",
       "    }\n",
       "\n",
       "    .dataframe tbody tr th {\n",
       "        vertical-align: top;\n",
       "    }\n",
       "\n",
       "    .dataframe thead th {\n",
       "        text-align: right;\n",
       "    }\n",
       "</style>\n",
       "<table border=\"1\" class=\"dataframe\">\n",
       "  <thead>\n",
       "    <tr style=\"text-align: right;\">\n",
       "      <th></th>\n",
       "      <th>customerID</th>\n",
       "      <th>MultipleLines</th>\n",
       "    </tr>\n",
       "  </thead>\n",
       "  <tbody>\n",
       "    <tr>\n",
       "      <th>0</th>\n",
       "      <td>5575-GNVDE</td>\n",
       "      <td>No</td>\n",
       "    </tr>\n",
       "    <tr>\n",
       "      <th>1</th>\n",
       "      <td>3668-QPYBK</td>\n",
       "      <td>No</td>\n",
       "    </tr>\n",
       "    <tr>\n",
       "      <th>2</th>\n",
       "      <td>9237-HQITU</td>\n",
       "      <td>No</td>\n",
       "    </tr>\n",
       "    <tr>\n",
       "      <th>3</th>\n",
       "      <td>9305-CDSKC</td>\n",
       "      <td>Yes</td>\n",
       "    </tr>\n",
       "    <tr>\n",
       "      <th>4</th>\n",
       "      <td>1452-KIOVK</td>\n",
       "      <td>Yes</td>\n",
       "    </tr>\n",
       "  </tbody>\n",
       "</table>\n",
       "</div>"
      ],
      "text/plain": [
       "   customerID MultipleLines\n",
       "0  5575-GNVDE            No\n",
       "1  3668-QPYBK            No\n",
       "2  9237-HQITU            No\n",
       "3  9305-CDSKC           Yes\n",
       "4  1452-KIOVK           Yes"
      ]
     },
     "execution_count": 14,
     "metadata": {},
     "output_type": "execute_result"
    }
   ],
   "source": [
    "phone.head()"
   ]
  },
  {
   "cell_type": "code",
   "execution_count": 15,
   "metadata": {
    "id": "CwtgwpUHyTve"
   },
   "outputs": [],
   "source": [
    "# Renombrar columnas\n",
    "snake_phone = ['customer_id', 'multiple_lines']\n",
    "\n",
    "phone.columns = snake_phone"
   ]
  },
  {
   "cell_type": "code",
   "execution_count": 16,
   "metadata": {
    "colab": {
     "base_uri": "https://localhost:8080/"
    },
    "id": "hkIGlPUQtCsh",
    "outputId": "9dd6769e-78e6-43c7-971c-614b0074514e"
   },
   "outputs": [
    {
     "name": "stdout",
     "output_type": "stream",
     "text": [
      "<class 'pandas.core.frame.DataFrame'>\n",
      "RangeIndex: 6361 entries, 0 to 6360\n",
      "Data columns (total 2 columns):\n",
      " #   Column          Non-Null Count  Dtype \n",
      "---  ------          --------------  ----- \n",
      " 0   customer_id     6361 non-null   object\n",
      " 1   multiple_lines  6361 non-null   object\n",
      "dtypes: object(2)\n",
      "memory usage: 99.5+ KB\n"
     ]
    }
   ],
   "source": [
    "phone.info()"
   ]
  },
  {
   "cell_type": "markdown",
   "metadata": {
    "id": "hlTPJ2e-wyGF"
   },
   "source": [
    "<div class=\"alert alert-block alert-danger\">\n",
    "<b>Comentario del revisor (1ra Iteracion)</b> <a class=“tocSkip”></a>\n",
    "\n",
    "Cuando tengas datasets que tienen columnas con valores númericos siempre es ideal obtener métricas descriptivas de estas para que entiendas los datos con los que trabajarás utilizando `.describe()`. En este caso tienes algunas columnas cómo `mb_used`, `TotalCharge`, etc donde podrías aplicarlo. Para datasets que son cómo el que tienes en la variable `phone` no es necesario aplicar ese método porque no mostrará información útil\n",
    "</div>"
   ]
  },
  {
   "cell_type": "code",
   "execution_count": 17,
   "metadata": {
    "colab": {
     "base_uri": "https://localhost:8080/",
     "height": 365
    },
    "id": "_Y1AKkSitCsh",
    "outputId": "558b77b0-bfc5-4bf9-814a-1bc10f2a8694"
   },
   "outputs": [
    {
     "data": {
      "text/html": [
       "<div>\n",
       "<style scoped>\n",
       "    .dataframe tbody tr th:only-of-type {\n",
       "        vertical-align: middle;\n",
       "    }\n",
       "\n",
       "    .dataframe tbody tr th {\n",
       "        vertical-align: top;\n",
       "    }\n",
       "\n",
       "    .dataframe thead th {\n",
       "        text-align: right;\n",
       "    }\n",
       "</style>\n",
       "<table border=\"1\" class=\"dataframe\">\n",
       "  <thead>\n",
       "    <tr style=\"text-align: right;\">\n",
       "      <th></th>\n",
       "      <th>customer_id</th>\n",
       "      <th>begin_date</th>\n",
       "      <th>end_date</th>\n",
       "      <th>type</th>\n",
       "      <th>paperless_billing</th>\n",
       "      <th>payment_method</th>\n",
       "      <th>monthly_charges</th>\n",
       "      <th>total_charges</th>\n",
       "      <th>gender</th>\n",
       "      <th>senior_citizen</th>\n",
       "      <th>partner</th>\n",
       "      <th>dependents</th>\n",
       "      <th>internet_service</th>\n",
       "      <th>online_security</th>\n",
       "      <th>online_backup</th>\n",
       "      <th>device_protection</th>\n",
       "      <th>tech_support</th>\n",
       "      <th>streaming_tv</th>\n",
       "      <th>streaming_movies</th>\n",
       "      <th>multiple_lines</th>\n",
       "    </tr>\n",
       "  </thead>\n",
       "  <tbody>\n",
       "    <tr>\n",
       "      <th>0</th>\n",
       "      <td>7590-VHVEG</td>\n",
       "      <td>2020-01-01</td>\n",
       "      <td>No</td>\n",
       "      <td>Month-to-month</td>\n",
       "      <td>Yes</td>\n",
       "      <td>Electronic check</td>\n",
       "      <td>29.85</td>\n",
       "      <td>29.85</td>\n",
       "      <td>Female</td>\n",
       "      <td>0</td>\n",
       "      <td>Yes</td>\n",
       "      <td>No</td>\n",
       "      <td>DSL</td>\n",
       "      <td>No</td>\n",
       "      <td>Yes</td>\n",
       "      <td>No</td>\n",
       "      <td>No</td>\n",
       "      <td>No</td>\n",
       "      <td>No</td>\n",
       "      <td>NaN</td>\n",
       "    </tr>\n",
       "    <tr>\n",
       "      <th>1</th>\n",
       "      <td>5575-GNVDE</td>\n",
       "      <td>2017-04-01</td>\n",
       "      <td>No</td>\n",
       "      <td>One year</td>\n",
       "      <td>No</td>\n",
       "      <td>Mailed check</td>\n",
       "      <td>56.95</td>\n",
       "      <td>1889.5</td>\n",
       "      <td>Male</td>\n",
       "      <td>0</td>\n",
       "      <td>No</td>\n",
       "      <td>No</td>\n",
       "      <td>DSL</td>\n",
       "      <td>Yes</td>\n",
       "      <td>No</td>\n",
       "      <td>Yes</td>\n",
       "      <td>No</td>\n",
       "      <td>No</td>\n",
       "      <td>No</td>\n",
       "      <td>No</td>\n",
       "    </tr>\n",
       "    <tr>\n",
       "      <th>2</th>\n",
       "      <td>3668-QPYBK</td>\n",
       "      <td>2019-10-01</td>\n",
       "      <td>2019-12-01 00:00:00</td>\n",
       "      <td>Month-to-month</td>\n",
       "      <td>Yes</td>\n",
       "      <td>Mailed check</td>\n",
       "      <td>53.85</td>\n",
       "      <td>108.15</td>\n",
       "      <td>Male</td>\n",
       "      <td>0</td>\n",
       "      <td>No</td>\n",
       "      <td>No</td>\n",
       "      <td>DSL</td>\n",
       "      <td>Yes</td>\n",
       "      <td>Yes</td>\n",
       "      <td>No</td>\n",
       "      <td>No</td>\n",
       "      <td>No</td>\n",
       "      <td>No</td>\n",
       "      <td>No</td>\n",
       "    </tr>\n",
       "    <tr>\n",
       "      <th>3</th>\n",
       "      <td>7795-CFOCW</td>\n",
       "      <td>2016-05-01</td>\n",
       "      <td>No</td>\n",
       "      <td>One year</td>\n",
       "      <td>No</td>\n",
       "      <td>Bank transfer (automatic)</td>\n",
       "      <td>42.30</td>\n",
       "      <td>1840.75</td>\n",
       "      <td>Male</td>\n",
       "      <td>0</td>\n",
       "      <td>No</td>\n",
       "      <td>No</td>\n",
       "      <td>DSL</td>\n",
       "      <td>Yes</td>\n",
       "      <td>No</td>\n",
       "      <td>Yes</td>\n",
       "      <td>Yes</td>\n",
       "      <td>No</td>\n",
       "      <td>No</td>\n",
       "      <td>NaN</td>\n",
       "    </tr>\n",
       "    <tr>\n",
       "      <th>4</th>\n",
       "      <td>9237-HQITU</td>\n",
       "      <td>2019-09-01</td>\n",
       "      <td>2019-11-01 00:00:00</td>\n",
       "      <td>Month-to-month</td>\n",
       "      <td>Yes</td>\n",
       "      <td>Electronic check</td>\n",
       "      <td>70.70</td>\n",
       "      <td>151.65</td>\n",
       "      <td>Female</td>\n",
       "      <td>0</td>\n",
       "      <td>No</td>\n",
       "      <td>No</td>\n",
       "      <td>Fiber optic</td>\n",
       "      <td>No</td>\n",
       "      <td>No</td>\n",
       "      <td>No</td>\n",
       "      <td>No</td>\n",
       "      <td>No</td>\n",
       "      <td>No</td>\n",
       "      <td>No</td>\n",
       "    </tr>\n",
       "  </tbody>\n",
       "</table>\n",
       "</div>"
      ],
      "text/plain": [
       "  customer_id  begin_date             end_date            type  \\\n",
       "0  7590-VHVEG  2020-01-01                   No  Month-to-month   \n",
       "1  5575-GNVDE  2017-04-01                   No        One year   \n",
       "2  3668-QPYBK  2019-10-01  2019-12-01 00:00:00  Month-to-month   \n",
       "3  7795-CFOCW  2016-05-01                   No        One year   \n",
       "4  9237-HQITU  2019-09-01  2019-11-01 00:00:00  Month-to-month   \n",
       "\n",
       "  paperless_billing             payment_method  monthly_charges total_charges  \\\n",
       "0               Yes           Electronic check            29.85         29.85   \n",
       "1                No               Mailed check            56.95        1889.5   \n",
       "2               Yes               Mailed check            53.85        108.15   \n",
       "3                No  Bank transfer (automatic)            42.30       1840.75   \n",
       "4               Yes           Electronic check            70.70        151.65   \n",
       "\n",
       "   gender  senior_citizen partner dependents internet_service online_security  \\\n",
       "0  Female               0     Yes         No              DSL              No   \n",
       "1    Male               0      No         No              DSL             Yes   \n",
       "2    Male               0      No         No              DSL             Yes   \n",
       "3    Male               0      No         No              DSL             Yes   \n",
       "4  Female               0      No         No      Fiber optic              No   \n",
       "\n",
       "  online_backup device_protection tech_support streaming_tv streaming_movies  \\\n",
       "0           Yes                No           No           No               No   \n",
       "1            No               Yes           No           No               No   \n",
       "2           Yes                No           No           No               No   \n",
       "3            No               Yes          Yes           No               No   \n",
       "4            No                No           No           No               No   \n",
       "\n",
       "  multiple_lines  \n",
       "0            NaN  \n",
       "1             No  \n",
       "2             No  \n",
       "3            NaN  \n",
       "4             No  "
      ]
     },
     "execution_count": 17,
     "metadata": {},
     "output_type": "execute_result"
    }
   ],
   "source": [
    "# Realizar el merge de los DataFrames usando 'customerID'\n",
    "df = contract.merge(personal, on='customer_id', how='left') \\\n",
    "                       .merge(internet, on='customer_id', how='left') \\\n",
    "                       .merge(phone, on='customer_id', how='left')\n",
    "\n",
    "# Verificar el resultado\n",
    "df.head()"
   ]
  },
  {
   "cell_type": "code",
   "execution_count": 18,
   "metadata": {
    "colab": {
     "base_uri": "https://localhost:8080/"
    },
    "id": "JDRuk0rHtCsh",
    "outputId": "a13d8599-07fa-423d-f77b-0e52de3838ea"
   },
   "outputs": [
    {
     "name": "stdout",
     "output_type": "stream",
     "text": [
      "<class 'pandas.core.frame.DataFrame'>\n",
      "Int64Index: 7043 entries, 0 to 7042\n",
      "Data columns (total 20 columns):\n",
      " #   Column             Non-Null Count  Dtype  \n",
      "---  ------             --------------  -----  \n",
      " 0   customer_id        7043 non-null   object \n",
      " 1   begin_date         7043 non-null   object \n",
      " 2   end_date           7043 non-null   object \n",
      " 3   type               7043 non-null   object \n",
      " 4   paperless_billing  7043 non-null   object \n",
      " 5   payment_method     7043 non-null   object \n",
      " 6   monthly_charges    7043 non-null   float64\n",
      " 7   total_charges      7043 non-null   object \n",
      " 8   gender             7043 non-null   object \n",
      " 9   senior_citizen     7043 non-null   int64  \n",
      " 10  partner            7043 non-null   object \n",
      " 11  dependents         7043 non-null   object \n",
      " 12  internet_service   5517 non-null   object \n",
      " 13  online_security    5517 non-null   object \n",
      " 14  online_backup      5517 non-null   object \n",
      " 15  device_protection  5517 non-null   object \n",
      " 16  tech_support       5517 non-null   object \n",
      " 17  streaming_tv       5517 non-null   object \n",
      " 18  streaming_movies   5517 non-null   object \n",
      " 19  multiple_lines     6361 non-null   object \n",
      "dtypes: float64(1), int64(1), object(18)\n",
      "memory usage: 1.1+ MB\n"
     ]
    }
   ],
   "source": [
    "# Información general del DataFrame\n",
    "df.info()"
   ]
  },
  {
   "cell_type": "code",
   "execution_count": 19,
   "metadata": {
    "colab": {
     "base_uri": "https://localhost:8080/"
    },
    "id": "CvNUQRQjtCsi",
    "outputId": "636df60c-b0ab-49af-c6ae-c5bfcaa1d59f"
   },
   "outputs": [
    {
     "data": {
      "text/plain": [
       "0"
      ]
     },
     "execution_count": 19,
     "metadata": {},
     "output_type": "execute_result"
    }
   ],
   "source": [
    "# Verificar existencia de duplicados\n",
    "df['customer_id'].duplicated().sum()"
   ]
  },
  {
   "cell_type": "code",
   "execution_count": 20,
   "metadata": {
    "colab": {
     "base_uri": "https://localhost:8080/",
     "height": 711
    },
    "id": "JaHueNyYtCsi",
    "outputId": "d8f02124-3799-47b2-a47a-b4d1246b4d22"
   },
   "outputs": [
    {
     "data": {
      "text/plain": [
       "customer_id             0\n",
       "begin_date              0\n",
       "end_date                0\n",
       "type                    0\n",
       "paperless_billing       0\n",
       "payment_method          0\n",
       "monthly_charges         0\n",
       "total_charges           0\n",
       "gender                  0\n",
       "senior_citizen          0\n",
       "partner                 0\n",
       "dependents              0\n",
       "internet_service     1526\n",
       "online_security      1526\n",
       "online_backup        1526\n",
       "device_protection    1526\n",
       "tech_support         1526\n",
       "streaming_tv         1526\n",
       "streaming_movies     1526\n",
       "multiple_lines        682\n",
       "dtype: int64"
      ]
     },
     "execution_count": 20,
     "metadata": {},
     "output_type": "execute_result"
    }
   ],
   "source": [
    "# verificar existencia de valores nulos\n",
    "df.isna().sum()"
   ]
  },
  {
   "cell_type": "code",
   "execution_count": 21,
   "metadata": {
    "colab": {
     "base_uri": "https://localhost:8080/",
     "height": 300
    },
    "id": "Th-OUjchymrw",
    "outputId": "2d69855a-4b01-45d4-bb07-c94961981c53"
   },
   "outputs": [
    {
     "data": {
      "text/html": [
       "<div>\n",
       "<style scoped>\n",
       "    .dataframe tbody tr th:only-of-type {\n",
       "        vertical-align: middle;\n",
       "    }\n",
       "\n",
       "    .dataframe tbody tr th {\n",
       "        vertical-align: top;\n",
       "    }\n",
       "\n",
       "    .dataframe thead th {\n",
       "        text-align: right;\n",
       "    }\n",
       "</style>\n",
       "<table border=\"1\" class=\"dataframe\">\n",
       "  <thead>\n",
       "    <tr style=\"text-align: right;\">\n",
       "      <th></th>\n",
       "      <th>monthly_charges</th>\n",
       "      <th>senior_citizen</th>\n",
       "    </tr>\n",
       "  </thead>\n",
       "  <tbody>\n",
       "    <tr>\n",
       "      <th>count</th>\n",
       "      <td>7043.000000</td>\n",
       "      <td>7043.000000</td>\n",
       "    </tr>\n",
       "    <tr>\n",
       "      <th>mean</th>\n",
       "      <td>64.761692</td>\n",
       "      <td>0.162147</td>\n",
       "    </tr>\n",
       "    <tr>\n",
       "      <th>std</th>\n",
       "      <td>30.090047</td>\n",
       "      <td>0.368612</td>\n",
       "    </tr>\n",
       "    <tr>\n",
       "      <th>min</th>\n",
       "      <td>18.250000</td>\n",
       "      <td>0.000000</td>\n",
       "    </tr>\n",
       "    <tr>\n",
       "      <th>25%</th>\n",
       "      <td>35.500000</td>\n",
       "      <td>0.000000</td>\n",
       "    </tr>\n",
       "    <tr>\n",
       "      <th>50%</th>\n",
       "      <td>70.350000</td>\n",
       "      <td>0.000000</td>\n",
       "    </tr>\n",
       "    <tr>\n",
       "      <th>75%</th>\n",
       "      <td>89.850000</td>\n",
       "      <td>0.000000</td>\n",
       "    </tr>\n",
       "    <tr>\n",
       "      <th>max</th>\n",
       "      <td>118.750000</td>\n",
       "      <td>1.000000</td>\n",
       "    </tr>\n",
       "  </tbody>\n",
       "</table>\n",
       "</div>"
      ],
      "text/plain": [
       "       monthly_charges  senior_citizen\n",
       "count      7043.000000     7043.000000\n",
       "mean         64.761692        0.162147\n",
       "std          30.090047        0.368612\n",
       "min          18.250000        0.000000\n",
       "25%          35.500000        0.000000\n",
       "50%          70.350000        0.000000\n",
       "75%          89.850000        0.000000\n",
       "max         118.750000        1.000000"
      ]
     },
     "execution_count": 21,
     "metadata": {},
     "output_type": "execute_result"
    }
   ],
   "source": [
    "# Información estadística del DataFrame\n",
    "df.describe()"
   ]
  },
  {
   "cell_type": "markdown",
   "metadata": {},
   "source": [
    "<div class=\"alert alert-block alert-success\">\n",
    "<b>Comentario del revisor (4ta Iteracion)</b> <a class=“tocSkip”></a>\n",
    "\n",
    "Correcto, una muy buena exploración inicial para entender los datos\n",
    "</div>"
   ]
  },
  {
   "cell_type": "markdown",
   "metadata": {
    "id": "D9SzrDkctCsi"
   },
   "source": [
    "## Preprocesamiento de Datos"
   ]
  },
  {
   "cell_type": "markdown",
   "metadata": {
    "id": "0Hs-ZZKetCsi"
   },
   "source": [
    "Chequearemos las inconsistencias por columnas, primero crearemos la columna objetivo considerando la columna `EndDate` cuando toma el valor `No`."
   ]
  },
  {
   "cell_type": "code",
   "execution_count": 22,
   "metadata": {
    "colab": {
     "base_uri": "https://localhost:8080/",
     "height": 394
    },
    "id": "23PyfwfytCsi",
    "outputId": "a4e7f2ed-c681-463f-f966-c87f7fd91f71"
   },
   "outputs": [
    {
     "data": {
      "text/html": [
       "<div>\n",
       "<style scoped>\n",
       "    .dataframe tbody tr th:only-of-type {\n",
       "        vertical-align: middle;\n",
       "    }\n",
       "\n",
       "    .dataframe tbody tr th {\n",
       "        vertical-align: top;\n",
       "    }\n",
       "\n",
       "    .dataframe thead th {\n",
       "        text-align: right;\n",
       "    }\n",
       "</style>\n",
       "<table border=\"1\" class=\"dataframe\">\n",
       "  <thead>\n",
       "    <tr style=\"text-align: right;\">\n",
       "      <th></th>\n",
       "      <th>customer_id</th>\n",
       "      <th>begin_date</th>\n",
       "      <th>end_date</th>\n",
       "      <th>type</th>\n",
       "      <th>paperless_billing</th>\n",
       "      <th>payment_method</th>\n",
       "      <th>monthly_charges</th>\n",
       "      <th>total_charges</th>\n",
       "      <th>gender</th>\n",
       "      <th>senior_citizen</th>\n",
       "      <th>...</th>\n",
       "      <th>dependents</th>\n",
       "      <th>internet_service</th>\n",
       "      <th>online_security</th>\n",
       "      <th>online_backup</th>\n",
       "      <th>device_protection</th>\n",
       "      <th>tech_support</th>\n",
       "      <th>streaming_tv</th>\n",
       "      <th>streaming_movies</th>\n",
       "      <th>multiple_lines</th>\n",
       "      <th>churn</th>\n",
       "    </tr>\n",
       "  </thead>\n",
       "  <tbody>\n",
       "    <tr>\n",
       "      <th>0</th>\n",
       "      <td>7590-VHVEG</td>\n",
       "      <td>2020-01-01</td>\n",
       "      <td>No</td>\n",
       "      <td>Month-to-month</td>\n",
       "      <td>Yes</td>\n",
       "      <td>Electronic check</td>\n",
       "      <td>29.85</td>\n",
       "      <td>29.85</td>\n",
       "      <td>Female</td>\n",
       "      <td>0</td>\n",
       "      <td>...</td>\n",
       "      <td>No</td>\n",
       "      <td>DSL</td>\n",
       "      <td>No</td>\n",
       "      <td>Yes</td>\n",
       "      <td>No</td>\n",
       "      <td>No</td>\n",
       "      <td>No</td>\n",
       "      <td>No</td>\n",
       "      <td>NaN</td>\n",
       "      <td>0</td>\n",
       "    </tr>\n",
       "    <tr>\n",
       "      <th>1</th>\n",
       "      <td>5575-GNVDE</td>\n",
       "      <td>2017-04-01</td>\n",
       "      <td>No</td>\n",
       "      <td>One year</td>\n",
       "      <td>No</td>\n",
       "      <td>Mailed check</td>\n",
       "      <td>56.95</td>\n",
       "      <td>1889.5</td>\n",
       "      <td>Male</td>\n",
       "      <td>0</td>\n",
       "      <td>...</td>\n",
       "      <td>No</td>\n",
       "      <td>DSL</td>\n",
       "      <td>Yes</td>\n",
       "      <td>No</td>\n",
       "      <td>Yes</td>\n",
       "      <td>No</td>\n",
       "      <td>No</td>\n",
       "      <td>No</td>\n",
       "      <td>No</td>\n",
       "      <td>0</td>\n",
       "    </tr>\n",
       "    <tr>\n",
       "      <th>2</th>\n",
       "      <td>3668-QPYBK</td>\n",
       "      <td>2019-10-01</td>\n",
       "      <td>2019-12-01 00:00:00</td>\n",
       "      <td>Month-to-month</td>\n",
       "      <td>Yes</td>\n",
       "      <td>Mailed check</td>\n",
       "      <td>53.85</td>\n",
       "      <td>108.15</td>\n",
       "      <td>Male</td>\n",
       "      <td>0</td>\n",
       "      <td>...</td>\n",
       "      <td>No</td>\n",
       "      <td>DSL</td>\n",
       "      <td>Yes</td>\n",
       "      <td>Yes</td>\n",
       "      <td>No</td>\n",
       "      <td>No</td>\n",
       "      <td>No</td>\n",
       "      <td>No</td>\n",
       "      <td>No</td>\n",
       "      <td>1</td>\n",
       "    </tr>\n",
       "    <tr>\n",
       "      <th>3</th>\n",
       "      <td>7795-CFOCW</td>\n",
       "      <td>2016-05-01</td>\n",
       "      <td>No</td>\n",
       "      <td>One year</td>\n",
       "      <td>No</td>\n",
       "      <td>Bank transfer (automatic)</td>\n",
       "      <td>42.30</td>\n",
       "      <td>1840.75</td>\n",
       "      <td>Male</td>\n",
       "      <td>0</td>\n",
       "      <td>...</td>\n",
       "      <td>No</td>\n",
       "      <td>DSL</td>\n",
       "      <td>Yes</td>\n",
       "      <td>No</td>\n",
       "      <td>Yes</td>\n",
       "      <td>Yes</td>\n",
       "      <td>No</td>\n",
       "      <td>No</td>\n",
       "      <td>NaN</td>\n",
       "      <td>0</td>\n",
       "    </tr>\n",
       "    <tr>\n",
       "      <th>4</th>\n",
       "      <td>9237-HQITU</td>\n",
       "      <td>2019-09-01</td>\n",
       "      <td>2019-11-01 00:00:00</td>\n",
       "      <td>Month-to-month</td>\n",
       "      <td>Yes</td>\n",
       "      <td>Electronic check</td>\n",
       "      <td>70.70</td>\n",
       "      <td>151.65</td>\n",
       "      <td>Female</td>\n",
       "      <td>0</td>\n",
       "      <td>...</td>\n",
       "      <td>No</td>\n",
       "      <td>Fiber optic</td>\n",
       "      <td>No</td>\n",
       "      <td>No</td>\n",
       "      <td>No</td>\n",
       "      <td>No</td>\n",
       "      <td>No</td>\n",
       "      <td>No</td>\n",
       "      <td>No</td>\n",
       "      <td>1</td>\n",
       "    </tr>\n",
       "  </tbody>\n",
       "</table>\n",
       "<p>5 rows × 21 columns</p>\n",
       "</div>"
      ],
      "text/plain": [
       "  customer_id  begin_date             end_date            type  \\\n",
       "0  7590-VHVEG  2020-01-01                   No  Month-to-month   \n",
       "1  5575-GNVDE  2017-04-01                   No        One year   \n",
       "2  3668-QPYBK  2019-10-01  2019-12-01 00:00:00  Month-to-month   \n",
       "3  7795-CFOCW  2016-05-01                   No        One year   \n",
       "4  9237-HQITU  2019-09-01  2019-11-01 00:00:00  Month-to-month   \n",
       "\n",
       "  paperless_billing             payment_method  monthly_charges total_charges  \\\n",
       "0               Yes           Electronic check            29.85         29.85   \n",
       "1                No               Mailed check            56.95        1889.5   \n",
       "2               Yes               Mailed check            53.85        108.15   \n",
       "3                No  Bank transfer (automatic)            42.30       1840.75   \n",
       "4               Yes           Electronic check            70.70        151.65   \n",
       "\n",
       "   gender  senior_citizen  ... dependents internet_service online_security  \\\n",
       "0  Female               0  ...         No              DSL              No   \n",
       "1    Male               0  ...         No              DSL             Yes   \n",
       "2    Male               0  ...         No              DSL             Yes   \n",
       "3    Male               0  ...         No              DSL             Yes   \n",
       "4  Female               0  ...         No      Fiber optic              No   \n",
       "\n",
       "  online_backup device_protection tech_support streaming_tv streaming_movies  \\\n",
       "0           Yes                No           No           No               No   \n",
       "1            No               Yes           No           No               No   \n",
       "2           Yes                No           No           No               No   \n",
       "3            No               Yes          Yes           No               No   \n",
       "4            No                No           No           No               No   \n",
       "\n",
       "  multiple_lines churn  \n",
       "0            NaN     0  \n",
       "1             No     0  \n",
       "2             No     1  \n",
       "3            NaN     0  \n",
       "4             No     1  \n",
       "\n",
       "[5 rows x 21 columns]"
      ]
     },
     "execution_count": 22,
     "metadata": {},
     "output_type": "execute_result"
    }
   ],
   "source": [
    "# Crear columna objetivo\n",
    "df['churn'] = (df['end_date'] != \"No\").astype(\"int\")\n",
    "df.head()"
   ]
  },
  {
   "cell_type": "code",
   "execution_count": 23,
   "metadata": {
    "id": "Ph2uZ97HtCsi"
   },
   "outputs": [],
   "source": [
    "# Convertir las columnas begin_date y end_date a formato datetime\n",
    "df['begin_date'] = pd.to_datetime(df['begin_date'], errors='coerce')\n",
    "df['end_date'] = pd.to_datetime(df['end_date'], errors='coerce')"
   ]
  },
  {
   "cell_type": "code",
   "execution_count": 24,
   "metadata": {
    "colab": {
     "base_uri": "https://localhost:8080/",
     "height": 635
    },
    "id": "Yh2dLGdptCsi",
    "outputId": "3bfaa91e-332f-4627-ad35-494e3c5531ce"
   },
   "outputs": [
    {
     "data": {
      "text/html": [
       "<div>\n",
       "<style scoped>\n",
       "    .dataframe tbody tr th:only-of-type {\n",
       "        vertical-align: middle;\n",
       "    }\n",
       "\n",
       "    .dataframe tbody tr th {\n",
       "        vertical-align: top;\n",
       "    }\n",
       "\n",
       "    .dataframe thead th {\n",
       "        text-align: right;\n",
       "    }\n",
       "</style>\n",
       "<table border=\"1\" class=\"dataframe\">\n",
       "  <thead>\n",
       "    <tr style=\"text-align: right;\">\n",
       "      <th></th>\n",
       "      <th>customer_id</th>\n",
       "      <th>begin_date</th>\n",
       "      <th>end_date</th>\n",
       "      <th>type</th>\n",
       "      <th>paperless_billing</th>\n",
       "      <th>payment_method</th>\n",
       "      <th>monthly_charges</th>\n",
       "      <th>total_charges</th>\n",
       "      <th>gender</th>\n",
       "      <th>senior_citizen</th>\n",
       "      <th>...</th>\n",
       "      <th>dependents</th>\n",
       "      <th>internet_service</th>\n",
       "      <th>online_security</th>\n",
       "      <th>online_backup</th>\n",
       "      <th>device_protection</th>\n",
       "      <th>tech_support</th>\n",
       "      <th>streaming_tv</th>\n",
       "      <th>streaming_movies</th>\n",
       "      <th>multiple_lines</th>\n",
       "      <th>churn</th>\n",
       "    </tr>\n",
       "  </thead>\n",
       "  <tbody>\n",
       "    <tr>\n",
       "      <th>488</th>\n",
       "      <td>4472-LVYGI</td>\n",
       "      <td>2020-02-01</td>\n",
       "      <td>NaT</td>\n",
       "      <td>Two year</td>\n",
       "      <td>Yes</td>\n",
       "      <td>Bank transfer (automatic)</td>\n",
       "      <td>52.55</td>\n",
       "      <td></td>\n",
       "      <td>Female</td>\n",
       "      <td>0</td>\n",
       "      <td>...</td>\n",
       "      <td>Yes</td>\n",
       "      <td>DSL</td>\n",
       "      <td>Yes</td>\n",
       "      <td>No</td>\n",
       "      <td>Yes</td>\n",
       "      <td>Yes</td>\n",
       "      <td>Yes</td>\n",
       "      <td>No</td>\n",
       "      <td>NaN</td>\n",
       "      <td>0</td>\n",
       "    </tr>\n",
       "    <tr>\n",
       "      <th>753</th>\n",
       "      <td>3115-CZMZD</td>\n",
       "      <td>2020-02-01</td>\n",
       "      <td>NaT</td>\n",
       "      <td>Two year</td>\n",
       "      <td>No</td>\n",
       "      <td>Mailed check</td>\n",
       "      <td>20.25</td>\n",
       "      <td></td>\n",
       "      <td>Male</td>\n",
       "      <td>0</td>\n",
       "      <td>...</td>\n",
       "      <td>Yes</td>\n",
       "      <td>NaN</td>\n",
       "      <td>NaN</td>\n",
       "      <td>NaN</td>\n",
       "      <td>NaN</td>\n",
       "      <td>NaN</td>\n",
       "      <td>NaN</td>\n",
       "      <td>NaN</td>\n",
       "      <td>No</td>\n",
       "      <td>0</td>\n",
       "    </tr>\n",
       "    <tr>\n",
       "      <th>936</th>\n",
       "      <td>5709-LVOEQ</td>\n",
       "      <td>2020-02-01</td>\n",
       "      <td>NaT</td>\n",
       "      <td>Two year</td>\n",
       "      <td>No</td>\n",
       "      <td>Mailed check</td>\n",
       "      <td>80.85</td>\n",
       "      <td></td>\n",
       "      <td>Female</td>\n",
       "      <td>0</td>\n",
       "      <td>...</td>\n",
       "      <td>Yes</td>\n",
       "      <td>DSL</td>\n",
       "      <td>Yes</td>\n",
       "      <td>Yes</td>\n",
       "      <td>Yes</td>\n",
       "      <td>No</td>\n",
       "      <td>Yes</td>\n",
       "      <td>Yes</td>\n",
       "      <td>No</td>\n",
       "      <td>0</td>\n",
       "    </tr>\n",
       "    <tr>\n",
       "      <th>1082</th>\n",
       "      <td>4367-NUYAO</td>\n",
       "      <td>2020-02-01</td>\n",
       "      <td>NaT</td>\n",
       "      <td>Two year</td>\n",
       "      <td>No</td>\n",
       "      <td>Mailed check</td>\n",
       "      <td>25.75</td>\n",
       "      <td></td>\n",
       "      <td>Male</td>\n",
       "      <td>0</td>\n",
       "      <td>...</td>\n",
       "      <td>Yes</td>\n",
       "      <td>NaN</td>\n",
       "      <td>NaN</td>\n",
       "      <td>NaN</td>\n",
       "      <td>NaN</td>\n",
       "      <td>NaN</td>\n",
       "      <td>NaN</td>\n",
       "      <td>NaN</td>\n",
       "      <td>Yes</td>\n",
       "      <td>0</td>\n",
       "    </tr>\n",
       "    <tr>\n",
       "      <th>1340</th>\n",
       "      <td>1371-DWPAZ</td>\n",
       "      <td>2020-02-01</td>\n",
       "      <td>NaT</td>\n",
       "      <td>Two year</td>\n",
       "      <td>No</td>\n",
       "      <td>Credit card (automatic)</td>\n",
       "      <td>56.05</td>\n",
       "      <td></td>\n",
       "      <td>Female</td>\n",
       "      <td>0</td>\n",
       "      <td>...</td>\n",
       "      <td>Yes</td>\n",
       "      <td>DSL</td>\n",
       "      <td>Yes</td>\n",
       "      <td>Yes</td>\n",
       "      <td>Yes</td>\n",
       "      <td>Yes</td>\n",
       "      <td>Yes</td>\n",
       "      <td>No</td>\n",
       "      <td>NaN</td>\n",
       "      <td>0</td>\n",
       "    </tr>\n",
       "    <tr>\n",
       "      <th>3331</th>\n",
       "      <td>7644-OMVMY</td>\n",
       "      <td>2020-02-01</td>\n",
       "      <td>NaT</td>\n",
       "      <td>Two year</td>\n",
       "      <td>No</td>\n",
       "      <td>Mailed check</td>\n",
       "      <td>19.85</td>\n",
       "      <td></td>\n",
       "      <td>Male</td>\n",
       "      <td>0</td>\n",
       "      <td>...</td>\n",
       "      <td>Yes</td>\n",
       "      <td>NaN</td>\n",
       "      <td>NaN</td>\n",
       "      <td>NaN</td>\n",
       "      <td>NaN</td>\n",
       "      <td>NaN</td>\n",
       "      <td>NaN</td>\n",
       "      <td>NaN</td>\n",
       "      <td>No</td>\n",
       "      <td>0</td>\n",
       "    </tr>\n",
       "    <tr>\n",
       "      <th>3826</th>\n",
       "      <td>3213-VVOLG</td>\n",
       "      <td>2020-02-01</td>\n",
       "      <td>NaT</td>\n",
       "      <td>Two year</td>\n",
       "      <td>No</td>\n",
       "      <td>Mailed check</td>\n",
       "      <td>25.35</td>\n",
       "      <td></td>\n",
       "      <td>Male</td>\n",
       "      <td>0</td>\n",
       "      <td>...</td>\n",
       "      <td>Yes</td>\n",
       "      <td>NaN</td>\n",
       "      <td>NaN</td>\n",
       "      <td>NaN</td>\n",
       "      <td>NaN</td>\n",
       "      <td>NaN</td>\n",
       "      <td>NaN</td>\n",
       "      <td>NaN</td>\n",
       "      <td>Yes</td>\n",
       "      <td>0</td>\n",
       "    </tr>\n",
       "    <tr>\n",
       "      <th>4380</th>\n",
       "      <td>2520-SGTTA</td>\n",
       "      <td>2020-02-01</td>\n",
       "      <td>NaT</td>\n",
       "      <td>Two year</td>\n",
       "      <td>No</td>\n",
       "      <td>Mailed check</td>\n",
       "      <td>20.00</td>\n",
       "      <td></td>\n",
       "      <td>Female</td>\n",
       "      <td>0</td>\n",
       "      <td>...</td>\n",
       "      <td>Yes</td>\n",
       "      <td>NaN</td>\n",
       "      <td>NaN</td>\n",
       "      <td>NaN</td>\n",
       "      <td>NaN</td>\n",
       "      <td>NaN</td>\n",
       "      <td>NaN</td>\n",
       "      <td>NaN</td>\n",
       "      <td>No</td>\n",
       "      <td>0</td>\n",
       "    </tr>\n",
       "    <tr>\n",
       "      <th>5218</th>\n",
       "      <td>2923-ARZLG</td>\n",
       "      <td>2020-02-01</td>\n",
       "      <td>NaT</td>\n",
       "      <td>One year</td>\n",
       "      <td>Yes</td>\n",
       "      <td>Mailed check</td>\n",
       "      <td>19.70</td>\n",
       "      <td></td>\n",
       "      <td>Male</td>\n",
       "      <td>0</td>\n",
       "      <td>...</td>\n",
       "      <td>Yes</td>\n",
       "      <td>NaN</td>\n",
       "      <td>NaN</td>\n",
       "      <td>NaN</td>\n",
       "      <td>NaN</td>\n",
       "      <td>NaN</td>\n",
       "      <td>NaN</td>\n",
       "      <td>NaN</td>\n",
       "      <td>No</td>\n",
       "      <td>0</td>\n",
       "    </tr>\n",
       "    <tr>\n",
       "      <th>6670</th>\n",
       "      <td>4075-WKNIU</td>\n",
       "      <td>2020-02-01</td>\n",
       "      <td>NaT</td>\n",
       "      <td>Two year</td>\n",
       "      <td>No</td>\n",
       "      <td>Mailed check</td>\n",
       "      <td>73.35</td>\n",
       "      <td></td>\n",
       "      <td>Female</td>\n",
       "      <td>0</td>\n",
       "      <td>...</td>\n",
       "      <td>Yes</td>\n",
       "      <td>DSL</td>\n",
       "      <td>No</td>\n",
       "      <td>Yes</td>\n",
       "      <td>Yes</td>\n",
       "      <td>Yes</td>\n",
       "      <td>Yes</td>\n",
       "      <td>No</td>\n",
       "      <td>Yes</td>\n",
       "      <td>0</td>\n",
       "    </tr>\n",
       "    <tr>\n",
       "      <th>6754</th>\n",
       "      <td>2775-SEFEE</td>\n",
       "      <td>2020-02-01</td>\n",
       "      <td>NaT</td>\n",
       "      <td>Two year</td>\n",
       "      <td>Yes</td>\n",
       "      <td>Bank transfer (automatic)</td>\n",
       "      <td>61.90</td>\n",
       "      <td></td>\n",
       "      <td>Male</td>\n",
       "      <td>0</td>\n",
       "      <td>...</td>\n",
       "      <td>Yes</td>\n",
       "      <td>DSL</td>\n",
       "      <td>Yes</td>\n",
       "      <td>Yes</td>\n",
       "      <td>No</td>\n",
       "      <td>Yes</td>\n",
       "      <td>No</td>\n",
       "      <td>No</td>\n",
       "      <td>Yes</td>\n",
       "      <td>0</td>\n",
       "    </tr>\n",
       "  </tbody>\n",
       "</table>\n",
       "<p>11 rows × 21 columns</p>\n",
       "</div>"
      ],
      "text/plain": [
       "     customer_id begin_date end_date      type paperless_billing  \\\n",
       "488   4472-LVYGI 2020-02-01      NaT  Two year               Yes   \n",
       "753   3115-CZMZD 2020-02-01      NaT  Two year                No   \n",
       "936   5709-LVOEQ 2020-02-01      NaT  Two year                No   \n",
       "1082  4367-NUYAO 2020-02-01      NaT  Two year                No   \n",
       "1340  1371-DWPAZ 2020-02-01      NaT  Two year                No   \n",
       "3331  7644-OMVMY 2020-02-01      NaT  Two year                No   \n",
       "3826  3213-VVOLG 2020-02-01      NaT  Two year                No   \n",
       "4380  2520-SGTTA 2020-02-01      NaT  Two year                No   \n",
       "5218  2923-ARZLG 2020-02-01      NaT  One year               Yes   \n",
       "6670  4075-WKNIU 2020-02-01      NaT  Two year                No   \n",
       "6754  2775-SEFEE 2020-02-01      NaT  Two year               Yes   \n",
       "\n",
       "                 payment_method  monthly_charges total_charges  gender  \\\n",
       "488   Bank transfer (automatic)            52.55                Female   \n",
       "753                Mailed check            20.25                  Male   \n",
       "936                Mailed check            80.85                Female   \n",
       "1082               Mailed check            25.75                  Male   \n",
       "1340    Credit card (automatic)            56.05                Female   \n",
       "3331               Mailed check            19.85                  Male   \n",
       "3826               Mailed check            25.35                  Male   \n",
       "4380               Mailed check            20.00                Female   \n",
       "5218               Mailed check            19.70                  Male   \n",
       "6670               Mailed check            73.35                Female   \n",
       "6754  Bank transfer (automatic)            61.90                  Male   \n",
       "\n",
       "      senior_citizen  ... dependents internet_service online_security  \\\n",
       "488                0  ...        Yes              DSL             Yes   \n",
       "753                0  ...        Yes              NaN             NaN   \n",
       "936                0  ...        Yes              DSL             Yes   \n",
       "1082               0  ...        Yes              NaN             NaN   \n",
       "1340               0  ...        Yes              DSL             Yes   \n",
       "3331               0  ...        Yes              NaN             NaN   \n",
       "3826               0  ...        Yes              NaN             NaN   \n",
       "4380               0  ...        Yes              NaN             NaN   \n",
       "5218               0  ...        Yes              NaN             NaN   \n",
       "6670               0  ...        Yes              DSL              No   \n",
       "6754               0  ...        Yes              DSL             Yes   \n",
       "\n",
       "     online_backup device_protection tech_support streaming_tv  \\\n",
       "488             No               Yes          Yes          Yes   \n",
       "753            NaN               NaN          NaN          NaN   \n",
       "936            Yes               Yes           No          Yes   \n",
       "1082           NaN               NaN          NaN          NaN   \n",
       "1340           Yes               Yes          Yes          Yes   \n",
       "3331           NaN               NaN          NaN          NaN   \n",
       "3826           NaN               NaN          NaN          NaN   \n",
       "4380           NaN               NaN          NaN          NaN   \n",
       "5218           NaN               NaN          NaN          NaN   \n",
       "6670           Yes               Yes          Yes          Yes   \n",
       "6754           Yes                No          Yes           No   \n",
       "\n",
       "     streaming_movies multiple_lines churn  \n",
       "488                No            NaN     0  \n",
       "753               NaN             No     0  \n",
       "936               Yes             No     0  \n",
       "1082              NaN            Yes     0  \n",
       "1340               No            NaN     0  \n",
       "3331              NaN             No     0  \n",
       "3826              NaN            Yes     0  \n",
       "4380              NaN             No     0  \n",
       "5218              NaN             No     0  \n",
       "6670               No            Yes     0  \n",
       "6754               No            Yes     0  \n",
       "\n",
       "[11 rows x 21 columns]"
      ]
     },
     "execution_count": 24,
     "metadata": {},
     "output_type": "execute_result"
    }
   ],
   "source": [
    "# Revisar filas con valor ausente en la columna total_charges\n",
    "df[df['total_charges'] == ' ']"
   ]
  },
  {
   "cell_type": "code",
   "execution_count": 25,
   "metadata": {
    "id": "U-hFQrdytCsj"
   },
   "outputs": [],
   "source": [
    "# Eliminar espacios con valores ausentes en la columna total_charges\n",
    "df = df[df['total_charges'] != ' ']\n",
    "\n",
    "# Cambiar columna TotalCharges a tipo float\n",
    "df['total_charges'] = df['total_charges'].astype('float')"
   ]
  },
  {
   "cell_type": "code",
   "execution_count": 26,
   "metadata": {
    "id": "3cT1L7-LtCsj"
   },
   "outputs": [],
   "source": [
    "# Cambiar columnas a valores 0 y 1\n",
    "yn_columns = ['paperless_billing', 'online_security', 'online_backup', 'device_protection', 'tech_support', 'streaming_tv', 'streaming_movies', 'partner','dependents', 'multiple_lines']\n",
    "\n",
    "# Asignar 1 a todos los usuarios que tengan cierto servicio y cambiar tipo de dato a int\n",
    "for col in yn_columns:\n",
    "  df.loc[df[col] == 'Yes', col] = 1\n",
    "  df.loc[df[col] != 1, col] = 0\n",
    "\n",
    "  df[col] = df[col].astype('int')"
   ]
  },
  {
   "cell_type": "code",
   "execution_count": 27,
   "metadata": {
    "colab": {
     "base_uri": "https://localhost:8080/"
    },
    "id": "hrKj_eFjtCsj",
    "outputId": "e08e572e-45cd-4323-fd2d-49d680b783c2"
   },
   "outputs": [
    {
     "data": {
      "text/plain": [
       "array(['DSL', 'Fiber optic', 'Unknown'], dtype=object)"
      ]
     },
     "execution_count": 27,
     "metadata": {},
     "output_type": "execute_result"
    }
   ],
   "source": [
    "# Verificar categorías en la columna internet_service\n",
    "df['internet_service'].value_counts(dropna=False)\n",
    "\n",
    "# Rellenar valores nulos para la columna internet_service\n",
    "df['internet_service'] = df['internet_service'].fillna('Unknown')\n",
    "\n",
    "# Verificar cambios\n",
    "df['internet_service'].unique()"
   ]
  },
  {
   "cell_type": "code",
   "execution_count": 28,
   "metadata": {
    "colab": {
     "base_uri": "https://localhost:8080/",
     "height": 743
    },
    "id": "1oWyysYwtCsj",
    "outputId": "94c850c6-98ab-4a5d-edef-b2887fd9e05e"
   },
   "outputs": [
    {
     "data": {
      "text/plain": [
       "customer_id             0\n",
       "begin_date              0\n",
       "end_date             5163\n",
       "type                    0\n",
       "paperless_billing       0\n",
       "payment_method          0\n",
       "monthly_charges         0\n",
       "total_charges           0\n",
       "gender                  0\n",
       "senior_citizen          0\n",
       "partner                 0\n",
       "dependents              0\n",
       "internet_service        0\n",
       "online_security         0\n",
       "online_backup           0\n",
       "device_protection       0\n",
       "tech_support            0\n",
       "streaming_tv            0\n",
       "streaming_movies        0\n",
       "multiple_lines          0\n",
       "churn                   0\n",
       "dtype: int64"
      ]
     },
     "execution_count": 28,
     "metadata": {},
     "output_type": "execute_result"
    }
   ],
   "source": [
    "# Chequear la existencia de valores nulos\n",
    "df.isnull().sum()"
   ]
  },
  {
   "cell_type": "markdown",
   "metadata": {
    "id": "fmQcoxOp13l3"
   },
   "source": [
    "No existen valores faltantes para las columnas. Eliminamos la columna `customer_id` dado que no contiene informacion relevante para la creación de modelos."
   ]
  },
  {
   "cell_type": "code",
   "execution_count": 29,
   "metadata": {
    "id": "aJTOpKLLtCsj"
   },
   "outputs": [],
   "source": [
    "# Eliminar columnas innecesarias\n",
    "df = df.drop('customer_id', axis=1)"
   ]
  },
  {
   "cell_type": "markdown",
   "metadata": {
    "id": "k4NaOU0ptCsj"
   },
   "source": [
    "## Análisis Exploratorio de Datos (EDA)"
   ]
  },
  {
   "cell_type": "markdown",
   "metadata": {
    "id": "XW-0-AcqtCsj"
   },
   "source": [
    "### Columnas Categóricas"
   ]
  },
  {
   "cell_type": "code",
   "execution_count": 30,
   "metadata": {
    "colab": {
     "base_uri": "https://localhost:8080/",
     "height": 948
    },
    "id": "P7TeClfz0k96",
    "outputId": "c9fd4aaf-d16c-4d79-8dee-0d38d69cb00e"
   },
   "outputs": [
    {
     "data": {
      "image/png": "[encoded data removed]",
      "text/plain": [
       "<Figure size 1600x1000 with 4 Axes>"
      ]
     },
     "metadata": {},
     "output_type": "display_data"
    }
   ],
   "source": [
    "# Configurar el tamaño de la figura general\n",
    "fig, axes = plt.subplots(2, 2, figsize=(16, 10))\n",
    "\n",
    "# Countplot para 'type'\n",
    "sns.countplot(data=df, x='type', palette='pastel', ax=axes[0, 0])\n",
    "axes[0, 0].set_title('Distribución de Type')\n",
    "axes[0, 0].set_xlabel('Type')\n",
    "axes[0, 0].set_ylabel('Frecuencia')\n",
    "\n",
    "# Countplot para 'payment_method'\n",
    "sns.countplot(data=df, x='payment_method', palette='pastel', ax=axes[0, 1])\n",
    "axes[0, 1].set_title('Distribución de Payment Method')\n",
    "axes[0, 1].set_xlabel('Payment Method')\n",
    "axes[0, 1].set_ylabel('Frecuencia')\n",
    "\n",
    "# Countplot para 'internet_service'\n",
    "sns.countplot(data=df, x='internet_service', palette='pastel', ax=axes[1, 0])\n",
    "axes[1, 0].set_title('Distribución de Internet Service')\n",
    "axes[1, 0].set_xlabel('Internet Service')\n",
    "axes[1, 0].set_ylabel('Frecuencia')\n",
    "\n",
    "# Countplot para 'gender'\n",
    "sns.countplot(data=df, x='gender', palette='pastel', ax=axes[1, 1])\n",
    "axes[1, 1].set_title('Distribución de Gender')\n",
    "axes[1, 1].set_xlabel('Gender')\n",
    "axes[1, 1].set_ylabel('Frecuencia')\n",
    "\n",
    "# Ajustar el diseño para evitar superposición\n",
    "plt.tight_layout()\n",
    "plt.show()"
   ]
  },
  {
   "cell_type": "markdown",
   "metadata": {
    "id": "UQ8-5LD73cXh"
   },
   "source": [
    "* `Type`: La mayoría de los clientes parecen preferir el contrato de mes a mes, mientras que una menor cantidad opta por contratos a largo plazo (de 1 o 2 años). Esto podría indicar que los clientes valoran la flexibilidad de los contratos mensuales o podrían estar menos comprometidos con la empresa, lo cual puede ser importante para la predicción de cancelación.\n",
    "\n",
    "* `Payment Method`: El método de pago Electronic check es el más común entre los clientes, seguido por Mailed check, Bank transfer (automatic), y Credit card (automatic). Esto puede tener implicaciones en la retención de clientes, ya que el pago electrónico podría estar asociado a una mayor facilidad para cancelar el servicio.\n",
    "\n",
    "* `Internet Service`: La mayoría de los clientes usa Fiber optic, mientras que un grupo significativo usa DSL. Un número más pequeño tiene un valor de servicio Unknown. La diferencia entre los tipos de servicio de Internet podría influir en la satisfacción del cliente y en la probabilidad de cancelación.\n",
    "\n",
    "* `Gender` La distribución de género es bastante equilibrada entre Female y Male, lo cual sugiere que el género probablemente no sea un factor determinante por sí mismo en la tasa de cancelación, aunque podría ser considerado en combinación con otras variables."
   ]
  },
  {
   "cell_type": "markdown",
   "metadata": {
    "id": "jxAKviP9tCsk"
   },
   "source": [
    "### Columnas Numéricas"
   ]
  },
  {
   "cell_type": "code",
   "execution_count": 31,
   "metadata": {
    "colab": {
     "base_uri": "https://localhost:8080/",
     "height": 300
    },
    "id": "wDkejhK0tCsk",
    "outputId": "48905f08-45ba-4101-c347-60e558653b85"
   },
   "outputs": [
    {
     "data": {
      "text/html": [
       "<div>\n",
       "<style scoped>\n",
       "    .dataframe tbody tr th:only-of-type {\n",
       "        vertical-align: middle;\n",
       "    }\n",
       "\n",
       "    .dataframe tbody tr th {\n",
       "        vertical-align: top;\n",
       "    }\n",
       "\n",
       "    .dataframe thead th {\n",
       "        text-align: right;\n",
       "    }\n",
       "</style>\n",
       "<table border=\"1\" class=\"dataframe\">\n",
       "  <thead>\n",
       "    <tr style=\"text-align: right;\">\n",
       "      <th></th>\n",
       "      <th>monthly_charges</th>\n",
       "      <th>total_charges</th>\n",
       "    </tr>\n",
       "  </thead>\n",
       "  <tbody>\n",
       "    <tr>\n",
       "      <th>count</th>\n",
       "      <td>7032.000000</td>\n",
       "      <td>7032.000000</td>\n",
       "    </tr>\n",
       "    <tr>\n",
       "      <th>mean</th>\n",
       "      <td>64.798208</td>\n",
       "      <td>2283.300441</td>\n",
       "    </tr>\n",
       "    <tr>\n",
       "      <th>std</th>\n",
       "      <td>30.085974</td>\n",
       "      <td>2266.771362</td>\n",
       "    </tr>\n",
       "    <tr>\n",
       "      <th>min</th>\n",
       "      <td>18.250000</td>\n",
       "      <td>18.800000</td>\n",
       "    </tr>\n",
       "    <tr>\n",
       "      <th>25%</th>\n",
       "      <td>35.587500</td>\n",
       "      <td>401.450000</td>\n",
       "    </tr>\n",
       "    <tr>\n",
       "      <th>50%</th>\n",
       "      <td>70.350000</td>\n",
       "      <td>1397.475000</td>\n",
       "    </tr>\n",
       "    <tr>\n",
       "      <th>75%</th>\n",
       "      <td>89.862500</td>\n",
       "      <td>3794.737500</td>\n",
       "    </tr>\n",
       "    <tr>\n",
       "      <th>max</th>\n",
       "      <td>118.750000</td>\n",
       "      <td>8684.800000</td>\n",
       "    </tr>\n",
       "  </tbody>\n",
       "</table>\n",
       "</div>"
      ],
      "text/plain": [
       "       monthly_charges  total_charges\n",
       "count      7032.000000    7032.000000\n",
       "mean         64.798208    2283.300441\n",
       "std          30.085974    2266.771362\n",
       "min          18.250000      18.800000\n",
       "25%          35.587500     401.450000\n",
       "50%          70.350000    1397.475000\n",
       "75%          89.862500    3794.737500\n",
       "max         118.750000    8684.800000"
      ]
     },
     "execution_count": 31,
     "metadata": {},
     "output_type": "execute_result"
    }
   ],
   "source": [
    "df[['monthly_charges', 'total_charges']].describe()"
   ]
  },
  {
   "cell_type": "markdown",
   "metadata": {
    "id": "A5y9Uyt34EPD"
   },
   "source": [
    "La alta variabilidad en los `total_charges` sugiere que algunos clientes han estado utilizando el servicio durante un largo período, mientras que otros son más recientes. Los clientes con cargos mensuales altos y cargos totales bajos podrían indicar aquellos que son nuevos y potencialmente más propensos a cancelar. Por otro lado, los clientes con cargos totales altos suelen ser de larga data y pueden tener mayor lealtad."
   ]
  },
  {
   "cell_type": "code",
   "execution_count": 32,
   "metadata": {
    "colab": {
     "base_uri": "https://localhost:8080/",
     "height": 607
    },
    "id": "lBvOiwTptCsn",
    "outputId": "d95ab43b-f06a-4cda-f2ea-ee0148000eec"
   },
   "outputs": [
    {
     "data": {
      "image/png": "[encoded data removed]",
      "text/plain": [
       "<Figure size 1400x600 with 2 Axes>"
      ]
     },
     "metadata": {},
     "output_type": "display_data"
    }
   ],
   "source": [
    "# Configurar el tamaño de las figuras\n",
    "plt.figure(figsize=(14, 6))\n",
    "\n",
    "# Gráfico de distribución para 'monthly_charges'\n",
    "plt.subplot(1, 2, 1)\n",
    "sns.histplot(df['monthly_charges'], bins=30, kde=True)\n",
    "plt.title('Distribución de Monthly Charges')\n",
    "plt.xlabel('Monthly Charges')\n",
    "plt.ylabel('Frecuencia')\n",
    "\n",
    "# Gráfico de distribución para 'total_charges'\n",
    "plt.subplot(1, 2, 2)\n",
    "sns.histplot(df['total_charges'], bins=30, kde=True)\n",
    "plt.title('Distribución de Total Charges')\n",
    "plt.xlabel('Total Charges')\n",
    "plt.ylabel('Frecuencia')\n",
    "\n",
    "# Ajustar el diseño y mostrar las gráficas\n",
    "plt.tight_layout()\n",
    "plt.show()"
   ]
  },
  {
   "cell_type": "markdown",
   "metadata": {
    "id": "1XR_uYOz4c21"
   },
   "source": [
    "* La alta frecuencia de cargos mensuales bajos y totales cercanos a cero podría estar relacionada con clientes nuevos o de bajo compromiso, lo cual podría ser relevante en la predicción de cancelación.\n",
    "\n",
    "* La variabilidad en `monthly_charges` indica la existencia de diferentes planes o combinaciones de servicios, lo cual también puede influir en la lealtad del cliente.\n",
    "\n",
    "* La distribución sesgada de `total_charges` refuerza la idea de que muchos clientes tienen una relación reciente con la empresa, lo que puede aumentar el riesgo de cancelación."
   ]
  },
  {
   "cell_type": "markdown",
   "metadata": {
    "id": "7pv48yij5qKj"
   },
   "source": [
    "## Variables Temporales"
   ]
  },
  {
   "cell_type": "markdown",
   "metadata": {
    "id": "-vPFLykK565P"
   },
   "source": [
    "Vamos a verificar que las fechas esten en orden cronológico"
   ]
  },
  {
   "cell_type": "code",
   "execution_count": 33,
   "metadata": {
    "colab": {
     "base_uri": "https://localhost:8080/"
    },
    "id": "bQw_Z8VxtCso",
    "outputId": "8410c8f0-3099-43b2-a408-6eb58429d2ee"
   },
   "outputs": [
    {
     "data": {
      "text/plain": [
       "False"
      ]
     },
     "execution_count": 33,
     "metadata": {},
     "output_type": "execute_result"
    }
   ],
   "source": [
    "# Establecer begin_date como indice\n",
    "df.set_index(keys='begin_date', inplace=True)\n",
    "\n",
    "# Comprobar que las fechas esten ordenadas\n",
    "df.index.is_monotonic_increasing"
   ]
  },
  {
   "cell_type": "code",
   "execution_count": 34,
   "metadata": {
    "id": "b7D7RQaQ6AXR"
   },
   "outputs": [],
   "source": [
    "# Ordenar Fechas\n",
    "df = df.sort_values('begin_date')"
   ]
  },
  {
   "cell_type": "code",
   "execution_count": 35,
   "metadata": {
    "colab": {
     "base_uri": "https://localhost:8080/",
     "height": 388
    },
    "id": "VkydBIk36fyG",
    "outputId": "3e236bde-6cd6-474b-9a7b-d2695693e7fa"
   },
   "outputs": [
    {
     "data": {
      "image/png": "[encoded data removed]",
      "text/plain": [
       "<Figure size 1600x400 with 1 Axes>"
      ]
     },
     "metadata": {},
     "output_type": "display_data"
    }
   ],
   "source": [
    "# Contrato de servicios por mes\n",
    "df.resample('1M')['churn'].count().plot(figsize=(16,4))\n",
    "\n",
    "plt.show()"
   ]
  },
  {
   "cell_type": "code",
   "execution_count": 36,
   "metadata": {
    "colab": {
     "base_uri": "https://localhost:8080/",
     "height": 388
    },
    "id": "mUZ12R7J6poh",
    "outputId": "70bc2f9f-3fd3-4dcf-857d-8ec71ad7d508"
   },
   "outputs": [
    {
     "data": {
      "image/png": "[encoded data removed]",
      "text/plain": [
       "<Figure size 1600x400 with 1 Axes>"
      ]
     },
     "metadata": {},
     "output_type": "display_data"
    }
   ],
   "source": [
    "# Contrato de servicios por año\n",
    "df.resample('1Y')['churn'].count().plot(figsize=(16,4))\n",
    "\n",
    "plt.show()"
   ]
  },
  {
   "cell_type": "markdown",
   "metadata": {
    "id": "lG5_XPQO6xJW"
   },
   "source": [
    "Observamos un alto número de contratos el año 2014 y posteriormente se observa un peak cercano a los 2000 el año 2019."
   ]
  },
  {
   "cell_type": "code",
   "execution_count": 37,
   "metadata": {
    "id": "BeSUnwN28tMY"
   },
   "outputs": [],
   "source": [
    "#información de clientes dados de baja\n",
    "end_date = df[df['end_date'] != 'No'].copy()\n",
    "end_date['end_date'] = pd.to_datetime(end_date['end_date'])"
   ]
  },
  {
   "cell_type": "code",
   "execution_count": 38,
   "metadata": {
    "colab": {
     "base_uri": "https://localhost:8080/",
     "height": 304
    },
    "id": "nziLjM508tJi",
    "outputId": "7b1959df-de44-494c-9aaa-32eb392d39f4"
   },
   "outputs": [
    {
     "data": {
      "text/plain": [
       "count                    1869\n",
       "unique                      4\n",
       "top       2019-11-01 00:00:00\n",
       "freq                      485\n",
       "first     2019-10-01 00:00:00\n",
       "last      2020-01-01 00:00:00\n",
       "Name: end_date, dtype: object"
      ]
     },
     "execution_count": 38,
     "metadata": {},
     "output_type": "execute_result"
    }
   ],
   "source": [
    "#cancelaciones del contrato por fecha\n",
    "end_date['end_date'].describe()"
   ]
  },
  {
   "cell_type": "markdown",
   "metadata": {
    "id": "ZGobnTtK9E7b"
   },
   "source": [
    "Observamos fechas de inicio de contratos desde el 1 de octubre de 2013, hasta el 1 de enero 2020. Sin embargo, existen fechas de cancelaciones desde el 1 de octubre de 2019 hasta el 1 de enero 2020."
   ]
  },
  {
   "cell_type": "code",
   "execution_count": 39,
   "metadata": {
    "id": "zJbB-cgJ7JpG"
   },
   "outputs": [],
   "source": [
    "# Establecer end_date como indice\n",
    "end_date.set_index(keys='end_date', inplace=True)"
   ]
  },
  {
   "cell_type": "code",
   "execution_count": 40,
   "metadata": {
    "colab": {
     "base_uri": "https://localhost:8080/",
     "height": 404
    },
    "id": "Vb_rYJWH9aB-",
    "outputId": "dcd43698-ec1a-4e74-e48c-c340bbf85281"
   },
   "outputs": [
    {
     "data": {
      "image/png": "[encoded data removed]",
      "text/plain": [
       "<Figure size 1600x400 with 1 Axes>"
      ]
     },
     "metadata": {},
     "output_type": "display_data"
    }
   ],
   "source": [
    "# Cancelaciones por mes\n",
    "end_date.resample('1M')['churn'].sum().plot(figsize=(16,4))\n",
    "plt.xlim()\n",
    "plt.show()"
   ]
  },
  {
   "cell_type": "code",
   "execution_count": 41,
   "metadata": {
    "colab": {
     "base_uri": "https://localhost:8080/",
     "height": 404
    },
    "id": "uo6T4rSX9fJQ",
    "outputId": "542bc626-794b-4c66-fa7e-7f81d976de78"
   },
   "outputs": [
    {
     "data": {
      "image/png": "[encoded data removed]",
      "text/plain": [
       "<Figure size 1600x400 with 1 Axes>"
      ]
     },
     "metadata": {},
     "output_type": "display_data"
    }
   ],
   "source": [
    "# Cancelaciones por dia\n",
    "end_date.resample('1D')['churn'].sum().plot(figsize=(16,4))\n",
    "plt.xlim()\n",
    "plt.show()"
   ]
  },
  {
   "cell_type": "markdown",
   "metadata": {
    "id": "5zz_r4C29oUV"
   },
   "source": [
    "Las cancelaciones iniciaron en octubre del 2019, incrementaron durante noviembre y disminuyeron nuevamente en diciembre.\n",
    "\n",
    "Solo hay registro de cancelaciones al cambiar el mes, probablemente cerca de la fecha de cobro."
   ]
  },
  {
   "cell_type": "markdown",
   "metadata": {
    "id": "0KeGAn0i9sKp"
   },
   "source": [
    "## Correlación de variables"
   ]
  },
  {
   "cell_type": "markdown",
   "metadata": {
    "id": "g-AV-wSPBkx0"
   },
   "source": [
    "## Correlación de variables númericas"
   ]
  },
  {
   "cell_type": "code",
   "execution_count": 42,
   "metadata": {
    "colab": {
     "base_uri": "https://localhost:8080/",
     "height": 758
    },
    "id": "Czcm5EJl9jh6",
    "outputId": "16eb9d3c-cbd2-4b99-8da3-f949358dff70"
   },
   "outputs": [
    {
     "data": {
      "image/png": "[encoded data removed]",
      "text/plain": [
       "<Figure size 750x750 with 9 Axes>"
      ]
     },
     "metadata": {},
     "output_type": "display_data"
    }
   ],
   "source": [
    "# Matriz de dispersión\n",
    "sns.pairplot(df[['monthly_charges', 'total_charges', 'churn']], corner=True)\n",
    "\n",
    "plt.show()"
   ]
  },
  {
   "cell_type": "code",
   "execution_count": 43,
   "metadata": {
    "colab": {
     "base_uri": "https://localhost:8080/",
     "height": 143
    },
    "id": "joLqC3AB-JgK",
    "outputId": "1bc7e380-316f-49b8-a099-cf8dbe68c6ef"
   },
   "outputs": [
    {
     "data": {
      "text/html": [
       "<div>\n",
       "<style scoped>\n",
       "    .dataframe tbody tr th:only-of-type {\n",
       "        vertical-align: middle;\n",
       "    }\n",
       "\n",
       "    .dataframe tbody tr th {\n",
       "        vertical-align: top;\n",
       "    }\n",
       "\n",
       "    .dataframe thead th {\n",
       "        text-align: right;\n",
       "    }\n",
       "</style>\n",
       "<table border=\"1\" class=\"dataframe\">\n",
       "  <thead>\n",
       "    <tr style=\"text-align: right;\">\n",
       "      <th></th>\n",
       "      <th>monthly_charges</th>\n",
       "      <th>total_charges</th>\n",
       "      <th>churn</th>\n",
       "    </tr>\n",
       "  </thead>\n",
       "  <tbody>\n",
       "    <tr>\n",
       "      <th>monthly_charges</th>\n",
       "      <td>1.000000</td>\n",
       "      <td>0.651065</td>\n",
       "      <td>0.192858</td>\n",
       "    </tr>\n",
       "    <tr>\n",
       "      <th>total_charges</th>\n",
       "      <td>0.651065</td>\n",
       "      <td>1.000000</td>\n",
       "      <td>-0.199484</td>\n",
       "    </tr>\n",
       "    <tr>\n",
       "      <th>churn</th>\n",
       "      <td>0.192858</td>\n",
       "      <td>-0.199484</td>\n",
       "      <td>1.000000</td>\n",
       "    </tr>\n",
       "  </tbody>\n",
       "</table>\n",
       "</div>"
      ],
      "text/plain": [
       "                 monthly_charges  total_charges     churn\n",
       "monthly_charges         1.000000       0.651065  0.192858\n",
       "total_charges           0.651065       1.000000 -0.199484\n",
       "churn                   0.192858      -0.199484  1.000000"
      ]
     },
     "execution_count": 43,
     "metadata": {},
     "output_type": "execute_result"
    }
   ],
   "source": [
    "# Matriz de correlación para características numéricas\n",
    "df[['monthly_charges', 'total_charges', 'churn']].corr()"
   ]
  },
  {
   "cell_type": "markdown",
   "metadata": {
    "id": "CIRRYjM6-W38"
   },
   "source": [
    "Esto muestra que hay una relación moderadamente positiva entre la columna `monthly_charges` y la variable objetivo. Por otro lado, observamos una relacion negativa leve de la columna `total_charges` y la variable objetivo."
   ]
  },
  {
   "cell_type": "markdown",
   "metadata": {
    "id": "TA3tGXjt_cr3"
   },
   "source": [
    "## Correlación para variables booleanas"
   ]
  },
  {
   "cell_type": "code",
   "execution_count": 44,
   "metadata": {
    "colab": {
     "base_uri": "https://localhost:8080/",
     "height": 460
    },
    "id": "IrqyqJ1F-c45",
    "outputId": "10ee38eb-ae6b-4e1f-dd20-6d8f74597ce7"
   },
   "outputs": [
    {
     "data": {
      "text/plain": [
       "online_security     -0.171270\n",
       "tech_support        -0.164716\n",
       "dependents          -0.163128\n",
       "partner             -0.149982\n",
       "online_backup       -0.082307\n",
       "device_protection   -0.066193\n",
       "multiple_lines       0.040033\n",
       "streaming_movies     0.060860\n",
       "streaming_tv         0.063254\n",
       "senior_citizen       0.150541\n",
       "paperless_billing    0.191454\n",
       "churn                1.000000\n",
       "Name: churn, dtype: float64"
      ]
     },
     "execution_count": 44,
     "metadata": {},
     "output_type": "execute_result"
    }
   ],
   "source": [
    "# Columnas Booleanas\n",
    "bool_col = ['paperless_billing', 'online_security', 'online_backup', 'device_protection', 'tech_support', 'streaming_tv', 'streaming_movies', 'senior_citizen', 'partner', 'dependents', 'multiple_lines']\n",
    "\n",
    "# Agregamos la variable objetivo\n",
    "bool_col.append('churn')\n",
    "\n",
    "# Matriz de correlación para características booleanas\n",
    "df[bool_col].corr()['churn'].sort_values()\n"
   ]
  },
  {
   "cell_type": "markdown",
   "metadata": {
    "id": "4bCJW7jaAO_N"
   },
   "source": [
    "Vemos que existe una relación negativa de la columna objetivo con las columnas:\n",
    "\n",
    "- `online_security`\n",
    "- `tech_support`\n",
    "- `dependents`\n",
    "- `partner`\n",
    "\n",
    "Además, observamos una relación positiva de la columna objetivo con las columnas:\n",
    "\n",
    "- `paperless_billing`\n",
    "- `senior_citizen`\n",
    "\n",
    "Hay una relación casi nula (menor a 0.10 absoluto) de la columna objetivo con el resto de las columnas."
   ]
  },
  {
   "cell_type": "markdown",
   "metadata": {
    "id": "-zFof9wYB5bC"
   },
   "source": [
    "## Preparación y Evaluación de Modelos"
   ]
  },
  {
   "cell_type": "markdown",
   "metadata": {
    "id": "Det2GZrhCCyL"
   },
   "source": [
    "## Preparar el conjunto de datos"
   ]
  },
  {
   "cell_type": "markdown",
   "metadata": {
    "id": "srzkwV37CPAg"
   },
   "source": [
    "En las columnas `payment_method` y `type` se agrupan las categorías que son similares, considerando la tasa de cancelación."
   ]
  },
  {
   "cell_type": "code",
   "execution_count": 45,
   "metadata": {
    "colab": {
     "base_uri": "https://localhost:8080/"
    },
    "id": "PrNjboy_CCbt",
    "outputId": "d63ce790-9f75-4d4f-833b-5942d600ea2a"
   },
   "outputs": [
    {
     "data": {
      "text/plain": [
       "array(['Other', 'Electronic check'], dtype=object)"
      ]
     },
     "execution_count": 45,
     "metadata": {},
     "output_type": "execute_result"
    }
   ],
   "source": [
    "# Agrupar las categorías de la columna payment_method\n",
    "df.loc[df['payment_method'] != 'Electronic check', 'payment_method'] = 'Other'\n",
    "\n",
    "# Verificar valores únicos en la columna 'payment_method'\n",
    "df['payment_method'].unique()"
   ]
  },
  {
   "cell_type": "code",
   "execution_count": 46,
   "metadata": {
    "colab": {
     "base_uri": "https://localhost:8080/"
    },
    "id": "XGmFmxl7A8zV",
    "outputId": "0ec0d7b6-0066-40a3-afef-5754b95c0c64"
   },
   "outputs": [
    {
     "data": {
      "text/plain": [
       "array(['1 year or more', 'Month-to-month'], dtype=object)"
      ]
     },
     "execution_count": 46,
     "metadata": {},
     "output_type": "execute_result"
    }
   ],
   "source": [
    "# Agrupar categorías de la columna 'type'\n",
    "df.loc[df['type'] != 'Month-to-month', 'type'] = '1 year or more'\n",
    "\n",
    "# Verificar valores únicos en la columna 'type'\n",
    "df['type'].unique()"
   ]
  },
  {
   "cell_type": "markdown",
   "metadata": {
    "id": "a9hTNQ8-DeMz"
   },
   "source": [
    "Eliminamos las columnas que no son relevantes para el entrenamiento del modelo como la columna `gender` que no muestra influencia sobre la variable objetivo y la columna `end_date` que forma parte de la variable objetivo."
   ]
  },
  {
   "cell_type": "code",
   "execution_count": 47,
   "metadata": {
    "id": "ZramgIMKDz1Z"
   },
   "outputs": [],
   "source": [
    "# Eliminar características para entrenar al modelo\n",
    "df = df.drop(columns=['gender', 'end_date'])"
   ]
  },
  {
   "cell_type": "code",
   "execution_count": 48,
   "metadata": {
    "colab": {
     "base_uri": "https://localhost:8080/"
    },
    "id": "x-5EC4OCEMJr",
    "outputId": "63568156-8214-423b-9e69-86ddaaf8a4d4"
   },
   "outputs": [
    {
     "name": "stdout",
     "output_type": "stream",
     "text": [
      "<class 'pandas.core.frame.DataFrame'>\n",
      "DatetimeIndex: 7032 entries, 2013-10-01 to 2020-01-01\n",
      "Data columns (total 17 columns):\n",
      " #   Column             Non-Null Count  Dtype  \n",
      "---  ------             --------------  -----  \n",
      " 0   type               7032 non-null   object \n",
      " 1   paperless_billing  7032 non-null   int64  \n",
      " 2   payment_method     7032 non-null   object \n",
      " 3   monthly_charges    7032 non-null   float64\n",
      " 4   total_charges      7032 non-null   float64\n",
      " 5   senior_citizen     7032 non-null   int64  \n",
      " 6   partner            7032 non-null   int64  \n",
      " 7   dependents         7032 non-null   int64  \n",
      " 8   internet_service   7032 non-null   object \n",
      " 9   online_security    7032 non-null   int64  \n",
      " 10  online_backup      7032 non-null   int64  \n",
      " 11  device_protection  7032 non-null   int64  \n",
      " 12  tech_support       7032 non-null   int64  \n",
      " 13  streaming_tv       7032 non-null   int64  \n",
      " 14  streaming_movies   7032 non-null   int64  \n",
      " 15  multiple_lines     7032 non-null   int64  \n",
      " 16  churn              7032 non-null   int64  \n",
      "dtypes: float64(2), int64(12), object(3)\n",
      "memory usage: 988.9+ KB\n"
     ]
    }
   ],
   "source": [
    "df.info()"
   ]
  },
  {
   "cell_type": "code",
   "execution_count": 49,
   "metadata": {
    "id": "mwDO0d6VG-F_"
   },
   "outputs": [],
   "source": [
    "# Aplicar get_dummies a las columnas categóricas 'type', 'payment_method' e 'internet_service'\n",
    "df = pd.get_dummies(df, columns=['type', 'payment_method', 'internet_service'], drop_first=True)"
   ]
  },
  {
   "cell_type": "code",
   "execution_count": 50,
   "metadata": {
    "colab": {
     "base_uri": "https://localhost:8080/"
    },
    "id": "yUXBT6y-Humh",
    "outputId": "1d0d8f1c-f34b-473d-8035-c4fed657fe66"
   },
   "outputs": [
    {
     "name": "stdout",
     "output_type": "stream",
     "text": [
      "            paperless_billing  monthly_charges  total_charges  senior_citizen  \\\n",
      "begin_date                                                                      \n",
      "2013-10-01                  0         0.919158       1.833994               1   \n",
      "2013-10-01                  1         1.761803       2.824261               0   \n",
      "2013-10-01                  1         1.308071       2.385346               1   \n",
      "2013-11-01                  1         1.437709       2.315727               0   \n",
      "2013-11-01                  1         1.455991       2.385765               0   \n",
      "\n",
      "            partner  dependents  online_security  online_backup  \\\n",
      "begin_date                                                        \n",
      "2013-10-01        1           1                1              1   \n",
      "2013-10-01        1           0                1              1   \n",
      "2013-10-01        1           0                0              1   \n",
      "2013-11-01        0           0                1              0   \n",
      "2013-11-01        1           0                0              1   \n",
      "\n",
      "            device_protection  tech_support  streaming_tv  streaming_movies  \\\n",
      "begin_date                                                                    \n",
      "2013-10-01                  1             1             1                 1   \n",
      "2013-10-01                  1             1             1                 1   \n",
      "2013-10-01                  1             0             1                 1   \n",
      "2013-11-01                  1             1             1                 1   \n",
      "2013-11-01                  1             1             1                 1   \n",
      "\n",
      "            multiple_lines  churn  type_Month-to-month  payment_method_Other  \\\n",
      "begin_date                                                                     \n",
      "2013-10-01               1      1                    0                     1   \n",
      "2013-10-01               1      1                    0                     1   \n",
      "2013-10-01               1      1                    0                     1   \n",
      "2013-11-01               1      1                    0                     0   \n",
      "2013-11-01               1      1                    0                     1   \n",
      "\n",
      "            internet_service_Fiber optic  internet_service_Unknown  \n",
      "begin_date                                                          \n",
      "2013-10-01                             0                         0  \n",
      "2013-10-01                             1                         0  \n",
      "2013-10-01                             1                         0  \n",
      "2013-11-01                             1                         0  \n",
      "2013-11-01                             1                         0  \n"
     ]
    }
   ],
   "source": [
    "# Inicializar el escalador\n",
    "scaler = StandardScaler()\n",
    "\n",
    "# Seleccionar las columnas a escalar\n",
    "columns_to_scale = ['monthly_charges', 'total_charges']\n",
    "\n",
    "# Ajustar y transformar los datos en las columnas seleccionadas\n",
    "df[columns_to_scale] = scaler.fit_transform(df[columns_to_scale])\n",
    "\n",
    "# Verificar los resultados\n",
    "print(df.head())"
   ]
  },
  {
   "cell_type": "code",
   "execution_count": 51,
   "metadata": {
    "colab": {
     "base_uri": "https://localhost:8080/",
     "height": 178
    },
    "id": "AAbXicBXFw-o",
    "outputId": "bdec86b4-39df-429f-ae3a-d0fbc0c46d96"
   },
   "outputs": [
    {
     "data": {
      "text/plain": [
       "0    5163\n",
       "1    1869\n",
       "Name: churn, dtype: int64"
      ]
     },
     "execution_count": 51,
     "metadata": {},
     "output_type": "execute_result"
    }
   ],
   "source": [
    "df['churn'].value_counts()"
   ]
  },
  {
   "cell_type": "markdown",
   "metadata": {
    "id": "Obbow0JbGJfD"
   },
   "source": [
    "## Division del conjunto de datos"
   ]
  },
  {
   "cell_type": "code",
   "execution_count": 52,
   "metadata": {
    "colab": {
     "base_uri": "https://localhost:8080/"
    },
    "id": "QXjRqY58ZApP",
    "outputId": "1612136e-3d6d-4ea7-91c1-56912cbfbdd5"
   },
   "outputs": [
    {
     "name": "stdout",
     "output_type": "stream",
     "text": [
      "Distribución de clases antes del upsampling: 0    3058\n",
      "1    1125\n",
      "Name: churn, dtype: int64\n",
      "Distribución de clases después del upsampling: 0    3058\n",
      "1    3058\n",
      "Name: churn, dtype: int64\n"
     ]
    }
   ],
   "source": [
    "from sklearn.utils import resample\n",
    "\n",
    "# Separar las características de la variable objetivo\n",
    "X = df.drop(['churn'], axis=1)\n",
    "y = df['churn']\n",
    "\n",
    "# Dividir los datos en entrenamiento, validación y prueba\n",
    "X_train, X_test, y_train, y_test = train_test_split(X, y, test_size=0.30, random_state=42)\n",
    "X_train, X_val, y_train, y_val = train_test_split(X_train, y_train, test_size=0.15, random_state=42)\n",
    "\n",
    "# Aplicar upsampling al conjunto de entrenamiento\n",
    "X_train_minority = X_train[y_train == 1]\n",
    "y_train_minority = y_train[y_train == 1]\n",
    "X_train_majority = X_train[y_train == 0]\n",
    "y_train_majority = y_train[y_train == 0]\n",
    "\n",
    "X_train_minority_upsampled = resample(X_train_minority,\n",
    "                                      replace=True,\n",
    "                                      n_samples=len(X_train_majority),\n",
    "                                      random_state=42)\n",
    "y_train_minority_upsampled = resample(y_train_minority,\n",
    "                                      replace=True,\n",
    "                                      n_samples=len(y_train_majority),\n",
    "                                      random_state=42)\n",
    "\n",
    "# Combinar las clases mayoritaria y minoritaria upsampleada\n",
    "X_train_resampled = pd.concat([X_train_majority, X_train_minority_upsampled])\n",
    "y_train_resampled = pd.concat([y_train_majority, y_train_minority_upsampled])\n",
    "\n",
    "# Verificar las distribuciones de las clases después del balanceo\n",
    "print(\"Distribución de clases antes del upsampling:\", y_train.value_counts())\n",
    "print(\"Distribución de clases después del upsampling:\", y_train_resampled.value_counts())"
   ]
  },
  {
   "cell_type": "markdown",
   "metadata": {
    "id": "9QqRlxuxWn5U"
   },
   "source": [
    "## Función de Evaluación de Modelos"
   ]
  },
  {
   "cell_type": "code",
   "execution_count": 53,
   "metadata": {
    "id": "DpvgMXZXHio2"
   },
   "outputs": [],
   "source": [
    "def train_and_evaluate_models(X_train, y_train, X_val, y_val):\n",
    "    # Inicializar los modelos\n",
    "    models = {\n",
    "        \"Logistic Regression\": LogisticRegression(max_iter=1000, random_state=42),\n",
    "        \"Decision Tree\": DecisionTreeClassifier(random_state=42),\n",
    "        \"Random Forest\": RandomForestClassifier(random_state=42),\n",
    "        \"LGBM Classifier\": LGBMClassifier(random_state=42),\n",
    "        \"Gradient Boosting\": GradientBoostingClassifier(random_state=42),\n",
    "        \"CatBoost Classifier\": CatBoostClassifier(random_state=42, verbose=0)\n",
    "    }\n",
    "\n",
    "    # Diccionario para almacenar los resultados\n",
    "    results = {\n",
    "        \"Model\": [],\n",
    "        \"AUC-ROC\": [],\n",
    "        \"Accuracy\": [],\n",
    "        \"F1-Score\": [],\n",
    "        \"Training Time (s)\": []\n",
    "    }\n",
    "\n",
    "    # Graficar la curva ROC\n",
    "    plt.figure(figsize=(10, 8))\n",
    "\n",
    "    # Entrenar y evaluar cada modelo\n",
    "    for model_name, model in models.items():\n",
    "        start_time = time.time()  # Registrar el tiempo de inicio\n",
    "        \n",
    "        # Entrenar el modelo\n",
    "        model.fit(X_train, y_train)\n",
    "        \n",
    "        end_time = time.time()  # Registrar el tiempo de finalización\n",
    "        training_time = round(end_time - start_time, 2)  # Calcular el tiempo de entrenamiento\n",
    "\n",
    "        # Realizar predicciones en el conjunto de validación\n",
    "        y_pred = model.predict(X_val)\n",
    "        y_pred_proba = model.predict_proba(X_val)[:, 1]  # Probabilidades para la clase positiva\n",
    "\n",
    "        # Calcular métricas\n",
    "        auc = round(roc_auc_score(y_val, y_pred_proba), 2)\n",
    "        accuracy = round(accuracy_score(y_val, y_pred), 2)\n",
    "        f1 = round(f1_score(y_val, y_pred), 2)\n",
    "\n",
    "        # Guardar los resultados\n",
    "        results[\"Model\"].append(model_name)\n",
    "        results[\"AUC-ROC\"].append(auc)\n",
    "        results[\"Accuracy\"].append(accuracy)\n",
    "        results[\"F1-Score\"].append(f1)\n",
    "        results[\"Training Time (s)\"].append(training_time)\n",
    "\n",
    "        # Curva ROC\n",
    "        fpr, tpr, _ = roc_curve(y_val, y_pred_proba)\n",
    "        plt.plot(fpr, tpr, label=f'{model_name} (AUC = {auc:.2f})')\n",
    "\n",
    "    # Configurar la gráfica de la curva ROC\n",
    "    plt.plot([0, 1], [0, 1], 'k--')  # Línea diagonal para referencia\n",
    "    plt.xlabel('False Positive Rate')\n",
    "    plt.ylabel('True Positive Rate')\n",
    "    plt.title('Curva ROC')\n",
    "    plt.legend(loc='lower right')\n",
    "    plt.show()\n",
    "\n",
    "    # Convertir los resultados en un DataFrame para facilitar la visualización\n",
    "    results_df = pd.DataFrame(results)\n",
    "\n",
    "    return results_df"
   ]
  },
  {
   "cell_type": "code",
   "execution_count": 54,
   "metadata": {
    "colab": {
     "base_uri": "https://localhost:8080/",
     "height": 1000
    },
    "id": "IAepR4JqHmFp",
    "outputId": "7ab81014-9afe-4266-b271-0ba0e2fd4232"
   },
   "outputs": [
    {
     "data": {
      "image/png": "[encoded data removed]",
      "text/plain": [
       "<Figure size 1000x800 with 1 Axes>"
      ]
     },
     "metadata": {},
     "output_type": "display_data"
    },
    {
     "data": {
      "text/html": [
       "<div>\n",
       "<style scoped>\n",
       "    .dataframe tbody tr th:only-of-type {\n",
       "        vertical-align: middle;\n",
       "    }\n",
       "\n",
       "    .dataframe tbody tr th {\n",
       "        vertical-align: top;\n",
       "    }\n",
       "\n",
       "    .dataframe thead th {\n",
       "        text-align: right;\n",
       "    }\n",
       "</style>\n",
       "<table border=\"1\" class=\"dataframe\">\n",
       "  <thead>\n",
       "    <tr style=\"text-align: right;\">\n",
       "      <th></th>\n",
       "      <th>Model</th>\n",
       "      <th>AUC-ROC</th>\n",
       "      <th>Accuracy</th>\n",
       "      <th>F1-Score</th>\n",
       "      <th>Training Time (s)</th>\n",
       "    </tr>\n",
       "  </thead>\n",
       "  <tbody>\n",
       "    <tr>\n",
       "      <th>0</th>\n",
       "      <td>Logistic Regression</td>\n",
       "      <td>0.85</td>\n",
       "      <td>0.76</td>\n",
       "      <td>0.64</td>\n",
       "      <td>0.02</td>\n",
       "    </tr>\n",
       "    <tr>\n",
       "      <th>1</th>\n",
       "      <td>Decision Tree</td>\n",
       "      <td>0.65</td>\n",
       "      <td>0.74</td>\n",
       "      <td>0.48</td>\n",
       "      <td>0.09</td>\n",
       "    </tr>\n",
       "    <tr>\n",
       "      <th>2</th>\n",
       "      <td>Random Forest</td>\n",
       "      <td>0.82</td>\n",
       "      <td>0.79</td>\n",
       "      <td>0.60</td>\n",
       "      <td>0.47</td>\n",
       "    </tr>\n",
       "    <tr>\n",
       "      <th>3</th>\n",
       "      <td>LGBM Classifier</td>\n",
       "      <td>0.84</td>\n",
       "      <td>0.78</td>\n",
       "      <td>0.63</td>\n",
       "      <td>0.29</td>\n",
       "    </tr>\n",
       "    <tr>\n",
       "      <th>4</th>\n",
       "      <td>Gradient Boosting</td>\n",
       "      <td>0.86</td>\n",
       "      <td>0.75</td>\n",
       "      <td>0.63</td>\n",
       "      <td>0.56</td>\n",
       "    </tr>\n",
       "    <tr>\n",
       "      <th>5</th>\n",
       "      <td>CatBoost Classifier</td>\n",
       "      <td>0.84</td>\n",
       "      <td>0.77</td>\n",
       "      <td>0.63</td>\n",
       "      <td>1.88</td>\n",
       "    </tr>\n",
       "  </tbody>\n",
       "</table>\n",
       "</div>"
      ],
      "text/plain": [
       "                 Model  AUC-ROC  Accuracy  F1-Score  Training Time (s)\n",
       "0  Logistic Regression     0.85      0.76      0.64               0.02\n",
       "1        Decision Tree     0.65      0.74      0.48               0.09\n",
       "2        Random Forest     0.82      0.79      0.60               0.47\n",
       "3      LGBM Classifier     0.84      0.78      0.63               0.29\n",
       "4    Gradient Boosting     0.86      0.75      0.63               0.56\n",
       "5  CatBoost Classifier     0.84      0.77      0.63               1.88"
      ]
     },
     "execution_count": 54,
     "metadata": {},
     "output_type": "execute_result"
    }
   ],
   "source": [
    "results_df = train_and_evaluate_models(X_train_resampled, y_train_resampled, X_val, y_val)\n",
    "\n",
    "results_df"
   ]
  },
  {
   "cell_type": "markdown",
   "metadata": {
    "id": "_Ab5IXtigbmF"
   },
   "source": [
    "* `Logistic Regression` y `Gradient Boosting` destacan como los mejores modelos en general, con un buen balance entre `AUC-ROC`, `Accuracy` y `F1-Score`.\n",
    "\n",
    "* `Random Forest` tiene la mejor `Accuracy`, pero un `F1-Score` ligeramente menor, lo cual podría indicar que es menos balanceado al predecir ambas clases.\n",
    "\n",
    "* `Decision Tree` parece ser el modelo menos efectivo en general, debido a sus bajos valores de `AUC-ROC` y `F1-Score`."
   ]
  },
  {
   "cell_type": "markdown",
   "metadata": {
    "id": "Z3m2XRETJEtP"
   },
   "source": [
    "## Ajuste de Hiperparametros"
   ]
  },
  {
   "cell_type": "code",
   "execution_count": 57,
   "metadata": {
    "id": "gOPKqMyxJHrr"
   },
   "outputs": [],
   "source": [
    "def train_and_evaluate_models_with_hyperparameters(X_train, y_train, X_val, y_val, X_test, y_test):\n",
    "    # Definir los modelos y sus hiperparámetros para ajuste\n",
    "    models = {\n",
    "        \"Logistic Regression\": (LogisticRegression(max_iter=1000, random_state=42),\n",
    "                                {'C': [0.01, 0.1, 1, 10]}),\n",
    "\n",
    "        \"Decision Tree\": (DecisionTreeClassifier(random_state=42),\n",
    "                          {'max_depth': [None, 5, 10, 20], 'min_samples_split': [2, 5, 7]}),\n",
    "\n",
    "        \"Random Forest\": (RandomForestClassifier(random_state=42),\n",
    "                          {'n_estimators': [50, 100, 200], 'max_features': ['sqrt', 'log2'], 'max_depth': [None, 10, 20], 'min_samples_split': [2, 5, 7]}),\n",
    "\n",
    "        \"CatBoost Classifier\": (CatBoostClassifier(random_state=42, verbose=0),\n",
    "                                {'iterations': [10, 30, 50, 100], 'learning_rate': [0.5, 0.1, 0.01], 'depth': [4, 6, 8, 10]}),\n",
    "\n",
    "        \"Gradient Boosting\": (GradientBoostingClassifier(random_state=42),\n",
    "                              {'n_estimators': [50, 100, 200], 'learning_rate': [0.01, 0.1, 0.2], 'max_depth': [3, 5, 7]}),\n",
    "\n",
    "        \"LGBM Classifier\": (LGBMClassifier(random_state=42),\n",
    "                            {'num_leaves': [31, 50], 'n_estimators': [50, 100, 200], 'learning_rate': [0.01, 0.1, 0.2]})\n",
    "    }\n",
    "\n",
    "    # Diccionario para almacenar los resultados\n",
    "    results = {\n",
    "        \"Model\": [],\n",
    "        \"Best Params\": [],\n",
    "        \"Training Time (s)\": [],\n",
    "        \"Prediction Time (s)\": [],\n",
    "        \"Train AUC-ROC\": [],\n",
    "        \"Test AUC-ROC\": [],\n",
    "        \"Validation AUC-ROC\": [],\n",
    "        \"Train Accuracy\": [],\n",
    "        \"Test Accuracy\": [],\n",
    "        \"Validation Accuracy\": []\n",
    "    }\n",
    "\n",
    "    # Graficar la curva ROC en el conjunto de validación\n",
    "    plt.figure(figsize=(10, 8))\n",
    "\n",
    "    # Entrenar y evaluar cada modelo con ajuste de hiperparámetros\n",
    "    for model_name, (model, params) in models.items():\n",
    "        start_time = time.time()  # Tiempo de inicio de entrenamiento\n",
    "        grid_search = GridSearchCV(model, params, cv=3, scoring='roc_auc', n_jobs=-1)\n",
    "        grid_search.fit(X_train, y_train)\n",
    "        training_time = round(time.time() - start_time, 2)  # Tiempo de entrenamiento\n",
    "\n",
    "        best_model = grid_search.best_estimator_\n",
    "\n",
    "        # Medir el tiempo de predicción\n",
    "        start_pred_time = time.time()\n",
    "        y_train_proba = best_model.predict_proba(X_train)[:, 1]\n",
    "        y_val_proba = best_model.predict_proba(X_val)[:, 1]\n",
    "        y_test_proba = best_model.predict_proba(X_test)[:, 1]\n",
    "        pred_time = round(time.time() - start_pred_time, 2)  # Tiempo de predicción\n",
    "\n",
    "        y_train_pred = best_model.predict(X_train)\n",
    "        y_val_pred = best_model.predict(X_val)\n",
    "        y_test_pred = best_model.predict(X_test)\n",
    "\n",
    "        # Calcular métricas AUC-ROC y Accuracy en cada conjunto\n",
    "        train_auc = round(roc_auc_score(y_train, y_train_proba), 4)\n",
    "        val_auc = round(roc_auc_score(y_val, y_val_proba), 4)\n",
    "        test_auc = round(roc_auc_score(y_test, y_test_proba), 4)\n",
    "\n",
    "        train_accuracy = round(accuracy_score(y_train, y_train_pred), 4)\n",
    "        val_accuracy = round(accuracy_score(y_val, y_val_pred), 4)\n",
    "        test_accuracy = round(accuracy_score(y_test, y_test_pred), 4)\n",
    "\n",
    "        # Guardar los resultados\n",
    "        results[\"Model\"].append(model_name)\n",
    "        results[\"Best Params\"].append(grid_search.best_params_)\n",
    "        results[\"Training Time (s)\"].append(training_time)\n",
    "        results[\"Prediction Time (s)\"].append(pred_time)\n",
    "        results[\"Train AUC-ROC\"].append(train_auc)\n",
    "        results[\"Test AUC-ROC\"].append(test_auc)\n",
    "        results[\"Validation AUC-ROC\"].append(val_auc)\n",
    "        results[\"Train Accuracy\"].append(train_accuracy)\n",
    "        results[\"Test Accuracy\"].append(test_accuracy)\n",
    "        results[\"Validation Accuracy\"].append(val_accuracy)\n",
    "\n",
    "        # Curva ROC en el conjunto de validación\n",
    "        fpr, tpr, _ = roc_curve(y_val, y_val_proba)\n",
    "        plt.plot(fpr, tpr, label=f'{model_name} (AUC = {val_auc:.2f})')\n",
    "\n",
    "    # Configurar la gráfica de la curva ROC\n",
    "    plt.plot([0, 1], [0, 1], 'k--')  # Línea diagonal para referencia\n",
    "    plt.xlabel('False Positive Rate')\n",
    "    plt.ylabel('True Positive Rate')\n",
    "    plt.title('Curva ROC en el Conjunto de Validación')\n",
    "    plt.legend(loc='lower right')\n",
    "    plt.show()\n",
    "\n",
    "    # Convertir los resultados en un DataFrame para facilitar la visualización\n",
    "    results_df = pd.DataFrame(results)\n",
    "\n",
    "    return results_df\n"
   ]
  },
  {
   "cell_type": "code",
   "execution_count": 58,
   "metadata": {
    "colab": {
     "base_uri": "https://localhost:8080/",
     "height": 858
    },
    "id": "3exL61XRJT4z",
    "outputId": "74936d43-7eca-4376-99eb-66bf91751fdf"
   },
   "outputs": [
    {
     "data": {
      "image/png": "[encoded data removed]",
      "text/plain": [
       "<Figure size 1000x800 with 1 Axes>"
      ]
     },
     "metadata": {},
     "output_type": "display_data"
    }
   ],
   "source": [
    "# Ejemplo de uso\n",
    "results_df = train_and_evaluate_models_with_hyperparameters(X_train_resampled, y_train_resampled, X_val, y_val, X_test, y_test)"
   ]
  },
  {
   "cell_type": "code",
   "execution_count": 59,
   "metadata": {
    "colab": {
     "base_uri": "https://localhost:8080/",
     "height": 238
    },
    "id": "PlPUAKBXPRKJ",
    "outputId": "16ba72a9-88b7-4fda-fff9-3f46e038b667"
   },
   "outputs": [
    {
     "data": {
      "text/html": [
       "<div>\n",
       "<style scoped>\n",
       "    .dataframe tbody tr th:only-of-type {\n",
       "        vertical-align: middle;\n",
       "    }\n",
       "\n",
       "    .dataframe tbody tr th {\n",
       "        vertical-align: top;\n",
       "    }\n",
       "\n",
       "    .dataframe thead th {\n",
       "        text-align: right;\n",
       "    }\n",
       "</style>\n",
       "<table border=\"1\" class=\"dataframe\">\n",
       "  <thead>\n",
       "    <tr style=\"text-align: right;\">\n",
       "      <th></th>\n",
       "      <th>Model</th>\n",
       "      <th>Best Params</th>\n",
       "      <th>Training Time (s)</th>\n",
       "      <th>Prediction Time (s)</th>\n",
       "      <th>Train AUC-ROC</th>\n",
       "      <th>Test AUC-ROC</th>\n",
       "      <th>Validation AUC-ROC</th>\n",
       "      <th>Train Accuracy</th>\n",
       "      <th>Test Accuracy</th>\n",
       "      <th>Validation Accuracy</th>\n",
       "    </tr>\n",
       "  </thead>\n",
       "  <tbody>\n",
       "    <tr>\n",
       "      <th>0</th>\n",
       "      <td>Logistic Regression</td>\n",
       "      <td>{'C': 10}</td>\n",
       "      <td>1.94</td>\n",
       "      <td>0.01</td>\n",
       "      <td>0.8435</td>\n",
       "      <td>0.8314</td>\n",
       "      <td>0.8537</td>\n",
       "      <td>0.7637</td>\n",
       "      <td>0.7488</td>\n",
       "      <td>0.7618</td>\n",
       "    </tr>\n",
       "    <tr>\n",
       "      <th>1</th>\n",
       "      <td>Decision Tree</td>\n",
       "      <td>{'max_depth': None, 'min_samples_split': 5}</td>\n",
       "      <td>0.62</td>\n",
       "      <td>0.01</td>\n",
       "      <td>0.9990</td>\n",
       "      <td>0.6606</td>\n",
       "      <td>0.6739</td>\n",
       "      <td>0.9807</td>\n",
       "      <td>0.7427</td>\n",
       "      <td>0.7402</td>\n",
       "    </tr>\n",
       "    <tr>\n",
       "      <th>2</th>\n",
       "      <td>Random Forest</td>\n",
       "      <td>{'max_depth': 20, 'max_features': 'sqrt', 'min...</td>\n",
       "      <td>60.82</td>\n",
       "      <td>0.25</td>\n",
       "      <td>1.0000</td>\n",
       "      <td>0.8108</td>\n",
       "      <td>0.8294</td>\n",
       "      <td>0.9969</td>\n",
       "      <td>0.7853</td>\n",
       "      <td>0.7943</td>\n",
       "    </tr>\n",
       "    <tr>\n",
       "      <th>3</th>\n",
       "      <td>CatBoost Classifier</td>\n",
       "      <td>{'depth': 10, 'iterations': 100, 'learning_rat...</td>\n",
       "      <td>43.13</td>\n",
       "      <td>0.01</td>\n",
       "      <td>0.9902</td>\n",
       "      <td>0.8120</td>\n",
       "      <td>0.8213</td>\n",
       "      <td>0.9529</td>\n",
       "      <td>0.7673</td>\n",
       "      <td>0.7618</td>\n",
       "    </tr>\n",
       "    <tr>\n",
       "      <th>4</th>\n",
       "      <td>Gradient Boosting</td>\n",
       "      <td>{'learning_rate': 0.2, 'max_depth': 7, 'n_esti...</td>\n",
       "      <td>62.48</td>\n",
       "      <td>0.04</td>\n",
       "      <td>1.0000</td>\n",
       "      <td>0.8085</td>\n",
       "      <td>0.8108</td>\n",
       "      <td>0.9975</td>\n",
       "      <td>0.7825</td>\n",
       "      <td>0.7605</td>\n",
       "    </tr>\n",
       "    <tr>\n",
       "      <th>5</th>\n",
       "      <td>LGBM Classifier</td>\n",
       "      <td>{'learning_rate': 0.2, 'n_estimators': 200, 'n...</td>\n",
       "      <td>329.32</td>\n",
       "      <td>0.19</td>\n",
       "      <td>0.9998</td>\n",
       "      <td>0.8027</td>\n",
       "      <td>0.8253</td>\n",
       "      <td>0.9918</td>\n",
       "      <td>0.7687</td>\n",
       "      <td>0.7740</td>\n",
       "    </tr>\n",
       "  </tbody>\n",
       "</table>\n",
       "</div>"
      ],
      "text/plain": [
       "                 Model                                        Best Params  \\\n",
       "0  Logistic Regression                                          {'C': 10}   \n",
       "1        Decision Tree        {'max_depth': None, 'min_samples_split': 5}   \n",
       "2        Random Forest  {'max_depth': 20, 'max_features': 'sqrt', 'min...   \n",
       "3  CatBoost Classifier  {'depth': 10, 'iterations': 100, 'learning_rat...   \n",
       "4    Gradient Boosting  {'learning_rate': 0.2, 'max_depth': 7, 'n_esti...   \n",
       "5      LGBM Classifier  {'learning_rate': 0.2, 'n_estimators': 200, 'n...   \n",
       "\n",
       "   Training Time (s)  Prediction Time (s)  Train AUC-ROC  Test AUC-ROC  \\\n",
       "0               1.94                 0.01         0.8435        0.8314   \n",
       "1               0.62                 0.01         0.9990        0.6606   \n",
       "2              60.82                 0.25         1.0000        0.8108   \n",
       "3              43.13                 0.01         0.9902        0.8120   \n",
       "4              62.48                 0.04         1.0000        0.8085   \n",
       "5             329.32                 0.19         0.9998        0.8027   \n",
       "\n",
       "   Validation AUC-ROC  Train Accuracy  Test Accuracy  Validation Accuracy  \n",
       "0              0.8537          0.7637         0.7488               0.7618  \n",
       "1              0.6739          0.9807         0.7427               0.7402  \n",
       "2              0.8294          0.9969         0.7853               0.7943  \n",
       "3              0.8213          0.9529         0.7673               0.7618  \n",
       "4              0.8108          0.9975         0.7825               0.7605  \n",
       "5              0.8253          0.9918         0.7687               0.7740  "
      ]
     },
     "execution_count": 59,
     "metadata": {},
     "output_type": "execute_result"
    }
   ],
   "source": [
    "results_df"
   ]
  },
  {
   "cell_type": "markdown",
   "metadata": {
    "id": "xp-hoSaKloZJ"
   },
   "source": [
    "## Conclusión y Recomendación\n",
    "\n",
    "### Modelos de Machine Learning\n",
    "\n",
    "1. **Random Forest** y **Gradient Boosting**:\n",
    "\n",
    "   - Estos modelos presentan los mejores resultados en términos de `AUC-ROC` en los conjuntos de prueba y validación, lo que indica un excelente equilibrio entre discriminación y generalización.\n",
    "   \n",
    "   - Sin embargo, tienen tiempos de entrenamiento relativamente largos, lo que puede ser un factor a considerar si se necesita una solución más rápida.\n",
    "   \n",
    "\n",
    "2. **Logistic Regression**:\n",
    "\n",
    "   - Demuestra un rendimiento consistente entre los conjuntos de datos y tiene tiempos de entrenamiento y predicción muy cortos. \n",
    "   \n",
    "   - Es una opción robusta y simple, ideal para implementaciones donde la rapidez es clave y se desea evitar la complejidad innecesaria.\n",
    "   \n",
    "\n",
    "3. **Decision Tree**:\n",
    "\n",
    "   - Presenta un tiempo de entrenamiento rápido, pero sufre de sobreajuste significativo, lo que se refleja en una caída considerable en el `AUC-ROC` del conjunto de validación y prueba.\n",
    "   \n",
    "   - No es recomendable para aplicaciones que buscan una buena capacidad de generalización.\n",
    "   \n",
    "\n",
    "4. **CatBoost Classifier**:\n",
    "\n",
    "   - Ofrece un buen rendimiento con un `AUC-ROC` alto y tiempos de entrenamiento y predicción razonables. \n",
    "   \n",
    "   - Aunque presenta cierto sobreajuste, sigue siendo una opción viable para aplicaciones que requieren alta capacidad predictiva y tiempos de inferencia rápidos.\n",
    "   \n",
    "\n",
    "5. **LGBM Classifier**:\n",
    "\n",
    "   - Tiene un tiempo de entrenamiento significativamente más alto, pero su rendimiento es competitivo.\n",
    "   \n",
    "   - Esto podría ser una desventaja en entornos donde el tiempo de entrenamiento es crítico, pero sigue siendo una opción para casos donde la precisión es prioritaria.\n",
    "\n",
    "### Recomendaciones:\n",
    "\n",
    "- **Random Forest** y **Gradient Boosting** son ideales para implementaciones en producción que puedan manejar tiempos de entrenamiento más largos y buscan alta precisión.\n",
    "\n",
    "\n",
    "- **Logistic Regression** es adecuada para proyectos donde se valora la simplicidad, la velocidad de entrenamiento/predicción y un rendimiento consistente.\n",
    "\n",
    "\n",
    "- **CatBoost Classifier** es una opción intermedia con un buen rendimiento y tiempos de entrenamiento razonables.\n",
    "\n",
    "\n",
    "- **LGBM Classifier** es apropiado en contextos donde el tiempo de entrenamiento no es una limitación, pero se busca alta precisión."
   ]
  }
 ],
 "metadata": {
  "ExecuteTimeLog": [
   {
    "duration": 17,
    "start_time": "2024-10-30T19:16:06.708Z"
   },
   {
    "duration": 3,
    "start_time": "2024-10-30T19:22:29.495Z"
   },
   {
    "duration": 4327,
    "start_time": "2024-10-30T19:30:19.507Z"
   },
   {
    "duration": 19,
    "start_time": "2024-10-30T19:31:27.911Z"
   },
   {
    "duration": 23,
    "start_time": "2024-10-30T19:32:20.797Z"
   },
   {
    "duration": 141,
    "start_time": "2024-10-30T19:33:36.992Z"
   },
   {
    "duration": 33,
    "start_time": "2024-10-30T19:36:08.315Z"
   },
   {
    "duration": 34,
    "start_time": "2024-10-30T19:37:19.275Z"
   },
   {
    "duration": 32,
    "start_time": "2024-10-30T19:37:24.626Z"
   },
   {
    "duration": 25,
    "start_time": "2024-10-30T19:37:53.376Z"
   },
   {
    "duration": 30,
    "start_time": "2024-10-30T19:38:14.760Z"
   },
   {
    "duration": 21,
    "start_time": "2024-10-30T19:38:33.595Z"
   },
   {
    "duration": 14,
    "start_time": "2024-10-30T19:39:14.779Z"
   },
   {
    "duration": 1165,
    "start_time": "2024-10-30T19:45:05.538Z"
   },
   {
    "duration": 25,
    "start_time": "2024-10-30T19:45:09.954Z"
   },
   {
    "duration": 13,
    "start_time": "2024-10-30T19:45:11.182Z"
   },
   {
    "duration": 16,
    "start_time": "2024-10-30T19:45:13.611Z"
   },
   {
    "duration": 10,
    "start_time": "2024-10-30T19:45:21.493Z"
   },
   {
    "duration": 275,
    "start_time": "2024-10-30T19:45:32.504Z"
   },
   {
    "duration": 17,
    "start_time": "2024-10-30T19:45:44.137Z"
   },
   {
    "duration": 13,
    "start_time": "2024-10-30T19:45:45.072Z"
   },
   {
    "duration": 13,
    "start_time": "2024-10-30T19:45:48.222Z"
   },
   {
    "duration": 10,
    "start_time": "2024-10-30T19:45:54.736Z"
   },
   {
    "duration": 6,
    "start_time": "2024-10-30T19:47:34.554Z"
   },
   {
    "duration": 5,
    "start_time": "2024-10-30T19:48:01.364Z"
   },
   {
    "duration": 6,
    "start_time": "2024-10-30T19:48:13.418Z"
   },
   {
    "duration": 6,
    "start_time": "2024-10-30T19:48:25.834Z"
   },
   {
    "duration": 3,
    "start_time": "2024-10-30T20:10:18.918Z"
   },
   {
    "duration": 4,
    "start_time": "2024-10-30T20:13:43.935Z"
   },
   {
    "duration": 40,
    "start_time": "2024-10-30T20:13:44.898Z"
   },
   {
    "duration": 9,
    "start_time": "2024-10-30T20:13:45.833Z"
   },
   {
    "duration": 11,
    "start_time": "2024-10-30T20:13:46.594Z"
   },
   {
    "duration": 5,
    "start_time": "2024-10-30T20:13:47.464Z"
   },
   {
    "duration": 7,
    "start_time": "2024-10-30T20:13:47.810Z"
   },
   {
    "duration": 11,
    "start_time": "2024-10-30T20:13:48.285Z"
   },
   {
    "duration": 10,
    "start_time": "2024-10-30T20:13:49.063Z"
   },
   {
    "duration": 11,
    "start_time": "2024-10-30T20:13:49.734Z"
   },
   {
    "duration": 7,
    "start_time": "2024-10-30T20:13:50.353Z"
   },
   {
    "duration": 9,
    "start_time": "2024-10-30T20:13:51.193Z"
   },
   {
    "duration": 3,
    "start_time": "2024-10-30T20:13:53.377Z"
   },
   {
    "duration": 3,
    "start_time": "2024-10-30T20:14:14.015Z"
   },
   {
    "duration": 10,
    "start_time": "2024-10-30T20:14:16.054Z"
   },
   {
    "duration": 10,
    "start_time": "2024-10-30T20:14:16.778Z"
   },
   {
    "duration": 8,
    "start_time": "2024-10-30T20:14:17.562Z"
   },
   {
    "duration": 9,
    "start_time": "2024-10-30T20:14:18.175Z"
   },
   {
    "duration": 10,
    "start_time": "2024-10-30T20:14:18.856Z"
   },
   {
    "duration": 9,
    "start_time": "2024-10-30T20:14:19.576Z"
   },
   {
    "duration": 10,
    "start_time": "2024-10-30T20:14:20.299Z"
   },
   {
    "duration": 7,
    "start_time": "2024-10-30T20:14:20.988Z"
   },
   {
    "duration": 8,
    "start_time": "2024-10-30T20:14:22.220Z"
   },
   {
    "duration": 31,
    "start_time": "2024-10-30T20:15:40.357Z"
   },
   {
    "duration": 33,
    "start_time": "2024-10-30T20:15:49.855Z"
   },
   {
    "duration": 13,
    "start_time": "2024-10-30T20:16:02.741Z"
   },
   {
    "duration": 20,
    "start_time": "2024-10-30T20:17:53.898Z"
   },
   {
    "duration": 14,
    "start_time": "2024-10-30T20:43:46.550Z"
   },
   {
    "duration": 12,
    "start_time": "2024-10-30T20:43:56.263Z"
   },
   {
    "duration": 6,
    "start_time": "2024-10-30T20:47:17.841Z"
   },
   {
    "duration": 9,
    "start_time": "2024-10-30T20:49:03.614Z"
   },
   {
    "duration": 31,
    "start_time": "2024-10-30T20:50:59.239Z"
   },
   {
    "duration": 20,
    "start_time": "2024-10-30T20:51:02.555Z"
   },
   {
    "duration": 1163,
    "start_time": "2024-10-30T20:51:35.293Z"
   },
   {
    "duration": 40,
    "start_time": "2024-10-30T20:51:36.458Z"
   },
   {
    "duration": 3,
    "start_time": "2024-10-30T20:51:37.182Z"
   },
   {
    "duration": 16,
    "start_time": "2024-10-30T20:51:38.235Z"
   },
   {
    "duration": 11,
    "start_time": "2024-10-30T20:51:38.574Z"
   },
   {
    "duration": 6,
    "start_time": "2024-10-30T20:51:38.919Z"
   },
   {
    "duration": 8,
    "start_time": "2024-10-30T20:51:39.182Z"
   },
   {
    "duration": 10,
    "start_time": "2024-10-30T20:51:39.388Z"
   },
   {
    "duration": 9,
    "start_time": "2024-10-30T20:51:39.689Z"
   },
   {
    "duration": 10,
    "start_time": "2024-10-30T20:51:40.104Z"
   },
   {
    "duration": 6,
    "start_time": "2024-10-30T20:51:40.357Z"
   },
   {
    "duration": 11,
    "start_time": "2024-10-30T20:51:40.716Z"
   },
   {
    "duration": 31,
    "start_time": "2024-10-30T20:51:41.097Z"
   },
   {
    "duration": 18,
    "start_time": "2024-10-30T20:51:41.474Z"
   },
   {
    "duration": 15,
    "start_time": "2024-10-30T20:51:41.878Z"
   },
   {
    "duration": 12,
    "start_time": "2024-10-30T20:51:42.297Z"
   },
   {
    "duration": 6,
    "start_time": "2024-10-30T20:51:42.798Z"
   },
   {
    "duration": 9,
    "start_time": "2024-10-30T20:51:43.379Z"
   },
   {
    "duration": 27,
    "start_time": "2024-10-30T20:51:44.121Z"
   },
   {
    "duration": 25,
    "start_time": "2024-10-30T20:51:45.280Z"
   },
   {
    "duration": 14,
    "start_time": "2024-10-30T20:51:57.992Z"
   },
   {
    "duration": 5,
    "start_time": "2024-10-30T20:52:32.965Z"
   },
   {
    "duration": 7,
    "start_time": "2024-10-30T20:52:40.581Z"
   },
   {
    "duration": 6,
    "start_time": "2024-10-30T20:53:57.298Z"
   },
   {
    "duration": 9,
    "start_time": "2024-10-30T20:54:57.221Z"
   },
   {
    "duration": 10,
    "start_time": "2024-10-30T20:56:12.135Z"
   },
   {
    "duration": 2805,
    "start_time": "2024-10-31T16:06:43.672Z"
   },
   {
    "duration": 79,
    "start_time": "2024-10-31T16:06:46.480Z"
   },
   {
    "duration": 3,
    "start_time": "2024-10-31T16:06:46.561Z"
   },
   {
    "duration": 12,
    "start_time": "2024-10-31T16:06:46.566Z"
   },
   {
    "duration": 9,
    "start_time": "2024-10-31T16:06:46.582Z"
   },
   {
    "duration": 5,
    "start_time": "2024-10-31T16:06:46.593Z"
   },
   {
    "duration": 6,
    "start_time": "2024-10-31T16:06:46.600Z"
   },
   {
    "duration": 9,
    "start_time": "2024-10-31T16:06:46.608Z"
   },
   {
    "duration": 7,
    "start_time": "2024-10-31T16:06:46.619Z"
   },
   {
    "duration": 42,
    "start_time": "2024-10-31T16:06:46.628Z"
   },
   {
    "duration": 8,
    "start_time": "2024-10-31T16:06:46.673Z"
   },
   {
    "duration": 9,
    "start_time": "2024-10-31T16:06:46.683Z"
   },
   {
    "duration": 30,
    "start_time": "2024-10-31T16:06:46.693Z"
   },
   {
    "duration": 14,
    "start_time": "2024-10-31T16:06:46.727Z"
   },
   {
    "duration": 14,
    "start_time": "2024-10-31T16:06:46.770Z"
   },
   {
    "duration": 9,
    "start_time": "2024-10-31T16:06:46.786Z"
   },
   {
    "duration": 5,
    "start_time": "2024-10-31T16:06:46.796Z"
   },
   {
    "duration": 7,
    "start_time": "2024-10-31T16:06:46.803Z"
   },
   {
    "duration": 23,
    "start_time": "2024-10-31T16:06:46.811Z"
   },
   {
    "duration": 51,
    "start_time": "2024-10-31T16:06:46.836Z"
   },
   {
    "duration": 7,
    "start_time": "2024-10-31T16:06:46.889Z"
   },
   {
    "duration": 5,
    "start_time": "2024-10-31T16:06:46.898Z"
   },
   {
    "duration": 7,
    "start_time": "2024-10-31T16:06:46.905Z"
   },
   {
    "duration": 3,
    "start_time": "2024-11-01T17:56:37.953Z"
   },
   {
    "duration": 2798,
    "start_time": "2024-11-01T18:00:32.022Z"
   },
   {
    "duration": 73,
    "start_time": "2024-11-01T18:00:35.536Z"
   },
   {
    "duration": 3,
    "start_time": "2024-11-01T18:00:36.409Z"
   },
   {
    "duration": 12,
    "start_time": "2024-11-01T18:01:32.562Z"
   },
   {
    "duration": 12,
    "start_time": "2024-11-01T18:01:33.531Z"
   },
   {
    "duration": 5,
    "start_time": "2024-11-01T18:01:36.015Z"
   },
   {
    "duration": 8,
    "start_time": "2024-11-01T18:01:37.108Z"
   },
   {
    "duration": 8,
    "start_time": "2024-11-01T18:01:46.491Z"
   },
   {
    "duration": 8,
    "start_time": "2024-11-01T18:01:48.439Z"
   },
   {
    "duration": 9,
    "start_time": "2024-11-01T18:01:48.970Z"
   },
   {
    "duration": 9,
    "start_time": "2024-11-01T18:01:50.586Z"
   },
   {
    "duration": 6,
    "start_time": "2024-11-01T18:01:51.305Z"
   },
   {
    "duration": 8,
    "start_time": "2024-11-01T18:01:52.090Z"
   },
   {
    "duration": 34,
    "start_time": "2024-11-01T18:01:55.424Z"
   },
   {
    "duration": 14,
    "start_time": "2024-11-01T18:01:57.010Z"
   },
   {
    "duration": 12,
    "start_time": "2024-11-01T18:02:00.402Z"
   },
   {
    "duration": 5,
    "start_time": "2024-11-01T18:02:35.505Z"
   },
   {
    "duration": 4,
    "start_time": "2024-11-01T18:02:58.449Z"
   },
   {
    "duration": 11,
    "start_time": "2024-11-01T18:03:02.161Z"
   },
   {
    "duration": 17,
    "start_time": "2024-11-01T18:03:05.634Z"
   },
   {
    "duration": 5,
    "start_time": "2024-11-01T18:03:11.458Z"
   },
   {
    "duration": 7,
    "start_time": "2024-11-01T18:03:12.154Z"
   },
   {
    "duration": 24,
    "start_time": "2024-11-01T18:03:13.404Z"
   },
   {
    "duration": 7,
    "start_time": "2024-11-01T18:03:14.346Z"
   },
   {
    "duration": 8,
    "start_time": "2024-11-01T18:03:15.680Z"
   },
   {
    "duration": 12,
    "start_time": "2024-11-01T18:04:11.082Z"
   },
   {
    "duration": 2,
    "start_time": "2024-11-01T18:06:30.203Z"
   },
   {
    "duration": 12,
    "start_time": "2024-11-01T18:06:56.760Z"
   },
   {
    "duration": 658,
    "start_time": "2024-11-01T18:14:25.299Z"
   },
   {
    "duration": 1044,
    "start_time": "2024-11-01T18:15:08.294Z"
   },
   {
    "duration": 33,
    "start_time": "2024-11-01T18:15:09.341Z"
   },
   {
    "duration": 3,
    "start_time": "2024-11-01T18:15:10.840Z"
   },
   {
    "duration": 12,
    "start_time": "2024-11-01T18:15:11.795Z"
   },
   {
    "duration": 11,
    "start_time": "2024-11-01T18:15:12.221Z"
   },
   {
    "duration": 7,
    "start_time": "2024-11-01T18:15:12.560Z"
   },
   {
    "duration": 10,
    "start_time": "2024-11-01T18:15:13.005Z"
   },
   {
    "duration": 9,
    "start_time": "2024-11-01T18:15:13.470Z"
   },
   {
    "duration": 10,
    "start_time": "2024-11-01T18:15:13.953Z"
   },
   {
    "duration": 6,
    "start_time": "2024-11-01T18:15:14.475Z"
   },
   {
    "duration": 8,
    "start_time": "2024-11-01T18:15:15.067Z"
   },
   {
    "duration": 28,
    "start_time": "2024-11-01T18:15:15.618Z"
   },
   {
    "duration": 13,
    "start_time": "2024-11-01T18:15:16.371Z"
   },
   {
    "duration": 4,
    "start_time": "2024-11-01T18:15:16.986Z"
   },
   {
    "duration": 9,
    "start_time": "2024-11-01T18:15:17.483Z"
   },
   {
    "duration": 4,
    "start_time": "2024-11-01T18:15:19.240Z"
   },
   {
    "duration": 620,
    "start_time": "2024-11-01T18:15:20.777Z"
   },
   {
    "duration": 19,
    "start_time": "2024-11-01T18:15:40.745Z"
   },
   {
    "duration": 55,
    "start_time": "2024-11-01T18:17:48.452Z"
   },
   {
    "duration": 24,
    "start_time": "2024-11-01T18:17:55.748Z"
   },
   {
    "duration": 7,
    "start_time": "2024-11-01T18:18:41.235Z"
   },
   {
    "duration": 8,
    "start_time": "2024-11-01T18:18:43.376Z"
   },
   {
    "duration": 12,
    "start_time": "2024-11-01T18:18:45.320Z"
   },
   {
    "duration": 6,
    "start_time": "2024-11-01T18:19:36.340Z"
   },
   {
    "duration": 13,
    "start_time": "2024-11-01T18:24:51.443Z"
   },
   {
    "duration": 1014,
    "start_time": "2024-11-01T18:25:11.555Z"
   },
   {
    "duration": 34,
    "start_time": "2024-11-01T18:25:13.124Z"
   },
   {
    "duration": 4,
    "start_time": "2024-11-01T18:25:13.539Z"
   },
   {
    "duration": 12,
    "start_time": "2024-11-01T18:25:14.248Z"
   },
   {
    "duration": 11,
    "start_time": "2024-11-01T18:25:14.577Z"
   },
   {
    "duration": 7,
    "start_time": "2024-11-01T18:25:14.981Z"
   },
   {
    "duration": 9,
    "start_time": "2024-11-01T18:25:15.309Z"
   },
   {
    "duration": 9,
    "start_time": "2024-11-01T18:25:15.619Z"
   },
   {
    "duration": 10,
    "start_time": "2024-11-01T18:25:16.029Z"
   },
   {
    "duration": 6,
    "start_time": "2024-11-01T18:25:16.431Z"
   },
   {
    "duration": 8,
    "start_time": "2024-11-01T18:25:16.792Z"
   },
   {
    "duration": 29,
    "start_time": "2024-11-01T18:25:17.292Z"
   },
   {
    "duration": 14,
    "start_time": "2024-11-01T18:25:17.816Z"
   },
   {
    "duration": 5,
    "start_time": "2024-11-01T18:25:18.362Z"
   },
   {
    "duration": 9,
    "start_time": "2024-11-01T18:25:18.790Z"
   },
   {
    "duration": 3,
    "start_time": "2024-11-01T18:25:20.445Z"
   },
   {
    "duration": 18,
    "start_time": "2024-11-01T18:25:21.962Z"
   },
   {
    "duration": 622,
    "start_time": "2024-11-01T18:25:22.692Z"
   },
   {
    "duration": 8,
    "start_time": "2024-11-01T18:25:23.446Z"
   },
   {
    "duration": 5,
    "start_time": "2024-11-01T18:25:32.741Z"
   },
   {
    "duration": 6,
    "start_time": "2024-11-01T18:25:33.510Z"
   },
   {
    "duration": 25,
    "start_time": "2024-11-01T18:25:34.122Z"
   },
   {
    "duration": 7,
    "start_time": "2024-11-01T18:25:34.732Z"
   },
   {
    "duration": 8,
    "start_time": "2024-11-01T18:25:35.778Z"
   },
   {
    "duration": 11,
    "start_time": "2024-11-01T18:25:36.718Z"
   },
   {
    "duration": 1047,
    "start_time": "2024-11-01T18:27:41.145Z"
   },
   {
    "duration": 32,
    "start_time": "2024-11-01T18:27:43.006Z"
   },
   {
    "duration": 3,
    "start_time": "2024-11-01T18:27:43.588Z"
   },
   {
    "duration": 12,
    "start_time": "2024-11-01T18:27:45.184Z"
   },
   {
    "duration": 10,
    "start_time": "2024-11-01T18:27:45.695Z"
   },
   {
    "duration": 10,
    "start_time": "2024-11-01T18:27:46.044Z"
   },
   {
    "duration": 10,
    "start_time": "2024-11-01T18:27:46.572Z"
   },
   {
    "duration": 8,
    "start_time": "2024-11-01T18:27:47.099Z"
   },
   {
    "duration": 9,
    "start_time": "2024-11-01T18:27:47.708Z"
   },
   {
    "duration": 6,
    "start_time": "2024-11-01T18:27:48.412Z"
   },
   {
    "duration": 9,
    "start_time": "2024-11-01T18:27:49.266Z"
   },
   {
    "duration": 30,
    "start_time": "2024-11-01T18:27:49.903Z"
   },
   {
    "duration": 13,
    "start_time": "2024-11-01T18:27:50.491Z"
   },
   {
    "duration": 5,
    "start_time": "2024-11-01T18:27:51.148Z"
   },
   {
    "duration": 11,
    "start_time": "2024-11-01T18:27:51.795Z"
   },
   {
    "duration": 3,
    "start_time": "2024-11-01T18:27:53.374Z"
   },
   {
    "duration": 23,
    "start_time": "2024-11-01T18:27:54.557Z"
   },
   {
    "duration": 5,
    "start_time": "2024-11-01T18:27:55.056Z"
   },
   {
    "duration": 645,
    "start_time": "2024-11-01T18:27:55.536Z"
   },
   {
    "duration": 19,
    "start_time": "2024-11-01T18:28:03.427Z"
   },
   {
    "duration": 7,
    "start_time": "2024-11-01T18:28:15.979Z"
   },
   {
    "duration": 27,
    "start_time": "2024-11-01T18:28:16.634Z"
   },
   {
    "duration": 7,
    "start_time": "2024-11-01T18:28:17.400Z"
   },
   {
    "duration": 7,
    "start_time": "2024-11-01T18:28:18.203Z"
   },
   {
    "duration": 11,
    "start_time": "2024-11-01T18:28:19.175Z"
   },
   {
    "duration": 4,
    "start_time": "2024-11-01T18:28:23.892Z"
   },
   {
    "duration": 247,
    "start_time": "2024-11-01T18:33:26.174Z"
   },
   {
    "duration": 1106,
    "start_time": "2024-11-01T18:38:27.984Z"
   },
   {
    "duration": 35,
    "start_time": "2024-11-01T18:38:32.364Z"
   },
   {
    "duration": 3,
    "start_time": "2024-11-01T18:38:32.868Z"
   },
   {
    "duration": 12,
    "start_time": "2024-11-01T18:38:40.370Z"
   },
   {
    "duration": 11,
    "start_time": "2024-11-01T18:38:41.078Z"
   },
   {
    "duration": 7,
    "start_time": "2024-11-01T18:38:42.050Z"
   },
   {
    "duration": 10,
    "start_time": "2024-11-01T18:38:42.461Z"
   },
   {
    "duration": 10,
    "start_time": "2024-11-01T18:38:42.997Z"
   },
   {
    "duration": 9,
    "start_time": "2024-11-01T18:38:43.470Z"
   },
   {
    "duration": 6,
    "start_time": "2024-11-01T18:38:43.989Z"
   },
   {
    "duration": 8,
    "start_time": "2024-11-01T18:38:44.592Z"
   },
   {
    "duration": 31,
    "start_time": "2024-11-01T18:38:45.072Z"
   },
   {
    "duration": 15,
    "start_time": "2024-11-01T18:38:45.634Z"
   },
   {
    "duration": 5,
    "start_time": "2024-11-01T18:38:46.168Z"
   },
   {
    "duration": 12,
    "start_time": "2024-11-01T18:38:46.655Z"
   },
   {
    "duration": 3,
    "start_time": "2024-11-01T18:38:48.186Z"
   },
   {
    "duration": 19,
    "start_time": "2024-11-01T18:38:49.355Z"
   },
   {
    "duration": 5,
    "start_time": "2024-11-01T18:38:49.842Z"
   },
   {
    "duration": 21,
    "start_time": "2024-11-01T18:38:50.370Z"
   },
   {
    "duration": 6,
    "start_time": "2024-11-01T18:38:51.099Z"
   },
   {
    "duration": 24,
    "start_time": "2024-11-01T18:38:51.780Z"
   },
   {
    "duration": 8,
    "start_time": "2024-11-01T18:38:52.387Z"
   },
   {
    "duration": 8,
    "start_time": "2024-11-01T18:38:53.078Z"
   },
   {
    "duration": 11,
    "start_time": "2024-11-01T18:38:53.918Z"
   },
   {
    "duration": 5,
    "start_time": "2024-11-01T18:38:57.212Z"
   },
   {
    "duration": 32,
    "start_time": "2024-11-01T18:38:59.128Z"
   },
   {
    "duration": 5,
    "start_time": "2024-11-01T18:39:34.552Z"
   },
   {
    "duration": 13,
    "start_time": "2024-11-01T18:39:44.950Z"
   },
   {
    "duration": 12,
    "start_time": "2024-11-01T18:46:21.007Z"
   },
   {
    "duration": 1047708,
    "start_time": "2024-11-01T18:46:22.370Z"
   },
   {
    "duration": 2772,
    "start_time": "2024-11-01T21:28:42.405Z"
   },
   {
    "duration": 62,
    "start_time": "2024-11-01T21:28:45.943Z"
   },
   {
    "duration": 3,
    "start_time": "2024-11-01T21:28:46.870Z"
   },
   {
    "duration": 11,
    "start_time": "2024-11-01T21:28:47.702Z"
   },
   {
    "duration": 10,
    "start_time": "2024-11-01T21:28:48.243Z"
   },
   {
    "duration": 6,
    "start_time": "2024-11-01T21:28:48.684Z"
   },
   {
    "duration": 12,
    "start_time": "2024-11-01T21:28:49.087Z"
   },
   {
    "duration": 8,
    "start_time": "2024-11-01T21:28:49.552Z"
   },
   {
    "duration": 11,
    "start_time": "2024-11-01T21:28:50.005Z"
   },
   {
    "duration": 6,
    "start_time": "2024-11-01T21:28:50.493Z"
   },
   {
    "duration": 9,
    "start_time": "2024-11-01T21:28:50.919Z"
   },
   {
    "duration": 38,
    "start_time": "2024-11-01T21:28:51.440Z"
   },
   {
    "duration": 15,
    "start_time": "2024-11-01T21:28:51.995Z"
   },
   {
    "duration": 4,
    "start_time": "2024-11-01T21:28:52.769Z"
   },
   {
    "duration": 10,
    "start_time": "2024-11-01T21:28:53.469Z"
   },
   {
    "duration": 3,
    "start_time": "2024-11-01T21:28:55.667Z"
   },
   {
    "duration": 17,
    "start_time": "2024-11-01T21:28:56.548Z"
   },
   {
    "duration": 6,
    "start_time": "2024-11-01T21:28:57.048Z"
   },
   {
    "duration": 19,
    "start_time": "2024-11-01T21:28:57.549Z"
   },
   {
    "duration": 6,
    "start_time": "2024-11-01T21:28:58.118Z"
   },
   {
    "duration": 23,
    "start_time": "2024-11-01T21:28:58.519Z"
   },
   {
    "duration": 8,
    "start_time": "2024-11-01T21:28:58.989Z"
   },
   {
    "duration": 8,
    "start_time": "2024-11-01T21:28:59.579Z"
   },
   {
    "duration": 11,
    "start_time": "2024-11-01T21:29:00.261Z"
   },
   {
    "duration": 5,
    "start_time": "2024-11-01T21:29:01.767Z"
   },
   {
    "duration": 15,
    "start_time": "2024-11-01T21:29:02.613Z"
   },
   {
    "duration": 532,
    "start_time": "2024-11-01T21:29:03.927Z"
   },
   {
    "duration": 1084,
    "start_time": "2024-11-01T21:31:56.721Z"
   },
   {
    "duration": 42,
    "start_time": "2024-11-01T21:31:58.421Z"
   },
   {
    "duration": 3,
    "start_time": "2024-11-01T21:31:58.789Z"
   },
   {
    "duration": 12,
    "start_time": "2024-11-01T21:31:59.381Z"
   },
   {
    "duration": 10,
    "start_time": "2024-11-01T21:31:59.744Z"
   },
   {
    "duration": 6,
    "start_time": "2024-11-01T21:32:00.067Z"
   },
   {
    "duration": 9,
    "start_time": "2024-11-01T21:32:00.375Z"
   },
   {
    "duration": 8,
    "start_time": "2024-11-01T21:32:00.573Z"
   },
   {
    "duration": 8,
    "start_time": "2024-11-01T21:32:00.757Z"
   },
   {
    "duration": 6,
    "start_time": "2024-11-01T21:32:00.903Z"
   },
   {
    "duration": 7,
    "start_time": "2024-11-01T21:32:01.043Z"
   },
   {
    "duration": 30,
    "start_time": "2024-11-01T21:32:01.222Z"
   },
   {
    "duration": 12,
    "start_time": "2024-11-01T21:32:01.523Z"
   },
   {
    "duration": 4,
    "start_time": "2024-11-01T21:32:02.036Z"
   },
   {
    "duration": 9,
    "start_time": "2024-11-01T21:32:02.542Z"
   },
   {
    "duration": 3,
    "start_time": "2024-11-01T21:32:03.992Z"
   },
   {
    "duration": 18,
    "start_time": "2024-11-01T21:32:04.919Z"
   },
   {
    "duration": 5,
    "start_time": "2024-11-01T21:32:05.316Z"
   },
   {
    "duration": 20,
    "start_time": "2024-11-01T21:32:06.146Z"
   },
   {
    "duration": 7,
    "start_time": "2024-11-01T21:32:06.808Z"
   },
   {
    "duration": 23,
    "start_time": "2024-11-01T21:32:07.389Z"
   },
   {
    "duration": 6,
    "start_time": "2024-11-01T21:32:08.318Z"
   },
   {
    "duration": 9,
    "start_time": "2024-11-01T21:32:09.228Z"
   },
   {
    "duration": 11,
    "start_time": "2024-11-01T21:32:10.069Z"
   },
   {
    "duration": 6,
    "start_time": "2024-11-01T21:32:11.941Z"
   },
   {
    "duration": 13,
    "start_time": "2024-11-01T21:32:13.062Z"
   },
   {
    "duration": 1958,
    "start_time": "2024-11-02T20:00:27.315Z"
   },
   {
    "duration": 1059,
    "start_time": "2024-11-02T20:00:29.275Z"
   },
   {
    "duration": 154,
    "start_time": "2024-11-02T20:00:30.335Z"
   },
   {
    "duration": 3,
    "start_time": "2024-11-02T20:00:30.491Z"
   },
   {
    "duration": 11,
    "start_time": "2024-11-02T20:00:30.496Z"
   },
   {
    "duration": 11,
    "start_time": "2024-11-02T20:00:30.509Z"
   },
   {
    "duration": 8,
    "start_time": "2024-11-02T20:00:30.521Z"
   },
   {
    "duration": 8,
    "start_time": "2024-11-02T20:00:30.530Z"
   },
   {
    "duration": 7,
    "start_time": "2024-11-02T20:00:30.540Z"
   },
   {
    "duration": 15,
    "start_time": "2024-11-02T20:00:30.551Z"
   },
   {
    "duration": 6,
    "start_time": "2024-11-02T20:00:30.568Z"
   },
   {
    "duration": 8,
    "start_time": "2024-11-02T20:00:30.612Z"
   },
   {
    "duration": 178,
    "start_time": "2024-11-02T20:00:30.622Z"
   },
   {
    "duration": 0,
    "start_time": "2024-11-02T20:00:30.804Z"
   },
   {
    "duration": 0,
    "start_time": "2024-11-02T20:00:30.804Z"
   },
   {
    "duration": 0,
    "start_time": "2024-11-02T20:00:30.805Z"
   },
   {
    "duration": 0,
    "start_time": "2024-11-02T20:00:30.811Z"
   },
   {
    "duration": 0,
    "start_time": "2024-11-02T20:00:30.812Z"
   },
   {
    "duration": 0,
    "start_time": "2024-11-02T20:00:30.813Z"
   },
   {
    "duration": 0,
    "start_time": "2024-11-02T20:00:30.814Z"
   },
   {
    "duration": 0,
    "start_time": "2024-11-02T20:00:30.816Z"
   },
   {
    "duration": 0,
    "start_time": "2024-11-02T20:00:30.817Z"
   },
   {
    "duration": 0,
    "start_time": "2024-11-02T20:00:30.818Z"
   },
   {
    "duration": 0,
    "start_time": "2024-11-02T20:00:30.820Z"
   },
   {
    "duration": 0,
    "start_time": "2024-11-02T20:00:30.821Z"
   },
   {
    "duration": 0,
    "start_time": "2024-11-02T20:00:30.822Z"
   },
   {
    "duration": 0,
    "start_time": "2024-11-02T20:00:30.824Z"
   },
   {
    "duration": 0,
    "start_time": "2024-11-02T20:00:30.825Z"
   },
   {
    "duration": 0,
    "start_time": "2024-11-02T20:00:30.827Z"
   },
   {
    "duration": 0,
    "start_time": "2024-11-02T20:00:30.829Z"
   },
   {
    "duration": 0,
    "start_time": "2024-11-02T20:00:30.830Z"
   },
   {
    "duration": 0,
    "start_time": "2024-11-02T20:00:30.831Z"
   },
   {
    "duration": 0,
    "start_time": "2024-11-02T20:00:30.834Z"
   },
   {
    "duration": 0,
    "start_time": "2024-11-02T20:00:30.836Z"
   },
   {
    "duration": 0,
    "start_time": "2024-11-02T20:00:30.837Z"
   },
   {
    "duration": 0,
    "start_time": "2024-11-02T20:00:30.839Z"
   },
   {
    "duration": 0,
    "start_time": "2024-11-02T20:00:30.840Z"
   },
   {
    "duration": 0,
    "start_time": "2024-11-02T20:00:30.841Z"
   },
   {
    "duration": 0,
    "start_time": "2024-11-02T20:00:30.842Z"
   },
   {
    "duration": 0,
    "start_time": "2024-11-02T20:00:30.844Z"
   },
   {
    "duration": 1,
    "start_time": "2024-11-02T20:00:30.845Z"
   },
   {
    "duration": 0,
    "start_time": "2024-11-02T20:00:30.847Z"
   },
   {
    "duration": 0,
    "start_time": "2024-11-02T20:00:30.849Z"
   },
   {
    "duration": 0,
    "start_time": "2024-11-02T20:00:30.851Z"
   },
   {
    "duration": 0,
    "start_time": "2024-11-02T20:00:30.911Z"
   },
   {
    "duration": 1,
    "start_time": "2024-11-02T20:00:30.912Z"
   },
   {
    "duration": 0,
    "start_time": "2024-11-02T20:00:30.914Z"
   },
   {
    "duration": 0,
    "start_time": "2024-11-02T20:00:30.916Z"
   },
   {
    "duration": 0,
    "start_time": "2024-11-02T20:00:30.917Z"
   },
   {
    "duration": 0,
    "start_time": "2024-11-02T20:00:30.919Z"
   },
   {
    "duration": 0,
    "start_time": "2024-11-02T20:00:30.920Z"
   },
   {
    "duration": 0,
    "start_time": "2024-11-02T20:00:30.922Z"
   },
   {
    "duration": 0,
    "start_time": "2024-11-02T20:00:30.924Z"
   },
   {
    "duration": 9,
    "start_time": "2024-11-02T20:00:38.839Z"
   },
   {
    "duration": 5,
    "start_time": "2024-11-02T20:00:39.239Z"
   },
   {
    "duration": 7,
    "start_time": "2024-11-02T20:00:39.705Z"
   },
   {
    "duration": 468,
    "start_time": "2024-11-02T20:00:40.865Z"
   },
   {
    "duration": 446,
    "start_time": "2024-11-02T20:00:41.648Z"
   },
   {
    "duration": 0,
    "start_time": "2024-11-02T20:00:42.095Z"
   },
   {
    "duration": 41,
    "start_time": "2024-11-02T20:00:42.452Z"
   },
   {
    "duration": 47,
    "start_time": "2024-11-02T20:00:42.799Z"
   },
   {
    "duration": 45,
    "start_time": "2024-11-02T20:00:43.168Z"
   },
   {
    "duration": 43,
    "start_time": "2024-11-02T20:00:43.520Z"
   },
   {
    "duration": 7,
    "start_time": "2024-11-02T20:00:43.984Z"
   },
   {
    "duration": 123,
    "start_time": "2024-11-02T20:00:45.308Z"
   },
   {
    "duration": 469,
    "start_time": "2024-11-02T20:00:46.751Z"
   },
   {
    "duration": 237,
    "start_time": "2024-11-02T20:00:48.323Z"
   },
   {
    "duration": 128,
    "start_time": "2024-11-02T20:00:49.224Z"
   },
   {
    "duration": 24,
    "start_time": "2024-11-02T20:00:50.766Z"
   },
   {
    "duration": 18,
    "start_time": "2024-11-02T20:00:51.093Z"
   },
   {
    "duration": 107,
    "start_time": "2024-11-02T20:00:51.324Z"
   },
   {
    "duration": 30,
    "start_time": "2024-11-02T20:00:51.517Z"
   },
   {
    "duration": 43,
    "start_time": "2024-11-02T20:00:51.909Z"
   },
   {
    "duration": 14,
    "start_time": "2024-11-02T20:00:52.158Z"
   },
   {
    "duration": 12,
    "start_time": "2024-11-02T20:00:52.531Z"
   },
   {
    "duration": 16,
    "start_time": "2024-11-02T20:00:52.706Z"
   },
   {
    "duration": 14,
    "start_time": "2024-11-02T20:00:52.911Z"
   },
   {
    "duration": 32,
    "start_time": "2024-11-02T20:00:53.868Z"
   },
   {
    "duration": 32,
    "start_time": "2024-11-02T20:00:54.174Z"
   },
   {
    "duration": 37,
    "start_time": "2024-11-02T20:00:54.788Z"
   },
   {
    "duration": 50,
    "start_time": "2024-11-02T20:00:56.255Z"
   },
   {
    "duration": 44,
    "start_time": "2024-11-02T20:00:56.683Z"
   },
   {
    "duration": 40,
    "start_time": "2024-11-02T20:00:57.380Z"
   },
   {
    "duration": 8,
    "start_time": "2024-11-02T20:00:57.578Z"
   },
   {
    "duration": 79,
    "start_time": "2024-11-02T20:00:57.782Z"
   },
   {
    "duration": 33,
    "start_time": "2024-11-02T20:00:57.948Z"
   },
   {
    "duration": 40,
    "start_time": "2024-11-02T20:00:58.116Z"
   },
   {
    "duration": 45,
    "start_time": "2024-11-02T20:00:58.491Z"
   },
   {
    "duration": 6,
    "start_time": "2024-11-02T20:00:59.326Z"
   },
   {
    "duration": 16,
    "start_time": "2024-11-02T20:00:59.700Z"
   },
   {
    "duration": 11,
    "start_time": "2024-11-02T20:01:00.923Z"
   },
   {
    "duration": 13,
    "start_time": "2024-11-02T20:01:01.329Z"
   },
   {
    "duration": 14,
    "start_time": "2024-11-02T20:01:02.587Z"
   },
   {
    "duration": 2849,
    "start_time": "2024-11-02T20:21:14.206Z"
   },
   {
    "duration": 141,
    "start_time": "2024-11-02T20:21:18.554Z"
   },
   {
    "duration": 3,
    "start_time": "2024-11-02T20:21:19.943Z"
   },
   {
    "duration": 11,
    "start_time": "2024-11-02T20:21:21.470Z"
   },
   {
    "duration": 11,
    "start_time": "2024-11-02T20:21:22.622Z"
   },
   {
    "duration": 7,
    "start_time": "2024-11-02T20:21:23.222Z"
   },
   {
    "duration": 9,
    "start_time": "2024-11-02T20:21:24.078Z"
   },
   {
    "duration": 8,
    "start_time": "2024-11-02T20:21:24.592Z"
   },
   {
    "duration": 16,
    "start_time": "2024-11-02T20:21:25.647Z"
   },
   {
    "duration": 6,
    "start_time": "2024-11-02T20:21:26.229Z"
   },
   {
    "duration": 10,
    "start_time": "2024-11-02T20:21:27.180Z"
   },
   {
    "duration": 158,
    "start_time": "2024-11-02T20:21:28.605Z"
   },
   {
    "duration": 467,
    "start_time": "2024-11-02T20:24:35.043Z"
   },
   {
    "duration": 1893,
    "start_time": "2024-11-02T20:25:28.085Z"
   },
   {
    "duration": 3,
    "start_time": "2024-11-02T20:25:33.621Z"
   },
   {
    "duration": 3,
    "start_time": "2024-11-02T20:25:41.609Z"
   },
   {
    "duration": 3,
    "start_time": "2024-11-02T20:25:45.087Z"
   },
   {
    "duration": 3,
    "start_time": "2024-11-02T20:25:53.590Z"
   },
   {
    "duration": 1821,
    "start_time": "2024-11-02T20:26:54.448Z"
   },
   {
    "duration": 1785,
    "start_time": "2024-11-02T20:27:13.092Z"
   },
   {
    "duration": 1024,
    "start_time": "2024-11-02T20:27:17.582Z"
   },
   {
    "duration": 113,
    "start_time": "2024-11-02T20:27:20.577Z"
   },
   {
    "duration": 3,
    "start_time": "2024-11-02T20:27:28.579Z"
   },
   {
    "duration": 12,
    "start_time": "2024-11-02T20:27:44.630Z"
   },
   {
    "duration": 575,
    "start_time": "2024-11-02T20:27:48.036Z"
   },
   {
    "duration": 2,
    "start_time": "2024-11-02T20:28:14.040Z"
   },
   {
    "duration": 11,
    "start_time": "2024-11-02T20:28:18.833Z"
   },
   {
    "duration": 7,
    "start_time": "2024-11-02T20:28:24.431Z"
   },
   {
    "duration": 3,
    "start_time": "2024-11-02T20:29:35.609Z"
   },
   {
    "duration": 9,
    "start_time": "2024-11-02T20:29:37.038Z"
   },
   {
    "duration": 7,
    "start_time": "2024-11-02T20:29:44.784Z"
   },
   {
    "duration": 8,
    "start_time": "2024-11-02T20:34:01.287Z"
   },
   {
    "duration": 3819,
    "start_time": "2024-11-02T20:52:58.027Z"
   },
   {
    "duration": 4,
    "start_time": "2024-11-02T20:53:03.700Z"
   },
   {
    "duration": 1323,
    "start_time": "2024-11-02T21:06:04.605Z"
   },
   {
    "duration": 1464,
    "start_time": "2024-11-02T21:06:57.774Z"
   },
   {
    "duration": 5,
    "start_time": "2024-11-02T21:12:04.787Z"
   },
   {
    "duration": 3647,
    "start_time": "2024-11-02T21:12:26.034Z"
   },
   {
    "duration": 3,
    "start_time": "2024-11-02T21:12:29.684Z"
   },
   {
    "duration": 106,
    "start_time": "2024-11-02T21:12:29.689Z"
   },
   {
    "duration": 4,
    "start_time": "2024-11-02T21:12:29.797Z"
   },
   {
    "duration": 9,
    "start_time": "2024-11-02T21:12:29.803Z"
   },
   {
    "duration": 2,
    "start_time": "2024-11-02T21:12:29.814Z"
   },
   {
    "duration": 4,
    "start_time": "2024-11-02T21:12:32.266Z"
   },
   {
    "duration": 4,
    "start_time": "2024-11-02T21:13:07.124Z"
   },
   {
    "duration": 3832,
    "start_time": "2024-11-03T16:00:49.748Z"
   },
   {
    "duration": 1000,
    "start_time": "2024-11-03T16:00:53.582Z"
   },
   {
    "duration": 1306,
    "start_time": "2024-11-03T16:00:54.584Z"
   },
   {
    "duration": 590,
    "start_time": "2024-11-03T16:00:55.892Z"
   },
   {
    "duration": 0,
    "start_time": "2024-11-03T16:00:56.486Z"
   },
   {
    "duration": 0,
    "start_time": "2024-11-03T16:00:56.488Z"
   },
   {
    "duration": 0,
    "start_time": "2024-11-03T16:00:56.489Z"
   },
   {
    "duration": 0,
    "start_time": "2024-11-03T16:00:56.490Z"
   },
   {
    "duration": 0,
    "start_time": "2024-11-03T16:00:56.491Z"
   },
   {
    "duration": 0,
    "start_time": "2024-11-03T16:00:56.505Z"
   },
   {
    "duration": 0,
    "start_time": "2024-11-03T16:00:56.506Z"
   },
   {
    "duration": 1,
    "start_time": "2024-11-03T16:00:56.507Z"
   },
   {
    "duration": 0,
    "start_time": "2024-11-03T16:00:56.509Z"
   },
   {
    "duration": 0,
    "start_time": "2024-11-03T16:00:56.510Z"
   },
   {
    "duration": 0,
    "start_time": "2024-11-03T16:00:56.512Z"
   },
   {
    "duration": 0,
    "start_time": "2024-11-03T16:00:56.514Z"
   },
   {
    "duration": 0,
    "start_time": "2024-11-03T16:00:56.515Z"
   },
   {
    "duration": 0,
    "start_time": "2024-11-03T16:00:56.517Z"
   },
   {
    "duration": 0,
    "start_time": "2024-11-03T16:00:56.518Z"
   },
   {
    "duration": 0,
    "start_time": "2024-11-03T16:00:56.519Z"
   },
   {
    "duration": 0,
    "start_time": "2024-11-03T16:00:56.521Z"
   },
   {
    "duration": 0,
    "start_time": "2024-11-03T16:00:56.523Z"
   },
   {
    "duration": 0,
    "start_time": "2024-11-03T16:00:56.524Z"
   },
   {
    "duration": 0,
    "start_time": "2024-11-03T16:00:56.525Z"
   },
   {
    "duration": 0,
    "start_time": "2024-11-03T16:00:56.527Z"
   },
   {
    "duration": 0,
    "start_time": "2024-11-03T16:00:56.528Z"
   },
   {
    "duration": 0,
    "start_time": "2024-11-03T16:00:56.529Z"
   },
   {
    "duration": 0,
    "start_time": "2024-11-03T16:00:56.530Z"
   },
   {
    "duration": 0,
    "start_time": "2024-11-03T16:00:56.531Z"
   },
   {
    "duration": 0,
    "start_time": "2024-11-03T16:00:56.532Z"
   },
   {
    "duration": 0,
    "start_time": "2024-11-03T16:00:56.533Z"
   },
   {
    "duration": 0,
    "start_time": "2024-11-03T16:00:56.534Z"
   },
   {
    "duration": 0,
    "start_time": "2024-11-03T16:00:56.535Z"
   },
   {
    "duration": 0,
    "start_time": "2024-11-03T16:00:56.536Z"
   },
   {
    "duration": 0,
    "start_time": "2024-11-03T16:00:56.537Z"
   },
   {
    "duration": 0,
    "start_time": "2024-11-03T16:00:56.538Z"
   },
   {
    "duration": 0,
    "start_time": "2024-11-03T16:00:56.539Z"
   },
   {
    "duration": 0,
    "start_time": "2024-11-03T16:00:56.541Z"
   },
   {
    "duration": 0,
    "start_time": "2024-11-03T16:00:56.542Z"
   },
   {
    "duration": 0,
    "start_time": "2024-11-03T16:00:56.543Z"
   },
   {
    "duration": 0,
    "start_time": "2024-11-03T16:00:56.544Z"
   },
   {
    "duration": 0,
    "start_time": "2024-11-03T16:00:56.605Z"
   },
   {
    "duration": 0,
    "start_time": "2024-11-03T16:00:56.606Z"
   },
   {
    "duration": 0,
    "start_time": "2024-11-03T16:00:56.607Z"
   },
   {
    "duration": 0,
    "start_time": "2024-11-03T16:00:56.608Z"
   },
   {
    "duration": 0,
    "start_time": "2024-11-03T16:00:56.609Z"
   },
   {
    "duration": 0,
    "start_time": "2024-11-03T16:00:56.610Z"
   },
   {
    "duration": 0,
    "start_time": "2024-11-03T16:00:56.614Z"
   },
   {
    "duration": 0,
    "start_time": "2024-11-03T16:00:56.616Z"
   },
   {
    "duration": 0,
    "start_time": "2024-11-03T16:00:56.617Z"
   },
   {
    "duration": 0,
    "start_time": "2024-11-03T16:00:56.619Z"
   },
   {
    "duration": 0,
    "start_time": "2024-11-03T16:00:56.620Z"
   },
   {
    "duration": 0,
    "start_time": "2024-11-03T16:00:56.621Z"
   },
   {
    "duration": 0,
    "start_time": "2024-11-03T16:00:56.622Z"
   },
   {
    "duration": 0,
    "start_time": "2024-11-03T16:00:56.623Z"
   },
   {
    "duration": 0,
    "start_time": "2024-11-03T16:00:56.624Z"
   },
   {
    "duration": 0,
    "start_time": "2024-11-03T16:00:56.625Z"
   },
   {
    "duration": 0,
    "start_time": "2024-11-03T16:00:56.627Z"
   },
   {
    "duration": 7527,
    "start_time": "2024-11-03T16:02:47.980Z"
   },
   {
    "duration": 5,
    "start_time": "2024-11-03T16:02:55.509Z"
   },
   {
    "duration": 2031,
    "start_time": "2024-11-03T16:02:55.516Z"
   },
   {
    "duration": 204,
    "start_time": "2024-11-03T16:02:57.550Z"
   },
   {
    "duration": 51,
    "start_time": "2024-11-03T16:02:57.757Z"
   },
   {
    "duration": 14,
    "start_time": "2024-11-03T16:02:57.809Z"
   },
   {
    "duration": 3,
    "start_time": "2024-11-03T16:02:57.824Z"
   },
   {
    "duration": 11,
    "start_time": "2024-11-03T16:02:57.828Z"
   },
   {
    "duration": 7,
    "start_time": "2024-11-03T16:02:57.904Z"
   },
   {
    "duration": 2,
    "start_time": "2024-11-03T16:02:57.915Z"
   },
   {
    "duration": 8,
    "start_time": "2024-11-03T16:02:57.919Z"
   },
   {
    "duration": 6,
    "start_time": "2024-11-03T16:02:57.929Z"
   },
   {
    "duration": 799,
    "start_time": "2024-11-03T16:02:57.936Z"
   },
   {
    "duration": 0,
    "start_time": "2024-11-03T16:02:58.739Z"
   },
   {
    "duration": 0,
    "start_time": "2024-11-03T16:02:58.742Z"
   },
   {
    "duration": 0,
    "start_time": "2024-11-03T16:02:58.743Z"
   },
   {
    "duration": 0,
    "start_time": "2024-11-03T16:02:58.744Z"
   },
   {
    "duration": 0,
    "start_time": "2024-11-03T16:02:58.745Z"
   },
   {
    "duration": 0,
    "start_time": "2024-11-03T16:02:58.746Z"
   },
   {
    "duration": 0,
    "start_time": "2024-11-03T16:02:58.747Z"
   },
   {
    "duration": 0,
    "start_time": "2024-11-03T16:02:58.748Z"
   },
   {
    "duration": 0,
    "start_time": "2024-11-03T16:02:58.805Z"
   },
   {
    "duration": 0,
    "start_time": "2024-11-03T16:02:58.807Z"
   },
   {
    "duration": 0,
    "start_time": "2024-11-03T16:02:58.808Z"
   },
   {
    "duration": 0,
    "start_time": "2024-11-03T16:02:58.809Z"
   },
   {
    "duration": 0,
    "start_time": "2024-11-03T16:02:58.811Z"
   },
   {
    "duration": 0,
    "start_time": "2024-11-03T16:02:58.812Z"
   },
   {
    "duration": 0,
    "start_time": "2024-11-03T16:02:58.813Z"
   },
   {
    "duration": 0,
    "start_time": "2024-11-03T16:02:58.814Z"
   },
   {
    "duration": 0,
    "start_time": "2024-11-03T16:02:58.815Z"
   },
   {
    "duration": 0,
    "start_time": "2024-11-03T16:02:58.816Z"
   },
   {
    "duration": 0,
    "start_time": "2024-11-03T16:02:58.818Z"
   },
   {
    "duration": 0,
    "start_time": "2024-11-03T16:02:58.820Z"
   },
   {
    "duration": 0,
    "start_time": "2024-11-03T16:02:58.821Z"
   },
   {
    "duration": 0,
    "start_time": "2024-11-03T16:02:58.821Z"
   },
   {
    "duration": 0,
    "start_time": "2024-11-03T16:02:58.822Z"
   },
   {
    "duration": 0,
    "start_time": "2024-11-03T16:02:58.824Z"
   },
   {
    "duration": 0,
    "start_time": "2024-11-03T16:02:58.825Z"
   },
   {
    "duration": 0,
    "start_time": "2024-11-03T16:02:58.826Z"
   },
   {
    "duration": 0,
    "start_time": "2024-11-03T16:02:58.827Z"
   },
   {
    "duration": 0,
    "start_time": "2024-11-03T16:02:58.828Z"
   },
   {
    "duration": 0,
    "start_time": "2024-11-03T16:02:58.829Z"
   },
   {
    "duration": 0,
    "start_time": "2024-11-03T16:02:58.830Z"
   },
   {
    "duration": 0,
    "start_time": "2024-11-03T16:02:58.831Z"
   },
   {
    "duration": 0,
    "start_time": "2024-11-03T16:02:58.832Z"
   },
   {
    "duration": 0,
    "start_time": "2024-11-03T16:02:58.907Z"
   },
   {
    "duration": 0,
    "start_time": "2024-11-03T16:02:58.908Z"
   },
   {
    "duration": 0,
    "start_time": "2024-11-03T16:02:58.909Z"
   },
   {
    "duration": 0,
    "start_time": "2024-11-03T16:02:58.911Z"
   },
   {
    "duration": 0,
    "start_time": "2024-11-03T16:02:58.912Z"
   },
   {
    "duration": 0,
    "start_time": "2024-11-03T16:02:58.913Z"
   },
   {
    "duration": 0,
    "start_time": "2024-11-03T16:02:58.914Z"
   },
   {
    "duration": 0,
    "start_time": "2024-11-03T16:02:59.135Z"
   },
   {
    "duration": 0,
    "start_time": "2024-11-03T16:02:59.137Z"
   },
   {
    "duration": 0,
    "start_time": "2024-11-03T16:02:59.138Z"
   },
   {
    "duration": 0,
    "start_time": "2024-11-03T16:02:59.140Z"
   },
   {
    "duration": 0,
    "start_time": "2024-11-03T16:02:59.141Z"
   },
   {
    "duration": 0,
    "start_time": "2024-11-03T16:02:59.142Z"
   },
   {
    "duration": 19,
    "start_time": "2024-11-03T16:03:25.639Z"
   },
   {
    "duration": 7,
    "start_time": "2024-11-03T16:03:25.922Z"
   },
   {
    "duration": 3,
    "start_time": "2024-11-03T16:03:26.235Z"
   },
   {
    "duration": 25,
    "start_time": "2024-11-03T16:03:26.582Z"
   },
   {
    "duration": 54,
    "start_time": "2024-11-03T16:03:27.259Z"
   },
   {
    "duration": 9,
    "start_time": "2024-11-03T16:03:28.104Z"
   },
   {
    "duration": 12,
    "start_time": "2024-11-03T16:03:28.395Z"
   },
   {
    "duration": 17,
    "start_time": "2024-11-03T16:03:28.789Z"
   },
   {
    "duration": 93,
    "start_time": "2024-11-03T16:03:29.261Z"
   },
   {
    "duration": 658,
    "start_time": "2024-11-03T16:03:30.893Z"
   },
   {
    "duration": 278,
    "start_time": "2024-11-03T16:03:31.648Z"
   },
   {
    "duration": 68,
    "start_time": "2024-11-03T16:03:32.079Z"
   },
   {
    "duration": 106,
    "start_time": "2024-11-03T16:03:32.425Z"
   },
   {
    "duration": 99,
    "start_time": "2024-11-03T16:03:32.625Z"
   },
   {
    "duration": 45,
    "start_time": "2024-11-03T16:03:32.805Z"
   },
   {
    "duration": 5,
    "start_time": "2024-11-03T16:03:32.963Z"
   },
   {
    "duration": 3,
    "start_time": "2024-11-03T16:03:33.284Z"
   },
   {
    "duration": 3807,
    "start_time": "2024-11-03T21:58:47.056Z"
   },
   {
    "duration": 2767,
    "start_time": "2024-11-03T21:58:51.774Z"
   },
   {
    "duration": 1304,
    "start_time": "2024-11-03T21:58:55.499Z"
   },
   {
    "duration": 555,
    "start_time": "2024-11-03T21:58:59.907Z"
   },
   {
    "duration": 37,
    "start_time": "2024-11-03T22:00:58.206Z"
   },
   {
    "duration": 3,
    "start_time": "2024-11-03T22:01:02.054Z"
   },
   {
    "duration": 15,
    "start_time": "2024-11-03T22:01:03.505Z"
   },
   {
    "duration": 2,
    "start_time": "2024-11-03T22:01:04.215Z"
   },
   {
    "duration": 11,
    "start_time": "2024-11-03T22:01:05.763Z"
   },
   {
    "duration": 7,
    "start_time": "2024-11-03T22:01:06.444Z"
   },
   {
    "duration": 3,
    "start_time": "2024-11-03T22:01:07.077Z"
   },
   {
    "duration": 10,
    "start_time": "2024-11-03T22:01:07.493Z"
   },
   {
    "duration": 8,
    "start_time": "2024-11-03T22:01:07.934Z"
   },
   {
    "duration": 3,
    "start_time": "2024-11-03T22:01:08.541Z"
   },
   {
    "duration": 9,
    "start_time": "2024-11-03T22:01:09.827Z"
   },
   {
    "duration": 6,
    "start_time": "2024-11-03T22:01:10.268Z"
   },
   {
    "duration": 3,
    "start_time": "2024-11-03T22:01:10.714Z"
   },
   {
    "duration": 9,
    "start_time": "2024-11-03T22:01:11.218Z"
   },
   {
    "duration": 28,
    "start_time": "2024-11-03T22:01:12.269Z"
   },
   {
    "duration": 13,
    "start_time": "2024-11-03T22:01:13.381Z"
   },
   {
    "duration": 5,
    "start_time": "2024-11-03T22:01:14.014Z"
   },
   {
    "duration": 10,
    "start_time": "2024-11-03T22:01:14.412Z"
   },
   {
    "duration": 13,
    "start_time": "2024-11-03T22:01:14.822Z"
   },
   {
    "duration": 18,
    "start_time": "2024-11-03T22:01:16.950Z"
   },
   {
    "duration": 10,
    "start_time": "2024-11-03T22:01:18.119Z"
   },
   {
    "duration": 105,
    "start_time": "2024-11-03T22:01:18.775Z"
   },
   {
    "duration": 7,
    "start_time": "2024-11-03T22:01:20.242Z"
   },
   {
    "duration": 23,
    "start_time": "2024-11-03T22:01:20.752Z"
   },
   {
    "duration": 7,
    "start_time": "2024-11-03T22:01:21.352Z"
   },
   {
    "duration": 8,
    "start_time": "2024-11-03T22:01:23.199Z"
   },
   {
    "duration": 5,
    "start_time": "2024-11-03T22:01:26.012Z"
   },
   {
    "duration": 542,
    "start_time": "2024-11-03T22:01:27.418Z"
   },
   {
    "duration": 13,
    "start_time": "2024-11-03T22:01:33.909Z"
   },
   {
    "duration": 678,
    "start_time": "2024-11-03T22:01:35.085Z"
   },
   {
    "duration": 5,
    "start_time": "2024-11-03T22:01:39.163Z"
   },
   {
    "duration": 5,
    "start_time": "2024-11-03T22:01:39.813Z"
   },
   {
    "duration": 159,
    "start_time": "2024-11-03T22:01:40.417Z"
   },
   {
    "duration": 129,
    "start_time": "2024-11-03T22:01:41.261Z"
   },
   {
    "duration": 8,
    "start_time": "2024-11-03T22:01:42.622Z"
   },
   {
    "duration": 7,
    "start_time": "2024-11-03T22:01:43.032Z"
   },
   {
    "duration": 3,
    "start_time": "2024-11-03T22:01:44.063Z"
   },
   {
    "duration": 111,
    "start_time": "2024-11-03T22:01:44.383Z"
   },
   {
    "duration": 133,
    "start_time": "2024-11-03T22:01:45.220Z"
   },
   {
    "duration": 920,
    "start_time": "2024-11-03T22:01:47.579Z"
   },
   {
    "duration": 8,
    "start_time": "2024-11-03T22:01:48.501Z"
   },
   {
    "duration": 8,
    "start_time": "2024-11-03T22:01:50.754Z"
   },
   {
    "duration": 6,
    "start_time": "2024-11-03T22:01:57.277Z"
   },
   {
    "duration": 5,
    "start_time": "2024-11-03T22:01:58.165Z"
   },
   {
    "duration": 4,
    "start_time": "2024-11-03T22:02:00.758Z"
   },
   {
    "duration": 11,
    "start_time": "2024-11-03T22:02:01.504Z"
   },
   {
    "duration": 8,
    "start_time": "2024-11-03T22:02:02.370Z"
   },
   {
    "duration": 13,
    "start_time": "2024-11-03T22:02:02.773Z"
   },
   {
    "duration": 6,
    "start_time": "2024-11-03T22:02:03.183Z"
   },
   {
    "duration": 14,
    "start_time": "2024-11-03T22:02:05.055Z"
   },
   {
    "duration": 8,
    "start_time": "2024-11-03T22:02:07.516Z"
   },
   {
    "duration": 3511,
    "start_time": "2024-11-03T22:02:09.459Z"
   },
   {
    "duration": 10,
    "start_time": "2024-11-03T22:04:03.573Z"
   },
   {
    "duration": 184563,
    "start_time": "2024-11-03T22:04:06.194Z"
   },
   {
    "duration": 11,
    "start_time": "2024-11-03T22:13:46.315Z"
   },
   {
    "duration": 3626,
    "start_time": "2024-11-03T22:14:21.054Z"
   },
   {
    "duration": 1053,
    "start_time": "2024-11-03T22:14:25.646Z"
   },
   {
    "duration": 1312,
    "start_time": "2024-11-03T22:14:28.325Z"
   },
   {
    "duration": 37,
    "start_time": "2024-11-03T22:14:30.278Z"
   },
   {
    "duration": 3,
    "start_time": "2024-11-03T22:14:31.397Z"
   },
   {
    "duration": 13,
    "start_time": "2024-11-03T22:14:32.487Z"
   },
   {
    "duration": 3,
    "start_time": "2024-11-03T22:14:33.046Z"
   },
   {
    "duration": 10,
    "start_time": "2024-11-03T22:14:34.372Z"
   },
   {
    "duration": 7,
    "start_time": "2024-11-03T22:14:34.884Z"
   },
   {
    "duration": 5,
    "start_time": "2024-11-03T22:14:35.354Z"
   },
   {
    "duration": 9,
    "start_time": "2024-11-03T22:14:35.870Z"
   },
   {
    "duration": 11,
    "start_time": "2024-11-03T22:14:36.364Z"
   },
   {
    "duration": 3,
    "start_time": "2024-11-03T22:14:36.842Z"
   },
   {
    "duration": 9,
    "start_time": "2024-11-03T22:14:37.666Z"
   },
   {
    "duration": 14,
    "start_time": "2024-11-03T22:14:38.178Z"
   },
   {
    "duration": 3,
    "start_time": "2024-11-03T22:14:38.569Z"
   },
   {
    "duration": 8,
    "start_time": "2024-11-03T22:14:39.043Z"
   },
   {
    "duration": 30,
    "start_time": "2024-11-03T22:14:39.989Z"
   },
   {
    "duration": 16,
    "start_time": "2024-11-03T22:14:40.999Z"
   },
   {
    "duration": 4,
    "start_time": "2024-11-03T22:14:41.530Z"
   },
   {
    "duration": 10,
    "start_time": "2024-11-03T22:14:41.945Z"
   },
   {
    "duration": 15,
    "start_time": "2024-11-03T22:14:42.450Z"
   },
   {
    "duration": 18,
    "start_time": "2024-11-03T22:14:46.313Z"
   },
   {
    "duration": 9,
    "start_time": "2024-11-03T22:14:47.890Z"
   },
   {
    "duration": 20,
    "start_time": "2024-11-03T22:14:48.392Z"
   },
   {
    "duration": 6,
    "start_time": "2024-11-03T22:14:48.932Z"
   },
   {
    "duration": 26,
    "start_time": "2024-11-03T22:14:49.398Z"
   },
   {
    "duration": 8,
    "start_time": "2024-11-03T22:14:49.869Z"
   },
   {
    "duration": 9,
    "start_time": "2024-11-03T22:14:50.402Z"
   },
   {
    "duration": 4,
    "start_time": "2024-11-03T22:14:51.379Z"
   },
   {
    "duration": 569,
    "start_time": "2024-11-03T22:14:52.729Z"
   },
   {
    "duration": 14,
    "start_time": "2024-11-03T22:14:53.966Z"
   },
   {
    "duration": 649,
    "start_time": "2024-11-03T22:14:55.073Z"
   },
   {
    "duration": 5,
    "start_time": "2024-11-03T22:14:57.452Z"
   },
   {
    "duration": 5,
    "start_time": "2024-11-03T22:14:57.947Z"
   },
   {
    "duration": 158,
    "start_time": "2024-11-03T22:14:58.487Z"
   },
   {
    "duration": 131,
    "start_time": "2024-11-03T22:14:59.295Z"
   },
   {
    "duration": 8,
    "start_time": "2024-11-03T22:15:00.580Z"
   },
   {
    "duration": 8,
    "start_time": "2024-11-03T22:15:00.949Z"
   },
   {
    "duration": 3,
    "start_time": "2024-11-03T22:15:01.879Z"
   },
   {
    "duration": 112,
    "start_time": "2024-11-03T22:15:02.352Z"
   },
   {
    "duration": 130,
    "start_time": "2024-11-03T22:15:02.871Z"
   },
   {
    "duration": 883,
    "start_time": "2024-11-03T22:15:04.721Z"
   },
   {
    "duration": 8,
    "start_time": "2024-11-03T22:15:05.605Z"
   },
   {
    "duration": 9,
    "start_time": "2024-11-03T22:15:06.653Z"
   },
   {
    "duration": 5,
    "start_time": "2024-11-03T22:15:08.900Z"
   },
   {
    "duration": 5,
    "start_time": "2024-11-03T22:15:09.372Z"
   },
   {
    "duration": 4,
    "start_time": "2024-11-03T22:15:10.225Z"
   },
   {
    "duration": 11,
    "start_time": "2024-11-03T22:15:10.890Z"
   },
   {
    "duration": 8,
    "start_time": "2024-11-03T22:15:11.432Z"
   },
   {
    "duration": 12,
    "start_time": "2024-11-03T22:15:11.908Z"
   },
   {
    "duration": 5,
    "start_time": "2024-11-03T22:15:12.479Z"
   },
   {
    "duration": 14,
    "start_time": "2024-11-03T22:15:13.652Z"
   },
   {
    "duration": 7,
    "start_time": "2024-11-03T22:15:14.703Z"
   },
   {
    "duration": 3498,
    "start_time": "2024-11-03T22:15:15.301Z"
   },
   {
    "duration": 11,
    "start_time": "2024-11-03T22:15:18.801Z"
   },
   {
    "duration": 184754,
    "start_time": "2024-11-03T22:15:18.814Z"
   },
   {
    "duration": 10,
    "start_time": "2024-11-03T22:18:23.570Z"
   },
   {
    "duration": 3815,
    "start_time": "2024-11-04T16:11:44.491Z"
   },
   {
    "duration": 1024,
    "start_time": "2024-11-04T16:11:48.309Z"
   },
   {
    "duration": 1320,
    "start_time": "2024-11-04T16:11:49.335Z"
   },
   {
    "duration": 145,
    "start_time": "2024-11-04T16:11:50.658Z"
   },
   {
    "duration": 3,
    "start_time": "2024-11-04T16:11:50.807Z"
   },
   {
    "duration": 12,
    "start_time": "2024-11-04T16:11:50.811Z"
   },
   {
    "duration": 2,
    "start_time": "2024-11-04T16:11:50.825Z"
   },
   {
    "duration": 24,
    "start_time": "2024-11-04T16:11:50.829Z"
   },
   {
    "duration": 7,
    "start_time": "2024-11-04T16:11:50.855Z"
   },
   {
    "duration": 3,
    "start_time": "2024-11-04T16:11:50.864Z"
   },
   {
    "duration": 9,
    "start_time": "2024-11-04T16:11:50.868Z"
   },
   {
    "duration": 7,
    "start_time": "2024-11-04T16:11:50.879Z"
   },
   {
    "duration": 657,
    "start_time": "2024-11-04T16:11:50.888Z"
   },
   {
    "duration": 0,
    "start_time": "2024-11-04T16:11:51.548Z"
   },
   {
    "duration": 0,
    "start_time": "2024-11-04T16:11:51.549Z"
   },
   {
    "duration": 0,
    "start_time": "2024-11-04T16:11:51.550Z"
   },
   {
    "duration": 0,
    "start_time": "2024-11-04T16:11:51.551Z"
   },
   {
    "duration": 0,
    "start_time": "2024-11-04T16:11:51.553Z"
   },
   {
    "duration": 0,
    "start_time": "2024-11-04T16:11:51.554Z"
   },
   {
    "duration": 0,
    "start_time": "2024-11-04T16:11:51.556Z"
   },
   {
    "duration": 0,
    "start_time": "2024-11-04T16:11:51.558Z"
   },
   {
    "duration": 0,
    "start_time": "2024-11-04T16:11:51.559Z"
   },
   {
    "duration": 0,
    "start_time": "2024-11-04T16:11:51.560Z"
   },
   {
    "duration": 0,
    "start_time": "2024-11-04T16:11:51.562Z"
   },
   {
    "duration": 0,
    "start_time": "2024-11-04T16:11:51.564Z"
   },
   {
    "duration": 0,
    "start_time": "2024-11-04T16:11:51.565Z"
   },
   {
    "duration": 0,
    "start_time": "2024-11-04T16:11:51.567Z"
   },
   {
    "duration": 0,
    "start_time": "2024-11-04T16:11:51.568Z"
   },
   {
    "duration": 0,
    "start_time": "2024-11-04T16:11:51.571Z"
   },
   {
    "duration": 0,
    "start_time": "2024-11-04T16:11:51.572Z"
   },
   {
    "duration": 0,
    "start_time": "2024-11-04T16:11:51.574Z"
   },
   {
    "duration": 0,
    "start_time": "2024-11-04T16:11:51.575Z"
   },
   {
    "duration": 0,
    "start_time": "2024-11-04T16:11:51.576Z"
   },
   {
    "duration": 0,
    "start_time": "2024-11-04T16:11:51.577Z"
   },
   {
    "duration": 0,
    "start_time": "2024-11-04T16:11:51.578Z"
   },
   {
    "duration": 0,
    "start_time": "2024-11-04T16:11:51.580Z"
   },
   {
    "duration": 0,
    "start_time": "2024-11-04T16:11:51.581Z"
   },
   {
    "duration": 0,
    "start_time": "2024-11-04T16:11:51.582Z"
   },
   {
    "duration": 0,
    "start_time": "2024-11-04T16:11:51.583Z"
   },
   {
    "duration": 0,
    "start_time": "2024-11-04T16:11:51.584Z"
   },
   {
    "duration": 0,
    "start_time": "2024-11-04T16:11:51.585Z"
   },
   {
    "duration": 0,
    "start_time": "2024-11-04T16:11:51.586Z"
   },
   {
    "duration": 0,
    "start_time": "2024-11-04T16:11:51.643Z"
   },
   {
    "duration": 0,
    "start_time": "2024-11-04T16:11:51.645Z"
   },
   {
    "duration": 1,
    "start_time": "2024-11-04T16:11:51.646Z"
   },
   {
    "duration": 0,
    "start_time": "2024-11-04T16:11:51.648Z"
   },
   {
    "duration": 0,
    "start_time": "2024-11-04T16:11:51.649Z"
   },
   {
    "duration": 0,
    "start_time": "2024-11-04T16:11:51.651Z"
   },
   {
    "duration": 0,
    "start_time": "2024-11-04T16:11:51.652Z"
   },
   {
    "duration": 0,
    "start_time": "2024-11-04T16:11:51.654Z"
   },
   {
    "duration": 0,
    "start_time": "2024-11-04T16:11:51.655Z"
   },
   {
    "duration": 0,
    "start_time": "2024-11-04T16:11:51.657Z"
   },
   {
    "duration": 0,
    "start_time": "2024-11-04T16:11:51.658Z"
   },
   {
    "duration": 0,
    "start_time": "2024-11-04T16:11:51.659Z"
   },
   {
    "duration": 0,
    "start_time": "2024-11-04T16:11:51.661Z"
   },
   {
    "duration": 0,
    "start_time": "2024-11-04T16:11:51.662Z"
   },
   {
    "duration": 0,
    "start_time": "2024-11-04T16:11:51.663Z"
   },
   {
    "duration": 0,
    "start_time": "2024-11-04T16:11:51.665Z"
   },
   {
    "duration": 3813,
    "start_time": "2024-11-04T23:31:45.443Z"
   },
   {
    "duration": 1817,
    "start_time": "2024-11-04T23:31:52.710Z"
   },
   {
    "duration": 1966,
    "start_time": "2024-11-05T01:40:21.376Z"
   },
   {
    "duration": 2823,
    "start_time": "2024-11-05T01:40:26.415Z"
   },
   {
    "duration": 618,
    "start_time": "2024-11-05T01:40:30.268Z"
   },
   {
    "duration": 63,
    "start_time": "2024-11-05T01:41:34.090Z"
   },
   {
    "duration": 5,
    "start_time": "2024-11-05T01:42:05.341Z"
   },
   {
    "duration": 4,
    "start_time": "2024-11-05T01:42:17.172Z"
   },
   {
    "duration": 4,
    "start_time": "2024-11-05T01:42:53.052Z"
   },
   {
    "duration": 5,
    "start_time": "2024-11-05T01:43:11.652Z"
   },
   {
    "duration": 62,
    "start_time": "2024-11-05T01:43:43.245Z"
   },
   {
    "duration": 62,
    "start_time": "2024-11-05T01:44:20.883Z"
   },
   {
    "duration": 59,
    "start_time": "2024-11-05T01:44:27.799Z"
   },
   {
    "duration": 65,
    "start_time": "2024-11-05T01:44:46.910Z"
   },
   {
    "duration": 60,
    "start_time": "2024-11-05T01:44:50.735Z"
   },
   {
    "duration": 65,
    "start_time": "2024-11-05T01:45:18.470Z"
   },
   {
    "duration": 63,
    "start_time": "2024-11-05T01:45:25.104Z"
   },
   {
    "duration": 61,
    "start_time": "2024-11-05T01:45:53.653Z"
   },
   {
    "duration": 62,
    "start_time": "2024-11-05T01:46:05.629Z"
   },
   {
    "duration": 4,
    "start_time": "2024-11-05T01:46:36.980Z"
   },
   {
    "duration": 63,
    "start_time": "2024-11-05T01:46:37.778Z"
   },
   {
    "duration": 148,
    "start_time": "2024-11-05T01:47:22.515Z"
   },
   {
    "duration": 3,
    "start_time": "2024-11-05T01:47:24.367Z"
   },
   {
    "duration": 47,
    "start_time": "2024-11-05T01:47:40.020Z"
   },
   {
    "duration": 3,
    "start_time": "2024-11-05T01:47:41.244Z"
   },
   {
    "duration": 12,
    "start_time": "2024-11-05T01:47:47.974Z"
   },
   {
    "duration": 3,
    "start_time": "2024-11-05T01:47:48.532Z"
   },
   {
    "duration": 10,
    "start_time": "2024-11-05T01:47:49.780Z"
   },
   {
    "duration": 7,
    "start_time": "2024-11-05T01:47:50.401Z"
   },
   {
    "duration": 5,
    "start_time": "2024-11-05T01:47:51.117Z"
   },
   {
    "duration": 12,
    "start_time": "2024-11-05T01:47:51.867Z"
   },
   {
    "duration": 9,
    "start_time": "2024-11-05T01:47:52.453Z"
   },
   {
    "duration": 3,
    "start_time": "2024-11-05T01:47:52.948Z"
   },
   {
    "duration": 10,
    "start_time": "2024-11-05T01:47:54.809Z"
   },
   {
    "duration": 6,
    "start_time": "2024-11-05T01:47:55.540Z"
   },
   {
    "duration": 3,
    "start_time": "2024-11-05T01:47:56.297Z"
   },
   {
    "duration": 9,
    "start_time": "2024-11-05T01:47:56.877Z"
   },
   {
    "duration": 29,
    "start_time": "2024-11-05T01:47:58.100Z"
   },
   {
    "duration": 14,
    "start_time": "2024-11-05T01:47:59.149Z"
   },
   {
    "duration": 5,
    "start_time": "2024-11-05T01:47:59.636Z"
   },
   {
    "duration": 10,
    "start_time": "2024-11-05T01:48:00.197Z"
   },
   {
    "duration": 14,
    "start_time": "2024-11-05T01:48:00.760Z"
   },
   {
    "duration": 18,
    "start_time": "2024-11-05T01:48:02.939Z"
   },
   {
    "duration": 8,
    "start_time": "2024-11-05T01:48:04.179Z"
   },
   {
    "duration": 22,
    "start_time": "2024-11-05T01:48:04.749Z"
   },
   {
    "duration": 6,
    "start_time": "2024-11-05T01:48:05.246Z"
   },
   {
    "duration": 24,
    "start_time": "2024-11-05T01:48:05.727Z"
   },
   {
    "duration": 8,
    "start_time": "2024-11-05T01:48:06.911Z"
   },
   {
    "duration": 8,
    "start_time": "2024-11-05T01:48:07.512Z"
   },
   {
    "duration": 5,
    "start_time": "2024-11-05T01:48:08.628Z"
   },
   {
    "duration": 577,
    "start_time": "2024-11-05T01:48:09.739Z"
   },
   {
    "duration": 11,
    "start_time": "2024-11-05T01:48:10.700Z"
   },
   {
    "duration": 829,
    "start_time": "2024-11-05T01:48:11.605Z"
   },
   {
    "duration": 5,
    "start_time": "2024-11-05T01:48:13.208Z"
   },
   {
    "duration": 4,
    "start_time": "2024-11-05T01:48:13.638Z"
   },
   {
    "duration": 162,
    "start_time": "2024-11-05T01:48:14.080Z"
   },
   {
    "duration": 139,
    "start_time": "2024-11-05T01:48:14.852Z"
   },
   {
    "duration": 8,
    "start_time": "2024-11-05T01:48:15.932Z"
   },
   {
    "duration": 8,
    "start_time": "2024-11-05T01:48:16.467Z"
   },
   {
    "duration": 3,
    "start_time": "2024-11-05T01:48:17.559Z"
   },
   {
    "duration": 112,
    "start_time": "2024-11-05T01:48:18.073Z"
   },
   {
    "duration": 137,
    "start_time": "2024-11-05T01:48:18.676Z"
   },
   {
    "duration": 843,
    "start_time": "2024-11-05T01:48:20.807Z"
   },
   {
    "duration": 8,
    "start_time": "2024-11-05T01:48:21.652Z"
   },
   {
    "duration": 9,
    "start_time": "2024-11-05T01:48:23.547Z"
   },
   {
    "duration": 6,
    "start_time": "2024-11-05T01:48:27.925Z"
   },
   {
    "duration": 6,
    "start_time": "2024-11-05T01:48:28.253Z"
   },
   {
    "duration": 7,
    "start_time": "2024-11-05T01:48:29.192Z"
   },
   {
    "duration": 10,
    "start_time": "2024-11-05T01:48:29.629Z"
   },
   {
    "duration": 8,
    "start_time": "2024-11-05T01:48:30.125Z"
   },
   {
    "duration": 13,
    "start_time": "2024-11-05T01:48:30.563Z"
   },
   {
    "duration": 6,
    "start_time": "2024-11-05T01:48:30.748Z"
   },
   {
    "duration": 2113,
    "start_time": "2024-11-05T01:48:46.255Z"
   },
   {
    "duration": 1178,
    "start_time": "2024-11-05T01:48:49.241Z"
   },
   {
    "duration": 34,
    "start_time": "2024-11-05T01:48:51.596Z"
   },
   {
    "duration": 4,
    "start_time": "2024-11-05T01:48:53.485Z"
   },
   {
    "duration": 12,
    "start_time": "2024-11-05T01:48:55.421Z"
   },
   {
    "duration": 2,
    "start_time": "2024-11-05T01:48:56.254Z"
   },
   {
    "duration": 12,
    "start_time": "2024-11-05T01:48:59.558Z"
   },
   {
    "duration": 7,
    "start_time": "2024-11-05T01:49:00.217Z"
   },
   {
    "duration": 3,
    "start_time": "2024-11-05T01:49:00.769Z"
   },
   {
    "duration": 9,
    "start_time": "2024-11-05T01:49:01.507Z"
   },
   {
    "duration": 12,
    "start_time": "2024-11-05T01:49:02.079Z"
   },
   {
    "duration": 3,
    "start_time": "2024-11-05T01:49:02.915Z"
   },
   {
    "duration": 9,
    "start_time": "2024-11-05T01:49:07.074Z"
   },
   {
    "duration": 7,
    "start_time": "2024-11-05T01:49:07.881Z"
   },
   {
    "duration": 3,
    "start_time": "2024-11-05T01:49:08.568Z"
   },
   {
    "duration": 8,
    "start_time": "2024-11-05T01:49:09.239Z"
   },
   {
    "duration": 28,
    "start_time": "2024-11-05T01:49:10.622Z"
   },
   {
    "duration": 14,
    "start_time": "2024-11-05T01:49:12.945Z"
   },
   {
    "duration": 4,
    "start_time": "2024-11-05T01:49:13.472Z"
   },
   {
    "duration": 11,
    "start_time": "2024-11-05T01:49:14.075Z"
   },
   {
    "duration": 14,
    "start_time": "2024-11-05T01:49:14.662Z"
   },
   {
    "duration": 17,
    "start_time": "2024-11-05T01:49:16.876Z"
   },
   {
    "duration": 9,
    "start_time": "2024-11-05T01:49:18.090Z"
   },
   {
    "duration": 20,
    "start_time": "2024-11-05T01:49:18.752Z"
   },
   {
    "duration": 7,
    "start_time": "2024-11-05T01:49:19.490Z"
   },
   {
    "duration": 25,
    "start_time": "2024-11-05T01:49:20.086Z"
   },
   {
    "duration": 8,
    "start_time": "2024-11-05T01:49:20.723Z"
   },
   {
    "duration": 8,
    "start_time": "2024-11-05T01:49:21.360Z"
   },
   {
    "duration": 5,
    "start_time": "2024-11-05T01:49:22.557Z"
   },
   {
    "duration": 541,
    "start_time": "2024-11-05T01:49:24.169Z"
   },
   {
    "duration": 15,
    "start_time": "2024-11-05T01:49:25.910Z"
   },
   {
    "duration": 675,
    "start_time": "2024-11-05T01:49:26.939Z"
   },
   {
    "duration": 5,
    "start_time": "2024-11-05T01:49:28.604Z"
   },
   {
    "duration": 5,
    "start_time": "2024-11-05T01:49:29.235Z"
   },
   {
    "duration": 210,
    "start_time": "2024-11-05T01:49:29.741Z"
   },
   {
    "duration": 148,
    "start_time": "2024-11-05T01:49:30.539Z"
   },
   {
    "duration": 7,
    "start_time": "2024-11-05T01:49:31.821Z"
   },
   {
    "duration": 7,
    "start_time": "2024-11-05T01:49:32.362Z"
   },
   {
    "duration": 3,
    "start_time": "2024-11-05T01:49:33.517Z"
   },
   {
    "duration": 115,
    "start_time": "2024-11-05T01:49:34.083Z"
   },
   {
    "duration": 139,
    "start_time": "2024-11-05T01:49:34.946Z"
   },
   {
    "duration": 910,
    "start_time": "2024-11-05T01:49:37.517Z"
   },
   {
    "duration": 10,
    "start_time": "2024-11-05T01:49:38.429Z"
   },
   {
    "duration": 9,
    "start_time": "2024-11-05T01:49:55.162Z"
   },
   {
    "duration": 6,
    "start_time": "2024-11-05T01:49:58.280Z"
   },
   {
    "duration": 6,
    "start_time": "2024-11-05T01:49:58.811Z"
   },
   {
    "duration": 4,
    "start_time": "2024-11-05T01:50:00.013Z"
   },
   {
    "duration": 11,
    "start_time": "2024-11-05T01:50:00.556Z"
   },
   {
    "duration": 11,
    "start_time": "2024-11-05T01:50:01.255Z"
   },
   {
    "duration": 13,
    "start_time": "2024-11-05T01:50:01.790Z"
   },
   {
    "duration": 5,
    "start_time": "2024-11-05T01:50:02.437Z"
   },
   {
    "duration": 17,
    "start_time": "2024-11-05T01:50:04.237Z"
   },
   {
    "duration": 9,
    "start_time": "2024-11-05T01:50:05.732Z"
   },
   {
    "duration": 4818,
    "start_time": "2024-11-05T01:50:07.865Z"
   },
   {
    "duration": 11,
    "start_time": "2024-11-05T01:50:17.296Z"
   },
   {
    "duration": 188913,
    "start_time": "2024-11-05T01:51:05.081Z"
   },
   {
    "duration": 10,
    "start_time": "2024-11-05T01:56:59.687Z"
   },
   {
    "duration": 2095,
    "start_time": "2024-11-05T21:34:19.632Z"
   },
   {
    "duration": 1064,
    "start_time": "2024-11-05T21:34:21.730Z"
   },
   {
    "duration": 62,
    "start_time": "2024-11-05T21:34:22.796Z"
   },
   {
    "duration": 4,
    "start_time": "2024-11-05T21:34:22.859Z"
   },
   {
    "duration": 13,
    "start_time": "2024-11-05T21:34:22.867Z"
   },
   {
    "duration": 4,
    "start_time": "2024-11-05T21:34:22.882Z"
   },
   {
    "duration": 11,
    "start_time": "2024-11-05T21:34:22.888Z"
   },
   {
    "duration": 7,
    "start_time": "2024-11-05T21:34:22.900Z"
   },
   {
    "duration": 5,
    "start_time": "2024-11-05T21:34:22.909Z"
   },
   {
    "duration": 10,
    "start_time": "2024-11-05T21:34:22.916Z"
   },
   {
    "duration": 12,
    "start_time": "2024-11-05T21:34:22.928Z"
   },
   {
    "duration": 4,
    "start_time": "2024-11-05T21:34:22.971Z"
   },
   {
    "duration": 11,
    "start_time": "2024-11-05T21:34:22.977Z"
   },
   {
    "duration": 6,
    "start_time": "2024-11-05T21:34:22.994Z"
   },
   {
    "duration": 3,
    "start_time": "2024-11-05T21:34:23.002Z"
   },
   {
    "duration": 9,
    "start_time": "2024-11-05T21:34:23.007Z"
   },
   {
    "duration": 66,
    "start_time": "2024-11-05T21:34:23.018Z"
   },
   {
    "duration": 12,
    "start_time": "2024-11-05T21:34:23.087Z"
   },
   {
    "duration": 4,
    "start_time": "2024-11-05T21:34:23.101Z"
   },
   {
    "duration": 10,
    "start_time": "2024-11-05T21:34:23.107Z"
   },
   {
    "duration": 13,
    "start_time": "2024-11-05T21:34:23.119Z"
   },
   {
    "duration": 46,
    "start_time": "2024-11-05T21:34:23.134Z"
   },
   {
    "duration": 10,
    "start_time": "2024-11-05T21:34:23.182Z"
   },
   {
    "duration": 24,
    "start_time": "2024-11-05T21:34:23.194Z"
   },
   {
    "duration": 7,
    "start_time": "2024-11-05T21:34:23.220Z"
   },
   {
    "duration": 57,
    "start_time": "2024-11-05T21:34:23.229Z"
   },
   {
    "duration": 7,
    "start_time": "2024-11-05T21:34:23.290Z"
   },
   {
    "duration": 10,
    "start_time": "2024-11-05T21:34:23.299Z"
   },
   {
    "duration": 4,
    "start_time": "2024-11-05T21:34:23.311Z"
   },
   {
    "duration": 527,
    "start_time": "2024-11-05T21:34:23.317Z"
   },
   {
    "duration": 14,
    "start_time": "2024-11-05T21:34:23.846Z"
   },
   {
    "duration": 763,
    "start_time": "2024-11-05T21:34:23.870Z"
   },
   {
    "duration": 5,
    "start_time": "2024-11-05T21:34:24.635Z"
   },
   {
    "duration": 4,
    "start_time": "2024-11-05T21:34:24.642Z"
   },
   {
    "duration": 186,
    "start_time": "2024-11-05T21:34:24.647Z"
   },
   {
    "duration": 142,
    "start_time": "2024-11-05T21:34:24.835Z"
   },
   {
    "duration": 8,
    "start_time": "2024-11-05T21:34:24.979Z"
   },
   {
    "duration": 7,
    "start_time": "2024-11-05T21:34:24.989Z"
   },
   {
    "duration": 4,
    "start_time": "2024-11-05T21:34:25.000Z"
   },
   {
    "duration": 149,
    "start_time": "2024-11-05T21:34:25.006Z"
   },
   {
    "duration": 220,
    "start_time": "2024-11-05T21:34:25.160Z"
   },
   {
    "duration": 896,
    "start_time": "2024-11-05T21:34:25.382Z"
   },
   {
    "duration": 9,
    "start_time": "2024-11-05T21:34:26.280Z"
   },
   {
    "duration": 9,
    "start_time": "2024-11-05T21:34:26.291Z"
   },
   {
    "duration": 6,
    "start_time": "2024-11-05T21:34:26.302Z"
   },
   {
    "duration": 6,
    "start_time": "2024-11-05T21:34:26.310Z"
   },
   {
    "duration": 4,
    "start_time": "2024-11-05T21:34:26.317Z"
   },
   {
    "duration": 13,
    "start_time": "2024-11-05T21:34:26.322Z"
   },
   {
    "duration": 10,
    "start_time": "2024-11-05T21:34:26.371Z"
   },
   {
    "duration": 15,
    "start_time": "2024-11-05T21:34:26.383Z"
   },
   {
    "duration": 5,
    "start_time": "2024-11-05T21:34:26.401Z"
   },
   {
    "duration": 17,
    "start_time": "2024-11-05T21:34:26.408Z"
   },
   {
    "duration": 8,
    "start_time": "2024-11-05T21:34:26.427Z"
   },
   {
    "duration": 43067,
    "start_time": "2024-11-05T21:34:26.437Z"
   },
   {
    "duration": 11,
    "start_time": "2024-11-05T21:35:09.506Z"
   },
   {
    "duration": 529900,
    "start_time": "2024-11-05T21:35:09.519Z"
   },
   {
    "duration": 10,
    "start_time": "2024-11-05T21:43:59.421Z"
   },
   {
    "duration": 1905,
    "start_time": "2024-11-09T20:28:09.316Z"
   },
   {
    "duration": 2736,
    "start_time": "2024-11-09T20:28:12.241Z"
   },
   {
    "duration": 59,
    "start_time": "2024-11-09T20:28:16.386Z"
   },
   {
    "duration": 3,
    "start_time": "2024-11-09T20:28:18.216Z"
   },
   {
    "duration": 12,
    "start_time": "2024-11-09T20:28:19.505Z"
   },
   {
    "duration": 3,
    "start_time": "2024-11-09T20:28:20.129Z"
   },
   {
    "duration": 11,
    "start_time": "2024-11-09T20:28:21.464Z"
   },
   {
    "duration": 7,
    "start_time": "2024-11-09T20:28:22.291Z"
   },
   {
    "duration": 2,
    "start_time": "2024-11-09T20:28:23.244Z"
   },
   {
    "duration": 10,
    "start_time": "2024-11-09T20:28:53.169Z"
   },
   {
    "duration": 9,
    "start_time": "2024-11-09T20:28:53.827Z"
   },
   {
    "duration": 3,
    "start_time": "2024-11-09T20:28:54.897Z"
   },
   {
    "duration": 8,
    "start_time": "2024-11-09T20:29:00.576Z"
   },
   {
    "duration": 6,
    "start_time": "2024-11-09T20:29:01.608Z"
   },
   {
    "duration": 3,
    "start_time": "2024-11-09T20:30:23.551Z"
   },
   {
    "duration": 7,
    "start_time": "2024-11-09T20:30:24.577Z"
   },
   {
    "duration": 29,
    "start_time": "2024-11-09T20:30:26.806Z"
   },
   {
    "duration": 14,
    "start_time": "2024-11-09T20:30:28.207Z"
   },
   {
    "duration": 7,
    "start_time": "2024-11-09T20:30:29.013Z"
   },
   {
    "duration": 10,
    "start_time": "2024-11-09T20:30:29.789Z"
   },
   {
    "duration": 12,
    "start_time": "2024-11-09T20:30:30.367Z"
   },
   {
    "duration": 18,
    "start_time": "2024-11-09T20:30:32.599Z"
   },
   {
    "duration": 8,
    "start_time": "2024-11-09T20:30:33.669Z"
   },
   {
    "duration": 21,
    "start_time": "2024-11-09T20:30:34.394Z"
   },
   {
    "duration": 6,
    "start_time": "2024-11-09T20:30:35.332Z"
   },
   {
    "duration": 25,
    "start_time": "2024-11-09T20:30:36.119Z"
   },
   {
    "duration": 6,
    "start_time": "2024-11-09T20:30:36.914Z"
   },
   {
    "duration": 7,
    "start_time": "2024-11-09T20:30:38.071Z"
   },
   {
    "duration": 5,
    "start_time": "2024-11-09T20:30:41.204Z"
   },
   {
    "duration": 546,
    "start_time": "2024-11-09T20:30:43.113Z"
   },
   {
    "duration": 14,
    "start_time": "2024-11-09T20:30:44.903Z"
   },
   {
    "duration": 637,
    "start_time": "2024-11-09T20:30:46.110Z"
   },
   {
    "duration": 5,
    "start_time": "2024-11-09T20:30:48.961Z"
   },
   {
    "duration": 4,
    "start_time": "2024-11-09T20:30:49.136Z"
   },
   {
    "duration": 157,
    "start_time": "2024-11-09T20:30:49.348Z"
   },
   {
    "duration": 132,
    "start_time": "2024-11-09T20:30:49.602Z"
   },
   {
    "duration": 8,
    "start_time": "2024-11-09T20:30:50.067Z"
   },
   {
    "duration": 7,
    "start_time": "2024-11-09T20:30:50.313Z"
   },
   {
    "duration": 3,
    "start_time": "2024-11-09T20:30:50.782Z"
   },
   {
    "duration": 111,
    "start_time": "2024-11-09T20:30:51.040Z"
   },
   {
    "duration": 133,
    "start_time": "2024-11-09T20:30:51.303Z"
   },
   {
    "duration": 905,
    "start_time": "2024-11-09T20:30:53.508Z"
   },
   {
    "duration": 8,
    "start_time": "2024-11-09T20:30:54.415Z"
   },
   {
    "duration": 8,
    "start_time": "2024-11-09T20:30:54.928Z"
   },
   {
    "duration": 6,
    "start_time": "2024-11-09T20:30:58.655Z"
   },
   {
    "duration": 6,
    "start_time": "2024-11-09T20:30:58.950Z"
   },
   {
    "duration": 4,
    "start_time": "2024-11-09T20:30:59.664Z"
   },
   {
    "duration": 11,
    "start_time": "2024-11-09T20:31:00.010Z"
   },
   {
    "duration": 8,
    "start_time": "2024-11-09T20:31:00.682Z"
   },
   {
    "duration": 12,
    "start_time": "2024-11-09T20:31:01.612Z"
   },
   {
    "duration": 4,
    "start_time": "2024-11-09T20:31:02.328Z"
   },
   {
    "duration": 15,
    "start_time": "2024-11-09T20:31:08.235Z"
   },
   {
    "duration": 7,
    "start_time": "2024-11-09T20:32:28.422Z"
   },
   {
    "duration": 3642,
    "start_time": "2024-11-09T20:32:30.862Z"
   },
   {
    "duration": 10,
    "start_time": "2024-11-09T20:34:36.357Z"
   },
   {
    "duration": 181747,
    "start_time": "2024-11-09T20:34:40.594Z"
   },
   {
    "duration": 15,
    "start_time": "2024-11-09T23:34:24.079Z"
   },
   {
    "duration": 499607,
    "start_time": "2024-11-09T23:35:12.238Z"
   },
   {
    "duration": 10,
    "start_time": "2024-11-09T23:43:39.966Z"
   }
  ],
  "colab": {
   "provenance": []
  },
  "kernelspec": {
   "display_name": "Python 3 (ipykernel)",
   "language": "python",
   "name": "python3"
  },
  "language_info": {
   "codemirror_mode": {
    "name": "ipython",
    "version": 3
   },
   "file_extension": ".py",
   "mimetype": "text/x-python",
   "name": "python",
   "nbconvert_exporter": "python",
   "pygments_lexer": "ipython3",
   "version": "3.9.19"
  },
  "toc": {
   "base_numbering": 1,
   "nav_menu": {},
   "number_sections": true,
   "sideBar": true,
   "skip_h1_title": true,
   "title_cell": "Table of Contents",
   "title_sidebar": "Contents",
   "toc_cell": false,
   "toc_position": {},
   "toc_section_display": true,
   "toc_window_display": false
  }
 },
 "nbformat": 4,
 "nbformat_minor": 1
}
