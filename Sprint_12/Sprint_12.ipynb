{
 "cells": [
  {
   "cell_type": "markdown",
   "metadata": {},
   "source": [
    "# Predicción de valor de coches usados"
   ]
  },
  {
   "cell_type": "markdown",
   "metadata": {},
   "source": [
    "El servicio de venta de autos usados Rusty Bargain está desarrollando una aplicación para atraer nuevos clientes. Gracias a esa app, puedes averiguar rápidamente el valor de mercado de tu coche. Tienes acceso al historial: especificaciones técnicas, versiones de equipamiento y precios. Tienes que crear un modelo que determine el valor de mercado.\n",
    "A Rusty Bargain le interesa:\n",
    "- la calidad de la predicción;\n",
    "- la velocidad de la predicción;\n",
    "- el tiempo requerido para el entrenamiento"
   ]
  },
  {
   "cell_type": "markdown",
   "metadata": {},
   "source": [
    "## Descripcion de los datos"
   ]
  },
  {
   "cell_type": "markdown",
   "metadata": {},
   "source": [
    "__Características__\n",
    "\n",
    "* __`DateCrawled`__ — fecha en la que se descargó el perfil de la base de datos\n",
    "\n",
    "\n",
    "* __`VehicleType`__ — tipo de carrocería del vehículo\n",
    "\n",
    "\n",
    "* __`RegistrationYear`__ — año de matriculación del vehículo\n",
    "\n",
    "\n",
    "* __`Gearbox`__ — tipo de caja de cambios\n",
    "\n",
    "\n",
    "* __`Power`__ — potencia (CV)\n",
    "\n",
    "\n",
    "* __`Model`__ — modelo del vehículo\n",
    "\n",
    "\n",
    "* __`Mileage`__ — kilometraje (medido en km de acuerdo con las especificidades regionales del conjunto de datos)\n",
    "\n",
    "\n",
    "* __`RegistrationMonth`__ — mes de matriculación del vehículo\n",
    "\n",
    "\n",
    "* __`FuelType`__ — tipo de combustible\n",
    "\n",
    "\n",
    "* __`Brand`__ — marca del vehículo\n",
    "\n",
    "\n",
    "* __`NotRepaired`__ — vehículo con o sin reparación\n",
    "\n",
    "\n",
    "* __`DateCreated`__ — fecha de creación del perfil\n",
    "\n",
    "\n",
    "* __`NumberOfPictures`__ — número de fotos del vehículo\n",
    "\n",
    "\n",
    "* __`PostalCode`__ — código postal del propietario del perfil (usuario)\n",
    "\n",
    "\n",
    "* __`LastSeen`__ — fecha de la última vez que el usuario estuvo activo\n",
    "\n",
    "__Objetivo__\n",
    "\n",
    "* __`Price`__ — precio (en euros)"
   ]
  },
  {
   "cell_type": "markdown",
   "metadata": {},
   "source": [
    "## Preparación de datos"
   ]
  },
  {
   "cell_type": "markdown",
   "metadata": {},
   "source": [
    "### Carga de Datos"
   ]
  },
  {
   "cell_type": "code",
   "execution_count": 1,
   "metadata": {},
   "outputs": [],
   "source": [
    "# Importar librerias necesarias\n",
    "import pandas as pd\n",
    "import numpy as np\n",
    "from sklearn.model_selection import train_test_split\n",
    "from sklearn.metrics import mean_squared_error\n",
    "from sklearn.linear_model import LinearRegression\n",
    "from sklearn.tree import DecisionTreeRegressor\n",
    "from sklearn.ensemble import RandomForestRegressor\n",
    "import lightgbm as lgb\n",
    "import time"
   ]
  },
  {
   "cell_type": "code",
   "execution_count": 2,
   "metadata": {
    "scrolled": true
   },
   "outputs": [
    {
     "data": {
      "text/html": [
       "<div>\n",
       "<style scoped>\n",
       "    .dataframe tbody tr th:only-of-type {\n",
       "        vertical-align: middle;\n",
       "    }\n",
       "\n",
       "    .dataframe tbody tr th {\n",
       "        vertical-align: top;\n",
       "    }\n",
       "\n",
       "    .dataframe thead th {\n",
       "        text-align: right;\n",
       "    }\n",
       "</style>\n",
       "<table border=\"1\" class=\"dataframe\">\n",
       "  <thead>\n",
       "    <tr style=\"text-align: right;\">\n",
       "      <th></th>\n",
       "      <th>DateCrawled</th>\n",
       "      <th>Price</th>\n",
       "      <th>VehicleType</th>\n",
       "      <th>RegistrationYear</th>\n",
       "      <th>Gearbox</th>\n",
       "      <th>Power</th>\n",
       "      <th>Model</th>\n",
       "      <th>Mileage</th>\n",
       "      <th>RegistrationMonth</th>\n",
       "      <th>FuelType</th>\n",
       "      <th>Brand</th>\n",
       "      <th>NotRepaired</th>\n",
       "      <th>DateCreated</th>\n",
       "      <th>NumberOfPictures</th>\n",
       "      <th>PostalCode</th>\n",
       "      <th>LastSeen</th>\n",
       "    </tr>\n",
       "  </thead>\n",
       "  <tbody>\n",
       "    <tr>\n",
       "      <th>0</th>\n",
       "      <td>24/03/2016 11:52</td>\n",
       "      <td>480</td>\n",
       "      <td>NaN</td>\n",
       "      <td>1993</td>\n",
       "      <td>manual</td>\n",
       "      <td>0</td>\n",
       "      <td>golf</td>\n",
       "      <td>150000</td>\n",
       "      <td>0</td>\n",
       "      <td>petrol</td>\n",
       "      <td>volkswagen</td>\n",
       "      <td>NaN</td>\n",
       "      <td>24/03/2016 00:00</td>\n",
       "      <td>0</td>\n",
       "      <td>70435</td>\n",
       "      <td>07/04/2016 03:16</td>\n",
       "    </tr>\n",
       "    <tr>\n",
       "      <th>1</th>\n",
       "      <td>24/03/2016 10:58</td>\n",
       "      <td>18300</td>\n",
       "      <td>coupe</td>\n",
       "      <td>2011</td>\n",
       "      <td>manual</td>\n",
       "      <td>190</td>\n",
       "      <td>NaN</td>\n",
       "      <td>125000</td>\n",
       "      <td>5</td>\n",
       "      <td>gasoline</td>\n",
       "      <td>audi</td>\n",
       "      <td>yes</td>\n",
       "      <td>24/03/2016 00:00</td>\n",
       "      <td>0</td>\n",
       "      <td>66954</td>\n",
       "      <td>07/04/2016 01:46</td>\n",
       "    </tr>\n",
       "    <tr>\n",
       "      <th>2</th>\n",
       "      <td>14/03/2016 12:52</td>\n",
       "      <td>9800</td>\n",
       "      <td>suv</td>\n",
       "      <td>2004</td>\n",
       "      <td>auto</td>\n",
       "      <td>163</td>\n",
       "      <td>grand</td>\n",
       "      <td>125000</td>\n",
       "      <td>8</td>\n",
       "      <td>gasoline</td>\n",
       "      <td>jeep</td>\n",
       "      <td>NaN</td>\n",
       "      <td>14/03/2016 00:00</td>\n",
       "      <td>0</td>\n",
       "      <td>90480</td>\n",
       "      <td>05/04/2016 12:47</td>\n",
       "    </tr>\n",
       "    <tr>\n",
       "      <th>3</th>\n",
       "      <td>17/03/2016 16:54</td>\n",
       "      <td>1500</td>\n",
       "      <td>small</td>\n",
       "      <td>2001</td>\n",
       "      <td>manual</td>\n",
       "      <td>75</td>\n",
       "      <td>golf</td>\n",
       "      <td>150000</td>\n",
       "      <td>6</td>\n",
       "      <td>petrol</td>\n",
       "      <td>volkswagen</td>\n",
       "      <td>no</td>\n",
       "      <td>17/03/2016 00:00</td>\n",
       "      <td>0</td>\n",
       "      <td>91074</td>\n",
       "      <td>17/03/2016 17:40</td>\n",
       "    </tr>\n",
       "    <tr>\n",
       "      <th>4</th>\n",
       "      <td>31/03/2016 17:25</td>\n",
       "      <td>3600</td>\n",
       "      <td>small</td>\n",
       "      <td>2008</td>\n",
       "      <td>manual</td>\n",
       "      <td>69</td>\n",
       "      <td>fabia</td>\n",
       "      <td>90000</td>\n",
       "      <td>7</td>\n",
       "      <td>gasoline</td>\n",
       "      <td>skoda</td>\n",
       "      <td>no</td>\n",
       "      <td>31/03/2016 00:00</td>\n",
       "      <td>0</td>\n",
       "      <td>60437</td>\n",
       "      <td>06/04/2016 10:17</td>\n",
       "    </tr>\n",
       "    <tr>\n",
       "      <th>...</th>\n",
       "      <td>...</td>\n",
       "      <td>...</td>\n",
       "      <td>...</td>\n",
       "      <td>...</td>\n",
       "      <td>...</td>\n",
       "      <td>...</td>\n",
       "      <td>...</td>\n",
       "      <td>...</td>\n",
       "      <td>...</td>\n",
       "      <td>...</td>\n",
       "      <td>...</td>\n",
       "      <td>...</td>\n",
       "      <td>...</td>\n",
       "      <td>...</td>\n",
       "      <td>...</td>\n",
       "      <td>...</td>\n",
       "    </tr>\n",
       "    <tr>\n",
       "      <th>354364</th>\n",
       "      <td>21/03/2016 09:50</td>\n",
       "      <td>0</td>\n",
       "      <td>NaN</td>\n",
       "      <td>2005</td>\n",
       "      <td>manual</td>\n",
       "      <td>0</td>\n",
       "      <td>colt</td>\n",
       "      <td>150000</td>\n",
       "      <td>7</td>\n",
       "      <td>petrol</td>\n",
       "      <td>mitsubishi</td>\n",
       "      <td>yes</td>\n",
       "      <td>21/03/2016 00:00</td>\n",
       "      <td>0</td>\n",
       "      <td>2694</td>\n",
       "      <td>21/03/2016 10:42</td>\n",
       "    </tr>\n",
       "    <tr>\n",
       "      <th>354365</th>\n",
       "      <td>14/03/2016 17:48</td>\n",
       "      <td>2200</td>\n",
       "      <td>NaN</td>\n",
       "      <td>2005</td>\n",
       "      <td>NaN</td>\n",
       "      <td>0</td>\n",
       "      <td>NaN</td>\n",
       "      <td>20000</td>\n",
       "      <td>1</td>\n",
       "      <td>NaN</td>\n",
       "      <td>sonstige_autos</td>\n",
       "      <td>NaN</td>\n",
       "      <td>14/03/2016 00:00</td>\n",
       "      <td>0</td>\n",
       "      <td>39576</td>\n",
       "      <td>06/04/2016 00:46</td>\n",
       "    </tr>\n",
       "    <tr>\n",
       "      <th>354366</th>\n",
       "      <td>05/03/2016 19:56</td>\n",
       "      <td>1199</td>\n",
       "      <td>convertible</td>\n",
       "      <td>2000</td>\n",
       "      <td>auto</td>\n",
       "      <td>101</td>\n",
       "      <td>fortwo</td>\n",
       "      <td>125000</td>\n",
       "      <td>3</td>\n",
       "      <td>petrol</td>\n",
       "      <td>smart</td>\n",
       "      <td>no</td>\n",
       "      <td>05/03/2016 00:00</td>\n",
       "      <td>0</td>\n",
       "      <td>26135</td>\n",
       "      <td>11/03/2016 18:17</td>\n",
       "    </tr>\n",
       "    <tr>\n",
       "      <th>354367</th>\n",
       "      <td>19/03/2016 18:57</td>\n",
       "      <td>9200</td>\n",
       "      <td>bus</td>\n",
       "      <td>1996</td>\n",
       "      <td>manual</td>\n",
       "      <td>102</td>\n",
       "      <td>transporter</td>\n",
       "      <td>150000</td>\n",
       "      <td>3</td>\n",
       "      <td>gasoline</td>\n",
       "      <td>volkswagen</td>\n",
       "      <td>no</td>\n",
       "      <td>19/03/2016 00:00</td>\n",
       "      <td>0</td>\n",
       "      <td>87439</td>\n",
       "      <td>07/04/2016 07:15</td>\n",
       "    </tr>\n",
       "    <tr>\n",
       "      <th>354368</th>\n",
       "      <td>20/03/2016 19:41</td>\n",
       "      <td>3400</td>\n",
       "      <td>wagon</td>\n",
       "      <td>2002</td>\n",
       "      <td>manual</td>\n",
       "      <td>100</td>\n",
       "      <td>golf</td>\n",
       "      <td>150000</td>\n",
       "      <td>6</td>\n",
       "      <td>gasoline</td>\n",
       "      <td>volkswagen</td>\n",
       "      <td>NaN</td>\n",
       "      <td>20/03/2016 00:00</td>\n",
       "      <td>0</td>\n",
       "      <td>40764</td>\n",
       "      <td>24/03/2016 12:45</td>\n",
       "    </tr>\n",
       "  </tbody>\n",
       "</table>\n",
       "<p>354369 rows × 16 columns</p>\n",
       "</div>"
      ],
      "text/plain": [
       "             DateCrawled  Price  VehicleType  RegistrationYear Gearbox  Power  \\\n",
       "0       24/03/2016 11:52    480          NaN              1993  manual      0   \n",
       "1       24/03/2016 10:58  18300        coupe              2011  manual    190   \n",
       "2       14/03/2016 12:52   9800          suv              2004    auto    163   \n",
       "3       17/03/2016 16:54   1500        small              2001  manual     75   \n",
       "4       31/03/2016 17:25   3600        small              2008  manual     69   \n",
       "...                  ...    ...          ...               ...     ...    ...   \n",
       "354364  21/03/2016 09:50      0          NaN              2005  manual      0   \n",
       "354365  14/03/2016 17:48   2200          NaN              2005     NaN      0   \n",
       "354366  05/03/2016 19:56   1199  convertible              2000    auto    101   \n",
       "354367  19/03/2016 18:57   9200          bus              1996  manual    102   \n",
       "354368  20/03/2016 19:41   3400        wagon              2002  manual    100   \n",
       "\n",
       "              Model  Mileage  RegistrationMonth  FuelType           Brand  \\\n",
       "0              golf   150000                  0    petrol      volkswagen   \n",
       "1               NaN   125000                  5  gasoline            audi   \n",
       "2             grand   125000                  8  gasoline            jeep   \n",
       "3              golf   150000                  6    petrol      volkswagen   \n",
       "4             fabia    90000                  7  gasoline           skoda   \n",
       "...             ...      ...                ...       ...             ...   \n",
       "354364         colt   150000                  7    petrol      mitsubishi   \n",
       "354365          NaN    20000                  1       NaN  sonstige_autos   \n",
       "354366       fortwo   125000                  3    petrol           smart   \n",
       "354367  transporter   150000                  3  gasoline      volkswagen   \n",
       "354368         golf   150000                  6  gasoline      volkswagen   \n",
       "\n",
       "       NotRepaired       DateCreated  NumberOfPictures  PostalCode  \\\n",
       "0              NaN  24/03/2016 00:00                 0       70435   \n",
       "1              yes  24/03/2016 00:00                 0       66954   \n",
       "2              NaN  14/03/2016 00:00                 0       90480   \n",
       "3               no  17/03/2016 00:00                 0       91074   \n",
       "4               no  31/03/2016 00:00                 0       60437   \n",
       "...            ...               ...               ...         ...   \n",
       "354364         yes  21/03/2016 00:00                 0        2694   \n",
       "354365         NaN  14/03/2016 00:00                 0       39576   \n",
       "354366          no  05/03/2016 00:00                 0       26135   \n",
       "354367          no  19/03/2016 00:00                 0       87439   \n",
       "354368         NaN  20/03/2016 00:00                 0       40764   \n",
       "\n",
       "                LastSeen  \n",
       "0       07/04/2016 03:16  \n",
       "1       07/04/2016 01:46  \n",
       "2       05/04/2016 12:47  \n",
       "3       17/03/2016 17:40  \n",
       "4       06/04/2016 10:17  \n",
       "...                  ...  \n",
       "354364  21/03/2016 10:42  \n",
       "354365  06/04/2016 00:46  \n",
       "354366  11/03/2016 18:17  \n",
       "354367  07/04/2016 07:15  \n",
       "354368  24/03/2016 12:45  \n",
       "\n",
       "[354369 rows x 16 columns]"
      ]
     },
     "execution_count": 2,
     "metadata": {},
     "output_type": "execute_result"
    }
   ],
   "source": [
    "# Cargar la base de datos y converirta en DataFrame\n",
    "df = pd.read_csv('/datasets/car_data.csv')\n",
    "\n",
    "df"
   ]
  },
  {
   "cell_type": "markdown",
   "metadata": {},
   "source": [
    "Vamos a normalizar las columnas para que sus nombres sean más descriptivos, consistentes y fáciles de entender, lo que facilitará el análisis y la interpretación de los datos."
   ]
  },
  {
   "cell_type": "code",
   "execution_count": 3,
   "metadata": {},
   "outputs": [
    {
     "name": "stdout",
     "output_type": "stream",
     "text": [
      "Index(['date_crawled', 'price', 'vehicle_type', 'registration_year', 'gearbox',\n",
      "       'power', 'model', 'mileage', 'registration_month', 'fuel_type', 'brand',\n",
      "       'not_repaired', 'date_created', 'number_of_pictures', 'postal_code',\n",
      "       'last_seen'],\n",
      "      dtype='object')\n"
     ]
    }
   ],
   "source": [
    "# Normalización de columnas\n",
    "\n",
    "# Diccionario con los nuevos nombres\n",
    "new_column_names = {\n",
    "    'DateCrawled': 'date_crawled',\n",
    "    'Price': 'price',\n",
    "    'VehicleType': 'vehicle_type',\n",
    "    'RegistrationYear': 'registration_year',\n",
    "    'Gearbox': 'gearbox',\n",
    "    'Power': 'power',\n",
    "    'Model': 'model',\n",
    "    'Mileage': 'mileage',\n",
    "    'RegistrationMonth': 'registration_month',\n",
    "    'FuelType': 'fuel_type',\n",
    "    'Brand': 'brand',\n",
    "    'NotRepaired': 'not_repaired',\n",
    "    'DateCreated': 'date_created',\n",
    "    'NumberOfPictures': 'number_of_pictures',\n",
    "    'PostalCode': 'postal_code',\n",
    "    'LastSeen': 'last_seen'\n",
    "}\n",
    "\n",
    "# Renombrar las columnas\n",
    "df.rename(columns=new_column_names, inplace=True)\n",
    "\n",
    "# Verificar los nuevos nombres de las columnas\n",
    "print(df.columns)"
   ]
  },
  {
   "cell_type": "code",
   "execution_count": 4,
   "metadata": {},
   "outputs": [
    {
     "name": "stdout",
     "output_type": "stream",
     "text": [
      "<class 'pandas.core.frame.DataFrame'>\n",
      "RangeIndex: 354369 entries, 0 to 354368\n",
      "Data columns (total 16 columns):\n",
      " #   Column              Non-Null Count   Dtype \n",
      "---  ------              --------------   ----- \n",
      " 0   date_crawled        354369 non-null  object\n",
      " 1   price               354369 non-null  int64 \n",
      " 2   vehicle_type        316879 non-null  object\n",
      " 3   registration_year   354369 non-null  int64 \n",
      " 4   gearbox             334536 non-null  object\n",
      " 5   power               354369 non-null  int64 \n",
      " 6   model               334664 non-null  object\n",
      " 7   mileage             354369 non-null  int64 \n",
      " 8   registration_month  354369 non-null  int64 \n",
      " 9   fuel_type           321474 non-null  object\n",
      " 10  brand               354369 non-null  object\n",
      " 11  not_repaired        283215 non-null  object\n",
      " 12  date_created        354369 non-null  object\n",
      " 13  number_of_pictures  354369 non-null  int64 \n",
      " 14  postal_code         354369 non-null  int64 \n",
      " 15  last_seen           354369 non-null  object\n",
      "dtypes: int64(7), object(9)\n",
      "memory usage: 43.3+ MB\n"
     ]
    }
   ],
   "source": [
    "# Verificar el tipo de datos para cada columna\n",
    "df.info()"
   ]
  },
  {
   "cell_type": "markdown",
   "metadata": {},
   "source": [
    "### Transformación de datos"
   ]
  },
  {
   "cell_type": "markdown",
   "metadata": {},
   "source": [
    "Eliminamos registros con años fuera de rango (como los valores menores a 1900 o mayores a 2022)."
   ]
  },
  {
   "cell_type": "code",
   "execution_count": 5,
   "metadata": {},
   "outputs": [
    {
     "data": {
      "text/html": [
       "<div>\n",
       "<style scoped>\n",
       "    .dataframe tbody tr th:only-of-type {\n",
       "        vertical-align: middle;\n",
       "    }\n",
       "\n",
       "    .dataframe tbody tr th {\n",
       "        vertical-align: top;\n",
       "    }\n",
       "\n",
       "    .dataframe thead th {\n",
       "        text-align: right;\n",
       "    }\n",
       "</style>\n",
       "<table border=\"1\" class=\"dataframe\">\n",
       "  <thead>\n",
       "    <tr style=\"text-align: right;\">\n",
       "      <th></th>\n",
       "      <th>date_crawled</th>\n",
       "      <th>price</th>\n",
       "      <th>vehicle_type</th>\n",
       "      <th>registration_year</th>\n",
       "      <th>gearbox</th>\n",
       "      <th>power</th>\n",
       "      <th>model</th>\n",
       "      <th>mileage</th>\n",
       "      <th>registration_month</th>\n",
       "      <th>fuel_type</th>\n",
       "      <th>brand</th>\n",
       "      <th>not_repaired</th>\n",
       "      <th>date_created</th>\n",
       "      <th>number_of_pictures</th>\n",
       "      <th>postal_code</th>\n",
       "      <th>last_seen</th>\n",
       "    </tr>\n",
       "  </thead>\n",
       "  <tbody>\n",
       "    <tr>\n",
       "      <th>0</th>\n",
       "      <td>24/03/2016 11:52</td>\n",
       "      <td>480</td>\n",
       "      <td>NaN</td>\n",
       "      <td>1993</td>\n",
       "      <td>manual</td>\n",
       "      <td>0</td>\n",
       "      <td>golf</td>\n",
       "      <td>150000</td>\n",
       "      <td>0</td>\n",
       "      <td>petrol</td>\n",
       "      <td>volkswagen</td>\n",
       "      <td>NaN</td>\n",
       "      <td>24/03/2016 00:00</td>\n",
       "      <td>0</td>\n",
       "      <td>70435</td>\n",
       "      <td>07/04/2016 03:16</td>\n",
       "    </tr>\n",
       "    <tr>\n",
       "      <th>1</th>\n",
       "      <td>24/03/2016 10:58</td>\n",
       "      <td>18300</td>\n",
       "      <td>coupe</td>\n",
       "      <td>2011</td>\n",
       "      <td>manual</td>\n",
       "      <td>190</td>\n",
       "      <td>NaN</td>\n",
       "      <td>125000</td>\n",
       "      <td>5</td>\n",
       "      <td>gasoline</td>\n",
       "      <td>audi</td>\n",
       "      <td>yes</td>\n",
       "      <td>24/03/2016 00:00</td>\n",
       "      <td>0</td>\n",
       "      <td>66954</td>\n",
       "      <td>07/04/2016 01:46</td>\n",
       "    </tr>\n",
       "    <tr>\n",
       "      <th>2</th>\n",
       "      <td>14/03/2016 12:52</td>\n",
       "      <td>9800</td>\n",
       "      <td>suv</td>\n",
       "      <td>2004</td>\n",
       "      <td>auto</td>\n",
       "      <td>163</td>\n",
       "      <td>grand</td>\n",
       "      <td>125000</td>\n",
       "      <td>8</td>\n",
       "      <td>gasoline</td>\n",
       "      <td>jeep</td>\n",
       "      <td>NaN</td>\n",
       "      <td>14/03/2016 00:00</td>\n",
       "      <td>0</td>\n",
       "      <td>90480</td>\n",
       "      <td>05/04/2016 12:47</td>\n",
       "    </tr>\n",
       "    <tr>\n",
       "      <th>3</th>\n",
       "      <td>17/03/2016 16:54</td>\n",
       "      <td>1500</td>\n",
       "      <td>small</td>\n",
       "      <td>2001</td>\n",
       "      <td>manual</td>\n",
       "      <td>75</td>\n",
       "      <td>golf</td>\n",
       "      <td>150000</td>\n",
       "      <td>6</td>\n",
       "      <td>petrol</td>\n",
       "      <td>volkswagen</td>\n",
       "      <td>no</td>\n",
       "      <td>17/03/2016 00:00</td>\n",
       "      <td>0</td>\n",
       "      <td>91074</td>\n",
       "      <td>17/03/2016 17:40</td>\n",
       "    </tr>\n",
       "    <tr>\n",
       "      <th>4</th>\n",
       "      <td>31/03/2016 17:25</td>\n",
       "      <td>3600</td>\n",
       "      <td>small</td>\n",
       "      <td>2008</td>\n",
       "      <td>manual</td>\n",
       "      <td>69</td>\n",
       "      <td>fabia</td>\n",
       "      <td>90000</td>\n",
       "      <td>7</td>\n",
       "      <td>gasoline</td>\n",
       "      <td>skoda</td>\n",
       "      <td>no</td>\n",
       "      <td>31/03/2016 00:00</td>\n",
       "      <td>0</td>\n",
       "      <td>60437</td>\n",
       "      <td>06/04/2016 10:17</td>\n",
       "    </tr>\n",
       "    <tr>\n",
       "      <th>...</th>\n",
       "      <td>...</td>\n",
       "      <td>...</td>\n",
       "      <td>...</td>\n",
       "      <td>...</td>\n",
       "      <td>...</td>\n",
       "      <td>...</td>\n",
       "      <td>...</td>\n",
       "      <td>...</td>\n",
       "      <td>...</td>\n",
       "      <td>...</td>\n",
       "      <td>...</td>\n",
       "      <td>...</td>\n",
       "      <td>...</td>\n",
       "      <td>...</td>\n",
       "      <td>...</td>\n",
       "      <td>...</td>\n",
       "    </tr>\n",
       "    <tr>\n",
       "      <th>354364</th>\n",
       "      <td>21/03/2016 09:50</td>\n",
       "      <td>0</td>\n",
       "      <td>NaN</td>\n",
       "      <td>2005</td>\n",
       "      <td>manual</td>\n",
       "      <td>0</td>\n",
       "      <td>colt</td>\n",
       "      <td>150000</td>\n",
       "      <td>7</td>\n",
       "      <td>petrol</td>\n",
       "      <td>mitsubishi</td>\n",
       "      <td>yes</td>\n",
       "      <td>21/03/2016 00:00</td>\n",
       "      <td>0</td>\n",
       "      <td>2694</td>\n",
       "      <td>21/03/2016 10:42</td>\n",
       "    </tr>\n",
       "    <tr>\n",
       "      <th>354365</th>\n",
       "      <td>14/03/2016 17:48</td>\n",
       "      <td>2200</td>\n",
       "      <td>NaN</td>\n",
       "      <td>2005</td>\n",
       "      <td>NaN</td>\n",
       "      <td>0</td>\n",
       "      <td>NaN</td>\n",
       "      <td>20000</td>\n",
       "      <td>1</td>\n",
       "      <td>NaN</td>\n",
       "      <td>sonstige_autos</td>\n",
       "      <td>NaN</td>\n",
       "      <td>14/03/2016 00:00</td>\n",
       "      <td>0</td>\n",
       "      <td>39576</td>\n",
       "      <td>06/04/2016 00:46</td>\n",
       "    </tr>\n",
       "    <tr>\n",
       "      <th>354366</th>\n",
       "      <td>05/03/2016 19:56</td>\n",
       "      <td>1199</td>\n",
       "      <td>convertible</td>\n",
       "      <td>2000</td>\n",
       "      <td>auto</td>\n",
       "      <td>101</td>\n",
       "      <td>fortwo</td>\n",
       "      <td>125000</td>\n",
       "      <td>3</td>\n",
       "      <td>petrol</td>\n",
       "      <td>smart</td>\n",
       "      <td>no</td>\n",
       "      <td>05/03/2016 00:00</td>\n",
       "      <td>0</td>\n",
       "      <td>26135</td>\n",
       "      <td>11/03/2016 18:17</td>\n",
       "    </tr>\n",
       "    <tr>\n",
       "      <th>354367</th>\n",
       "      <td>19/03/2016 18:57</td>\n",
       "      <td>9200</td>\n",
       "      <td>bus</td>\n",
       "      <td>1996</td>\n",
       "      <td>manual</td>\n",
       "      <td>102</td>\n",
       "      <td>transporter</td>\n",
       "      <td>150000</td>\n",
       "      <td>3</td>\n",
       "      <td>gasoline</td>\n",
       "      <td>volkswagen</td>\n",
       "      <td>no</td>\n",
       "      <td>19/03/2016 00:00</td>\n",
       "      <td>0</td>\n",
       "      <td>87439</td>\n",
       "      <td>07/04/2016 07:15</td>\n",
       "    </tr>\n",
       "    <tr>\n",
       "      <th>354368</th>\n",
       "      <td>20/03/2016 19:41</td>\n",
       "      <td>3400</td>\n",
       "      <td>wagon</td>\n",
       "      <td>2002</td>\n",
       "      <td>manual</td>\n",
       "      <td>100</td>\n",
       "      <td>golf</td>\n",
       "      <td>150000</td>\n",
       "      <td>6</td>\n",
       "      <td>gasoline</td>\n",
       "      <td>volkswagen</td>\n",
       "      <td>NaN</td>\n",
       "      <td>20/03/2016 00:00</td>\n",
       "      <td>0</td>\n",
       "      <td>40764</td>\n",
       "      <td>24/03/2016 12:45</td>\n",
       "    </tr>\n",
       "  </tbody>\n",
       "</table>\n",
       "<p>354198 rows × 16 columns</p>\n",
       "</div>"
      ],
      "text/plain": [
       "            date_crawled  price vehicle_type  registration_year gearbox  \\\n",
       "0       24/03/2016 11:52    480          NaN               1993  manual   \n",
       "1       24/03/2016 10:58  18300        coupe               2011  manual   \n",
       "2       14/03/2016 12:52   9800          suv               2004    auto   \n",
       "3       17/03/2016 16:54   1500        small               2001  manual   \n",
       "4       31/03/2016 17:25   3600        small               2008  manual   \n",
       "...                  ...    ...          ...                ...     ...   \n",
       "354364  21/03/2016 09:50      0          NaN               2005  manual   \n",
       "354365  14/03/2016 17:48   2200          NaN               2005     NaN   \n",
       "354366  05/03/2016 19:56   1199  convertible               2000    auto   \n",
       "354367  19/03/2016 18:57   9200          bus               1996  manual   \n",
       "354368  20/03/2016 19:41   3400        wagon               2002  manual   \n",
       "\n",
       "        power        model  mileage  registration_month fuel_type  \\\n",
       "0           0         golf   150000                   0    petrol   \n",
       "1         190          NaN   125000                   5  gasoline   \n",
       "2         163        grand   125000                   8  gasoline   \n",
       "3          75         golf   150000                   6    petrol   \n",
       "4          69        fabia    90000                   7  gasoline   \n",
       "...       ...          ...      ...                 ...       ...   \n",
       "354364      0         colt   150000                   7    petrol   \n",
       "354365      0          NaN    20000                   1       NaN   \n",
       "354366    101       fortwo   125000                   3    petrol   \n",
       "354367    102  transporter   150000                   3  gasoline   \n",
       "354368    100         golf   150000                   6  gasoline   \n",
       "\n",
       "                 brand not_repaired      date_created  number_of_pictures  \\\n",
       "0           volkswagen          NaN  24/03/2016 00:00                   0   \n",
       "1                 audi          yes  24/03/2016 00:00                   0   \n",
       "2                 jeep          NaN  14/03/2016 00:00                   0   \n",
       "3           volkswagen           no  17/03/2016 00:00                   0   \n",
       "4                skoda           no  31/03/2016 00:00                   0   \n",
       "...                ...          ...               ...                 ...   \n",
       "354364      mitsubishi          yes  21/03/2016 00:00                   0   \n",
       "354365  sonstige_autos          NaN  14/03/2016 00:00                   0   \n",
       "354366           smart           no  05/03/2016 00:00                   0   \n",
       "354367      volkswagen           no  19/03/2016 00:00                   0   \n",
       "354368      volkswagen          NaN  20/03/2016 00:00                   0   \n",
       "\n",
       "        postal_code         last_seen  \n",
       "0             70435  07/04/2016 03:16  \n",
       "1             66954  07/04/2016 01:46  \n",
       "2             90480  05/04/2016 12:47  \n",
       "3             91074  17/03/2016 17:40  \n",
       "4             60437  06/04/2016 10:17  \n",
       "...             ...               ...  \n",
       "354364         2694  21/03/2016 10:42  \n",
       "354365        39576  06/04/2016 00:46  \n",
       "354366        26135  11/03/2016 18:17  \n",
       "354367        87439  07/04/2016 07:15  \n",
       "354368        40764  24/03/2016 12:45  \n",
       "\n",
       "[354198 rows x 16 columns]"
      ]
     },
     "execution_count": 5,
     "metadata": {},
     "output_type": "execute_result"
    }
   ],
   "source": [
    "# Eliminar registros con valores anómalos en 'RegistrationYear'\n",
    "df = df[(df['registration_year'] >= 1900) & (df['registration_year'] <= 2022)]\n",
    "df"
   ]
  },
  {
   "cell_type": "code",
   "execution_count": 6,
   "metadata": {
    "scrolled": true
   },
   "outputs": [
    {
     "data": {
      "text/plain": [
       "date_crawled              0\n",
       "price                     0\n",
       "vehicle_type          37319\n",
       "registration_year         0\n",
       "gearbox               19695\n",
       "power                     0\n",
       "model                 19630\n",
       "mileage                   0\n",
       "registration_month        0\n",
       "fuel_type             32767\n",
       "brand                     0\n",
       "not_repaired          71007\n",
       "date_created              0\n",
       "number_of_pictures        0\n",
       "postal_code               0\n",
       "last_seen                 0\n",
       "dtype: int64"
      ]
     },
     "execution_count": 6,
     "metadata": {},
     "output_type": "execute_result"
    }
   ],
   "source": [
    "# Verificar existencia de valores nulos\n",
    "df.isnull().sum()"
   ]
  },
  {
   "cell_type": "code",
   "execution_count": 7,
   "metadata": {},
   "outputs": [
    {
     "name": "stdout",
     "output_type": "stream",
     "text": [
      "date_crawled          0.000000\n",
      "price                 0.000000\n",
      "vehicle_type          0.105362\n",
      "registration_year     0.000000\n",
      "gearbox               0.055604\n",
      "power                 0.000000\n",
      "model                 0.055421\n",
      "mileage               0.000000\n",
      "registration_month    0.000000\n",
      "fuel_type             0.092510\n",
      "brand                 0.000000\n",
      "not_repaired          0.200473\n",
      "date_created          0.000000\n",
      "number_of_pictures    0.000000\n",
      "postal_code           0.000000\n",
      "last_seen             0.000000\n",
      "dtype: float64\n"
     ]
    }
   ],
   "source": [
    "# Calcular la proporción de valores nulos por columna\n",
    "null_proportion = df.isnull().sum() / len(df)\n",
    "print(null_proportion)"
   ]
  },
  {
   "cell_type": "markdown",
   "metadata": {},
   "source": [
    "En lugar de imputar valores nulos con la moda global, imputaremos basándonos en grupos específicos para reducir el sesgo."
   ]
  },
  {
   "cell_type": "markdown",
   "metadata": {},
   "source": [
    "1. Uso de `transform()` en lugar de `apply()`: Esto mantiene la alineación de los resultados con el DataFrame original, lo cual es crucial para una imputación mas precisa.\n",
    "<br>\n",
    "\n",
    "2. Manejo de casos sin moda clara: Si la moda no puede ser calculada debido a la falta de datos en un grupo específico, se imputa con un valor predeterminado (como 'unknown', 'manual', o 'other').\n",
    "<br>\n",
    "\n",
    "3. Estrategia general:\n",
    "\n",
    "- `vehicle_type` se imputa según la moda dentro de cada brand.\n",
    "\n",
    "- `gearbox` se imputa según la moda dentro de cada `vehicle_type`.\n",
    "\n",
    "- `model` se imputa según la moda dentro de cada `brand`.\n",
    "\n",
    "- `fuel_type` se imputa según la moda dentro de cada `vehicle_type`.\n",
    "\n",
    "- `not_repaired` se imputa directamente con `unknown`."
   ]
  },
  {
   "cell_type": "code",
   "execution_count": 8,
   "metadata": {
    "scrolled": true
   },
   "outputs": [
    {
     "name": "stderr",
     "output_type": "stream",
     "text": [
      "/tmp/ipykernel_389/88137888.py:2: SettingWithCopyWarning: \n",
      "A value is trying to be set on a copy of a slice from a DataFrame.\n",
      "Try using .loc[row_indexer,col_indexer] = value instead\n",
      "\n",
      "See the caveats in the documentation: https://pandas.pydata.org/pandas-docs/stable/user_guide/indexing.html#returning-a-view-versus-a-copy\n",
      "  df['vehicle_type'] = df.groupby('brand')['vehicle_type'].transform(lambda x: x.fillna(x.mode()[0] if not x.mode().empty else 'unknown'))\n",
      "/tmp/ipykernel_389/88137888.py:5: SettingWithCopyWarning: \n",
      "A value is trying to be set on a copy of a slice from a DataFrame.\n",
      "Try using .loc[row_indexer,col_indexer] = value instead\n",
      "\n",
      "See the caveats in the documentation: https://pandas.pydata.org/pandas-docs/stable/user_guide/indexing.html#returning-a-view-versus-a-copy\n",
      "  df['gearbox'] = df.groupby('vehicle_type')['gearbox'].transform(lambda x: x.fillna(x.mode()[0] if not x.mode().empty else 'manual'))\n"
     ]
    },
    {
     "name": "stdout",
     "output_type": "stream",
     "text": [
      "date_crawled          0\n",
      "price                 0\n",
      "vehicle_type          0\n",
      "registration_year     0\n",
      "gearbox               0\n",
      "power                 0\n",
      "model                 0\n",
      "mileage               0\n",
      "registration_month    0\n",
      "fuel_type             0\n",
      "brand                 0\n",
      "not_repaired          0\n",
      "date_created          0\n",
      "number_of_pictures    0\n",
      "postal_code           0\n",
      "last_seen             0\n",
      "dtype: int64\n"
     ]
    },
    {
     "name": "stderr",
     "output_type": "stream",
     "text": [
      "/tmp/ipykernel_389/88137888.py:8: SettingWithCopyWarning: \n",
      "A value is trying to be set on a copy of a slice from a DataFrame.\n",
      "Try using .loc[row_indexer,col_indexer] = value instead\n",
      "\n",
      "See the caveats in the documentation: https://pandas.pydata.org/pandas-docs/stable/user_guide/indexing.html#returning-a-view-versus-a-copy\n",
      "  df['model'] = df.groupby('brand')['model'].transform(lambda x: x.fillna(x.mode()[0] if not x.mode().empty else 'other'))\n",
      "/tmp/ipykernel_389/88137888.py:11: SettingWithCopyWarning: \n",
      "A value is trying to be set on a copy of a slice from a DataFrame.\n",
      "Try using .loc[row_indexer,col_indexer] = value instead\n",
      "\n",
      "See the caveats in the documentation: https://pandas.pydata.org/pandas-docs/stable/user_guide/indexing.html#returning-a-view-versus-a-copy\n",
      "  df['fuel_type'] = df.groupby('vehicle_type')['fuel_type'].transform(lambda x: x.fillna(x.mode()[0] if not x.mode().empty else 'unknown'))\n",
      "/opt/conda/envs/python3/lib/python3.9/site-packages/pandas/core/series.py:4463: SettingWithCopyWarning: \n",
      "A value is trying to be set on a copy of a slice from a DataFrame\n",
      "\n",
      "See the caveats in the documentation: https://pandas.pydata.org/pandas-docs/stable/user_guide/indexing.html#returning-a-view-versus-a-copy\n",
      "  return super().fillna(\n"
     ]
    }
   ],
   "source": [
    "# Imputar 'vehicle_type' basado en la moda dentro de cada 'brand'\n",
    "df['vehicle_type'] = df.groupby('brand')['vehicle_type'].transform(lambda x: x.fillna(x.mode()[0] if not x.mode().empty else 'unknown'))\n",
    "\n",
    "# Imputar 'gearbox' basado en la moda dentro de cada 'vehicle_type'\n",
    "df['gearbox'] = df.groupby('vehicle_type')['gearbox'].transform(lambda x: x.fillna(x.mode()[0] if not x.mode().empty else 'manual'))\n",
    "\n",
    "# Imputar 'model' basado en la moda dentro de cada 'brand'\n",
    "df['model'] = df.groupby('brand')['model'].transform(lambda x: x.fillna(x.mode()[0] if not x.mode().empty else 'other'))\n",
    "\n",
    "# Imputar 'fuel_type' basado en la moda dentro de cada 'vehicle_type'\n",
    "df['fuel_type'] = df.groupby('vehicle_type')['fuel_type'].transform(lambda x: x.fillna(x.mode()[0] if not x.mode().empty else 'unknown'))\n",
    "\n",
    "# Imputar 'not_repaired' con 'unknown'\n",
    "df['not_repaired'].fillna('unknown', inplace=True)\n",
    "\n",
    "# Verificar que los valores nulos hayan sido manejados\n",
    "print(df.isnull().sum())"
   ]
  },
  {
   "cell_type": "markdown",
   "metadata": {},
   "source": [
    "Este enfoque debería ser eficaz para reducir el sesgo y manejar los valores nulos de manera contextual, usando la relación entre diferentes variables."
   ]
  },
  {
   "cell_type": "code",
   "execution_count": 9,
   "metadata": {},
   "outputs": [
    {
     "data": {
      "text/html": [
       "<div>\n",
       "<style scoped>\n",
       "    .dataframe tbody tr th:only-of-type {\n",
       "        vertical-align: middle;\n",
       "    }\n",
       "\n",
       "    .dataframe tbody tr th {\n",
       "        vertical-align: top;\n",
       "    }\n",
       "\n",
       "    .dataframe thead th {\n",
       "        text-align: right;\n",
       "    }\n",
       "</style>\n",
       "<table border=\"1\" class=\"dataframe\">\n",
       "  <thead>\n",
       "    <tr style=\"text-align: right;\">\n",
       "      <th></th>\n",
       "      <th>price</th>\n",
       "      <th>registration_year</th>\n",
       "      <th>power</th>\n",
       "      <th>mileage</th>\n",
       "      <th>registration_month</th>\n",
       "      <th>number_of_pictures</th>\n",
       "      <th>postal_code</th>\n",
       "    </tr>\n",
       "  </thead>\n",
       "  <tbody>\n",
       "    <tr>\n",
       "      <th>count</th>\n",
       "      <td>354198.000000</td>\n",
       "      <td>354198.000000</td>\n",
       "      <td>354198.000000</td>\n",
       "      <td>354198.000000</td>\n",
       "      <td>354198.000000</td>\n",
       "      <td>354198.0</td>\n",
       "      <td>354198.000000</td>\n",
       "    </tr>\n",
       "    <tr>\n",
       "      <th>mean</th>\n",
       "      <td>4417.651314</td>\n",
       "      <td>2003.084789</td>\n",
       "      <td>110.078242</td>\n",
       "      <td>128267.607383</td>\n",
       "      <td>5.716819</td>\n",
       "      <td>0.0</td>\n",
       "      <td>50511.793813</td>\n",
       "    </tr>\n",
       "    <tr>\n",
       "      <th>std</th>\n",
       "      <td>4514.081022</td>\n",
       "      <td>7.536418</td>\n",
       "      <td>189.536766</td>\n",
       "      <td>37823.538557</td>\n",
       "      <td>3.725539</td>\n",
       "      <td>0.0</td>\n",
       "      <td>25783.464340</td>\n",
       "    </tr>\n",
       "    <tr>\n",
       "      <th>min</th>\n",
       "      <td>0.000000</td>\n",
       "      <td>1910.000000</td>\n",
       "      <td>0.000000</td>\n",
       "      <td>5000.000000</td>\n",
       "      <td>0.000000</td>\n",
       "      <td>0.0</td>\n",
       "      <td>1067.000000</td>\n",
       "    </tr>\n",
       "    <tr>\n",
       "      <th>25%</th>\n",
       "      <td>1050.000000</td>\n",
       "      <td>1999.000000</td>\n",
       "      <td>69.000000</td>\n",
       "      <td>125000.000000</td>\n",
       "      <td>3.000000</td>\n",
       "      <td>0.0</td>\n",
       "      <td>30165.000000</td>\n",
       "    </tr>\n",
       "    <tr>\n",
       "      <th>50%</th>\n",
       "      <td>2700.000000</td>\n",
       "      <td>2003.000000</td>\n",
       "      <td>105.000000</td>\n",
       "      <td>150000.000000</td>\n",
       "      <td>6.000000</td>\n",
       "      <td>0.0</td>\n",
       "      <td>49413.000000</td>\n",
       "    </tr>\n",
       "    <tr>\n",
       "      <th>75%</th>\n",
       "      <td>6400.000000</td>\n",
       "      <td>2008.000000</td>\n",
       "      <td>143.000000</td>\n",
       "      <td>150000.000000</td>\n",
       "      <td>9.000000</td>\n",
       "      <td>0.0</td>\n",
       "      <td>71083.000000</td>\n",
       "    </tr>\n",
       "    <tr>\n",
       "      <th>max</th>\n",
       "      <td>20000.000000</td>\n",
       "      <td>2019.000000</td>\n",
       "      <td>20000.000000</td>\n",
       "      <td>150000.000000</td>\n",
       "      <td>12.000000</td>\n",
       "      <td>0.0</td>\n",
       "      <td>99998.000000</td>\n",
       "    </tr>\n",
       "  </tbody>\n",
       "</table>\n",
       "</div>"
      ],
      "text/plain": [
       "               price  registration_year          power        mileage  \\\n",
       "count  354198.000000      354198.000000  354198.000000  354198.000000   \n",
       "mean     4417.651314        2003.084789     110.078242  128267.607383   \n",
       "std      4514.081022           7.536418     189.536766   37823.538557   \n",
       "min         0.000000        1910.000000       0.000000    5000.000000   \n",
       "25%      1050.000000        1999.000000      69.000000  125000.000000   \n",
       "50%      2700.000000        2003.000000     105.000000  150000.000000   \n",
       "75%      6400.000000        2008.000000     143.000000  150000.000000   \n",
       "max     20000.000000        2019.000000   20000.000000  150000.000000   \n",
       "\n",
       "       registration_month  number_of_pictures    postal_code  \n",
       "count       354198.000000            354198.0  354198.000000  \n",
       "mean             5.716819                 0.0   50511.793813  \n",
       "std              3.725539                 0.0   25783.464340  \n",
       "min              0.000000                 0.0    1067.000000  \n",
       "25%              3.000000                 0.0   30165.000000  \n",
       "50%              6.000000                 0.0   49413.000000  \n",
       "75%              9.000000                 0.0   71083.000000  \n",
       "max             12.000000                 0.0   99998.000000  "
      ]
     },
     "execution_count": 9,
     "metadata": {},
     "output_type": "execute_result"
    }
   ],
   "source": [
    "df.describe()"
   ]
  },
  {
   "cell_type": "markdown",
   "metadata": {},
   "source": [
    "En general, los datos muestran una gran variabilidad en las características de los vehículos. La distribución de los precios está sesgada hacia la derecha, sugiriendo la presencia de vehículos con precios significativamente altos."
   ]
  },
  {
   "cell_type": "markdown",
   "metadata": {},
   "source": [
    "Ahora que los datos están limpios, el siguiente paso es preparar los datos para el entrenamiento de modelos, incluyendo:\n",
    "\n",
    "* __Codificación de Variables Categóricas__: Codificar las variables categóricas para los modelos que lo requieran (One-Hot Encoding para regresión lineal y Random Forest).\n",
    "<br>\n",
    "\n",
    "* __Entrenamiento de Modelos__: Entrenar y evaluar modelos de regresión lineal, árboles de decisión, Random Forest, LightGBM y Catboost."
   ]
  },
  {
   "cell_type": "markdown",
   "metadata": {},
   "source": [
    "## Entrenamiento del modelo "
   ]
  },
  {
   "cell_type": "markdown",
   "metadata": {},
   "source": [
    "__1. Codificación de Variables Categóricas__:\n",
    "\n",
    "* Utilizaremos `One-Hot Encoding` (OHE) para las variables categóricas cuando entrenemos modelos que lo requieran, como la `regresión lineal` y `Random Forest`.\n",
    "\n",
    "* `LightGBM` tiene la capacidad de manejar variables categóricas de manera nativa, por lo que no es necesario aplicar OHE en este caso.\n",
    "\n",
    "__2. División del Dataset__:\n",
    "\n",
    "* Dividiremos el dataset en conjuntos de entrenamiento y prueba.\n",
    "\n",
    "__3. Entrenamiento de Diferentes Modelos__:\n",
    "\n",
    "* Comenzaremos con `regresión lineal` como línea base.\n",
    "\n",
    "* `Árbol de Decisión`.\n",
    "\n",
    "* `Random Forest`.\n",
    "\n",
    "* `LightGBM`.\n",
    "\n",
    "__4. Evaluación de Modelos__:\n",
    "\n",
    "* Usaremos la métrica `RMSE` para evaluar la calidad de las predicciones.\n",
    "\n",
    "* Compararemos el tiempo de entrenamiento y la velocidad de predicción."
   ]
  },
  {
   "cell_type": "code",
   "execution_count": 10,
   "metadata": {},
   "outputs": [],
   "source": [
    "# Eliminar las columnas originales de tiempo\n",
    "df = df.drop(['date_crawled', 'date_created', 'last_seen'], axis=1)\n",
    "\n",
    "# Aplicar One-Hot Encoding a las características categóricas restantes\n",
    "df_ohe = pd.get_dummies(df, drop_first=True)"
   ]
  },
  {
   "cell_type": "code",
   "execution_count": 11,
   "metadata": {},
   "outputs": [],
   "source": [
    "# Separar características y variable objetivo\n",
    "X = df_ohe.drop(['price'], axis=1)\n",
    "y = df_ohe['price']\n",
    "\n",
    "# Dividir los datos en conjuntos de entrenamiento y prueba\n",
    "X_train, X_test, y_train, y_test = train_test_split(X, y, test_size=0.20, random_state=12345)"
   ]
  },
  {
   "cell_type": "markdown",
   "metadata": {},
   "source": [
    "## Análisis del modelo"
   ]
  },
  {
   "cell_type": "markdown",
   "metadata": {},
   "source": [
    "### Regresión Lineal"
   ]
  },
  {
   "cell_type": "markdown",
   "metadata": {},
   "source": [
    "Entrenamos un modelo de regresión lineal para establecer una línea base de comparación."
   ]
  },
  {
   "cell_type": "code",
   "execution_count": 12,
   "metadata": {},
   "outputs": [
    {
     "name": "stdout",
     "output_type": "stream",
     "text": [
      "Linear Regression RMSE: 2984.860684759657, Time: 11.54 seconds\n"
     ]
    }
   ],
   "source": [
    "# Modelo de regresión lineal\n",
    "start_time = time.time()\n",
    "lin_reg = LinearRegression()\n",
    "lin_reg.fit(X_train, y_train)\n",
    "pred_lin_reg = lin_reg.predict(X_test)\n",
    "rmse_lin_reg = np.sqrt(mean_squared_error(y_test, pred_lin_reg))\n",
    "lin_reg_time = time.time() - start_time\n",
    "print(f'Linear Regression RMSE: {rmse_lin_reg}, Time: {lin_reg_time:.2f} seconds')"
   ]
  },
  {
   "cell_type": "markdown",
   "metadata": {},
   "source": [
    "### Arbol de Desición"
   ]
  },
  {
   "cell_type": "markdown",
   "metadata": {},
   "source": [
    "Entrenamos un modelo de Árbol de Decisión y evaluamos su desempeño."
   ]
  },
  {
   "cell_type": "code",
   "execution_count": 13,
   "metadata": {},
   "outputs": [
    {
     "name": "stdout",
     "output_type": "stream",
     "text": [
      "Decision Tree RMSE: 2260.5013120670133, Time: 6.72 seconds\n"
     ]
    }
   ],
   "source": [
    "# Modelo de árbol de decisión\n",
    "start_time = time.time()\n",
    "tree = DecisionTreeRegressor(random_state=12345)\n",
    "tree.fit(X_train, y_train)\n",
    "pred_tree = tree.predict(X_test)\n",
    "rmse_tree = np.sqrt(mean_squared_error(y_test, pred_tree))\n",
    "tree_time = time.time() - start_time\n",
    "print(f'Decision Tree RMSE: {rmse_tree}, Time: {tree_time:.2f} seconds')"
   ]
  },
  {
   "cell_type": "markdown",
   "metadata": {},
   "source": [
    "###  Random Forest"
   ]
  },
  {
   "cell_type": "markdown",
   "metadata": {},
   "source": [
    "Entrenamos un modelo de Random Forest con 100 estimadores y evaluamos su desempeño."
   ]
  },
  {
   "cell_type": "code",
   "execution_count": 14,
   "metadata": {},
   "outputs": [
    {
     "name": "stdout",
     "output_type": "stream",
     "text": [
      "Random Forest RMSE: 1783.9464944328736, Time: 40.80 seconds\n"
     ]
    }
   ],
   "source": [
    "# Modelo de Random Forest\n",
    "start_time = time.time()\n",
    "forest = RandomForestRegressor(n_estimators=10, random_state=12345)\n",
    "forest.fit(X_train, y_train)\n",
    "pred_forest = forest.predict(X_test)\n",
    "rmse_forest = np.sqrt(mean_squared_error(y_test, pred_forest))\n",
    "forest_time = time.time() - start_time\n",
    "print(f'Random Forest RMSE: {rmse_forest}, Time: {forest_time:.2f} seconds')"
   ]
  },
  {
   "cell_type": "markdown",
   "metadata": {},
   "source": [
    "### LightGBM"
   ]
  },
  {
   "cell_type": "markdown",
   "metadata": {},
   "source": [
    "Entrenamos un modelo de LightGBM y evaluamos su desempeño"
   ]
  },
  {
   "cell_type": "code",
   "execution_count": 15,
   "metadata": {},
   "outputs": [
    {
     "name": "stderr",
     "output_type": "stream",
     "text": [
      "/opt/conda/envs/python3/lib/python3.9/site-packages/lightgbm/engine.py:181: UserWarning: 'early_stopping_rounds' argument is deprecated and will be removed in a future release of LightGBM. Pass 'early_stopping()' callback via 'callbacks' argument instead.\n",
      "  _log_warning(\"'early_stopping_rounds' argument is deprecated and will be removed in a future release of LightGBM. \"\n"
     ]
    },
    {
     "name": "stdout",
     "output_type": "stream",
     "text": [
      "[LightGBM] [Warning] Auto-choosing row-wise multi-threading, the overhead of testing was 0.007895 seconds.\n",
      "You can set `force_row_wise=true` to remove the overhead.\n",
      "And if memory is not enough, you can set `force_col_wise=true`.\n",
      "[LightGBM] [Info] Total Bins 1194\n",
      "[LightGBM] [Info] Number of data points in the train set: 283358, number of used features: 293\n",
      "[LightGBM] [Info] Start training from score 4422.750905\n",
      "[1]\tvalid_0's rmse: 4198.29\n",
      "Training until validation scores don't improve for 10 rounds\n",
      "[2]\tvalid_0's rmse: 3929.74\n",
      "[3]\tvalid_0's rmse: 3695.34\n",
      "[4]\tvalid_0's rmse: 3491.48\n",
      "[5]\tvalid_0's rmse: 3315.18\n",
      "[6]\tvalid_0's rmse: 3160.71\n",
      "[7]\tvalid_0's rmse: 3026.73\n",
      "[8]\tvalid_0's rmse: 2909.36\n",
      "[9]\tvalid_0's rmse: 2805.1\n",
      "[10]\tvalid_0's rmse: 2716.84\n",
      "[11]\tvalid_0's rmse: 2634.79\n",
      "[12]\tvalid_0's rmse: 2562.24\n",
      "[13]\tvalid_0's rmse: 2502.07\n",
      "[14]\tvalid_0's rmse: 2446.17\n",
      "[15]\tvalid_0's rmse: 2399.31\n",
      "[16]\tvalid_0's rmse: 2355.1\n",
      "[17]\tvalid_0's rmse: 2318.78\n",
      "[18]\tvalid_0's rmse: 2285.3\n",
      "[19]\tvalid_0's rmse: 2251.99\n",
      "[20]\tvalid_0's rmse: 2226.04\n",
      "[21]\tvalid_0's rmse: 2199.95\n",
      "[22]\tvalid_0's rmse: 2175.25\n",
      "[23]\tvalid_0's rmse: 2153.56\n",
      "[24]\tvalid_0's rmse: 2134.47\n",
      "[25]\tvalid_0's rmse: 2118.06\n",
      "[26]\tvalid_0's rmse: 2100.11\n",
      "[27]\tvalid_0's rmse: 2086.81\n",
      "[28]\tvalid_0's rmse: 2072.35\n",
      "[29]\tvalid_0's rmse: 2059.4\n",
      "[30]\tvalid_0's rmse: 2048.34\n",
      "[31]\tvalid_0's rmse: 2038.86\n",
      "[32]\tvalid_0's rmse: 2027.89\n",
      "[33]\tvalid_0's rmse: 2018.15\n",
      "[34]\tvalid_0's rmse: 2010.35\n",
      "[35]\tvalid_0's rmse: 2002.81\n",
      "[36]\tvalid_0's rmse: 1996.19\n",
      "[37]\tvalid_0's rmse: 1988.55\n",
      "[38]\tvalid_0's rmse: 1982.74\n",
      "[39]\tvalid_0's rmse: 1976.93\n",
      "[40]\tvalid_0's rmse: 1970.89\n",
      "[41]\tvalid_0's rmse: 1966.62\n",
      "[42]\tvalid_0's rmse: 1961.28\n",
      "[43]\tvalid_0's rmse: 1956.71\n",
      "[44]\tvalid_0's rmse: 1951.06\n",
      "[45]\tvalid_0's rmse: 1946.88\n",
      "[46]\tvalid_0's rmse: 1944.4\n",
      "[47]\tvalid_0's rmse: 1940.55\n",
      "[48]\tvalid_0's rmse: 1937.09\n",
      "[49]\tvalid_0's rmse: 1934.6\n",
      "[50]\tvalid_0's rmse: 1931.95\n",
      "[51]\tvalid_0's rmse: 1928.65\n",
      "[52]\tvalid_0's rmse: 1925.17\n",
      "[53]\tvalid_0's rmse: 1922.9\n",
      "[54]\tvalid_0's rmse: 1919.45\n",
      "[55]\tvalid_0's rmse: 1917.26\n",
      "[56]\tvalid_0's rmse: 1914.59\n",
      "[57]\tvalid_0's rmse: 1911.9\n",
      "[58]\tvalid_0's rmse: 1908.21\n",
      "[59]\tvalid_0's rmse: 1905.9\n",
      "[60]\tvalid_0's rmse: 1903.34\n",
      "[61]\tvalid_0's rmse: 1901.54\n",
      "[62]\tvalid_0's rmse: 1899.5\n",
      "[63]\tvalid_0's rmse: 1897.27\n",
      "[64]\tvalid_0's rmse: 1895.39\n",
      "[65]\tvalid_0's rmse: 1893.4\n",
      "[66]\tvalid_0's rmse: 1892.05\n",
      "[67]\tvalid_0's rmse: 1890.51\n",
      "[68]\tvalid_0's rmse: 1887.86\n",
      "[69]\tvalid_0's rmse: 1886.22\n",
      "[70]\tvalid_0's rmse: 1884.62\n",
      "[71]\tvalid_0's rmse: 1882.45\n",
      "[72]\tvalid_0's rmse: 1881.26\n",
      "[73]\tvalid_0's rmse: 1880.04\n",
      "[74]\tvalid_0's rmse: 1878.51\n",
      "[75]\tvalid_0's rmse: 1876.82\n",
      "[76]\tvalid_0's rmse: 1875.67\n",
      "[77]\tvalid_0's rmse: 1874.54\n",
      "[78]\tvalid_0's rmse: 1873.51\n",
      "[79]\tvalid_0's rmse: 1871.86\n",
      "[80]\tvalid_0's rmse: 1870.59\n",
      "[81]\tvalid_0's rmse: 1869.16\n",
      "[82]\tvalid_0's rmse: 1868.17\n",
      "[83]\tvalid_0's rmse: 1867.27\n",
      "[84]\tvalid_0's rmse: 1866.13\n",
      "[85]\tvalid_0's rmse: 1864.85\n",
      "[86]\tvalid_0's rmse: 1864.01\n",
      "[87]\tvalid_0's rmse: 1862.77\n",
      "[88]\tvalid_0's rmse: 1861.58\n",
      "[89]\tvalid_0's rmse: 1860.16\n",
      "[90]\tvalid_0's rmse: 1859.39\n",
      "[91]\tvalid_0's rmse: 1858.24\n",
      "[92]\tvalid_0's rmse: 1856.64\n",
      "[93]\tvalid_0's rmse: 1855.7\n",
      "[94]\tvalid_0's rmse: 1854.81\n",
      "[95]\tvalid_0's rmse: 1853.8\n",
      "[96]\tvalid_0's rmse: 1852.8\n",
      "[97]\tvalid_0's rmse: 1851.49\n",
      "[98]\tvalid_0's rmse: 1850.97\n",
      "[99]\tvalid_0's rmse: 1849.81\n",
      "[100]\tvalid_0's rmse: 1849.25\n",
      "Did not meet early stopping. Best iteration is:\n",
      "[100]\tvalid_0's rmse: 1849.25\n",
      "LightGBM RMSE: 1849.2512618365572, Time: 6.66 seconds\n"
     ]
    }
   ],
   "source": [
    "# Modelo de LightGBM\n",
    "start_time = time.time()\n",
    "lgb_train = lgb.Dataset(X_train, y_train)\n",
    "lgb_valid = lgb.Dataset(X_test, y_test, reference=lgb_train)\n",
    "\n",
    "params = {\n",
    "    'objective': 'regression',\n",
    "    'metric': 'rmse',\n",
    "    'learning_rate': 0.1,\n",
    "    'num_leaves': 31,\n",
    "    'seed': 12345\n",
    "}\n",
    "\n",
    "model_lgb = lgb.train(params, lgb_train, valid_sets=lgb_valid, early_stopping_rounds=10)\n",
    "pred_lgb = model_lgb.predict(X_test, num_iteration=model_lgb.best_iteration)\n",
    "rmse_lgb = np.sqrt(mean_squared_error(y_test, pred_lgb))\n",
    "lgb_time = time.time() - start_time\n",
    "print(f'LightGBM RMSE: {rmse_lgb}, Time: {lgb_time:.2f} seconds')"
   ]
  },
  {
   "cell_type": "markdown",
   "metadata": {},
   "source": [
    "### CatBoost"
   ]
  },
  {
   "cell_type": "code",
   "execution_count": 16,
   "metadata": {},
   "outputs": [
    {
     "name": "stdout",
     "output_type": "stream",
     "text": [
      "CatBoost RMSE: 1920.6059790351956, Time: 5.63 seconds\n"
     ]
    }
   ],
   "source": [
    "from catboost import CatBoostRegressor\n",
    "\n",
    "# Modelo de CatBoost\n",
    "start_time = time.time()\n",
    "catboost_model = CatBoostRegressor(iterations=150, learning_rate=0.1, depth=6, random_seed=12345, verbose=0)\n",
    "catboost_model.fit(X_train, y_train)\n",
    "pred_catboost = catboost_model.predict(X_test)\n",
    "rmse_catboost = np.sqrt(mean_squared_error(y_test, pred_catboost))\n",
    "catboost_time = time.time() - start_time\n",
    "print(f'CatBoost RMSE: {rmse_catboost}, Time: {catboost_time:.2f} seconds')"
   ]
  },
  {
   "cell_type": "markdown",
   "metadata": {},
   "source": [
    "### XGBoost"
   ]
  },
  {
   "cell_type": "code",
   "execution_count": 27,
   "metadata": {},
   "outputs": [
    {
     "name": "stdout",
     "output_type": "stream",
     "text": [
      "XGBoost RMSE: 2425.8268576118066, Time: 25.41 seconds\n"
     ]
    }
   ],
   "source": [
    "import xgboost as xgb\n",
    "\n",
    "# Preparar los datos para XGBoost\n",
    "dtrain = xgb.DMatrix(X_train, label=y_train)\n",
    "dtest = xgb.DMatrix(X_test, label=y_test)\n",
    "\n",
    "# Definir los parámetros del modelo XGBoost\n",
    "params = {\n",
    "    'objective': 'reg:squarederror',  # Tipo de problema: regresión\n",
    "    'learning_rate': 0.2,\n",
    "    'max_depth': 4,\n",
    "    'seed': 12345\n",
    "}\n",
    "\n",
    "# Entrenar el modelo XGBoost\n",
    "start_time = time.time()\n",
    "xgb_model = xgb.train(params, dtrain, num_boost_round=10)\n",
    "xgb_time = time.time() - start_time\n",
    "\n",
    "# Realizar predicciones\n",
    "pred_xgb = xgb_model.predict(dtest)\n",
    "\n",
    "# Calcular el RMSE\n",
    "rmse_xgb = np.sqrt(mean_squared_error(y_test, pred_xgb))\n",
    "\n",
    "print(f'XGBoost RMSE: {rmse_xgb}, Time: {xgb_time:.2f} seconds')"
   ]
  },
  {
   "cell_type": "markdown",
   "metadata": {},
   "source": [
    "# Conclusión"
   ]
  },
  {
   "cell_type": "markdown",
   "metadata": {},
   "source": [
    "* __Mejor Precisión__: `Random Forest` tiene el `RMSE` más bajo, lo que sugiere que es el modelo más preciso, aunque su tiempo de entrenamiento es significativamente mayor.\n",
    "<br>\n",
    "\n",
    "* __Mejor Balance__: `LightGBM` ofrece un excelente equilibrio entre precisión y velocidad, siendo uno de los más rápidos y con un `RMSE` bajo.\n",
    "<br>\n",
    "\n",
    "* __Rendimiento Sólido__: `CatBoost` también ofrece un rendimiento sólido, especialmente en conjuntos de datos con muchas variables categóricas.\n",
    "\n",
    "Para un equilibrio óptimo entre precisión y tiempo de entrenamiento, `LightGBM` sería la `mejor opción`. Si se busca la mayor precisión posible sin importar el tiempo de entrenamiento, `Random Forest` podría ser preferible. Sin embargo, para tareas en las que el manejo de variables categóricas es crucial, `CatBoost` también es una excelente opción."
   ]
  }
 ],
 "metadata": {
  "ExecuteTimeLog": [
   {
    "duration": 158,
    "start_time": "2024-09-02T05:01:12.952Z"
   },
   {
    "duration": 304,
    "start_time": "2024-09-02T05:01:17.584Z"
   },
   {
    "duration": 384,
    "start_time": "2024-09-02T05:01:19.124Z"
   },
   {
    "duration": 487,
    "start_time": "2024-09-02T05:01:41.633Z"
   },
   {
    "duration": 425,
    "start_time": "2024-09-02T05:02:12.609Z"
   },
   {
    "duration": 98,
    "start_time": "2024-09-02T05:02:23.318Z"
   },
   {
    "duration": 2,
    "start_time": "2024-09-02T05:04:15.668Z"
   },
   {
    "duration": 6,
    "start_time": "2024-09-02T05:05:38.112Z"
   },
   {
    "duration": 5,
    "start_time": "2024-09-02T05:06:07.106Z"
   },
   {
    "duration": 95,
    "start_time": "2024-09-02T05:06:08.446Z"
   },
   {
    "duration": 45,
    "start_time": "2024-09-02T05:06:34.510Z"
   },
   {
    "duration": 625,
    "start_time": "2024-09-02T05:08:23.837Z"
   },
   {
    "duration": 87,
    "start_time": "2024-09-02T05:08:43.176Z"
   },
   {
    "duration": 25,
    "start_time": "2024-09-02T05:09:19.624Z"
   },
   {
    "duration": 436,
    "start_time": "2024-09-02T05:10:27.439Z"
   },
   {
    "duration": 26,
    "start_time": "2024-09-02T05:10:34.155Z"
   },
   {
    "duration": 8,
    "start_time": "2024-09-02T05:10:46.824Z"
   },
   {
    "duration": 26,
    "start_time": "2024-09-02T05:10:55.552Z"
   },
   {
    "duration": 26,
    "start_time": "2024-09-02T05:13:40.926Z"
   },
   {
    "duration": 30,
    "start_time": "2024-09-02T05:13:52.808Z"
   },
   {
    "duration": 24,
    "start_time": "2024-09-02T05:14:11.983Z"
   },
   {
    "duration": 26,
    "start_time": "2024-09-02T05:14:20.895Z"
   },
   {
    "duration": 38,
    "start_time": "2024-09-02T05:14:39.777Z"
   },
   {
    "duration": 668,
    "start_time": "2024-09-02T05:16:07.470Z"
   },
   {
    "duration": 67,
    "start_time": "2024-09-02T05:16:14.342Z"
   },
   {
    "duration": 3,
    "start_time": "2024-09-02T05:17:37.633Z"
   },
   {
    "duration": 4,
    "start_time": "2024-09-02T05:18:44.951Z"
   },
   {
    "duration": 15,
    "start_time": "2024-09-02T05:18:54.280Z"
   },
   {
    "duration": 254,
    "start_time": "2024-09-02T05:19:05.623Z"
   },
   {
    "duration": 269,
    "start_time": "2024-09-02T05:19:14.312Z"
   },
   {
    "duration": 14,
    "start_time": "2024-09-02T05:20:09.951Z"
   },
   {
    "duration": 159,
    "start_time": "2024-09-02T05:20:14.879Z"
   },
   {
    "duration": 10,
    "start_time": "2024-09-02T05:21:37.056Z"
   },
   {
    "duration": 23,
    "start_time": "2024-09-02T05:21:43.279Z"
   },
   {
    "duration": 10,
    "start_time": "2024-09-02T05:21:45.241Z"
   },
   {
    "duration": 5,
    "start_time": "2024-09-02T05:21:48.240Z"
   },
   {
    "duration": 4,
    "start_time": "2024-09-02T05:21:56.553Z"
   },
   {
    "duration": 4,
    "start_time": "2024-09-02T05:22:04.214Z"
   },
   {
    "duration": 5,
    "start_time": "2024-09-02T05:22:08.934Z"
   },
   {
    "duration": 4,
    "start_time": "2024-09-02T05:22:16.318Z"
   },
   {
    "duration": 5,
    "start_time": "2024-09-02T05:22:20.350Z"
   },
   {
    "duration": 2,
    "start_time": "2024-09-02T05:23:02.034Z"
   },
   {
    "duration": 61,
    "start_time": "2024-09-02T05:23:31.374Z"
   },
   {
    "duration": 42,
    "start_time": "2024-09-02T05:25:25.992Z"
   },
   {
    "duration": 19,
    "start_time": "2024-09-02T05:26:08.306Z"
   },
   {
    "duration": 107061,
    "start_time": "2024-09-02T05:26:26.287Z"
   },
   {
    "duration": 108973,
    "start_time": "2024-09-02T05:30:46.179Z"
   },
   {
    "duration": 60,
    "start_time": "2024-09-02T05:34:28.065Z"
   },
   {
    "duration": 73,
    "start_time": "2024-09-02T05:34:38.231Z"
   },
   {
    "duration": 17,
    "start_time": "2024-09-02T05:35:47.216Z"
   },
   {
    "duration": 40,
    "start_time": "2024-09-02T05:35:52.206Z"
   },
   {
    "duration": 44,
    "start_time": "2024-09-02T05:35:57.014Z"
   },
   {
    "duration": 14,
    "start_time": "2024-09-02T05:36:15.111Z"
   },
   {
    "duration": 31,
    "start_time": "2024-09-02T05:36:29.582Z"
   },
   {
    "duration": 32,
    "start_time": "2024-09-02T05:37:06.166Z"
   },
   {
    "duration": 33,
    "start_time": "2024-09-02T05:40:26.895Z"
   },
   {
    "duration": 293,
    "start_time": "2024-09-02T05:50:47.385Z"
   },
   {
    "duration": 414,
    "start_time": "2024-09-02T05:50:49.025Z"
   },
   {
    "duration": 5,
    "start_time": "2024-09-02T05:50:50.202Z"
   },
   {
    "duration": 104,
    "start_time": "2024-09-02T05:50:50.832Z"
   },
   {
    "duration": 1275,
    "start_time": "2024-09-02T05:50:51.463Z"
   },
   {
    "duration": 61,
    "start_time": "2024-09-02T05:50:52.740Z"
   },
   {
    "duration": 62,
    "start_time": "2024-09-02T05:50:53.088Z"
   },
   {
    "duration": 33,
    "start_time": "2024-09-02T05:50:54.279Z"
   },
   {
    "duration": 45,
    "start_time": "2024-09-02T05:50:59.103Z"
   },
   {
    "duration": 39,
    "start_time": "2024-09-02T05:51:11.832Z"
   },
   {
    "duration": 44,
    "start_time": "2024-09-02T05:51:22.007Z"
   },
   {
    "duration": 303,
    "start_time": "2024-09-02T05:59:14.584Z"
   },
   {
    "duration": 424,
    "start_time": "2024-09-02T05:59:15.431Z"
   },
   {
    "duration": 6,
    "start_time": "2024-09-02T05:59:16.294Z"
   },
   {
    "duration": 92,
    "start_time": "2024-09-02T05:59:16.879Z"
   },
   {
    "duration": 1331,
    "start_time": "2024-09-02T05:59:17.286Z"
   },
   {
    "duration": 60,
    "start_time": "2024-09-02T05:59:18.619Z"
   },
   {
    "duration": 61,
    "start_time": "2024-09-02T05:59:19.063Z"
   },
   {
    "duration": 26,
    "start_time": "2024-09-02T05:59:23.349Z"
   },
   {
    "duration": 27,
    "start_time": "2024-09-02T06:01:30.040Z"
   },
   {
    "duration": 26,
    "start_time": "2024-09-02T06:02:01.352Z"
   },
   {
    "duration": 26,
    "start_time": "2024-09-02T06:02:39.155Z"
   },
   {
    "duration": 28,
    "start_time": "2024-09-02T06:03:45.144Z"
   },
   {
    "duration": 27,
    "start_time": "2024-09-02T06:04:11.127Z"
   },
   {
    "duration": 492,
    "start_time": "2024-09-02T06:09:07.120Z"
   },
   {
    "duration": 3,
    "start_time": "2024-09-02T06:09:16.120Z"
   },
   {
    "duration": 86,
    "start_time": "2024-09-02T06:09:24.190Z"
   },
   {
    "duration": 4,
    "start_time": "2024-09-02T06:09:51.423Z"
   },
   {
    "duration": 32,
    "start_time": "2024-09-02T06:10:07.744Z"
   },
   {
    "duration": 16,
    "start_time": "2024-09-02T06:10:48.085Z"
   },
   {
    "duration": 114,
    "start_time": "2024-09-02T06:10:57.526Z"
   },
   {
    "duration": 33,
    "start_time": "2024-09-02T06:12:08.031Z"
   },
   {
    "duration": 922,
    "start_time": "2024-09-02T06:12:58.056Z"
   },
   {
    "duration": 31,
    "start_time": "2024-09-02T06:13:06.504Z"
   },
   {
    "duration": 54,
    "start_time": "2024-09-02T06:13:37.367Z"
   },
   {
    "duration": 17,
    "start_time": "2024-09-02T06:14:32.822Z"
   },
   {
    "duration": 140,
    "start_time": "2024-09-02T06:15:10.233Z"
   },
   {
    "duration": 470,
    "start_time": "2024-09-02T06:19:30.432Z"
   },
   {
    "duration": 73,
    "start_time": "2024-09-02T06:19:39.952Z"
   },
   {
    "duration": 56,
    "start_time": "2024-09-02T06:19:46.367Z"
   },
   {
    "duration": 2,
    "start_time": "2024-09-02T06:20:37.584Z"
   },
   {
    "duration": 5,
    "start_time": "2024-09-02T06:23:59.145Z"
   },
   {
    "duration": 354,
    "start_time": "2024-09-02T06:30:21.264Z"
   },
   {
    "duration": 16,
    "start_time": "2024-09-02T06:31:54.126Z"
   },
   {
    "duration": 239,
    "start_time": "2024-09-02T06:32:01.447Z"
   },
   {
    "duration": 131,
    "start_time": "2024-09-02T06:32:15.585Z"
   },
   {
    "duration": 603,
    "start_time": "2024-09-02T06:32:56.415Z"
   },
   {
    "duration": 670,
    "start_time": "2024-09-02T06:33:02.438Z"
   },
   {
    "duration": 3,
    "start_time": "2024-09-02T06:33:15.074Z"
   },
   {
    "duration": 685,
    "start_time": "2024-09-02T06:33:19.771Z"
   },
   {
    "duration": 211,
    "start_time": "2024-09-02T06:33:49.606Z"
   },
   {
    "duration": 651,
    "start_time": "2024-09-02T06:34:30.504Z"
   },
   {
    "duration": 847,
    "start_time": "2024-09-02T06:35:34.064Z"
   },
   {
    "duration": 428,
    "start_time": "2024-09-02T06:35:34.913Z"
   },
   {
    "duration": 5,
    "start_time": "2024-09-02T06:35:35.343Z"
   },
   {
    "duration": 110,
    "start_time": "2024-09-02T06:35:35.351Z"
   },
   {
    "duration": 93,
    "start_time": "2024-09-02T06:35:35.463Z"
   },
   {
    "duration": 93,
    "start_time": "2024-09-02T06:35:35.557Z"
   },
   {
    "duration": 538,
    "start_time": "2024-09-02T06:35:35.651Z"
   },
   {
    "duration": 65,
    "start_time": "2024-09-02T06:35:36.191Z"
   },
   {
    "duration": 169,
    "start_time": "2024-09-02T06:35:57.383Z"
   },
   {
    "duration": 876,
    "start_time": "2024-09-02T06:36:03.536Z"
   },
   {
    "duration": 477,
    "start_time": "2024-09-02T06:36:04.496Z"
   },
   {
    "duration": 5,
    "start_time": "2024-09-02T06:36:05.567Z"
   },
   {
    "duration": 96,
    "start_time": "2024-09-02T06:36:06.143Z"
   },
   {
    "duration": 96,
    "start_time": "2024-09-02T06:36:06.920Z"
   },
   {
    "duration": 93,
    "start_time": "2024-09-02T06:36:07.328Z"
   },
   {
    "duration": 514,
    "start_time": "2024-09-02T06:36:08.913Z"
   },
   {
    "duration": 59,
    "start_time": "2024-09-02T06:36:11.199Z"
   },
   {
    "duration": 160,
    "start_time": "2024-09-02T06:36:26.303Z"
   },
   {
    "duration": 819,
    "start_time": "2024-09-02T06:36:41.112Z"
   },
   {
    "duration": 472,
    "start_time": "2024-09-02T06:36:43.526Z"
   },
   {
    "duration": 4,
    "start_time": "2024-09-02T06:36:44.974Z"
   },
   {
    "duration": 97,
    "start_time": "2024-09-02T06:36:45.717Z"
   },
   {
    "duration": 93,
    "start_time": "2024-09-02T06:36:46.959Z"
   },
   {
    "duration": 88,
    "start_time": "2024-09-02T06:36:47.543Z"
   },
   {
    "duration": 532,
    "start_time": "2024-09-02T06:36:49.118Z"
   },
   {
    "duration": 62,
    "start_time": "2024-09-02T06:36:50.400Z"
   },
   {
    "duration": 156,
    "start_time": "2024-09-02T06:38:44.823Z"
   },
   {
    "duration": 859,
    "start_time": "2024-09-02T06:38:56.330Z"
   },
   {
    "duration": 489,
    "start_time": "2024-09-02T06:38:57.190Z"
   },
   {
    "duration": 5,
    "start_time": "2024-09-02T06:38:58.222Z"
   },
   {
    "duration": 95,
    "start_time": "2024-09-02T06:38:58.807Z"
   },
   {
    "duration": 89,
    "start_time": "2024-09-02T06:38:59.751Z"
   },
   {
    "duration": 92,
    "start_time": "2024-09-02T06:39:00.199Z"
   },
   {
    "duration": 526,
    "start_time": "2024-09-02T06:39:03.225Z"
   },
   {
    "duration": 56,
    "start_time": "2024-09-02T06:39:09.704Z"
   },
   {
    "duration": 159,
    "start_time": "2024-09-02T06:41:28.334Z"
   },
   {
    "duration": 835,
    "start_time": "2024-09-02T06:41:39.366Z"
   },
   {
    "duration": 489,
    "start_time": "2024-09-02T06:41:40.204Z"
   },
   {
    "duration": 4,
    "start_time": "2024-09-02T06:41:40.696Z"
   },
   {
    "duration": 100,
    "start_time": "2024-09-02T06:41:40.702Z"
   },
   {
    "duration": 88,
    "start_time": "2024-09-02T06:41:41.374Z"
   },
   {
    "duration": 87,
    "start_time": "2024-09-02T06:41:41.800Z"
   },
   {
    "duration": 520,
    "start_time": "2024-09-02T06:41:44.798Z"
   },
   {
    "duration": 59,
    "start_time": "2024-09-02T06:41:46.648Z"
   },
   {
    "duration": 895,
    "start_time": "2024-09-02T06:41:48.271Z"
   },
   {
    "duration": 354,
    "start_time": "2024-09-02T06:42:07.569Z"
   },
   {
    "duration": 688,
    "start_time": "2024-09-02T06:42:12.544Z"
   },
   {
    "duration": 11488,
    "start_time": "2024-09-02T06:42:15.242Z"
   },
   {
    "duration": 11468,
    "start_time": "2024-09-02T06:42:42.767Z"
   },
   {
    "duration": 6798,
    "start_time": "2024-09-02T06:43:06.960Z"
   },
   {
    "duration": 858,
    "start_time": "2024-09-02T06:48:04.046Z"
   },
   {
    "duration": 431,
    "start_time": "2024-09-02T06:48:04.906Z"
   },
   {
    "duration": 5,
    "start_time": "2024-09-02T06:48:05.339Z"
   },
   {
    "duration": 100,
    "start_time": "2024-09-02T06:48:05.346Z"
   },
   {
    "duration": 86,
    "start_time": "2024-09-02T06:48:06.142Z"
   },
   {
    "duration": 87,
    "start_time": "2024-09-02T06:48:06.599Z"
   },
   {
    "duration": 513,
    "start_time": "2024-09-02T06:48:08.111Z"
   },
   {
    "duration": 59,
    "start_time": "2024-09-02T06:48:10.061Z"
   },
   {
    "duration": 347,
    "start_time": "2024-09-02T06:48:11.278Z"
   },
   {
    "duration": 861,
    "start_time": "2024-09-02T06:49:08.231Z"
   },
   {
    "duration": 440,
    "start_time": "2024-09-02T06:49:09.094Z"
   },
   {
    "duration": 4,
    "start_time": "2024-09-02T06:49:09.536Z"
   },
   {
    "duration": 107,
    "start_time": "2024-09-02T06:49:09.542Z"
   },
   {
    "duration": 97,
    "start_time": "2024-09-02T06:49:09.651Z"
   },
   {
    "duration": 87,
    "start_time": "2024-09-02T06:49:09.862Z"
   },
   {
    "duration": 523,
    "start_time": "2024-09-02T06:49:11.279Z"
   },
   {
    "duration": 59,
    "start_time": "2024-09-02T06:49:13.310Z"
   },
   {
    "duration": 335,
    "start_time": "2024-09-02T06:49:14.440Z"
   },
   {
    "duration": 693,
    "start_time": "2024-09-02T06:49:16.342Z"
   },
   {
    "duration": 11322,
    "start_time": "2024-09-02T06:49:18.950Z"
   },
   {
    "duration": 6584,
    "start_time": "2024-09-02T06:49:32.446Z"
   },
   {
    "duration": 40900,
    "start_time": "2024-09-02T06:49:40.440Z"
   },
   {
    "duration": 7345,
    "start_time": "2024-09-02T06:50:30.809Z"
   },
   {
    "duration": 15473,
    "start_time": "2024-09-02T06:55:34.896Z"
   },
   {
    "duration": 834,
    "start_time": "2024-09-02T06:56:36.784Z"
   },
   {
    "duration": 443,
    "start_time": "2024-09-02T06:56:37.620Z"
   },
   {
    "duration": 4,
    "start_time": "2024-09-02T06:56:38.065Z"
   },
   {
    "duration": 90,
    "start_time": "2024-09-02T06:56:38.719Z"
   },
   {
    "duration": 88,
    "start_time": "2024-09-02T06:56:40.281Z"
   },
   {
    "duration": 88,
    "start_time": "2024-09-02T06:56:41.071Z"
   },
   {
    "duration": 783,
    "start_time": "2024-09-02T07:04:53.816Z"
   },
   {
    "duration": 423,
    "start_time": "2024-09-02T07:04:54.601Z"
   },
   {
    "duration": 5,
    "start_time": "2024-09-02T07:04:56.120Z"
   },
   {
    "duration": 96,
    "start_time": "2024-09-02T07:04:56.862Z"
   },
   {
    "duration": 614,
    "start_time": "2024-09-02T07:05:02.391Z"
   },
   {
    "duration": 51,
    "start_time": "2024-09-02T07:05:18.370Z"
   },
   {
    "duration": 91,
    "start_time": "2024-09-02T07:05:23.450Z"
   },
   {
    "duration": 87,
    "start_time": "2024-09-02T07:05:30.208Z"
   },
   {
    "duration": 3,
    "start_time": "2024-09-02T07:05:33.506Z"
   },
   {
    "duration": 558,
    "start_time": "2024-09-02T07:05:40.848Z"
   },
   {
    "duration": 60,
    "start_time": "2024-09-02T07:05:55.527Z"
   },
   {
    "duration": 352,
    "start_time": "2024-09-02T07:11:27.465Z"
   },
   {
    "duration": 670,
    "start_time": "2024-09-02T07:11:32.823Z"
   },
   {
    "duration": 11558,
    "start_time": "2024-09-02T07:11:42.792Z"
   },
   {
    "duration": 6759,
    "start_time": "2024-09-02T07:12:44.423Z"
   },
   {
    "duration": 41901,
    "start_time": "2024-09-02T07:12:53.967Z"
   },
   {
    "duration": 6960,
    "start_time": "2024-09-02T07:14:26.080Z"
   },
   {
    "duration": 4319,
    "start_time": "2024-09-02T07:14:39.399Z"
   },
   {
    "duration": 5599,
    "start_time": "2024-09-02T07:14:56.159Z"
   },
   {
    "duration": 4132,
    "start_time": "2024-09-02T07:15:10.344Z"
   },
   {
    "duration": 7005,
    "start_time": "2024-09-02T07:15:20.081Z"
   },
   {
    "duration": 5610,
    "start_time": "2024-09-02T07:15:37.409Z"
   },
   {
    "duration": 861,
    "start_time": "2024-09-02T07:17:50.537Z"
   },
   {
    "duration": 425,
    "start_time": "2024-09-02T07:17:51.938Z"
   },
   {
    "duration": 5,
    "start_time": "2024-09-02T07:17:53.176Z"
   },
   {
    "duration": 96,
    "start_time": "2024-09-02T07:17:53.736Z"
   },
   {
    "duration": 50,
    "start_time": "2024-09-02T07:17:54.754Z"
   },
   {
    "duration": 88,
    "start_time": "2024-09-02T07:17:55.471Z"
   },
   {
    "duration": 6,
    "start_time": "2024-09-02T07:19:09.809Z"
   },
   {
    "duration": 48,
    "start_time": "2024-09-02T07:19:15.498Z"
   },
   {
    "duration": 89,
    "start_time": "2024-09-02T07:19:17.119Z"
   },
   {
    "duration": 88,
    "start_time": "2024-09-02T07:19:20.929Z"
   },
   {
    "duration": 544,
    "start_time": "2024-09-02T07:19:24.530Z"
   },
   {
    "duration": 56,
    "start_time": "2024-09-02T07:19:26.876Z"
   },
   {
    "duration": 320,
    "start_time": "2024-09-02T07:19:29.207Z"
   },
   {
    "duration": 678,
    "start_time": "2024-09-02T07:19:30.032Z"
   },
   {
    "duration": 11080,
    "start_time": "2024-09-02T07:19:32.993Z"
   },
   {
    "duration": 6595,
    "start_time": "2024-09-02T07:19:52.643Z"
   },
   {
    "duration": 41715,
    "start_time": "2024-09-02T07:20:00.577Z"
   },
   {
    "duration": 6907,
    "start_time": "2024-09-02T07:21:14.224Z"
   },
   {
    "duration": 5757,
    "start_time": "2024-09-02T07:21:38.911Z"
   },
   {
    "duration": 4983,
    "start_time": "2024-09-02T07:21:55.842Z"
   },
   {
    "duration": 5570,
    "start_time": "2024-09-02T07:22:08.186Z"
   },
   {
    "duration": 5668,
    "start_time": "2024-09-02T07:22:25.480Z"
   },
   {
    "duration": 805,
    "start_time": "2024-09-02T07:25:41.312Z"
   },
   {
    "duration": 420,
    "start_time": "2024-09-02T07:25:42.551Z"
   },
   {
    "duration": 4,
    "start_time": "2024-09-02T07:25:43.649Z"
   },
   {
    "duration": 90,
    "start_time": "2024-09-02T07:25:44.255Z"
   },
   {
    "duration": 47,
    "start_time": "2024-09-02T07:25:45.711Z"
   },
   {
    "duration": 88,
    "start_time": "2024-09-02T07:25:46.231Z"
   },
   {
    "duration": 87,
    "start_time": "2024-09-02T07:25:46.639Z"
   },
   {
    "duration": 551,
    "start_time": "2024-09-02T07:25:48.346Z"
   },
   {
    "duration": 61,
    "start_time": "2024-09-02T07:25:50.783Z"
   },
   {
    "duration": 358,
    "start_time": "2024-09-02T07:25:53.552Z"
   },
   {
    "duration": 682,
    "start_time": "2024-09-02T07:25:54.479Z"
   },
   {
    "duration": 11546,
    "start_time": "2024-09-02T07:25:57.089Z"
   },
   {
    "duration": 6721,
    "start_time": "2024-09-02T07:26:40.488Z"
   },
   {
    "duration": 40808,
    "start_time": "2024-09-02T07:27:09.792Z"
   },
   {
    "duration": 6669,
    "start_time": "2024-09-02T07:27:58.584Z"
   },
   {
    "duration": 5696,
    "start_time": "2024-09-02T07:28:14.112Z"
   },
   {
    "duration": 72131,
    "start_time": "2024-09-02T07:28:22.712Z"
   },
   {
    "duration": 36741,
    "start_time": "2024-09-02T07:29:59.594Z"
   },
   {
    "duration": 18625,
    "start_time": "2024-09-02T07:30:48.506Z"
   },
   {
    "duration": 18549,
    "start_time": "2024-09-02T07:31:26.385Z"
   },
   {
    "duration": 30105,
    "start_time": "2024-09-02T07:32:43.427Z"
   },
   {
    "duration": 42560,
    "start_time": "2024-09-02T07:33:23.776Z"
   },
   {
    "duration": 23416,
    "start_time": "2024-09-02T07:34:28.528Z"
   },
   {
    "duration": 30406,
    "start_time": "2024-09-02T07:34:59.428Z"
   },
   {
    "duration": 40088,
    "start_time": "2024-09-02T07:35:50.448Z"
   },
   {
    "duration": 42458,
    "start_time": "2024-09-02T07:37:12.378Z"
   },
   {
    "duration": 28202,
    "start_time": "2024-09-02T07:38:22.937Z"
   }
  ],
  "kernelspec": {
   "display_name": "Python 3 (ipykernel)",
   "language": "python",
   "name": "python3"
  },
  "language_info": {
   "codemirror_mode": {
    "name": "ipython",
    "version": 3
   },
   "file_extension": ".py",
   "mimetype": "text/x-python",
   "name": "python",
   "nbconvert_exporter": "python",
   "pygments_lexer": "ipython3",
   "version": "3.9.19"
  },
  "toc": {
   "base_numbering": 1,
   "nav_menu": {},
   "number_sections": true,
   "sideBar": true,
   "skip_h1_title": true,
   "title_cell": "Table of Contents",
   "title_sidebar": "Contents",
   "toc_cell": false,
   "toc_position": {},
   "toc_section_display": true,
   "toc_window_display": false
  }
 },
 "nbformat": 4,
 "nbformat_minor": 2
}
