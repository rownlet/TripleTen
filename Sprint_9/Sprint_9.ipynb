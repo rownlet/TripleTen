{
 "cells": [
  {
   "cell_type": "markdown",
   "metadata": {},
   "source": [
    "# Beta Bank Churn Rate"
   ]
  },
  {
   "cell_type": "markdown",
   "metadata": {},
   "source": [
    "__Problema del Negocio__\n",
    "\n",
    "Beta Bank enfrenta un desafío significativo: cada mes, un número creciente de sus clientes está abandonando el banco. La gestión del banco ha identificado que es más rentable y eficiente enfocar sus esfuerzos en retener a los clientes actuales en lugar de atraer nuevos clientes para reemplazar a los que se van. Esto se debe a los altos costos asociados con la adquisición de nuevos clientes, en comparación con las estrategias de retención que pueden ser más económicas y efectivas.\n",
    "\n",
    "La pérdida de clientes no solo afecta los ingresos del banco, sino que también puede tener un impacto negativo en la reputación y estabilidad del banco. Por lo tanto, es crucial para Beta Bank desarrollar un sistema que pueda predecir con precisión si un cliente está en riesgo de abandonar el banco. Esta capacidad permitirá a la administración del banco tomar medidas proactivas para retener a esos clientes y reducir la tasa de abandono."
   ]
  },
  {
   "cell_type": "markdown",
   "metadata": {},
   "source": [
    "__Metodología__\n",
    "\n",
    "Para abordar este problema, se utilizarán técnicas de aprendizaje automático para construir un modelo de predicción que determine si un cliente dejará el banco en el futuro cercano. El objetivo principal es crear un modelo con el máximo valor F1 posible, asegurando que el valor F1 para el conjunto de prueba sea de al menos 0.59. Además, se medirá la métrica AUC-ROC y se comparará con el valor F1 para evaluar la capacidad del modelo de distinguir entre las clases positivas y negativas.\n",
    "\n",
    "__Proceso__\n",
    "\n",
    "1. __Cargar y Preprocesar los Datos__: Incluirá la limpieza de datos, la imputación de valores faltantes y la normalización de las características numéricas.\n",
    "<br>\n",
    "\n",
    "2. __División de los Datos__: Separar los datos en conjuntos de entrenamiento y prueba.\n",
    "<br>\n",
    "\n",
    "3. __Manejo del Desequilibrio de Clases__: Aplicar técnicas de submuestreo y sobremuestreo para equilibrar las clases.\n",
    "<br>\n",
    "\n",
    "4. __Entrenamiento y Evaluación de Modelos__: Entrenar múltiples modelos de clasificación con diferentes técnicas de manejo de desequilibrio de clases y evaluar su rendimiento.\n",
    "<br>\n",
    "\n",
    "5. __Medición de Métricas__: Calcular y comparar el valor `F1` y `AUC-ROC` de los modelos.\n",
    "<br>\n",
    "\n",
    "6. __Selección del Mejor Modelo__: Seleccionar el modelo que ofrezca el mejor equilibrio entre las métricas `F1` y `AUC-ROC`.\n",
    "<br>\n",
    "\n",
    "__Métricas__\n",
    "\n",
    "* `F1 Score`: Es una métrica que considera tanto la `precisión` como el `recall` del modelo, proporcionando una medida equilibrada del rendimiento del modelo especialmente útil cuando las clases están desequilibradas.\n",
    "<br>\n",
    "\n",
    "* `AUC-ROC`: Esta métrica mide la capacidad del modelo para distinguir entre las clases positivas y negativas. Un alto valor de AUC-ROC indica que el modelo tiene una buena capacidad discriminativa."
   ]
  },
  {
   "cell_type": "markdown",
   "metadata": {},
   "source": [
    "## __Descripción de los datos__"
   ]
  },
  {
   "cell_type": "markdown",
   "metadata": {},
   "source": [
    "__Características__"
   ]
  },
  {
   "cell_type": "markdown",
   "metadata": {},
   "source": [
    "- `RowNumber`: índice de cadena de datos\n",
    "\n",
    "- `CustomerId`: identificador de cliente único\n",
    "\n",
    "- `Surname`: apellido\n",
    "\n",
    "- `CreditScore`: valor de crédito\n",
    "\n",
    "- `Geography`: país de residencia\n",
    "\n",
    "- `Gender`: sexo\n",
    "\n",
    "- `Age`: edad\n",
    "\n",
    "- `Tenure`: período durante el cual ha madurado el depósito a plazo fijo de un cliente (años)\n",
    "\n",
    "- `Balance`: saldo de la cuenta\n",
    "\n",
    "- `NumOfProducts`: número de productos bancarios utilizados por el cliente\n",
    "\n",
    "- `HasCrCard`: el cliente tiene una tarjeta de crédito (1 - sí; 0 - no)\n",
    "\n",
    "- `IsActiveMember`: actividad del cliente (1 - sí; 0 - no)\n",
    "\n",
    "- `EstimatedSalary`: salario estimado"
   ]
  },
  {
   "cell_type": "markdown",
   "metadata": {},
   "source": [
    "__Objetivo__"
   ]
  },
  {
   "cell_type": "markdown",
   "metadata": {},
   "source": [
    "* `Exited`: El cliente se ha ido (1 - sí; 0 - no)"
   ]
  },
  {
   "cell_type": "markdown",
   "metadata": {},
   "source": [
    "## Carga de la base de datos"
   ]
  },
  {
   "cell_type": "code",
   "execution_count": 1,
   "metadata": {},
   "outputs": [],
   "source": [
    "# Importar librerias\n",
    "import numpy as np\n",
    "import pandas as pd\n",
    "import matplotlib.pyplot as plt\n",
    "import seaborn as sns\n",
    "from sklearn.impute import SimpleImputer\n",
    "from sklearn.preprocessing import StandardScaler\n",
    "from sklearn.model_selection import train_test_split\n",
    "from sklearn.linear_model import LogisticRegression\n",
    "from sklearn.ensemble import RandomForestClassifier\n",
    "from sklearn.metrics import f1_score, roc_auc_score"
   ]
  },
  {
   "cell_type": "code",
   "execution_count": 2,
   "metadata": {},
   "outputs": [
    {
     "data": {
      "text/html": [
       "<div>\n",
       "<style scoped>\n",
       "    .dataframe tbody tr th:only-of-type {\n",
       "        vertical-align: middle;\n",
       "    }\n",
       "\n",
       "    .dataframe tbody tr th {\n",
       "        vertical-align: top;\n",
       "    }\n",
       "\n",
       "    .dataframe thead th {\n",
       "        text-align: right;\n",
       "    }\n",
       "</style>\n",
       "<table border=\"1\" class=\"dataframe\">\n",
       "  <thead>\n",
       "    <tr style=\"text-align: right;\">\n",
       "      <th></th>\n",
       "      <th>RowNumber</th>\n",
       "      <th>CustomerId</th>\n",
       "      <th>Surname</th>\n",
       "      <th>CreditScore</th>\n",
       "      <th>Geography</th>\n",
       "      <th>Gender</th>\n",
       "      <th>Age</th>\n",
       "      <th>Tenure</th>\n",
       "      <th>Balance</th>\n",
       "      <th>NumOfProducts</th>\n",
       "      <th>HasCrCard</th>\n",
       "      <th>IsActiveMember</th>\n",
       "      <th>EstimatedSalary</th>\n",
       "      <th>Exited</th>\n",
       "    </tr>\n",
       "  </thead>\n",
       "  <tbody>\n",
       "    <tr>\n",
       "      <th>0</th>\n",
       "      <td>1</td>\n",
       "      <td>15634602</td>\n",
       "      <td>Hargrave</td>\n",
       "      <td>619</td>\n",
       "      <td>France</td>\n",
       "      <td>Female</td>\n",
       "      <td>42</td>\n",
       "      <td>2.0</td>\n",
       "      <td>0.00</td>\n",
       "      <td>1</td>\n",
       "      <td>1</td>\n",
       "      <td>1</td>\n",
       "      <td>101348.88</td>\n",
       "      <td>1</td>\n",
       "    </tr>\n",
       "    <tr>\n",
       "      <th>1</th>\n",
       "      <td>2</td>\n",
       "      <td>15647311</td>\n",
       "      <td>Hill</td>\n",
       "      <td>608</td>\n",
       "      <td>Spain</td>\n",
       "      <td>Female</td>\n",
       "      <td>41</td>\n",
       "      <td>1.0</td>\n",
       "      <td>83807.86</td>\n",
       "      <td>1</td>\n",
       "      <td>0</td>\n",
       "      <td>1</td>\n",
       "      <td>112542.58</td>\n",
       "      <td>0</td>\n",
       "    </tr>\n",
       "    <tr>\n",
       "      <th>2</th>\n",
       "      <td>3</td>\n",
       "      <td>15619304</td>\n",
       "      <td>Onio</td>\n",
       "      <td>502</td>\n",
       "      <td>France</td>\n",
       "      <td>Female</td>\n",
       "      <td>42</td>\n",
       "      <td>8.0</td>\n",
       "      <td>159660.80</td>\n",
       "      <td>3</td>\n",
       "      <td>1</td>\n",
       "      <td>0</td>\n",
       "      <td>113931.57</td>\n",
       "      <td>1</td>\n",
       "    </tr>\n",
       "    <tr>\n",
       "      <th>3</th>\n",
       "      <td>4</td>\n",
       "      <td>15701354</td>\n",
       "      <td>Boni</td>\n",
       "      <td>699</td>\n",
       "      <td>France</td>\n",
       "      <td>Female</td>\n",
       "      <td>39</td>\n",
       "      <td>1.0</td>\n",
       "      <td>0.00</td>\n",
       "      <td>2</td>\n",
       "      <td>0</td>\n",
       "      <td>0</td>\n",
       "      <td>93826.63</td>\n",
       "      <td>0</td>\n",
       "    </tr>\n",
       "    <tr>\n",
       "      <th>4</th>\n",
       "      <td>5</td>\n",
       "      <td>15737888</td>\n",
       "      <td>Mitchell</td>\n",
       "      <td>850</td>\n",
       "      <td>Spain</td>\n",
       "      <td>Female</td>\n",
       "      <td>43</td>\n",
       "      <td>2.0</td>\n",
       "      <td>125510.82</td>\n",
       "      <td>1</td>\n",
       "      <td>1</td>\n",
       "      <td>1</td>\n",
       "      <td>79084.10</td>\n",
       "      <td>0</td>\n",
       "    </tr>\n",
       "  </tbody>\n",
       "</table>\n",
       "</div>"
      ],
      "text/plain": [
       "   RowNumber  CustomerId   Surname  CreditScore Geography  Gender  Age  \\\n",
       "0          1    15634602  Hargrave          619    France  Female   42   \n",
       "1          2    15647311      Hill          608     Spain  Female   41   \n",
       "2          3    15619304      Onio          502    France  Female   42   \n",
       "3          4    15701354      Boni          699    France  Female   39   \n",
       "4          5    15737888  Mitchell          850     Spain  Female   43   \n",
       "\n",
       "   Tenure    Balance  NumOfProducts  HasCrCard  IsActiveMember  \\\n",
       "0     2.0       0.00              1          1               1   \n",
       "1     1.0   83807.86              1          0               1   \n",
       "2     8.0  159660.80              3          1               0   \n",
       "3     1.0       0.00              2          0               0   \n",
       "4     2.0  125510.82              1          1               1   \n",
       "\n",
       "   EstimatedSalary  Exited  \n",
       "0        101348.88       1  \n",
       "1        112542.58       0  \n",
       "2        113931.57       1  \n",
       "3         93826.63       0  \n",
       "4         79084.10       0  "
      ]
     },
     "execution_count": 2,
     "metadata": {},
     "output_type": "execute_result"
    }
   ],
   "source": [
    "# Cargar los datos\n",
    "churn_df = pd.read_csv('/datasets/Churn.csv')\n",
    "\n",
    "# Ver las primeras filas del conjunto de datos\n",
    "churn_df.head()"
   ]
  },
  {
   "cell_type": "code",
   "execution_count": 3,
   "metadata": {
    "scrolled": false
   },
   "outputs": [
    {
     "name": "stdout",
     "output_type": "stream",
     "text": [
      "<class 'pandas.core.frame.DataFrame'>\n",
      "RangeIndex: 10000 entries, 0 to 9999\n",
      "Data columns (total 14 columns):\n",
      " #   Column           Non-Null Count  Dtype  \n",
      "---  ------           --------------  -----  \n",
      " 0   RowNumber        10000 non-null  int64  \n",
      " 1   CustomerId       10000 non-null  int64  \n",
      " 2   Surname          10000 non-null  object \n",
      " 3   CreditScore      10000 non-null  int64  \n",
      " 4   Geography        10000 non-null  object \n",
      " 5   Gender           10000 non-null  object \n",
      " 6   Age              10000 non-null  int64  \n",
      " 7   Tenure           9091 non-null   float64\n",
      " 8   Balance          10000 non-null  float64\n",
      " 9   NumOfProducts    10000 non-null  int64  \n",
      " 10  HasCrCard        10000 non-null  int64  \n",
      " 11  IsActiveMember   10000 non-null  int64  \n",
      " 12  EstimatedSalary  10000 non-null  float64\n",
      " 13  Exited           10000 non-null  int64  \n",
      "dtypes: float64(3), int64(8), object(3)\n",
      "memory usage: 1.1+ MB\n"
     ]
    }
   ],
   "source": [
    "# Revisar la composición del DataFrame\n",
    "\n",
    "churn_df.info()"
   ]
  },
  {
   "cell_type": "code",
   "execution_count": 4,
   "metadata": {},
   "outputs": [
    {
     "data": {
      "text/plain": [
       "RowNumber            0\n",
       "CustomerId           0\n",
       "Surname              0\n",
       "CreditScore          0\n",
       "Geography            0\n",
       "Gender               0\n",
       "Age                  0\n",
       "Tenure             909\n",
       "Balance              0\n",
       "NumOfProducts        0\n",
       "HasCrCard            0\n",
       "IsActiveMember       0\n",
       "EstimatedSalary      0\n",
       "Exited               0\n",
       "dtype: int64"
      ]
     },
     "execution_count": 4,
     "metadata": {},
     "output_type": "execute_result"
    }
   ],
   "source": [
    "# Verificar valores faltantes\n",
    "churn_df.isnull().sum()"
   ]
  },
  {
   "cell_type": "markdown",
   "metadata": {},
   "source": [
    "Observamos la existencia de valores faltantes en la columna `Tenure`. Por lo que haremos una imputación simple utilizando la función `SimpleImputer` de la libreria `sklearn` considerando la mediana para reducir el sesgo y asegurar la integridad de los datos."
   ]
  },
  {
   "cell_type": "code",
   "execution_count": 5,
   "metadata": {},
   "outputs": [
    {
     "data": {
      "text/plain": [
       "RowNumber          0\n",
       "CustomerId         0\n",
       "Surname            0\n",
       "CreditScore        0\n",
       "Geography          0\n",
       "Gender             0\n",
       "Age                0\n",
       "Tenure             0\n",
       "Balance            0\n",
       "NumOfProducts      0\n",
       "HasCrCard          0\n",
       "IsActiveMember     0\n",
       "EstimatedSalary    0\n",
       "Exited             0\n",
       "dtype: int64"
      ]
     },
     "execution_count": 5,
     "metadata": {},
     "output_type": "execute_result"
    }
   ],
   "source": [
    "# Imputar valores faltantes\n",
    "imputer = SimpleImputer(strategy='median')\n",
    "churn_df['Tenure'] = imputer.fit_transform(churn_df[['Tenure']])\n",
    "\n",
    "# Verificar nuevamente si hay valores faltantes\n",
    "churn_df.isnull().sum()"
   ]
  },
  {
   "cell_type": "markdown",
   "metadata": {},
   "source": [
    "## Preprocesamiento de datos"
   ]
  },
  {
   "cell_type": "markdown",
   "metadata": {},
   "source": [
    "* __Eliminación de columnas innecesarias__:\n",
    "\n",
    "`RowNumber`, `CustomerId` y `Surname` no son relevantes para el análisis."
   ]
  },
  {
   "cell_type": "code",
   "execution_count": 6,
   "metadata": {},
   "outputs": [],
   "source": [
    "# Eliminar columnas innecesarias\n",
    "churn_df = churn_df.drop(columns=['RowNumber', 'CustomerId', 'Surname'])"
   ]
  },
  {
   "cell_type": "markdown",
   "metadata": {},
   "source": [
    "* __Codificación de variables categóricas__:\n",
    "\n",
    "`Geography` y `Gender` serán codificadas usando `pd.get_dummies()` para convertirlas en variables binarias."
   ]
  },
  {
   "cell_type": "code",
   "execution_count": 7,
   "metadata": {},
   "outputs": [],
   "source": [
    "# Codificar variables categóricas\n",
    "churn_df = pd.get_dummies(churn_df, columns=['Geography', 'Gender'], drop_first=True)"
   ]
  },
  {
   "cell_type": "markdown",
   "metadata": {},
   "source": [
    "* __Normalización de características numéricas__:\n",
    "\n",
    "Normalizaremos `CreditScore`, `Age`, `Tenure`, `Balance`, `NumOfProducts`, y `EstimatedSalary` para mejorar el rendimiento del modelo."
   ]
  },
  {
   "cell_type": "code",
   "execution_count": 8,
   "metadata": {
    "scrolled": true
   },
   "outputs": [
    {
     "data": {
      "text/html": [
       "<div>\n",
       "<style scoped>\n",
       "    .dataframe tbody tr th:only-of-type {\n",
       "        vertical-align: middle;\n",
       "    }\n",
       "\n",
       "    .dataframe tbody tr th {\n",
       "        vertical-align: top;\n",
       "    }\n",
       "\n",
       "    .dataframe thead th {\n",
       "        text-align: right;\n",
       "    }\n",
       "</style>\n",
       "<table border=\"1\" class=\"dataframe\">\n",
       "  <thead>\n",
       "    <tr style=\"text-align: right;\">\n",
       "      <th></th>\n",
       "      <th>CreditScore</th>\n",
       "      <th>Age</th>\n",
       "      <th>Tenure</th>\n",
       "      <th>Balance</th>\n",
       "      <th>NumOfProducts</th>\n",
       "      <th>HasCrCard</th>\n",
       "      <th>IsActiveMember</th>\n",
       "      <th>EstimatedSalary</th>\n",
       "      <th>Exited</th>\n",
       "      <th>Geography_Germany</th>\n",
       "      <th>Geography_Spain</th>\n",
       "      <th>Gender_Male</th>\n",
       "    </tr>\n",
       "  </thead>\n",
       "  <tbody>\n",
       "    <tr>\n",
       "      <th>0</th>\n",
       "      <td>-0.326221</td>\n",
       "      <td>0.293517</td>\n",
       "      <td>-1.086246</td>\n",
       "      <td>-1.225848</td>\n",
       "      <td>-0.911583</td>\n",
       "      <td>1</td>\n",
       "      <td>1</td>\n",
       "      <td>0.021886</td>\n",
       "      <td>1</td>\n",
       "      <td>0</td>\n",
       "      <td>0</td>\n",
       "      <td>0</td>\n",
       "    </tr>\n",
       "    <tr>\n",
       "      <th>1</th>\n",
       "      <td>-0.440036</td>\n",
       "      <td>0.198164</td>\n",
       "      <td>-1.448581</td>\n",
       "      <td>0.117350</td>\n",
       "      <td>-0.911583</td>\n",
       "      <td>0</td>\n",
       "      <td>1</td>\n",
       "      <td>0.216534</td>\n",
       "      <td>0</td>\n",
       "      <td>0</td>\n",
       "      <td>1</td>\n",
       "      <td>0</td>\n",
       "    </tr>\n",
       "    <tr>\n",
       "      <th>2</th>\n",
       "      <td>-1.536794</td>\n",
       "      <td>0.293517</td>\n",
       "      <td>1.087768</td>\n",
       "      <td>1.333053</td>\n",
       "      <td>2.527057</td>\n",
       "      <td>1</td>\n",
       "      <td>0</td>\n",
       "      <td>0.240687</td>\n",
       "      <td>1</td>\n",
       "      <td>0</td>\n",
       "      <td>0</td>\n",
       "      <td>0</td>\n",
       "    </tr>\n",
       "    <tr>\n",
       "      <th>3</th>\n",
       "      <td>0.501521</td>\n",
       "      <td>0.007457</td>\n",
       "      <td>-1.448581</td>\n",
       "      <td>-1.225848</td>\n",
       "      <td>0.807737</td>\n",
       "      <td>0</td>\n",
       "      <td>0</td>\n",
       "      <td>-0.108918</td>\n",
       "      <td>0</td>\n",
       "      <td>0</td>\n",
       "      <td>0</td>\n",
       "      <td>0</td>\n",
       "    </tr>\n",
       "    <tr>\n",
       "      <th>4</th>\n",
       "      <td>2.063884</td>\n",
       "      <td>0.388871</td>\n",
       "      <td>-1.086246</td>\n",
       "      <td>0.785728</td>\n",
       "      <td>-0.911583</td>\n",
       "      <td>1</td>\n",
       "      <td>1</td>\n",
       "      <td>-0.365276</td>\n",
       "      <td>0</td>\n",
       "      <td>0</td>\n",
       "      <td>1</td>\n",
       "      <td>0</td>\n",
       "    </tr>\n",
       "  </tbody>\n",
       "</table>\n",
       "</div>"
      ],
      "text/plain": [
       "   CreditScore       Age    Tenure   Balance  NumOfProducts  HasCrCard  \\\n",
       "0    -0.326221  0.293517 -1.086246 -1.225848      -0.911583          1   \n",
       "1    -0.440036  0.198164 -1.448581  0.117350      -0.911583          0   \n",
       "2    -1.536794  0.293517  1.087768  1.333053       2.527057          1   \n",
       "3     0.501521  0.007457 -1.448581 -1.225848       0.807737          0   \n",
       "4     2.063884  0.388871 -1.086246  0.785728      -0.911583          1   \n",
       "\n",
       "   IsActiveMember  EstimatedSalary  Exited  Geography_Germany  \\\n",
       "0               1         0.021886       1                  0   \n",
       "1               1         0.216534       0                  0   \n",
       "2               0         0.240687       1                  0   \n",
       "3               0        -0.108918       0                  0   \n",
       "4               1        -0.365276       0                  0   \n",
       "\n",
       "   Geography_Spain  Gender_Male  \n",
       "0                0            0  \n",
       "1                1            0  \n",
       "2                0            0  \n",
       "3                0            0  \n",
       "4                1            0  "
      ]
     },
     "execution_count": 8,
     "metadata": {},
     "output_type": "execute_result"
    }
   ],
   "source": [
    "# Normalizar características numéricas\n",
    "\n",
    "scaler = StandardScaler()\n",
    "features_to_scale = ['CreditScore', 'Age', 'Tenure', 'Balance', 'NumOfProducts', 'EstimatedSalary']\n",
    "churn_df[features_to_scale] = scaler.fit_transform(churn_df[features_to_scale])\n",
    "\n",
    "# Verificar los datos preprocesados\n",
    "churn_df.head()"
   ]
  },
  {
   "cell_type": "markdown",
   "metadata": {},
   "source": [
    "## Dividir los datos en conjuntos de entrenamiento y prueba"
   ]
  },
  {
   "cell_type": "markdown",
   "metadata": {},
   "source": [
    "Dividimos los datos en características (`X`) y el objetivo (`y`), luego los separamos en conjuntos de entrenamiento y validación."
   ]
  },
  {
   "cell_type": "code",
   "execution_count": 9,
   "metadata": {},
   "outputs": [
    {
     "name": "stdout",
     "output_type": "stream",
     "text": [
      "(7500, 11)\n",
      "(2500, 11)\n"
     ]
    }
   ],
   "source": [
    "# Dividir los datos en características (X) y objetivo (y)\n",
    "X = churn_df.drop(columns=['Exited'])\n",
    "y = churn_df['Exited']\n",
    "\n",
    "# Dividir los datos en conjuntos de entrenamiento y prueba\n",
    "X_train, X_test, y_train, y_test = train_test_split(X, y, test_size=0.25, random_state=42)\n",
    "\n",
    "# Muestra los tamaños de las tablas almacenadas\n",
    "print(X_train.shape)\n",
    "print(X_test.shape)"
   ]
  },
  {
   "cell_type": "markdown",
   "metadata": {},
   "source": [
    "## Examinar el equilibrio de clases"
   ]
  },
  {
   "cell_type": "markdown",
   "metadata": {},
   "source": [
    "Examinamos la distribución de clases en el conjunto de entrenamiento."
   ]
  },
  {
   "cell_type": "code",
   "execution_count": 10,
   "metadata": {},
   "outputs": [
    {
     "data": {
      "image/png": "[encoded data removed]",
      "text/plain": [
       "<Figure size 640x480 with 1 Axes>"
      ]
     },
     "metadata": {},
     "output_type": "display_data"
    }
   ],
   "source": [
    "# Examinar el equilibrio de clases\n",
    "y_train.value_counts().plot(kind='bar', title='Distribución de clases en el conjunto de entrenamiento')\n",
    "plt.xlabel('Exited')\n",
    "plt.ylabel('Count')\n",
    "plt.show()"
   ]
  },
  {
   "cell_type": "markdown",
   "metadata": {},
   "source": [
    "## Entrenar el modelo sin corregir el desequilibrio de clases"
   ]
  },
  {
   "cell_type": "markdown",
   "metadata": {},
   "source": [
    "Usamos un modelo de clasificación básico, `Logistic Regression`, para entrenar y evaluar sin manejar el desequilibrio."
   ]
  },
  {
   "cell_type": "code",
   "execution_count": 11,
   "metadata": {},
   "outputs": [
    {
     "name": "stdout",
     "output_type": "stream",
     "text": [
      "F1 Score:0.2916\n",
      "ROC AUC: 0.5789\n"
     ]
    }
   ],
   "source": [
    "# Entrenar el modelo\n",
    "model = LogisticRegression(random_state=42, solver='liblinear')\n",
    "model.fit(X_train, y_train)\n",
    "\n",
    "# Evaluar el modelo\n",
    "y_pred = model.predict(X_test)\n",
    "f1 = f1_score(y_test, y_pred)\n",
    "roc_auc = roc_auc_score(y_test, y_pred)\n",
    "\n",
    "print(f'F1 Score:{f1:.4f}')\n",
    "print(f'ROC AUC: {roc_auc:.4f}')"
   ]
  },
  {
   "cell_type": "markdown",
   "metadata": {},
   "source": [
    "Estos resultados indican que el modelo necesita mejoras significativas, especialmente para manejar el desequilibrio de clases."
   ]
  },
  {
   "cell_type": "markdown",
   "metadata": {},
   "source": [
    "## Manejar el desequilibrio de clases"
   ]
  },
  {
   "cell_type": "markdown",
   "metadata": {},
   "source": [
    "Probaremos dos enfoques: `submuestreo` de la clase mayoritaria y `sobremuestreo` de la clase minoritaria."
   ]
  },
  {
   "cell_type": "markdown",
   "metadata": {},
   "source": [
    "* __Submuestreo de la clase mayoritaria__"
   ]
  },
  {
   "cell_type": "code",
   "execution_count": 12,
   "metadata": {},
   "outputs": [],
   "source": [
    "from sklearn.utils import resample\n",
    "\n",
    "# Combinar X_train y y_train para el resampling\n",
    "train_data = pd.concat([X_train, y_train], axis=1)\n",
    "\n",
    "# Dividir entre clases mayoritaria y minoritaria\n",
    "majority_class = train_data[train_data.Exited == 0]\n",
    "minority_class = train_data[train_data.Exited == 1]\n",
    "\n",
    "# Submuestreo de la clase mayoritaria\n",
    "majority_downsampled = resample(majority_class,\n",
    "                                replace=False,\n",
    "                                n_samples=len(minority_class),\n",
    "                                random_state=42)\n",
    "\n",
    "# Combinar clases submuestreadas y la clase minoritaria\n",
    "downsampled = pd.concat([majority_downsampled, minority_class])\n",
    "\n",
    "# Dividir en características y objetivo\n",
    "X_train_downsampled = downsampled.drop(columns=['Exited'])\n",
    "y_train_downsampled = downsampled['Exited']"
   ]
  },
  {
   "cell_type": "markdown",
   "metadata": {},
   "source": [
    "* __Sobremuestreo de la clase minoritaria__"
   ]
  },
  {
   "cell_type": "code",
   "execution_count": 13,
   "metadata": {},
   "outputs": [],
   "source": [
    "# Sobremuestreo de la clase minoritaria\n",
    "minority_upsampled = resample(minority_class,\n",
    "                              replace=True,\n",
    "                              n_samples=len(majority_class),\n",
    "                              random_state=42)\n",
    "\n",
    "# Combinar clases sobremuestreadas y la clase mayoritaria\n",
    "upsampled = pd.concat([majority_class, minority_upsampled])\n",
    "\n",
    "# Dividir en características y objetivo\n",
    "X_train_upsampled = upsampled.drop(columns=['Exited'])\n",
    "y_train_upsampled = upsampled['Exited']"
   ]
  },
  {
   "cell_type": "markdown",
   "metadata": {},
   "source": [
    "## Entrenar y evaluar modelos con datos equilibrados"
   ]
  },
  {
   "cell_type": "markdown",
   "metadata": {},
   "source": [
    "* __Modelo con datos submuestreados__"
   ]
  },
  {
   "cell_type": "code",
   "execution_count": 14,
   "metadata": {},
   "outputs": [
    {
     "data": {
      "text/plain": [
       "(0.4960573476702509, 0.7102952211521752)"
      ]
     },
     "execution_count": 14,
     "metadata": {},
     "output_type": "execute_result"
    }
   ],
   "source": [
    "# Entrenar el modelo con datos submuestreados\n",
    "model_downsampled = LogisticRegression(random_state=42)\n",
    "model_downsampled.fit(X_train_downsampled, y_train_downsampled)\n",
    "\n",
    "# Evaluar el modelo\n",
    "y_pred_downsampled = model_downsampled.predict(X_test)\n",
    "f1_downsampled = f1_score(y_test, y_pred_downsampled)\n",
    "roc_auc_downsampled = roc_auc_score(y_test, y_pred_downsampled)\n",
    "\n",
    "f1_downsampled, roc_auc_downsampled"
   ]
  },
  {
   "cell_type": "markdown",
   "metadata": {},
   "source": [
    "* __Modelo con datos sobremuestreados__"
   ]
  },
  {
   "cell_type": "code",
   "execution_count": 15,
   "metadata": {},
   "outputs": [
    {
     "data": {
      "text/plain": [
       "(0.49095966620305975, 0.7083509544536314)"
      ]
     },
     "execution_count": 15,
     "metadata": {},
     "output_type": "execute_result"
    }
   ],
   "source": [
    "# Entrenar el modelo con datos sobremuestreados\n",
    "model_upsampled = LogisticRegression(random_state=42)\n",
    "model_upsampled.fit(X_train_upsampled, y_train_upsampled)\n",
    "\n",
    "# Evaluar el modelo\n",
    "y_pred_upsampled = model_upsampled.predict(X_test)\n",
    "f1_upsampled = f1_score(y_test, y_pred_upsampled)\n",
    "roc_auc_upsampled = roc_auc_score(y_test, y_pred_upsampled)\n",
    "\n",
    "f1_upsampled, roc_auc_upsampled"
   ]
  },
  {
   "cell_type": "markdown",
   "metadata": {},
   "source": [
    "Ambos enfoques han mejorado significativamente los puntajes `F1` y `AUC-ROC` en comparación con el modelo inicial sin manejo del desequilibrio de clases."
   ]
  },
  {
   "cell_type": "markdown",
   "metadata": {},
   "source": [
    "## Entrenar y evaluar modelos con Random Forest"
   ]
  },
  {
   "cell_type": "markdown",
   "metadata": {},
   "source": [
    "Vamos a probar con el modelo de `Random Forest` y realizaremos tanto `submuestreo` como `sobremuestreo` para ver cuál da mejores resultados."
   ]
  },
  {
   "cell_type": "code",
   "execution_count": 16,
   "metadata": {},
   "outputs": [
    {
     "name": "stdout",
     "output_type": "stream",
     "text": [
      "F1 Score: 0.58\n",
      "AUC-ROC Score: 0.71\n"
     ]
    }
   ],
   "source": [
    "# Entrenar el modelo de Random Forest\n",
    "rf = RandomForestClassifier(n_estimators=100, max_depth=10, random_state=42)\n",
    "rf.fit(X_train, y_train)\n",
    "\n",
    "# Evaluar el modelo\n",
    "y_pred = rf.predict(X_test)\n",
    "f1 = f1_score(y_test, y_pred)\n",
    "roc_auc = roc_auc_score(y_test, y_pred)\n",
    "\n",
    "# Mostrar resultados\n",
    "print(f'F1 Score: {f1:.2f}')\n",
    "print(f'AUC-ROC Score: {roc_auc:.2f}')"
   ]
  },
  {
   "cell_type": "markdown",
   "metadata": {},
   "source": [
    "El modelo de `Random Forest` sin ajustes ha logrado un `F1 Score` de `0.58` y un `AUC-ROC Score` de `0.71`. "
   ]
  },
  {
   "cell_type": "markdown",
   "metadata": {},
   "source": [
    "* __Submuestreo de la clase mayoritaria__"
   ]
  },
  {
   "cell_type": "code",
   "execution_count": 17,
   "metadata": {},
   "outputs": [
    {
     "name": "stdout",
     "output_type": "stream",
     "text": [
      "F1 con submuestreo: 0.59\n",
      "AUC-ROC con submuestreo: 0.78\n"
     ]
    }
   ],
   "source": [
    "# Entrenar el modelo con datos submuestreados\n",
    "rf_downsampled = RandomForestClassifier(n_estimators=100, max_depth=10, random_state=42)\n",
    "rf_downsampled.fit(X_train_downsampled, y_train_downsampled)\n",
    "\n",
    "# Evaluar el modelo\n",
    "rf_y_pred_downsampled = rf_downsampled.predict(X_test)\n",
    "rf_f1_downsampled = f1_score(y_test, rf_y_pred_downsampled)\n",
    "rf_roc_auc_downsampled = roc_auc_score(y_test, rf_y_pred_downsampled)\n",
    "\n",
    "# Mostrar resultados\n",
    "print(f'F1 con submuestreo: {rf_f1_downsampled:.2f}')\n",
    "print(f'AUC-ROC con submuestreo: {rf_roc_auc_downsampled:.2f}')"
   ]
  },
  {
   "cell_type": "markdown",
   "metadata": {},
   "source": [
    "* __Sobremuestreo de la clase minoritaria__"
   ]
  },
  {
   "cell_type": "code",
   "execution_count": 18,
   "metadata": {},
   "outputs": [
    {
     "name": "stdout",
     "output_type": "stream",
     "text": [
      "F1 con sobremuestreo: 0.62\n",
      "AUC-ROC con sobremuestreo: 0.78\n"
     ]
    }
   ],
   "source": [
    "# Entrenar el modelo con datos sobremuestreados\n",
    "rf_upsampled = RandomForestClassifier(n_estimators=100, max_depth=10, random_state=42)\n",
    "rf_upsampled.fit(X_train_upsampled, y_train_upsampled)\n",
    "\n",
    "# Evaluar el modelo\n",
    "rf_y_pred_upsampled = rf_upsampled.predict(X_test)\n",
    "rf_f1_upsampled = f1_score(y_test, rf_y_pred_upsampled)\n",
    "rf_roc_auc_upsampled = roc_auc_score(y_test, rf_y_pred_upsampled)\n",
    "\n",
    "# Mostrar resultados\n",
    "print(f'F1 con sobremuestreo: {rf_f1_upsampled:.2f}')\n",
    "print(f'AUC-ROC con sobremuestreo: {rf_roc_auc_upsampled:.2f}')"
   ]
  },
  {
   "cell_type": "markdown",
   "metadata": {},
   "source": [
    "* __Mejora del rendimiento con técnicas de balanceo__: Tanto el submuestreo como el sobremuestreo mejoran el rendimiento del modelo en comparación con el modelo sin ajustes. Esto se evidencia en el aumento tanto del `F1 Score` como del `AUC-ROC`.\n",
    "<br>\n",
    "\n",
    "* __Sobremuestreo vs. Submuestreo__: El `sobremuestreo` de la clase minoritaria ha mostrado ser ligeramente superior al submuestreo de la clase mayoritaria, logrando un `F1 Score` de `0.62` en comparación con el `0.59` obtenido mediante `submuestreo`. Ambos métodos lograron un `AUC-ROC` similar de `0.78`, lo que indica que ambos métodos son eficaces para mejorar la discriminación del modelo.\n",
    "\n",
    "En resumen, el uso de `sobremuestreo` de la clase minoritaria se muestra como la mejor técnica en este caso, cumpliendo con el umbral de `F1 Score` requerido `0.59` y mejorando significativamente el rendimiento del modelo en comparación con no aplicar ningún ajuste."
   ]
  },
  {
   "cell_type": "markdown",
   "metadata": {},
   "source": [
    "# Conclusión"
   ]
  },
  {
   "cell_type": "markdown",
   "metadata": {},
   "source": [
    "El objetivo de este proyecto era desarrollar un modelo predictivo que pudiera identificar a los clientes de Beta Bank que están en riesgo de abandonar el banco. La intención era utilizar este modelo para implementar estrategias de retención de clientes, priorizando la retención de clientes actuales sobre la adquisición de nuevos clientes, ya que es una estrategia más rentable.\n",
    "\n",
    "__Logistic Regression__: Este modelo tiene un rendimiento pobre, con un `F1 Score` de `0.2916` y un `AUC-ROC Score` de `0.5789`, indicando que no es efectivo para predecir la retención de clientes sin manejar el desequilibrio de clases.\n",
    "\n",
    "* __Submuestreo__: Mejora significativamente las métricas, alcanzando un `F1 Scor`e de `0.4961` y un `AUC-ROC Score` de `0.7103`.\n",
    "\n",
    "* __Sobremuestreo__: Mejora de manera similar las métricas, con un `F1 Score` de `0.4910` y un `AUC-ROC Score` de `0.7084`.\n",
    "\n",
    "\n",
    "__Random Forest__: Tiene un rendimiento moderado, pero insuficiente para cumplir con el umbral requerido.\n",
    "\n",
    "* __Submuestreo__: Mejora ligeramente el `F1 Score` y significativamente el `AUC-ROC Score`.\n",
    "\n",
    "* __Con Sobremuestreo__: Proporciona los mejores resultados, superando el umbral requerido con un `F1 Score` de `0.62` y un `AUC-ROC Score` de `0.78`.\n",
    "\n",
    "\n",
    "__Recomendaciones__\n",
    "\n",
    "1. __Implementación del Modelo con Sobremuestreo__: Dado que el modelo de `Random Forest` con sobremuestreo alcanzó los mejores resultados en términos de `F1 Score` y `AUC-ROC Score`, se recomienda utilizar este modelo para predecir la retención de clientes en Beta Bank. Este modelo proporcionará las predicciones más equilibradas y precisas para identificar a los clientes en riesgo de abandonar el banco.\n",
    "<br>\n",
    "\n",
    "2. __Monitoreo Continuo__: Es importante monitorear continuamente el rendimiento del modelo y realizar ajustes según sea necesario. Las características de los clientes y las tendencias del mercado pueden cambiar con el tiempo, lo que podría afectar la precisión del modelo.\n",
    "<br>\n",
    "\n",
    "3. __Estrategias de Retención__: Utilizar las predicciones del modelo para diseñar e implementar estrategias de retención personalizadas. Esto puede incluir ofertas especiales, mejoras en el servicio al cliente y programas de fidelización para los clientes identificados como de alto riesgo de abandono.\n",
    "<br>\n",
    "\n",
    "4. __Mejora del modelo Random Forest__: Para mejorar aún más el modelo de `Random Forest`, se podría realizar una búsqueda de hiperparámetros utilizando `GridSearchCV`. De tal forma se pueden ajustar parámetros como el número de árboles (`n_estimators`), la profundidad máxima (`max_depth`), el número mínimo de muestras para dividir un nodo (`min_samples_split`), y el número mínimo de muestras en una hoja (`min_samples_leaf`).\n",
    "\n",
    "En conclusión, la aplicación de técnicas de aprendizaje automático y el manejo adecuado del desequilibrio de clases han demostrado ser efectivos para mejorar la capacidad predictiva del modelo, proporcionando a Beta Bank una herramienta valiosa para retener a sus clientes y reducir la tasa de abandono."
   ]
  }
 ],
 "metadata": {
  "ExecuteTimeLog": [
   {
    "duration": 4,
    "start_time": "2024-07-19T23:27:20.809Z"
   },
   {
    "duration": 311,
    "start_time": "2024-07-19T23:28:54.357Z"
   },
   {
    "duration": 11,
    "start_time": "2024-07-19T23:30:44.322Z"
   },
   {
    "duration": 22,
    "start_time": "2024-07-19T23:33:09.106Z"
   },
   {
    "duration": 4,
    "start_time": "2024-07-19T23:33:44.223Z"
   },
   {
    "duration": 32,
    "start_time": "2024-07-19T23:35:50.962Z"
   },
   {
    "duration": 25,
    "start_time": "2024-07-19T23:35:54.216Z"
   },
   {
    "duration": 5631,
    "start_time": "2024-07-19T23:35:57.696Z"
   },
   {
    "duration": 5,
    "start_time": "2024-07-19T23:36:13.545Z"
   },
   {
    "duration": 67,
    "start_time": "2024-07-19T23:36:16.007Z"
   },
   {
    "duration": 39,
    "start_time": "2024-07-19T23:37:22.394Z"
   },
   {
    "duration": 36,
    "start_time": "2024-07-19T23:38:22.074Z"
   },
   {
    "duration": 44,
    "start_time": "2024-07-19T23:38:26.705Z"
   },
   {
    "duration": 27,
    "start_time": "2024-07-19T23:38:34.641Z"
   },
   {
    "duration": 23,
    "start_time": "2024-07-19T23:38:40.952Z"
   },
   {
    "duration": 39,
    "start_time": "2024-07-19T23:39:06.335Z"
   },
   {
    "duration": 22,
    "start_time": "2024-07-19T23:40:05.778Z"
   },
   {
    "duration": 8,
    "start_time": "2024-07-19T23:41:07.287Z"
   },
   {
    "duration": 12,
    "start_time": "2024-07-19T23:41:13.954Z"
   },
   {
    "duration": 10,
    "start_time": "2024-07-19T23:41:23.872Z"
   },
   {
    "duration": 8,
    "start_time": "2024-07-19T23:41:27.609Z"
   },
   {
    "duration": 18,
    "start_time": "2024-07-19T23:41:33.716Z"
   },
   {
    "duration": 11,
    "start_time": "2024-07-19T23:41:54.488Z"
   },
   {
    "duration": 8,
    "start_time": "2024-07-19T23:42:02.961Z"
   },
   {
    "duration": 10,
    "start_time": "2024-07-19T23:42:13.555Z"
   },
   {
    "duration": 10,
    "start_time": "2024-07-19T23:43:59.809Z"
   },
   {
    "duration": 7,
    "start_time": "2024-07-19T23:44:52.636Z"
   },
   {
    "duration": 11,
    "start_time": "2024-07-19T23:44:58.456Z"
   },
   {
    "duration": 11,
    "start_time": "2024-07-19T23:45:10.444Z"
   },
   {
    "duration": 8,
    "start_time": "2024-07-19T23:45:17.641Z"
   },
   {
    "duration": 9,
    "start_time": "2024-07-19T23:45:29.777Z"
   },
   {
    "duration": 32,
    "start_time": "2024-07-19T23:46:23.248Z"
   },
   {
    "duration": 49,
    "start_time": "2024-07-19T23:47:13.401Z"
   },
   {
    "duration": 23,
    "start_time": "2024-07-19T23:47:27.865Z"
   },
   {
    "duration": 11,
    "start_time": "2024-07-19T23:47:51.304Z"
   },
   {
    "duration": 13,
    "start_time": "2024-07-19T23:47:59.304Z"
   },
   {
    "duration": 12,
    "start_time": "2024-07-19T23:48:14.321Z"
   },
   {
    "duration": 48,
    "start_time": "2024-07-19T23:48:55.829Z"
   },
   {
    "duration": 32,
    "start_time": "2024-07-19T23:55:07.145Z"
   },
   {
    "duration": 29,
    "start_time": "2024-07-19T23:55:29.548Z"
   },
   {
    "duration": 36,
    "start_time": "2024-07-19T23:55:37.898Z"
   },
   {
    "duration": 24,
    "start_time": "2024-07-19T23:55:52.483Z"
   },
   {
    "duration": 4,
    "start_time": "2024-07-20T00:01:47.799Z"
   },
   {
    "duration": 46,
    "start_time": "2024-07-20T00:01:49.341Z"
   },
   {
    "duration": 20,
    "start_time": "2024-07-20T00:01:50.083Z"
   },
   {
    "duration": 66,
    "start_time": "2024-07-20T00:03:32.393Z"
   },
   {
    "duration": 37,
    "start_time": "2024-07-20T00:03:43.026Z"
   },
   {
    "duration": 29,
    "start_time": "2024-07-20T00:03:48.344Z"
   },
   {
    "duration": 30,
    "start_time": "2024-07-20T00:04:02.593Z"
   },
   {
    "duration": 1475,
    "start_time": "2024-07-20T00:04:06.881Z"
   },
   {
    "duration": 16,
    "start_time": "2024-07-20T00:04:36.472Z"
   },
   {
    "duration": 1516,
    "start_time": "2024-07-20T00:04:48.419Z"
   },
   {
    "duration": 117,
    "start_time": "2024-07-20T00:04:49.939Z"
   },
   {
    "duration": 21,
    "start_time": "2024-07-20T00:04:50.060Z"
   },
   {
    "duration": 78,
    "start_time": "2024-07-20T00:04:50.086Z"
   },
   {
    "duration": 5,
    "start_time": "2024-07-20T00:14:54.185Z"
   },
   {
    "duration": 71,
    "start_time": "2024-07-20T00:16:01.438Z"
   },
   {
    "duration": 6,
    "start_time": "2024-07-20T00:16:39.335Z"
   },
   {
    "duration": 1534,
    "start_time": "2024-07-20T00:18:26.688Z"
   },
   {
    "duration": 42,
    "start_time": "2024-07-20T00:18:28.226Z"
   },
   {
    "duration": 17,
    "start_time": "2024-07-20T00:18:28.271Z"
   },
   {
    "duration": 21,
    "start_time": "2024-07-20T00:18:28.293Z"
   },
   {
    "duration": 13,
    "start_time": "2024-07-20T00:18:28.317Z"
   },
   {
    "duration": 39,
    "start_time": "2024-07-20T00:18:28.333Z"
   },
   {
    "duration": 455,
    "start_time": "2024-07-20T00:18:28.374Z"
   },
   {
    "duration": 15,
    "start_time": "2024-07-20T00:18:44.632Z"
   },
   {
    "duration": 9,
    "start_time": "2024-07-20T00:20:55.752Z"
   },
   {
    "duration": 29,
    "start_time": "2024-07-20T00:22:09.488Z"
   },
   {
    "duration": 26,
    "start_time": "2024-07-20T00:22:17.766Z"
   },
   {
    "duration": 29,
    "start_time": "2024-07-20T00:23:02.743Z"
   },
   {
    "duration": 12,
    "start_time": "2024-07-20T00:23:26.010Z"
   },
   {
    "duration": 1507,
    "start_time": "2024-07-20T00:24:06.964Z"
   },
   {
    "duration": 49,
    "start_time": "2024-07-20T00:24:08.475Z"
   },
   {
    "duration": 18,
    "start_time": "2024-07-20T00:24:08.526Z"
   },
   {
    "duration": 6,
    "start_time": "2024-07-20T00:24:08.547Z"
   },
   {
    "duration": 14,
    "start_time": "2024-07-20T00:24:08.557Z"
   },
   {
    "duration": 73,
    "start_time": "2024-07-20T00:24:08.574Z"
   },
   {
    "duration": 450,
    "start_time": "2024-07-20T00:24:08.649Z"
   },
   {
    "duration": 27,
    "start_time": "2024-07-20T00:25:57.313Z"
   },
   {
    "duration": 12,
    "start_time": "2024-07-20T00:26:11.081Z"
   },
   {
    "duration": 9,
    "start_time": "2024-07-20T00:27:02.969Z"
   },
   {
    "duration": 193,
    "start_time": "2024-07-20T00:27:22.409Z"
   },
   {
    "duration": 1380,
    "start_time": "2024-07-20T00:27:43.039Z"
   },
   {
    "duration": 310,
    "start_time": "2024-07-20T00:27:51.810Z"
   },
   {
    "duration": 277,
    "start_time": "2024-07-20T00:27:56.838Z"
   },
   {
    "duration": 10,
    "start_time": "2024-07-20T00:34:34.352Z"
   },
   {
    "duration": 7,
    "start_time": "2024-07-20T00:35:12.824Z"
   },
   {
    "duration": 25,
    "start_time": "2024-07-20T00:43:03.671Z"
   },
   {
    "duration": 41,
    "start_time": "2024-07-20T00:43:10.552Z"
   },
   {
    "duration": 38,
    "start_time": "2024-07-20T00:43:11.197Z"
   },
   {
    "duration": 17,
    "start_time": "2024-07-20T00:43:11.600Z"
   },
   {
    "duration": 7,
    "start_time": "2024-07-20T00:43:12.097Z"
   },
   {
    "duration": 343,
    "start_time": "2024-07-20T00:43:13.247Z"
   },
   {
    "duration": 122,
    "start_time": "2024-07-20T00:44:21.649Z"
   },
   {
    "duration": 14,
    "start_time": "2024-07-20T00:47:18.423Z"
   },
   {
    "duration": 17,
    "start_time": "2024-07-20T00:47:39.824Z"
   },
   {
    "duration": 27,
    "start_time": "2024-07-20T00:47:49.615Z"
   },
   {
    "duration": 34,
    "start_time": "2024-07-20T00:47:58.730Z"
   },
   {
    "duration": 18,
    "start_time": "2024-07-20T00:48:05.971Z"
   },
   {
    "duration": 19,
    "start_time": "2024-07-20T00:48:10.636Z"
   },
   {
    "duration": 1629,
    "start_time": "2024-07-20T00:48:21.363Z"
   },
   {
    "duration": 54,
    "start_time": "2024-07-20T00:48:22.996Z"
   },
   {
    "duration": 20,
    "start_time": "2024-07-20T00:48:23.054Z"
   },
   {
    "duration": 35,
    "start_time": "2024-07-20T00:48:23.077Z"
   },
   {
    "duration": 20,
    "start_time": "2024-07-20T00:48:23.118Z"
   },
   {
    "duration": 5,
    "start_time": "2024-07-20T00:48:23.141Z"
   },
   {
    "duration": 14,
    "start_time": "2024-07-20T00:48:23.149Z"
   },
   {
    "duration": 79,
    "start_time": "2024-07-20T00:48:23.165Z"
   },
   {
    "duration": 12,
    "start_time": "2024-07-20T00:48:23.248Z"
   },
   {
    "duration": 220,
    "start_time": "2024-07-20T00:48:23.263Z"
   },
   {
    "duration": 463,
    "start_time": "2024-07-20T00:57:22.696Z"
   },
   {
    "duration": 344,
    "start_time": "2024-07-20T00:57:40.769Z"
   },
   {
    "duration": 1628,
    "start_time": "2024-07-20T00:58:25.118Z"
   },
   {
    "duration": 62,
    "start_time": "2024-07-20T00:58:26.751Z"
   },
   {
    "duration": 17,
    "start_time": "2024-07-20T00:58:26.816Z"
   },
   {
    "duration": 368,
    "start_time": "2024-07-20T00:58:26.837Z"
   },
   {
    "duration": 6,
    "start_time": "2024-07-20T00:58:27.209Z"
   },
   {
    "duration": 20,
    "start_time": "2024-07-20T00:58:27.218Z"
   },
   {
    "duration": 5,
    "start_time": "2024-07-20T00:58:27.241Z"
   },
   {
    "duration": 14,
    "start_time": "2024-07-20T00:58:27.250Z"
   },
   {
    "duration": 73,
    "start_time": "2024-07-20T00:58:27.267Z"
   },
   {
    "duration": 11,
    "start_time": "2024-07-20T00:58:27.345Z"
   },
   {
    "duration": 204,
    "start_time": "2024-07-20T00:58:27.359Z"
   },
   {
    "duration": 1673,
    "start_time": "2024-07-20T01:00:02.720Z"
   },
   {
    "duration": 51,
    "start_time": "2024-07-20T01:00:04.397Z"
   },
   {
    "duration": 19,
    "start_time": "2024-07-20T01:00:04.452Z"
   },
   {
    "duration": 375,
    "start_time": "2024-07-20T01:00:04.474Z"
   },
   {
    "duration": 7,
    "start_time": "2024-07-20T01:00:04.852Z"
   },
   {
    "duration": 18,
    "start_time": "2024-07-20T01:00:04.862Z"
   },
   {
    "duration": 6,
    "start_time": "2024-07-20T01:00:04.883Z"
   },
   {
    "duration": 14,
    "start_time": "2024-07-20T01:00:04.912Z"
   },
   {
    "duration": 38,
    "start_time": "2024-07-20T01:00:04.930Z"
   },
   {
    "duration": 43,
    "start_time": "2024-07-20T01:00:04.973Z"
   },
   {
    "duration": 193,
    "start_time": "2024-07-20T01:00:05.019Z"
   },
   {
    "duration": 311,
    "start_time": "2024-07-20T01:00:41.014Z"
   },
   {
    "duration": 7,
    "start_time": "2024-07-20T01:02:05.087Z"
   },
   {
    "duration": 36,
    "start_time": "2024-07-20T01:02:29.880Z"
   },
   {
    "duration": 427,
    "start_time": "2024-07-20T01:03:01.456Z"
   },
   {
    "duration": 5,
    "start_time": "2024-07-20T01:03:07.711Z"
   },
   {
    "duration": 1638,
    "start_time": "2024-07-20T01:03:12.745Z"
   },
   {
    "duration": 50,
    "start_time": "2024-07-20T01:03:14.387Z"
   },
   {
    "duration": 18,
    "start_time": "2024-07-20T01:03:14.441Z"
   },
   {
    "duration": 6,
    "start_time": "2024-07-20T01:03:14.463Z"
   },
   {
    "duration": 53,
    "start_time": "2024-07-20T01:03:14.472Z"
   },
   {
    "duration": 6,
    "start_time": "2024-07-20T01:03:14.528Z"
   },
   {
    "duration": 16,
    "start_time": "2024-07-20T01:03:14.537Z"
   },
   {
    "duration": 57,
    "start_time": "2024-07-20T01:03:14.556Z"
   },
   {
    "duration": 12,
    "start_time": "2024-07-20T01:03:14.617Z"
   },
   {
    "duration": 219,
    "start_time": "2024-07-20T01:03:14.633Z"
   },
   {
    "duration": 77,
    "start_time": "2024-07-20T01:03:14.855Z"
   },
   {
    "duration": 68,
    "start_time": "2024-07-20T01:04:38.562Z"
   },
   {
    "duration": 32,
    "start_time": "2024-07-20T01:04:50.405Z"
   },
   {
    "duration": 33,
    "start_time": "2024-07-20T01:04:55.534Z"
   },
   {
    "duration": 31,
    "start_time": "2024-07-20T01:05:05.104Z"
   },
   {
    "duration": 9,
    "start_time": "2024-07-20T01:05:52.504Z"
   },
   {
    "duration": 1538,
    "start_time": "2024-07-20T01:05:58.051Z"
   },
   {
    "duration": 52,
    "start_time": "2024-07-20T01:05:59.596Z"
   },
   {
    "duration": 18,
    "start_time": "2024-07-20T01:05:59.651Z"
   },
   {
    "duration": 11,
    "start_time": "2024-07-20T01:05:59.672Z"
   },
   {
    "duration": 18,
    "start_time": "2024-07-20T01:05:59.715Z"
   },
   {
    "duration": 5,
    "start_time": "2024-07-20T01:05:59.737Z"
   },
   {
    "duration": 13,
    "start_time": "2024-07-20T01:05:59.745Z"
   },
   {
    "duration": 75,
    "start_time": "2024-07-20T01:05:59.761Z"
   },
   {
    "duration": 11,
    "start_time": "2024-07-20T01:05:59.839Z"
   },
   {
    "duration": 216,
    "start_time": "2024-07-20T01:05:59.856Z"
   },
   {
    "duration": 138,
    "start_time": "2024-07-20T01:06:00.075Z"
   },
   {
    "duration": 116,
    "start_time": "2024-07-20T01:31:03.628Z"
   },
   {
    "duration": 7,
    "start_time": "2024-07-20T01:31:31.755Z"
   },
   {
    "duration": 14,
    "start_time": "2024-07-20T01:31:46.615Z"
   },
   {
    "duration": 5,
    "start_time": "2024-07-20T01:31:59.045Z"
   },
   {
    "duration": 37,
    "start_time": "2024-07-20T01:35:02.146Z"
   },
   {
    "duration": 13,
    "start_time": "2024-07-20T01:37:04.315Z"
   },
   {
    "duration": 119,
    "start_time": "2024-07-20T01:38:00.395Z"
   },
   {
    "duration": 86,
    "start_time": "2024-07-20T01:38:39.036Z"
   },
   {
    "duration": 52,
    "start_time": "2024-07-20T01:43:50.693Z"
   },
   {
    "duration": 471,
    "start_time": "2024-07-20T01:45:37.343Z"
   },
   {
    "duration": 27,
    "start_time": "2024-07-20T01:45:46.293Z"
   },
   {
    "duration": 2851,
    "start_time": "2024-07-20T01:45:53.844Z"
   },
   {
    "duration": 3108,
    "start_time": "2024-07-20T01:46:51.561Z"
   },
   {
    "duration": 4,
    "start_time": "2024-07-20T01:47:23.178Z"
   },
   {
    "duration": 45,
    "start_time": "2024-07-20T01:47:23.828Z"
   },
   {
    "duration": 18,
    "start_time": "2024-07-20T01:47:24.155Z"
   },
   {
    "duration": 11,
    "start_time": "2024-07-20T01:47:24.379Z"
   },
   {
    "duration": 22,
    "start_time": "2024-07-20T01:47:24.659Z"
   },
   {
    "duration": 11,
    "start_time": "2024-07-20T01:47:25.456Z"
   },
   {
    "duration": 19,
    "start_time": "2024-07-20T01:47:26.085Z"
   },
   {
    "duration": 48,
    "start_time": "2024-07-20T01:47:26.668Z"
   },
   {
    "duration": 15,
    "start_time": "2024-07-20T01:47:27.908Z"
   },
   {
    "duration": 188,
    "start_time": "2024-07-20T01:47:29.428Z"
   },
   {
    "duration": 55,
    "start_time": "2024-07-20T01:47:31.791Z"
   },
   {
    "duration": 21,
    "start_time": "2024-07-20T01:47:35.514Z"
   },
   {
    "duration": 12,
    "start_time": "2024-07-20T01:47:36.730Z"
   },
   {
    "duration": 58,
    "start_time": "2024-07-20T01:47:37.891Z"
   },
   {
    "duration": 224,
    "start_time": "2024-07-20T01:47:38.804Z"
   },
   {
    "duration": 27,
    "start_time": "2024-07-20T01:50:53.829Z"
   },
   {
    "duration": 1698,
    "start_time": "2024-07-20T01:51:04.072Z"
   },
   {
    "duration": 58,
    "start_time": "2024-07-20T01:51:05.774Z"
   },
   {
    "duration": 19,
    "start_time": "2024-07-20T01:51:05.836Z"
   },
   {
    "duration": 12,
    "start_time": "2024-07-20T01:51:05.862Z"
   },
   {
    "duration": 48,
    "start_time": "2024-07-20T01:51:05.878Z"
   },
   {
    "duration": 6,
    "start_time": "2024-07-20T01:51:05.930Z"
   },
   {
    "duration": 16,
    "start_time": "2024-07-20T01:51:05.940Z"
   },
   {
    "duration": 80,
    "start_time": "2024-07-20T01:51:05.960Z"
   },
   {
    "duration": 12,
    "start_time": "2024-07-20T01:51:06.045Z"
   },
   {
    "duration": 238,
    "start_time": "2024-07-20T01:51:06.065Z"
   },
   {
    "duration": 51,
    "start_time": "2024-07-20T01:51:06.307Z"
   },
   {
    "duration": 20,
    "start_time": "2024-07-20T01:51:06.412Z"
   },
   {
    "duration": 78,
    "start_time": "2024-07-20T01:51:06.435Z"
   },
   {
    "duration": 31,
    "start_time": "2024-07-20T01:51:06.516Z"
   },
   {
    "duration": 119,
    "start_time": "2024-07-20T01:51:06.617Z"
   },
   {
    "duration": 783,
    "start_time": "2024-07-20T01:51:06.744Z"
   },
   {
    "duration": 9,
    "start_time": "2024-07-20T01:51:22.229Z"
   },
   {
    "duration": 1769,
    "start_time": "2024-07-20T01:51:31.929Z"
   },
   {
    "duration": 1421,
    "start_time": "2024-07-20T02:04:12.237Z"
   },
   {
    "duration": 1398,
    "start_time": "2024-07-20T02:04:50.934Z"
   },
   {
    "duration": 1011,
    "start_time": "2024-07-20T02:06:29.766Z"
   },
   {
    "duration": 1015,
    "start_time": "2024-07-20T02:06:37.897Z"
   },
   {
    "duration": 538,
    "start_time": "2024-07-20T02:09:05.583Z"
   },
   {
    "duration": 1383,
    "start_time": "2024-07-20T02:09:15.318Z"
   },
   {
    "duration": 446,
    "start_time": "2024-07-20T02:14:35.866Z"
   },
   {
    "duration": 1682,
    "start_time": "2024-07-20T02:15:38.036Z"
   },
   {
    "duration": 57,
    "start_time": "2024-07-20T02:15:39.722Z"
   },
   {
    "duration": 35,
    "start_time": "2024-07-20T02:15:39.782Z"
   },
   {
    "duration": 15,
    "start_time": "2024-07-20T02:15:39.825Z"
   },
   {
    "duration": 21,
    "start_time": "2024-07-20T02:15:39.843Z"
   },
   {
    "duration": 43,
    "start_time": "2024-07-20T02:15:39.869Z"
   },
   {
    "duration": 14,
    "start_time": "2024-07-20T02:15:39.916Z"
   },
   {
    "duration": 46,
    "start_time": "2024-07-20T02:15:39.934Z"
   },
   {
    "duration": 41,
    "start_time": "2024-07-20T02:15:39.983Z"
   },
   {
    "duration": 254,
    "start_time": "2024-07-20T02:15:40.029Z"
   },
   {
    "duration": 60,
    "start_time": "2024-07-20T02:15:40.285Z"
   },
   {
    "duration": 162,
    "start_time": "2024-07-20T02:15:40.350Z"
   },
   {
    "duration": 12,
    "start_time": "2024-07-20T02:15:40.515Z"
   },
   {
    "duration": 96,
    "start_time": "2024-07-20T02:15:40.530Z"
   },
   {
    "duration": 208,
    "start_time": "2024-07-20T02:15:40.629Z"
   },
   {
    "duration": 1585,
    "start_time": "2024-07-20T02:15:40.840Z"
   },
   {
    "duration": 0,
    "start_time": "2024-07-20T02:15:42.429Z"
   },
   {
    "duration": 0,
    "start_time": "2024-07-20T02:15:42.431Z"
   },
   {
    "duration": 0,
    "start_time": "2024-07-20T02:15:42.432Z"
   },
   {
    "duration": 1002,
    "start_time": "2024-07-20T02:17:38.884Z"
   },
   {
    "duration": 31,
    "start_time": "2024-07-20T02:22:24.883Z"
   },
   {
    "duration": 74,
    "start_time": "2024-07-20T02:22:30.803Z"
   },
   {
    "duration": 82,
    "start_time": "2024-07-20T02:22:53.565Z"
   },
   {
    "duration": 56,
    "start_time": "2024-07-20T02:23:06.987Z"
   },
   {
    "duration": 81,
    "start_time": "2024-07-20T02:25:15.618Z"
   },
   {
    "duration": 39,
    "start_time": "2024-07-20T02:25:15.826Z"
   },
   {
    "duration": 86,
    "start_time": "2024-07-20T02:25:38.509Z"
   },
   {
    "duration": 90,
    "start_time": "2024-07-20T02:26:53.660Z"
   },
   {
    "duration": 543,
    "start_time": "2024-07-20T02:26:59.218Z"
   },
   {
    "duration": 1390,
    "start_time": "2024-07-20T02:26:59.960Z"
   },
   {
    "duration": 157,
    "start_time": "2024-07-20T02:27:02.166Z"
   },
   {
    "duration": 39,
    "start_time": "2024-07-20T02:27:06.456Z"
   },
   {
    "duration": 354,
    "start_time": "2024-07-20T02:27:25.351Z"
   },
   {
    "duration": 556,
    "start_time": "2024-07-20T02:33:13.337Z"
   },
   {
    "duration": 1353,
    "start_time": "2024-07-20T02:33:54.209Z"
   },
   {
    "duration": 1355,
    "start_time": "2024-07-20T02:34:29.629Z"
   },
   {
    "duration": 609,
    "start_time": "2024-07-20T02:35:07.190Z"
   },
   {
    "duration": 1679,
    "start_time": "2024-07-20T02:35:13.560Z"
   },
   {
    "duration": 46,
    "start_time": "2024-07-20T02:35:15.243Z"
   },
   {
    "duration": 34,
    "start_time": "2024-07-20T02:35:15.293Z"
   },
   {
    "duration": 12,
    "start_time": "2024-07-20T02:35:15.330Z"
   },
   {
    "duration": 20,
    "start_time": "2024-07-20T02:35:15.349Z"
   },
   {
    "duration": 39,
    "start_time": "2024-07-20T02:35:15.373Z"
   },
   {
    "duration": 15,
    "start_time": "2024-07-20T02:35:15.416Z"
   },
   {
    "duration": 37,
    "start_time": "2024-07-20T02:35:15.434Z"
   },
   {
    "duration": 41,
    "start_time": "2024-07-20T02:35:15.474Z"
   },
   {
    "duration": 217,
    "start_time": "2024-07-20T02:35:15.519Z"
   },
   {
    "duration": 73,
    "start_time": "2024-07-20T02:35:15.740Z"
   },
   {
    "duration": 99,
    "start_time": "2024-07-20T02:35:15.816Z"
   },
   {
    "duration": 17,
    "start_time": "2024-07-20T02:35:15.918Z"
   },
   {
    "duration": 84,
    "start_time": "2024-07-20T02:35:15.941Z"
   },
   {
    "duration": 295,
    "start_time": "2024-07-20T02:35:16.028Z"
   },
   {
    "duration": 1090,
    "start_time": "2024-07-20T02:35:16.327Z"
   },
   {
    "duration": 551,
    "start_time": "2024-07-20T02:35:17.423Z"
   },
   {
    "duration": 1399,
    "start_time": "2024-07-20T02:35:17.978Z"
   },
   {
    "duration": 1650,
    "start_time": "2024-07-20T02:52:49.160Z"
   },
   {
    "duration": 54,
    "start_time": "2024-07-20T02:52:50.815Z"
   },
   {
    "duration": 41,
    "start_time": "2024-07-20T02:52:50.873Z"
   },
   {
    "duration": 17,
    "start_time": "2024-07-20T02:52:50.918Z"
   },
   {
    "duration": 25,
    "start_time": "2024-07-20T02:52:50.940Z"
   },
   {
    "duration": 10,
    "start_time": "2024-07-20T02:52:50.969Z"
   },
   {
    "duration": 16,
    "start_time": "2024-07-20T02:52:51.017Z"
   },
   {
    "duration": 39,
    "start_time": "2024-07-20T02:52:51.036Z"
   },
   {
    "duration": 41,
    "start_time": "2024-07-20T02:52:51.078Z"
   },
   {
    "duration": 224,
    "start_time": "2024-07-20T02:52:51.122Z"
   },
   {
    "duration": 69,
    "start_time": "2024-07-20T02:52:51.351Z"
   },
   {
    "duration": 100,
    "start_time": "2024-07-20T02:52:51.423Z"
   },
   {
    "duration": 14,
    "start_time": "2024-07-20T02:52:51.527Z"
   },
   {
    "duration": 166,
    "start_time": "2024-07-20T02:52:51.546Z"
   },
   {
    "duration": 220,
    "start_time": "2024-07-20T02:52:51.716Z"
   },
   {
    "duration": 1145,
    "start_time": "2024-07-20T02:52:51.941Z"
   },
   {
    "duration": 583,
    "start_time": "2024-07-20T02:52:53.090Z"
   },
   {
    "duration": 1430,
    "start_time": "2024-07-20T02:52:53.677Z"
   }
  ],
  "kernelspec": {
   "display_name": "Python 3 (ipykernel)",
   "language": "python",
   "name": "python3"
  },
  "language_info": {
   "codemirror_mode": {
    "name": "ipython",
    "version": 3
   },
   "file_extension": ".py",
   "mimetype": "text/x-python",
   "name": "python",
   "nbconvert_exporter": "python",
   "pygments_lexer": "ipython3",
   "version": "3.9.19"
  },
  "toc": {
   "base_numbering": 1,
   "nav_menu": {},
   "number_sections": true,
   "sideBar": true,
   "skip_h1_title": true,
   "title_cell": "Table of Contents",
   "title_sidebar": "Contents",
   "toc_cell": false,
   "toc_position": {},
   "toc_section_display": true,
   "toc_window_display": false
  }
 },
 "nbformat": 4,
 "nbformat_minor": 2
}
