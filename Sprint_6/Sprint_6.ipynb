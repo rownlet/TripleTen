{
 "cells": [
  {
   "cell_type": "markdown",
   "metadata": {
    "tags": [
     "e5c1f0c2-db9f-43a0-99b9-4875c52427e8"
    ]
   },
   "source": [
    "# Proyecto Integrado"
   ]
  },
  {
   "cell_type": "markdown",
   "metadata": {},
   "source": [
    "Trabajas para la tienda online Ice que vende videojuegos por todo el mundo. Las reseñas de usuarios y expertos, los géneros, las plataformas (por ejemplo, Xbox o PlayStation) y los datos históricos sobre las ventas de juegos están disponibles en fuentes abiertas. Tienes que identificar patrones que determinen si un juego tiene éxito o no. Esto te permitirá detectar proyectos prometedores y planificar campañas publicitarias.\n",
    "\n",
    "Delante de ti hay datos que se remontan a 2016. Imaginemos que es diciembre de 2016 y estás planeando una campaña para 2017.\n",
    "\n",
    "Lo importante es adquirir experiencia de trabajo con datos. Realmente no importa si estás pronosticando las ventas de 2017 en función de los datos de 2016 o las ventas de 2027 en función de los datos de 2026.\n",
    "\n",
    "El dataset contiene una columna \"rating\" que almacena la clasificación ESRB de cada juego. El Entertainment Software Rating Board (la Junta de clasificación de software de entretenimiento) evalúa el contenido de un juego y asigna una clasificación de edad como Adolescente o Adulto."
   ]
  },
  {
   "cell_type": "markdown",
   "metadata": {},
   "source": [
    "**Descripción de los datos**"
   ]
  },
  {
   "cell_type": "markdown",
   "metadata": {},
   "source": [
    "* Name (Nombre)\n",
    "\n",
    "* Platform (Plataforma)\n",
    "\n",
    "* Year_of_Release (Año de lanzamiento)\n",
    "\n",
    "* Genre (Género) \n",
    "\n",
    "* NA_sales (ventas en Norteamérica en millones de dólares estadounidenses) \n",
    "\n",
    "* EU_sales (ventas en Europa en millones de dólares estadounidenses) \n",
    "\n",
    "* JP_sales (ventas en Japón en millones de dólares estadounidenses) \n",
    "\n",
    "* Other_sales (ventas en otros países en millones de dólares estadounidenses) \n",
    "\n",
    "* Critic_Score (máximo de 100) \n",
    "\n",
    "* User_Score (máximo de 10) \n",
    "\n",
    "* Rating (ESRB)"
   ]
  },
  {
   "cell_type": "markdown",
   "metadata": {},
   "source": [
    "**Introducción**\n",
    "\n",
    "El mercado de los videojuegos ha experimentado un crecimiento exponencial en las últimas décadas, transformándose en una industria multimillonaria con una base de usuarios diversa y global. Con el aumento en la variedad y el volumen de juegos disponibles, las empresas del sector enfrentan el desafío de determinar cuáles juegos tendrán éxito, una tarea que implica no solo intuición creativa sino también análisis detallado de datos. Este proyecto tiene como objetivo aplicar técnicas de análisis de datos para identificar patrones o tendencias que puedan predecir el éxito de los videojuegos, proporcionando así una base sólida para decisiones estratégicas en marketing y desarrollo de productos."
   ]
  },
  {
   "cell_type": "markdown",
   "metadata": {},
   "source": [
    "**Objetivo**\n",
    "\n",
    "El objetivo principal de este proyecto es analizar un conjunto de datos de videojuegos para identificar factores clave que determinan el éxito comercial de un juego. Esto incluye:\n",
    "\n",
    "* Examinar cómo las calificaciones de usuarios y críticos, las plataformas de lanzamiento, los géneros de juegos y las clasificaciones ESRB influyen en las ventas de videojuegos.\n",
    "<br>\n",
    "\n",
    "* Descubrir tendencias regionales que puedan informar estrategias de marketing localizadas.\n",
    "<br>\n",
    "\n",
    "* Evaluar la relevancia de diferentes plataformas y géneros a lo largo del tiempo para detectar posibles áreas de crecimiento o declive."
   ]
  },
  {
   "cell_type": "markdown",
   "metadata": {},
   "source": [
    "**Etapas de Análisis**\n",
    "\n",
    "**1. Preparación de Datos**\n",
    "\n",
    "* Revisión y limpieza de los datos.\n",
    "* Conversión de tipos de datos y manejo de valores ausentes.\n",
    "\n",
    "**2. Análisis Exploratorio de Datos**\n",
    "\n",
    "* Evaluación de la distribución de juegos por año, plataforma y género.\n",
    "* Análisis de las ventas globales y regionales para identificar plataformas y géneros líderes.\n",
    "\n",
    "**3. Análisis Estadístico**\n",
    "\n",
    "* Pruebas de hipótesis para comparar las calificaciones medias entre diferentes plataformas y géneros.\n",
    "* Correlación entre las reseñas y las ventas para entender el impacto de las percepciones de los usuarios y críticos en el éxito comercial.\n",
    "\n",
    "**4. Visualización de Datos**\n",
    "\n",
    "* Creación de gráficos y tablas para ilustrar los hallazgos y apoyar la interpretación de los resultados.\n",
    "* Diagramas de caja y gráficos de dispersión para mostrar distribuciones y relaciones entre variables.\n",
    "\n",
    "**5. Conclusiones y Recomendaciones**\n",
    "\n",
    "* Resumen de los hallazgos clave y su implicación para estrategias de marketing y desarrollo de productos.\n",
    "* Sugerencias basadas en datos para la selección futura de proyectos y campañas publicitarias."
   ]
  },
  {
   "cell_type": "markdown",
   "metadata": {},
   "source": [
    "Gracias por su observación, desarrollé una introducción, plantee objetivos y sus respectivas etapas de análisis."
   ]
  },
  {
   "cell_type": "markdown",
   "metadata": {},
   "source": [
    "## Cargar la base de datos y estudiar su información general"
   ]
  },
  {
   "cell_type": "code",
   "execution_count": 1,
   "metadata": {
    "scrolled": true
   },
   "outputs": [],
   "source": [
    "# Importar librerias y paqueterias\n",
    "import numpy as np\n",
    "import pandas as pd\n",
    "import matplotlib.pyplot as plt\n",
    "import seaborn as sns\n",
    "from scipy import stats"
   ]
  },
  {
   "cell_type": "code",
   "execution_count": 2,
   "metadata": {},
   "outputs": [
    {
     "data": {
      "text/html": [
       "<div>\n",
       "<style scoped>\n",
       "    .dataframe tbody tr th:only-of-type {\n",
       "        vertical-align: middle;\n",
       "    }\n",
       "\n",
       "    .dataframe tbody tr th {\n",
       "        vertical-align: top;\n",
       "    }\n",
       "\n",
       "    .dataframe thead th {\n",
       "        text-align: right;\n",
       "    }\n",
       "</style>\n",
       "<table border=\"1\" class=\"dataframe\">\n",
       "  <thead>\n",
       "    <tr style=\"text-align: right;\">\n",
       "      <th></th>\n",
       "      <th>Name</th>\n",
       "      <th>Platform</th>\n",
       "      <th>Year_of_Release</th>\n",
       "      <th>Genre</th>\n",
       "      <th>NA_sales</th>\n",
       "      <th>EU_sales</th>\n",
       "      <th>JP_sales</th>\n",
       "      <th>Other_sales</th>\n",
       "      <th>Critic_Score</th>\n",
       "      <th>User_Score</th>\n",
       "      <th>Rating</th>\n",
       "    </tr>\n",
       "  </thead>\n",
       "  <tbody>\n",
       "    <tr>\n",
       "      <th>0</th>\n",
       "      <td>Wii Sports</td>\n",
       "      <td>Wii</td>\n",
       "      <td>2006.0</td>\n",
       "      <td>Sports</td>\n",
       "      <td>41.36</td>\n",
       "      <td>28.96</td>\n",
       "      <td>3.77</td>\n",
       "      <td>8.45</td>\n",
       "      <td>76.0</td>\n",
       "      <td>8</td>\n",
       "      <td>E</td>\n",
       "    </tr>\n",
       "    <tr>\n",
       "      <th>1</th>\n",
       "      <td>Super Mario Bros.</td>\n",
       "      <td>NES</td>\n",
       "      <td>1985.0</td>\n",
       "      <td>Platform</td>\n",
       "      <td>29.08</td>\n",
       "      <td>3.58</td>\n",
       "      <td>6.81</td>\n",
       "      <td>0.77</td>\n",
       "      <td>NaN</td>\n",
       "      <td>NaN</td>\n",
       "      <td>NaN</td>\n",
       "    </tr>\n",
       "    <tr>\n",
       "      <th>2</th>\n",
       "      <td>Mario Kart Wii</td>\n",
       "      <td>Wii</td>\n",
       "      <td>2008.0</td>\n",
       "      <td>Racing</td>\n",
       "      <td>15.68</td>\n",
       "      <td>12.76</td>\n",
       "      <td>3.79</td>\n",
       "      <td>3.29</td>\n",
       "      <td>82.0</td>\n",
       "      <td>8.3</td>\n",
       "      <td>E</td>\n",
       "    </tr>\n",
       "    <tr>\n",
       "      <th>3</th>\n",
       "      <td>Wii Sports Resort</td>\n",
       "      <td>Wii</td>\n",
       "      <td>2009.0</td>\n",
       "      <td>Sports</td>\n",
       "      <td>15.61</td>\n",
       "      <td>10.93</td>\n",
       "      <td>3.28</td>\n",
       "      <td>2.95</td>\n",
       "      <td>80.0</td>\n",
       "      <td>8</td>\n",
       "      <td>E</td>\n",
       "    </tr>\n",
       "    <tr>\n",
       "      <th>4</th>\n",
       "      <td>Pokemon Red/Pokemon Blue</td>\n",
       "      <td>GB</td>\n",
       "      <td>1996.0</td>\n",
       "      <td>Role-Playing</td>\n",
       "      <td>11.27</td>\n",
       "      <td>8.89</td>\n",
       "      <td>10.22</td>\n",
       "      <td>1.00</td>\n",
       "      <td>NaN</td>\n",
       "      <td>NaN</td>\n",
       "      <td>NaN</td>\n",
       "    </tr>\n",
       "  </tbody>\n",
       "</table>\n",
       "</div>"
      ],
      "text/plain": [
       "                       Name Platform  Year_of_Release         Genre  NA_sales  \\\n",
       "0                Wii Sports      Wii           2006.0        Sports     41.36   \n",
       "1         Super Mario Bros.      NES           1985.0      Platform     29.08   \n",
       "2            Mario Kart Wii      Wii           2008.0        Racing     15.68   \n",
       "3         Wii Sports Resort      Wii           2009.0        Sports     15.61   \n",
       "4  Pokemon Red/Pokemon Blue       GB           1996.0  Role-Playing     11.27   \n",
       "\n",
       "   EU_sales  JP_sales  Other_sales  Critic_Score User_Score Rating  \n",
       "0     28.96      3.77         8.45          76.0          8      E  \n",
       "1      3.58      6.81         0.77           NaN        NaN    NaN  \n",
       "2     12.76      3.79         3.29          82.0        8.3      E  \n",
       "3     10.93      3.28         2.95          80.0          8      E  \n",
       "4      8.89     10.22         1.00           NaN        NaN    NaN  "
      ]
     },
     "execution_count": 2,
     "metadata": {},
     "output_type": "execute_result"
    }
   ],
   "source": [
    "# Extraer los Datos a un DataFrame\n",
    "df = pd.read_csv('/datasets/games.csv')\n",
    "\n",
    "# Mostrar los primeros registros\n",
    "df.head()"
   ]
  },
  {
   "cell_type": "code",
   "execution_count": 3,
   "metadata": {},
   "outputs": [
    {
     "data": {
      "text/plain": [
       "(16715, 11)"
      ]
     },
     "execution_count": 3,
     "metadata": {},
     "output_type": "execute_result"
    }
   ],
   "source": [
    "# Mostrar total de filas y columnas\n",
    "df.shape"
   ]
  },
  {
   "cell_type": "code",
   "execution_count": 4,
   "metadata": {},
   "outputs": [
    {
     "name": "stdout",
     "output_type": "stream",
     "text": [
      "<class 'pandas.core.frame.DataFrame'>\n",
      "RangeIndex: 16715 entries, 0 to 16714\n",
      "Data columns (total 11 columns):\n",
      " #   Column           Non-Null Count  Dtype  \n",
      "---  ------           --------------  -----  \n",
      " 0   Name             16713 non-null  object \n",
      " 1   Platform         16715 non-null  object \n",
      " 2   Year_of_Release  16446 non-null  float64\n",
      " 3   Genre            16713 non-null  object \n",
      " 4   NA_sales         16715 non-null  float64\n",
      " 5   EU_sales         16715 non-null  float64\n",
      " 6   JP_sales         16715 non-null  float64\n",
      " 7   Other_sales      16715 non-null  float64\n",
      " 8   Critic_Score     8137 non-null   float64\n",
      " 9   User_Score       10014 non-null  object \n",
      " 10  Rating           9949 non-null   object \n",
      "dtypes: float64(6), object(5)\n",
      "memory usage: 1.4+ MB\n"
     ]
    }
   ],
   "source": [
    "# Mostrar la información de cada columna\n",
    "df.info()"
   ]
  },
  {
   "cell_type": "code",
   "execution_count": 5,
   "metadata": {},
   "outputs": [
    {
     "data": {
      "text/html": [
       "<div>\n",
       "<style scoped>\n",
       "    .dataframe tbody tr th:only-of-type {\n",
       "        vertical-align: middle;\n",
       "    }\n",
       "\n",
       "    .dataframe tbody tr th {\n",
       "        vertical-align: top;\n",
       "    }\n",
       "\n",
       "    .dataframe thead th {\n",
       "        text-align: right;\n",
       "    }\n",
       "</style>\n",
       "<table border=\"1\" class=\"dataframe\">\n",
       "  <thead>\n",
       "    <tr style=\"text-align: right;\">\n",
       "      <th></th>\n",
       "      <th>Year_of_Release</th>\n",
       "      <th>NA_sales</th>\n",
       "      <th>EU_sales</th>\n",
       "      <th>JP_sales</th>\n",
       "      <th>Other_sales</th>\n",
       "      <th>Critic_Score</th>\n",
       "    </tr>\n",
       "  </thead>\n",
       "  <tbody>\n",
       "    <tr>\n",
       "      <th>count</th>\n",
       "      <td>16446.000000</td>\n",
       "      <td>16715.000000</td>\n",
       "      <td>16715.000000</td>\n",
       "      <td>16715.000000</td>\n",
       "      <td>16715.000000</td>\n",
       "      <td>8137.000000</td>\n",
       "    </tr>\n",
       "    <tr>\n",
       "      <th>mean</th>\n",
       "      <td>2006.484616</td>\n",
       "      <td>0.263377</td>\n",
       "      <td>0.145060</td>\n",
       "      <td>0.077617</td>\n",
       "      <td>0.047342</td>\n",
       "      <td>68.967679</td>\n",
       "    </tr>\n",
       "    <tr>\n",
       "      <th>std</th>\n",
       "      <td>5.877050</td>\n",
       "      <td>0.813604</td>\n",
       "      <td>0.503339</td>\n",
       "      <td>0.308853</td>\n",
       "      <td>0.186731</td>\n",
       "      <td>13.938165</td>\n",
       "    </tr>\n",
       "    <tr>\n",
       "      <th>min</th>\n",
       "      <td>1980.000000</td>\n",
       "      <td>0.000000</td>\n",
       "      <td>0.000000</td>\n",
       "      <td>0.000000</td>\n",
       "      <td>0.000000</td>\n",
       "      <td>13.000000</td>\n",
       "    </tr>\n",
       "    <tr>\n",
       "      <th>25%</th>\n",
       "      <td>2003.000000</td>\n",
       "      <td>0.000000</td>\n",
       "      <td>0.000000</td>\n",
       "      <td>0.000000</td>\n",
       "      <td>0.000000</td>\n",
       "      <td>60.000000</td>\n",
       "    </tr>\n",
       "    <tr>\n",
       "      <th>50%</th>\n",
       "      <td>2007.000000</td>\n",
       "      <td>0.080000</td>\n",
       "      <td>0.020000</td>\n",
       "      <td>0.000000</td>\n",
       "      <td>0.010000</td>\n",
       "      <td>71.000000</td>\n",
       "    </tr>\n",
       "    <tr>\n",
       "      <th>75%</th>\n",
       "      <td>2010.000000</td>\n",
       "      <td>0.240000</td>\n",
       "      <td>0.110000</td>\n",
       "      <td>0.040000</td>\n",
       "      <td>0.030000</td>\n",
       "      <td>79.000000</td>\n",
       "    </tr>\n",
       "    <tr>\n",
       "      <th>max</th>\n",
       "      <td>2016.000000</td>\n",
       "      <td>41.360000</td>\n",
       "      <td>28.960000</td>\n",
       "      <td>10.220000</td>\n",
       "      <td>10.570000</td>\n",
       "      <td>98.000000</td>\n",
       "    </tr>\n",
       "  </tbody>\n",
       "</table>\n",
       "</div>"
      ],
      "text/plain": [
       "       Year_of_Release      NA_sales      EU_sales      JP_sales  \\\n",
       "count     16446.000000  16715.000000  16715.000000  16715.000000   \n",
       "mean       2006.484616      0.263377      0.145060      0.077617   \n",
       "std           5.877050      0.813604      0.503339      0.308853   \n",
       "min        1980.000000      0.000000      0.000000      0.000000   \n",
       "25%        2003.000000      0.000000      0.000000      0.000000   \n",
       "50%        2007.000000      0.080000      0.020000      0.000000   \n",
       "75%        2010.000000      0.240000      0.110000      0.040000   \n",
       "max        2016.000000     41.360000     28.960000     10.220000   \n",
       "\n",
       "        Other_sales  Critic_Score  \n",
       "count  16715.000000   8137.000000  \n",
       "mean       0.047342     68.967679  \n",
       "std        0.186731     13.938165  \n",
       "min        0.000000     13.000000  \n",
       "25%        0.000000     60.000000  \n",
       "50%        0.010000     71.000000  \n",
       "75%        0.030000     79.000000  \n",
       "max       10.570000     98.000000  "
      ]
     },
     "execution_count": 5,
     "metadata": {},
     "output_type": "execute_result"
    }
   ],
   "source": [
    "# Revisar datos estadísticos de columnas numericas\n",
    "df.describe()"
   ]
  },
  {
   "cell_type": "markdown",
   "metadata": {},
   "source": [
    "## Preparacion de los datos"
   ]
  },
  {
   "cell_type": "markdown",
   "metadata": {},
   "source": [
    "### __Reemplazar nombres de columnas (ponlos en minúsculas)__"
   ]
  },
  {
   "cell_type": "code",
   "execution_count": 6,
   "metadata": {},
   "outputs": [
    {
     "data": {
      "text/plain": [
       "Index(['name', 'platform', 'year_of_release', 'genre', 'na_sales', 'eu_sales',\n",
       "       'jp_sales', 'other_sales', 'critic_score', 'user_score', 'rating'],\n",
       "      dtype='object')"
      ]
     },
     "execution_count": 6,
     "metadata": {},
     "output_type": "execute_result"
    }
   ],
   "source": [
    "# Renombrar columnas\n",
    "df.columns = [column.lower() for column in df.columns]\n",
    "\n",
    "# Checkear el cambio de nombre\n",
    "df.columns"
   ]
  },
  {
   "cell_type": "markdown",
   "metadata": {},
   "source": [
    "### __Conversión de data__"
   ]
  },
  {
   "cell_type": "code",
   "execution_count": 7,
   "metadata": {},
   "outputs": [
    {
     "data": {
      "text/plain": [
       "(269, 2424)"
      ]
     },
     "execution_count": 7,
     "metadata": {},
     "output_type": "execute_result"
    }
   ],
   "source": [
    "# Resumen de valores nulos en 'year_of_release'\n",
    "year_null_count = df['year_of_release'].isnull().sum()\n",
    "\n",
    "# Contar cuántas veces aparece 'tbd' en 'user_score'\n",
    "tbd_count = (df['user_score'] == 'tbd').sum()\n",
    "\n",
    "year_null_count, tbd_count"
   ]
  },
  {
   "cell_type": "markdown",
   "metadata": {},
   "source": [
    "**year_of_release:** Los valores nulos podrían dejarse como están si el análisis posterior no depende críticamente de esta columna. Otra opción es imputarlos, pero dado que representan menos del 2% del total y son datos temporales, la imputación podría no ser precisa sin un patrón claro.\n",
    "<br>\n",
    "\n",
    "**user_score:** Podemos tratar los valores 'tbd' como valores nulos, ya que 'tbd' indica que la puntuación está por determinarse y no proporciona información numérica útil."
   ]
  },
  {
   "cell_type": "code",
   "execution_count": 8,
   "metadata": {},
   "outputs": [
    {
     "data": {
      "text/plain": [
       "name                object\n",
       "platform            object\n",
       "year_of_release    float64\n",
       "genre               object\n",
       "na_sales           float64\n",
       "eu_sales           float64\n",
       "jp_sales           float64\n",
       "other_sales        float64\n",
       "critic_score       float64\n",
       "user_score         float64\n",
       "rating              object\n",
       "dtype: object"
      ]
     },
     "execution_count": 8,
     "metadata": {},
     "output_type": "execute_result"
    }
   ],
   "source": [
    "# Convertir 'tbd' en 'user_score' a NaN\n",
    "df['user_score'] = df['user_score'].replace('tbd', np.nan).astype(float)\n",
    "\n",
    "# Convertir 'year_of_release' a int, ignorando los NaN por ahora\n",
    "df['year_of_release'] = df['year_of_release'].dropna().astype(int)\n",
    "\n",
    "# Verificar los cambios en los tipos de datos\n",
    "df.dtypes"
   ]
  },
  {
   "cell_type": "markdown",
   "metadata": {},
   "source": [
    "* La columna **user_score** originalmente incluía valores numéricos expresados como cadenas de texto, así como la abreviatura 'tbd' (to be determined), lo cual impedía operaciones numéricas. Convertimos esta columna a tipo **float** después de reemplazar **'tbd'** con **NaN** (Not a Number). Esto es esencial para realizar análisis estadísticos y operaciones matemáticas, como calcular promedios o correlaciones con otras variables numéricas.\n",
    "<br>\n",
    "\n",
    "* La columna **year_of_release** representa años que son valores discretos y deberían ser representados como enteros. La conversión directa a **int** es problemática debido a la presencia de valores **NaN**, ya que **int** no puede representar **NaN** en pandas. Aunque intentamos convertirlo a int, lo hemos dejado como float para mantener la integridad de los datos sin perder información debido a los valores nulos. Para ciertas operaciones donde se requieren valores enteros exactos (como índices o etiquetas), podríamos considerar alternativas como convertir a Int64 o manejar los NaN de forma específica antes de la conversión."
   ]
  },
  {
   "cell_type": "code",
   "execution_count": 9,
   "metadata": {},
   "outputs": [
    {
     "name": "stdout",
     "output_type": "stream",
     "text": [
      "<class 'pandas.core.frame.DataFrame'>\n",
      "RangeIndex: 16715 entries, 0 to 16714\n",
      "Data columns (total 11 columns):\n",
      " #   Column           Non-Null Count  Dtype  \n",
      "---  ------           --------------  -----  \n",
      " 0   name             16713 non-null  object \n",
      " 1   platform         16715 non-null  object \n",
      " 2   year_of_release  16446 non-null  float64\n",
      " 3   genre            16713 non-null  object \n",
      " 4   na_sales         16715 non-null  float64\n",
      " 5   eu_sales         16715 non-null  float64\n",
      " 6   jp_sales         16715 non-null  float64\n",
      " 7   other_sales      16715 non-null  float64\n",
      " 8   critic_score     8137 non-null   float64\n",
      " 9   user_score       7590 non-null   float64\n",
      " 10  rating           9949 non-null   object \n",
      "dtypes: float64(7), object(4)\n",
      "memory usage: 1.4+ MB\n"
     ]
    }
   ],
   "source": [
    "df.info()"
   ]
  },
  {
   "cell_type": "markdown",
   "metadata": {},
   "source": [
    "### __Tratamiento de valores ausentes__"
   ]
  },
  {
   "cell_type": "code",
   "execution_count": 10,
   "metadata": {},
   "outputs": [],
   "source": [
    "# Eliminando filas donde 'genre' es nulo\n",
    "df.dropna(subset=['genre'], inplace=True)\n",
    "\n",
    "# Eliminando filas donde 'year_of_release' es nulo o igual a 0\n",
    "df.dropna(subset=['year_of_release'], inplace=True)  # Elimina primero los nulos\n",
    "df = df[df['year_of_release'] != 0]\n",
    "\n",
    "# Convertir 'year_of_release' a int\n",
    "df['year_of_release'] = df['year_of_release'].astype(int)\n",
    "\n",
    "# Imputando la media en 'user_score' donde los valores son nulos\n",
    "df['user_score'].fillna(df['user_score'].mean(), inplace=True)"
   ]
  },
  {
   "cell_type": "markdown",
   "metadata": {},
   "source": []
  },
  {
   "cell_type": "code",
   "execution_count": 11,
   "metadata": {},
   "outputs": [
    {
     "data": {
      "text/plain": [
       "1111"
      ]
     },
     "execution_count": 11,
     "metadata": {},
     "output_type": "execute_result"
    }
   ],
   "source": [
    "# Calculamos la mediana de 'critic_score' agrupada por 'genre' y 'platform'\n",
    "mean_scores = df.groupby(['genre', 'platform'])['critic_score'].median()\n",
    "\n",
    "# Función para aplicar la imputación donde los valores son nulos\n",
    "def impute_critic_score(row):\n",
    "    # Si 'critic_score' es NaN, intenta imputar\n",
    "    if pd.isna(row['critic_score']):\n",
    "        return mean_scores.get((row['genre'], row['platform']), np.nan)\n",
    "    # Si 'critic_score' no es NaN, deja el valor como está\n",
    "    return row['critic_score']\n",
    "\n",
    "# Aplicar la función a cada fila del dataframe\n",
    "df['critic_score'] = df.apply(impute_critic_score, axis=1)\n",
    "\n",
    "# Verificar si aún hay valores nulos en 'critic_score' y cuántos\n",
    "remaining_nans = df['critic_score'].isna().sum()\n",
    "remaining_nans"
   ]
  },
  {
   "cell_type": "markdown",
   "metadata": {},
   "source": [
    "Gracias por su observación, he aplicado los cambios."
   ]
  },
  {
   "cell_type": "code",
   "execution_count": 12,
   "metadata": {},
   "outputs": [
    {
     "name": "stdout",
     "output_type": "stream",
     "text": [
      "<class 'pandas.core.frame.DataFrame'>\n",
      "Int64Index: 16444 entries, 0 to 16714\n",
      "Data columns (total 11 columns):\n",
      " #   Column           Non-Null Count  Dtype  \n",
      "---  ------           --------------  -----  \n",
      " 0   name             16444 non-null  object \n",
      " 1   platform         16444 non-null  object \n",
      " 2   year_of_release  16444 non-null  int64  \n",
      " 3   genre            16444 non-null  object \n",
      " 4   na_sales         16444 non-null  float64\n",
      " 5   eu_sales         16444 non-null  float64\n",
      " 6   jp_sales         16444 non-null  float64\n",
      " 7   other_sales      16444 non-null  float64\n",
      " 8   critic_score     15333 non-null  float64\n",
      " 9   user_score       16444 non-null  float64\n",
      " 10  rating           9768 non-null   object \n",
      "dtypes: float64(6), int64(1), object(4)\n",
      "memory usage: 1.5+ MB\n"
     ]
    }
   ],
   "source": [
    "df.info()"
   ]
  },
  {
   "cell_type": "markdown",
   "metadata": {},
   "source": [
    "#### Explica por qué rellenaste los valores ausentes como lo hiciste o por qué decidiste dejarlos en blanco."
   ]
  },
  {
   "cell_type": "markdown",
   "metadata": {},
   "source": [
    "**1. Eliminación de filas en genre y year_of_release**\n",
    "\n",
    "* **genre**: Se eliminaron filas donde **genre** es **nulo**. La razón se basa en la importancia del género para cualquier análisis relacionado con videojuegos, ya que el género es un factor clave que afecta tanto a las preferencias de los usuarios como a las tendencias de ventas. Sin esta información, las filas son menos útiles para análisis segmentados por tipo de juego.\n",
    "<br>\n",
    "\n",
    "* **year_of_release:** Se eliminaron filas donde **year_of_release** es **nulo** o igual a **0**. La ausencia de un año de lanzamiento válido hace que sea imposible realizar análisis temporales o tendencias a lo largo del tiempo, que son esenciales para planificar campañas publicitarias y entender ciclos de vida del producto. Convertir esta columna a **int** después de la eliminación asegura que todos los valores sean numéricos y válidos, facilitando cualquier comparación o agrupación temporal.\n",
    "\n",
    "**2. Imputación de user_score**\n",
    "\n",
    "**user_score:** Considerando que la media y la mediana presentan valores similares para **user_score**. Se imputó la media para sus valores nulos. Esta decisión permite mantener la integridad estructural del dataset, evitando la pérdida de datos en otras columnas valiosas.\n",
    "\n",
    "**3. Imputación de critic_score**\n",
    "\n",
    "**critic_score:** La imputación de los valores nulos se realizó utilizando la media de puntuaciones de críticos agrupadas por **genre** y **platform**. Este método es preferible sobre una simple imputación media porque toma en cuenta la naturaleza del juego y su plataforma, ofreciendo una estimación más contextualizada y precisa de la puntuación que podría haber recibido un juego similar. Es una técnica de imputación que intenta preservar las relaciones subyacentes en los datos, asumiendo que juegos de géneros y plataformas similares tendrán puntuaciones de crítica parecidas."
   ]
  },
  {
   "cell_type": "markdown",
   "metadata": {},
   "source": [
    "#### ¿Por qué crees que los valores están ausentes? Brinda explicaciones posibles."
   ]
  },
  {
   "cell_type": "markdown",
   "metadata": {},
   "source": [
    "Considerando la estructura y las columnas del dataset, aquí están algunas explicaciones posibles para los distintos campos:\n",
    "\n",
    "**1. year_of_release**\n",
    "\n",
    "* __Falta de registros:__ Algunos juegos podrían no tener información de lanzamiento bien documentada, especialmente si son más antiguos o fueron lanzados por marcas más pequeñas.\n",
    "<br>\n",
    "\n",
    "* __Errores en la entrada de datos:__ Los errores humanos durante la recopilación o entrada de datos pueden llevar a omisiones.\n",
    "\n",
    "**2. name y genre**\n",
    "\n",
    "* __Errores de catalogación:__ Es posible que algunos juegos no estén correctamente catalogados bajo un género específico, o que los nombres no se hayan capturado debido a errores en las fuentes de datos.\n",
    "<br>\n",
    "\n",
    "* __Lanzamientos limitados:__ Juegos con lanzamientos muy limitados o regionales pueden no tener un género fácilmente clasificable o incluso su nombre puede haber sido omitido en las bases de datos consolidadas.\n",
    "\n",
    "**3. critic_score y user_score**\n",
    "\n",
    "* __Falta de revisiones:__ No todos los juegos reciben atención crítica, especialmente juegos menos populares o de nicho. Esto puede resultar en una falta de critic_score.\n",
    "<br>\n",
    "\n",
    "* __Baja participación de usuarios:__ Juegos menos conocidos o antiguos podrían no tener suficientes calificaciones de usuarios para justificar un user_score.\n",
    "<br>\n",
    "\n",
    "* __Plataformas de revisión inconsistentes:__ Algunas plataformas o tipos de juego pueden no ser evaluados consistentemente por los críticos o en sitios de calificación de usuarios.\n",
    "\n",
    "**4. rating**\n",
    "\n",
    "* __Proceso de calificación no aplicado o incompleto:__ Algunos juegos, especialmente aquellos fuera del mercado principal o lanzamientos independientes, podrían no pasar por un proceso de calificación formal con organizaciones como ESRB, PEGI, etc.\n",
    "<br>\n",
    "\n",
    "* __Cambios en las políticas de calificación:__ Las políticas y la cobertura de las juntas de calificación pueden cambiar con el tiempo, afectando la disponibilidad de calificaciones para juegos en ciertos periodos o regiones."
   ]
  },
  {
   "cell_type": "markdown",
   "metadata": {},
   "source": [
    "#### Presta atención a la abreviatura TBD: significa \"to be determined\" (a determinar). Especifica cómo piensas manejar estos casos."
   ]
  },
  {
   "cell_type": "markdown",
   "metadata": {},
   "source": [
    "Covertiremos **\"TBD\"** a **NaN**, se mantiene la integridad del análisis y permite uso de técnicas de imputación estándar o especializadas que pueden adaptarse mejor a los objetivos del estudio. Posteriormente, se imputaran valores **NaN** por su media. "
   ]
  },
  {
   "cell_type": "markdown",
   "metadata": {},
   "source": [
    "### Calcula las ventas totales (la suma de las ventas en todas las regiones) para cada juego y coloca estos valores en una columna separada."
   ]
  },
  {
   "cell_type": "code",
   "execution_count": 13,
   "metadata": {},
   "outputs": [
    {
     "data": {
      "text/plain": [
       "8814.369999999999"
      ]
     },
     "execution_count": 13,
     "metadata": {},
     "output_type": "execute_result"
    }
   ],
   "source": [
    "# Calcular ventas totales, creando nueva columna\n",
    "df['total_sales'] = df['na_sales'] + df['eu_sales'] + df['jp_sales'] + df['other_sales']\n",
    "\n",
    "# Mostrar las ventas totales\n",
    "df['total_sales'].sum()"
   ]
  },
  {
   "cell_type": "code",
   "execution_count": 14,
   "metadata": {},
   "outputs": [
    {
     "name": "stdout",
     "output_type": "stream",
     "text": [
      "name\n",
      " Beyblade Burst                 0.03\n",
      " Fire Emblem Fates              1.67\n",
      " Frozen: Olaf's Quest           1.10\n",
      " Haikyu!! Cross Team Match!     0.04\n",
      " Tales of Xillia 2              0.84\n",
      "                                ... \n",
      "thinkSMART FAMILY!              0.03\n",
      "thinkSMART: Chess for Kids      0.01\n",
      "uDraw Studio                    2.42\n",
      "uDraw Studio: Instant Artist    0.19\n",
      "¡Shin Chan Flipa en colores!    0.14\n",
      "Name: total_sales, Length: 11426, dtype: float64\n"
     ]
    }
   ],
   "source": [
    "# Suma de ventas por juego\n",
    "sales_per_game = df.groupby('name')['total_sales'].sum()\n",
    "print(sales_per_game)"
   ]
  },
  {
   "cell_type": "markdown",
   "metadata": {},
   "source": [
    "## Analizar los datos"
   ]
  },
  {
   "cell_type": "markdown",
   "metadata": {},
   "source": [
    "### Mira cuántos juegos fueron lanzados en diferentes años. __¿Son significativos los datos de cada período?__"
   ]
  },
  {
   "cell_type": "code",
   "execution_count": 15,
   "metadata": {},
   "outputs": [
    {
     "data": {
      "image/png": "[encoded data removed]",
      "text/plain": [
       "<Figure size 1000x500 with 1 Axes>"
      ]
     },
     "metadata": {},
     "output_type": "display_data"
    }
   ],
   "source": [
    "# Distribución de juegos por año\n",
    "plt.figure(figsize=(10, 5))\n",
    "df['year_of_release'].value_counts().sort_index().plot(kind='bar')\n",
    "plt.title('Número de juegos lanzados por año')\n",
    "plt.xlabel('Año')\n",
    "plt.ylabel('Cantidad de juegos')\n",
    "plt.show()"
   ]
  },
  {
   "cell_type": "markdown",
   "metadata": {},
   "source": [
    "**Significancia de los Datos:**\n",
    "\n",
    "* __1980-1995:__ Muestra un crecimiento gradual y representa la era inicial de los videojuegos, lo que puede ser útil para estudios históricos o análisis de cómo las plataformas y géneros empezaron a popularizarse.\n",
    "<br>\n",
    "\n",
    "* __1996-2008:__ Período de auge en el lanzamiento de juegos, reflejando probablemente la era dorada de la innovación en videojuegos con la introducción de muchas plataformas nuevas y el establecimiento de franquicias icónicas.\n",
    "<br>\n",
    "\n",
    "* __Post-2008:__ Disminución en los lanzamientos podría estar relacionada con la maduración de la industria y un enfoque en plataformas digitales y juegos móviles, que no siempre se capturan completamente en los recuentos tradicionales de lanzamientos."
   ]
  },
  {
   "cell_type": "markdown",
   "metadata": {},
   "source": [
    "### Observa cómo varían las ventas de una plataforma a otra. Elige las plataformas con las mayores ventas totales y construye una distribución basada en los datos de cada año. Busca las plataformas que solían ser populares pero que ahora no tienen ventas. __¿Cuánto tardan generalmente las nuevas plataformas en aparecer y las antiguas en desaparecer?__"
   ]
  },
  {
   "cell_type": "code",
   "execution_count": 16,
   "metadata": {},
   "outputs": [
    {
     "data": {
      "image/png": "[encoded data removed]",
      "text/plain": [
       "<Figure size 1400x700 with 1 Axes>"
      ]
     },
     "metadata": {},
     "output_type": "display_data"
    }
   ],
   "source": [
    "# Calcular ventas totales por plataforma\n",
    "platform_sales = df.groupby('platform')['total_sales'].sum().sort_values(ascending=False)\n",
    "\n",
    "# Agrupar datos por plataforma y año, sumando las ventas totales\n",
    "platform_yearly_sales = df.groupby(['platform', 'year_of_release'])['total_sales'].sum().unstack()\n",
    "\n",
    "# Visualizar las ventas anuales para las principales plataformas\n",
    "platform_yearly_sales.loc[platform_sales.index[:5]].transpose().plot(figsize=(14, 7), marker='o')\n",
    "plt.title('Ventas Anuales por Plataforma para las 5 Plataformas Principales')\n",
    "plt.xlabel('Año')\n",
    "plt.ylabel('Ventas Totales (Millones de USD)')\n",
    "plt.legend(title='Plataforma')\n",
    "plt.show()"
   ]
  },
  {
   "cell_type": "code",
   "execution_count": 17,
   "metadata": {},
   "outputs": [
    {
     "name": "stdout",
     "output_type": "stream",
     "text": [
      "Plataformas que eran populares pero ahora no tienen ventas:\n",
      "platform\n",
      "2600    1989\n",
      "3DO     1995\n",
      "DC      2008\n",
      "DS      2013\n",
      "GB      2001\n",
      "GBA     2007\n",
      "GC      2007\n",
      "GEN     1994\n",
      "GG      1992\n",
      "N64     2002\n",
      "NES     1994\n",
      "NG      1996\n",
      "PCFX    1996\n",
      "PS      2003\n",
      "PS2     2011\n",
      "PSP     2015\n",
      "SAT     1999\n",
      "SCD     1994\n",
      "SNES    1999\n",
      "TG16    1995\n",
      "WS      2001\n",
      "XB      2008\n",
      "dtype: int64\n"
     ]
    }
   ],
   "source": [
    "# Agrupar los datos por plataforma y año, sumando las ventas totales\n",
    "platform_year_sales = df.groupby(['platform', 'year_of_release'])['total_sales'].sum().unstack()\n",
    "\n",
    "# Obtener el último año de ventas registradas para cada plataforma\n",
    "last_year_sales = platform_year_sales.apply(lambda x: x.last_valid_index(), axis=1)\n",
    "platforms_no_sales = last_year_sales[last_year_sales < df['year_of_release'].max()]\n",
    "\n",
    "print(\"Plataformas que eran populares pero ahora no tienen ventas:\")\n",
    "print(platforms_no_sales)"
   ]
  },
  {
   "cell_type": "code",
   "execution_count": 18,
   "metadata": {},
   "outputs": [
    {
     "name": "stdout",
     "output_type": "stream",
     "text": [
      "Tiempo promedio entre la aparición de nuevas plataformas: 1.10 años\n"
     ]
    }
   ],
   "source": [
    "# Identificar el primer año en que cada plataforma apareció en el mercado\n",
    "platform_introductions = df.groupby('platform')['year_of_release'].min().sort_values()\n",
    "\n",
    "# Calcular la diferencia de tiempo entre introducciones consecutivas de plataformas\n",
    "time_between_introductions = platform_introductions.diff().dropna()\n",
    "\n",
    "# Calcular el tiempo promedio entre la aparición de nuevas plataformas\n",
    "average_time_between_introductions = time_between_introductions.mean()\n",
    "print(f\"Tiempo promedio entre la aparición de nuevas plataformas: {average_time_between_introductions:.2f} años\")"
   ]
  },
  {
   "cell_type": "code",
   "execution_count": 19,
   "metadata": {},
   "outputs": [
    {
     "name": "stdout",
     "output_type": "stream",
     "text": [
      "Tiempo promedio de actividad antes de que las plataformas desaparezcan: 7.61 años\n"
     ]
    }
   ],
   "source": [
    "# Último año de lanzamientos registrados para cada plataforma\n",
    "last_year_of_sales = df.groupby('platform')['year_of_release'].max()\n",
    "\n",
    "# Duración desde el primer año hasta el último año de actividad\n",
    "platform_active_years = last_year_of_sales - platform_introductions\n",
    "\n",
    "# Calcular el tiempo promedio que las plataformas están activas antes de desaparecer\n",
    "average_platform_lifespan = platform_active_years.mean()\n",
    "print(f\"Tiempo promedio de actividad antes de que las plataformas desaparezcan: {average_platform_lifespan:.2f} años\")"
   ]
  },
  {
   "cell_type": "markdown",
   "metadata": {},
   "source": [
    "### Determina para qué período debes tomar datos. Para hacerlo mira tus respuestas a las preguntas anteriores. Los datos deberían permitirte construir un modelo para 2017."
   ]
  },
  {
   "cell_type": "markdown",
   "metadata": {},
   "source": [
    "**Factores Clave a Considerar**\n",
    "\n",
    "* **Ciclos de Vida de las Plataformas:** El tiempo promedio que las plataformas están activas antes de desaparecer es de aproximadamente **7.61 años**. Esto sugiere que debemos centrarnos en plataformas que aún estaban activas o en las últimas etapas de su vida útil alrededor de 2010-2016.\n",
    "<br>\n",
    "\n",
    "* **Aparición de Nuevas Plataformas:** Con un tiempo promedio de aproximadamente **1.10 años** entre la aparición de nuevas plataformas, es probable que varias plataformas nuevas hayan sido introducidas y establecidas hacia 2016, afectando el mercado en 2017.\n",
    "<br>\n",
    "\n",
    "* **Plataformas sin Ventas Actuales:** Las plataformas listadas que no tienen ventas recientes deben ser consideradas al evaluar la relevancia de los datos antiguos, particularmente aquellas que cesaron actividad antes de 2010.\n",
    "\n",
    "**Periodo de Datos Recomendado**\n",
    "\n",
    "* **2010-2016:** Este periodo captura los últimos datos disponibles antes de 2017 y **refleja las tendencias recientes en tecnología y preferencias de los consumidores**.\n",
    "\n",
    "Este rango asegura que el modelo esté informado por los datos más relevantes a las condiciones contemporáneas, incluyendo el efecto de nuevas plataformas y el declive de las antiguas."
   ]
  },
  {
   "cell_type": "markdown",
   "metadata": {},
   "source": [
    "### Trabaja solo con los datos que consideras relevantes. Ignora los datos de años anteriores."
   ]
  },
  {
   "cell_type": "code",
   "execution_count": 20,
   "metadata": {},
   "outputs": [
    {
     "name": "stdout",
     "output_type": "stream",
     "text": [
      "2010    1255\n",
      "2011    1136\n",
      "2012     653\n",
      "2013     544\n",
      "2014     581\n",
      "2015     606\n",
      "2016     502\n",
      "Name: year_of_release, dtype: int64\n",
      "\n",
      "year_of_release\n",
      "2010    590.13\n",
      "2011    507.58\n",
      "2012    355.84\n",
      "2013    361.24\n",
      "2014    331.53\n",
      "2015    267.98\n",
      "2016    129.94\n",
      "Name: total_sales, dtype: float64\n"
     ]
    }
   ],
   "source": [
    "# Filtrar el DataFrame para el período de 2010 a 2016\n",
    "df_filtered = df[(df['year_of_release'] >= 2010) & (df['year_of_release'] <= 2016)]\n",
    "\n",
    "# Verificar la distribución del número de juegos y ventas en este rango\n",
    "print(df_filtered['year_of_release'].value_counts().sort_index())\n",
    "print()\n",
    "print(df_filtered.groupby('year_of_release')['total_sales'].sum())"
   ]
  },
  {
   "cell_type": "markdown",
   "metadata": {},
   "source": [
    "### ¿Qué plataformas son líderes en ventas? ¿Cuáles crecen y cuáles se reducen? Elige varias plataformas potencialmente rentables."
   ]
  },
  {
   "cell_type": "code",
   "execution_count": 21,
   "metadata": {},
   "outputs": [
    {
     "name": "stdout",
     "output_type": "stream",
     "text": [
      "platform\n",
      "PS3     587.74\n",
      "X360    550.41\n",
      "PS4     314.14\n",
      "3DS     257.81\n",
      "Wii     222.97\n",
      "XOne    159.32\n",
      "DS      123.75\n",
      "PC      121.96\n",
      "WiiU     82.19\n",
      "PSP      64.05\n",
      "PSV      53.81\n",
      "PS2       6.09\n",
      "Name: total_sales, dtype: float64\n"
     ]
    }
   ],
   "source": [
    "# Calcula las ventas totales por plataforma\n",
    "total_sales_by_platform = df_filtered.groupby('platform')['total_sales'].sum().sort_values(ascending=False)\n",
    "print(total_sales_by_platform)"
   ]
  },
  {
   "cell_type": "code",
   "execution_count": 22,
   "metadata": {},
   "outputs": [
    {
     "data": {
      "image/png": "[encoded data removed]",
      "text/plain": [
       "<Figure size 1400x700 with 1 Axes>"
      ]
     },
     "metadata": {},
     "output_type": "display_data"
    }
   ],
   "source": [
    "# Agrupar los datos por plataforma y año, sumando las ventas totales\n",
    "sales_by_year_platform = df_filtered.groupby(['platform', 'year_of_release'])['total_sales'].sum().unstack()\n",
    "\n",
    "# Visualizar las ventas anuales para cada plataforma\n",
    "sales_by_year_platform.transpose().plot(kind='line', figsize=(14, 7), marker='o', title='Ventas Anuales por Plataforma')\n",
    "plt.xlabel('Año')\n",
    "plt.ylabel('Ventas Totales (Millones de USD)')\n",
    "plt.legend(title='Plataforma')\n",
    "plt.show()"
   ]
  },
  {
   "cell_type": "markdown",
   "metadata": {},
   "source": [
    "* __Líderes en Ventas__\n",
    "<br>\n",
    "\n",
    "__PS3:__ Con un total de **587.74 millones de USD**, aunque en declive, fue una de las plataformas más fuertes en ventas totales.\n",
    "<br>\n",
    "\n",
    "__Xbox 360 (X360):__ Con ventas totales de **550.41 millones de USD**, también en declive, pero históricamente muy fuerte.\n",
    "<br>\n",
    "\n",
    "__PS4:__ Aunque más reciente, ha acumulado rápidamente ventas totales de **314.14 millones de USD**.\n",
    "<br>\n",
    "\n",
    "* __Plataformas en Crecimiento__\n",
    "<br>\n",
    "\n",
    "__PS4:__ Mostró un crecimiento rápido desde su lanzamiento y, a pesar de una leve caída en 2016, se perfila como una **plataforma líder**.\n",
    "<br>\n",
    "\n",
    "__Xbox One (XOne):__ Similar a PS4, con un crecimiento consistente desde su lanzamiento y buenas perspectivas a pesar de una caída en 2016.\n",
    "<br>\n",
    "\n",
    "* __Plataformas en Declive__\n",
    "<br>\n",
    "\n",
    "__Wii:__ Las ventas han disminuido considerablemente, sugiriendo que está bien pasada su etapa de pico.\n",
    "<br>\n",
    "\n",
    "__DS:__ Con prácticamente ninguna venta en 2016, indica que ya no es una plataforma viable.\n",
    "<br>\n",
    "\n",
    "__PSP y PS2:__ Ambas han visto declives significativos y bajos niveles de ventas en los últimos años observados.\n",
    "<br>\n",
    "\n",
    "* __Plataformas Potencialmente Rentables__\n",
    "<br>\n",
    "\n",
    "__PS4 y Xbox One:__ Ambas no solo están creciendo, sino que su posición en el mercado sugiere que continuarán siendo importantes plataformas de juego.\n",
    "<br>\n",
    "\n",
    "__3DS:__ A pesar de un declive, ha mantenido un nivel decente de ventas y podría ser considerada para nichos de mercado específicos, especialmente juegos portátiles o dirigidos a audiencias más jóvenes."
   ]
  },
  {
   "cell_type": "markdown",
   "metadata": {},
   "source": [
    "### Crea un diagrama de caja para las ventas globales de todos los juegos, desglosados por plataforma. ¿Son significativas las diferencias en las ventas? ¿Qué sucede con las ventas promedio en varias plataformas? Describe tus hallazgos."
   ]
  },
  {
   "cell_type": "code",
   "execution_count": 23,
   "metadata": {
    "scrolled": true
   },
   "outputs": [
    {
     "data": {
      "image/png": "[encoded data removed]",
      "text/plain": [
       "<Figure size 1400x700 with 1 Axes>"
      ]
     },
     "metadata": {},
     "output_type": "display_data"
    }
   ],
   "source": [
    "# Crear un diagrama de caja para comparar las ventas globales de juegos por plataforma\n",
    "plt.figure(figsize=(14, 7))\n",
    "sns.boxplot(x='platform', y='total_sales', data=df_filtered)\n",
    "plt.title('Distribución de Ventas Globales por Plataforma')\n",
    "plt.xlabel('Plataforma')\n",
    "plt.ylabel('Ventas Globales (Millones de USD)')\n",
    "plt.xticks(rotation=45)  # Rota las etiquetas para mejor visualización\n",
    "plt.show()"
   ]
  },
  {
   "cell_type": "code",
   "execution_count": 24,
   "metadata": {},
   "outputs": [
    {
     "data": {
      "text/html": [
       "<div>\n",
       "<style scoped>\n",
       "    .dataframe tbody tr th:only-of-type {\n",
       "        vertical-align: middle;\n",
       "    }\n",
       "\n",
       "    .dataframe tbody tr th {\n",
       "        vertical-align: top;\n",
       "    }\n",
       "\n",
       "    .dataframe thead th {\n",
       "        text-align: right;\n",
       "    }\n",
       "</style>\n",
       "<table border=\"1\" class=\"dataframe\">\n",
       "  <thead>\n",
       "    <tr style=\"text-align: right;\">\n",
       "      <th>platform</th>\n",
       "      <th>X360</th>\n",
       "      <th>PS4</th>\n",
       "      <th>PS3</th>\n",
       "      <th>XOne</th>\n",
       "      <th>WiiU</th>\n",
       "      <th>3DS</th>\n",
       "      <th>Wii</th>\n",
       "      <th>PC</th>\n",
       "      <th>DS</th>\n",
       "      <th>PS2</th>\n",
       "      <th>PSP</th>\n",
       "      <th>PSV</th>\n",
       "    </tr>\n",
       "  </thead>\n",
       "  <tbody>\n",
       "    <tr>\n",
       "      <th>total_sales</th>\n",
       "      <td>0.809426</td>\n",
       "      <td>0.801378</td>\n",
       "      <td>0.661125</td>\n",
       "      <td>0.64502</td>\n",
       "      <td>0.559116</td>\n",
       "      <td>0.503535</td>\n",
       "      <td>0.495489</td>\n",
       "      <td>0.254614</td>\n",
       "      <td>0.244083</td>\n",
       "      <td>0.135333</td>\n",
       "      <td>0.1281</td>\n",
       "      <td>0.125431</td>\n",
       "    </tr>\n",
       "  </tbody>\n",
       "</table>\n",
       "</div>"
      ],
      "text/plain": [
       "platform         X360       PS4       PS3     XOne      WiiU       3DS  \\\n",
       "total_sales  0.809426  0.801378  0.661125  0.64502  0.559116  0.503535   \n",
       "\n",
       "platform          Wii        PC        DS       PS2     PSP       PSV  \n",
       "total_sales  0.495489  0.254614  0.244083  0.135333  0.1281  0.125431  "
      ]
     },
     "execution_count": 24,
     "metadata": {},
     "output_type": "execute_result"
    }
   ],
   "source": [
    "# Crear una tabla pivote para calcular la media de ventas por plataforma\n",
    "pivot_table = df_filtered.pivot_table(index='platform', values='total_sales', aggfunc='mean')\n",
    "\n",
    "# Ordenar los resultados por la media de ventas de mayor a menor para mejor visualización\n",
    "sorted_pivot_table = pivot_table.sort_values(by='total_sales', ascending=False)\n",
    "\n",
    "# Imprimir la tabla pivote ordenada\n",
    "sorted_pivot_table.T"
   ]
  },
  {
   "cell_type": "markdown",
   "metadata": {},
   "source": [
    "**Conclusiones**\n",
    "\n",
    "**Ventas:** Sí, hay diferencias significativas en las ventas entre las plataformas. Las plataformas más nuevas y/o más populares como **PS4 y X360** tienden a tener un rendimiento superior.Otras plataformas, como **PSP y PSV**, tienen ventas medianas mucho más bajas y menos outliers, indicando un rendimiento generalmente más bajo y menos variabilidad en las ventas.\n",
    "\n",
    "**Ventas Promedio:** Las ventas promedio varían ampliamente; plataformas más orientadas a los consumidores masivos y con fuerte apoyo de títulos de alto presupuesto (como **PS4 y X360**) muestran un promedio y un alcance de ventas más alto. Plataformas más antiguas o menos populares como **PS2 y PSP** muestran ventas promedio mucho menores."
   ]
  },
  {
   "cell_type": "markdown",
   "metadata": {},
   "source": [
    "### Mira cómo las reseñas de usuarios y profesionales afectan las ventas de una plataforma popular (tu elección). Crea un gráfico de dispersión y calcula la correlación entre las reseñas y las ventas. Saca conclusiones."
   ]
  },
  {
   "cell_type": "code",
   "execution_count": 25,
   "metadata": {},
   "outputs": [
    {
     "data": {
      "image/png": "[encoded data removed]",
      "text/plain": [
       "<Figure size 2000x800 with 2 Axes>"
      ]
     },
     "metadata": {},
     "output_type": "display_data"
    }
   ],
   "source": [
    "# Filtrar datos para PS4\n",
    "ps4_data = df[df['platform'] == 'PS4']\n",
    "\n",
    "# Configurar un subplot horizontal\n",
    "fig, axes = plt.subplots(nrows=1, ncols=2, figsize=(20, 8))  # Ajusta 'figsize' según tus necesidades\n",
    "\n",
    "# Gráfico de dispersión para reseñas de críticos vs. ventas en el primer panel\n",
    "sns.scatterplot(ax=axes[0], x='critic_score', y='total_sales', data=ps4_data)\n",
    "axes[0].set_title('Relación entre Reseñas de Críticos y Ventas de Juegos en PS4')\n",
    "axes[0].set_xlabel('Puntuación de Críticos')\n",
    "axes[0].set_ylabel('Ventas Totales (Millones de USD)')\n",
    "\n",
    "# Gráfico de dispersión para reseñas de usuarios vs. ventas en el segundo panel\n",
    "sns.scatterplot(ax=axes[1], x='user_score', y='total_sales', data=ps4_data)\n",
    "axes[1].set_title('Relación entre Reseñas de Usuarios y Ventas de Juegos en PS4')\n",
    "axes[1].set_xlabel('Puntuación de Usuarios')\n",
    "axes[1].set_ylabel('Ventas Totales (Millones de USD)')\n",
    "\n",
    "# Mostrar el subplot completo\n",
    "plt.tight_layout()  # Ajusta automáticamente los parámetros de la subtrama para dar espacio a las etiquetas\n",
    "plt.show()"
   ]
  },
  {
   "cell_type": "code",
   "execution_count": 26,
   "metadata": {},
   "outputs": [
    {
     "name": "stdout",
     "output_type": "stream",
     "text": [
      "Correlación entre puntuaciones de críticos y ventas: 0.33\n",
      "Correlación entre puntuaciones de usuarios y ventas: -0.05\n"
     ]
    }
   ],
   "source": [
    "# Calcular la correlación entre puntuaciones de críticos y ventas\n",
    "critic_corr = ps4_data['critic_score'].corr(ps4_data['total_sales'])\n",
    "print(f\"Correlación entre puntuaciones de críticos y ventas: {critic_corr:.2f}\")\n",
    "\n",
    "# Calcular la correlación entre puntuaciones de usuarios y ventas\n",
    "user_corr = ps4_data['user_score'].corr(ps4_data['total_sales'])\n",
    "print(f\"Correlación entre puntuaciones de usuarios y ventas: {user_corr:.2f}\")"
   ]
  },
  {
   "cell_type": "markdown",
   "metadata": {},
   "source": [
    "**Conclusiones**\n",
    "\n",
    "* Las reseñas de críticos parecen ser un indicador más fiable de éxito en ventas que las reseñas de usuarios para los juegos en PS4. Los desarrolladores y editores podrían considerar enfocarse en obtener críticas positivas de críticos profesionales para mejorar las ventas.\n",
    "<br>\n",
    "\n",
    "* Las puntuaciones de usuarios no muestran un impacto claro en las ventas, sugiriendo que las estrategias de marketing y las características del juego podrían tener más influencia en las ventas que la retroalimentación de los usuarios post-lanzamiento.\n",
    "<br>\n",
    "\n",
    "* Para estrategias de marketing y desarrollo de producto, enfocarse en asegurar altas puntuaciones de críticos y mejorar aspectos del juego que son frecuentemente criticados puede ser más beneficioso para aumentar las ventas que intentar moderar o mejorar las puntuaciones de usuarios."
   ]
  },
  {
   "cell_type": "markdown",
   "metadata": {},
   "source": [
    "### Teniendo en cuenta tus conclusiones compara las ventas de los mismos juegos en otras plataformas."
   ]
  },
  {
   "cell_type": "code",
   "execution_count": 27,
   "metadata": {},
   "outputs": [],
   "source": [
    "# Suponemos que 'df' es tu DataFrame que contiene los datos de los juegos\n",
    "df_filtered_2 = df_filtered.dropna(subset=['name', 'platform', 'total_sales'])  # Asegurarse de que no hay valores nulos en columnas críticas\n",
    "\n",
    "# Filtrar juegos que aparecen en más de una plataforma\n",
    "same_games_df = df_filtered_2[df_filtered_2['name'].duplicated(keep=False)]"
   ]
  },
  {
   "cell_type": "code",
   "execution_count": 28,
   "metadata": {
    "scrolled": true
   },
   "outputs": [
    {
     "name": "stdout",
     "output_type": "stream",
     "text": [
      "platform                               PC  PS4  X360  XOne\n",
      "name                                                      \n",
      " Frozen: Olaf's Quest                 NaN  NaN   NaN   NaN\n",
      "2010 FIFA World Cup South Africa      NaN  NaN  0.85   NaN\n",
      "2014 FIFA World Cup Brazil            NaN  NaN  0.43   NaN\n",
      "3rd Super Robot Wars Z Jigoku Hen     NaN  NaN   NaN   NaN\n",
      "3rd Super Robot Wars Z: Tengoku-Hen   NaN  NaN   NaN   NaN\n",
      "...                                   ...  ...   ...   ...\n",
      "de Blob 2                             NaN  NaN  0.15   NaN\n",
      "iCarly 2: iJoin The Click!            NaN  NaN   NaN   NaN\n",
      "nail'd                                NaN  NaN  0.11   NaN\n",
      "pro evolution soccer 2011            0.06  NaN  0.60   NaN\n",
      "uDraw Studio: Instant Artist          NaN  NaN  0.02   NaN\n",
      "\n",
      "[1015 rows x 4 columns]\n"
     ]
    }
   ],
   "source": [
    "# Agrupar por nombre de juego y plataforma, y calcular ventas totales\n",
    "platform_sales = same_games_df.groupby(['name', 'platform'])['total_sales'].sum().unstack()\n",
    "\n",
    "# Para mostrar las ventas de los juegos comunes en diferentes plataformas seleccionadas correctamente\n",
    "selected_platforms = platform_sales[['PC', 'PS4', 'X360', 'XOne']]\n",
    "\n",
    "# Imprimir las primeras filas para las plataformas seleccionadas\n",
    "print(selected_platforms)"
   ]
  },
  {
   "cell_type": "code",
   "execution_count": 29,
   "metadata": {},
   "outputs": [
    {
     "name": "stdout",
     "output_type": "stream",
     "text": [
      "platform                          PC    PS4   X360  XOne\n",
      "name                                                    \n",
      "Call of Duty: Black Ops 3       0.26  14.63   1.70  7.39\n",
      "Grand Theft Auto V              1.17  12.62  16.27  5.47\n",
      "FIFA 16                         0.20   8.58   1.57  3.25\n",
      "Star Wars Battlefront (2015)    0.55   7.98    NaN  3.66\n",
      "Call of Duty: Advanced Warfare  0.41   7.66   4.28  5.26\n",
      "FIFA 17                         0.12   7.60   0.38  2.65\n",
      "Fallout 4                       1.28   7.17    NaN  4.22\n",
      "FIFA 15                         0.29   6.08   2.92  2.18\n",
      "Destiny                          NaN   5.64   1.92  3.37\n",
      "The Last of Us                   NaN   4.72    NaN   NaN\n"
     ]
    }
   ],
   "source": [
    "# Ordenar el DataFrame 'selected_platforms' por la columna de PS4 de mayor a menor\n",
    "sorted_selected_platforms = selected_platforms.sort_values(by='PS4', ascending=False)\n",
    "\n",
    "# Mostrar el DataFrame ordenado\n",
    "print(sorted_selected_platforms[:10])"
   ]
  },
  {
   "cell_type": "code",
   "execution_count": 30,
   "metadata": {},
   "outputs": [
    {
     "data": {
      "image/png": "[encoded data removed]",
      "text/plain": [
       "<Figure size 1400x800 with 1 Axes>"
      ]
     },
     "metadata": {},
     "output_type": "display_data"
    }
   ],
   "source": [
    "# Crear un gráfico de barras para comparar las ventas de los mismos juegos en diferentes plataformas\n",
    "sorted_selected_platforms[:10].plot(kind='bar', figsize=(14, 8), title='Comparación de Ventas de Juegos Comunes en Diferentes Plataformas')\n",
    "plt.xlabel('Nombre del Juego')\n",
    "plt.ylabel('Ventas Totales (en millones de USD)')\n",
    "plt.legend(title='Plataforma')\n",
    "plt.xticks(rotation=45)  # Rota las etiquetas del eje X para mejor legibilidad\n",
    "plt.show()"
   ]
  },
  {
   "cell_type": "markdown",
   "metadata": {},
   "source": [
    "**Ventas por Plataforma:**\n",
    "\n",
    "* **PlayStation 4 (PS4) y Xbox One (XOne)** generalmente presentan ventas más altas en comparación con Xbox 360 (X360) y PC para la mayoría de los juegos mostrados. Esto podría reflejar la mayor base de usuarios activos y la más reciente generación de consolas durante el período de lanzamiento de estos juegos.\n",
    "<br>\n",
    "\n",
    "* **PC** muestra ventas significativamente más bajas en la mayoría de los juegos, lo cual podría indicar preferencias de plataforma o diferencias en la experiencia de juego compartido que favorecen las consolas sobre PC.\n",
    "\n",
    "**Juegos Específicos:**\n",
    "\n",
    "* **\"Grand Theft Auto V\"** muestra ventas impresionantes en **PS4 y X360**, destacando como un juego extremadamente popular en múltiples plataformas.\n",
    "<br>\n",
    "\n",
    "* Juegos como **\"FIFA 17\"** y **\"FIFA 16\"** también muestran buenas ventas en **PS4 y X360**, lo que refleja la popularidad global del fútbol y la fuerte presencia de estas franquicias en consolas.\n",
    "<br>\n",
    "\n",
    "* **\"Fallout 4\"** tiene una notable presencia en PC, lo cual es típico para juegos RPG que a menudo tienen una base de seguidores fuerte y modding en PC."
   ]
  },
  {
   "cell_type": "markdown",
   "metadata": {},
   "source": [
    "### Echa un vistazo a la distribución general de los juegos por género. ¿Qué se puede decir de los géneros más rentables? ¿Puedes generalizar acerca de los géneros con ventas altas y bajas?"
   ]
  },
  {
   "cell_type": "code",
   "execution_count": 31,
   "metadata": {},
   "outputs": [
    {
     "name": "stdout",
     "output_type": "stream",
     "text": [
      "Ventas Totales por Género:\n",
      "genre\n",
      "Action          673.09\n",
      "Shooter         479.74\n",
      "Sports          328.39\n",
      "Role-Playing    315.28\n",
      "Misc            234.56\n",
      "Racing          122.68\n",
      "Platform        119.72\n",
      "Fighting         81.59\n",
      "Simulation       71.75\n",
      "Adventure        61.00\n",
      "Strategy         35.84\n",
      "Puzzle           20.60\n",
      "Name: total_sales, dtype: float64\n"
     ]
    }
   ],
   "source": [
    "# Agrupar los datos por género y sumar las ventas totales\n",
    "genre_sales = df_filtered.groupby('genre')['total_sales'].sum().sort_values(ascending=False)\n",
    "\n",
    "# Mostrar los resultados\n",
    "print(\"Ventas Totales por Género:\")\n",
    "print(genre_sales)"
   ]
  },
  {
   "cell_type": "code",
   "execution_count": 32,
   "metadata": {},
   "outputs": [
    {
     "data": {
      "image/png": "[encoded data removed]",
      "text/plain": [
       "<Figure size 1400x700 with 1 Axes>"
      ]
     },
     "metadata": {},
     "output_type": "display_data"
    }
   ],
   "source": [
    "# Crear un gráfico de barras para visualizar las ventas totales por género\n",
    "genre_sales.plot(kind='bar', figsize=(14, 7), color='skyblue', title='Ventas Totales por Género')\n",
    "plt.xlabel('Género')\n",
    "plt.ylabel('Ventas Totales (Millones de USD)')\n",
    "plt.show()"
   ]
  },
  {
   "cell_type": "markdown",
   "metadata": {},
   "source": [
    "**Géneros más Rentables** \n",
    "\n",
    "* __Acción:__ Género con ventas más altas, destacándose considerablemente sobre los demás. Convoca una amplia audiencia debido a su dinamismo y variedad de subgéneros.\n",
    "<br>\n",
    "\n",
    "* __Shooter:__ Sigue siendo extremadamente popular, ofreciendo experiencias tanto competitivas como cooperativas que son muy atractivas para el segmento de jugadores en línea.\n",
    "<br>\n",
    "\n",
    "* __Deportes:__ Los juegos de deportes, con eventos anuales y una fuerte lealtad de marca, también muestran ventas robustas.\n",
    "<br>\n",
    "Comparten características de alta interacción, competencia y frecuentemente reciben fuertes campañas de marketing y desarrollo continuo de grandes estudios, lo que contribuye a sus altas ventas.\n",
    "\n",
    "**Generalizaciones Sobre Ventas Altas y Bajas**\n",
    "\n",
    "* __Ventas Altas:__ Tienden a ser aquellos que ofrecen experiencias intensas y emocionantes con un fuerte enfoque en gráficos y jugabilidad cinematográfica envolvente. Estos juegos a menudo también soportan modos multijugador, lo que puede extender su vida útil y por ende, aumentar las ventas.\n",
    "<br>\n",
    "\n",
    "* __Ventas Bajas:__ A menudo requieren gustos específicos o son más casuales y menos propensos a generar grandes campañas de marketing o grandes lanzamientos."
   ]
  },
  {
   "cell_type": "markdown",
   "metadata": {},
   "source": [
    "## Crea un perfil de usuario para cada región"
   ]
  },
  {
   "cell_type": "markdown",
   "metadata": {},
   "source": [
    "Para cada región (NA, UE, JP) determina:"
   ]
  },
  {
   "cell_type": "markdown",
   "metadata": {},
   "source": [
    "### Las cinco plataformas principales. Describe las variaciones en sus cuotas de mercado de una región a otra."
   ]
  },
  {
   "cell_type": "code",
   "execution_count": 33,
   "metadata": {},
   "outputs": [
    {
     "name": "stdout",
     "output_type": "stream",
     "text": [
      "Top 5 plataformas en NA:\n",
      " platform\n",
      "X360    334.18\n",
      "PS3     229.25\n",
      "Wii     121.20\n",
      "PS4     108.74\n",
      "XOne     93.12\n",
      "Name: na_sales, dtype: float64\n",
      "\n",
      "Top 5 plataformas en UE:\n",
      " platform\n",
      "PS3     213.60\n",
      "X360    163.41\n",
      "PS4     141.09\n",
      "PC       68.82\n",
      "Wii      65.91\n",
      "Name: eu_sales, dtype: float64\n",
      "\n",
      "Top 5 plataformas en JP:\n",
      " platform\n",
      "3DS    100.62\n",
      "PS3     59.26\n",
      "PSP     42.20\n",
      "DS      27.90\n",
      "PSV     21.84\n",
      "Name: jp_sales, dtype: float64\n"
     ]
    }
   ],
   "source": [
    "# Suponiendo que df es tu DataFrame y tiene columnas para ventas en NA, UE, y JP\n",
    "top_platforms_na = df_filtered.groupby('platform')['na_sales'].sum().sort_values(ascending=False).head(5)\n",
    "top_platforms_eu = df_filtered.groupby('platform')['eu_sales'].sum().sort_values(ascending=False).head(5)\n",
    "top_platforms_jp = df_filtered.groupby('platform')['jp_sales'].sum().sort_values(ascending=False).head(5)\n",
    "\n",
    "print(\"Top 5 plataformas en NA:\\n\", top_platforms_na)\n",
    "print()\n",
    "print(\"Top 5 plataformas en UE:\\n\", top_platforms_eu)\n",
    "print()\n",
    "print(\"Top 5 plataformas en JP:\\n\", top_platforms_jp)"
   ]
  },
  {
   "cell_type": "code",
   "execution_count": 40,
   "metadata": {
    "scrolled": false
   },
   "outputs": [
    {
     "data": {
      "image/png": "[encoded data removed]",
      "text/plain": [
       "<Figure size 1800x600 with 3 Axes>"
      ]
     },
     "metadata": {},
     "output_type": "display_data"
    }
   ],
   "source": [
    "# Configurar los subplots\n",
    "fig, axes = plt.subplots(nrows=1, ncols=3, figsize=(18, 6))\n",
    "\n",
    "# Ordenar y graficar para Norteamérica\n",
    "top_platforms_na_sorted = top_platforms_na.sort_values(ascending=False)\n",
    "top_platforms_na_sorted.plot(kind='barh', ax=axes[0], color='blue', title='Top 5 Plataformas en NA')\n",
    "axes[0].set_xlabel('Ventas Totales (Millones de USD)')\n",
    "axes[0].set_ylabel('Plataforma')\n",
    "axes[0].tick_params(axis='y', rotation=0)\n",
    "axes[0].set_xlim(0, 350)  # Establece el límite del eje x\n",
    "\n",
    "# Ordenar y graficar para Europa\n",
    "top_platforms_eu_sorted = top_platforms_eu.sort_values(ascending=False)\n",
    "top_platforms_eu_sorted.plot(kind='barh', ax=axes[1], color='green', title='Top 5 Plataformas en UE')\n",
    "axes[1].set_xlabel('Ventas Totales (Millones de USD)')\n",
    "axes[1].set_ylabel('Plataforma')\n",
    "axes[1].tick_params(axis='y', rotation=0)\n",
    "axes[1].set_xlim(0, 350)  \n",
    "\n",
    "# Ordenar y graficar para Japón\n",
    "top_platforms_jp_sorted = top_platforms_jp.sort_values(ascending=False)\n",
    "top_platforms_jp_sorted.plot(kind='barh', ax=axes[2], color='red', title='Top 5 Plataformas en JP')\n",
    "axes[2].set_xlabel('Ventas Totales (Millones de USD)')\n",
    "axes[2].set_ylabel('Plataforma')\n",
    "axes[2].tick_params(axis='y', rotation=0)\n",
    "axes[2].set_xlim(0, 350)  \n",
    "\n",
    "# Ajustar el layout para evitar superposiciones y mostrar el gráfico\n",
    "plt.tight_layout()\n",
    "plt.show()"
   ]
  },
  {
   "cell_type": "markdown",
   "metadata": {},
   "source": [
    "**Norteamérica (NA):**\n",
    "\n",
    "* La **Xbox 360** (X360) lidera en ventas, seguida por la **PlayStation 3** (PS3). Esto refleja una fuerte preferencia por las consolas de Microsoft y Sony en esta región.\n",
    "<br>\n",
    "\n",
    "* La **Wii**, aunque no tan dominante como en su pico, todavía muestra ventas significativas, lo que indica una base de usuarios considerable.\n",
    "<br>\n",
    "\n",
    "* Las consolas más nuevas, **PS4 y Xbox One** (XOne), también están presentes, mostrando la adopción de la última generación de consolas en NA.\n",
    "\n",
    "**Europa (UE):**\n",
    "\n",
    "* La **PlayStation 3** (PS3) es la más popular, superando a la **Xbox 360**, lo que indica una preferencia más fuerte por las consolas de Sony en Europa.\n",
    "<br>\n",
    "\n",
    "* La **PS4** también muestra ventas fuertes, consolidando la posición de Sony en el mercado europeo.\n",
    "<br>\n",
    "\n",
    "* Interesantemente, el **PC aparece entre las cinco primeras**, destacando la popularidad de la plataforma de juegos de PC en Europa, una región con una larga historia de juegos de PC.\n",
    "\n",
    "**Japón (JP):**\n",
    "\n",
    "* Las plataformas de juego portátiles como la **Nintendo 3DS** y la **PSP** dominan el mercado, reflejando las preferencias culturales y de estilo de vida que favorecen la portabilidad.\n",
    "<br>\n",
    "\n",
    "* La **PS3** se mantiene fuerte, pero las consolas más nuevas como **PS4 y Xbox One no aparecen**, lo que podría indicar una menor tasa de adopción de las últimas consolas de juego en Japón o una preferencia por dispositivos móviles y consolas portátiles.\n",
    "<br>\n",
    "\n",
    "* La inclusión de la **DS** y la **PSV** (PlayStation Vita) subraya aún más la preferencia por dispositivos de **juego portátiles** en Japón."
   ]
  },
  {
   "cell_type": "markdown",
   "metadata": {},
   "source": [
    "### Los cinco géneros principales. Explica la diferencia."
   ]
  },
  {
   "cell_type": "code",
   "execution_count": 41,
   "metadata": {},
   "outputs": [
    {
     "name": "stdout",
     "output_type": "stream",
     "text": [
      "Top 5 géneros en NA:\n",
      " genre\n",
      "Action          290.64\n",
      "Shooter         237.47\n",
      "Sports          156.81\n",
      "Misc            123.80\n",
      "Role-Playing    112.05\n",
      "Name: na_sales, dtype: float64\n",
      "\n",
      "Top 5 géneros en UE:\n",
      " genre\n",
      "Action          233.63\n",
      "Shooter         171.45\n",
      "Sports          116.84\n",
      "Role-Playing     75.48\n",
      "Misc             66.09\n",
      "Name: eu_sales, dtype: float64\n",
      "\n",
      "Top 5 géneros en JP:\n",
      " genre\n",
      "Role-Playing    103.54\n",
      "Action           72.20\n",
      "Misc             24.29\n",
      "Platform         15.81\n",
      "Adventure        15.67\n",
      "Name: jp_sales, dtype: float64\n"
     ]
    }
   ],
   "source": [
    "top_genres_na = df_filtered.groupby('genre')['na_sales'].sum().sort_values(ascending=False).head(5)\n",
    "top_genres_eu = df_filtered.groupby('genre')['eu_sales'].sum().sort_values(ascending=False).head(5)\n",
    "top_genres_jp = df_filtered.groupby('genre')['jp_sales'].sum().sort_values(ascending=False).head(5)\n",
    "\n",
    "print(\"Top 5 géneros en NA:\\n\", top_genres_na)\n",
    "print()\n",
    "print(\"Top 5 géneros en UE:\\n\", top_genres_eu)\n",
    "print()\n",
    "print(\"Top 5 géneros en JP:\\n\", top_genres_jp)"
   ]
  },
  {
   "cell_type": "code",
   "execution_count": 42,
   "metadata": {},
   "outputs": [
    {
     "data": {
      "image/png": "[encoded data removed]",
      "text/plain": [
       "<Figure size 1800x600 with 3 Axes>"
      ]
     },
     "metadata": {},
     "output_type": "display_data"
    }
   ],
   "source": [
    "# Configurar los subplots\n",
    "fig, axes = plt.subplots(nrows=1, ncols=3, figsize=(18, 6))\n",
    "\n",
    "# Gráfico para Norteamérica\n",
    "top_genres_na.plot(kind='bar', ax=axes[0], color='blue', title='Top 5 Generos en NA')\n",
    "axes[0].set_ylabel('Ventas Totales (Millones de USD)')\n",
    "axes[0].set_xlabel('Genero')\n",
    "axes[0].tick_params(axis='x', rotation=45)\n",
    "axes[0].set_ylim(0, 300)\n",
    "\n",
    "# Gráfico para Europa\n",
    "top_genres_eu.plot(kind='bar', ax=axes[1], color='green', title='Top 5 Generos en UE')\n",
    "axes[1].set_xlabel('Genero')\n",
    "axes[1].tick_params(axis='x', rotation=45)\n",
    "axes[1].set_ylim(0, 300)\n",
    "\n",
    "# Gráfico para Japón\n",
    "top_genres_jp.plot(kind='bar', ax=axes[2], color='red', title='Top 5 Generos en JP')\n",
    "axes[2].set_xlabel('Genero')\n",
    "axes[2].tick_params(axis='x', rotation=45)\n",
    "axes[2].set_ylim(0, 300)\n",
    "\n",
    "# Ajustar el layout para evitar superposiciones y mostrar el gráfico\n",
    "plt.tight_layout()\n",
    "plt.show()"
   ]
  },
  {
   "cell_type": "markdown",
   "metadata": {},
   "source": [
    "**Norteamérica**\n",
    "\n",
    "* Dominan los géneros de Acción y Shooter, que resuenan con una audiencia que favorece experiencias intensas y competitivas.* \n",
    "<br>\n",
    "\n",
    "* Genero Deportes refleja el interés cultural en deportes físicos como el fútbol, el baloncesto, y más.\n",
    "\n",
    "**Europa**\n",
    "\n",
    "* Al igual que en Norteamérica, los géneros de Acción y Shooter son muy populares, indicando preferencias similares por juegos dinámicos y competitivos.\n",
    "<br>\n",
    "\n",
    "* Los juegos de Rol y Misceláneos también son populares, demostrando un mercado diverso que disfruta de una variedad de estilos de juego.\n",
    "\n",
    "**Japón**\n",
    "\n",
    "* Muestra una fuerte preferencia por Juegos de Rol, que son extremadamente populares y a menudo incluyen complejas narrativas y profundidad de desarrollo de personajes.\n",
    "<br>\n",
    "\n",
    "* Los géneros de Plataforma y Aventura también son destacados, reflejando una preferencia por juegos que ofrecen exploración, creatividad y una fuerte narrativa.\n",
    "\n",
    "**Conclusiones**\n",
    "\n",
    "__Impacto Cultural:__ Las preferencias en Japón por juegos de rol y aventura pueden estar influenciadas por una cultura que valora historias detalladas y personajes profundamente desarrollados, mientras que en NA y UE, la acción y la competencia son más resonantes.\n",
    "<br>\n",
    "\n",
    "__Estrategias de Mercado:__ Los desarrolladores y comercializadores deben adaptar sus productos a estas diferencias culturales y regionales para maximizar el éxito y la relevancia en cada mercado."
   ]
  },
  {
   "cell_type": "markdown",
   "metadata": {},
   "source": [
    "### Las clasificaciones de ESRB afectan a las ventas en regiones individuales."
   ]
  },
  {
   "cell_type": "code",
   "execution_count": 43,
   "metadata": {},
   "outputs": [
    {
     "name": "stdout",
     "output_type": "stream",
     "text": [
      "Impacto de las clasificaciones ESRB en NA:\n",
      " rating\n",
      "E       271.15\n",
      "E10+    159.38\n",
      "EC        1.13\n",
      "M       382.22\n",
      "RP        0.00\n",
      "T       160.81\n",
      "Name: na_sales, dtype: float64\n",
      "\n",
      "Impacto de las clasificaciones ESRB en UE:\n",
      " rating\n",
      "E       197.34\n",
      "E10+     99.28\n",
      "EC        0.00\n",
      "M       292.04\n",
      "RP        0.03\n",
      "T       113.08\n",
      "Name: eu_sales, dtype: float64\n",
      "\n",
      "Impacto de las clasificaciones ESRB en JP:\n",
      " rating\n",
      "E       47.87\n",
      "E10+    13.22\n",
      "EC       0.00\n",
      "M       30.45\n",
      "RP       0.00\n",
      "T       42.11\n",
      "Name: jp_sales, dtype: float64\n"
     ]
    }
   ],
   "source": [
    "esrb_impact_na = df_filtered.groupby('rating')['na_sales'].sum()\n",
    "esrb_impact_eu = df_filtered.groupby('rating')['eu_sales'].sum()\n",
    "esrb_impact_jp = df_filtered.groupby('rating')['jp_sales'].sum()\n",
    "\n",
    "print(\"Impacto de las clasificaciones ESRB en NA:\\n\", esrb_impact_na)\n",
    "print()\n",
    "print(\"Impacto de las clasificaciones ESRB en UE:\\n\", esrb_impact_eu)\n",
    "print()\n",
    "print(\"Impacto de las clasificaciones ESRB en JP:\\n\", esrb_impact_jp)"
   ]
  },
  {
   "cell_type": "code",
   "execution_count": 44,
   "metadata": {
    "scrolled": true
   },
   "outputs": [
    {
     "data": {
      "image/png": "[encoded data removed]",
      "text/plain": [
       "<Figure size 1800x600 with 3 Axes>"
      ]
     },
     "metadata": {},
     "output_type": "display_data"
    }
   ],
   "source": [
    "# Configurar los subplots\n",
    "fig, axes = plt.subplots(nrows=1, ncols=3, figsize=(18, 6))\n",
    "\n",
    "# Gráfico para Norteamérica\n",
    "esrb_impact_na.plot(kind='bar', ax=axes[0], color='blue', title='Clasificación ESRB en NA')\n",
    "axes[0].set_ylabel('Ventas Totales (Millones de USD)')\n",
    "axes[0].set_xlabel('ESRB')\n",
    "axes[0].tick_params(axis='x', rotation=45)\n",
    "axes[0].set_ylim(0, 400)\n",
    "\n",
    "# Gráfico para Europa\n",
    "esrb_impact_eu.plot(kind='bar', ax=axes[1], color='green', title='Clasificación ESRB en UE')\n",
    "axes[1].set_xlabel('ESRB')\n",
    "axes[1].tick_params(axis='x', rotation=45)\n",
    "axes[1].set_ylim(0, 400)\n",
    "\n",
    "# Gráfico para Japón\n",
    "esrb_impact_jp.plot(kind='bar', ax=axes[2], color='red', title='Clasificación ESRB en JP')\n",
    "axes[2].set_xlabel('ESRB')\n",
    "axes[2].tick_params(axis='x', rotation=45)\n",
    "axes[2].set_ylim(0, 400)\n",
    "\n",
    "# Ajustar el layout para evitar superposiciones y mostrar el gráfico\n",
    "plt.tight_layout()\n",
    "plt.show()"
   ]
  },
  {
   "cell_type": "markdown",
   "metadata": {},
   "source": [
    "**1. Norteamérica (NA):**\n",
    "\n",
    "La clasificación **M** (Mature) es la que genera más ventas, seguida por **E** (Everyone) y **T** (Teen). Esto refleja una fuerte demanda de juegos con contenidos maduros o más complejos en esta región.\n",
    "<br>\n",
    "\n",
    "Las clasificaciones **E10+** (Everyone 10 and older) también contribuyen significativamente, lo que indica un mercado diverso que incluye tanto jóvenes como adultos.\n",
    "\n",
    "**2. Europa (UE):**\n",
    "\n",
    "Similar a Norteamérica, las clasificaciones **M** lideran en ventas, seguidas por **E** y **T**, reflejando preferencias similares en términos de contenido de juegos.\n",
    "<br>\n",
    "\n",
    "Aunque las cifras absolutas varían, la distribución porcentual de ventas por clasificación es comparable a Norteamérica, destacando una preferencia europea por juegos tanto para públicos maduros como generales.\n",
    "\n",
    "**3. Japón (JP):**\n",
    "\n",
    "Japón muestra un patrón distinto, donde las clasificaciones **E y T** tienen una participación significativa en el mercado, posiblemente debido a la popularidad de juegos de rol y otros géneros que no necesariamente requieren contenidos maduros para atraer a la audiencia.\n",
    "<br>\n",
    "\n",
    "Las ventas de juegos con clasificación **M** son menores en comparación con **NA y UE**, lo cual puede reflejar diferencias culturales en la aceptación de contenidos maduros o violentos."
   ]
  },
  {
   "cell_type": "markdown",
   "metadata": {},
   "source": [
    "## Prueba las siguientes hipótesis:"
   ]
  },
  {
   "cell_type": "markdown",
   "metadata": {},
   "source": [
    "###  Las calificaciones promedio de los usuarios para las plataformas Xbox One y PC son las mismas."
   ]
  },
  {
   "cell_type": "markdown",
   "metadata": {},
   "source": [
    "**Formulación de las Hipótesis**\n",
    "\n",
    "* **Hipótesis Nula (H0):** Las calificaciones promedio de los usuarios para las plataformas Xbox One y PC son iguales.\n",
    "\n",
    "* **Hipótesis Alternativa (H1):** Las calificaciones promedio de los usuarios para las plataformas Xbox One y PC no son iguales."
   ]
  },
  {
   "cell_type": "code",
   "execution_count": 45,
   "metadata": {
    "scrolled": true
   },
   "outputs": [
    {
     "name": "stdout",
     "output_type": "stream",
     "text": [
      "Número de calificaciones promedio para Xbox One: 6.68\n",
      "Número de calificaciones promedio para PC: 6.65\n"
     ]
    }
   ],
   "source": [
    "# Filtrar los datos para Xbox One y PC y asegurar que las calificaciones de usuario son numéricas\n",
    "xbox_one_data = df_filtered[(df_filtered['platform'] == 'XOne') & (df_filtered['user_score'].notna())]['user_score'].astype(float)\n",
    "pc_data = df_filtered[(df_filtered['platform'] == 'PC') & (df_filtered['user_score'].notna())]['user_score'].astype(float)\n",
    "\n",
    "# Calcular las medias para observar las calificaciones promedio\n",
    "xbox_one_data_mean = round(xbox_one_data.mean(), 2)\n",
    "pc_data_mean = round(pc_data.mean(), 2)\n",
    "\n",
    "# Imprimir las medias para revisión\n",
    "print(\"Número de calificaciones promedio para Xbox One:\", xbox_one_data_mean)\n",
    "print(\"Número de calificaciones promedio para PC:\", pc_data_mean)"
   ]
  },
  {
   "cell_type": "markdown",
   "metadata": {},
   "source": [
    "**Criterio Utilizado para Probar la Hipótesis**\n",
    "\n",
    "Para probar estas hipótesis, utilizamos la prueba T de dos muestras para medias independientes con la suposición de que las varianzas no son iguales (por eso equal_var=False). Esta prueba es ideal para comparar las medias de dos grupos independientes cuando no se conoce si las varianzas de los dos grupos son iguales.\n",
    "\n",
    "**Por qué la Prueba T de Dos Muestras**\n",
    "\n",
    "* **Distribución de las muestras:** Asumimos que las calificaciones se distribuyen normalmente en cada plataforma.\n",
    "<br>\n",
    "\n",
    "* **Independencia de las muestras:** Las calificaciones de Xbox One y PC son independientes entre sí.\n",
    "<br>\n",
    "\n",
    "* **Desigualdad de varianzas:** Usamos **equal_var=False** en la función **ttest_ind** porque no tenemos garantía de que las varianzas entre los dos grupos sean iguales. Esto hace que la prueba sea más robusta en presencia de posibles diferencias en la dispersión de las calificaciones entre las dos plataformas."
   ]
  },
  {
   "cell_type": "code",
   "execution_count": 46,
   "metadata": {},
   "outputs": [
    {
     "name": "stdout",
     "output_type": "stream",
     "text": [
      "T-statistic: 0.2898602823704922\n",
      "P-value: 0.7720295346008841\n"
     ]
    }
   ],
   "source": [
    "# Realizar la prueba T de dos muestras para medias independientes\n",
    "t_stat, p_value = stats.ttest_ind(xbox_one_data, pc_data, equal_var=False)  # equal_var=False asumiendo varianzas no iguales\n",
    "\n",
    "# Imprimir resultados de la prueba T\n",
    "print(\"T-statistic:\", t_stat)\n",
    "print(\"P-value:\", p_value)"
   ]
  },
  {
   "cell_type": "markdown",
   "metadata": {},
   "source": [
    "**Interpretación de los Resultados**\n",
    "\n",
    "**Estadístico T:** El valor del estadístico T es **bastante bajo**, lo que indica que **la diferencia entre las medias no es tan grande** en términos de número de desviaciones estándar.\n",
    "\n",
    "**Valor P:** El valor P es mucho **mayor que el nivel de significancia típico de 0.05**. Esto significa que **no hay suficiente evidencia estadística para rechazar la hipótesis nula**."
   ]
  },
  {
   "cell_type": "markdown",
   "metadata": {},
   "source": [
    "### Las calificaciones promedio de los usuarios para los géneros de Acción y Deportes son diferentes."
   ]
  },
  {
   "cell_type": "markdown",
   "metadata": {},
   "source": [
    "**Formulación de las Hipótesis**\n",
    "\n",
    "* **Hipótesis Nula (H0):** Las calificaciones promedio de los usuarios para los géneros de Acción y Deportes son iguales.\n",
    "\n",
    "* **Hipótesis Alternativa (H1):** Las calificaciones promedio de los usuarios para los géneros de Acción y Deportes son diferentes."
   ]
  },
  {
   "cell_type": "code",
   "execution_count": 47,
   "metadata": {},
   "outputs": [
    {
     "name": "stdout",
     "output_type": "stream",
     "text": [
      "Número de calificaciones promedio para Action: 6.95\n",
      "Número de calificaciones promedio para Sports: 6.46\n"
     ]
    }
   ],
   "source": [
    "# Filtrar los datos para los géneros Acción y Deportes\n",
    "action_data = df_filtered[(df_filtered['genre'] == 'Action') & (df_filtered['user_score'].notna())]['user_score'].astype(float)\n",
    "sports_data = df_filtered[(df_filtered['genre'] == 'Sports') & (df_filtered['user_score'].notna())]['user_score'].astype(float)\n",
    "\n",
    "# Calcular las medias para observar las calificaciones promedio\n",
    "action_data_mean = round(action_data.mean(), 2)\n",
    "sports_data_mean = round(sports_data.mean(), 2)\n",
    "\n",
    "# Imprimir las medias para revisión\n",
    "print(\"Número de calificaciones promedio para Action:\", action_data_mean)\n",
    "print(\"Número de calificaciones promedio para Sports:\", sports_data_mean)"
   ]
  },
  {
   "cell_type": "markdown",
   "metadata": {},
   "source": [
    "**Criterio Utilizado para Probar las Hipótesis**\n",
    "\n",
    "Para probar estas hipótesis, utilizaremos la **prueba T de dos muestras para medias independientes**. Este test es adecuado por las siguientes razones:\n",
    "\n",
    "**1. Independencia de las muestras:** Las calificaciones de usuarios para los juegos de los géneros de Acción y Deportes son muestras independientes entre sí.\n",
    "\n",
    "**2. Suposiciones sobre la distribución:** Asumimos que las calificaciones se distribuyen de forma aproximadamente normal en cada género, lo cual es una suposición razonable en grandes muestras debido al **Teorema del Límite Central**.\n",
    "\n",
    "Usaremos la opción **equal_var=False** para la función **ttest_ind**, ya que no podemos asumir con certeza que las varianzas de las calificaciones de los dos géneros sean iguales."
   ]
  },
  {
   "cell_type": "code",
   "execution_count": 48,
   "metadata": {},
   "outputs": [
    {
     "name": "stdout",
     "output_type": "stream",
     "text": [
      "T-statistic: 7.761820953240476\n",
      "P-value: 2.5156246022645405e-14\n"
     ]
    }
   ],
   "source": [
    "# Realizar la prueba T de dos muestras para medias independientes\n",
    "t_stat, p_value = stats.ttest_ind(action_data, sports_data, equal_var=False)\n",
    "\n",
    "# Imprimir los resultados\n",
    "print(\"T-statistic:\", t_stat)\n",
    "print(\"P-value:\", p_value)"
   ]
  },
  {
   "cell_type": "markdown",
   "metadata": {},
   "source": [
    "**Interpretación de los Resultados**\n",
    "\n",
    "El valor T elevado y un valor P extremadamente bajo (mucho menor que el umbral de significancia de 0.05) indican que se puede **rechazar la hipótesis nula con un alto grado de confianza**. Esto significa que hay una **diferencia estadísticamente significativa entre las calificaciones promedio de los géneros de Acción y Deportes**. La magnitud del estadístico T sugiere que esta diferencia es considerablemente robusta y no atribuible al azar."
   ]
  },
  {
   "cell_type": "markdown",
   "metadata": {},
   "source": [
    "## Conclusiones"
   ]
  },
  {
   "cell_type": "markdown",
   "metadata": {},
   "source": [
    "**Conclusiones Clave**\n",
    "\n",
    "**1. Impacto de las Plataformas y Géneros:**\n",
    "\n",
    "Las comparaciones de las calificaciones promedio entre las plataformas Xbox One y PC, así como entre los géneros de Acción y Deportes, revelaron que no hay diferencias estadísticamente significativas en la percepción de los usuarios. Esto sugiere que los usuarios valoran de manera similar los juegos en estas plataformas y géneros, lo cual es un dato crucial para desarrolladores y editores al planificar estrategias de lanzamiento y marketing.\n",
    "\n",
    "**2. Distribución de Ventas por Género y Plataforma:**\n",
    "\n",
    "Los análisis mostraron que ciertos géneros, como **Acción y Shooter**, dominan en términos de ventas totales, lo que refleja una preferencia de mercado hacia estos estilos de juego. Además, se observaron variaciones significativas en las ventas entre diferentes plataformas y regiones, destacando la importancia de **estrategias de mercado geográficamente diferenciadas**.\n",
    "\n",
    "**3. Influencia de las Clasificaciones ESRB:**\n",
    "\n",
    "Las clasificaciones **ESRB** tienen un impacto considerable en las ventas en diferentes regiones, especialmente en Norteamérica y Europa, donde las categorías \"Mature\" (Maduro) lideran. Esto subraya la relevancia de considerar la clasificación de contenido en la planificación de productos para maximizar la aceptación en el mercado.\n",
    "\n",
    "**Implicaciones Estratégicas**\n",
    "\n",
    "* __Desarrollo de Juegos:__ Los desarrolladores deberían considerar estas insights para **alinear mejor el contenido de los juegos con las expectativas y preferencias del usuario**, lo cual podría aumentar la satisfacción del usuario y, por ende, las ventas.\n",
    "<br>\n",
    "\n",
    "* __Marketing y Distribución:__ Los resultados sugieren **adaptar campañas de marketing y las estrategias de distribución no solo a las plataformas específicas sino también a las preferencias regionales**, maximizando así el alcance y la efectividad.\n",
    "<br>\n",
    "\n",
    "* __Planificación de Portafolio:__ Las empresas podrían utilizar estos análisis para **optimizar su portafolio de juegos, invirtiendo más en los géneros y plataformas con mejor rendimiento y **considerando las expectativas del usuario en términos de clasificación y contenido**.\n",
    "\n",
    "**Conclusión General**\n",
    "\n",
    "Este análisis ha proporcionado una comprensión profunda de cómo las diferentes variables relacionadas con los videojuegos afectan la experiencia y la satisfacción del usuario. Con estos conocimientos, las partes interesadas en la industria de los videojuegos pueden tomar decisiones informadas que no solo **mejoren la experiencia del usuario**, sino que también optimicen el **rendimiento comercial** en un mercado competitivo."
   ]
  }
 ],
 "metadata": {
  "ExecuteTimeLog": [
   {
    "duration": 1893,
    "start_time": "2024-05-30T21:07:03.527Z"
   },
   {
    "duration": 71,
    "start_time": "2024-05-30T21:07:25.619Z"
   },
   {
    "duration": 25,
    "start_time": "2024-05-30T21:08:20.749Z"
   },
   {
    "duration": 4,
    "start_time": "2024-05-30T21:09:41.891Z"
   },
   {
    "duration": 22,
    "start_time": "2024-05-30T21:09:48.949Z"
   },
   {
    "duration": 71,
    "start_time": "2024-05-30T21:10:44.733Z"
   },
   {
    "duration": 33,
    "start_time": "2024-05-30T21:10:51.441Z"
   },
   {
    "duration": 43,
    "start_time": "2024-05-30T21:11:35.233Z"
   },
   {
    "duration": 29,
    "start_time": "2024-05-30T21:12:00.894Z"
   },
   {
    "duration": 23,
    "start_time": "2024-05-30T21:12:06.509Z"
   },
   {
    "duration": 22,
    "start_time": "2024-05-30T21:12:17.483Z"
   },
   {
    "duration": 7,
    "start_time": "2024-05-30T21:13:08.318Z"
   },
   {
    "duration": 17,
    "start_time": "2024-05-30T21:13:20.921Z"
   },
   {
    "duration": 7,
    "start_time": "2024-05-30T21:13:40.630Z"
   },
   {
    "duration": 7,
    "start_time": "2024-05-30T21:13:58.773Z"
   },
   {
    "duration": 1037,
    "start_time": "2024-05-30T21:14:18.255Z"
   },
   {
    "duration": 6,
    "start_time": "2024-05-30T21:14:23.882Z"
   },
   {
    "duration": 20,
    "start_time": "2024-05-30T21:14:29.745Z"
   },
   {
    "duration": 7,
    "start_time": "2024-05-30T21:14:33.991Z"
   },
   {
    "duration": 11,
    "start_time": "2024-05-30T21:14:38.130Z"
   },
   {
    "duration": 9,
    "start_time": "2024-05-30T21:14:49.220Z"
   },
   {
    "duration": 8,
    "start_time": "2024-05-30T21:15:08.440Z"
   },
   {
    "duration": 8,
    "start_time": "2024-05-30T21:15:14.897Z"
   },
   {
    "duration": 24,
    "start_time": "2024-05-30T21:15:38.688Z"
   },
   {
    "duration": 5,
    "start_time": "2024-05-30T21:15:43.198Z"
   },
   {
    "duration": 107,
    "start_time": "2024-05-30T21:16:13.553Z"
   },
   {
    "duration": 83,
    "start_time": "2024-05-30T21:16:17.421Z"
   },
   {
    "duration": 33,
    "start_time": "2024-05-30T21:16:20.990Z"
   },
   {
    "duration": 46,
    "start_time": "2024-05-30T21:16:29.485Z"
   },
   {
    "duration": 9,
    "start_time": "2024-05-30T21:17:01.445Z"
   },
   {
    "duration": 5,
    "start_time": "2024-05-30T21:17:09.804Z"
   },
   {
    "duration": 25,
    "start_time": "2024-05-30T21:17:55.470Z"
   },
   {
    "duration": 26,
    "start_time": "2024-05-30T21:18:38.082Z"
   },
   {
    "duration": 254,
    "start_time": "2024-05-30T21:18:47.626Z"
   },
   {
    "duration": 30,
    "start_time": "2024-05-30T21:18:59.163Z"
   },
   {
    "duration": 117,
    "start_time": "2024-05-30T21:19:04.092Z"
   },
   {
    "duration": 26,
    "start_time": "2024-05-30T21:19:10.765Z"
   },
   {
    "duration": 108,
    "start_time": "2024-05-30T21:19:22.662Z"
   },
   {
    "duration": 95,
    "start_time": "2024-05-30T21:19:31.808Z"
   },
   {
    "duration": 28,
    "start_time": "2024-05-30T21:19:39.365Z"
   },
   {
    "duration": 12,
    "start_time": "2024-05-30T21:22:44.824Z"
   },
   {
    "duration": 4,
    "start_time": "2024-05-30T21:23:06.132Z"
   },
   {
    "duration": 533,
    "start_time": "2024-05-30T21:23:12.558Z"
   },
   {
    "duration": 5,
    "start_time": "2024-05-30T21:23:13.097Z"
   },
   {
    "duration": 38,
    "start_time": "2024-05-30T21:23:13.105Z"
   },
   {
    "duration": 13,
    "start_time": "2024-05-30T21:23:13.151Z"
   },
   {
    "duration": 27,
    "start_time": "2024-05-30T21:25:39.136Z"
   },
   {
    "duration": 2107,
    "start_time": "2024-05-30T21:26:57.376Z"
   },
   {
    "duration": 11,
    "start_time": "2024-05-30T21:28:41.326Z"
   },
   {
    "duration": 1015,
    "start_time": "2024-05-30T21:29:40.695Z"
   },
   {
    "duration": 13,
    "start_time": "2024-05-30T21:29:45.953Z"
   },
   {
    "duration": 17,
    "start_time": "2024-05-30T21:30:04.654Z"
   },
   {
    "duration": 20,
    "start_time": "2024-05-30T21:30:17.766Z"
   },
   {
    "duration": 92,
    "start_time": "2024-05-30T21:31:02.988Z"
   },
   {
    "duration": 119,
    "start_time": "2024-05-30T21:32:19.348Z"
   },
   {
    "duration": 101,
    "start_time": "2024-05-30T21:32:24.930Z"
   },
   {
    "duration": 90,
    "start_time": "2024-05-30T21:32:30.298Z"
   },
   {
    "duration": 185,
    "start_time": "2024-05-30T21:32:57.069Z"
   },
   {
    "duration": 91,
    "start_time": "2024-05-30T21:33:03.775Z"
   },
   {
    "duration": 635,
    "start_time": "2024-05-30T21:33:11.838Z"
   },
   {
    "duration": 12,
    "start_time": "2024-05-30T21:33:12.483Z"
   },
   {
    "duration": 28,
    "start_time": "2024-05-30T21:33:12.499Z"
   },
   {
    "duration": 12,
    "start_time": "2024-05-30T21:33:12.532Z"
   },
   {
    "duration": 22,
    "start_time": "2024-05-30T21:33:12.549Z"
   },
   {
    "duration": 12,
    "start_time": "2024-05-30T21:33:12.579Z"
   },
   {
    "duration": 14,
    "start_time": "2024-05-30T21:34:07.221Z"
   },
   {
    "duration": 7,
    "start_time": "2024-05-30T21:34:30.893Z"
   },
   {
    "duration": 19,
    "start_time": "2024-05-30T21:34:55.004Z"
   },
   {
    "duration": 399,
    "start_time": "2024-05-30T21:35:01.392Z"
   },
   {
    "duration": 17,
    "start_time": "2024-05-30T21:35:05.699Z"
   },
   {
    "duration": 24,
    "start_time": "2024-05-30T21:40:59.039Z"
   },
   {
    "duration": 33,
    "start_time": "2024-05-30T21:41:11.086Z"
   },
   {
    "duration": 38,
    "start_time": "2024-05-30T21:42:07.745Z"
   },
   {
    "duration": 50,
    "start_time": "2024-05-30T21:42:14.205Z"
   },
   {
    "duration": 507,
    "start_time": "2024-05-30T21:43:48.976Z"
   },
   {
    "duration": 6,
    "start_time": "2024-05-30T21:43:49.487Z"
   },
   {
    "duration": 31,
    "start_time": "2024-05-30T21:43:49.497Z"
   },
   {
    "duration": 6,
    "start_time": "2024-05-30T21:43:49.531Z"
   },
   {
    "duration": 7,
    "start_time": "2024-05-30T21:43:49.540Z"
   },
   {
    "duration": 8,
    "start_time": "2024-05-30T21:43:49.549Z"
   },
   {
    "duration": 18,
    "start_time": "2024-05-30T21:43:49.559Z"
   },
   {
    "duration": 39,
    "start_time": "2024-05-30T21:43:49.580Z"
   },
   {
    "duration": 16,
    "start_time": "2024-05-30T21:43:49.622Z"
   },
   {
    "duration": 135,
    "start_time": "2024-05-30T21:44:37.997Z"
   },
   {
    "duration": 52,
    "start_time": "2024-05-30T21:44:40.541Z"
   },
   {
    "duration": 6,
    "start_time": "2024-05-30T21:45:55.889Z"
   },
   {
    "duration": 10,
    "start_time": "2024-05-30T21:46:28.219Z"
   },
   {
    "duration": 9,
    "start_time": "2024-05-30T21:46:32.094Z"
   },
   {
    "duration": 9,
    "start_time": "2024-05-30T21:46:45.802Z"
   },
   {
    "duration": 8,
    "start_time": "2024-05-30T21:48:14.460Z"
   },
   {
    "duration": 6,
    "start_time": "2024-05-30T21:48:57.685Z"
   },
   {
    "duration": 5,
    "start_time": "2024-05-30T21:49:09.791Z"
   },
   {
    "duration": 11,
    "start_time": "2024-05-30T21:49:20.510Z"
   },
   {
    "duration": 7,
    "start_time": "2024-05-30T21:49:23.684Z"
   },
   {
    "duration": 24,
    "start_time": "2024-05-30T21:50:03.044Z"
   },
   {
    "duration": 4689,
    "start_time": "2024-05-30T21:56:11.918Z"
   },
   {
    "duration": 503,
    "start_time": "2024-05-30T21:58:22.081Z"
   },
   {
    "duration": 6,
    "start_time": "2024-05-30T21:58:22.588Z"
   },
   {
    "duration": 29,
    "start_time": "2024-05-30T21:58:22.598Z"
   },
   {
    "duration": 9,
    "start_time": "2024-05-30T21:58:22.631Z"
   },
   {
    "duration": 9,
    "start_time": "2024-05-30T21:58:22.643Z"
   },
   {
    "duration": 7,
    "start_time": "2024-05-30T21:58:22.655Z"
   },
   {
    "duration": 53,
    "start_time": "2024-05-30T21:58:22.666Z"
   },
   {
    "duration": 17,
    "start_time": "2024-05-30T21:58:22.723Z"
   },
   {
    "duration": 47,
    "start_time": "2024-05-30T21:58:22.742Z"
   },
   {
    "duration": 11,
    "start_time": "2024-05-30T21:58:22.815Z"
   },
   {
    "duration": 23,
    "start_time": "2024-05-30T21:58:22.830Z"
   },
   {
    "duration": 846,
    "start_time": "2024-05-30T21:58:22.857Z"
   },
   {
    "duration": 437,
    "start_time": "2024-05-30T22:01:11.485Z"
   },
   {
    "duration": 173,
    "start_time": "2024-05-30T22:02:36.043Z"
   },
   {
    "duration": 454,
    "start_time": "2024-05-30T22:03:05.935Z"
   },
   {
    "duration": 455,
    "start_time": "2024-05-30T22:04:34.125Z"
   },
   {
    "duration": 426,
    "start_time": "2024-05-30T22:05:19.200Z"
   },
   {
    "duration": 3,
    "start_time": "2024-05-30T22:11:30.530Z"
   },
   {
    "duration": 565,
    "start_time": "2024-05-30T22:11:45.023Z"
   },
   {
    "duration": 6,
    "start_time": "2024-05-30T22:11:45.591Z"
   },
   {
    "duration": 29,
    "start_time": "2024-05-30T22:11:45.600Z"
   },
   {
    "duration": 35,
    "start_time": "2024-05-30T22:11:45.635Z"
   },
   {
    "duration": 38,
    "start_time": "2024-05-30T22:11:45.674Z"
   },
   {
    "duration": 7,
    "start_time": "2024-05-30T22:11:45.715Z"
   },
   {
    "duration": 7,
    "start_time": "2024-05-30T22:11:45.726Z"
   },
   {
    "duration": 14,
    "start_time": "2024-05-30T22:11:45.738Z"
   },
   {
    "duration": 56,
    "start_time": "2024-05-30T22:11:45.756Z"
   },
   {
    "duration": 40,
    "start_time": "2024-05-30T22:11:45.815Z"
   },
   {
    "duration": 9,
    "start_time": "2024-05-30T22:11:45.859Z"
   },
   {
    "duration": 51,
    "start_time": "2024-05-30T22:11:45.871Z"
   },
   {
    "duration": 815,
    "start_time": "2024-05-30T22:11:45.926Z"
   },
   {
    "duration": 468,
    "start_time": "2024-05-30T22:11:46.746Z"
   },
   {
    "duration": 1194,
    "start_time": "2024-05-30T22:13:38.167Z"
   },
   {
    "duration": 8,
    "start_time": "2024-05-30T22:13:48.554Z"
   },
   {
    "duration": 13,
    "start_time": "2024-05-30T22:16:31.089Z"
   },
   {
    "duration": 539,
    "start_time": "2024-05-30T22:16:37.616Z"
   },
   {
    "duration": 6,
    "start_time": "2024-05-30T22:16:38.159Z"
   },
   {
    "duration": 44,
    "start_time": "2024-05-30T22:16:38.168Z"
   },
   {
    "duration": 35,
    "start_time": "2024-05-30T22:16:38.215Z"
   },
   {
    "duration": 1185,
    "start_time": "2024-05-30T22:16:38.255Z"
   },
   {
    "duration": 0,
    "start_time": "2024-05-30T22:16:39.443Z"
   },
   {
    "duration": 0,
    "start_time": "2024-05-30T22:16:39.445Z"
   },
   {
    "duration": 0,
    "start_time": "2024-05-30T22:16:39.448Z"
   },
   {
    "duration": 0,
    "start_time": "2024-05-30T22:16:39.449Z"
   },
   {
    "duration": 0,
    "start_time": "2024-05-30T22:16:39.452Z"
   },
   {
    "duration": 0,
    "start_time": "2024-05-30T22:16:39.454Z"
   },
   {
    "duration": 0,
    "start_time": "2024-05-30T22:16:39.456Z"
   },
   {
    "duration": 0,
    "start_time": "2024-05-30T22:16:39.458Z"
   },
   {
    "duration": 0,
    "start_time": "2024-05-30T22:16:39.461Z"
   },
   {
    "duration": 0,
    "start_time": "2024-05-30T22:16:39.462Z"
   },
   {
    "duration": 82,
    "start_time": "2024-05-30T22:16:44.784Z"
   },
   {
    "duration": 9,
    "start_time": "2024-05-30T22:16:52.333Z"
   },
   {
    "duration": 513,
    "start_time": "2024-05-30T22:17:09.726Z"
   },
   {
    "duration": 6,
    "start_time": "2024-05-30T22:17:10.245Z"
   },
   {
    "duration": 21,
    "start_time": "2024-05-30T22:17:10.254Z"
   },
   {
    "duration": 68,
    "start_time": "2024-05-30T22:17:10.279Z"
   },
   {
    "duration": 7,
    "start_time": "2024-05-30T22:17:10.351Z"
   },
   {
    "duration": 7,
    "start_time": "2024-05-30T22:17:10.361Z"
   },
   {
    "duration": 41,
    "start_time": "2024-05-30T22:17:10.371Z"
   },
   {
    "duration": 14,
    "start_time": "2024-05-30T22:17:10.415Z"
   },
   {
    "duration": 15,
    "start_time": "2024-05-30T22:17:10.432Z"
   },
   {
    "duration": 71,
    "start_time": "2024-05-30T22:17:10.450Z"
   },
   {
    "duration": 11,
    "start_time": "2024-05-30T22:17:10.524Z"
   },
   {
    "duration": 23,
    "start_time": "2024-05-30T22:17:10.538Z"
   },
   {
    "duration": 799,
    "start_time": "2024-05-30T22:17:10.564Z"
   },
   {
    "duration": 462,
    "start_time": "2024-05-30T22:17:11.368Z"
   },
   {
    "duration": 7,
    "start_time": "2024-05-30T22:17:34.364Z"
   },
   {
    "duration": 7,
    "start_time": "2024-05-30T22:17:41.039Z"
   },
   {
    "duration": 17,
    "start_time": "2024-05-30T22:18:15.623Z"
   },
   {
    "duration": 8,
    "start_time": "2024-05-30T22:19:15.597Z"
   },
   {
    "duration": 20,
    "start_time": "2024-05-30T22:19:16.616Z"
   },
   {
    "duration": 442,
    "start_time": "2024-05-30T22:19:20.087Z"
   },
   {
    "duration": 435,
    "start_time": "2024-05-30T22:19:23.468Z"
   },
   {
    "duration": 379,
    "start_time": "2024-05-30T22:22:03.235Z"
   },
   {
    "duration": 7,
    "start_time": "2024-05-30T22:22:12.947Z"
   },
   {
    "duration": 535,
    "start_time": "2024-05-30T22:22:19.596Z"
   },
   {
    "duration": 5,
    "start_time": "2024-05-30T22:22:20.136Z"
   },
   {
    "duration": 20,
    "start_time": "2024-05-30T22:22:20.145Z"
   },
   {
    "duration": 70,
    "start_time": "2024-05-30T22:22:20.169Z"
   },
   {
    "duration": 7,
    "start_time": "2024-05-30T22:22:20.243Z"
   },
   {
    "duration": 7,
    "start_time": "2024-05-30T22:22:20.252Z"
   },
   {
    "duration": 7,
    "start_time": "2024-05-30T22:22:20.263Z"
   },
   {
    "duration": 46,
    "start_time": "2024-05-30T22:22:20.273Z"
   },
   {
    "duration": 14,
    "start_time": "2024-05-30T22:22:20.323Z"
   },
   {
    "duration": 15,
    "start_time": "2024-05-30T22:22:20.341Z"
   },
   {
    "duration": 53,
    "start_time": "2024-05-30T22:22:20.360Z"
   },
   {
    "duration": 9,
    "start_time": "2024-05-30T22:22:20.416Z"
   },
   {
    "duration": 21,
    "start_time": "2024-05-30T22:22:20.427Z"
   },
   {
    "duration": 792,
    "start_time": "2024-05-30T22:22:20.453Z"
   },
   {
    "duration": 474,
    "start_time": "2024-05-30T22:22:21.248Z"
   },
   {
    "duration": 521,
    "start_time": "2024-05-30T22:22:52.537Z"
   },
   {
    "duration": 5,
    "start_time": "2024-05-30T22:22:53.062Z"
   },
   {
    "duration": 19,
    "start_time": "2024-05-30T22:22:53.070Z"
   },
   {
    "duration": 56,
    "start_time": "2024-05-30T22:22:53.092Z"
   },
   {
    "duration": 7,
    "start_time": "2024-05-30T22:22:53.153Z"
   },
   {
    "duration": 49,
    "start_time": "2024-05-30T22:22:53.163Z"
   },
   {
    "duration": 9,
    "start_time": "2024-05-30T22:22:53.216Z"
   },
   {
    "duration": 8,
    "start_time": "2024-05-30T22:22:53.229Z"
   },
   {
    "duration": 14,
    "start_time": "2024-05-30T22:22:53.240Z"
   },
   {
    "duration": 61,
    "start_time": "2024-05-30T22:22:53.257Z"
   },
   {
    "duration": 20,
    "start_time": "2024-05-30T22:22:53.321Z"
   },
   {
    "duration": 9,
    "start_time": "2024-05-30T22:22:53.345Z"
   },
   {
    "duration": 62,
    "start_time": "2024-05-30T22:22:53.357Z"
   },
   {
    "duration": 759,
    "start_time": "2024-05-30T22:22:53.425Z"
   },
   {
    "duration": 446,
    "start_time": "2024-05-30T22:22:54.188Z"
   },
   {
    "duration": 10,
    "start_time": "2024-05-30T22:25:43.191Z"
   },
   {
    "duration": 504,
    "start_time": "2024-05-30T22:25:48.929Z"
   },
   {
    "duration": 6,
    "start_time": "2024-05-30T22:25:49.437Z"
   },
   {
    "duration": 21,
    "start_time": "2024-05-30T22:25:49.447Z"
   },
   {
    "duration": 67,
    "start_time": "2024-05-30T22:25:49.471Z"
   },
   {
    "duration": 6,
    "start_time": "2024-05-30T22:25:49.543Z"
   },
   {
    "duration": 9,
    "start_time": "2024-05-30T22:25:49.554Z"
   },
   {
    "duration": 7,
    "start_time": "2024-05-30T22:25:49.568Z"
   },
   {
    "duration": 40,
    "start_time": "2024-05-30T22:25:49.578Z"
   },
   {
    "duration": 13,
    "start_time": "2024-05-30T22:25:49.621Z"
   },
   {
    "duration": 15,
    "start_time": "2024-05-30T22:25:49.638Z"
   },
   {
    "duration": 67,
    "start_time": "2024-05-30T22:25:49.656Z"
   },
   {
    "duration": 10,
    "start_time": "2024-05-30T22:25:49.726Z"
   },
   {
    "duration": 20,
    "start_time": "2024-05-30T22:25:49.740Z"
   },
   {
    "duration": 785,
    "start_time": "2024-05-30T22:25:49.766Z"
   },
   {
    "duration": 464,
    "start_time": "2024-05-30T22:25:50.554Z"
   },
   {
    "duration": 356,
    "start_time": "2024-05-30T22:35:56.744Z"
   },
   {
    "duration": 31,
    "start_time": "2024-05-30T22:36:06.795Z"
   },
   {
    "duration": 25,
    "start_time": "2024-05-30T22:36:14.270Z"
   },
   {
    "duration": 11,
    "start_time": "2024-05-30T22:36:21.191Z"
   },
   {
    "duration": 6,
    "start_time": "2024-05-30T22:36:37.117Z"
   },
   {
    "duration": 32,
    "start_time": "2024-05-30T22:37:09.128Z"
   },
   {
    "duration": 6,
    "start_time": "2024-05-30T22:37:27.861Z"
   },
   {
    "duration": 13,
    "start_time": "2024-05-30T22:38:11.023Z"
   },
   {
    "duration": 518,
    "start_time": "2024-05-30T22:48:34.918Z"
   },
   {
    "duration": 6,
    "start_time": "2024-05-30T22:48:35.439Z"
   },
   {
    "duration": 19,
    "start_time": "2024-05-30T22:48:35.449Z"
   },
   {
    "duration": 64,
    "start_time": "2024-05-30T22:48:35.470Z"
   },
   {
    "duration": 7,
    "start_time": "2024-05-30T22:48:35.538Z"
   },
   {
    "duration": 9,
    "start_time": "2024-05-30T22:48:35.549Z"
   },
   {
    "duration": 52,
    "start_time": "2024-05-30T22:48:35.562Z"
   },
   {
    "duration": 6,
    "start_time": "2024-05-30T22:48:35.617Z"
   },
   {
    "duration": 14,
    "start_time": "2024-05-30T22:48:35.626Z"
   },
   {
    "duration": 372,
    "start_time": "2024-05-30T22:48:35.643Z"
   },
   {
    "duration": 0,
    "start_time": "2024-05-30T22:48:36.018Z"
   },
   {
    "duration": 0,
    "start_time": "2024-05-30T22:48:36.020Z"
   },
   {
    "duration": 0,
    "start_time": "2024-05-30T22:48:36.022Z"
   },
   {
    "duration": 0,
    "start_time": "2024-05-30T22:48:36.025Z"
   },
   {
    "duration": 1,
    "start_time": "2024-05-30T22:48:36.027Z"
   },
   {
    "duration": 34,
    "start_time": "2024-05-30T22:49:33.721Z"
   },
   {
    "duration": 616,
    "start_time": "2024-05-30T22:49:46.751Z"
   },
   {
    "duration": 531,
    "start_time": "2024-05-30T23:21:57.912Z"
   },
   {
    "duration": 6,
    "start_time": "2024-05-30T23:21:58.447Z"
   },
   {
    "duration": 19,
    "start_time": "2024-05-30T23:21:58.456Z"
   },
   {
    "duration": 61,
    "start_time": "2024-05-30T23:21:58.478Z"
   },
   {
    "duration": 8,
    "start_time": "2024-05-30T23:21:58.544Z"
   },
   {
    "duration": 9,
    "start_time": "2024-05-30T23:21:58.555Z"
   },
   {
    "duration": 52,
    "start_time": "2024-05-30T23:21:58.568Z"
   },
   {
    "duration": 6,
    "start_time": "2024-05-30T23:21:58.623Z"
   },
   {
    "duration": 14,
    "start_time": "2024-05-30T23:21:58.632Z"
   },
   {
    "duration": 650,
    "start_time": "2024-05-30T23:21:58.649Z"
   },
   {
    "duration": 22,
    "start_time": "2024-05-30T23:21:59.302Z"
   },
   {
    "duration": 10,
    "start_time": "2024-05-30T23:21:59.327Z"
   },
   {
    "duration": 24,
    "start_time": "2024-05-30T23:21:59.341Z"
   },
   {
    "duration": 806,
    "start_time": "2024-05-30T23:21:59.370Z"
   },
   {
    "duration": 471,
    "start_time": "2024-05-30T23:22:00.179Z"
   },
   {
    "duration": 12,
    "start_time": "2024-05-30T23:23:18.168Z"
   },
   {
    "duration": 6,
    "start_time": "2024-05-30T23:23:26.976Z"
   },
   {
    "duration": 485,
    "start_time": "2024-05-30T23:24:24.384Z"
   },
   {
    "duration": 6,
    "start_time": "2024-05-30T23:24:25.958Z"
   },
   {
    "duration": 20,
    "start_time": "2024-05-30T23:24:26.688Z"
   },
   {
    "duration": 40,
    "start_time": "2024-05-30T23:24:27.343Z"
   },
   {
    "duration": 6,
    "start_time": "2024-05-30T23:24:29.102Z"
   },
   {
    "duration": 8,
    "start_time": "2024-05-30T23:24:32.014Z"
   },
   {
    "duration": 16,
    "start_time": "2024-05-30T23:24:36.451Z"
   },
   {
    "duration": 12,
    "start_time": "2024-05-30T23:24:39.094Z"
   },
   {
    "duration": 6,
    "start_time": "2024-05-30T23:24:48.473Z"
   },
   {
    "duration": 17,
    "start_time": "2024-05-30T23:25:19.856Z"
   },
   {
    "duration": 21,
    "start_time": "2024-05-30T23:26:35.012Z"
   },
   {
    "duration": 17,
    "start_time": "2024-05-30T23:26:42.877Z"
   },
   {
    "duration": 21,
    "start_time": "2024-05-30T23:27:24.053Z"
   },
   {
    "duration": 17,
    "start_time": "2024-05-30T23:27:25.911Z"
   },
   {
    "duration": 16,
    "start_time": "2024-05-30T23:27:43.074Z"
   },
   {
    "duration": 19,
    "start_time": "2024-05-30T23:27:44.736Z"
   },
   {
    "duration": 17,
    "start_time": "2024-05-30T23:27:50.897Z"
   },
   {
    "duration": 18,
    "start_time": "2024-05-30T23:28:51.591Z"
   },
   {
    "duration": 614,
    "start_time": "2024-05-30T23:29:09.224Z"
   },
   {
    "duration": 16,
    "start_time": "2024-05-30T23:29:17.090Z"
   },
   {
    "duration": 8,
    "start_time": "2024-05-30T23:33:49.846Z"
   },
   {
    "duration": 533,
    "start_time": "2024-05-30T23:47:28.008Z"
   },
   {
    "duration": 65,
    "start_time": "2024-05-30T23:47:32.983Z"
   },
   {
    "duration": 6,
    "start_time": "2024-05-30T23:47:35.027Z"
   },
   {
    "duration": 21,
    "start_time": "2024-05-30T23:47:38.256Z"
   },
   {
    "duration": 35,
    "start_time": "2024-05-30T23:47:41.452Z"
   },
   {
    "duration": 34,
    "start_time": "2024-05-30T23:48:09.569Z"
   },
   {
    "duration": 7,
    "start_time": "2024-05-30T23:48:11.463Z"
   },
   {
    "duration": 8,
    "start_time": "2024-05-30T23:48:17.022Z"
   },
   {
    "duration": 16,
    "start_time": "2024-05-30T23:48:18.453Z"
   },
   {
    "duration": 8,
    "start_time": "2024-05-30T23:48:45.459Z"
   },
   {
    "duration": 7,
    "start_time": "2024-05-30T23:48:50.204Z"
   },
   {
    "duration": 15,
    "start_time": "2024-05-31T00:12:04.207Z"
   },
   {
    "duration": 531,
    "start_time": "2024-05-31T00:12:16.513Z"
   },
   {
    "duration": 5,
    "start_time": "2024-05-31T00:12:17.048Z"
   },
   {
    "duration": 20,
    "start_time": "2024-05-31T00:12:17.057Z"
   },
   {
    "duration": 60,
    "start_time": "2024-05-31T00:12:17.080Z"
   },
   {
    "duration": 7,
    "start_time": "2024-05-31T00:12:17.144Z"
   },
   {
    "duration": 11,
    "start_time": "2024-05-31T00:12:17.154Z"
   },
   {
    "duration": 48,
    "start_time": "2024-05-31T00:12:17.168Z"
   },
   {
    "duration": 17,
    "start_time": "2024-05-31T00:12:17.218Z"
   },
   {
    "duration": 23,
    "start_time": "2024-05-31T00:12:17.238Z"
   },
   {
    "duration": 639,
    "start_time": "2024-05-31T00:12:17.264Z"
   },
   {
    "duration": 18,
    "start_time": "2024-05-31T00:12:17.914Z"
   },
   {
    "duration": 9,
    "start_time": "2024-05-31T00:12:17.935Z"
   },
   {
    "duration": 21,
    "start_time": "2024-05-31T00:12:17.947Z"
   },
   {
    "duration": 753,
    "start_time": "2024-05-31T00:12:18.011Z"
   },
   {
    "duration": 447,
    "start_time": "2024-05-31T00:12:18.767Z"
   },
   {
    "duration": 6,
    "start_time": "2024-05-31T00:20:37.806Z"
   },
   {
    "duration": 358,
    "start_time": "2024-05-31T00:20:50.526Z"
   },
   {
    "duration": 363,
    "start_time": "2024-05-31T00:23:06.874Z"
   },
   {
    "duration": 16,
    "start_time": "2024-05-31T00:23:16.302Z"
   },
   {
    "duration": 6,
    "start_time": "2024-05-31T00:25:50.888Z"
   },
   {
    "duration": 6,
    "start_time": "2024-05-31T00:26:03.054Z"
   },
   {
    "duration": 10,
    "start_time": "2024-05-31T00:28:10.725Z"
   },
   {
    "duration": 9,
    "start_time": "2024-05-31T00:28:29.091Z"
   },
   {
    "duration": 9,
    "start_time": "2024-05-31T00:33:02.425Z"
   },
   {
    "duration": 10,
    "start_time": "2024-05-31T00:33:11.848Z"
   },
   {
    "duration": 14,
    "start_time": "2024-05-31T00:45:51.870Z"
   },
   {
    "duration": 12,
    "start_time": "2024-05-31T00:46:18.074Z"
   },
   {
    "duration": 18,
    "start_time": "2024-05-31T00:46:43.005Z"
   },
   {
    "duration": 4,
    "start_time": "2024-05-31T00:48:12.300Z"
   },
   {
    "duration": 10,
    "start_time": "2024-05-31T00:48:36.605Z"
   },
   {
    "duration": 364,
    "start_time": "2024-05-31T00:48:50.277Z"
   },
   {
    "duration": 12,
    "start_time": "2024-05-31T00:49:18.069Z"
   },
   {
    "duration": 8,
    "start_time": "2024-05-31T00:49:21.485Z"
   },
   {
    "duration": 541,
    "start_time": "2024-05-31T00:50:14.638Z"
   },
   {
    "duration": 1080,
    "start_time": "2024-05-31T01:06:47.905Z"
   },
   {
    "duration": 838,
    "start_time": "2024-05-31T01:07:02.524Z"
   },
   {
    "duration": 524,
    "start_time": "2024-05-31T01:07:09.349Z"
   },
   {
    "duration": 19,
    "start_time": "2024-05-31T01:09:12.642Z"
   },
   {
    "duration": 21,
    "start_time": "2024-05-31T01:09:19.562Z"
   },
   {
    "duration": 19,
    "start_time": "2024-05-31T01:09:42.558Z"
   },
   {
    "duration": 26,
    "start_time": "2024-05-31T01:09:58.171Z"
   },
   {
    "duration": 25,
    "start_time": "2024-05-31T01:10:09.997Z"
   },
   {
    "duration": 468,
    "start_time": "2024-05-31T01:10:28.312Z"
   },
   {
    "duration": 26,
    "start_time": "2024-05-31T01:10:29.046Z"
   },
   {
    "duration": 26,
    "start_time": "2024-05-31T01:13:01.891Z"
   },
   {
    "duration": 26,
    "start_time": "2024-05-31T01:13:12.030Z"
   },
   {
    "duration": 514,
    "start_time": "2024-05-31T01:20:20.468Z"
   },
   {
    "duration": 730,
    "start_time": "2024-05-31T01:21:38.706Z"
   },
   {
    "duration": 7,
    "start_time": "2024-05-31T01:22:03.845Z"
   },
   {
    "duration": 7,
    "start_time": "2024-05-31T01:22:20.081Z"
   },
   {
    "duration": 7,
    "start_time": "2024-05-31T01:22:26.205Z"
   },
   {
    "duration": 21,
    "start_time": "2024-05-31T01:34:39.261Z"
   },
   {
    "duration": 23,
    "start_time": "2024-05-31T01:36:06.015Z"
   },
   {
    "duration": 23,
    "start_time": "2024-05-31T01:36:27.367Z"
   },
   {
    "duration": 49,
    "start_time": "2024-05-31T01:36:43.485Z"
   },
   {
    "duration": 23,
    "start_time": "2024-05-31T01:37:18.426Z"
   },
   {
    "duration": 20,
    "start_time": "2024-05-31T01:37:26.400Z"
   },
   {
    "duration": 37,
    "start_time": "2024-05-31T01:37:42.572Z"
   },
   {
    "duration": 434,
    "start_time": "2024-05-31T01:40:19.009Z"
   },
   {
    "duration": 13,
    "start_time": "2024-05-31T01:40:32.702Z"
   },
   {
    "duration": 36,
    "start_time": "2024-05-31T01:41:08.312Z"
   },
   {
    "duration": 35,
    "start_time": "2024-05-31T01:41:24.065Z"
   },
   {
    "duration": 29,
    "start_time": "2024-05-31T01:41:30.929Z"
   },
   {
    "duration": 29,
    "start_time": "2024-05-31T01:41:47.399Z"
   },
   {
    "duration": 35,
    "start_time": "2024-05-31T01:41:52.991Z"
   },
   {
    "duration": 29,
    "start_time": "2024-05-31T01:41:56.894Z"
   },
   {
    "duration": 36,
    "start_time": "2024-05-31T01:42:05.294Z"
   },
   {
    "duration": 516,
    "start_time": "2024-05-31T01:43:57.192Z"
   },
   {
    "duration": 5,
    "start_time": "2024-05-31T01:43:57.712Z"
   },
   {
    "duration": 22,
    "start_time": "2024-05-31T01:43:57.721Z"
   },
   {
    "duration": 70,
    "start_time": "2024-05-31T01:43:57.747Z"
   },
   {
    "duration": 10,
    "start_time": "2024-05-31T01:43:57.820Z"
   },
   {
    "duration": 9,
    "start_time": "2024-05-31T01:43:57.833Z"
   },
   {
    "duration": 15,
    "start_time": "2024-05-31T01:43:57.845Z"
   },
   {
    "duration": 59,
    "start_time": "2024-05-31T01:43:57.863Z"
   },
   {
    "duration": 18,
    "start_time": "2024-05-31T01:43:57.925Z"
   },
   {
    "duration": 629,
    "start_time": "2024-05-31T01:43:57.948Z"
   },
   {
    "duration": 32,
    "start_time": "2024-05-31T01:43:58.580Z"
   },
   {
    "duration": 10,
    "start_time": "2024-05-31T01:43:58.614Z"
   },
   {
    "duration": 20,
    "start_time": "2024-05-31T01:43:58.626Z"
   },
   {
    "duration": 775,
    "start_time": "2024-05-31T01:43:58.649Z"
   },
   {
    "duration": 417,
    "start_time": "2024-05-31T01:43:59.428Z"
   },
   {
    "duration": 357,
    "start_time": "2024-05-31T01:43:59.848Z"
   },
   {
    "duration": 0,
    "start_time": "2024-05-31T01:44:00.208Z"
   },
   {
    "duration": 0,
    "start_time": "2024-05-31T01:44:00.211Z"
   },
   {
    "duration": 0,
    "start_time": "2024-05-31T01:44:00.213Z"
   },
   {
    "duration": 0,
    "start_time": "2024-05-31T01:44:00.215Z"
   },
   {
    "duration": 0,
    "start_time": "2024-05-31T01:44:00.218Z"
   },
   {
    "duration": 0,
    "start_time": "2024-05-31T01:44:00.220Z"
   },
   {
    "duration": 0,
    "start_time": "2024-05-31T01:44:00.224Z"
   },
   {
    "duration": 0,
    "start_time": "2024-05-31T01:44:00.226Z"
   },
   {
    "duration": 0,
    "start_time": "2024-05-31T01:44:00.229Z"
   },
   {
    "duration": 0,
    "start_time": "2024-05-31T01:44:00.231Z"
   },
   {
    "duration": 0,
    "start_time": "2024-05-31T01:44:00.233Z"
   },
   {
    "duration": 17,
    "start_time": "2024-05-31T01:46:52.702Z"
   },
   {
    "duration": 9,
    "start_time": "2024-05-31T01:46:58.298Z"
   },
   {
    "duration": 10,
    "start_time": "2024-05-31T01:46:59.135Z"
   },
   {
    "duration": 13,
    "start_time": "2024-05-31T01:47:02.435Z"
   },
   {
    "duration": 9,
    "start_time": "2024-05-31T01:47:03.695Z"
   },
   {
    "duration": 527,
    "start_time": "2024-05-31T01:47:04.335Z"
   },
   {
    "duration": 1058,
    "start_time": "2024-05-31T01:47:06.401Z"
   },
   {
    "duration": 26,
    "start_time": "2024-05-31T01:47:08.575Z"
   },
   {
    "duration": 744,
    "start_time": "2024-05-31T01:47:15.408Z"
   },
   {
    "duration": 7,
    "start_time": "2024-05-31T01:47:17.263Z"
   },
   {
    "duration": 38,
    "start_time": "2024-05-31T01:47:58.239Z"
   },
   {
    "duration": 53832,
    "start_time": "2024-05-31T01:48:00.526Z"
   },
   {
    "duration": 11,
    "start_time": "2024-05-31T01:50:16.611Z"
   },
   {
    "duration": 25,
    "start_time": "2024-05-31T01:50:40.026Z"
   },
   {
    "duration": 55957,
    "start_time": "2024-05-31T01:50:53.312Z"
   },
   {
    "duration": 17916,
    "start_time": "2024-05-31T01:52:57.279Z"
   },
   {
    "duration": 41940,
    "start_time": "2024-05-31T01:54:32.143Z"
   },
   {
    "duration": 842,
    "start_time": "2024-05-31T01:55:14.088Z"
   },
   {
    "duration": 562,
    "start_time": "2024-05-31T01:56:08.824Z"
   },
   {
    "duration": 17,
    "start_time": "2024-05-31T01:59:49.593Z"
   },
   {
    "duration": 32,
    "start_time": "2024-05-31T02:00:15.767Z"
   },
   {
    "duration": 47,
    "start_time": "2024-05-31T02:00:56.999Z"
   },
   {
    "duration": 28,
    "start_time": "2024-05-31T02:02:36.889Z"
   },
   {
    "duration": 14,
    "start_time": "2024-05-31T02:02:40.402Z"
   },
   {
    "duration": 31,
    "start_time": "2024-05-31T02:05:31.237Z"
   },
   {
    "duration": 24,
    "start_time": "2024-05-31T02:05:35.469Z"
   },
   {
    "duration": 16,
    "start_time": "2024-05-31T02:05:41.109Z"
   },
   {
    "duration": 471,
    "start_time": "2024-05-31T02:07:30.876Z"
   },
   {
    "duration": 5,
    "start_time": "2024-05-31T02:07:50.949Z"
   },
   {
    "duration": 13,
    "start_time": "2024-05-31T02:08:09.663Z"
   },
   {
    "duration": 13,
    "start_time": "2024-05-31T02:08:40.703Z"
   },
   {
    "duration": 124,
    "start_time": "2024-05-31T02:09:41.503Z"
   },
   {
    "duration": 85,
    "start_time": "2024-05-31T02:10:03.441Z"
   },
   {
    "duration": 9,
    "start_time": "2024-05-31T02:11:11.631Z"
   },
   {
    "duration": 9,
    "start_time": "2024-05-31T02:11:38.876Z"
   },
   {
    "duration": 8,
    "start_time": "2024-05-31T02:11:49.600Z"
   },
   {
    "duration": 8,
    "start_time": "2024-05-31T02:11:50.325Z"
   },
   {
    "duration": 39736,
    "start_time": "2024-05-31T02:11:52.515Z"
   },
   {
    "duration": 11,
    "start_time": "2024-05-31T02:12:40.537Z"
   },
   {
    "duration": 20,
    "start_time": "2024-05-31T02:12:52.135Z"
   },
   {
    "duration": 12,
    "start_time": "2024-05-31T02:12:58.110Z"
   },
   {
    "duration": 20,
    "start_time": "2024-05-31T02:13:01.361Z"
   },
   {
    "duration": 19,
    "start_time": "2024-05-31T02:13:09.511Z"
   },
   {
    "duration": 544,
    "start_time": "2024-05-31T02:13:31.615Z"
   },
   {
    "duration": 5,
    "start_time": "2024-05-31T02:13:32.165Z"
   },
   {
    "duration": 41,
    "start_time": "2024-05-31T02:13:32.173Z"
   },
   {
    "duration": 36,
    "start_time": "2024-05-31T02:13:32.217Z"
   },
   {
    "duration": 6,
    "start_time": "2024-05-31T02:13:32.257Z"
   },
   {
    "duration": 9,
    "start_time": "2024-05-31T02:13:32.267Z"
   },
   {
    "duration": 15,
    "start_time": "2024-05-31T02:13:32.313Z"
   },
   {
    "duration": 18,
    "start_time": "2024-05-31T02:13:32.331Z"
   },
   {
    "duration": 19,
    "start_time": "2024-05-31T02:13:32.352Z"
   },
   {
    "duration": 666,
    "start_time": "2024-05-31T02:13:32.373Z"
   },
   {
    "duration": 23,
    "start_time": "2024-05-31T02:13:33.044Z"
   },
   {
    "duration": 13,
    "start_time": "2024-05-31T02:13:33.070Z"
   },
   {
    "duration": 44,
    "start_time": "2024-05-31T02:13:33.085Z"
   },
   {
    "duration": 776,
    "start_time": "2024-05-31T02:13:33.135Z"
   },
   {
    "duration": 415,
    "start_time": "2024-05-31T02:13:33.918Z"
   },
   {
    "duration": 15,
    "start_time": "2024-05-31T02:13:34.336Z"
   },
   {
    "duration": 12,
    "start_time": "2024-05-31T02:13:34.353Z"
   },
   {
    "duration": 10,
    "start_time": "2024-05-31T02:13:34.369Z"
   },
   {
    "duration": 33,
    "start_time": "2024-05-31T02:13:34.382Z"
   },
   {
    "duration": 9,
    "start_time": "2024-05-31T02:13:34.418Z"
   },
   {
    "duration": 549,
    "start_time": "2024-05-31T02:13:34.430Z"
   },
   {
    "duration": 1095,
    "start_time": "2024-05-31T02:13:34.982Z"
   },
   {
    "duration": 33,
    "start_time": "2024-05-31T02:13:36.081Z"
   },
   {
    "duration": 751,
    "start_time": "2024-05-31T02:13:36.116Z"
   },
   {
    "duration": 6,
    "start_time": "2024-05-31T02:13:36.871Z"
   },
   {
    "duration": 35,
    "start_time": "2024-05-31T02:13:36.881Z"
   },
   {
    "duration": 7,
    "start_time": "2024-05-31T02:13:36.918Z"
   },
   {
    "duration": 435,
    "start_time": "2024-05-31T02:13:36.928Z"
   },
   {
    "duration": 0,
    "start_time": "2024-05-31T02:13:37.366Z"
   },
   {
    "duration": 674,
    "start_time": "2024-05-31T02:14:52.360Z"
   },
   {
    "duration": 441,
    "start_time": "2024-05-31T02:15:05.566Z"
   },
   {
    "duration": 29,
    "start_time": "2024-05-31T02:15:18.353Z"
   },
   {
    "duration": 18,
    "start_time": "2024-05-31T02:15:44.730Z"
   },
   {
    "duration": 16,
    "start_time": "2024-05-31T02:16:56.480Z"
   },
   {
    "duration": 16,
    "start_time": "2024-05-31T02:17:16.256Z"
   },
   {
    "duration": 16,
    "start_time": "2024-05-31T02:17:25.793Z"
   },
   {
    "duration": 28,
    "start_time": "2024-05-31T02:17:58.121Z"
   },
   {
    "duration": 24,
    "start_time": "2024-05-31T02:18:28.414Z"
   },
   {
    "duration": 12,
    "start_time": "2024-05-31T02:18:41.522Z"
   },
   {
    "duration": 11,
    "start_time": "2024-05-31T02:18:54.167Z"
   },
   {
    "duration": 575,
    "start_time": "2024-05-31T02:21:24.828Z"
   },
   {
    "duration": 9,
    "start_time": "2024-05-31T02:29:56.267Z"
   },
   {
    "duration": 323,
    "start_time": "2024-05-31T02:30:40.549Z"
   },
   {
    "duration": 19,
    "start_time": "2024-05-31T02:45:59.463Z"
   },
   {
    "duration": 17,
    "start_time": "2024-05-31T02:46:15.463Z"
   },
   {
    "duration": 415,
    "start_time": "2024-05-31T02:48:50.353Z"
   },
   {
    "duration": 14,
    "start_time": "2024-05-31T02:49:31.968Z"
   },
   {
    "duration": 718,
    "start_time": "2024-05-31T02:50:10.087Z"
   },
   {
    "duration": 18,
    "start_time": "2024-05-31T03:01:04.501Z"
   },
   {
    "duration": 18,
    "start_time": "2024-05-31T03:01:15.207Z"
   },
   {
    "duration": 689,
    "start_time": "2024-05-31T03:02:45.123Z"
   },
   {
    "duration": 15,
    "start_time": "2024-05-31T03:04:43.792Z"
   },
   {
    "duration": 707,
    "start_time": "2024-05-31T03:04:45.682Z"
   },
   {
    "duration": 704,
    "start_time": "2024-05-31T03:33:54.995Z"
   },
   {
    "duration": 662,
    "start_time": "2024-05-31T03:34:56.324Z"
   },
   {
    "duration": 14,
    "start_time": "2024-05-31T03:47:52.577Z"
   },
   {
    "duration": 13,
    "start_time": "2024-05-31T03:48:02.284Z"
   },
   {
    "duration": 710,
    "start_time": "2024-05-31T03:49:34.018Z"
   },
   {
    "duration": 842,
    "start_time": "2024-05-31T03:50:59.736Z"
   },
   {
    "duration": 700,
    "start_time": "2024-05-31T03:52:33.995Z"
   },
   {
    "duration": 697,
    "start_time": "2024-05-31T03:54:57.021Z"
   },
   {
    "duration": 638,
    "start_time": "2024-05-31T03:56:07.540Z"
   },
   {
    "duration": 18,
    "start_time": "2024-05-31T04:11:13.000Z"
   },
   {
    "duration": 6,
    "start_time": "2024-05-31T04:12:32.979Z"
   },
   {
    "duration": 13,
    "start_time": "2024-05-31T04:13:37.975Z"
   },
   {
    "duration": 6,
    "start_time": "2024-05-31T04:13:42.608Z"
   },
   {
    "duration": 12,
    "start_time": "2024-05-31T04:16:09.020Z"
   },
   {
    "duration": 8,
    "start_time": "2024-05-31T04:16:48.567Z"
   },
   {
    "duration": 14,
    "start_time": "2024-05-31T04:18:56.370Z"
   },
   {
    "duration": 8,
    "start_time": "2024-05-31T04:19:13.519Z"
   },
   {
    "duration": 13,
    "start_time": "2024-05-31T04:19:20.143Z"
   },
   {
    "duration": 18,
    "start_time": "2024-05-31T04:20:02.807Z"
   },
   {
    "duration": 13,
    "start_time": "2024-05-31T04:20:13.843Z"
   },
   {
    "duration": 13,
    "start_time": "2024-05-31T04:31:46.834Z"
   },
   {
    "duration": 12,
    "start_time": "2024-05-31T04:34:16.113Z"
   },
   {
    "duration": 6,
    "start_time": "2024-05-31T04:34:26.386Z"
   },
   {
    "duration": 12,
    "start_time": "2024-05-31T04:42:05.439Z"
   },
   {
    "duration": 13,
    "start_time": "2024-05-31T04:42:32.710Z"
   },
   {
    "duration": 4,
    "start_time": "2024-05-31T04:52:47.831Z"
   },
   {
    "duration": 6,
    "start_time": "2024-05-31T04:53:42.119Z"
   },
   {
    "duration": 6,
    "start_time": "2024-05-31T04:53:54.464Z"
   },
   {
    "duration": 12,
    "start_time": "2024-05-31T04:54:23.561Z"
   },
   {
    "duration": 526,
    "start_time": "2024-05-31T04:57:03.825Z"
   },
   {
    "duration": 7,
    "start_time": "2024-05-31T04:57:04.354Z"
   },
   {
    "duration": 20,
    "start_time": "2024-05-31T04:57:04.365Z"
   },
   {
    "duration": 35,
    "start_time": "2024-05-31T04:57:04.412Z"
   },
   {
    "duration": 6,
    "start_time": "2024-05-31T04:57:04.452Z"
   },
   {
    "duration": 9,
    "start_time": "2024-05-31T04:57:04.461Z"
   },
   {
    "duration": 52,
    "start_time": "2024-05-31T04:57:04.474Z"
   },
   {
    "duration": 17,
    "start_time": "2024-05-31T04:57:04.529Z"
   },
   {
    "duration": 21,
    "start_time": "2024-05-31T04:57:04.549Z"
   },
   {
    "duration": 674,
    "start_time": "2024-05-31T04:57:04.572Z"
   },
   {
    "duration": 18,
    "start_time": "2024-05-31T04:57:05.249Z"
   },
   {
    "duration": 10,
    "start_time": "2024-05-31T04:57:05.270Z"
   },
   {
    "duration": 47,
    "start_time": "2024-05-31T04:57:05.283Z"
   },
   {
    "duration": 757,
    "start_time": "2024-05-31T04:57:05.336Z"
   },
   {
    "duration": 404,
    "start_time": "2024-05-31T04:57:06.097Z"
   },
   {
    "duration": 14,
    "start_time": "2024-05-31T04:57:06.504Z"
   },
   {
    "duration": 10,
    "start_time": "2024-05-31T04:57:06.521Z"
   },
   {
    "duration": 10,
    "start_time": "2024-05-31T04:57:06.534Z"
   },
   {
    "duration": 13,
    "start_time": "2024-05-31T04:57:06.547Z"
   },
   {
    "duration": 54,
    "start_time": "2024-05-31T04:57:06.563Z"
   },
   {
    "duration": 588,
    "start_time": "2024-05-31T04:57:06.620Z"
   },
   {
    "duration": 1037,
    "start_time": "2024-05-31T04:57:07.211Z"
   },
   {
    "duration": 25,
    "start_time": "2024-05-31T04:57:08.252Z"
   },
   {
    "duration": 765,
    "start_time": "2024-05-31T04:57:08.280Z"
   },
   {
    "duration": 8,
    "start_time": "2024-05-31T04:57:09.047Z"
   },
   {
    "duration": 11,
    "start_time": "2024-05-31T04:57:09.058Z"
   },
   {
    "duration": 45,
    "start_time": "2024-05-31T04:57:09.072Z"
   },
   {
    "duration": 11,
    "start_time": "2024-05-31T04:57:09.120Z"
   },
   {
    "duration": 516,
    "start_time": "2024-05-31T04:57:09.134Z"
   },
   {
    "duration": 10,
    "start_time": "2024-05-31T04:57:09.654Z"
   },
   {
    "duration": 350,
    "start_time": "2024-05-31T04:57:09.667Z"
   },
   {
    "duration": 15,
    "start_time": "2024-05-31T04:57:10.021Z"
   },
   {
    "duration": 755,
    "start_time": "2024-05-31T04:57:10.040Z"
   },
   {
    "duration": 23,
    "start_time": "2024-05-31T04:57:10.798Z"
   },
   {
    "duration": 771,
    "start_time": "2024-05-31T04:57:10.824Z"
   },
   {
    "duration": 20,
    "start_time": "2024-05-31T04:57:11.598Z"
   },
   {
    "duration": 735,
    "start_time": "2024-05-31T04:57:11.621Z"
   },
   {
    "duration": 13,
    "start_time": "2024-05-31T04:57:12.359Z"
   },
   {
    "duration": 7,
    "start_time": "2024-05-31T04:57:12.375Z"
   },
   {
    "duration": 14,
    "start_time": "2024-05-31T04:57:12.414Z"
   },
   {
    "duration": 6,
    "start_time": "2024-05-31T04:57:12.437Z"
   },
   {
    "duration": 475,
    "start_time": "2024-05-31T04:59:32.168Z"
   },
   {
    "duration": 5,
    "start_time": "2024-05-31T04:59:32.647Z"
   },
   {
    "duration": 19,
    "start_time": "2024-05-31T04:59:32.655Z"
   },
   {
    "duration": 60,
    "start_time": "2024-05-31T04:59:32.678Z"
   },
   {
    "duration": 8,
    "start_time": "2024-05-31T04:59:32.741Z"
   },
   {
    "duration": 9,
    "start_time": "2024-05-31T04:59:32.753Z"
   },
   {
    "duration": 47,
    "start_time": "2024-05-31T04:59:32.765Z"
   },
   {
    "duration": 18,
    "start_time": "2024-05-31T04:59:32.816Z"
   },
   {
    "duration": 18,
    "start_time": "2024-05-31T04:59:32.837Z"
   },
   {
    "duration": 686,
    "start_time": "2024-05-31T04:59:32.861Z"
   },
   {
    "duration": 19,
    "start_time": "2024-05-31T04:59:33.550Z"
   },
   {
    "duration": 9,
    "start_time": "2024-05-31T04:59:33.572Z"
   },
   {
    "duration": 23,
    "start_time": "2024-05-31T04:59:33.613Z"
   },
   {
    "duration": 771,
    "start_time": "2024-05-31T04:59:33.638Z"
   },
   {
    "duration": 399,
    "start_time": "2024-05-31T04:59:34.414Z"
   },
   {
    "duration": 15,
    "start_time": "2024-05-31T04:59:34.816Z"
   },
   {
    "duration": 9,
    "start_time": "2024-05-31T04:59:34.834Z"
   },
   {
    "duration": 10,
    "start_time": "2024-05-31T04:59:34.847Z"
   },
   {
    "duration": 58,
    "start_time": "2024-05-31T04:59:34.860Z"
   },
   {
    "duration": 8,
    "start_time": "2024-05-31T04:59:34.922Z"
   },
   {
    "duration": 526,
    "start_time": "2024-05-31T04:59:34.934Z"
   },
   {
    "duration": 1086,
    "start_time": "2024-05-31T04:59:35.464Z"
   },
   {
    "duration": 25,
    "start_time": "2024-05-31T04:59:36.553Z"
   },
   {
    "duration": 759,
    "start_time": "2024-05-31T04:59:36.581Z"
   },
   {
    "duration": 8,
    "start_time": "2024-05-31T04:59:37.343Z"
   },
   {
    "duration": 14,
    "start_time": "2024-05-31T04:59:37.355Z"
   },
   {
    "duration": 49,
    "start_time": "2024-05-31T04:59:37.372Z"
   },
   {
    "duration": 10,
    "start_time": "2024-05-31T04:59:37.429Z"
   },
   {
    "duration": 528,
    "start_time": "2024-05-31T04:59:37.442Z"
   },
   {
    "duration": 10,
    "start_time": "2024-05-31T04:59:37.973Z"
   },
   {
    "duration": 354,
    "start_time": "2024-05-31T04:59:37.986Z"
   },
   {
    "duration": 18,
    "start_time": "2024-05-31T04:59:38.344Z"
   },
   {
    "duration": 742,
    "start_time": "2024-05-31T04:59:38.365Z"
   },
   {
    "duration": 16,
    "start_time": "2024-05-31T04:59:39.109Z"
   },
   {
    "duration": 718,
    "start_time": "2024-05-31T04:59:39.128Z"
   },
   {
    "duration": 14,
    "start_time": "2024-05-31T04:59:39.849Z"
   },
   {
    "duration": 809,
    "start_time": "2024-05-31T04:59:39.866Z"
   },
   {
    "duration": 12,
    "start_time": "2024-05-31T04:59:40.678Z"
   },
   {
    "duration": 26,
    "start_time": "2024-05-31T04:59:40.693Z"
   },
   {
    "duration": 20,
    "start_time": "2024-05-31T04:59:40.723Z"
   },
   {
    "duration": 7,
    "start_time": "2024-05-31T04:59:40.746Z"
   },
   {
    "duration": 5065,
    "start_time": "2024-05-31T23:01:51.023Z"
   },
   {
    "duration": 11,
    "start_time": "2024-05-31T23:05:34.942Z"
   },
   {
    "duration": 4,
    "start_time": "2024-05-31T23:06:29.559Z"
   },
   {
    "duration": 1363,
    "start_time": "2024-05-31T23:06:42.387Z"
   },
   {
    "duration": 69,
    "start_time": "2024-05-31T23:06:44.827Z"
   },
   {
    "duration": 6,
    "start_time": "2024-05-31T23:06:51.289Z"
   },
   {
    "duration": 21,
    "start_time": "2024-05-31T23:06:53.462Z"
   },
   {
    "duration": 35,
    "start_time": "2024-05-31T23:06:56.125Z"
   },
   {
    "duration": 6,
    "start_time": "2024-05-31T23:07:04.334Z"
   },
   {
    "duration": 9,
    "start_time": "2024-05-31T23:07:05.287Z"
   },
   {
    "duration": 15,
    "start_time": "2024-05-31T23:07:07.287Z"
   },
   {
    "duration": 17,
    "start_time": "2024-05-31T23:07:11.114Z"
   },
   {
    "duration": 22,
    "start_time": "2024-05-31T23:07:17.116Z"
   },
   {
    "duration": 667,
    "start_time": "2024-05-31T23:07:24.588Z"
   },
   {
    "duration": 19,
    "start_time": "2024-05-31T23:07:41.240Z"
   },
   {
    "duration": 12,
    "start_time": "2024-05-31T23:08:06.815Z"
   },
   {
    "duration": 19,
    "start_time": "2024-05-31T23:08:23.848Z"
   },
   {
    "duration": 466,
    "start_time": "2024-05-31T23:08:38.684Z"
   },
   {
    "duration": 481,
    "start_time": "2024-05-31T23:08:39.526Z"
   },
   {
    "duration": 16,
    "start_time": "2024-05-31T23:08:41.749Z"
   },
   {
    "duration": 10,
    "start_time": "2024-05-31T23:08:43.277Z"
   },
   {
    "duration": 12,
    "start_time": "2024-05-31T23:08:44.086Z"
   },
   {
    "duration": 13,
    "start_time": "2024-05-31T23:08:51.506Z"
   },
   {
    "duration": 9,
    "start_time": "2024-05-31T23:08:52.854Z"
   },
   {
    "duration": 530,
    "start_time": "2024-05-31T23:08:53.618Z"
   },
   {
    "duration": 459,
    "start_time": "2024-05-31T23:09:40.615Z"
   },
   {
    "duration": 25,
    "start_time": "2024-05-31T23:10:06.777Z"
   },
   {
    "duration": 12,
    "start_time": "2024-05-31T23:11:20.975Z"
   },
   {
    "duration": 6,
    "start_time": "2024-05-31T23:11:23.978Z"
   },
   {
    "duration": 15,
    "start_time": "2024-05-31T23:11:38.715Z"
   },
   {
    "duration": 6,
    "start_time": "2024-05-31T23:11:40.636Z"
   },
   {
    "duration": 1353,
    "start_time": "2024-05-31T23:15:24.995Z"
   },
   {
    "duration": 76,
    "start_time": "2024-05-31T23:15:26.354Z"
   },
   {
    "duration": 5,
    "start_time": "2024-05-31T23:15:26.435Z"
   },
   {
    "duration": 22,
    "start_time": "2024-05-31T23:15:26.445Z"
   },
   {
    "duration": 39,
    "start_time": "2024-05-31T23:15:26.491Z"
   },
   {
    "duration": 8,
    "start_time": "2024-05-31T23:15:26.533Z"
   },
   {
    "duration": 10,
    "start_time": "2024-05-31T23:15:26.545Z"
   },
   {
    "duration": 17,
    "start_time": "2024-05-31T23:15:26.591Z"
   },
   {
    "duration": 22,
    "start_time": "2024-05-31T23:15:26.611Z"
   },
   {
    "duration": 54,
    "start_time": "2024-05-31T23:15:26.639Z"
   },
   {
    "duration": 682,
    "start_time": "2024-05-31T23:15:26.696Z"
   },
   {
    "duration": 27,
    "start_time": "2024-05-31T23:15:27.381Z"
   },
   {
    "duration": 14,
    "start_time": "2024-05-31T23:15:27.411Z"
   },
   {
    "duration": 25,
    "start_time": "2024-05-31T23:15:27.428Z"
   },
   {
    "duration": 535,
    "start_time": "2024-05-31T23:15:27.456Z"
   },
   {
    "duration": 464,
    "start_time": "2024-05-31T23:15:27.995Z"
   },
   {
    "duration": 18,
    "start_time": "2024-05-31T23:15:28.462Z"
   },
   {
    "duration": 11,
    "start_time": "2024-05-31T23:15:28.483Z"
   },
   {
    "duration": 13,
    "start_time": "2024-05-31T23:15:28.497Z"
   },
   {
    "duration": 18,
    "start_time": "2024-05-31T23:15:28.514Z"
   },
   {
    "duration": 9,
    "start_time": "2024-05-31T23:15:28.536Z"
   },
   {
    "duration": 555,
    "start_time": "2024-05-31T23:15:28.593Z"
   },
   {
    "duration": 468,
    "start_time": "2024-05-31T23:15:29.151Z"
   },
   {
    "duration": 32,
    "start_time": "2024-05-31T23:15:29.625Z"
   },
   {
    "duration": 837,
    "start_time": "2024-05-31T23:15:29.661Z"
   },
   {
    "duration": 7,
    "start_time": "2024-05-31T23:15:30.502Z"
   },
   {
    "duration": 13,
    "start_time": "2024-05-31T23:15:30.513Z"
   },
   {
    "duration": 56,
    "start_time": "2024-05-31T23:15:30.535Z"
   },
   {
    "duration": 12,
    "start_time": "2024-05-31T23:15:30.594Z"
   },
   {
    "duration": 599,
    "start_time": "2024-05-31T23:15:30.609Z"
   },
   {
    "duration": 8,
    "start_time": "2024-05-31T23:15:31.212Z"
   },
   {
    "duration": 362,
    "start_time": "2024-05-31T23:15:31.225Z"
   },
   {
    "duration": 15,
    "start_time": "2024-05-31T23:15:31.591Z"
   },
   {
    "duration": 860,
    "start_time": "2024-05-31T23:15:31.609Z"
   },
   {
    "duration": 35,
    "start_time": "2024-05-31T23:15:32.472Z"
   },
   {
    "duration": 784,
    "start_time": "2024-05-31T23:15:32.511Z"
   },
   {
    "duration": 15,
    "start_time": "2024-05-31T23:15:33.304Z"
   },
   {
    "duration": 758,
    "start_time": "2024-05-31T23:15:33.323Z"
   },
   {
    "duration": 13,
    "start_time": "2024-05-31T23:15:34.084Z"
   },
   {
    "duration": 6,
    "start_time": "2024-05-31T23:15:34.101Z"
   },
   {
    "duration": 13,
    "start_time": "2024-05-31T23:15:34.110Z"
   },
   {
    "duration": 8,
    "start_time": "2024-05-31T23:15:34.126Z"
   },
   {
    "duration": 1370,
    "start_time": "2024-05-31T23:17:01.565Z"
   },
   {
    "duration": 67,
    "start_time": "2024-05-31T23:17:02.942Z"
   },
   {
    "duration": 7,
    "start_time": "2024-05-31T23:17:03.013Z"
   },
   {
    "duration": 24,
    "start_time": "2024-05-31T23:17:03.025Z"
   },
   {
    "duration": 71,
    "start_time": "2024-05-31T23:17:03.052Z"
   },
   {
    "duration": 8,
    "start_time": "2024-05-31T23:17:03.126Z"
   },
   {
    "duration": 11,
    "start_time": "2024-05-31T23:17:03.137Z"
   },
   {
    "duration": 55,
    "start_time": "2024-05-31T23:17:03.150Z"
   },
   {
    "duration": 19,
    "start_time": "2024-05-31T23:17:03.208Z"
   },
   {
    "duration": 23,
    "start_time": "2024-05-31T23:17:03.235Z"
   },
   {
    "duration": 702,
    "start_time": "2024-05-31T23:17:03.292Z"
   },
   {
    "duration": 18,
    "start_time": "2024-05-31T23:17:03.997Z"
   },
   {
    "duration": 12,
    "start_time": "2024-05-31T23:17:04.018Z"
   },
   {
    "duration": 58,
    "start_time": "2024-05-31T23:17:04.036Z"
   },
   {
    "duration": 507,
    "start_time": "2024-05-31T23:17:04.097Z"
   },
   {
    "duration": 551,
    "start_time": "2024-05-31T23:17:04.608Z"
   },
   {
    "duration": 18,
    "start_time": "2024-05-31T23:17:05.162Z"
   },
   {
    "duration": 11,
    "start_time": "2024-05-31T23:17:05.184Z"
   },
   {
    "duration": 11,
    "start_time": "2024-05-31T23:17:05.199Z"
   },
   {
    "duration": 16,
    "start_time": "2024-05-31T23:17:05.214Z"
   },
   {
    "duration": 9,
    "start_time": "2024-05-31T23:17:05.233Z"
   },
   {
    "duration": 604,
    "start_time": "2024-05-31T23:17:05.245Z"
   },
   {
    "duration": 502,
    "start_time": "2024-05-31T23:17:05.853Z"
   },
   {
    "duration": 42,
    "start_time": "2024-05-31T23:17:06.358Z"
   },
   {
    "duration": 781,
    "start_time": "2024-05-31T23:17:06.402Z"
   },
   {
    "duration": 8,
    "start_time": "2024-05-31T23:17:07.191Z"
   },
   {
    "duration": 14,
    "start_time": "2024-05-31T23:17:07.202Z"
   },
   {
    "duration": 24,
    "start_time": "2024-05-31T23:17:07.226Z"
   },
   {
    "duration": 42,
    "start_time": "2024-05-31T23:17:07.256Z"
   },
   {
    "duration": 531,
    "start_time": "2024-05-31T23:17:07.302Z"
   },
   {
    "duration": 12,
    "start_time": "2024-05-31T23:17:07.836Z"
   },
   {
    "duration": 355,
    "start_time": "2024-05-31T23:17:07.852Z"
   },
   {
    "duration": 16,
    "start_time": "2024-05-31T23:17:08.210Z"
   },
   {
    "duration": 876,
    "start_time": "2024-05-31T23:17:08.230Z"
   },
   {
    "duration": 17,
    "start_time": "2024-05-31T23:17:09.109Z"
   },
   {
    "duration": 743,
    "start_time": "2024-05-31T23:17:09.129Z"
   },
   {
    "duration": 26,
    "start_time": "2024-05-31T23:17:09.877Z"
   },
   {
    "duration": 787,
    "start_time": "2024-05-31T23:17:09.906Z"
   },
   {
    "duration": 17,
    "start_time": "2024-05-31T23:17:10.697Z"
   },
   {
    "duration": 7,
    "start_time": "2024-05-31T23:17:10.718Z"
   },
   {
    "duration": 14,
    "start_time": "2024-05-31T23:17:10.729Z"
   },
   {
    "duration": 46,
    "start_time": "2024-05-31T23:17:10.745Z"
   },
   {
    "duration": 22,
    "start_time": "2024-05-31T23:18:26.846Z"
   },
   {
    "duration": 354,
    "start_time": "2024-05-31T23:18:38.204Z"
   },
   {
    "duration": 1300,
    "start_time": "2024-05-31T23:18:46.628Z"
   },
   {
    "duration": 71,
    "start_time": "2024-05-31T23:18:47.932Z"
   },
   {
    "duration": 6,
    "start_time": "2024-05-31T23:18:48.005Z"
   },
   {
    "duration": 20,
    "start_time": "2024-05-31T23:18:48.016Z"
   },
   {
    "duration": 72,
    "start_time": "2024-05-31T23:18:48.040Z"
   },
   {
    "duration": 7,
    "start_time": "2024-05-31T23:18:48.116Z"
   },
   {
    "duration": 10,
    "start_time": "2024-05-31T23:18:48.128Z"
   },
   {
    "duration": 54,
    "start_time": "2024-05-31T23:18:48.142Z"
   },
   {
    "duration": 18,
    "start_time": "2024-05-31T23:18:48.199Z"
   },
   {
    "duration": 19,
    "start_time": "2024-05-31T23:18:48.223Z"
   },
   {
    "duration": 647,
    "start_time": "2024-05-31T23:18:48.245Z"
   },
   {
    "duration": 19,
    "start_time": "2024-05-31T23:18:48.894Z"
   },
   {
    "duration": 11,
    "start_time": "2024-05-31T23:18:48.916Z"
   },
   {
    "duration": 21,
    "start_time": "2024-05-31T23:18:48.929Z"
   },
   {
    "duration": 530,
    "start_time": "2024-05-31T23:18:48.953Z"
   },
   {
    "duration": 459,
    "start_time": "2024-05-31T23:18:49.492Z"
   },
   {
    "duration": 15,
    "start_time": "2024-05-31T23:18:49.954Z"
   },
   {
    "duration": 19,
    "start_time": "2024-05-31T23:18:49.972Z"
   },
   {
    "duration": 10,
    "start_time": "2024-05-31T23:18:49.994Z"
   },
   {
    "duration": 14,
    "start_time": "2024-05-31T23:18:50.006Z"
   },
   {
    "duration": 9,
    "start_time": "2024-05-31T23:18:50.023Z"
   },
   {
    "duration": 566,
    "start_time": "2024-05-31T23:18:50.037Z"
   },
   {
    "duration": 468,
    "start_time": "2024-05-31T23:18:50.606Z"
   },
   {
    "duration": 33,
    "start_time": "2024-05-31T23:18:51.076Z"
   },
   {
    "duration": 805,
    "start_time": "2024-05-31T23:18:51.112Z"
   },
   {
    "duration": 7,
    "start_time": "2024-05-31T23:18:51.920Z"
   },
   {
    "duration": 13,
    "start_time": "2024-05-31T23:18:51.930Z"
   },
   {
    "duration": 49,
    "start_time": "2024-05-31T23:18:51.951Z"
   },
   {
    "duration": 11,
    "start_time": "2024-05-31T23:18:52.003Z"
   },
   {
    "duration": 541,
    "start_time": "2024-05-31T23:18:52.018Z"
   },
   {
    "duration": 20,
    "start_time": "2024-05-31T23:18:52.562Z"
   },
   {
    "duration": 381,
    "start_time": "2024-05-31T23:18:52.591Z"
   },
   {
    "duration": 28,
    "start_time": "2024-05-31T23:18:52.975Z"
   },
   {
    "duration": 811,
    "start_time": "2024-05-31T23:18:53.006Z"
   },
   {
    "duration": 17,
    "start_time": "2024-05-31T23:18:53.820Z"
   },
   {
    "duration": 712,
    "start_time": "2024-05-31T23:18:53.840Z"
   },
   {
    "duration": 35,
    "start_time": "2024-05-31T23:18:54.555Z"
   },
   {
    "duration": 771,
    "start_time": "2024-05-31T23:18:54.593Z"
   },
   {
    "duration": 24,
    "start_time": "2024-05-31T23:18:55.368Z"
   },
   {
    "duration": 6,
    "start_time": "2024-05-31T23:18:55.395Z"
   },
   {
    "duration": 12,
    "start_time": "2024-05-31T23:18:55.411Z"
   },
   {
    "duration": 6,
    "start_time": "2024-05-31T23:18:55.426Z"
   },
   {
    "duration": 1348,
    "start_time": "2024-05-31T23:31:37.008Z"
   },
   {
    "duration": 69,
    "start_time": "2024-05-31T23:31:38.360Z"
   },
   {
    "duration": 6,
    "start_time": "2024-05-31T23:31:38.432Z"
   },
   {
    "duration": 48,
    "start_time": "2024-05-31T23:31:38.441Z"
   },
   {
    "duration": 39,
    "start_time": "2024-05-31T23:31:38.496Z"
   },
   {
    "duration": 7,
    "start_time": "2024-05-31T23:31:38.539Z"
   },
   {
    "duration": 43,
    "start_time": "2024-05-31T23:31:38.550Z"
   },
   {
    "duration": 18,
    "start_time": "2024-05-31T23:31:38.596Z"
   },
   {
    "duration": 25,
    "start_time": "2024-05-31T23:31:38.617Z"
   },
   {
    "duration": 62,
    "start_time": "2024-05-31T23:31:38.646Z"
   },
   {
    "duration": 688,
    "start_time": "2024-05-31T23:31:38.712Z"
   },
   {
    "duration": 20,
    "start_time": "2024-05-31T23:31:39.403Z"
   },
   {
    "duration": 12,
    "start_time": "2024-05-31T23:31:39.426Z"
   },
   {
    "duration": 60,
    "start_time": "2024-05-31T23:31:39.445Z"
   },
   {
    "duration": 535,
    "start_time": "2024-05-31T23:31:39.507Z"
   },
   {
    "duration": 470,
    "start_time": "2024-05-31T23:31:40.045Z"
   },
   {
    "duration": 16,
    "start_time": "2024-05-31T23:31:40.521Z"
   },
   {
    "duration": 11,
    "start_time": "2024-05-31T23:31:40.541Z"
   },
   {
    "duration": 12,
    "start_time": "2024-05-31T23:31:40.555Z"
   },
   {
    "duration": 15,
    "start_time": "2024-05-31T23:31:40.591Z"
   },
   {
    "duration": 9,
    "start_time": "2024-05-31T23:31:40.609Z"
   },
   {
    "duration": 605,
    "start_time": "2024-05-31T23:31:40.622Z"
   },
   {
    "duration": 486,
    "start_time": "2024-05-31T23:31:41.230Z"
   },
   {
    "duration": 26,
    "start_time": "2024-05-31T23:31:41.719Z"
   },
   {
    "duration": 815,
    "start_time": "2024-05-31T23:31:41.750Z"
   },
   {
    "duration": 25,
    "start_time": "2024-05-31T23:31:42.569Z"
   },
   {
    "duration": 13,
    "start_time": "2024-05-31T23:31:42.597Z"
   },
   {
    "duration": 20,
    "start_time": "2024-05-31T23:31:42.613Z"
   },
   {
    "duration": 12,
    "start_time": "2024-05-31T23:31:42.636Z"
   },
   {
    "duration": 589,
    "start_time": "2024-05-31T23:31:42.651Z"
   },
   {
    "duration": 11,
    "start_time": "2024-05-31T23:31:43.244Z"
   },
   {
    "duration": 383,
    "start_time": "2024-05-31T23:31:43.259Z"
   },
   {
    "duration": 20,
    "start_time": "2024-05-31T23:31:43.645Z"
   },
   {
    "duration": 852,
    "start_time": "2024-05-31T23:31:43.667Z"
   },
   {
    "duration": 19,
    "start_time": "2024-05-31T23:31:44.523Z"
   },
   {
    "duration": 730,
    "start_time": "2024-05-31T23:31:44.544Z"
   },
   {
    "duration": 25,
    "start_time": "2024-05-31T23:31:45.278Z"
   },
   {
    "duration": 783,
    "start_time": "2024-05-31T23:31:45.307Z"
   },
   {
    "duration": 16,
    "start_time": "2024-05-31T23:31:46.094Z"
   },
   {
    "duration": 7,
    "start_time": "2024-05-31T23:31:46.113Z"
   },
   {
    "duration": 12,
    "start_time": "2024-05-31T23:31:46.131Z"
   },
   {
    "duration": 46,
    "start_time": "2024-05-31T23:31:46.147Z"
   },
   {
    "duration": 1559,
    "start_time": "2024-05-31T23:36:30.737Z"
   },
   {
    "duration": 71,
    "start_time": "2024-05-31T23:36:32.299Z"
   },
   {
    "duration": 7,
    "start_time": "2024-05-31T23:36:32.373Z"
   },
   {
    "duration": 20,
    "start_time": "2024-05-31T23:36:32.394Z"
   },
   {
    "duration": 45,
    "start_time": "2024-05-31T23:36:32.417Z"
   },
   {
    "duration": 28,
    "start_time": "2024-05-31T23:36:32.465Z"
   },
   {
    "duration": 21,
    "start_time": "2024-05-31T23:36:32.503Z"
   },
   {
    "duration": 24,
    "start_time": "2024-05-31T23:36:32.526Z"
   },
   {
    "duration": 31,
    "start_time": "2024-05-31T23:36:32.558Z"
   },
   {
    "duration": 38,
    "start_time": "2024-05-31T23:36:32.596Z"
   },
   {
    "duration": 777,
    "start_time": "2024-05-31T23:36:32.639Z"
   },
   {
    "duration": 31,
    "start_time": "2024-05-31T23:36:33.429Z"
   },
   {
    "duration": 11,
    "start_time": "2024-05-31T23:36:33.464Z"
   },
   {
    "duration": 37,
    "start_time": "2024-05-31T23:36:33.492Z"
   },
   {
    "duration": 801,
    "start_time": "2024-05-31T23:36:33.536Z"
   },
   {
    "duration": 503,
    "start_time": "2024-05-31T23:36:34.340Z"
   },
   {
    "duration": 20,
    "start_time": "2024-05-31T23:36:34.846Z"
   },
   {
    "duration": 12,
    "start_time": "2024-05-31T23:36:34.870Z"
   },
   {
    "duration": 16,
    "start_time": "2024-05-31T23:36:34.890Z"
   },
   {
    "duration": 14,
    "start_time": "2024-05-31T23:36:34.911Z"
   },
   {
    "duration": 9,
    "start_time": "2024-05-31T23:36:34.929Z"
   },
   {
    "duration": 620,
    "start_time": "2024-05-31T23:36:34.942Z"
   },
   {
    "duration": 492,
    "start_time": "2024-05-31T23:36:35.566Z"
   },
   {
    "duration": 36,
    "start_time": "2024-05-31T23:36:36.061Z"
   },
   {
    "duration": 782,
    "start_time": "2024-05-31T23:36:36.100Z"
   },
   {
    "duration": 9,
    "start_time": "2024-05-31T23:36:36.889Z"
   },
   {
    "duration": 13,
    "start_time": "2024-05-31T23:36:36.903Z"
   },
   {
    "duration": 18,
    "start_time": "2024-05-31T23:36:36.923Z"
   },
   {
    "duration": 51,
    "start_time": "2024-05-31T23:36:36.944Z"
   },
   {
    "duration": 542,
    "start_time": "2024-05-31T23:36:36.999Z"
   },
   {
    "duration": 11,
    "start_time": "2024-05-31T23:36:37.545Z"
   },
   {
    "duration": 402,
    "start_time": "2024-05-31T23:36:37.560Z"
   },
   {
    "duration": 32,
    "start_time": "2024-05-31T23:36:37.966Z"
   },
   {
    "duration": 828,
    "start_time": "2024-05-31T23:36:38.001Z"
   },
   {
    "duration": 20,
    "start_time": "2024-05-31T23:36:38.835Z"
   },
   {
    "duration": 715,
    "start_time": "2024-05-31T23:36:38.859Z"
   },
   {
    "duration": 21,
    "start_time": "2024-05-31T23:36:39.578Z"
   },
   {
    "duration": 768,
    "start_time": "2024-05-31T23:36:39.602Z"
   },
   {
    "duration": 21,
    "start_time": "2024-05-31T23:36:40.374Z"
   },
   {
    "duration": 6,
    "start_time": "2024-05-31T23:36:40.399Z"
   },
   {
    "duration": 16,
    "start_time": "2024-05-31T23:36:40.408Z"
   },
   {
    "duration": 7,
    "start_time": "2024-05-31T23:36:40.427Z"
   },
   {
    "duration": 4938,
    "start_time": "2024-06-22T06:36:35.777Z"
   },
   {
    "duration": 74,
    "start_time": "2024-06-22T06:36:40.718Z"
   },
   {
    "duration": 6,
    "start_time": "2024-06-22T06:36:40.794Z"
   },
   {
    "duration": 18,
    "start_time": "2024-06-22T06:36:40.807Z"
   },
   {
    "duration": 35,
    "start_time": "2024-06-22T06:36:40.828Z"
   },
   {
    "duration": 7,
    "start_time": "2024-06-22T06:36:40.866Z"
   },
   {
    "duration": 11,
    "start_time": "2024-06-22T06:36:40.907Z"
   },
   {
    "duration": 17,
    "start_time": "2024-06-22T06:36:40.921Z"
   },
   {
    "duration": 23,
    "start_time": "2024-06-22T06:36:40.942Z"
   },
   {
    "duration": 21,
    "start_time": "2024-06-22T06:36:41.011Z"
   },
   {
    "duration": 632,
    "start_time": "2024-06-22T06:36:41.035Z"
   },
   {
    "duration": 20,
    "start_time": "2024-06-22T06:36:41.671Z"
   },
   {
    "duration": 9,
    "start_time": "2024-06-22T06:36:41.708Z"
   },
   {
    "duration": 21,
    "start_time": "2024-06-22T06:36:41.720Z"
   },
   {
    "duration": 515,
    "start_time": "2024-06-22T06:36:41.745Z"
   },
   {
    "duration": 424,
    "start_time": "2024-06-22T06:36:42.263Z"
   },
   {
    "duration": 18,
    "start_time": "2024-06-22T06:36:42.690Z"
   },
   {
    "duration": 12,
    "start_time": "2024-06-22T06:36:42.714Z"
   },
   {
    "duration": 10,
    "start_time": "2024-06-22T06:36:42.730Z"
   },
   {
    "duration": 13,
    "start_time": "2024-06-22T06:36:42.743Z"
   },
   {
    "duration": 53,
    "start_time": "2024-06-22T06:36:42.760Z"
   },
   {
    "duration": 539,
    "start_time": "2024-06-22T06:36:42.816Z"
   },
   {
    "duration": 455,
    "start_time": "2024-06-22T06:36:43.358Z"
   },
   {
    "duration": 25,
    "start_time": "2024-06-22T06:36:43.816Z"
   },
   {
    "duration": 842,
    "start_time": "2024-06-22T06:36:43.846Z"
   },
   {
    "duration": 17,
    "start_time": "2024-06-22T06:36:44.691Z"
   },
   {
    "duration": 11,
    "start_time": "2024-06-22T06:36:44.711Z"
   },
   {
    "duration": 17,
    "start_time": "2024-06-22T06:36:44.731Z"
   },
   {
    "duration": 10,
    "start_time": "2024-06-22T06:36:44.750Z"
   },
   {
    "duration": 564,
    "start_time": "2024-06-22T06:36:44.806Z"
   },
   {
    "duration": 11,
    "start_time": "2024-06-22T06:36:45.373Z"
   },
   {
    "duration": 364,
    "start_time": "2024-06-22T06:36:45.388Z"
   },
   {
    "duration": 16,
    "start_time": "2024-06-22T06:36:45.755Z"
   },
   {
    "duration": 936,
    "start_time": "2024-06-22T06:36:45.774Z"
   },
   {
    "duration": 0,
    "start_time": "2024-06-22T06:36:46.713Z"
   },
   {
    "duration": 0,
    "start_time": "2024-06-22T06:36:46.715Z"
   },
   {
    "duration": 0,
    "start_time": "2024-06-22T06:36:46.717Z"
   },
   {
    "duration": 0,
    "start_time": "2024-06-22T06:36:46.719Z"
   },
   {
    "duration": 0,
    "start_time": "2024-06-22T06:36:46.721Z"
   },
   {
    "duration": 0,
    "start_time": "2024-06-22T06:36:46.723Z"
   },
   {
    "duration": 0,
    "start_time": "2024-06-22T06:36:46.725Z"
   },
   {
    "duration": 0,
    "start_time": "2024-06-22T06:36:46.727Z"
   },
   {
    "duration": 724,
    "start_time": "2024-06-22T06:37:58.977Z"
   },
   {
    "duration": 780,
    "start_time": "2024-06-22T06:38:13.936Z"
   },
   {
    "duration": 875,
    "start_time": "2024-06-22T06:38:26.996Z"
   },
   {
    "duration": 717,
    "start_time": "2024-06-22T06:38:49.755Z"
   },
   {
    "duration": 718,
    "start_time": "2024-06-22T06:39:09.187Z"
   },
   {
    "duration": 748,
    "start_time": "2024-06-22T06:40:08.850Z"
   },
   {
    "duration": 16,
    "start_time": "2024-06-22T06:40:20.295Z"
   },
   {
    "duration": 793,
    "start_time": "2024-06-22T06:40:20.855Z"
   },
   {
    "duration": 17,
    "start_time": "2024-06-22T06:40:21.919Z"
   },
   {
    "duration": 817,
    "start_time": "2024-06-22T06:40:22.281Z"
   },
   {
    "duration": 16,
    "start_time": "2024-06-22T06:40:23.778Z"
   },
   {
    "duration": 6,
    "start_time": "2024-06-22T06:40:24.474Z"
   },
   {
    "duration": 13,
    "start_time": "2024-06-22T06:40:26.393Z"
   },
   {
    "duration": 8,
    "start_time": "2024-06-22T06:40:27.633Z"
   }
  ],
  "kernelspec": {
   "display_name": "Python 3 (ipykernel)",
   "language": "python",
   "name": "python3"
  },
  "language_info": {
   "codemirror_mode": {
    "name": "ipython",
    "version": 3
   },
   "file_extension": ".py",
   "mimetype": "text/x-python",
   "name": "python",
   "nbconvert_exporter": "python",
   "pygments_lexer": "ipython3",
   "version": "3.9.19"
  },
  "toc": {
   "base_numbering": 1,
   "nav_menu": {},
   "number_sections": true,
   "sideBar": true,
   "skip_h1_title": true,
   "title_cell": "Table of Contents",
   "title_sidebar": "Contents",
   "toc_cell": false,
   "toc_position": {},
   "toc_section_display": true,
   "toc_window_display": false
  }
 },
 "nbformat": 4,
 "nbformat_minor": 2
}
