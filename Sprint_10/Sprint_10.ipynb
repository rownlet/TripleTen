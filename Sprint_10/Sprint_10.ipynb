{
 "cells": [
  {
   "cell_type": "markdown",
   "metadata": {},
   "source": [
    "# New wells for OilyGiant company"
   ]
  },
  {
   "cell_type": "markdown",
   "metadata": {},
   "source": [
    "## Introduction"
   ]
  },
  {
   "cell_type": "markdown",
   "metadata": {},
   "source": [
    "La compañía `OilyGiant` está buscando expandir sus operaciones de extracción de petróleo abriendo `200` nuevos pozos. La selección de las ubicaciones óptimas para estos pozos es crucial para maximizar los beneficios y minimizar los riesgos asociados. Dado el alto costo de desarrollo y la volatilidad del mercado del petróleo, es esencial tomar decisiones basadas en un análisis riguroso de los datos geológicos y económicos.\n",
    "\n",
    "Este proyecto tiene como objetivo identificar las mejores regiones para la apertura de estos nuevos pozos utilizando técnicas avanzadas de análisis de datos y modelado predictivo. Para ello, se dispone de datos de exploración geológica de tres regiones diferentes. Cada conjunto de datos incluye información sobre características geológicas y el volumen de reservas de petróleo de los pozos existentes en esas regiones."
   ]
  },
  {
   "cell_type": "markdown",
   "metadata": {},
   "source": [
    "### Objetivos del Proyecto\n",
    "\n",
    "* __Predecir el Volumen de Reservas__: Crear un modelo de `regresión lineal` para predecir el volumen de reservas en los nuevos pozos basándose en las características geológicas disponibles.\n",
    "\n",
    "* __Seleccionar los Mejores Pozos__: Identificar los 200 pozos con las predicciones de volumen de reservas más altas en cada región para maximizar los beneficios.\n",
    "\n",
    "* __Evaluar el Beneficio Total__: Calcular el beneficio total esperado de los pozos seleccionados en cada región y elegir la región con el mayor beneficio total.\n",
    "\n",
    "* __Análisis de Riesgo__: Utilizar técnicas de `bootstrapping` para analizar los riesgos potenciales y asegurarse de que las regiones seleccionadas tengan un riesgo de pérdidas inferior al 2.5%.\n",
    "\n",
    "### Condiciones del Negocio\n",
    "\n",
    "* __Inversión y Beneficio__: El presupuesto para el desarrollo de 200 pozos es de 100 millones de dólares. Un barril de materias primas genera 4.5 USD de ingresos, lo que significa que cada unidad de producto (volumen de reservas en miles de barriles) genera 4500 USD de ingresos.\n",
    "\n",
    "* __Umbral de Rentabilidad__: Para evitar pérdidas, cada pozo debe producir al menos 500,000 USD en ingresos, lo que equivale a 111.1 unidades de producto.\n",
    "\n",
    "* __Selección de Regiones__: Solo se considerarán las regiones con un riesgo de pérdidas inferior al 2.5%. Entre estas, se seleccionará la región con el beneficio promedio más alto.\n",
    "\n",
    "### Metodología\n",
    "\n",
    "Para lograr estos objetivos, seguiremos un enfoque sistemático que incluye los siguientes pasos:\n",
    "\n",
    "1. __Preparación de Datos__: Descargar y preparar los datos geológicos de las tres regiones. Esto incluye la limpieza de datos y la división en conjuntos de entrenamiento y validación.\n",
    "\n",
    "2. __Entrenamiento del Modelo__: Entrenar un modelo de regresión lineal para predecir el volumen de reservas en cada región y evaluar su rendimiento utilizando métricas adecuadas.\n",
    "\n",
    "3. __Cálculo de Ganancias__: Calcular el beneficio total esperado de los 200 pozos seleccionados en cada región y compararlo con el umbral de rentabilidad.\n",
    "\n",
    "4. __Análisis de Riesgo__: Utilizar técnicas de bootstrapping para evaluar los riesgos asociados con las predicciones y asegurarse de que el riesgo de pérdidas sea aceptable.\n",
    "\n",
    "5. __Selección de la Región Óptima__: Basándose en los análisis anteriores, seleccionar la región que ofrece el mayor beneficio promedio con un riesgo de pérdidas aceptable.\n",
    "\n",
    "### Descripción de la Data\n",
    "\n",
    "* __Datos__\n",
    "\n",
    "Los datos de exploración geológica de las tres regiones se almacenan en los archivos:\n",
    "\n",
    "- `geo_data_0.csv`\n",
    "\n",
    "- `geo_data_1.csv`\n",
    "\n",
    "- `geo_data_2.csv`\n",
    "\n",
    "\n",
    "* __Columnas de Datos__\n",
    "\n",
    "\n",
    "- `id` — identificador único de pozo de petróleo\n",
    "\n",
    "- `f0`, `f1`, `f2` — tres características de los puntos\n",
    "\n",
    "- `product` — volumen de reservas en el pozo de petróleo (miles de barriles)."
   ]
  },
  {
   "cell_type": "markdown",
   "metadata": {},
   "source": [
    "Este proyecto proporcionará una estrategia basada en datos para la expansión de las operaciones de OilyGiant, asegurando que la inversión en nuevos pozos se realice en las ubicaciones más rentables y con el menor riesgo posible. La implementación de un modelo predictivo robusto y un análisis riguroso de riesgos permitirá tomar decisiones informadas y optimizar el rendimiento financiero de la compañía."
   ]
  },
  {
   "cell_type": "markdown",
   "metadata": {},
   "source": [
    "## Descargar y preparar los datos"
   ]
  },
  {
   "cell_type": "code",
   "execution_count": 1,
   "metadata": {},
   "outputs": [],
   "source": [
    "# Importar las librerias necesarias para el proyecto\n",
    "import pandas as pd\n",
    "import numpy as np\n",
    "from sklearn.model_selection import train_test_split\n",
    "from sklearn.linear_model import LinearRegression\n",
    "from sklearn.metrics import mean_squared_error\n",
    "from sklearn.model_selection import cross_val_score"
   ]
  },
  {
   "cell_type": "code",
   "execution_count": 2,
   "metadata": {
    "scrolled": true
   },
   "outputs": [
    {
     "data": {
      "text/plain": [
       "(      id        f0        f1        f2     product\n",
       " 0  txEyH  0.705745 -0.497823  1.221170  105.280062\n",
       " 1  2acmU  1.334711 -0.340164  4.365080   73.037750\n",
       " 2  409Wp  1.022732  0.151990  1.419926   85.265647\n",
       " 3  iJLyR -0.032172  0.139033  2.978566  168.620776\n",
       " 4  Xdl7t  1.988431  0.155413  4.751769  154.036647,\n",
       "       id         f0         f1        f2     product\n",
       " 0  kBEdx -15.001348  -8.276000 -0.005876    3.179103\n",
       " 1  62mP7  14.272088  -3.475083  0.999183   26.953261\n",
       " 2  vyE1P   6.263187  -5.948386  5.001160  134.766305\n",
       " 3  KcrkZ -13.081196 -11.506057  4.999415  137.945408\n",
       " 4  AHL4O  12.702195  -8.147433  5.004363  134.766305,\n",
       "       id        f0        f1        f2     product\n",
       " 0  fwXo0 -1.146987  0.963328 -0.828965   27.758673\n",
       " 1  WJtFt  0.262778  0.269839 -2.530187   56.069697\n",
       " 2  ovLUW  0.194587  0.289035 -5.586433   62.871910\n",
       " 3  q6cA6  2.236060 -0.553760  0.930038  114.572842\n",
       " 4  WPMUX -0.515993  1.716266  5.899011  149.600746)"
      ]
     },
     "execution_count": 2,
     "metadata": {},
     "output_type": "execute_result"
    }
   ],
   "source": [
    "# Cargar los datos de las tres regiones\n",
    "data_r0 = pd.read_csv('/datasets/geo_data_0.csv')\n",
    "data_r1 = pd.read_csv('/datasets/geo_data_1.csv')\n",
    "data_r2 = pd.read_csv('/datasets/geo_data_2.csv')\n",
    "\n",
    "# Mostrar las primeras filas de cada conjunto de datos\n",
    "data_r0.head(), data_r1.head(), data_r2.head()"
   ]
  },
  {
   "cell_type": "code",
   "execution_count": 3,
   "metadata": {},
   "outputs": [
    {
     "name": "stdout",
     "output_type": "stream",
     "text": [
      "<class 'pandas.core.frame.DataFrame'>\n",
      "RangeIndex: 100000 entries, 0 to 99999\n",
      "Data columns (total 5 columns):\n",
      " #   Column   Non-Null Count   Dtype  \n",
      "---  ------   --------------   -----  \n",
      " 0   id       100000 non-null  object \n",
      " 1   f0       100000 non-null  float64\n",
      " 2   f1       100000 non-null  float64\n",
      " 3   f2       100000 non-null  float64\n",
      " 4   product  100000 non-null  float64\n",
      "dtypes: float64(4), object(1)\n",
      "memory usage: 3.8+ MB\n",
      "<class 'pandas.core.frame.DataFrame'>\n",
      "RangeIndex: 100000 entries, 0 to 99999\n",
      "Data columns (total 5 columns):\n",
      " #   Column   Non-Null Count   Dtype  \n",
      "---  ------   --------------   -----  \n",
      " 0   id       100000 non-null  object \n",
      " 1   f0       100000 non-null  float64\n",
      " 2   f1       100000 non-null  float64\n",
      " 3   f2       100000 non-null  float64\n",
      " 4   product  100000 non-null  float64\n",
      "dtypes: float64(4), object(1)\n",
      "memory usage: 3.8+ MB\n",
      "<class 'pandas.core.frame.DataFrame'>\n",
      "RangeIndex: 100000 entries, 0 to 99999\n",
      "Data columns (total 5 columns):\n",
      " #   Column   Non-Null Count   Dtype  \n",
      "---  ------   --------------   -----  \n",
      " 0   id       100000 non-null  object \n",
      " 1   f0       100000 non-null  float64\n",
      " 2   f1       100000 non-null  float64\n",
      " 3   f2       100000 non-null  float64\n",
      " 4   product  100000 non-null  float64\n",
      "dtypes: float64(4), object(1)\n",
      "memory usage: 3.8+ MB\n"
     ]
    },
    {
     "data": {
      "text/plain": [
       "(None, None, None)"
      ]
     },
     "execution_count": 3,
     "metadata": {},
     "output_type": "execute_result"
    }
   ],
   "source": [
    "# Mostrar la información de cada conjunto de datos\n",
    "data_r0_info = data_r0.info()\n",
    "data_r1_info = data_r1.info()\n",
    "data_r2_info = data_r2.info()\n",
    "\n",
    "(data_r0_info, data_r1_info, data_r2_info)"
   ]
  },
  {
   "cell_type": "markdown",
   "metadata": {},
   "source": [
    "Notamos que la columna `id` es de tipo `object`, mientras que `f0`, `f1` y `f2` son tipo `float64`. Tendremos esto en consideración al momento de aplicar el modelo de ML."
   ]
  },
  {
   "cell_type": "code",
   "execution_count": 4,
   "metadata": {},
   "outputs": [
    {
     "data": {
      "text/plain": [
       "(10, 4, 4)"
      ]
     },
     "execution_count": 4,
     "metadata": {},
     "output_type": "execute_result"
    }
   ],
   "source": [
    "# Verificar existencia de duplicados para la columna ID para cada DataFrame\n",
    "data_r0['id'].duplicated().sum(), data_r1['id'].duplicated().sum(), data_r2['id'].duplicated().sum()"
   ]
  },
  {
   "cell_type": "code",
   "execution_count": 5,
   "metadata": {},
   "outputs": [
    {
     "data": {
      "text/plain": [
       "(0, 0, 0)"
      ]
     },
     "execution_count": 5,
     "metadata": {},
     "output_type": "execute_result"
    }
   ],
   "source": [
    "# Eliminar duplicados\n",
    "data_r0 = data_r0.drop_duplicates(subset='id')\n",
    "data_r1 = data_r1.drop_duplicates(subset='id')\n",
    "data_r2 = data_r2.drop_duplicates(subset='id')\n",
    "\n",
    "# Verificar que no haya duplicados\n",
    "data_r0['id'].duplicated().sum(), data_r1['id'].duplicated().sum(), data_r2['id'].duplicated().sum()"
   ]
  },
  {
   "cell_type": "markdown",
   "metadata": {},
   "source": [
    "## Entrena y prueba el modelo para cada región "
   ]
  },
  {
   "cell_type": "markdown",
   "metadata": {},
   "source": [
    "Se aplicará un modelo de `regresión lineal` para cada región y evaluaremos su rendimiento."
   ]
  },
  {
   "cell_type": "code",
   "execution_count": 6,
   "metadata": {},
   "outputs": [
    {
     "name": "stdout",
     "output_type": "stream",
     "text": [
      "Región 0 - Volumen Medio de Reservas Predicho: 92.61 RMSE: 37.69\n"
     ]
    },
    {
     "data": {
      "text/plain": [
       "(None,)"
      ]
     },
     "execution_count": 6,
     "metadata": {},
     "output_type": "execute_result"
    }
   ],
   "source": [
    "# Dividir los datos en conjuntos de entrenamiento y validación para la región 0\n",
    "train_data_0, valid_data_0 = train_test_split(data_r0, test_size=0.25, random_state=42)\n",
    "\n",
    "# Separar características y objetivo\n",
    "X_train_0 = train_data_0.drop(['id', 'product'], axis=1)\n",
    "y_train_0 = train_data_0['product']\n",
    "X_valid_0 = valid_data_0.drop(['id', 'product'], axis=1)\n",
    "y_valid_0 = valid_data_0['product']\n",
    "\n",
    "# Entrenar el modelo de regresión lineal\n",
    "model_0 = LinearRegression()\n",
    "model_0.fit(X_train_0, y_train_0)\n",
    "\n",
    "# Hacer predicciones en el conjunto de validación\n",
    "predictions_0 = model_0.predict(X_valid_0)\n",
    "\n",
    "# Calcular el RMSE\n",
    "rmse_0 = np.sqrt(mean_squared_error(y_valid_0, predictions_0)).round(2)\n",
    "\n",
    "# Volumen medio de reservas predicho\n",
    "mean_volume_pred_0 = predictions_0.mean().round(2)\n",
    "\n",
    "print(\"Región 0 - Volumen Medio de Reservas Predicho:\", mean_volume_pred_0, \"RMSE:\", rmse_0), "
   ]
  },
  {
   "cell_type": "code",
   "execution_count": 7,
   "metadata": {},
   "outputs": [
    {
     "name": "stdout",
     "output_type": "stream",
     "text": [
      "Región 1 - Volumen Medio de Reservas Predicho: 68.58 RMSE: 0.89\n",
      "Región 2 - Volumen Medio de Reservas Predicho: 94.93479859194369 RMSE: 40.08\n"
     ]
    }
   ],
   "source": [
    "# Dividir los datos en conjuntos de entrenamiento y validación para la región 1\n",
    "train_data_1, valid_data_1 = train_test_split(data_r1, test_size=0.25, random_state=42)\n",
    "\n",
    "# Separar características y objetivo\n",
    "X_train_1 = train_data_1.drop(['id', 'product'], axis=1)\n",
    "y_train_1 = train_data_1['product']\n",
    "X_valid_1 = valid_data_1.drop(['id', 'product'], axis=1)\n",
    "y_valid_1 = valid_data_1['product']\n",
    "\n",
    "# Entrenar el modelo de regresión lineal\n",
    "model_1 = LinearRegression()\n",
    "model_1.fit(X_train_1, y_train_1)\n",
    "\n",
    "# Hacer predicciones en el conjunto de validación\n",
    "predictions_1 = model_1.predict(X_valid_1)\n",
    "\n",
    "# Calcular el RMSE\n",
    "rmse_1 = np.sqrt(mean_squared_error(y_valid_1, predictions_1)).round(2)\n",
    "\n",
    "# Volumen medio de reservas predicho\n",
    "mean_volume_pred_1 = predictions_1.mean().round(2)"
   ]
  },
  {
   "cell_type": "code",
   "execution_count": null,
   "metadata": {},
   "outputs": [],
   "source": [
    "# Dividir los datos en conjuntos de entrenamiento y validación para la región 2\n",
    "train_data_2, valid_data_2 = train_test_split(data_r2, test_size=0.25, random_state=42)\n",
    "\n",
    "# Separar características y objetivo\n",
    "X_train_2 = train_data_2.drop(['id', 'product'], axis=1)\n",
    "y_train_2 = train_data_2['product']\n",
    "X_valid_2 = valid_data_2.drop(['id', 'product'], axis=1)\n",
    "y_valid_2 = valid_data_2['product']\n",
    "\n",
    "# Entrenar el modelo de regresión lineal\n",
    "model_2 = LinearRegression()\n",
    "model_2.fit(X_train_2, y_train_2)\n",
    "\n",
    "# Hacer predicciones en el conjunto de validación\n",
    "predictions_2 = model_2.predict(X_valid_2).round(2)\n",
    "\n",
    "# Calcular el RMSE\n",
    "rmse_2 = np.sqrt(mean_squared_error(y_valid_2, predictions_2)).round(2)\n",
    "\n",
    "# Volumen medio de reservas predicho\n",
    "mean_volume_pred_2 = predictions_2.mean()\n",
    "\n",
    "print(\"Región 1 - Volumen Medio de Reservas Predicho:\", mean_volume_pred_1, \"RMSE:\", rmse_1)\n",
    "print(\"Región 2 - Volumen Medio de Reservas Predicho:\", mean_volume_pred_2, \"RMSE:\", rmse_2)"
   ]
  },
  {
   "cell_type": "markdown",
   "metadata": {},
   "source": [
    "__Resultados__:\n",
    "\n",
    "- **Región 0:**\n",
    "  - Volumen Medio de Reservas Predicho: 92.61 miles de barriles\n",
    "  - RMSE: 37.69\n",
    "\n",
    "- **Región 1:**\n",
    "  - Volumen Medio de Reservas Predicho: 68.58 miles de barriles\n",
    "  - RMSE: 0.89\n",
    "\n",
    "- **Región 2:**\n",
    "  - Volumen Medio de Reservas Predicho: 95.0 miles de barriles\n",
    "  - RMSE: 40.08\n",
    "\n",
    "Ninguna de las regiones supera el umbral mínimo necesario de 111.1 unidades para evitar pérdidas."
   ]
  },
  {
   "cell_type": "markdown",
   "metadata": {},
   "source": [
    "## Calculo de Ganancias"
   ]
  },
  {
   "cell_type": "markdown",
   "metadata": {},
   "source": [
    "Dado que ninguna región supera el umbral mínimo necesario para evitar pérdidas, debemos seleccionar los mejores pozos en términos de predicción y calcular la ganancia potencial de los 200 pozos principales por región."
   ]
  },
  {
   "cell_type": "markdown",
   "metadata": {},
   "source": [
    "### Almacena todos los valores necesarios para los cálculos en variables separadas."
   ]
  },
  {
   "cell_type": "code",
   "execution_count": 8,
   "metadata": {},
   "outputs": [],
   "source": [
    "# Definir el umbral mínimo necesario para evitar pérdidas\n",
    "threshold_units = 111.1\n",
    "\n",
    "# Almacenar los volúmenes medios de reservas y RMSE para cada región\n",
    "mean_volume_0, rmse_0 = 92.50, 37.69\n",
    "mean_volume_1, rmse_1 = 68.82, 0.89\n",
    "mean_volume_2, rmse_2 = 95.00, 40.06"
   ]
  },
  {
   "cell_type": "markdown",
   "metadata": {},
   "source": [
    "### Dada la inversión de 100 millones por 200 pozos petrolíferos, de media un pozo petrolífero debe producir al menos un valor de 500,000 dólares en unidades para evitar pérdidas (esto es equivalente a 111.1 unidades). Compara esta cantidad con la cantidad media de reservas en cada región."
   ]
  },
  {
   "cell_type": "code",
   "execution_count": 9,
   "metadata": {},
   "outputs": [
    {
     "data": {
      "text/plain": [
       "((False, 92.5, 111.1), (False, 68.82, 111.1), (False, 95.0, 111.1))"
      ]
     },
     "execution_count": 9,
     "metadata": {},
     "output_type": "execute_result"
    }
   ],
   "source": [
    "# Comparar con el umbral mínimo necesario para evitar pérdidas\n",
    "comparison_0 = mean_volume_0 > threshold_units\n",
    "comparison_1 = mean_volume_1 > threshold_units\n",
    "comparison_2 = mean_volume_2 > threshold_units\n",
    "\n",
    "(comparison_0, mean_volume_0, threshold_units), (comparison_1, mean_volume_1, threshold_units), (comparison_2, mean_volume_2, threshold_units)"
   ]
  },
  {
   "cell_type": "markdown",
   "metadata": {},
   "source": [
    "### Presenta conclusiones sobre cómo preparar el paso para calcular el beneficio. "
   ]
  },
  {
   "cell_type": "markdown",
   "metadata": {},
   "source": [
    "Para calcular las ganancias potenciales, primero debemos seleccionar los 200 pozos con los valores de predicción más altos de cada una de las tres regiones.Luego, calcular el volumen objetivo de reservas según dichas predicciones."
   ]
  },
  {
   "cell_type": "markdown",
   "metadata": {},
   "source": [
    "## Escribe una función para calcular la ganancia de un conjunto de pozos de petróleo seleccionados y modela las predicciones"
   ]
  },
  {
   "cell_type": "code",
   "execution_count": 10,
   "metadata": {},
   "outputs": [
    {
     "name": "stdout",
     "output_type": "stream",
     "text": [
      "Ganancia Potencial - Región 0: 34685298.0\n",
      "Ganancia Potencial - Región 1: 24150867.0\n",
      "Ganancia Potencial - Región 2: 23966130.0\n"
     ]
    }
   ],
   "source": [
    "# Función para calcular la ganancia potencial\n",
    "def calculate_profit(predictions, actuals, count=200, budget=100_000_000):\n",
    "    # Obtener los índices de las 200 mejores predicciones\n",
    "    top_indices = np.argsort(predictions)[-count:]\n",
    "    \n",
    "    # Obtener los valores reales de esos 200 pozos\n",
    "    top_actuals = actuals.iloc[top_indices]\n",
    "    \n",
    "    # Calcular el volumen total de reservas\n",
    "    total_reserves = top_actuals.sum()\n",
    "    \n",
    "    # Calcular la ganancia potencial\n",
    "    revenue = total_reserves * 4500  # dado que cada unidad de producto genera $4500\n",
    "    \n",
    "    # Restar el presupuesto\n",
    "    profit = revenue - budget\n",
    "    \n",
    "    return profit\n",
    "\n",
    "# Calcular la ganancia potencial para cada región\n",
    "profit_0 = calculate_profit(predictions_0, valid_data_0['product']).round(0)\n",
    "profit_1 = calculate_profit(predictions_1, valid_data_1['product']).round(0)\n",
    "profit_2 = calculate_profit(predictions_2, valid_data_2['product']).round(0)\n",
    "\n",
    "print(\"Ganancia Potencial - Región 0:\", profit_0)\n",
    "print(\"Ganancia Potencial - Región 1:\", profit_1)\n",
    "print(\"Ganancia Potencial - Región 2:\", profit_2)"
   ]
  },
  {
   "cell_type": "markdown",
   "metadata": {},
   "source": [
    "La `Región 0` ofrece la `mayor ganancia potencial` entre las tres regiones, seguida de la `Región 1` y finalmente la `Región 2`."
   ]
  },
  {
   "cell_type": "markdown",
   "metadata": {},
   "source": [
    "## Calcula riesgos y ganancias para cada región:"
   ]
  },
  {
   "cell_type": "markdown",
   "metadata": {},
   "source": [
    "### Utilizando las predicciones que almacenaste en el paso 4.2, emplea la técnica del bootstrapping con 1000 muestras para hallar la distribución de los beneficios."
   ]
  },
  {
   "cell_type": "code",
   "execution_count": 11,
   "metadata": {},
   "outputs": [],
   "source": [
    "# Función de bootstrapping para calcular la ganancia\n",
    "def bootstrap_profit(predictions, actuals, count=200, n_iterations=1000, sample_size=500, random_state=42):\n",
    "    np.random.seed(random_state)\n",
    "    profits = []\n",
    "    for _ in range(n_iterations):\n",
    "        sample_indices = np.random.choice(predictions.shape[0], size=sample_size, replace=True)\n",
    "        sample_predictions = predictions[sample_indices]\n",
    "        sample_actuals = actuals.iloc[sample_indices]\n",
    "        profit = calculate_profit(sample_predictions, sample_actuals, count)\n",
    "        profits.append(profit)\n",
    "    return np.array(profits)\n",
    "\n",
    "# Bootstrapping para las tres regiones\n",
    "bootstrap_profits_0 = bootstrap_profit(predictions_0, valid_data_0['product'])\n",
    "bootstrap_profits_1 = bootstrap_profit(predictions_1, valid_data_1['product'])\n",
    "bootstrap_profits_2 = bootstrap_profit(predictions_2, valid_data_2['product'])"
   ]
  },
  {
   "cell_type": "code",
   "execution_count": 12,
   "metadata": {},
   "outputs": [
    {
     "name": "stdout",
     "output_type": "stream",
     "text": [
      "Región 0 - Beneficio Promedio: 4035720.64 Intervalo de Confianza 95%: (-1376900.03, 9028483.11) Riesgo de Pérdidas: 5.9 %\n",
      "Región 1 - Beneficio Promedio: 4302083.52 Intervalo de Confianza 95%: (430525.2, 8473134.67) Riesgo de Pérdidas: 1.6 %\n",
      "Región 2 - Beneficio Promedio: 3842261.7 Intervalo de Confianza 95%: (-1275898.77, 9101344.4) Riesgo de Pérdidas: 8.0 %\n"
     ]
    }
   ],
   "source": [
    "# Calcular el beneficio promedio, el intervalo de confianza del 95% y el riesgo de pérdidas\n",
    "def profit_statistics(bootstrap_profits):\n",
    "    mean_profit = bootstrap_profits.mean().round(2)\n",
    "    lower_bound = np.percentile(bootstrap_profits, 2.5).round(2)\n",
    "    upper_bound = np.percentile(bootstrap_profits, 97.5).round(2)\n",
    "    loss_risk = round((bootstrap_profits < 0).mean() * 100, 2)  # riesgo de pérdidas en porcentaje\n",
    "    return mean_profit, lower_bound, upper_bound, loss_risk\n",
    "\n",
    "stats_0 = profit_statistics(bootstrap_profits_0)\n",
    "stats_1 = profit_statistics(bootstrap_profits_1)\n",
    "stats_2 = profit_statistics(bootstrap_profits_2)\n",
    "\n",
    "print(\"Región 0 - Beneficio Promedio:\", stats_0[0], \"Intervalo de Confianza 95%:\", (stats_0[1], stats_0[2]), \"Riesgo de Pérdidas:\", stats_0[3], \"%\")\n",
    "print(\"Región 1 - Beneficio Promedio:\", stats_1[0], \"Intervalo de Confianza 95%:\", (stats_1[1], stats_1[2]), \"Riesgo de Pérdidas:\", stats_1[3], \"%\")\n",
    "print(\"Región 2 - Beneficio Promedio:\", stats_2[0], \"Intervalo de Confianza 95%:\", (stats_2[1], stats_2[2]), \"Riesgo de Pérdidas:\", stats_2[3], \"%\")"
   ]
  },
  {
   "cell_type": "markdown",
   "metadata": {},
   "source": [
    "__Resultados del Análisis de Riesgos y Ganancias__:\n",
    "\n",
    "* `Región 0`:\n",
    "\n",
    "__Beneficio Promedio__: $4,035,720\n",
    "\n",
    "__Intervalo de Confianza del 95%__: [-1.376.900, 9.028.483]\n",
    "\n",
    "__Riesgo de Pérdidas__: 5.9%\n",
    "\n",
    "* `Región 1`:\n",
    "\n",
    "__Beneficio Promedio__: $4,302,083\n",
    "\n",
    "__Intervalo de Confianza del 95%__: [430.525, 8.473.135]\n",
    "\n",
    "__Riesgo de Pérdidas__: 1.6%\n",
    "\n",
    "* `Región 2`:\n",
    "\n",
    "__Beneficio Promedio__: $3,842,261\n",
    "\n",
    "__Intervalo de Confianza del 95%__: [-1.275.898, 9.101.344]\n",
    "\n",
    "__Riesgo de Pérdidas__: 8.0%"
   ]
  },
  {
   "cell_type": "markdown",
   "metadata": {},
   "source": [
    "El análisis de riesgos muestra que la region con menos riesgo de pérdidas es la `Región 1` con un `1.6%`, además, la región con el mayor beneficio promedio tambien es la `Región 1`, seguida de la `Región 0` y finalmente la `Región 2`."
   ]
  },
  {
   "cell_type": "markdown",
   "metadata": {},
   "source": [
    "__Recomendación__:\n",
    "\n",
    "* __Región Seleccionada__: `Región 1`\n",
    "<br>\n",
    "\n",
    "* __Justificación__: La `Región 1` tiene el mayor beneficio promedio (`4.302.083`) y un intervalo de confianza del 95% positivo, que indica una alta probabilidad de obtener beneficios consistentes."
   ]
  },
  {
   "cell_type": "markdown",
   "metadata": {},
   "source": [
    "Esta recomendación  no coincide con la elección basada en la ganancia potencial calculada anteriormente, dado que no se habia considerado la totalidad de datos y su presupuesto. La `Región 1` es la mejor opción para el desarrollo de los `200 nuevos pozos` de petróleo debido a su `mayor beneficio promedio` y a su `menor de riesgo de pérdidas`."
   ]
  }
 ],
 "metadata": {
  "ExecuteTimeLog": [
   {
    "duration": 4,
    "start_time": "2024-07-27T04:07:42.992Z"
   },
   {
    "duration": 12,
    "start_time": "2024-07-27T04:35:17.515Z"
   },
   {
    "duration": 311,
    "start_time": "2024-07-27T04:35:34.921Z"
   },
   {
    "duration": 455,
    "start_time": "2024-07-27T04:35:38.496Z"
   },
   {
    "duration": 168,
    "start_time": "2024-07-27T04:35:39.457Z"
   },
   {
    "duration": 19,
    "start_time": "2024-07-27T04:35:54.113Z"
   },
   {
    "duration": 42,
    "start_time": "2024-07-27T04:36:00.889Z"
   },
   {
    "duration": 58,
    "start_time": "2024-07-27T04:36:32.776Z"
   },
   {
    "duration": 60,
    "start_time": "2024-07-27T04:36:37.887Z"
   },
   {
    "duration": 26,
    "start_time": "2024-07-27T04:36:55.471Z"
   },
   {
    "duration": 22,
    "start_time": "2024-07-27T04:37:01.257Z"
   },
   {
    "duration": 439,
    "start_time": "2024-07-27T04:38:13.548Z"
   },
   {
    "duration": 19,
    "start_time": "2024-07-27T04:39:00.511Z"
   },
   {
    "duration": 24,
    "start_time": "2024-07-27T04:39:07.537Z"
   },
   {
    "duration": 19,
    "start_time": "2024-07-27T04:39:14.335Z"
   },
   {
    "duration": 33,
    "start_time": "2024-07-27T04:39:44.937Z"
   },
   {
    "duration": 23,
    "start_time": "2024-07-27T04:39:59.816Z"
   },
   {
    "duration": 22,
    "start_time": "2024-07-27T04:42:18.257Z"
   },
   {
    "duration": 17,
    "start_time": "2024-07-27T04:42:25.785Z"
   },
   {
    "duration": 16,
    "start_time": "2024-07-27T04:42:28.611Z"
   },
   {
    "duration": 748,
    "start_time": "2024-07-27T04:44:01.031Z"
   },
   {
    "duration": 380,
    "start_time": "2024-07-27T04:44:02.343Z"
   },
   {
    "duration": 19,
    "start_time": "2024-07-27T04:44:03.168Z"
   },
   {
    "duration": 19,
    "start_time": "2024-07-27T04:44:03.599Z"
   },
   {
    "duration": 18,
    "start_time": "2024-07-27T04:44:04.088Z"
   },
   {
    "duration": 112,
    "start_time": "2024-07-27T04:45:46.385Z"
   },
   {
    "duration": 24,
    "start_time": "2024-07-27T04:46:15.729Z"
   },
   {
    "duration": 45,
    "start_time": "2024-07-27T04:46:34.681Z"
   },
   {
    "duration": 369,
    "start_time": "2024-07-27T04:50:00.489Z"
   },
   {
    "duration": 1158,
    "start_time": "2024-07-27T04:50:08.683Z"
   },
   {
    "duration": 395,
    "start_time": "2024-07-27T04:50:09.845Z"
   },
   {
    "duration": 60,
    "start_time": "2024-07-27T04:50:10.242Z"
   },
   {
    "duration": 19,
    "start_time": "2024-07-27T04:50:10.305Z"
   },
   {
    "duration": 40,
    "start_time": "2024-07-27T04:50:10.328Z"
   },
   {
    "duration": 21,
    "start_time": "2024-07-27T04:50:10.371Z"
   },
   {
    "duration": 349,
    "start_time": "2024-07-27T05:09:04.395Z"
   },
   {
    "duration": 45,
    "start_time": "2024-07-27T05:09:30.135Z"
   },
   {
    "duration": 43,
    "start_time": "2024-07-27T05:09:39.354Z"
   },
   {
    "duration": 165,
    "start_time": "2024-07-27T05:11:38.586Z"
   },
   {
    "duration": 1211,
    "start_time": "2024-07-27T05:11:44.597Z"
   },
   {
    "duration": 421,
    "start_time": "2024-07-27T05:11:45.813Z"
   },
   {
    "duration": 56,
    "start_time": "2024-07-27T05:11:46.237Z"
   },
   {
    "duration": 188,
    "start_time": "2024-07-27T05:11:46.296Z"
   },
   {
    "duration": 194,
    "start_time": "2024-07-27T05:11:46.488Z"
   },
   {
    "duration": 1146,
    "start_time": "2024-07-27T05:12:01.233Z"
   },
   {
    "duration": 378,
    "start_time": "2024-07-27T05:12:02.804Z"
   },
   {
    "duration": 47,
    "start_time": "2024-07-27T05:12:04.135Z"
   },
   {
    "duration": 170,
    "start_time": "2024-07-27T05:12:07.615Z"
   },
   {
    "duration": 55,
    "start_time": "2024-07-27T05:13:05.119Z"
   },
   {
    "duration": 437,
    "start_time": "2024-07-27T05:14:42.313Z"
   },
   {
    "duration": 661,
    "start_time": "2024-07-27T05:14:49.240Z"
   },
   {
    "duration": 83,
    "start_time": "2024-07-27T05:14:59.144Z"
   },
   {
    "duration": 81,
    "start_time": "2024-07-27T05:15:23.041Z"
   },
   {
    "duration": 80,
    "start_time": "2024-07-27T05:15:31.718Z"
   },
   {
    "duration": 30,
    "start_time": "2024-07-27T05:17:57.857Z"
   },
   {
    "duration": 1155,
    "start_time": "2024-07-27T05:18:13.435Z"
   },
   {
    "duration": 400,
    "start_time": "2024-07-27T05:18:14.593Z"
   },
   {
    "duration": 72,
    "start_time": "2024-07-27T05:18:14.996Z"
   },
   {
    "duration": 55,
    "start_time": "2024-07-27T05:18:15.072Z"
   },
   {
    "duration": 119,
    "start_time": "2024-07-27T05:18:15.130Z"
   },
   {
    "duration": 107,
    "start_time": "2024-07-27T05:18:34.228Z"
   },
   {
    "duration": 103,
    "start_time": "2024-07-27T05:18:46.671Z"
   },
   {
    "duration": 116,
    "start_time": "2024-07-27T05:19:32.319Z"
   },
   {
    "duration": 415,
    "start_time": "2024-07-27T05:23:48.096Z"
   },
   {
    "duration": 228,
    "start_time": "2024-07-27T05:24:10.150Z"
   },
   {
    "duration": 33,
    "start_time": "2024-07-27T05:31:17.439Z"
   },
   {
    "duration": 49,
    "start_time": "2024-07-27T05:31:26.080Z"
   },
   {
    "duration": 1172,
    "start_time": "2024-07-27T05:32:04.939Z"
   },
   {
    "duration": 402,
    "start_time": "2024-07-27T05:32:06.114Z"
   },
   {
    "duration": 59,
    "start_time": "2024-07-27T05:32:06.520Z"
   },
   {
    "duration": 51,
    "start_time": "2024-07-27T05:32:06.583Z"
   },
   {
    "duration": 160,
    "start_time": "2024-07-27T05:32:06.639Z"
   },
   {
    "duration": 1181,
    "start_time": "2024-07-27T05:32:06.801Z"
   },
   {
    "duration": 568,
    "start_time": "2024-07-27T05:34:01.809Z"
   },
   {
    "duration": 595,
    "start_time": "2024-07-27T05:38:35.889Z"
   },
   {
    "duration": 7,
    "start_time": "2024-07-27T05:40:46.360Z"
   },
   {
    "duration": 726,
    "start_time": "2024-07-27T05:41:32.657Z"
   },
   {
    "duration": 8,
    "start_time": "2024-07-27T05:43:44.600Z"
   },
   {
    "duration": 7,
    "start_time": "2024-07-27T05:45:54.031Z"
   },
   {
    "duration": 4,
    "start_time": "2024-07-27T05:46:16.575Z"
   },
   {
    "duration": 7,
    "start_time": "2024-07-27T05:47:42.943Z"
   },
   {
    "duration": 401,
    "start_time": "2024-07-27T05:48:46.344Z"
   },
   {
    "duration": 29,
    "start_time": "2024-07-27T05:50:26.040Z"
   },
   {
    "duration": 27,
    "start_time": "2024-07-27T05:53:07.430Z"
   },
   {
    "duration": 29,
    "start_time": "2024-07-27T05:58:34.583Z"
   },
   {
    "duration": 44,
    "start_time": "2024-07-27T05:58:43.158Z"
   },
   {
    "duration": 42,
    "start_time": "2024-07-27T05:59:19.551Z"
   },
   {
    "duration": 9,
    "start_time": "2024-07-27T05:59:33.970Z"
   },
   {
    "duration": 43,
    "start_time": "2024-07-27T06:00:00.285Z"
   },
   {
    "duration": 41,
    "start_time": "2024-07-27T06:00:58.440Z"
   },
   {
    "duration": 143,
    "start_time": "2024-07-27T06:01:11.936Z"
   },
   {
    "duration": 1183,
    "start_time": "2024-07-27T06:01:24.014Z"
   },
   {
    "duration": 403,
    "start_time": "2024-07-27T06:01:25.203Z"
   },
   {
    "duration": 46,
    "start_time": "2024-07-27T06:01:25.609Z"
   },
   {
    "duration": 49,
    "start_time": "2024-07-27T06:01:25.670Z"
   },
   {
    "duration": 162,
    "start_time": "2024-07-27T06:01:25.722Z"
   },
   {
    "duration": 45,
    "start_time": "2024-07-27T06:01:25.888Z"
   },
   {
    "duration": 213,
    "start_time": "2024-07-27T06:01:25.969Z"
   },
   {
    "duration": 85,
    "start_time": "2024-07-27T06:01:26.185Z"
   },
   {
    "duration": 11,
    "start_time": "2024-07-27T06:01:26.280Z"
   },
   {
    "duration": 14,
    "start_time": "2024-07-27T06:01:26.368Z"
   },
   {
    "duration": 84,
    "start_time": "2024-07-27T06:01:58.103Z"
   },
   {
    "duration": 4,
    "start_time": "2024-07-27T06:02:37.759Z"
   },
   {
    "duration": 6,
    "start_time": "2024-07-27T06:02:38.704Z"
   },
   {
    "duration": 14,
    "start_time": "2024-07-27T06:02:56.844Z"
   },
   {
    "duration": 14,
    "start_time": "2024-07-27T06:03:07.054Z"
   },
   {
    "duration": 8013,
    "start_time": "2024-07-27T06:07:32.271Z"
   },
   {
    "duration": 11,
    "start_time": "2024-07-27T06:09:06.399Z"
   },
   {
    "duration": 7951,
    "start_time": "2024-07-27T06:09:08.989Z"
   },
   {
    "duration": 401,
    "start_time": "2024-07-27T06:09:38.949Z"
   },
   {
    "duration": 12,
    "start_time": "2024-07-27T06:09:54.079Z"
   },
   {
    "duration": 1218,
    "start_time": "2024-07-28T19:50:49.831Z"
   },
   {
    "duration": 499,
    "start_time": "2024-07-28T19:50:51.052Z"
   },
   {
    "duration": 46,
    "start_time": "2024-07-28T19:50:51.554Z"
   },
   {
    "duration": 57,
    "start_time": "2024-07-28T19:50:51.604Z"
   },
   {
    "duration": 134,
    "start_time": "2024-07-28T19:50:51.664Z"
   },
   {
    "duration": 50,
    "start_time": "2024-07-28T19:50:51.800Z"
   },
   {
    "duration": 285,
    "start_time": "2024-07-28T19:50:51.853Z"
   },
   {
    "duration": 81,
    "start_time": "2024-07-28T19:50:52.141Z"
   },
   {
    "duration": 7,
    "start_time": "2024-07-28T19:50:52.225Z"
   },
   {
    "duration": 87,
    "start_time": "2024-07-28T19:50:52.236Z"
   },
   {
    "duration": 7963,
    "start_time": "2024-07-28T19:50:52.326Z"
   },
   {
    "duration": 13,
    "start_time": "2024-07-28T19:51:00.292Z"
   },
   {
    "duration": 17,
    "start_time": "2024-07-28T19:51:26.098Z"
   },
   {
    "duration": 1106,
    "start_time": "2024-07-28T19:53:17.378Z"
   },
   {
    "duration": 1146,
    "start_time": "2024-07-28T19:53:19.210Z"
   },
   {
    "duration": 12,
    "start_time": "2024-07-28T19:53:21.407Z"
   },
   {
    "duration": 396,
    "start_time": "2024-07-28T19:53:51.729Z"
   },
   {
    "duration": 13,
    "start_time": "2024-07-28T19:54:15.226Z"
   },
   {
    "duration": 15,
    "start_time": "2024-07-28T19:54:42.361Z"
   },
   {
    "duration": 12,
    "start_time": "2024-07-28T19:55:06.380Z"
   },
   {
    "duration": 8,
    "start_time": "2024-07-28T19:55:14.038Z"
   },
   {
    "duration": 13,
    "start_time": "2024-07-28T19:55:25.756Z"
   },
   {
    "duration": 9,
    "start_time": "2024-07-28T19:55:39.957Z"
   },
   {
    "duration": 12,
    "start_time": "2024-07-28T19:55:49.314Z"
   },
   {
    "duration": 1156,
    "start_time": "2024-07-28T20:06:47.086Z"
   },
   {
    "duration": 386,
    "start_time": "2024-07-28T20:06:48.246Z"
   },
   {
    "duration": 46,
    "start_time": "2024-07-28T20:06:48.637Z"
   },
   {
    "duration": 65,
    "start_time": "2024-07-28T20:06:48.686Z"
   },
   {
    "duration": 132,
    "start_time": "2024-07-28T20:06:48.756Z"
   },
   {
    "duration": 61,
    "start_time": "2024-07-28T20:06:48.891Z"
   },
   {
    "duration": 277,
    "start_time": "2024-07-28T20:06:48.954Z"
   },
   {
    "duration": 6,
    "start_time": "2024-07-28T20:06:49.240Z"
   },
   {
    "duration": 81,
    "start_time": "2024-07-28T20:06:49.248Z"
   },
   {
    "duration": 18,
    "start_time": "2024-07-28T20:06:49.333Z"
   },
   {
    "duration": 1138,
    "start_time": "2024-07-28T20:06:49.425Z"
   },
   {
    "duration": 12,
    "start_time": "2024-07-28T20:06:50.566Z"
   },
   {
    "duration": 1222,
    "start_time": "2024-07-28T20:10:00.420Z"
   },
   {
    "duration": 387,
    "start_time": "2024-07-28T20:10:01.646Z"
   },
   {
    "duration": 47,
    "start_time": "2024-07-28T20:10:02.037Z"
   },
   {
    "duration": 61,
    "start_time": "2024-07-28T20:10:02.088Z"
   },
   {
    "duration": 161,
    "start_time": "2024-07-28T20:10:02.151Z"
   },
   {
    "duration": 48,
    "start_time": "2024-07-28T20:10:02.316Z"
   },
   {
    "duration": 269,
    "start_time": "2024-07-28T20:10:02.367Z"
   },
   {
    "duration": 4,
    "start_time": "2024-07-28T20:10:02.640Z"
   },
   {
    "duration": 7,
    "start_time": "2024-07-28T20:10:02.724Z"
   },
   {
    "duration": 91,
    "start_time": "2024-07-28T20:10:02.736Z"
   },
   {
    "duration": 1121,
    "start_time": "2024-07-28T20:10:02.830Z"
   },
   {
    "duration": 13,
    "start_time": "2024-07-28T20:10:03.954Z"
   }
  ],
  "kernelspec": {
   "display_name": "Python 3 (ipykernel)",
   "language": "python",
   "name": "python3"
  },
  "language_info": {
   "codemirror_mode": {
    "name": "ipython",
    "version": 3
   },
   "file_extension": ".py",
   "mimetype": "text/x-python",
   "name": "python",
   "nbconvert_exporter": "python",
   "pygments_lexer": "ipython3",
   "version": "3.9.19"
  },
  "toc": {
   "base_numbering": 1,
   "nav_menu": {},
   "number_sections": true,
   "sideBar": true,
   "skip_h1_title": true,
   "title_cell": "Table of Contents",
   "title_sidebar": "Contents",
   "toc_cell": false,
   "toc_position": {},
   "toc_section_display": true,
   "toc_window_display": false
  }
 },
 "nbformat": 4,
 "nbformat_minor": 2
}
