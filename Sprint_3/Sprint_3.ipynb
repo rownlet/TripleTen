{
 "cells": [
  {
   "cell_type": "markdown",
   "id": "3Xg_RQfnafXz",
   "metadata": {
    "id": "3Xg_RQfnafXz"
   },
   "source": [
    "# ¡Llena ese carrito!"
   ]
  },
  {
   "cell_type": "markdown",
   "id": "mhIvmmkW414q",
   "metadata": {
    "id": "mhIvmmkW414q"
   },
   "source": [
    "# Introducción\n",
    "\n",
    "Instacart es una plataforma de entregas de comestibles donde la clientela puede registrar un pedido y hacer que se lo entreguen, similar a Uber Eats y Door Dash.\n",
    "El conjunto de datos que te hemos proporcionado tiene modificaciones del original. Redujimos el tamaño del conjunto para que tus cálculos se hicieran más rápido e introdujimos valores ausentes y duplicados. Tuvimos cuidado de conservar las distribuciones de los datos originales cuando hicimos los cambios.\n",
    "\n",
    "Debes completar tres pasos. Para cada uno de ellos, escribe una breve introducción que refleje con claridad cómo pretendes resolver cada paso, y escribe párrafos explicatorios que justifiquen tus decisiones al tiempo que avanzas en tu solución.  También escribe una conclusión que resuma tus hallazgos y elecciones.\n"
   ]
  },
  {
   "cell_type": "markdown",
   "id": "3MbyzpOQZ5Or",
   "metadata": {
    "id": "3MbyzpOQZ5Or"
   },
   "source": [
    "## Diccionario de datos\n",
    "\n",
    "Hay cinco tablas en el conjunto de datos, y tendrás que usarlas todas para hacer el preprocesamiento de datos y el análisis exploratorio de datos. A continuación se muestra un diccionario de datos que enumera las columnas de cada tabla y describe los datos que contienen.\n",
    "\n",
    "- __`instacart_orders.csv`__: cada fila corresponde a un pedido en la aplicación Instacart.\n",
    "\n",
    "    - `'order_id'`: número de ID que identifica de manera única cada pedido.\n",
    "    \n",
    "    - `'user_id'`: número de ID que identifica de manera única la cuenta de cada cliente.\n",
    "    \n",
    "    - `'order_number'`: el número de veces que este cliente ha hecho un pedido.\n",
    "    \n",
    "    - `'order_dow'`: día de la semana en que se hizo el pedido (0 si es domingo).\n",
    "    \n",
    "    - `'order_hour_of_day'`: hora del día en que se hizo el pedido.\n",
    "    \n",
    "    - `'days_since_prior_order'`: número de días transcurridos desde que este cliente hizo su pedido anterior.\n",
    "    \n",
    "- __`products.csv`__: cada fila corresponde a un producto único que pueden comprar los clientes.\n",
    "\n",
    "    - `'product_id'`: número ID que identifica de manera única cada producto.\n",
    "    \n",
    "    - `'product_name'`: nombre del producto.\n",
    "    \n",
    "    - `'aisle_id'`: número ID que identifica de manera única cada categoría de pasillo de víveres.\n",
    "    \n",
    "    - `'department_id'`: número ID que identifica de manera única cada departamento de víveres.\n",
    "    \n",
    "- __`order_products.csv`__: cada fila corresponde a un artículo pedido en un pedido.\n",
    "\n",
    "    - `'order_id'`: número de ID que identifica de manera única cada pedido.\n",
    "    \n",
    "    - `'product_id'`: número ID que identifica de manera única cada producto.\n",
    "    \n",
    "    - `'add_to_cart_order'`: el orden secuencial en el que se añadió cada artículo en el carrito.\n",
    "    \n",
    "    - `'reordered'`: 0 si el cliente nunca ha pedido este producto antes, 1 si lo ha pedido.\n",
    "    \n",
    "- __`aisles.csv`__\n",
    "\n",
    "    - `'aisle_id'`: número ID que identifica de manera única cada categoría de pasillo de víveres.\n",
    "    \n",
    "    - `'aisle'`: nombre del pasillo.\n",
    "    \n",
    "- __`departments.csv`__\n",
    "\n",
    "    - `'department_id'`: número ID que identifica de manera única cada departamento de víveres.\n",
    "    \n",
    "    - `'department'`: nombre del departamento."
   ]
  },
  {
   "cell_type": "markdown",
   "id": "n3Ha_cNSZ8lK",
   "metadata": {
    "id": "n3Ha_cNSZ8lK"
   },
   "source": [
    "# Paso 1. Descripción de los datos\n",
    "\n",
    "Lee los archivos de datos (`/datasets/instacart_orders.csv`, `/datasets/products.csv`, `/datasets/aisles.csv`, `/datasets/departments.csv` y `/datasets/order_products.csv`) con `pd.read_csv()` usando los parámetros adecuados para leer los datos correctamente. Verifica la información para cada DataFrame creado.\n"
   ]
  },
  {
   "cell_type": "markdown",
   "id": "OmlQPLlyaAfR",
   "metadata": {
    "id": "OmlQPLlyaAfR"
   },
   "source": [
    "## Plan de solución\n",
    "\n",
    "Utilizaré **`pd.read_csv()`** para cargar los archivos CSV proporcionados. Asumiendo que todos los archivos utilizan el punto y coma (;) como delimitador (como se vio anteriormente), especificaré este parámetro al cargar los datos. Además, al imprimir los recuentos no nulos, incluiré **`show_counts = True`** al usar **`info()`**. Finalmente, echaremos un vistazo a las primeras filas de cada DataFrame con **`head()`** para verificar de que los datos se han leído correctamente."
   ]
  },
  {
   "cell_type": "code",
   "execution_count": 1,
   "id": "fbf1adab",
   "metadata": {
    "id": "fbf1adab"
   },
   "outputs": [],
   "source": [
    "# importar librerías\n",
    "import numpy as np  \n",
    "import pandas as pd "
   ]
  },
  {
   "cell_type": "code",
   "execution_count": 2,
   "id": "ad36396d",
   "metadata": {
    "id": "ad36396d"
   },
   "outputs": [],
   "source": [
    "# leer conjuntos de datos en los DataFrames\n",
    "orders = pd.read_csv('/datasets/instacart_orders.csv', delimiter=';')\n",
    "products = pd.read_csv('/datasets/products.csv', delimiter=';')\n",
    "order_products = pd.read_csv('/datasets/order_products.csv', delimiter=';')\n",
    "aisles = pd.read_csv('/datasets/aisles.csv', delimiter=';')\n",
    "departments = pd.read_csv('/datasets/departments.csv', delimiter=';')"
   ]
  },
  {
   "cell_type": "code",
   "execution_count": 3,
   "id": "ad6a1efa",
   "metadata": {
    "id": "ad6a1efa"
   },
   "outputs": [
    {
     "name": "stdout",
     "output_type": "stream",
     "text": [
      "<class 'pandas.core.frame.DataFrame'>\n",
      "RangeIndex: 478967 entries, 0 to 478966\n",
      "Data columns (total 6 columns):\n",
      " #   Column                  Non-Null Count   Dtype  \n",
      "---  ------                  --------------   -----  \n",
      " 0   order_id                478967 non-null  int64  \n",
      " 1   user_id                 478967 non-null  int64  \n",
      " 2   order_number            478967 non-null  int64  \n",
      " 3   order_dow               478967 non-null  int64  \n",
      " 4   order_hour_of_day       478967 non-null  int64  \n",
      " 5   days_since_prior_order  450148 non-null  float64\n",
      "dtypes: float64(1), int64(5)\n",
      "memory usage: 21.9 MB\n",
      "\n",
      "   order_id  user_id  order_number  order_dow  order_hour_of_day  \\\n",
      "0   1515936   183418            11          6                 13   \n",
      "1   1690866   163593             5          5                 12   \n",
      "2   1454967    39980             4          5                 19   \n",
      "3   1768857    82516            56          0                 20   \n",
      "4   3007858   196724             2          4                 12   \n",
      "\n",
      "   days_since_prior_order  \n",
      "0                    30.0  \n",
      "1                     9.0  \n",
      "2                     2.0  \n",
      "3                    10.0  \n",
      "4                    17.0  \n"
     ]
    }
   ],
   "source": [
    " # Información del DataFrame orders\n",
    "orders.info(show_counts = True)\n",
    "print()\n",
    "print(orders.head())"
   ]
  },
  {
   "cell_type": "code",
   "execution_count": 4,
   "id": "5130e05e",
   "metadata": {
    "id": "5130e05e"
   },
   "outputs": [
    {
     "name": "stdout",
     "output_type": "stream",
     "text": [
      "<class 'pandas.core.frame.DataFrame'>\n",
      "RangeIndex: 49694 entries, 0 to 49693\n",
      "Data columns (total 4 columns):\n",
      " #   Column         Non-Null Count  Dtype \n",
      "---  ------         --------------  ----- \n",
      " 0   product_id     49694 non-null  int64 \n",
      " 1   product_name   48436 non-null  object\n",
      " 2   aisle_id       49694 non-null  int64 \n",
      " 3   department_id  49694 non-null  int64 \n",
      "dtypes: int64(3), object(1)\n",
      "memory usage: 1.5+ MB\n",
      "\n",
      "   product_id                                       product_name  aisle_id  \\\n",
      "0           1                         Chocolate Sandwich Cookies        61   \n",
      "1           2                                   All-Seasons Salt       104   \n",
      "2           3               Robust Golden Unsweetened Oolong Tea        94   \n",
      "3           4  Smart Ones Classic Favorites Mini Rigatoni Wit...        38   \n",
      "4           5                          Green Chile Anytime Sauce         5   \n",
      "\n",
      "   department_id  \n",
      "0             19  \n",
      "1             13  \n",
      "2              7  \n",
      "3              1  \n",
      "4             13  \n"
     ]
    }
   ],
   "source": [
    "# Información del DataFrame products\n",
    "products.info(show_counts = True)\n",
    "print()\n",
    "\n",
    "print(products.head())"
   ]
  },
  {
   "cell_type": "code",
   "execution_count": 5,
   "id": "d8370c05",
   "metadata": {
    "id": "d8370c05"
   },
   "outputs": [
    {
     "name": "stdout",
     "output_type": "stream",
     "text": [
      "<class 'pandas.core.frame.DataFrame'>\n",
      "RangeIndex: 4545007 entries, 0 to 4545006\n",
      "Data columns (total 4 columns):\n",
      " #   Column             Non-Null Count    Dtype  \n",
      "---  ------             --------------    -----  \n",
      " 0   order_id           4545007 non-null  int64  \n",
      " 1   product_id         4545007 non-null  int64  \n",
      " 2   add_to_cart_order  4544171 non-null  float64\n",
      " 3   reordered          4545007 non-null  int64  \n",
      "dtypes: float64(1), int64(3)\n",
      "memory usage: 138.7 MB\n",
      "\n",
      "   order_id  product_id  add_to_cart_order  reordered\n",
      "0   2141543       11440               17.0          0\n",
      "1    567889        1560                1.0          1\n",
      "2   2261212       26683                1.0          1\n",
      "3    491251        8670               35.0          1\n",
      "4   2571142        1940                5.0          1\n"
     ]
    }
   ],
   "source": [
    "# Información del DataFrame order_products\n",
    "order_products.info(show_counts = True) \n",
    "print()\n",
    "\n",
    "print(order_products.head())"
   ]
  },
  {
   "cell_type": "code",
   "execution_count": 6,
   "id": "59e2090f",
   "metadata": {
    "id": "59e2090f"
   },
   "outputs": [
    {
     "name": "stdout",
     "output_type": "stream",
     "text": [
      "<class 'pandas.core.frame.DataFrame'>\n",
      "RangeIndex: 134 entries, 0 to 133\n",
      "Data columns (total 2 columns):\n",
      " #   Column    Non-Null Count  Dtype \n",
      "---  ------    --------------  ----- \n",
      " 0   aisle_id  134 non-null    int64 \n",
      " 1   aisle     134 non-null    object\n",
      "dtypes: int64(1), object(1)\n",
      "memory usage: 2.2+ KB\n",
      "\n",
      "   aisle_id                       aisle\n",
      "0         1       prepared soups salads\n",
      "1         2           specialty cheeses\n",
      "2         3         energy granola bars\n",
      "3         4               instant foods\n",
      "4         5  marinades meat preparation\n"
     ]
    }
   ],
   "source": [
    "# Información del DataFrame aisles\n",
    "aisles.info(show_counts = True) \n",
    "print()\n",
    "\n",
    "print(aisles.head())"
   ]
  },
  {
   "cell_type": "code",
   "execution_count": 7,
   "id": "6fc81694",
   "metadata": {
    "id": "6fc81694"
   },
   "outputs": [
    {
     "name": "stdout",
     "output_type": "stream",
     "text": [
      "<class 'pandas.core.frame.DataFrame'>\n",
      "RangeIndex: 21 entries, 0 to 20\n",
      "Data columns (total 2 columns):\n",
      " #   Column         Non-Null Count  Dtype \n",
      "---  ------         --------------  ----- \n",
      " 0   department_id  21 non-null     int64 \n",
      " 1   department     21 non-null     object\n",
      "dtypes: int64(1), object(1)\n",
      "memory usage: 464.0+ bytes\n",
      "\n",
      "   department_id department\n",
      "0              1     frozen\n",
      "1              2      other\n",
      "2              3     bakery\n",
      "3              4    produce\n",
      "4              5    alcohol\n"
     ]
    }
   ],
   "source": [
    " # Información del DataFrame departments\n",
    "departments.info(show_counts = True)\n",
    "print()\n",
    "\n",
    "print(departments.head())"
   ]
  },
  {
   "cell_type": "markdown",
   "id": "t75BD19oaR5f",
   "metadata": {
    "id": "t75BD19oaR5f"
   },
   "source": [
    "## Conclusiones\n",
    "\n",
    "**1. Completitud y Calidad de los Datos**:\n",
    "\n",
    "* La mayoría de los DataFrames contienen valores nulos en algunas de sus columnas. Específicamente, **`orders`** y **`products`** muestran ausencias que podrían afectar los análisis relacionados con la frecuencia de pedidos y la popularidad de los productos, respectivamente.\n",
    "\n",
    "\n",
    "* El DataFrame **`order_products`**, aunque es el más grande, muestra una alta integridad con solo unos pocos valores nulos en **`add_to_cart_order`**. Esto indica un registro de datos bastante confiable para los detalles de los pedidos.\n",
    "\n",
    "**2. Tipos de Datos:**\n",
    "\n",
    "* Los tipos de datos parecen adecuados para la mayoría de las columnas, aunque algunas, como **`days_since_prior_order`** en **`orders`** y **`add_to_cart_order`** en **`order_products`**, podrían necesitar ajustes si decidimos tratar todos los valores como enteros.\n",
    "\n",
    "**3. Potencial para Análisis:**\n",
    "\n",
    "* Los datos ofrecen un gran potencial para analizar comportamientos de compra, frecuencias de pedido, y preferencias de productos entre los usuarios de Instacart.\n",
    "\n",
    "\n",
    "* Las relaciones entre los diferentes DataFrames (como productos y departamentos, o pedidos y productos) permitirán análisis multidimensionales que pueden revelar patrones interesantes y útiles.\n"
   ]
  },
  {
   "cell_type": "markdown",
   "id": "8RJHqxVmaVsF",
   "metadata": {
    "id": "8RJHqxVmaVsF"
   },
   "source": [
    "# Paso 2. Preprocesamiento de los datos\n",
    "\n",
    "Preprocesaremos los datos de la siguiente manera:\n",
    "\n",
    "- Verificar y corregir los tipos de datos (por ejemplo, asegurarse de que las columnas de ID sean números enteros).\n",
    "\n",
    "- Identifica y completa los valores ausentes.\n",
    "\n",
    "- Identifica y elimina los valores duplicados.\n",
    "\n",
    "Explicar qué tipos de valores ausentes y duplicados encontraste, cómo los completaste o eliminaste y por qué usaste esos métodos. ¿Por qué crees que estos valores ausentes y duplicados pueden haber estado presentes en el conjunto de datos?"
   ]
  },
  {
   "cell_type": "markdown",
   "id": "p6poABZQaZYb",
   "metadata": {
    "id": "p6poABZQaZYb"
   },
   "source": [
    "## Plan de solución\n",
    "\n",
    "**1. Verificación y Corrección de Tipos de Datos**\n",
    "\n",
    "* **Columnas de ID**: Asegurarme de que `order_id`, `user_id`, `product_id`, `aisle_id`, y `department_id` estén en formato entero. Utilizaré `pd.to_numeric()` o `astype(int)` según sea necesario.\n",
    "\n",
    "\n",
    "* **Datos Temporales**: Verificar que `order_hour_of_day` y `order_dow` estén dentro de los rangos apropiados (0-23 para horas y 0-6 para días de la semana) y corregir cualquier valor atípico.\n",
    "\n",
    "\n",
    "* **Datos Flotantes**: Convertir `days_since_prior_order` y `add_to_cart_order a enteros`, tratando adecuadamente los valores nulos para evitar errores de conversión.\n",
    "\n",
    "**2. Identificación y Completación de Valores Ausentes**\n",
    "\n",
    "* **Detección de Nulos**: Usaré `df.isnull().sum()` para identificar columnas con valores ausentes en cada DataFrame.\n",
    "\n",
    "\n",
    "* **Tratamiento de Nulos**:\n",
    "\n",
    "\n",
    "  - **`days_since_prior_order`**: Podría dejar estos valores como `NaN` si representan el primer pedido de un cliente, o imputar un `valor específico` si se necesita mantener la `integridad numérica`.\n",
    "\n",
    "\n",
    "  - **`product_name`**: Imputar los nombres de productos faltantes con 'Unknown Product' para mantener la integridad de los análisis relacionados.\n",
    "\n",
    "\n",
    "  - **`add_to_cart_order`**: Imputar los valores faltantes basándome en el máximo `add_to_cart_order` más uno para cada `order_id` correspondiente.\n",
    "\n",
    "\n",
    "**3. Identificación y Eliminación de Valores Duplicados**\n",
    "\n",
    "\n",
    "* **Revisión de Duplicados**: Comprobar registros duplicados en cada DataFrame usando `df.duplicated().sum()`.\n",
    "\n",
    "\n",
    "* **Eliminación de Duplicados**: Si se encuentran duplicados, los eliminaré con `df.drop_duplicates()`, asegurando que cada registro en la base de datos sea único.\n",
    "\n",
    "\n",
    "**Razones Detrás del Preprocesamiento**\n",
    "\n",
    "\n",
    "* **Valores Ausentes**: Pueden ser causados por errores de entrada de datos, fallos en la recopilación de datos, o características específicas del proceso de negocio (como nuevos usuarios).\n",
    "\n",
    "\n",
    "* **Duplicados**: Podrían ser el resultado de errores de carga de datos, problemas de sincronización en sistemas, o múltiples ingresos de la misma transacción.\n",
    "\n",
    "\n",
    "Este plan de preprocesamiento se centrará en la limpieza y corrección de los datos para asegurar que son aptos para análisis. Al final de este paso, los datos estarán listos para ser analizados profundamente en las etapas subsecuentes del proyecto, lo que permitirá generar insights precisos y útiles sobre los hábitos de compra de los clientes de Instacart."
   ]
  },
  {
   "cell_type": "markdown",
   "id": "07357848-dc64-4156-9cc3-01ff4365226d",
   "metadata": {
    "id": "07357848-dc64-4156-9cc3-01ff4365226d"
   },
   "source": [
    "## Tratamiento de valores duplicados"
   ]
  },
  {
   "cell_type": "markdown",
   "id": "f179f0a9",
   "metadata": {
    "id": "f179f0a9"
   },
   "source": [
    "### `orders` data frame"
   ]
  },
  {
   "cell_type": "code",
   "execution_count": 8,
   "id": "b99297a5-405a-463d-8535-9adc3da4ad74",
   "metadata": {
    "id": "b99297a5-405a-463d-8535-9adc3da4ad74"
   },
   "outputs": [
    {
     "data": {
      "text/plain": [
       "15"
      ]
     },
     "execution_count": 8,
     "metadata": {},
     "output_type": "execute_result"
    }
   ],
   "source": [
    "orders.duplicated().sum() # Revisar si hay pedidos duplicados"
   ]
  },
  {
   "cell_type": "code",
   "execution_count": 9,
   "id": "c198ab37",
   "metadata": {},
   "outputs": [
    {
     "data": {
      "text/html": [
       "<div>\n",
       "<style scoped>\n",
       "    .dataframe tbody tr th:only-of-type {\n",
       "        vertical-align: middle;\n",
       "    }\n",
       "\n",
       "    .dataframe tbody tr th {\n",
       "        vertical-align: top;\n",
       "    }\n",
       "\n",
       "    .dataframe thead th {\n",
       "        text-align: right;\n",
       "    }\n",
       "</style>\n",
       "<table border=\"1\" class=\"dataframe\">\n",
       "  <thead>\n",
       "    <tr style=\"text-align: right;\">\n",
       "      <th></th>\n",
       "      <th>order_id</th>\n",
       "      <th>user_id</th>\n",
       "      <th>order_number</th>\n",
       "      <th>order_dow</th>\n",
       "      <th>order_hour_of_day</th>\n",
       "      <th>days_since_prior_order</th>\n",
       "    </tr>\n",
       "  </thead>\n",
       "  <tbody>\n",
       "    <tr>\n",
       "      <th>145574</th>\n",
       "      <td>794638</td>\n",
       "      <td>50898</td>\n",
       "      <td>24</td>\n",
       "      <td>3</td>\n",
       "      <td>2</td>\n",
       "      <td>2.0</td>\n",
       "    </tr>\n",
       "    <tr>\n",
       "      <th>223105</th>\n",
       "      <td>2160484</td>\n",
       "      <td>107525</td>\n",
       "      <td>16</td>\n",
       "      <td>3</td>\n",
       "      <td>2</td>\n",
       "      <td>30.0</td>\n",
       "    </tr>\n",
       "    <tr>\n",
       "      <th>230807</th>\n",
       "      <td>1918001</td>\n",
       "      <td>188546</td>\n",
       "      <td>14</td>\n",
       "      <td>3</td>\n",
       "      <td>2</td>\n",
       "      <td>16.0</td>\n",
       "    </tr>\n",
       "    <tr>\n",
       "      <th>266232</th>\n",
       "      <td>1782114</td>\n",
       "      <td>106752</td>\n",
       "      <td>1</td>\n",
       "      <td>3</td>\n",
       "      <td>2</td>\n",
       "      <td>NaN</td>\n",
       "    </tr>\n",
       "    <tr>\n",
       "      <th>273805</th>\n",
       "      <td>1112182</td>\n",
       "      <td>202304</td>\n",
       "      <td>84</td>\n",
       "      <td>3</td>\n",
       "      <td>2</td>\n",
       "      <td>6.0</td>\n",
       "    </tr>\n",
       "    <tr>\n",
       "      <th>284038</th>\n",
       "      <td>2845099</td>\n",
       "      <td>31189</td>\n",
       "      <td>11</td>\n",
       "      <td>3</td>\n",
       "      <td>2</td>\n",
       "      <td>7.0</td>\n",
       "    </tr>\n",
       "    <tr>\n",
       "      <th>311713</th>\n",
       "      <td>1021560</td>\n",
       "      <td>53767</td>\n",
       "      <td>3</td>\n",
       "      <td>3</td>\n",
       "      <td>2</td>\n",
       "      <td>9.0</td>\n",
       "    </tr>\n",
       "    <tr>\n",
       "      <th>321100</th>\n",
       "      <td>408114</td>\n",
       "      <td>68324</td>\n",
       "      <td>4</td>\n",
       "      <td>3</td>\n",
       "      <td>2</td>\n",
       "      <td>18.0</td>\n",
       "    </tr>\n",
       "    <tr>\n",
       "      <th>323900</th>\n",
       "      <td>1919531</td>\n",
       "      <td>191501</td>\n",
       "      <td>32</td>\n",
       "      <td>3</td>\n",
       "      <td>2</td>\n",
       "      <td>7.0</td>\n",
       "    </tr>\n",
       "    <tr>\n",
       "      <th>345917</th>\n",
       "      <td>2232988</td>\n",
       "      <td>82565</td>\n",
       "      <td>1</td>\n",
       "      <td>3</td>\n",
       "      <td>2</td>\n",
       "      <td>NaN</td>\n",
       "    </tr>\n",
       "    <tr>\n",
       "      <th>371905</th>\n",
       "      <td>391768</td>\n",
       "      <td>57671</td>\n",
       "      <td>19</td>\n",
       "      <td>3</td>\n",
       "      <td>2</td>\n",
       "      <td>10.0</td>\n",
       "    </tr>\n",
       "    <tr>\n",
       "      <th>394347</th>\n",
       "      <td>467134</td>\n",
       "      <td>63189</td>\n",
       "      <td>21</td>\n",
       "      <td>3</td>\n",
       "      <td>2</td>\n",
       "      <td>2.0</td>\n",
       "    </tr>\n",
       "    <tr>\n",
       "      <th>411408</th>\n",
       "      <td>1286742</td>\n",
       "      <td>183220</td>\n",
       "      <td>48</td>\n",
       "      <td>3</td>\n",
       "      <td>2</td>\n",
       "      <td>4.0</td>\n",
       "    </tr>\n",
       "    <tr>\n",
       "      <th>415163</th>\n",
       "      <td>2282673</td>\n",
       "      <td>86751</td>\n",
       "      <td>49</td>\n",
       "      <td>3</td>\n",
       "      <td>2</td>\n",
       "      <td>2.0</td>\n",
       "    </tr>\n",
       "    <tr>\n",
       "      <th>441599</th>\n",
       "      <td>2125197</td>\n",
       "      <td>14050</td>\n",
       "      <td>48</td>\n",
       "      <td>3</td>\n",
       "      <td>2</td>\n",
       "      <td>3.0</td>\n",
       "    </tr>\n",
       "  </tbody>\n",
       "</table>\n",
       "</div>"
      ],
      "text/plain": [
       "        order_id  user_id  order_number  order_dow  order_hour_of_day  \\\n",
       "145574    794638    50898            24          3                  2   \n",
       "223105   2160484   107525            16          3                  2   \n",
       "230807   1918001   188546            14          3                  2   \n",
       "266232   1782114   106752             1          3                  2   \n",
       "273805   1112182   202304            84          3                  2   \n",
       "284038   2845099    31189            11          3                  2   \n",
       "311713   1021560    53767             3          3                  2   \n",
       "321100    408114    68324             4          3                  2   \n",
       "323900   1919531   191501            32          3                  2   \n",
       "345917   2232988    82565             1          3                  2   \n",
       "371905    391768    57671            19          3                  2   \n",
       "394347    467134    63189            21          3                  2   \n",
       "411408   1286742   183220            48          3                  2   \n",
       "415163   2282673    86751            49          3                  2   \n",
       "441599   2125197    14050            48          3                  2   \n",
       "\n",
       "        days_since_prior_order  \n",
       "145574                     2.0  \n",
       "223105                    30.0  \n",
       "230807                    16.0  \n",
       "266232                     NaN  \n",
       "273805                     6.0  \n",
       "284038                     7.0  \n",
       "311713                     9.0  \n",
       "321100                    18.0  \n",
       "323900                     7.0  \n",
       "345917                     NaN  \n",
       "371905                    10.0  \n",
       "394347                     2.0  \n",
       "411408                     4.0  \n",
       "415163                     2.0  \n",
       "441599                     3.0  "
      ]
     },
     "execution_count": 9,
     "metadata": {},
     "output_type": "execute_result"
    }
   ],
   "source": [
    "duplicated_orders = orders[orders.duplicated()] # Creamos un Dataframe llamado duplicated_orders para visualizar la data\n",
    "duplicated_orders"
   ]
  },
  {
   "cell_type": "markdown",
   "id": "PEkwUX_gvt5A",
   "metadata": {
    "id": "PEkwUX_gvt5A"
   },
   "source": [
    "#### ¿Existen líneas duplicadas? Si sí, ¿qué tienen en común?"
   ]
  },
  {
   "cell_type": "markdown",
   "id": "6bcd0a10",
   "metadata": {},
   "source": [
    "* Todos se realizaron un miércoles (**order_dow = 3**).\n",
    "\n",
    "\n",
    "* Todos se realizaron a las 2:00 a.m. (**order_hour_of_day = 2**).\n",
    "\n",
    "\n",
    "* Variabilidad en **days_since_prior_order**, con algunos valores nulos que podrían indicar primeros pedidos."
   ]
  },
  {
   "cell_type": "markdown",
   "id": "8a79fcf6",
   "metadata": {
    "id": "0d44de5d"
   },
   "source": [
    "#### Verifica todos los pedidos que se hicieron el miércoles a las 2:00 a.m.\n"
   ]
  },
  {
   "cell_type": "code",
   "execution_count": 10,
   "id": "676512c1",
   "metadata": {},
   "outputs": [
    {
     "name": "stdout",
     "output_type": "stream",
     "text": [
      "<class 'pandas.core.frame.DataFrame'>\n",
      "Int64Index: 121 entries, 4838 to 477526\n",
      "Data columns (total 6 columns):\n",
      " #   Column                  Non-Null Count  Dtype  \n",
      "---  ------                  --------------  -----  \n",
      " 0   order_id                121 non-null    int64  \n",
      " 1   user_id                 121 non-null    int64  \n",
      " 2   order_number            121 non-null    int64  \n",
      " 3   order_dow               121 non-null    int64  \n",
      " 4   order_hour_of_day       121 non-null    int64  \n",
      " 5   days_since_prior_order  114 non-null    float64\n",
      "dtypes: float64(1), int64(5)\n",
      "memory usage: 6.6 KB\n"
     ]
    }
   ],
   "source": [
    "# Filtrar los pedidos hechos el miércoles a las 2:00 a.m. en el DataFrame 'orders'\n",
    "wednesday_2am_orders = orders[(orders['order_dow'] == 3) & (orders['order_hour_of_day'] == 2)]\n",
    "\n",
    "# Examinar los resultados\n",
    "wednesday_2am_orders.info()"
   ]
  },
  {
   "cell_type": "markdown",
   "id": "vu2OWyoqwOx5",
   "metadata": {
    "id": "vu2OWyoqwOx5"
   },
   "source": [
    "#### ¿Qué sugiere tal resultado?"
   ]
  },
  {
   "cell_type": "markdown",
   "id": "e0481eb2",
   "metadata": {},
   "source": [
    "1. **Patrón de Comportamiento Consistente**: Existen 121 pedidos realizados en este horario específico, lo que puede indicar una preferencia de algunos usuarios por comprar durante horas no pico o reflejar el impacto de promociones específicas.\n",
    "\n",
    "\n",
    "2. **Alta Integridad de Datos**: Excepto por **days_since_prior_order**, donde hay 7 valores nulos, todos los campos están completos, indicando que la mayoría de los datos están bien mantenidos.\n",
    "\n",
    "\n",
    "3. **Posibles Primeros Pedidos**: Los valores nulos en **days_since_prior_order** sugieren que algunos de estos pedidos podrían ser los primeros realizados por esos usuarios, señalando posibles nuevas adquisiciones de clientes o problemas en la captura de datos.\n",
    "\n",
    "\n",
    "4. **Implicaciones y Acciones Sugeridas**:\n",
    "\n",
    "  * **Análisis Profundo**: Investigar más sobre estos usuarios y sus comportamientos de compra podría revelar oportunidades para mejorar la retención y satisfacción del cliente.\n",
    "\n",
    "  * **Revisión de Promociones y Logística**: Evaluar la efectividad de cualquier promoción durante este horario y asegurar que la logística soporte la demanda."
   ]
  },
  {
   "cell_type": "markdown",
   "id": "9bbb3bb0",
   "metadata": {
    "id": "480563c7"
   },
   "source": [
    "#### Elimina los pedidos duplicados\n"
   ]
  },
  {
   "cell_type": "code",
   "execution_count": 11,
   "id": "fd8dc96f",
   "metadata": {},
   "outputs": [
    {
     "name": "stdout",
     "output_type": "stream",
     "text": [
      "(478952, 6)\n"
     ]
    }
   ],
   "source": [
    "# Eliminar duplicados\n",
    "orders = orders.drop_duplicates(keep='first')\n",
    "\n",
    "# Resetear indice al nuevo conjunto de datos\n",
    "orders = orders.reset_index()\n",
    "\n",
    "# Verificar tamaño del DataFrame después de eliminar todos los duplicados\n",
    "print(orders.shape)"
   ]
  },
  {
   "cell_type": "code",
   "execution_count": 12,
   "id": "0b2396a2",
   "metadata": {
    "id": "0b2396a2"
   },
   "outputs": [
    {
     "data": {
      "text/plain": [
       "0"
      ]
     },
     "execution_count": 12,
     "metadata": {},
     "output_type": "execute_result"
    }
   ],
   "source": [
    "# Verificar si hay filas duplicadas\n",
    "orders.duplicated().sum() "
   ]
  },
  {
   "cell_type": "markdown",
   "id": "8c58fb46",
   "metadata": {
    "id": "f6113ef1"
   },
   "source": [
    "#### Vuelve a verificar únicamente si hay IDs duplicados de pedidos\n"
   ]
  },
  {
   "cell_type": "code",
   "execution_count": 13,
   "id": "97d69197",
   "metadata": {},
   "outputs": [
    {
     "name": "stdout",
     "output_type": "stream",
     "text": [
      "No hay IDs de pedido duplicados.\n"
     ]
    }
   ],
   "source": [
    "# Contar las ocurrencias de cada order_id\n",
    "order_id_counts = orders['order_id'].value_counts()\n",
    "\n",
    "# Filtrar para encontrar aquellos order_id que aparecen más de una vez\n",
    "duplicate_order_ids = order_id_counts[order_id_counts > 1]\n",
    "\n",
    "# Imprimir los IDs de pedido duplicados y cuántas veces aparecen, si hay alguno\n",
    "if len(duplicate_order_ids) > 0:\n",
    "    print(f'IDs de pedido duplicados: {duplicate_order_ids}')\n",
    "else:\n",
    "    print('No hay IDs de pedido duplicados.')"
   ]
  },
  {
   "cell_type": "markdown",
   "id": "5e8905ae",
   "metadata": {
    "id": "5e8905ae"
   },
   "source": [
    "1. **Eliminación de Duplicados**: Utilizamos el método `drop_duplicates()` para remover todas las filas duplicadas en el DataFrame orders. Esto resultó en una ligera reducción del tamaño del DataFrame.\n",
    "\n",
    "\n",
    "2. **Verificación de Duplicidad**: Confirmamos que no quedaban filas duplicadas en el DataFrame después de la limpieza inicial, como mostró el resultado 0 de `orders.duplicated().sum()`.\n",
    "\n",
    "\n",
    "3. **Unicidad de order_id**: Realizamos una verificación específica para asegurar que cada `order_id` fuera único, utilizando `value_counts()` y filtrando los resultados. Confirmamos que no hay duplicados en los IDs de pedido, validando así la unicidad de cada registro en términos de identificación del pedido."
   ]
  },
  {
   "cell_type": "markdown",
   "id": "45e6bc46",
   "metadata": {
    "id": "45e6bc46"
   },
   "source": [
    "### `products` data frame"
   ]
  },
  {
   "cell_type": "markdown",
   "id": "4da32908",
   "metadata": {
    "id": "5f526b5b-8175-46fa-a0fd-441767d50e64"
   },
   "source": [
    "#### Verifica si hay filas totalmente duplicadas\n"
   ]
  },
  {
   "cell_type": "code",
   "execution_count": 14,
   "id": "91f72410",
   "metadata": {},
   "outputs": [
    {
     "data": {
      "text/plain": [
       "0"
      ]
     },
     "execution_count": 14,
     "metadata": {},
     "output_type": "execute_result"
    }
   ],
   "source": [
    "# Verificar filas completamente duplicadas en el DataFrame 'products'\n",
    "duplicated_products_rows = products.duplicated(keep=False)\n",
    "\n",
    "# Contar el número de filas duplicadas\n",
    "num_of_duplicated_products_rows = duplicated_products_rows.sum()\n",
    "\n",
    "# Imprimir el número de filas duplicadas\n",
    "num_of_duplicated_products_rows"
   ]
  },
  {
   "cell_type": "markdown",
   "id": "f40ef2d1",
   "metadata": {
    "id": "88daa4f4"
   },
   "source": [
    "#### Revisa únicamente si hay ID de departamentos duplicados\n"
   ]
  },
  {
   "cell_type": "code",
   "execution_count": 15,
   "id": "884c6b19",
   "metadata": {},
   "outputs": [
    {
     "name": "stdout",
     "output_type": "stream",
     "text": [
      "IDs de departamento duplicados: 21\n"
     ]
    }
   ],
   "source": [
    "# Contar las ocurrencias de cada department_id y encontrar duplicados\n",
    "department_id_counts = products['department_id'].value_counts()\n",
    "\n",
    "# Filtrar para encontrar aquellos department_id que aparecen más de una vez\n",
    "duplicate_department_ids = department_id_counts[department_id_counts > 1]\n",
    "\n",
    "# Imprimir los IDs de departamento duplicados, si los hay\n",
    "if len(duplicate_department_ids) > 0:\n",
    "    print(f'IDs de departamento duplicados: {len(duplicate_department_ids)}')\n",
    "else:\n",
    "    print('No hay IDs de departamento duplicados.')"
   ]
  },
  {
   "cell_type": "markdown",
   "id": "ebb84fe3",
   "metadata": {
    "id": "c773f0bf"
   },
   "source": [
    "#### Revisa únicamente si hay nombres duplicados de productos (convierte los nombres a letras mayúsculas para compararlos mejor)\n"
   ]
  },
  {
   "cell_type": "code",
   "execution_count": 16,
   "id": "fc7e67ab",
   "metadata": {},
   "outputs": [
    {
     "name": "stdout",
     "output_type": "stream",
     "text": [
      "Nombres de productos duplicados: 103\n"
     ]
    }
   ],
   "source": [
    "# Convertir los nombres de productos a mayúsculas y contar las ocurrencias\n",
    "product_name_counts = products['product_name'].str.upper().value_counts()\n",
    "\n",
    "# Filtrar para encontrar aquellos nombres de productos que aparecen más de una vez\n",
    "duplicate_product_names = product_name_counts[product_name_counts > 1]\n",
    "\n",
    "# Imprimir la cantidad de nombres de productos duplicado\n",
    "if len(duplicate_product_names) > 0:\n",
    "    print(f'Nombres de productos duplicados: {len(duplicate_product_names)}')\n",
    "else:\n",
    "    print('No hay nombres de productos duplicados.')"
   ]
  },
  {
   "cell_type": "markdown",
   "id": "8405586f",
   "metadata": {
    "id": "01efd02e"
   },
   "source": [
    "#### Revisa si hay nombres duplicados de productos no faltantes\n"
   ]
  },
  {
   "cell_type": "code",
   "execution_count": 17,
   "id": "dcf91940",
   "metadata": {},
   "outputs": [
    {
     "name": "stdout",
     "output_type": "stream",
     "text": [
      "Nombres de productos duplicados (no faltantes): 103\n"
     ]
    }
   ],
   "source": [
    "# Filtrar nombres de productos que no son nulos, convertir a mayúsculas y contar las ocurrencias\n",
    "product_name_counts = products['product_name'].dropna().str.upper().value_counts()\n",
    "\n",
    "# Filtrar para encontrar aquellos nombres de productos que aparecen más de una vez\n",
    "duplicate_product_names = product_name_counts[product_name_counts > 1]\n",
    "\n",
    "# Imprimir la cantidad de nombres de productos duplicados y los detalles si existen\n",
    "if len(duplicate_product_names) > 0:\n",
    "    print(f'Nombres de productos duplicados (no faltantes): {len(duplicate_product_names)}')\n",
    "else:\n",
    "    print('No hay nombres de productos duplicados (no faltantes).')"
   ]
  },
  {
   "cell_type": "markdown",
   "id": "9da8d293",
   "metadata": {
    "id": "9da8d293"
   },
   "source": [
    "Describe brevemente tus hallazgos y lo que hiciste con ellos."
   ]
  },
  {
   "cell_type": "markdown",
   "id": "b1601e37",
   "metadata": {},
   "source": [
    "**1. Verificación de Filas Completamente Duplicadas**\n",
    "\n",
    "* **Resultado**: No se encontró filas completamente duplicadas en el DataFrame products.\n",
    "\n",
    "* **Acción**: No se requirieron acciones adicionales ya que no había duplicados completos para eliminar.\n",
    "\n",
    "**2. Verificación de IDs de Departamentos Duplicados**\n",
    "\n",
    "* **Resultado**: Se detecto que todos los department_id en el DataFrame aparecían más de una vez, lo cual es esperado y correcto, ya que varios productos pueden pertenecer al mismo departamento.\n",
    "\n",
    "* **Acción**: Se confirmó la presencia de múltiples productos bajo el mismo `department_id` es un comportamiento normal y no un error, por lo que no se tomaron medidas correctivas.\n",
    "\n",
    "**3. Verificación de Nombres de Productos Duplicados**\n",
    "\n",
    "* **Resultado**: Identifiqué 103 nombres de productos duplicados al convertir todos los nombres a mayúsculas para una comparación consistente.\n",
    "\n",
    "* **Acción**: En un sistema de gestión de inventario o en un catálogo de productos, generalmente se espera que cada nombre de producto único (product_name) esté asociado con un único `product_id`. Por lo tanto, se eliminaron aquellas filas con `product_name` duplicado. Además,eliminaron las filas que contenian al menos un valor nulo en el Dataframe `products`\n",
    "\n",
    "**4. Verificación de Nombres de Productos Duplicados No Faltantes**\n",
    "\n",
    "* **Resultado**: Confirmaste que también hay 103 nombres de productos duplicados cuando excluyes aquellos que son nulos.\n",
    "\n",
    "* **Acción**: Este resultado es consistente con el anterior y refuerza la necesidad de revisar los nombres de productos para asegurar su precisión y unicidad. La acción recomendada sería similar: evaluar y corregir los duplicados para mejorar la calidad de los datos."
   ]
  },
  {
   "cell_type": "markdown",
   "id": "60f30db1",
   "metadata": {
    "id": "60f30db1"
   },
   "source": [
    "### `departments` data frame"
   ]
  },
  {
   "cell_type": "markdown",
   "id": "a5d8f75c",
   "metadata": {
    "id": "fb410ad4-0fbf-4b80-bb09-23fdea79afe3"
   },
   "source": [
    "#### Revisa si hay filas totalmente duplicadas"
   ]
  },
  {
   "cell_type": "code",
   "execution_count": 18,
   "id": "3d6fe118",
   "metadata": {},
   "outputs": [
    {
     "name": "stdout",
     "output_type": "stream",
     "text": [
      "Número de filas totalmente duplicadas en departments_df: 0\n"
     ]
    }
   ],
   "source": [
    "# Revisar filas completamente duplicadas en el DataFrame 'departments'\n",
    "duplicated_departments_rows = departments.duplicated(keep=False)\n",
    "\n",
    "# Contar el número de filas duplicadas\n",
    "num_of_duplicated_departments_rows = duplicated_departments_rows.sum()\n",
    "\n",
    "# Imprimir el número de filas duplicadas\n",
    "print(f'Número de filas totalmente duplicadas en departments_df: {num_of_duplicated_departments_rows}')"
   ]
  },
  {
   "cell_type": "markdown",
   "id": "410d81d8",
   "metadata": {
    "id": "332b12bb"
   },
   "source": [
    "#### Revisa únicamente si hay IDs duplicadas de productos"
   ]
  },
  {
   "cell_type": "markdown",
   "id": "d812bc30",
   "metadata": {},
   "source": [
    "Para verificar si existen IDs de productos duplicados en el DataFrame departments, necesitamos aclarar que normalmente el DataFrame departments no contiene product_id ya que típicamente almacena solo department_id y department. Sin embargo, si el enunciado consistía en revisar si hay IDs duplicados para la tabla departments, aquí está cómo podrías hacerlo:"
   ]
  },
  {
   "cell_type": "code",
   "execution_count": 19,
   "id": "a4f39dd8",
   "metadata": {},
   "outputs": [
    {
     "name": "stdout",
     "output_type": "stream",
     "text": [
      "No hay IDs de departamento duplicados.\n"
     ]
    }
   ],
   "source": [
    "# Contar las ocurrencias de cada department_id\n",
    "department_id_counts = departments['department_id'].value_counts()\n",
    "\n",
    "# Filtrar para encontrar aquellos department_id que aparecen más de una vez\n",
    "duplicate_department_ids = department_id_counts[department_id_counts > 1]\n",
    "\n",
    "# Imprimir los IDs de departamento duplicados y cuántas veces aparecen, si hay alguno\n",
    "if len(duplicate_department_ids) > 0:\n",
    "    print(f'IDs de departamento duplicados: {duplicate_department_ids}')\n",
    "else:\n",
    "    print('No hay IDs de departamento duplicados.')"
   ]
  },
  {
   "cell_type": "markdown",
   "id": "bd30d78e",
   "metadata": {
    "id": "bd30d78e"
   },
   "source": [
    "Describe brevemente tus hallazgos y lo que hiciste con ellos."
   ]
  },
  {
   "cell_type": "markdown",
   "id": "4987215e",
   "metadata": {},
   "source": [
    "1. **Filas Duplicadas**: Confirmamos que no existen filas completamente duplicadas en el DataFrame departments, asegurando que cada entrada en este conjunto de datos es única.\n",
    "\n",
    "\n",
    "2. **IDs de Departamento Duplicados**: Verificamos que no hay duplicados en los `department_id`, validando que cada departamento está correctamente identificado por un único ID, lo cual es esencial para mantener la integridad de los datos."
   ]
  },
  {
   "cell_type": "markdown",
   "id": "889349c1",
   "metadata": {
    "id": "889349c1"
   },
   "source": [
    "### `aisles` data frame"
   ]
  },
  {
   "cell_type": "markdown",
   "id": "5bff7c2c",
   "metadata": {
    "id": "9da89fb9-4679-40f5-ad0d-c34df753a3f8"
   },
   "source": [
    "#### Revisa si hay filas totalmente duplicadas"
   ]
  },
  {
   "cell_type": "code",
   "execution_count": 20,
   "id": "02af29c3",
   "metadata": {},
   "outputs": [
    {
     "name": "stdout",
     "output_type": "stream",
     "text": [
      "Número de filas totalmente duplicadas en aisles_df: 0\n"
     ]
    }
   ],
   "source": [
    "# Revisar filas completamente duplicadas en el DataFrame 'aisles'\n",
    "duplicated_aisles_rows = aisles.duplicated(keep=False)\n",
    "\n",
    "# Contar el número de filas duplicadas\n",
    "num_of_duplicated_aisles_rows = duplicated_aisles_rows.sum()\n",
    "\n",
    "# Imprimir el número de filas duplicadas\n",
    "print(f'Número de filas totalmente duplicadas en aisles_df: {num_of_duplicated_aisles_rows}')"
   ]
  },
  {
   "cell_type": "markdown",
   "id": "a58e893a",
   "metadata": {
    "id": "da7c2822"
   },
   "source": [
    "#### Revisa únicamente si hay IDs duplicadas de productos"
   ]
  },
  {
   "cell_type": "code",
   "execution_count": 21,
   "id": "c4f25f03",
   "metadata": {},
   "outputs": [
    {
     "name": "stdout",
     "output_type": "stream",
     "text": [
      "No hay IDs de pasillo duplicados.\n"
     ]
    }
   ],
   "source": [
    "# Contar las ocurrencias de cada aisle_id\n",
    "aisle_id_counts = aisles['aisle_id'].value_counts()\n",
    "\n",
    "# Filtrar para encontrar aquellos aisle_id que aparecen más de una vez\n",
    "duplicate_aisle_ids = aisle_id_counts[aisle_id_counts > 1]\n",
    "\n",
    "# Imprimir los IDs de pasillo duplicados y cuántas veces aparecen, si hay alguno\n",
    "if len(duplicate_aisle_ids) > 0:\n",
    "    print(f'IDs de pasillo duplicados: {duplicate_aisle_ids}')\n",
    "else:\n",
    "    print('No hay IDs de pasillo duplicados.')"
   ]
  },
  {
   "cell_type": "markdown",
   "id": "ac63826f",
   "metadata": {
    "id": "ac63826f"
   },
   "source": [
    "Describe brevemente tus hallazgos y lo que hiciste con ellos."
   ]
  },
  {
   "cell_type": "markdown",
   "id": "e48920c4",
   "metadata": {},
   "source": [
    "**1. Verificación de Filas Completamente Duplicadas**\n",
    "\n",
    "* **Acción**: Utilizamos el método `duplicated(keep=False)` para identificar si había filas completamente duplicadas en el DataFrame `aisles`.\n",
    "\n",
    "* **Resultado**: No se encontraron filas totalmente duplicadas.\n",
    "\n",
    "* **Impacto**: Este hallazgo confirma que cada entrada en el DataFrame es única, lo cual es esencial para mantener la claridad y la precisión en la gestión de los datos de los pasillos.\n",
    "\n",
    "\n",
    "**2. Verificación de IDs de Pasillo Duplicados**\n",
    "\n",
    "\n",
    "* **Acción**: Contamos las ocurrencias de cada `aisle_id` usando `value_counts()` y aplicamos un filtro para identificar cualquier ID que apareciera más de una vez.\n",
    "\n",
    "* **Resultado**: Confirmamos que no hay `aisle_id` duplicados, lo que significa que cada pasillo tiene un identificador único.\n",
    "\n",
    "* **Impacto**: La ausencia de IDs duplicados asegura la integridad referencial de los datos y evita problemas potenciales en operaciones futuras que involucren relaciones de datos o consultas que dependan de la unicidad de estos identificadores."
   ]
  },
  {
   "cell_type": "markdown",
   "id": "274cd06a",
   "metadata": {
    "id": "274cd06a"
   },
   "source": [
    "### `order_products` data frame"
   ]
  },
  {
   "cell_type": "markdown",
   "id": "96352ba5",
   "metadata": {
    "id": "52326689-84a8-4b8f-a881-7c68780f62c9"
   },
   "source": [
    "#### Revisa si hay filas totalmente duplicadas\n"
   ]
  },
  {
   "cell_type": "code",
   "execution_count": 22,
   "id": "f847071b",
   "metadata": {},
   "outputs": [
    {
     "name": "stdout",
     "output_type": "stream",
     "text": [
      "Número de filas totalmente duplicadas en order_products_df: 0\n"
     ]
    }
   ],
   "source": [
    "# Revisar filas completamente duplicadas en el DataFrame 'order_products'\n",
    "duplicated_order_products_rows = order_products.duplicated(keep=False)\n",
    "\n",
    "# Contar el número de filas duplicadas\n",
    "num_of_duplicated_order_products_rows = duplicated_order_products_rows.sum()\n",
    "\n",
    "# Imprimir el número de filas duplicadas\n",
    "print(f'Número de filas totalmente duplicadas en order_products_df: {num_of_duplicated_order_products_rows}')"
   ]
  },
  {
   "cell_type": "markdown",
   "id": "ccb04f4b",
   "metadata": {
    "id": "7b861391"
   },
   "source": [
    "#### Vuelve a verificar si hay cualquier otro duplicado engañoso\n"
   ]
  },
  {
   "cell_type": "code",
   "execution_count": 23,
   "id": "ac78152c",
   "metadata": {},
   "outputs": [
    {
     "name": "stdout",
     "output_type": "stream",
     "text": [
      "Número de duplicados engañosos en order_products_df: 0\n"
     ]
    }
   ],
   "source": [
    "# Verificar duplicados engañosos considerando 'order_id', 'product_id' y 'add_to_cart_order'\n",
    "engaging_duplicates = order_products.duplicated(subset=['order_id', 'product_id', 'add_to_cart_order'], keep=False)\n",
    "\n",
    "# Contar estos duplicados engañosos\n",
    "num_of_engaging_duplicates = engaging_duplicates.sum()\n",
    "\n",
    "# Imprimir el número de estos duplicados potenciales\n",
    "print(f'Número de duplicados engañosos en order_products_df: {num_of_engaging_duplicates}')"
   ]
  },
  {
   "cell_type": "markdown",
   "id": "0b890492",
   "metadata": {
    "id": "0b890492"
   },
   "source": [
    "Describe brevemente tus hallazgos y lo que hiciste con ellos."
   ]
  },
  {
   "cell_type": "markdown",
   "id": "c1472a08",
   "metadata": {},
   "source": [
    "**1. Revisión de Filas Completamente Duplicadas**\n",
    "\n",
    "\n",
    "* **Acción**: Utilizamos el método **duplicated(keep=False)** para identificar si había filas completamente duplicadas en el DataFrame **order_products**.\n",
    "\n",
    "* **Resultado**: No se encontraron filas totalmente duplicadas.\n",
    "\n",
    "* **Impacto**: Este resultado indica que no hay entradas redundantes exactas en este conjunto de datos, lo cual es importante para asegurar la precisión en el análisis de las ordenes y el comportamiento de compra.\n",
    "\n",
    "\n",
    "**2. Verificación de Duplicados Engañosos**\n",
    "\n",
    "\n",
    "* **Acción**: Realizaste una verificación más detallada para identificar duplicados engañosos, considerando **order_id**, **product_id**, y **add_to_cart_order** como claves para encontrar duplicidades.\n",
    "\n",
    "* **Resultado**: No se detectaron duplicados engañosos.\n",
    "\n",
    "* **Impacto**: Confirmar que no existen duplicados engañosos, asegura que cada entrada de producto en una orden es único respecto a su posición en el carrito y su asociación con el pedido, lo que refleja una correcta gestión de la información."
   ]
  },
  {
   "cell_type": "markdown",
   "id": "1e46de76",
   "metadata": {
    "id": "1e46de76"
   },
   "source": [
    "## Encuentra y elimina los valores ausentes\n",
    "\n",
    "Al trabajar con valores duplicados, pudimos observar que también nos falta investigar valores ausentes:\n",
    "\n",
    "* La columna `'product_name'` de la tabla products.\n",
    "* La columna `'days_since_prior_order'` de la tabla orders.\n",
    "* La columna `'add_to_cart_order'` de la tabla order_productos."
   ]
  },
  {
   "cell_type": "markdown",
   "id": "c0aebd78",
   "metadata": {
    "id": "c0aebd78"
   },
   "source": [
    "### `products` data frame"
   ]
  },
  {
   "cell_type": "markdown",
   "id": "b5863feb",
   "metadata": {
    "id": "fe4a8b0f"
   },
   "source": [
    "#### Encuentra los valores ausentes en la columna 'product_name'"
   ]
  },
  {
   "cell_type": "code",
   "execution_count": 24,
   "id": "caf29414",
   "metadata": {},
   "outputs": [
    {
     "name": "stdout",
     "output_type": "stream",
     "text": [
      "Número de valores ausentes en product_name: 1258\n"
     ]
    }
   ],
   "source": [
    "# Contar los valores nulos en la columna 'product_name'\n",
    "missing_product_names_count = products['product_name'].isnull().sum()\n",
    "print(f'Número de valores ausentes en product_name: {missing_product_names_count}')"
   ]
  },
  {
   "cell_type": "code",
   "execution_count": 25,
   "id": "b80d92d5",
   "metadata": {},
   "outputs": [
    {
     "name": "stdout",
     "output_type": "stream",
     "text": [
      "       product_id product_name  aisle_id  department_id\n",
      "37             38          NaN       100             21\n",
      "71             72          NaN       100             21\n",
      "109           110          NaN       100             21\n",
      "296           297          NaN       100             21\n",
      "416           417          NaN       100             21\n",
      "...           ...          ...       ...            ...\n",
      "49552       49553          NaN       100             21\n",
      "49574       49575          NaN       100             21\n",
      "49640       49641          NaN       100             21\n",
      "49663       49664          NaN       100             21\n",
      "49668       49669          NaN       100             21\n",
      "\n",
      "[1258 rows x 4 columns]\n"
     ]
    }
   ],
   "source": [
    "# Mostrar filas donde 'product_name' es nulo\n",
    "missing_product_names_rows = products[products['product_name'].isnull()]\n",
    "print(missing_product_names_rows)"
   ]
  },
  {
   "cell_type": "markdown",
   "id": "-A6x1AbJhjkp",
   "metadata": {
    "id": "-A6x1AbJhjkp"
   },
   "source": [
    "Describe brevemente cuáles son tus hallazgos."
   ]
  },
  {
   "cell_type": "markdown",
   "id": "29aee1e9",
   "metadata": {},
   "source": [
    "* **Cantidad de Valores Ausentes:** Existen **1,258 filas** donde el **product_name** no está disponible (es decir, es **nulo**). Este número de valores ausentes necesita ser manejado adecuadamente para evitar sesgos o errores en los análisis relacionados con los productos.\n",
    "\n",
    "\n",
    "* **Localización de los Valores Ausentes:** Todos estos valores ausentes parecen estar asociados con productos que pertenecen al **aisle_id = 100** y **department_id = 21**. Esta especificidad sugiere que el problema de datos nulos podría estar concentrado en un área particular del inventario o catálogo."
   ]
  },
  {
   "cell_type": "markdown",
   "id": "c4f1307c",
   "metadata": {},
   "source": [
    "####  ¿Todos los nombres de productos ausentes están relacionados con el pasillo con ID 100?"
   ]
  },
  {
   "cell_type": "code",
   "execution_count": 26,
   "id": "e96167bc",
   "metadata": {
    "id": "e96167bc"
   },
   "outputs": [
    {
     "name": "stdout",
     "output_type": "stream",
     "text": [
      "Todos los nombres de productos ausentes están en el pasillo con ID 100: True\n"
     ]
    }
   ],
   "source": [
    "# Filtrar para obtener solo las filas donde 'product_name' es nulo\n",
    "missing_product_names_rows = products[products['product_name'].isnull()]\n",
    "\n",
    "# Verificar si todos los productos con nombres nulos pertenecen al pasillo 100\n",
    "all_in_aisle_100 = missing_product_names_rows['aisle_id'].eq(100).all()\n",
    "\n",
    "# Imprimir el resultado de la verificación\n",
    "print(f'Todos los nombres de productos ausentes están en el pasillo con ID 100: {all_in_aisle_100}')"
   ]
  },
  {
   "cell_type": "markdown",
   "id": "WRpIfXRphpSL",
   "metadata": {
    "id": "WRpIfXRphpSL"
   },
   "source": [
    "Describe brevemente cuáles son tus hallazgos."
   ]
  },
  {
   "cell_type": "markdown",
   "id": "885f8062",
   "metadata": {},
   "source": [
    "* **Concentración de Valores Ausentes**: El hecho de que todos los nombres de productos faltantes se ubiquen en el mismo pasillo sugiere que podría haber un problema específico con la manera en que se están gestionando o registrando los datos en este pasillo.\n",
    "\n",
    "\n",
    "* **Posible Error Sistemático**: La concentración en un único pasillo podría indicar un error sistemático o un problema con los procesos de ingreso de datos para ese pasillo específico. Esto podría deberse a errores en la base de datos, problemas durante la migración de datos, o políticas de catalogación deficientes que afectan únicamente a ese pasillo."
   ]
  },
  {
   "cell_type": "markdown",
   "id": "65c8d983",
   "metadata": {
    "id": "8fd0a541"
   },
   "source": [
    "#### ¿Todos los nombres de productos ausentes están relacionados con el departamento con ID 21?\n"
   ]
  },
  {
   "cell_type": "code",
   "execution_count": 27,
   "id": "a138905f",
   "metadata": {},
   "outputs": [
    {
     "name": "stdout",
     "output_type": "stream",
     "text": [
      "Todos los nombres de productos ausentes están en el departamento con ID 21: True\n"
     ]
    }
   ],
   "source": [
    "# Filtrar para obtener solo las filas donde 'product_name' es nulo\n",
    "missing_product_names_rows = products[products['product_name'].isnull()]\n",
    "\n",
    "# Verificar si todos los productos con nombres nulos pertenecen al departamento 21\n",
    "all_in_department_21 = missing_product_names_rows['department_id'].eq(21).all()\n",
    "\n",
    "# Imprimir el resultado de la verificación\n",
    "print(f'Todos los nombres de productos ausentes están en el departamento con ID 21: {all_in_department_21}')"
   ]
  },
  {
   "cell_type": "markdown",
   "id": "qDpdYn1Fht_I",
   "metadata": {
    "id": "qDpdYn1Fht_I"
   },
   "source": [
    "Describe brevemente cuáles son tus hallazgos."
   ]
  },
  {
   "cell_type": "markdown",
   "id": "05471e32",
   "metadata": {},
   "source": [
    "* **Concentración Específica:** El hecho de que todos los nombres de productos faltantes se ubiquen en el departamento 21 y en el pasillo 100 sugiere que hay un problema específico con la manera en que se están gestionando o registrando los datos en esta área particular del inventario.\n",
    "\n",
    "\n",
    "* **Posibilidad de Error Sistemático o Procedural:** La concentración de valores nulos en un departamento y pasillo específicos podría ser indicativa de un error sistemático en los procesos de catalogación, errores en la base de datos, o incluso políticas de ingreso de datos deficientes que afectan exclusivamente a ese departamento."
   ]
  },
  {
   "cell_type": "markdown",
   "id": "024a6254",
   "metadata": {
    "id": "325c3464"
   },
   "source": [
    "#### Usa las tablas department y aisle para revisar los datos del pasillo con ID 100 y el departamento con ID 21.\n"
   ]
  },
  {
   "cell_type": "code",
   "execution_count": 28,
   "id": "fb632e3a",
   "metadata": {},
   "outputs": [
    {
     "name": "stdout",
     "output_type": "stream",
     "text": [
      "Información del pasillo con ID 100:\n",
      "    aisle_id    aisle\n",
      "99       100  missing\n",
      "\n",
      "Información del departamento con ID 21:\n",
      "    department_id department\n",
      "20             21    missing\n"
     ]
    }
   ],
   "source": [
    "# Obtener el nombre del pasillo con ID 100\n",
    "aisle_info = aisles[aisles['aisle_id'] == 100]\n",
    "print(\"Información del pasillo con ID 100:\")\n",
    "print(aisle_info)\n",
    "\n",
    "# Obtener el nombre del departamento con ID 21\n",
    "department_info = departments[departments['department_id'] == 21]\n",
    "print(\"\\nInformación del departamento con ID 21:\")\n",
    "print(department_info)"
   ]
  },
  {
   "cell_type": "markdown",
   "id": "nqhSTUPhhvEJ",
   "metadata": {
    "id": "nqhSTUPhhvEJ"
   },
   "source": [
    "Describe brevemente cuáles son tus hallazgos."
   ]
  },
  {
   "cell_type": "markdown",
   "id": "7347bf89",
   "metadata": {},
   "source": [
    "**1. Etiquetas de \"Missing\"**: El hecho de que tanto el pasillo como el departamento estén etiquetados como \"missing\" sugiere que hay un problema sistemático o un error en la forma en que se han registrado o gestionado estos datos. Esto no solo afecta a los nombres de los productos, sino que también podría indicar deficiencias en la gestión de información más amplia en estas categorías.\n",
    "\n",
    "\n",
    "**2. Impacto en la Base de Datos de Productos:**\n",
    "\n",
    "* **Productos Sin Nombres:** Si los productos están clasificados bajo un pasillo y un departamento que no están adecuadamente definidos o mantenidos, es probable que también falten otros datos críticos, como los nombres de los productos.\n",
    "\n",
    "* **Riesgos de Análisis:** La integridad de cualquier análisis que involucre estas categorías está comprometida, lo que podría llevar a decisiones mal informadas o a una comprensión errónea del inventario y las operaciones."
   ]
  },
  {
   "cell_type": "markdown",
   "id": "b3980161",
   "metadata": {
    "id": "6b295120"
   },
   "source": [
    "#### Completa los nombres de productos ausentes con 'Unknown'\n"
   ]
  },
  {
   "cell_type": "code",
   "execution_count": 29,
   "id": "48b10c81",
   "metadata": {},
   "outputs": [
    {
     "name": "stdout",
     "output_type": "stream",
     "text": [
      "Número de valores ausentes en product_name después de la imputación: 0\n"
     ]
    }
   ],
   "source": [
    "# Imputar los valores nulos en 'product_name' con 'Unknown'\n",
    "products['product_name'].fillna('Unknown', inplace=True)\n",
    "\n",
    "# Verificar que ya no hay valores nulos en 'product_name'\n",
    "updated_missing_count = products['product_name'].isnull().sum()\n",
    "print(f'Número de valores ausentes en product_name después de la imputación: {updated_missing_count}')"
   ]
  },
  {
   "cell_type": "markdown",
   "id": "fc70e5ad",
   "metadata": {
    "id": "fc70e5ad"
   },
   "source": [
    "Describe brevemente tus hallazgos y lo que hiciste con ellos."
   ]
  },
  {
   "cell_type": "markdown",
   "id": "18f15ee8",
   "metadata": {},
   "source": [
    "* **Resolución de Valores Ausentes:** Identificamos inicialmente 1,258 valores ausentes en la columna **product_name**. Al imputar estos con **'Unknown'**, eliminamos cualquier vacío en los datos, lo cual es crucial para mantener la consistencia y calidad de los datos en análisis posteriores.\n",
    "\n",
    "\n",
    "* **Imputación Efectiva:** La imputación ha sido verificada y confirmada exitosamente, ya que la comprobación posterior mostró que no quedan valores nulos en **product_name**, indicando que el proceso fue efectivo."
   ]
  },
  {
   "cell_type": "markdown",
   "id": "7eb45c86",
   "metadata": {
    "id": "7eb45c86"
   },
   "source": [
    "### `orders` data frame"
   ]
  },
  {
   "cell_type": "markdown",
   "id": "d2b264ce",
   "metadata": {
    "id": "93e41d96"
   },
   "source": [
    "#### Encontrar valores ausentes"
   ]
  },
  {
   "cell_type": "code",
   "execution_count": 30,
   "id": "50aefb0f",
   "metadata": {},
   "outputs": [
    {
     "name": "stdout",
     "output_type": "stream",
     "text": [
      "Valores ausentes en cada columna de orders:\n",
      "order_id                      0\n",
      "user_id                       0\n",
      "order_number                  0\n",
      "order_dow                     0\n",
      "order_hour_of_day             0\n",
      "days_since_prior_order    28817\n",
      "dtype: int64\n"
     ]
    }
   ],
   "source": [
    "# Contar los valores nulos en cada columna de 'orders'\n",
    "missing_values_in_orders = orders.isnull().sum()\n",
    "print(\"Valores ausentes en cada columna de orders:\")\n",
    "print(missing_values_in_orders)"
   ]
  },
  {
   "cell_type": "markdown",
   "id": "51f62ef4",
   "metadata": {
    "id": "166e5a86"
   },
   "source": [
    "#### ¿Hay algún valor ausente que no sea el primer pedido del cliente?\n"
   ]
  },
  {
   "cell_type": "code",
   "execution_count": 31,
   "id": "d250b2a9",
   "metadata": {},
   "outputs": [
    {
     "name": "stdout",
     "output_type": "stream",
     "text": [
      "Todos los pedidos con 'days_since_prior_order' nulos son primeros pedidos: True\n"
     ]
    }
   ],
   "source": [
    "# Filtrar los pedidos donde 'days_since_prior_order' es nulo\n",
    "missing_days_orders = orders[orders['days_since_prior_order'].isnull()]\n",
    "\n",
    "# Verificar si todos estos pedidos tienen 'order_number' igual a 1\n",
    "all_first_orders = (missing_days_orders['order_number'] == 1).all()\n",
    "\n",
    "# Imprimir el resultado de la verificación\n",
    "print(f\"Todos los pedidos con 'days_since_prior_order' nulos son primeros pedidos: {all_first_orders}\")"
   ]
  },
  {
   "cell_type": "markdown",
   "id": "4e23d089",
   "metadata": {
    "id": "4e23d089"
   },
   "source": [
    "Describe brevemente tus hallazgos y lo que hiciste con ellos."
   ]
  },
  {
   "cell_type": "markdown",
   "id": "5a1a4b22",
   "metadata": {},
   "source": [
    "**Hallazgos:\n",
    "\n",
    "* **Correspondencia con Primeros Pedidos:** Confirmaste que la ausencia de datos en days_since_prior_order está directamente relacionada con el hecho de que los pedidos son los primeros realizados por cada cliente respectivo. Esto es lógico, ya que no habría un pedido previo del cual calcular el número de días desde la última compra.\n",
    "\n",
    "* **Validación de Datos:** La comprobación de que los valores ausentes solo aparecen en los primeros pedidos de los clientes valida la integridad de los datos en orders. Esto significa que no hay errores o problemas inesperados en el registro de los pedidos subsiguientes.\n",
    "\n",
    "\n",
    "**Acciones:**\n",
    "\n",
    "* **No Requiere Imputación o Eliminación:** Dado que los valores nulos están justificados por la lógica del negocio (primeros pedidos), no es necesario imputar o eliminar estos valores ausentes. Mantener estos valores nulos puede ser útil para análisis futuros donde se necesite identificar rápidamente los primeros pedidos de nuevos clientes.\n",
    "\n",
    "* **Documentación y Comunicación:** Documentar este hallazgo para asegurar que cualquier persona que trabaje con este conjunto de datos en el futuro sea consciente de por qué existen valores nulos en esta columna y cómo interpretarlos adecuadamente."
   ]
  },
  {
   "cell_type": "markdown",
   "id": "69dc9ca4",
   "metadata": {
    "id": "69dc9ca4"
   },
   "source": [
    "### `order_products` data frame"
   ]
  },
  {
   "cell_type": "markdown",
   "id": "8c1d33e0",
   "metadata": {
    "id": "b8240253"
   },
   "source": [
    "#### Encuentra los valores ausentes"
   ]
  },
  {
   "cell_type": "code",
   "execution_count": 32,
   "id": "10e7f23e",
   "metadata": {},
   "outputs": [
    {
     "name": "stdout",
     "output_type": "stream",
     "text": [
      "Valores ausentes en cada columna de order_products:\n",
      "order_id               0\n",
      "product_id             0\n",
      "add_to_cart_order    836\n",
      "reordered              0\n",
      "dtype: int64\n"
     ]
    }
   ],
   "source": [
    "# Contar los valores nulos en cada columna de 'order_products'\n",
    "missing_values_in_order_products = order_products.isnull().sum()\n",
    "print(\"Valores ausentes en cada columna de order_products:\")\n",
    "print(missing_values_in_order_products)"
   ]
  },
  {
   "cell_type": "markdown",
   "id": "00a60310",
   "metadata": {
    "id": "9a78e5ee"
   },
   "source": [
    "#### ¿Cuáles son los valores mínimos y máximos en esta columna?\n"
   ]
  },
  {
   "cell_type": "code",
   "execution_count": 33,
   "id": "9ce32d30",
   "metadata": {},
   "outputs": [
    {
     "name": "stdout",
     "output_type": "stream",
     "text": [
      "Valor mínimo en add_to_cart_order: 1.0\n",
      "Valor máximo en add_to_cart_order: 64.0\n"
     ]
    }
   ],
   "source": [
    "# Encontrar el valor mínimo en la columna 'add_to_cart_order'\n",
    "min_add_to_cart_order = order_products['add_to_cart_order'].min()\n",
    "\n",
    "# Encontrar el valor máximo en la columna 'add_to_cart_order'\n",
    "max_add_to_cart_order = order_products['add_to_cart_order'].max()\n",
    "\n",
    "# Imprimir los valores mínimo y máximo\n",
    "print(f\"Valor mínimo en add_to_cart_order: {min_add_to_cart_order}\")\n",
    "print(f\"Valor máximo en add_to_cart_order: {max_add_to_cart_order}\")"
   ]
  },
  {
   "cell_type": "markdown",
   "id": "-Z2Ja215jW78",
   "metadata": {
    "id": "-Z2Ja215jW78"
   },
   "source": [
    "Describe brevemente cuáles son tus hallazgos."
   ]
  },
  {
   "cell_type": "markdown",
   "id": "41ae48ed",
   "metadata": {},
   "source": [
    "* **Valores Ausentes:** La presencia de 836 valores nulos en una columna clave como **add_to_cart_order** podría impactar análisis relacionados con el comportamiento del consumidor y la optimización del proceso de compra. Es esencial decidir cómo manejar estos valores ausentes, ya sea mediante imputación o eliminación, dependiendo de los requisitos del análisis.\n",
    "\n",
    "\n",
    "* **Rango de add_to_cart_order:** El rango de 1 a 64 en esta columna muestra tanto pedidos pequeños como grandes, ofreciendo una visión del comportamiento de compra que puede ser útil para segmentaciones de cliente y análisis de marketing."
   ]
  },
  {
   "cell_type": "markdown",
   "id": "ebcc75e9",
   "metadata": {
    "id": "ab9d0c2b"
   },
   "source": [
    "#### Guarda todas las IDs de pedidos que tengan un valor ausente en 'add_to_cart_order'\n"
   ]
  },
  {
   "cell_type": "code",
   "execution_count": 34,
   "id": "04c26435",
   "metadata": {},
   "outputs": [
    {
     "name": "stdout",
     "output_type": "stream",
     "text": [
      "Archivo guardado: missing_add_to_cart_order_ids.csv\n"
     ]
    }
   ],
   "source": [
    "# Filtrar los pedidos donde 'add_to_cart_order' es nulo\n",
    "missing_add_to_cart_orders = order_products[order_products['add_to_cart_order'].isnull()]\n",
    "\n",
    "# Extraer las IDs de pedido de estas filas\n",
    "missing_add_to_cart_order_ids = missing_add_to_cart_orders['order_id'].unique()\n",
    "\n",
    "# Convertir el array de NumPy a DataFrame\n",
    "missing_add_to_cart_order_ids_df = pd.DataFrame(missing_add_to_cart_order_ids, columns=['order_id'])\n",
    "\n",
    "# Guardar el DataFrame en un archivo CSV\n",
    "missing_add_to_cart_order_ids_df.to_csv('missing_add_to_cart_order_ids.csv', index=False)\n",
    "\n",
    "# Imprimir confirmación de que el archivo ha sido guardado\n",
    "print(\"Archivo guardado: missing_add_to_cart_order_ids.csv\")"
   ]
  },
  {
   "cell_type": "code",
   "execution_count": 35,
   "id": "54c31695",
   "metadata": {
    "id": "54c31695"
   },
   "outputs": [],
   "source": [
    "# ¿Todos los pedidos con valores ausentes tienen más de 64 productos?\n",
    "# Agrupa todos los pedidos con datos ausentes por su ID de pedido.\n",
    "# Cuenta el número de 'product_id' en cada pedido y revisa el valor mínimo del conteo.\n"
   ]
  },
  {
   "cell_type": "code",
   "execution_count": 36,
   "id": "06e807e1",
   "metadata": {},
   "outputs": [
    {
     "name": "stdout",
     "output_type": "stream",
     "text": [
      "¿Todos los pedidos con 'add_to_cart_order' ausentes tienen más de 64 productos?: False\n"
     ]
    }
   ],
   "source": [
    "# Filtrar los pedidos donde 'add_to_cart_order' es nulo\n",
    "missing_add_to_cart_orders = order_products[order_products['add_to_cart_order'].isnull()]\n",
    "\n",
    "# Agrupar por 'order_id' y contar el número de productos en cada pedido\n",
    "product_count_per_order = missing_add_to_cart_orders.groupby('order_id')['product_id'].count()\n",
    "\n",
    "# Verificar si todos los pedidos con valores ausentes tienen más de 64 productos\n",
    "all_orders_more_than_64 = (product_count_per_order > 64).all()\n",
    "\n",
    "# Imprimir si todos los pedidos con valores ausentes en 'add_to_cart_order' tienen más de 64 productos\n",
    "print(f\"¿Todos los pedidos con 'add_to_cart_order' ausentes tienen más de 64 productos?: {all_orders_more_than_64}\")"
   ]
  },
  {
   "cell_type": "code",
   "execution_count": 37,
   "id": "36e88b7d",
   "metadata": {},
   "outputs": [
    {
     "name": "stdout",
     "output_type": "stream",
     "text": [
      "1\n"
     ]
    }
   ],
   "source": [
    "# Encontrar el valor mínimo de productos por pedido\n",
    "min_products_in_orders = product_count_per_order.min()\n",
    "\n",
    "# Imprimir el valor mínimo de productos por pedido\n",
    "print(min_products_in_orders)"
   ]
  },
  {
   "cell_type": "markdown",
   "id": "p9V6pddtjglj",
   "metadata": {
    "id": "p9V6pddtjglj"
   },
   "source": [
    "**Describe brevemente cuáles son tus hallazgos.**"
   ]
  },
  {
   "cell_type": "markdown",
   "id": "6b4c8df1",
   "metadata": {},
   "source": [
    "* **Identificación de Pedidos con Valores Ausentes:** Se identificaron y guardaron los IDs de todos los pedidos que tienen un valor ausente en **add_to_cart_order**, lo cual es crucial para investigaciones posteriores o correcciones en los datos.\n",
    "\n",
    "\n",
    "* **Verificación de la Cantidad de Productos en Pedidos con Datos Ausentes:** Confirmaste que no todos los pedidos con valores ausentes en **add_to_cart_order** tienen más de 64 productos, como se pudo haber especulado inicialmente. De hecho, la verificación mostró que esta suposición es **falsa**.\n",
    "\n",
    "\n",
    "* **Cantidad Mínima de Productos en Pedidos con Datos Ausentes:** Al contar el número de productos en cada uno de estos pedidos, descubriste que el valor mínimo de productos en un pedido con un dato ausente en **add_to_cart_order** es de solo 1 producto. Esto indica que la ausencia de datos en esta columna no está necesariamente relacionada con la complejidad o el tamaño del pedido."
   ]
  },
  {
   "cell_type": "markdown",
   "id": "7d5cc6e4",
   "metadata": {
    "id": "7a987d08"
   },
   "source": [
    "#### Remplaza los valores ausentes en la columna 'add_to_cart? con 999 y convierte la columna al tipo entero.\n"
   ]
  },
  {
   "cell_type": "code",
   "execution_count": 38,
   "id": "9b3a0c67",
   "metadata": {},
   "outputs": [
    {
     "name": "stdout",
     "output_type": "stream",
     "text": [
      "<class 'pandas.core.frame.DataFrame'>\n",
      "RangeIndex: 4545007 entries, 0 to 4545006\n",
      "Data columns (total 4 columns):\n",
      " #   Column             Non-Null Count    Dtype\n",
      "---  ------             --------------    -----\n",
      " 0   order_id           4545007 non-null  int64\n",
      " 1   product_id         4545007 non-null  int64\n",
      " 2   add_to_cart_order  4545007 non-null  int64\n",
      " 3   reordered          4545007 non-null  int64\n",
      "dtypes: int64(4)\n",
      "memory usage: 138.7 MB\n",
      "None\n"
     ]
    }
   ],
   "source": [
    "# Reemplazar los valores ausentes con 999\n",
    "order_products['add_to_cart_order'].fillna(999, inplace=True)\n",
    "\n",
    "# Convertir la columna al tipo entero\n",
    "order_products['add_to_cart_order'] = order_products['add_to_cart_order'].astype(int)\n",
    "\n",
    "# Verificar los cambios\n",
    "print(order_products.info(show_counts = True))"
   ]
  },
  {
   "cell_type": "markdown",
   "id": "fea4bcc7",
   "metadata": {
    "id": "fea4bcc7"
   },
   "source": [
    "**Describe brevemente tus hallazgos y lo que hiciste con ellos.**"
   ]
  },
  {
   "cell_type": "markdown",
   "id": "098cdf74",
   "metadata": {},
   "source": [
    "Se reemplazaron los valores ausentes en la columna **'add_to_cart_order'** con el valor **999** y se convirtió la columna al tipo entero(int64). Después de aplicar estas transformaciones, se verificó la información del DataFrame para confirmar que ya no hay valores nulos en la columna **'add_to_cart_order'** y que la columna ahora es del tipo de datos entero."
   ]
  },
  {
   "cell_type": "markdown",
   "id": "RnplPFY1gSrb",
   "metadata": {
    "id": "RnplPFY1gSrb"
   },
   "source": [
    "## Conclusiones\n",
    "\n",
    "Realizamos una serie de tareas de preprocesamiento de datos en varios DataFrames, incluidos **'products'**, **'orders'**, y **'order_products'**. Esto incluyó la identificación y manejo de valores duplicados, la búsqueda y manejo de valores faltantes, y la modificación de tipos de datos cuando fue necesario.\n",
    "\n",
    "Algunos de los hallazgos y acciones realizadas incluyen:\n",
    "\n",
    "1. Identificación y eliminación de valores duplicados en los DataFrames.\n",
    "\n",
    "\n",
    "2. Manejo de valores faltantes, como completar los nombres de productos faltantes en el DataFrame **'products'** con **'Unknown'**.\n",
    "\n",
    "\n",
    "3. Exploración de la distribución de valores faltantes en las columnas **'days_since_prior_order'** en **'orders'** y **'add_to_cart_order'** en **'order_products'**.\n",
    "\n",
    "\n",
    "4. Reemplazo de valores faltantes en la columna **'add_to_cart_order'** en **'order_products'** con **999** y conversión de la columna al tipo entero.\n"
   ]
  },
  {
   "cell_type": "markdown",
   "id": "UjrOIwTcz3ri",
   "metadata": {
    "id": "UjrOIwTcz3ri"
   },
   "source": [
    "# Paso 3. Análisis de los datos\n",
    "\n",
    "Una vez los datos estén procesados y listos, haz el siguiente análisis:"
   ]
  },
  {
   "cell_type": "markdown",
   "id": "turkish-kidney",
   "metadata": {
    "id": "turkish-kidney"
   },
   "source": [
    "# [A] \n",
    "\n",
    "1. Verifica que los valores en las columnas `'order_hour_of_day'` y `'order_dow'` en la tabla orders sean razonables (es decir, `'order_hour_of_day'` oscile entre 0 y 23 y `'order_dow'` oscile entre 0 y 6).\n",
    "\n",
    "2. Crea un gráfico que muestre el número de personas que hacen pedidos dependiendo de la hora del día.\n",
    "\n",
    "3. Crea un gráfico que muestre qué día de la semana la gente hace sus compras.\n",
    "\n",
    "4. Crea un gráfico que muestre el tiempo que la gente espera hasta hacer su siguiente pedido, y comenta sobre los valores mínimos y máximos."
   ]
  },
  {
   "cell_type": "markdown",
   "id": "short-capability",
   "metadata": {
    "id": "short-capability"
   },
   "source": [
    "### [A1] Verifica que los valores sean sensibles"
   ]
  },
  {
   "cell_type": "code",
   "execution_count": 39,
   "id": "growing-fruit",
   "metadata": {
    "id": "growing-fruit"
   },
   "outputs": [
    {
     "name": "stdout",
     "output_type": "stream",
     "text": [
      "Valores únicos en 'order_hour_of_day': [0, 1, 2, 3, 4, 5, 6, 7, 8, 9, 10, 11, 12, 13, 14, 15, 16, 17, 18, 19, 20, 21, 22, 23]\n"
     ]
    }
   ],
   "source": [
    "# Verificar los valores únicos en 'order_hour_of_day'\n",
    "print(\"Valores únicos en 'order_hour_of_day':\", sorted(orders['order_hour_of_day'].unique()))"
   ]
  },
  {
   "cell_type": "code",
   "execution_count": 40,
   "id": "accessory-malaysia",
   "metadata": {
    "id": "accessory-malaysia"
   },
   "outputs": [
    {
     "name": "stdout",
     "output_type": "stream",
     "text": [
      "Valores únicos en 'order_dow': [0, 1, 2, 3, 4, 5, 6]\n"
     ]
    }
   ],
   "source": [
    "# Verificar los valores únicos en 'order_dow'\n",
    "print(\"Valores únicos en 'order_dow':\", sorted(orders['order_dow'].unique()))"
   ]
  },
  {
   "cell_type": "markdown",
   "id": "hmR2GNQ6lCsX",
   "metadata": {
    "id": "hmR2GNQ6lCsX"
   },
   "source": [
    "* La columna **'order_hour_of_day'** contiene valores desde 0 hasta 23, lo cual es coherente con las 24 horas del día.\n",
    "\n",
    "\n",
    "* La columna **'order_dow'** contiene valores desde 0 hasta 6, correspondientes a los días de la semana, donde 0 representa el domingo y 6 el sábado."
   ]
  },
  {
   "cell_type": "markdown",
   "id": "a6743a70",
   "metadata": {
    "id": "a6743a70"
   },
   "source": [
    "### [A2] Para cada hora del día, ¿cuántas personas hacen órdenes?"
   ]
  },
  {
   "cell_type": "code",
   "execution_count": 41,
   "id": "a36cca27",
   "metadata": {
    "id": "a36cca27"
   },
   "outputs": [
    {
     "data": {
      "image/png": "[encoded data removed]",
      "text/plain": [
       "<Figure size 720x432 with 1 Axes>"
      ]
     },
     "metadata": {
      "needs_background": "light"
     },
     "output_type": "display_data"
    }
   ],
   "source": [
    "# Importar la librería matplotlib\n",
    "import matplotlib.pyplot as plt\n",
    "\n",
    "# Contar el número de pedidos por hora del día\n",
    "orders_by_hour = orders['order_hour_of_day'].value_counts().sort_index()\n",
    "\n",
    "# Crear el gráfico\n",
    "plt.figure(figsize=(10, 6))\n",
    "plt.plot(orders_by_hour.index, orders_by_hour.values, marker='o', linestyle='-')\n",
    "plt.title('Número de pedidos por hora del día')\n",
    "plt.xlabel('Hora')\n",
    "plt.ylabel('Número de pedidos')\n",
    "plt.xticks(range(24))\n",
    "plt.grid(True)\n",
    "plt.show()"
   ]
  },
  {
   "cell_type": "markdown",
   "id": "11270eed",
   "metadata": {
    "id": "11270eed"
   },
   "source": [
    "* **Picos de pedidos**: Se observan dos picos principales de pedidos: uno en la mañana alrededor de las 10:00 - 11:00 de mas de 40000 pedidos y otro en la tarde entre las 14:00 - 15:00 cercano a los 40000.\n",
    "\n",
    "\n",
    "* **Caída en la madrugada**: El número de pedidos cae significativamente durante la madrugada, especialmente entre las 01:00 - 05:00.\n",
    "\n",
    "\n",
    "* **Tendencia general**: Existe un aumento gradual en el número de pedidos desde la mañana hasta la tarde, alcanzando una alta demanda entre las 10:00 - 15:00, seguido de un descenso gradual hasta la noche y una caída pronunciada en la madrugada."
   ]
  },
  {
   "cell_type": "markdown",
   "id": "documented-command",
   "metadata": {
    "id": "documented-command"
   },
   "source": [
    "### [A3] ¿Qué día de la semana compran víveres las personas?"
   ]
  },
  {
   "cell_type": "code",
   "execution_count": 42,
   "id": "chief-digit",
   "metadata": {
    "id": "chief-digit"
   },
   "outputs": [
    {
     "data": {
      "image/png": "[encoded data removed]",
      "text/plain": [
       "<Figure size 720x432 with 1 Axes>"
      ]
     },
     "metadata": {
      "needs_background": "light"
     },
     "output_type": "display_data"
    }
   ],
   "source": [
    "import matplotlib.pyplot as plt\n",
    "\n",
    "# Contar la cantidad de pedidos en cada día de la semana\n",
    "orders_per_day = orders['order_dow'].value_counts().sort_index()\n",
    "\n",
    "# Convertir el número del día de la semana a nombres\n",
    "dow_names = ['Lunes', 'Martes', 'Miércoles', 'Jueves', 'Viernes', 'Sábado', 'Domingo']\n",
    "\n",
    "# Crear el gráfico de barras\n",
    "plt.figure(figsize=(10, 6))\n",
    "plt.bar(dow_names, orders_per_day, color='skyblue')\n",
    "\n",
    "# Añadir etiquetas y título\n",
    "plt.title('Cantidad de pedidos por día de la semana')\n",
    "plt.xlabel('Día')\n",
    "plt.ylabel('Número de pedidos')\n",
    "\n",
    "# Mostrar el gráfico\n",
    "plt.xticks(rotation=45)\n",
    "plt.grid(axis='y', linestyle='--', alpha=0.7)\n",
    "plt.show()"
   ]
  },
  {
   "cell_type": "markdown",
   "id": "dominant-lightning",
   "metadata": {
    "id": "dominant-lightning"
   },
   "source": [
    "* La demanda de víveres es relativamente constante a lo largo de la semana, lo que permite una planificación eficiente del inventario y la logística.\n",
    "\n",
    "\n",
    "* El aumento de pedidos al inicio de la semana (Lunes y Martes) puede requerir una atención especial en cuanto a la disponibilidad de productos y la capacidad del personal.\n",
    "\n",
    "\n",
    "* Se podrían explorar estrategias para incentivar las compras durante los días con menor demanda, como promociones especiales o descuentos."
   ]
  },
  {
   "cell_type": "markdown",
   "id": "cutting-concert",
   "metadata": {
    "id": "cutting-concert"
   },
   "source": [
    "### [A4] ¿Cuánto tiempo esperan las personas hasta hacer otro pedido? Comenta sobre los valores mínimos y máximos."
   ]
  },
  {
   "cell_type": "code",
   "execution_count": 43,
   "id": "c231f523",
   "metadata": {
    "id": "c231f523"
   },
   "outputs": [
    {
     "data": {
      "image/png": "[encoded data removed]",
      "text/plain": [
       "<Figure size 720x432 with 1 Axes>"
      ]
     },
     "metadata": {
      "needs_background": "light"
     },
     "output_type": "display_data"
    }
   ],
   "source": [
    "import matplotlib.pyplot as plt\n",
    "\n",
    "# Eliminar los valores nulos en 'days_since_prior_order'\n",
    "orders_clean = orders.dropna(subset=['days_since_prior_order'])\n",
    "\n",
    "# Crear el histograma\n",
    "plt.figure(figsize=(10, 6))\n",
    "plt.hist(orders_clean['days_since_prior_order'], bins=30, color='skyblue', edgecolor='black')\n",
    "\n",
    "# Añadir etiquetas y título\n",
    "plt.title('Distribución del Tiempo Hasta el Siguiente Pedido')\n",
    "plt.xlabel('Días Hasta el Siguiente Pedido')\n",
    "plt.ylabel('Número de Pedidos')\n",
    "\n",
    "# Mostrar el gráfico\n",
    "plt.grid(True)\n",
    "plt.show()"
   ]
  },
  {
   "cell_type": "markdown",
   "id": "discrete-vertex",
   "metadata": {
    "id": "discrete-vertex"
   },
   "source": [
    "* **Aumento de la frecuencia luego de las primeras 2 semanas:** Observamos un aumento en la frecuencia de pedidos a medida que nos alejamos de la primera compra, especialmente entre los 7 y 8 días. Esto indica que gran volumen de clientes realizan pedidos con mucha frecuencia en las primeras semanas después de su compra inicial.\n",
    "\n",
    "\n",
    "* **Mayor frecuencia de pedidos alrededor del mes:** La mayor concentración de pedidos se encuentra alrededor de los 30 días, lo que sugiere una tendencia de compras mensuales por parte de los clientes, por lo que podriamos inferir que la mayoría de los clientes en Instacart son trabajadores dependientes."
   ]
  },
  {
   "cell_type": "markdown",
   "id": "tight-staff",
   "metadata": {
    "id": "tight-staff"
   },
   "source": [
    "# [B]\n",
    "\n",
    "1. ¿Existe alguna diferencia entre las distribuciones `'order_hour_of_day'` de los miércoles y los sábados? Traza gráficos de barra de `'order_hour_of_day'` para ambos días en la misma figura y describe las diferencias que observes.\n",
    "2. Grafica la distribución para el número de órdenes que hacen los clientes (es decir, cuántos clientes hicieron solo 1 pedido, cuántos hicieron 2, cuántos 3, y así sucesivamente...).\n",
    "3. ¿Cuáles son los 20 principales productos que se piden con más frecuencia (muestra su identificación y nombre)?"
   ]
  },
  {
   "cell_type": "markdown",
   "id": "packed-classic",
   "metadata": {
    "id": "packed-classic"
   },
   "source": [
    "### [B1] Diferencia entre miércoles y sábados para  `'order_hour_of_day'`. Traza gráficos de barra para los dos días y describe las diferencias que veas."
   ]
  },
  {
   "cell_type": "code",
   "execution_count": 44,
   "id": "d89b8403",
   "metadata": {
    "id": "d89b8403",
    "scrolled": true
   },
   "outputs": [
    {
     "data": {
      "image/png": "[encoded data removed]",
      "text/plain": [
       "<Figure size 864x432 with 1 Axes>"
      ]
     },
     "metadata": {
      "needs_background": "light"
     },
     "output_type": "display_data"
    }
   ],
   "source": [
    "import matplotlib.pyplot as plt\n",
    "\n",
    "# Filtrar los datos para obtener pedidos realizados solo los miércoles y los sábados\n",
    "orders_wednesday = orders[orders['order_dow'] == 2]\n",
    "orders_saturday = orders[orders['order_dow'] == 5]\n",
    "\n",
    "# Contar la cantidad de pedidos en cada hora del día para miércoles y sábados\n",
    "orders_per_hour_wednesday = orders_wednesday['order_hour_of_day'].value_counts().sort_index()\n",
    "orders_per_hour_saturday = orders_saturday['order_hour_of_day'].value_counts().sort_index()\n",
    "\n",
    "# Crear el gráfico de líneas\n",
    "plt.figure(figsize=(12, 6))\n",
    "plt.plot(orders_per_hour_wednesday.index, orders_per_hour_wednesday, marker='o', linestyle='-', color='skyblue', label='Miércoles')\n",
    "plt.plot(orders_per_hour_saturday.index, orders_per_hour_saturday, marker='o', linestyle='-', color='salmon', label='Sábado')\n",
    "\n",
    "# Añadir etiquetas y título\n",
    "plt.title('Distribución de Pedidos por Hora del Día')\n",
    "plt.xlabel('Hora del Día')\n",
    "plt.ylabel('Número de Pedidos')\n",
    "plt.legend()\n",
    "\n",
    "# Mostrar el gráfico\n",
    "plt.xticks(range(24))\n",
    "plt.grid(axis='y', linestyle='--', alpha=0.7)\n",
    "plt.show()"
   ]
  },
  {
   "cell_type": "markdown",
   "id": "charitable-congo",
   "metadata": {
    "id": "charitable-congo"
   },
   "source": [
    "* **Volumen de pedidos:** La diferencia más evidente es el volumen total de pedidos. Los miercoles superan ampliamente a los sabados en número de pedidos en casi todas las horas del día.\n",
    "\n",
    "\n",
    "* **Patrones de distribución:** Ambas gráficas presentan un patrón bimodal con dos picos claros.\n",
    "\n",
    "\n",
    "* **Horarios de mayor actividad:** En los miercoles, los picos de actividad se concentran en la mañana y la tarde-noche, mientras que en los sabados hay una menor demanda y se produce un evento extraordinario a las 15:00 hrs con un mayor numero de pedidos en comparación al miercoles a esa misma hora."
   ]
  },
  {
   "cell_type": "markdown",
   "id": "e3891143",
   "metadata": {
    "id": "e3891143"
   },
   "source": [
    "### [B2] ¿Cuál es la distribución para el número de pedidos por cliente?"
   ]
  },
  {
   "cell_type": "code",
   "execution_count": 45,
   "id": "d8c26c23",
   "metadata": {
    "id": "d8c26c23"
   },
   "outputs": [
    {
     "data": {
      "image/png": "[encoded data removed]",
      "text/plain": [
       "<Figure size 720x432 with 1 Axes>"
      ]
     },
     "metadata": {
      "needs_background": "light"
     },
     "output_type": "display_data"
    }
   ],
   "source": [
    "import matplotlib.pyplot as plt\n",
    "\n",
    "# Contar la cantidad de órdenes que cada usuario ha realizado\n",
    "order_counts_per_user = orders['user_id'].value_counts()\n",
    "\n",
    "# Contar la cantidad de usuarios que han realizado cada cantidad de órdenes\n",
    "user_counts_per_order = order_counts_per_user.value_counts().sort_index()\n",
    "\n",
    "# Crear el gráfico de barras\n",
    "plt.figure(figsize=(10, 6))\n",
    "plt.bar(user_counts_per_order.index, user_counts_per_order, color='skyblue')\n",
    "\n",
    "# Añadir etiquetas y título\n",
    "plt.title('Número de Órdenes por Cliente')\n",
    "plt.xlabel('Número de Órdenes')\n",
    "plt.ylabel('Número de Clientes')\n",
    "\n",
    "# Mostrar el gráfico\n",
    "plt.xticks(range(1, user_counts_per_order.index.max() + 1))\n",
    "plt.grid(axis='y', linestyle='--', alpha=0.7)\n",
    "plt.show()"
   ]
  },
  {
   "cell_type": "markdown",
   "id": "e7d7d02c",
   "metadata": {
    "id": "00e69a66"
   },
   "source": [
    "Se observa una distribución exponencial negativa descendente. Hay una gran cantidad de clientes que han comprado una sola vez, luego hay un porcentaje de retención constante compra a compra de alrededor de 60 %."
   ]
  },
  {
   "cell_type": "markdown",
   "id": "54a0319c",
   "metadata": {
    "id": "54a0319c"
   },
   "source": [
    "### [B3] ¿Cuáles son los 20 productos más populares (muestra su ID y nombre)?"
   ]
  },
  {
   "cell_type": "code",
   "execution_count": 46,
   "id": "exterior-arizona",
   "metadata": {
    "id": "exterior-arizona",
    "scrolled": true
   },
   "outputs": [
    {
     "data": {
      "text/html": [
       "<div>\n",
       "<style scoped>\n",
       "    .dataframe tbody tr th:only-of-type {\n",
       "        vertical-align: middle;\n",
       "    }\n",
       "\n",
       "    .dataframe tbody tr th {\n",
       "        vertical-align: top;\n",
       "    }\n",
       "\n",
       "    .dataframe thead th {\n",
       "        text-align: right;\n",
       "    }\n",
       "</style>\n",
       "<table border=\"1\" class=\"dataframe\">\n",
       "  <thead>\n",
       "    <tr style=\"text-align: right;\">\n",
       "      <th></th>\n",
       "      <th>product_id</th>\n",
       "      <th>product_name</th>\n",
       "      <th>frequency</th>\n",
       "    </tr>\n",
       "  </thead>\n",
       "  <tbody>\n",
       "    <tr>\n",
       "      <th>1</th>\n",
       "      <td>5876</td>\n",
       "      <td>Organic Lemon</td>\n",
       "      <td>66050</td>\n",
       "    </tr>\n",
       "    <tr>\n",
       "      <th>2</th>\n",
       "      <td>8277</td>\n",
       "      <td>Apple Honeycrisp Organic</td>\n",
       "      <td>53297</td>\n",
       "    </tr>\n",
       "    <tr>\n",
       "      <th>3</th>\n",
       "      <td>13176</td>\n",
       "      <td>Bag of Organic Bananas</td>\n",
       "      <td>37039</td>\n",
       "    </tr>\n",
       "    <tr>\n",
       "      <th>4</th>\n",
       "      <td>16797</td>\n",
       "      <td>Strawberries</td>\n",
       "      <td>33971</td>\n",
       "    </tr>\n",
       "    <tr>\n",
       "      <th>5</th>\n",
       "      <td>21137</td>\n",
       "      <td>Organic Strawberries</td>\n",
       "      <td>29773</td>\n",
       "    </tr>\n",
       "    <tr>\n",
       "      <th>6</th>\n",
       "      <td>21903</td>\n",
       "      <td>Organic Baby Spinach</td>\n",
       "      <td>24689</td>\n",
       "    </tr>\n",
       "    <tr>\n",
       "      <th>7</th>\n",
       "      <td>22935</td>\n",
       "      <td>Organic Yellow Onion</td>\n",
       "      <td>21495</td>\n",
       "    </tr>\n",
       "    <tr>\n",
       "      <th>8</th>\n",
       "      <td>24852</td>\n",
       "      <td>Banana</td>\n",
       "      <td>20018</td>\n",
       "    </tr>\n",
       "    <tr>\n",
       "      <th>9</th>\n",
       "      <td>24964</td>\n",
       "      <td>Organic Garlic</td>\n",
       "      <td>19690</td>\n",
       "    </tr>\n",
       "    <tr>\n",
       "      <th>10</th>\n",
       "      <td>26209</td>\n",
       "      <td>Limes</td>\n",
       "      <td>19600</td>\n",
       "    </tr>\n",
       "    <tr>\n",
       "      <th>11</th>\n",
       "      <td>27845</td>\n",
       "      <td>Organic Whole Milk</td>\n",
       "      <td>19197</td>\n",
       "    </tr>\n",
       "    <tr>\n",
       "      <th>12</th>\n",
       "      <td>27966</td>\n",
       "      <td>Organic Raspberries</td>\n",
       "      <td>15898</td>\n",
       "    </tr>\n",
       "    <tr>\n",
       "      <th>13</th>\n",
       "      <td>28204</td>\n",
       "      <td>Organic Fuji Apple</td>\n",
       "      <td>15292</td>\n",
       "    </tr>\n",
       "    <tr>\n",
       "      <th>14</th>\n",
       "      <td>39275</td>\n",
       "      <td>Organic Blueberries</td>\n",
       "      <td>14584</td>\n",
       "    </tr>\n",
       "    <tr>\n",
       "      <th>15</th>\n",
       "      <td>40706</td>\n",
       "      <td>Organic Grape Tomatoes</td>\n",
       "      <td>13879</td>\n",
       "    </tr>\n",
       "    <tr>\n",
       "      <th>16</th>\n",
       "      <td>45007</td>\n",
       "      <td>Organic Zucchini</td>\n",
       "      <td>13675</td>\n",
       "    </tr>\n",
       "    <tr>\n",
       "      <th>17</th>\n",
       "      <td>47209</td>\n",
       "      <td>Organic Hass Avocado</td>\n",
       "      <td>12544</td>\n",
       "    </tr>\n",
       "    <tr>\n",
       "      <th>18</th>\n",
       "      <td>47626</td>\n",
       "      <td>Large Lemon</td>\n",
       "      <td>12232</td>\n",
       "    </tr>\n",
       "    <tr>\n",
       "      <th>19</th>\n",
       "      <td>47766</td>\n",
       "      <td>Organic Avocado</td>\n",
       "      <td>11993</td>\n",
       "    </tr>\n",
       "    <tr>\n",
       "      <th>20</th>\n",
       "      <td>49683</td>\n",
       "      <td>Cucumber Kirby</td>\n",
       "      <td>11781</td>\n",
       "    </tr>\n",
       "  </tbody>\n",
       "</table>\n",
       "</div>"
      ],
      "text/plain": [
       "    product_id              product_name  frequency\n",
       "1         5876             Organic Lemon      66050\n",
       "2         8277  Apple Honeycrisp Organic      53297\n",
       "3        13176    Bag of Organic Bananas      37039\n",
       "4        16797              Strawberries      33971\n",
       "5        21137      Organic Strawberries      29773\n",
       "6        21903      Organic Baby Spinach      24689\n",
       "7        22935      Organic Yellow Onion      21495\n",
       "8        24852                    Banana      20018\n",
       "9        24964            Organic Garlic      19690\n",
       "10       26209                     Limes      19600\n",
       "11       27845        Organic Whole Milk      19197\n",
       "12       27966       Organic Raspberries      15898\n",
       "13       28204        Organic Fuji Apple      15292\n",
       "14       39275       Organic Blueberries      14584\n",
       "15       40706    Organic Grape Tomatoes      13879\n",
       "16       45007          Organic Zucchini      13675\n",
       "17       47209      Organic Hass Avocado      12544\n",
       "18       47626               Large Lemon      12232\n",
       "19       47766           Organic Avocado      11993\n",
       "20       49683            Cucumber Kirby      11781"
      ]
     },
     "execution_count": 46,
     "metadata": {},
     "output_type": "execute_result"
    }
   ],
   "source": [
    "# Paso 1: Contar la frecuencia de cada producto\n",
    "product_frequency = order_products['product_id'].value_counts()\n",
    "\n",
    "# Paso 2: Ordenar los resultados para encontrar los productos más pedidos\n",
    "top_products_ids = product_frequency.head(20).index\n",
    "\n",
    "# Paso 3: Unir esta información con la tabla 'products' para obtener los nombres de los productos\n",
    "top_products = products[products['product_id'].isin(top_products_ids)][['product_id', 'product_name']]\n",
    "\n",
    "# Paso 4: Obtener la frecuencia de cada producto\n",
    "top_products['frequency'] = top_products_ids.map(product_frequency)\n",
    "\n",
    "# Reiniciar el índice y establecerlo para que comience desde 1\n",
    "top_products.reset_index(drop=True, inplace=True)\n",
    "top_products.index += 1\n",
    "\n",
    "# Mostrar los 20 productos más populares junto con su ID, nombre y frecuencia\n",
    "top_products"
   ]
  },
  {
   "cell_type": "markdown",
   "id": "7df00f47",
   "metadata": {
    "id": "7df00f47"
   },
   "source": [
    "Observamos que los productos más populares son productos orgánicos y/o frutales, todos con una frequencia mayor a 11000. "
   ]
  },
  {
   "cell_type": "markdown",
   "id": "gross-theme",
   "metadata": {
    "id": "gross-theme"
   },
   "source": [
    "# [C]\n",
    "\n",
    "1. ¿Cuántos artículos suelen comprar las personas en un pedido? ¿Cómo es la distribución?\n",
    "2. ¿Cuáles son los 20 principales artículos que vuelven a pedirse con mayor frecuencia (muestra sus nombres e IDs de los productos)?\n",
    "3. Para cada producto, ¿cuál es la tasa de repetición del pedido (número de repeticiones de pedido/total de pedidos?\n",
    "4. Para cada cliente, ¿qué proporción de los productos que pidió ya los había pedido? Calcula la tasa de repetición de pedido para cada usuario en lugar de para cada producto.\n",
    "5. ¿Cuáles son los 20 principales artículos que la gente pone primero en sus carritos (muestra las IDs de los productos, sus nombres, y el número de veces en que fueron el primer artículo en añadirse al carrito)?"
   ]
  },
  {
   "cell_type": "markdown",
   "id": "romantic-deposit",
   "metadata": {
    "id": "romantic-deposit"
   },
   "source": [
    "### [C1] ¿Cuántos artículos compran normalmente las personas en un pedido? ¿Cómo es la distribución?"
   ]
  },
  {
   "cell_type": "code",
   "execution_count": 47,
   "id": "virtual-punch",
   "metadata": {
    "id": "virtual-punch"
   },
   "outputs": [
    {
     "name": "stdout",
     "output_type": "stream",
     "text": [
      "Número promedio de productos diferentes por pedido: 10.098983215049127\n"
     ]
    },
    {
     "data": {
      "image/png": "[encoded data removed]",
      "text/plain": [
       "<Figure size 720x432 with 1 Axes>"
      ]
     },
     "metadata": {
      "needs_background": "light"
     },
     "output_type": "display_data"
    }
   ],
   "source": [
    "# Paso 1: Contar el número de productos diferentes por pedido\n",
    "products_per_order = order_products.groupby('order_id')['product_id'].nunique()\n",
    "\n",
    "# Paso 2: Calcular el número promedio de productos diferentes por pedido\n",
    "average_products_per_order = products_per_order.mean()\n",
    "print(\"Número promedio de productos diferentes por pedido:\", average_products_per_order)\n",
    "\n",
    "# Paso 3: Crear un histograma para visualizar la distribución\n",
    "import matplotlib.pyplot as plt\n",
    "\n",
    "plt.figure(figsize=(10, 6))\n",
    "plt.hist(products_per_order, bins=30, color='skyblue', edgecolor='black')\n",
    "plt.title('Distribución del número de productos diferentes por pedido')\n",
    "plt.xlabel('Número de productos diferentes por pedido')\n",
    "plt.ylabel('Frecuencia')\n",
    "plt.grid(True)\n",
    "\n",
    "# Fijar los límites del eje x de 0 a 50\n",
    "plt.xlim(0, 50)\n",
    "\n",
    "plt.show()"
   ]
  },
  {
   "cell_type": "markdown",
   "id": "designed-mortality",
   "metadata": {
    "id": "designed-mortality"
   },
   "source": [
    "Se observa una tendencia descendente a medida que aumenta el numero de productos. La distribución claramente se concentra entre 0 - 5 productos con una frecuencia de mas de 140000."
   ]
  },
  {
   "cell_type": "markdown",
   "id": "5e6b5537",
   "metadata": {
    "id": "5e6b5537"
   },
   "source": [
    "### [C2] ¿Cuáles son los 20 principales artículos que vuelven a pedirse con mayor frecuencia (muestra sus nombres e IDs de los productos)?"
   ]
  },
  {
   "cell_type": "code",
   "execution_count": 48,
   "id": "769fa8bc",
   "metadata": {
    "scrolled": true
   },
   "outputs": [
    {
     "data": {
      "text/plain": [
       "product_id  product_name            \n",
       "24852       Banana                      55763\n",
       "13176       Bag of Organic Bananas      44450\n",
       "21137       Organic Strawberries        28639\n",
       "21903       Organic Baby Spinach        26233\n",
       "47209       Organic Hass Avocado        23629\n",
       "47766       Organic Avocado             18743\n",
       "27845       Organic Whole Milk          16251\n",
       "47626       Large Lemon                 15044\n",
       "27966       Organic Raspberries         14748\n",
       "16797       Strawberries                13945\n",
       "26209       Limes                       13327\n",
       "22935       Organic Yellow Onion        11145\n",
       "24964       Organic Garlic              10411\n",
       "45007       Organic Zucchini            10076\n",
       "49683       Cucumber Kirby               9538\n",
       "28204       Organic Fuji Apple           8989\n",
       "8277        Apple Honeycrisp Organic     8836\n",
       "39275       Organic Blueberries          8799\n",
       "5876        Organic Lemon                8412\n",
       "49235       Organic Half & Half          8389\n",
       "dtype: int64"
      ]
     },
     "execution_count": 48,
     "metadata": {},
     "output_type": "execute_result"
    }
   ],
   "source": [
    "import pandas as pd\n",
    "import matplotlib.pyplot as plt\n",
    "\n",
    "# Filtrar solo las órdenes donde el producto fue reordenado\n",
    "reordered_frequency = order_products[order_products['reordered'] == 1]\n",
    "\n",
    "# Unir con el DataFrame de productos para asegurar la correcta correspondencia de nombres\n",
    "df_merge = reordered_frequency.merge(products, on=\"product_id\")\n",
    "\n",
    "# Agrupar por ID y nombre del producto, contar y ordenar\n",
    "top_reordered = df_merge.groupby([\"product_id\", \"product_name\"]).size().sort_values(ascending=False).head(20)\n",
    "\n",
    "# Mostrar Tabla Obtenida\n",
    "top_reordered"
   ]
  },
  {
   "cell_type": "code",
   "execution_count": 49,
   "id": "8f178b1f",
   "metadata": {},
   "outputs": [
    {
     "name": "stdout",
     "output_type": "stream",
     "text": [
      "product_id  product_name            \n",
      "24852       Banana                      55763\n",
      "13176       Bag of Organic Bananas      44450\n",
      "21137       Organic Strawberries        28639\n",
      "21903       Organic Baby Spinach        26233\n",
      "47209       Organic Hass Avocado        23629\n",
      "47766       Organic Avocado             18743\n",
      "27845       Organic Whole Milk          16251\n",
      "47626       Large Lemon                 15044\n",
      "27966       Organic Raspberries         14748\n",
      "16797       Strawberries                13945\n",
      "26209       Limes                       13327\n",
      "22935       Organic Yellow Onion        11145\n",
      "24964       Organic Garlic              10411\n",
      "45007       Organic Zucchini            10076\n",
      "49683       Cucumber Kirby               9538\n",
      "28204       Organic Fuji Apple           8989\n",
      "8277        Apple Honeycrisp Organic     8836\n",
      "39275       Organic Blueberries          8799\n",
      "5876        Organic Lemon                8412\n",
      "49235       Organic Half & Half          8389\n",
      "dtype: int64\n"
     ]
    },
    {
     "data": {
      "image/png": "[encoded data removed]",
      "text/plain": [
       "<Figure size 864x576 with 1 Axes>"
      ]
     },
     "metadata": {
      "needs_background": "light"
     },
     "output_type": "display_data"
    }
   ],
   "source": [
    "import pandas as pd\n",
    "import matplotlib.pyplot as plt\n",
    "\n",
    "# Filtrar solo las órdenes donde el producto fue reordenado\n",
    "reordered_frequency = order_products[order_products['reordered'] == 1]\n",
    "\n",
    "# Unir con el DataFrame de productos para asegurar la correcta correspondencia de nombres\n",
    "df_merge = reordered_frequency.merge(products, on=\"product_id\")\n",
    "\n",
    "# Agrupar por ID y nombre del producto, contar y ordenar\n",
    "top_reordered = df_merge.groupby([\"product_id\", \"product_name\"]).size().sort_values(ascending=False).head(20)\n",
    "\n",
    "# Mostrar Tabla Obtenida\n",
    "print(top_reordered)\n",
    "\n",
    "# Graficar\n",
    "plt.figure(figsize=(12, 8))\n",
    "top_reordered.sort_values().plot(kind='barh')\n",
    "plt.xlabel('Frecuencia')\n",
    "plt.ylabel('Producto')\n",
    "plt.title('Top 20 productos más reordenados')\n",
    "plt.show()"
   ]
  },
  {
   "cell_type": "markdown",
   "id": "80e70c74",
   "metadata": {
    "id": "80e70c74"
   },
   "source": [
    "El producto que se vuelve a pedir con mas frecuencia es **Banana** con una frecuencia de mas de 50000. "
   ]
  },
  {
   "cell_type": "markdown",
   "id": "9d312b14",
   "metadata": {
    "id": "9d312b14"
   },
   "source": [
    "### [C3] Para cada producto, ¿cuál es la proporción de las veces que se pide y que se vuelve a pedir?"
   ]
  },
  {
   "cell_type": "code",
   "execution_count": 50,
   "id": "8ae9f4b1",
   "metadata": {
    "id": "8ae9f4b1"
   },
   "outputs": [
    {
     "data": {
      "text/html": [
       "<div>\n",
       "<style scoped>\n",
       "    .dataframe tbody tr th:only-of-type {\n",
       "        vertical-align: middle;\n",
       "    }\n",
       "\n",
       "    .dataframe tbody tr th {\n",
       "        vertical-align: top;\n",
       "    }\n",
       "\n",
       "    .dataframe thead th {\n",
       "        text-align: right;\n",
       "    }\n",
       "</style>\n",
       "<table border=\"1\" class=\"dataframe\">\n",
       "  <thead>\n",
       "    <tr style=\"text-align: right;\">\n",
       "      <th></th>\n",
       "      <th>order_id</th>\n",
       "      <th>product_id</th>\n",
       "      <th>add_to_cart_order</th>\n",
       "      <th>reordered</th>\n",
       "      <th>reordered_orders</th>\n",
       "      <th>reorder_ratio</th>\n",
       "    </tr>\n",
       "  </thead>\n",
       "  <tbody>\n",
       "    <tr>\n",
       "      <th>0</th>\n",
       "      <td>2141543</td>\n",
       "      <td>11440</td>\n",
       "      <td>17</td>\n",
       "      <td>0</td>\n",
       "      <td>841.0</td>\n",
       "      <td>0.703177</td>\n",
       "    </tr>\n",
       "    <tr>\n",
       "      <th>1</th>\n",
       "      <td>567889</td>\n",
       "      <td>1560</td>\n",
       "      <td>1</td>\n",
       "      <td>1</td>\n",
       "      <td>95.0</td>\n",
       "      <td>0.678571</td>\n",
       "    </tr>\n",
       "    <tr>\n",
       "      <th>2</th>\n",
       "      <td>2261212</td>\n",
       "      <td>26683</td>\n",
       "      <td>1</td>\n",
       "      <td>1</td>\n",
       "      <td>252.0</td>\n",
       "      <td>0.604317</td>\n",
       "    </tr>\n",
       "    <tr>\n",
       "      <th>3</th>\n",
       "      <td>491251</td>\n",
       "      <td>8670</td>\n",
       "      <td>35</td>\n",
       "      <td>1</td>\n",
       "      <td>871.0</td>\n",
       "      <td>0.458421</td>\n",
       "    </tr>\n",
       "    <tr>\n",
       "      <th>4</th>\n",
       "      <td>2571142</td>\n",
       "      <td>1940</td>\n",
       "      <td>5</td>\n",
       "      <td>1</td>\n",
       "      <td>2565.0</td>\n",
       "      <td>0.791422</td>\n",
       "    </tr>\n",
       "  </tbody>\n",
       "</table>\n",
       "</div>"
      ],
      "text/plain": [
       "   order_id  product_id  add_to_cart_order  reordered  reordered_orders  \\\n",
       "0   2141543       11440                 17          0             841.0   \n",
       "1    567889        1560                  1          1              95.0   \n",
       "2   2261212       26683                  1          1             252.0   \n",
       "3    491251        8670                 35          1             871.0   \n",
       "4   2571142        1940                  5          1            2565.0   \n",
       "\n",
       "   reorder_ratio  \n",
       "0       0.703177  \n",
       "1       0.678571  \n",
       "2       0.604317  \n",
       "3       0.458421  \n",
       "4       0.791422  "
      ]
     },
     "execution_count": 50,
     "metadata": {},
     "output_type": "execute_result"
    }
   ],
   "source": [
    "# Calcular la frecuencia de repeticiones para cada producto\n",
    "reordered_frequency = order_products[order_products['reordered'] == 1]['product_id'].value_counts()\n",
    "\n",
    "# Crear un DataFrame para almacenar la frecuencia de repeticiones de cada producto\n",
    "reordered_df = pd.DataFrame({'product_id': reordered_frequency.index, 'reordered_orders': reordered_frequency.values})\n",
    "\n",
    "# Unir esta información con el DataFrame 'order_products' utilizando 'product_id' como clave de unión\n",
    "order_products = pd.merge(order_products, reordered_df, on='product_id', how='left')\n",
    "\n",
    "# Calcular la frecuencia total de cada producto\n",
    "product_frequency = order_products['product_id'].value_counts()\n",
    "\n",
    "# Calcular la proporción de repeticiones para cada producto y agregarla como una nueva columna\n",
    "order_products['reorder_ratio'] = order_products['reordered_orders'] / product_frequency[order_products['product_id']].values\n",
    "\n",
    "# Mostrar los primeros registros del DataFrame order_products para verificar los resultados\n",
    "order_products.head()"
   ]
  },
  {
   "cell_type": "code",
   "execution_count": 51,
   "id": "63a7ae26",
   "metadata": {},
   "outputs": [
    {
     "name": "stdout",
     "output_type": "stream",
     "text": [
      "0.5935812827481911\n"
     ]
    }
   ],
   "source": [
    "print(order_products['reorder_ratio'].mean())"
   ]
  },
  {
   "cell_type": "markdown",
   "id": "I10dEIAyldcO",
   "metadata": {
    "id": "I10dEIAyldcO"
   },
   "source": [
    "La proporcion promedio de veces que se vuelve a pedir un producto es alrededor de un 60% para todos los productos entregados por Instacart, es un buen indicador para poder crear promociones que permitan fidelizar clientes e ir incrementando aquellos ratios."
   ]
  },
  {
   "cell_type": "markdown",
   "id": "subject-boxing",
   "metadata": {
    "id": "subject-boxing"
   },
   "source": [
    "### [C4] Para cada cliente, ¿qué proporción de sus productos ya los había pedido?"
   ]
  },
  {
   "cell_type": "code",
   "execution_count": 52,
   "id": "medical-couple",
   "metadata": {
    "id": "medical-couple",
    "scrolled": true
   },
   "outputs": [
    {
     "name": "stdout",
     "output_type": "stream",
     "text": [
      "   order_id  product_id  add_to_cart_order  reordered  reordered_orders  \\\n",
      "0   2141543       11440                 17          0             841.0   \n",
      "1    567889        1560                  1          1              95.0   \n",
      "2   2261212       26683                  1          1             252.0   \n",
      "3    491251        8670                 35          1             871.0   \n",
      "4   2571142        1940                  5          1            2565.0   \n",
      "\n",
      "   reorder_ratio  reorder_ratio_per_customer  \n",
      "0       0.703177                         NaN  \n",
      "1       0.678571                         NaN  \n",
      "2       0.604317                    0.038462  \n",
      "3       0.458421                         NaN  \n",
      "4       0.791422                         NaN  \n"
     ]
    }
   ],
   "source": [
    "# Paso 1: Calcular la cantidad total de productos pedidos por cada clienteimport pandas as pd\n",
    "\n",
    "# Fusionar los dataframes order_products y orders para obtener user_id asociado a cada pedido\n",
    "merged_data = pd.merge(order_products, orders, on='order_id', how='left')\n",
    "\n",
    "# Paso 1: Calcular la cantidad total de productos pedidos por cada cliente\n",
    "total_products_per_customer = merged_data.groupby('user_id')['product_id'].count()\n",
    "\n",
    "# Paso 2: Calcular la cantidad total de productos que se vuelven a pedir por cada cliente\n",
    "reordered_products_per_customer = merged_data[merged_data['reordered'] == 1].groupby('user_id')['product_id'].count()\n",
    "\n",
    "# Paso 3: Calcular la proporción de productos que se vuelven a pedir para cada cliente\n",
    "reorder_ratio_per_customer = reordered_products_per_customer / total_products_per_customer\n",
    "\n",
    "# Paso 4: Agregar la columna al DataFrame order_products\n",
    "order_products['reorder_ratio_per_customer'] = reorder_ratio_per_customer\n",
    "\n",
    "# Mostrar los primeros registros del DataFrame con la nueva columna\n",
    "print(order_products.head())"
   ]
  },
  {
   "cell_type": "code",
   "execution_count": 53,
   "id": "79e5aaaf",
   "metadata": {},
   "outputs": [
    {
     "data": {
      "text/plain": [
       "user_id\n",
       "2         0.038462\n",
       "4              NaN\n",
       "5         0.666667\n",
       "6              NaN\n",
       "7         0.928571\n",
       "            ...   \n",
       "206203    0.222222\n",
       "206206    0.714286\n",
       "206207    0.891304\n",
       "206208    0.696000\n",
       "206209    0.320000\n",
       "Name: product_id, Length: 149626, dtype: float64"
      ]
     },
     "execution_count": 53,
     "metadata": {},
     "output_type": "execute_result"
    }
   ],
   "source": [
    "reorder_ratio_per_customer"
   ]
  },
  {
   "cell_type": "code",
   "execution_count": 54,
   "id": "8892e4b4",
   "metadata": {
    "id": "8892e4b4"
   },
   "outputs": [
    {
     "name": "stdout",
     "output_type": "stream",
     "text": [
      "0.556751215911923\n"
     ]
    }
   ],
   "source": [
    "print(order_products['reorder_ratio_per_customer'].mean()) # Promedio de reordenes de productos por cliente"
   ]
  },
  {
   "cell_type": "markdown",
   "id": "BgJSvXDsleXz",
   "metadata": {
    "id": "BgJSvXDsleXz"
   },
   "source": [
    "Observamos que en promedio un 56% de los clientes ya habia comprado el mismo producto anteriormente. Eso explica cierta conexión entre el producto comprado por los clientes y la plataforma usada en este caso que es Instacart. "
   ]
  },
  {
   "cell_type": "markdown",
   "id": "92d35137",
   "metadata": {
    "id": "92d35137"
   },
   "source": [
    "### [C5] ¿Cuáles son los 20 principales artículos que las personas ponen primero en sus carritos?"
   ]
  },
  {
   "cell_type": "code",
   "execution_count": 55,
   "id": "23d8f0f3",
   "metadata": {},
   "outputs": [
    {
     "name": "stdout",
     "output_type": "stream",
     "text": [
      "24852    15562\n",
      "13176    11026\n",
      "27845     4363\n",
      "21137     3946\n",
      "47209     3390\n",
      "21903     3336\n",
      "47766     3044\n",
      "19660     2336\n",
      "16797     2308\n",
      "27966     2024\n",
      "44632     1914\n",
      "49235     1797\n",
      "47626     1737\n",
      "196       1733\n",
      "38689     1397\n",
      "26209     1370\n",
      "12341     1340\n",
      "5785      1310\n",
      "27086     1309\n",
      "22935     1246\n",
      "Name: product_id, dtype: int64\n"
     ]
    }
   ],
   "source": [
    "# Filtrar los productos que se agregaron primero al carrito (add_to_cart_order == 1)\n",
    "first_in_cart = order_products[order_products['add_to_cart_order'] == 1]\n",
    "\n",
    "# Contar la frecuencia de cada producto que se agregó primero al carrito\n",
    "first_in_cart_frequency = first_in_cart['product_id'].value_counts()\n",
    "\n",
    "# Seleccionar los 20 principales artículos que se ponen primero en los carritos\n",
    "top_first_in_cart = first_in_cart_frequency.head(20)\n",
    "\n",
    "# Mostrar los resultados\n",
    "print(top_first_in_cart)"
   ]
  },
  {
   "cell_type": "code",
   "execution_count": 56,
   "id": "5e05adf8",
   "metadata": {},
   "outputs": [
    {
     "name": "stdout",
     "output_type": "stream",
     "text": [
      "    product_id                 product_name  count\n",
      "0        24852                       Banana  15562\n",
      "1        13176       Bag of Organic Bananas  11026\n",
      "2        27845           Organic Whole Milk   4363\n",
      "3        21137         Organic Strawberries   3946\n",
      "4        47209         Organic Hass Avocado   3390\n",
      "5        21903         Organic Baby Spinach   3336\n",
      "6        47766              Organic Avocado   3044\n",
      "7        19660                 Spring Water   2336\n",
      "8        16797                 Strawberries   2308\n",
      "9        27966          Organic Raspberries   2024\n",
      "10       44632   Sparkling Water Grapefruit   1914\n",
      "11       49235          Organic Half & Half   1797\n",
      "12       47626                  Large Lemon   1737\n",
      "13         196                         Soda   1733\n",
      "14       38689     Organic Reduced Fat Milk   1397\n",
      "15       26209                        Limes   1370\n",
      "16       12341                Hass Avocados   1340\n",
      "17        5785  Organic Reduced Fat 2% Milk   1310\n",
      "18       27086                  Half & Half   1309\n",
      "19       43352                  Raspberries   1246\n"
     ]
    },
    {
     "data": {
      "image/png": "[encoded data removed]",
      "text/plain": [
       "<Figure size 864x576 with 1 Axes>"
      ]
     },
     "metadata": {
      "needs_background": "light"
     },
     "output_type": "display_data"
    }
   ],
   "source": [
    "import pandas as pd\n",
    "import matplotlib.pyplot as plt\n",
    "\n",
    "# Primero, realiza un merge de ambos DataFrames para asegurarte de tener toda la información necesaria en uno solo\n",
    "df_merge = order_products.merge(products, on=\"product_id\")\n",
    "\n",
    "# Filtrar los productos que se agregaron primero al carrito\n",
    "first_in_cart = df_merge[df_merge[\"add_to_cart_order\"] == 1]\n",
    "\n",
    "# Agrupar por product_id y product_name, contar y ordenar para obtener los 20 principales productos\n",
    "top_first_in_cart = first_in_cart.groupby([\"product_id\", \"product_name\"])[\"product_id\"].count().sort_values(ascending=False).head(20)\n",
    "\n",
    "# Convertir a DataFrame para facilitar la visualización\n",
    "top_first_in_cart_df = top_first_in_cart.reset_index(name='count')\n",
    "\n",
    "# Mostrar los resultados\n",
    "print(top_first_in_cart_df)\n",
    "\n",
    "# Crear el gráfico de barras\n",
    "plt.figure(figsize=(12, 8))\n",
    "bars = plt.barh(top_first_in_cart_df['product_name'], top_first_in_cart_df['count'], color='skyblue')\n",
    "plt.xlabel('Número de veces que se agregó primero al carrito')\n",
    "plt.ylabel('Producto')\n",
    "plt.title('Top 20 Productos Más Frecuentemente Agregados Primero en el Carrito')\n",
    "plt.gca().invert_yaxis()  # Invertir el eje y para que los más frecuentes estén arriba\n",
    "\n",
    "# Agregar etiquetas a las barras para mostrar las cantidades exactas\n",
    "for bar in bars:\n",
    "    plt.text(bar.get_width(), bar.get_y() + bar.get_height()/2, f'{int(bar.get_width())}', \n",
    "             va='center', ha='left', fontsize=10, color='black')\n",
    "\n",
    "plt.show()"
   ]
  },
  {
   "cell_type": "markdown",
   "id": "28ce9872",
   "metadata": {
    "id": "28ce9872"
   },
   "source": [
    "El articulo mas puesto en primer lugar por los clientes en el carrito es la **Banana** y **Bag of Organic Bananas**, luego productos orgánicos y/ frutales."
   ]
  },
  {
   "cell_type": "markdown",
   "id": "uITbFCEoDosC",
   "metadata": {
    "id": "uITbFCEoDosC"
   },
   "source": [
    "### Conclusion general del proyecto:"
   ]
  },
  {
   "cell_type": "markdown",
   "id": "f0d0c7a2",
   "metadata": {
    "id": "Nk-4GS7mDwqY"
   },
   "source": [
    "A lo largo de este proyecto, hemos explorado exhaustivamente los datos de pedidos de un supermercado para comprender mejor el comportamiento de compra de los clientes. Utilizando técnicas de análisis de datos y visualización, hemos identificado patrones y tendencias importantes que pueden ayudar a la empresa a tomar decisiones informadas para mejorar la experiencia del cliente y aumentar las ventas.\n",
    "\n",
    "Comenzamos por preprocesar los datos, asegurándonos de manejar valores faltantes y ajustar el formato de las columnas según fuera necesario. Luego, realizamos análisis específicos para responder preguntas clave:\n",
    "\n",
    "**1. Análisis del horario de compra:** Verificamos la distribución de pedidos a lo largo del día y de la semana para comprender cuándo los clientes prefieren realizar sus compras.\n",
    "\n",
    "\n",
    "**2. Identificación de productos populares:** Utilizando técnicas de conteo y agrupación, identificamos los productos más populares en términos de frecuencia de pedido y repetición.\n",
    "\n",
    "\n",
    "**3. Análisis de patrones de repetición de compra:** Exploramos cuántos clientes vuelven a pedir productos y calculamos la proporción de productos que se vuelven a pedir para cada cliente.\n",
    "\n",
    "\n",
    "**4. Visualización de resultados:** Presentamos nuestros hallazgos de manera clara y efectiva utilizando diversos tipos de visualizaciones, como gráficos de barras y gráficos de líneas.\n",
    "\n",
    "\n",
    "En resumen, este proyecto ha proporcionado una comprensión profunda del comportamiento de compra de los clientes en el supermercado, lo que puede ser invaluable para la toma de decisiones comerciales y estratégicas en el futuro. Además, hemos demostrado cómo el análisis de datos puede utilizarse para obtener información útil y tomar decisiones fundamentadas en el ámbito empresarial."
   ]
  }
 ],
 "metadata": {
  "colab": {
   "provenance": []
  },
  "kernelspec": {
   "display_name": "Python 3 (ipykernel)",
   "language": "python",
   "name": "python3"
  },
  "language_info": {
   "codemirror_mode": {
    "name": "ipython",
    "version": 3
   },
   "file_extension": ".py",
   "mimetype": "text/x-python",
   "name": "python",
   "nbconvert_exporter": "python",
   "pygments_lexer": "ipython3",
   "version": "3.9.19"
  },
  "toc": {
   "base_numbering": 1,
   "nav_menu": {},
   "number_sections": true,
   "sideBar": true,
   "skip_h1_title": true,
   "title_cell": "Table of Contents",
   "title_sidebar": "Contents",
   "toc_cell": false,
   "toc_position": {},
   "toc_section_display": true,
   "toc_window_display": false
  },
  "vscode": {
   "interpreter": {
    "hash": "01a7be9ec63e704a62cefc5fe7a4756944464ee731be31632bdf42a4cb4688cf"
   }
  }
 },
 "nbformat": 4,
 "nbformat_minor": 5
}
